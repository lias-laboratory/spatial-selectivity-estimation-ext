{
 "cells": [
  {
   "cell_type": "code",
   "execution_count": 1,
   "id": "cd592b1b",
   "metadata": {
    "execution": {
     "iopub.execute_input": "2025-04-18T19:49:57.811154Z",
     "iopub.status.busy": "2025-04-18T19:49:57.810454Z",
     "iopub.status.idle": "2025-04-18T22:33:15.058736Z",
     "shell.execute_reply": "2025-04-18T22:33:15.057827Z"
    },
    "papermill": {
     "duration": 9797.261038,
     "end_time": "2025-04-18T22:33:15.062024",
     "exception": false,
     "start_time": "2025-04-18T19:49:57.800986",
     "status": "completed"
    },
    "tags": []
   },
   "outputs": [
    {
     "name": "stdout",
     "output_type": "stream",
     "text": [
      "Using 29 of 30 available CPU cores\n",
      "Loading spatial statistics...\n",
      "Finding dataset files...\n",
      "Found 14 datasets to process\n"
     ]
    },
    {
     "data": {
      "application/vnd.jupyter.widget-view+json": {
       "model_id": "11c620f1cb8244a69650d5ecd1289550",
       "version_major": 2,
       "version_minor": 0
      },
      "text/plain": [
       "Processing datasets:   0%|          | 0/14 [00:00<?, ?it/s]"
      ]
     },
     "metadata": {},
     "output_type": "display_data"
    },
    {
     "name": "stdout",
     "output_type": "stream",
     "text": [
      "Memory usage: 242.92 MB\n",
      "\n",
      "Processing dataset: craftwaysorted\n",
      "Universe boundaries for craftwaysorted: (-175.2000514, -65.2458821, 175.3397782, 69.6673353)\n",
      "Loading data from ../large_files/resultsDistance/craftwaysorted_results.csv\n",
      "Parsing object coordinates...\n"
     ]
    },
    {
     "name": "stdout",
     "output_type": "stream",
     "text": [
      "\n",
      "Basic statistics for craftwaysorted dataset:\n",
      "Max count: 100369.0\n",
      "Min count: 0.0\n",
      "Mean count: 11615.73\n",
      "Median count: 3842.00\n",
      "Total samples: 21822\n",
      "\n",
      "Calculating object features...\n",
      "Splitting data into train and test sets...\n",
      "Training set size: 17457\n",
      "\n",
      "Training with sample size: 17457\n",
      "Memory usage: 249.64 MB\n",
      "Performing grid search for optimal parameters...\n"
     ]
    },
    {
     "name": "stderr",
     "output_type": "stream",
     "text": [
      "/home/adminlias/anaconda3/lib/python3.12/site-packages/numpy/ma/core.py:2820: RuntimeWarning: invalid value encountered in cast\n",
      "  _data = np.array(data, dtype=dtype, copy=copy,\n"
     ]
    },
    {
     "name": "stdout",
     "output_type": "stream",
     "text": [
      "Grid search complete in 26.51s\n",
      "Best parameters: {'algorithm': 'auto', 'n_neighbors': 5, 'weights': 'distance'}\n",
      "Training KNN model...\n",
      "Making predictions...\n"
     ]
    },
    {
     "name": "stdout",
     "output_type": "stream",
     "text": [
      "Calculating performance metrics...\n",
      "Measuring prediction performance...\n"
     ]
    },
    {
     "name": "stdout",
     "output_type": "stream",
     "text": [
      "Saving model...\n",
      "Model size: 1174.28 KB\n",
      "\n",
      "Results for craftwaysorted, Sample Size: 17457\n",
      "Grid Search Time: 26.51s, Training Time: 0.01s\n",
      "KNN Parameters: {'algorithm': 'auto', 'n_neighbors': 5, 'weights': 'distance'}\n",
      "Performance: R² = 0.9511, MAE = 1460.32, MAPE = 108.79%\n",
      "q-score: 2.13\n",
      "Prediction time: 399.3236 μs/sample\n",
      "I/O: Reads=0.000000, Writes=0.000069\n",
      "--------------------------------------------------------------------------------\n",
      "Generating prediction scatter plot...\n"
     ]
    },
    {
     "name": "stdout",
     "output_type": "stream",
     "text": [
      "Generating side-by-side comparison plot...\n"
     ]
    },
    {
     "name": "stdout",
     "output_type": "stream",
     "text": [
      "\n",
      "Training with sample size: 10000\n",
      "Memory usage: 269.89 MB\n",
      "Using best parameters from max scale: {'algorithm': 'auto', 'n_neighbors': 5, 'weights': 'distance'}\n",
      "Training KNN model...\n",
      "Making predictions...\n"
     ]
    },
    {
     "name": "stdout",
     "output_type": "stream",
     "text": [
      "Calculating performance metrics...\n",
      "Measuring prediction performance...\n"
     ]
    },
    {
     "name": "stdout",
     "output_type": "stream",
     "text": [
      "Saving model...\n",
      "Model size: 669.96 KB\n",
      "\n",
      "Results for craftwaysorted, Sample Size: 10000\n",
      "Grid Search Time: 0.00s, Training Time: 0.00s\n",
      "KNN Parameters: {'algorithm': 'auto', 'n_neighbors': 5, 'weights': 'distance'}\n",
      "Performance: R² = 0.9332, MAE = 1699.04, MAPE = 122.95%\n",
      "q-score: 2.27\n",
      "Prediction time: 393.1279 μs/sample\n",
      "I/O: Reads=0.000000, Writes=0.000000\n",
      "--------------------------------------------------------------------------------\n",
      "\n",
      "Training with sample size: 5000\n",
      "Memory usage: 272.73 MB\n",
      "Using best parameters from max scale: {'algorithm': 'auto', 'n_neighbors': 5, 'weights': 'distance'}\n",
      "Training KNN model...\n",
      "Making predictions...\n"
     ]
    },
    {
     "name": "stdout",
     "output_type": "stream",
     "text": [
      "Calculating performance metrics...\n",
      "Measuring prediction performance...\n"
     ]
    },
    {
     "name": "stdout",
     "output_type": "stream",
     "text": [
      "Saving model...\n",
      "Model size: 335.46 KB\n",
      "\n",
      "Results for craftwaysorted, Sample Size: 5000\n",
      "Grid Search Time: 0.00s, Training Time: 0.00s\n",
      "KNN Parameters: {'algorithm': 'auto', 'n_neighbors': 5, 'weights': 'distance'}\n",
      "Performance: R² = 0.9094, MAE = 2091.63, MAPE = 152.58%\n",
      "q-score: 2.60\n",
      "Prediction time: 332.9825 μs/sample\n",
      "I/O: Reads=0.000000, Writes=0.000000\n",
      "--------------------------------------------------------------------------------\n",
      "\n",
      "Training with sample size: 1000\n",
      "Memory usage: 272.95 MB\n",
      "Using best parameters from max scale: {'algorithm': 'auto', 'n_neighbors': 5, 'weights': 'distance'}\n",
      "Training KNN model...\n",
      "Making predictions...\n"
     ]
    },
    {
     "name": "stdout",
     "output_type": "stream",
     "text": [
      "Calculating performance metrics...\n",
      "Measuring prediction performance...\n"
     ]
    },
    {
     "name": "stdout",
     "output_type": "stream",
     "text": [
      "Saving model...\n",
      "Model size: 39.76 KB\n",
      "\n",
      "Results for craftwaysorted, Sample Size: 1000\n",
      "Grid Search Time: 0.00s, Training Time: 0.00s\n",
      "KNN Parameters: {'algorithm': 'auto', 'n_neighbors': 5, 'weights': 'distance'}\n",
      "Performance: R² = 0.8263, MAE = 3334.85, MAPE = 346.60%\n",
      "q-score: 4.63\n",
      "Prediction time: 177.3560 μs/sample\n",
      "I/O: Reads=0.000000, Writes=0.002360\n",
      "--------------------------------------------------------------------------------\n",
      "Saving results for craftwaysorted...\n",
      "Memory usage: 272.98 MB\n",
      "\n",
      "Processing dataset: powerthingwaysorted\n",
      "Universe boundaries for powerthingwaysorted: (-179.5002188, -75.1012051, 178.4574038, 82.5247908)\n",
      "Loading data from ../large_files/resultsDistance/powerthingwaysorted_results.csv\n"
     ]
    },
    {
     "name": "stdout",
     "output_type": "stream",
     "text": [
      "Parsing object coordinates...\n"
     ]
    },
    {
     "name": "stdout",
     "output_type": "stream",
     "text": [
      "\n",
      "Basic statistics for powerthingwaysorted dataset:\n",
      "Max count: 13577236.0\n",
      "Min count: 0.0\n",
      "Mean count: 885963.11\n",
      "Median count: 467788.00\n",
      "Total samples: 2717289\n",
      "\n",
      "Calculating object features...\n",
      "Splitting data into train and test sets...\n"
     ]
    },
    {
     "name": "stdout",
     "output_type": "stream",
     "text": [
      "Training set size: 2173831\n",
      "\n",
      "Training with sample size: 2173831\n",
      "Memory usage: 780.70 MB\n",
      "Performing grid search for optimal parameters...\n"
     ]
    },
    {
     "name": "stdout",
     "output_type": "stream",
     "text": [
      "Grid search complete in 6845.83s\n",
      "Best parameters: {'algorithm': 'auto', 'n_neighbors': 7, 'weights': 'distance'}\n",
      "Training KNN model...\n"
     ]
    },
    {
     "name": "stdout",
     "output_type": "stream",
     "text": [
      "Making predictions...\n"
     ]
    },
    {
     "name": "stdout",
     "output_type": "stream",
     "text": [
      "Calculating performance metrics...\n",
      "Measuring prediction performance...\n"
     ]
    },
    {
     "name": "stdout",
     "output_type": "stream",
     "text": [
      "Saving model...\n"
     ]
    },
    {
     "name": "stdout",
     "output_type": "stream",
     "text": [
      "Model size: 153919.68 KB\n",
      "\n",
      "Results for powerthingwaysorted, Sample Size: 2173831\n",
      "Grid Search Time: 6845.83s, Training Time: 3.22s\n",
      "KNN Parameters: {'algorithm': 'auto', 'n_neighbors': 7, 'weights': 'distance'}\n",
      "Performance: R² = 0.9973, MAE = 28531.54, MAPE = 42.18%\n",
      "q-score: 1.42\n",
      "Prediction time: 589.7201 μs/sample\n",
      "I/O: Reads=0.000022, Writes=0.000026\n",
      "--------------------------------------------------------------------------------\n",
      "Generating prediction scatter plot...\n"
     ]
    },
    {
     "name": "stdout",
     "output_type": "stream",
     "text": [
      "Generating side-by-side comparison plot...\n"
     ]
    },
    {
     "name": "stdout",
     "output_type": "stream",
     "text": [
      "\n",
      "Training with sample size: 2000000\n",
      "Memory usage: 1263.80 MB\n",
      "Using best parameters from max scale: {'algorithm': 'auto', 'n_neighbors': 7, 'weights': 'distance'}\n",
      "Training KNN model...\n"
     ]
    },
    {
     "name": "stdout",
     "output_type": "stream",
     "text": [
      "Making predictions...\n"
     ]
    },
    {
     "name": "stdout",
     "output_type": "stream",
     "text": [
      "Calculating performance metrics...\n",
      "Measuring prediction performance...\n"
     ]
    },
    {
     "name": "stdout",
     "output_type": "stream",
     "text": [
      "Saving model...\n"
     ]
    },
    {
     "name": "stdout",
     "output_type": "stream",
     "text": [
      "Model size: 142279.53 KB\n",
      "\n",
      "Results for powerthingwaysorted, Sample Size: 2000000\n",
      "Grid Search Time: 0.00s, Training Time: 2.72s\n",
      "KNN Parameters: {'algorithm': 'auto', 'n_neighbors': 7, 'weights': 'distance'}\n",
      "Performance: R² = 0.9971, MAE = 29198.49, MAPE = 43.48%\n",
      "q-score: 1.44\n",
      "Prediction time: 634.0142 μs/sample\n",
      "I/O: Reads=0.000033, Writes=0.000032\n",
      "--------------------------------------------------------------------------------\n",
      "\n",
      "Training with sample size: 1000000\n",
      "Memory usage: 1267.98 MB\n",
      "Using best parameters from max scale: {'algorithm': 'auto', 'n_neighbors': 7, 'weights': 'distance'}\n",
      "Training KNN model...\n"
     ]
    },
    {
     "name": "stdout",
     "output_type": "stream",
     "text": [
      "Making predictions...\n"
     ]
    },
    {
     "name": "stdout",
     "output_type": "stream",
     "text": [
      "Calculating performance metrics...\n",
      "Measuring prediction performance...\n"
     ]
    },
    {
     "name": "stdout",
     "output_type": "stream",
     "text": [
      "Saving model...\n"
     ]
    },
    {
     "name": "stdout",
     "output_type": "stream",
     "text": [
      "Model size: 70991.21 KB\n",
      "\n",
      "Results for powerthingwaysorted, Sample Size: 1000000\n",
      "Grid Search Time: 0.00s, Training Time: 1.07s\n",
      "KNN Parameters: {'algorithm': 'auto', 'n_neighbors': 7, 'weights': 'distance'}\n",
      "Performance: R² = 0.9956, MAE = 36130.88, MAPE = 55.37%\n",
      "q-score: 1.56\n",
      "Prediction time: 619.3079 μs/sample\n",
      "I/O: Reads=0.000022, Writes=0.000641\n",
      "--------------------------------------------------------------------------------\n",
      "\n",
      "Training with sample size: 500000\n",
      "Memory usage: 1261.28 MB\n",
      "Using best parameters from max scale: {'algorithm': 'auto', 'n_neighbors': 7, 'weights': 'distance'}\n",
      "Training KNN model...\n"
     ]
    },
    {
     "name": "stdout",
     "output_type": "stream",
     "text": [
      "Making predictions...\n"
     ]
    },
    {
     "name": "stdout",
     "output_type": "stream",
     "text": [
      "Calculating performance metrics...\n",
      "Measuring prediction performance...\n"
     ]
    },
    {
     "name": "stdout",
     "output_type": "stream",
     "text": [
      "Saving model...\n"
     ]
    },
    {
     "name": "stdout",
     "output_type": "stream",
     "text": [
      "Model size: 35381.36 KB\n",
      "\n",
      "Results for powerthingwaysorted, Sample Size: 500000\n",
      "Grid Search Time: 0.00s, Training Time: 0.39s\n",
      "KNN Parameters: {'algorithm': 'auto', 'n_neighbors': 7, 'weights': 'distance'}\n",
      "Performance: R² = 0.9932, MAE = 44649.41, MAPE = 71.76%\n",
      "q-score: 1.72\n",
      "Prediction time: 576.9513 μs/sample\n",
      "I/O: Reads=0.000022, Writes=0.000338\n",
      "--------------------------------------------------------------------------------\n",
      "\n",
      "Training with sample size: 100000\n",
      "Memory usage: 1244.01 MB\n",
      "Using best parameters from max scale: {'algorithm': 'auto', 'n_neighbors': 7, 'weights': 'distance'}\n",
      "Training KNN model...\n",
      "Making predictions...\n"
     ]
    },
    {
     "name": "stdout",
     "output_type": "stream",
     "text": [
      "Calculating performance metrics...\n",
      "Measuring prediction performance...\n"
     ]
    },
    {
     "name": "stdout",
     "output_type": "stream",
     "text": [
      "Saving model...\n"
     ]
    },
    {
     "name": "stdout",
     "output_type": "stream",
     "text": [
      "Model size: 6838.36 KB\n",
      "\n",
      "Results for powerthingwaysorted, Sample Size: 100000\n",
      "Grid Search Time: 0.00s, Training Time: 0.06s\n",
      "KNN Parameters: {'algorithm': 'auto', 'n_neighbors': 7, 'weights': 'distance'}\n",
      "Performance: R² = 0.9817, MAE = 73910.81, MAPE = 136.72%\n",
      "q-score: 2.36\n",
      "Prediction time: 639.5379 μs/sample\n",
      "I/O: Reads=0.000022, Writes=0.000179\n",
      "--------------------------------------------------------------------------------\n",
      "\n",
      "Training with sample size: 50000\n",
      "Memory usage: 1228.54 MB\n",
      "Using best parameters from max scale: {'algorithm': 'auto', 'n_neighbors': 7, 'weights': 'distance'}\n",
      "Training KNN model...\n",
      "Making predictions...\n"
     ]
    },
    {
     "name": "stdout",
     "output_type": "stream",
     "text": [
      "Calculating performance metrics...\n",
      "Measuring prediction performance...\n"
     ]
    },
    {
     "name": "stdout",
     "output_type": "stream",
     "text": [
      "Saving model...\n",
      "Model size: 3393.07 KB\n",
      "\n",
      "Results for powerthingwaysorted, Sample Size: 50000\n",
      "Grid Search Time: 0.00s, Training Time: 0.03s\n",
      "KNN Parameters: {'algorithm': 'auto', 'n_neighbors': 7, 'weights': 'distance'}\n",
      "Performance: R² = 0.9721, MAE = 92403.90, MAPE = 206.77%\n",
      "q-score: 3.00\n",
      "Prediction time: 658.4790 μs/sample\n",
      "I/O: Reads=0.000033, Writes=0.000062\n",
      "--------------------------------------------------------------------------------\n"
     ]
    },
    {
     "name": "stdout",
     "output_type": "stream",
     "text": [
      "\n",
      "Training with sample size: 10000\n",
      "Memory usage: 1228.54 MB\n",
      "Using best parameters from max scale: {'algorithm': 'auto', 'n_neighbors': 7, 'weights': 'distance'}\n",
      "Training KNN model...\n",
      "Making predictions...\n"
     ]
    },
    {
     "name": "stdout",
     "output_type": "stream",
     "text": [
      "Calculating performance metrics...\n",
      "Measuring prediction performance...\n"
     ]
    },
    {
     "name": "stdout",
     "output_type": "stream",
     "text": [
      "Saving model...\n",
      "Model size: 683.03 KB\n",
      "\n",
      "Results for powerthingwaysorted, Sample Size: 10000\n",
      "Grid Search Time: 0.00s, Training Time: 0.01s\n",
      "KNN Parameters: {'algorithm': 'auto', 'n_neighbors': 7, 'weights': 'distance'}\n",
      "Performance: R² = 0.9227, MAE = 158789.84, MAPE = 457.74%\n",
      "q-score: 5.40\n",
      "Prediction time: 484.9444 μs/sample\n",
      "I/O: Reads=0.000022, Writes=0.000023\n",
      "--------------------------------------------------------------------------------\n",
      "\n",
      "Training with sample size: 5000\n",
      "Memory usage: 1228.54 MB\n",
      "Using best parameters from max scale: {'algorithm': 'auto', 'n_neighbors': 7, 'weights': 'distance'}\n",
      "Training KNN model...\n",
      "Making predictions...\n"
     ]
    },
    {
     "name": "stdout",
     "output_type": "stream",
     "text": [
      "Calculating performance metrics...\n",
      "Measuring prediction performance...\n"
     ]
    },
    {
     "name": "stdout",
     "output_type": "stream",
     "text": [
      "Saving model...\n",
      "Model size: 341.54 KB\n",
      "\n",
      "Results for powerthingwaysorted, Sample Size: 5000\n",
      "Grid Search Time: 0.00s, Training Time: 0.00s\n",
      "KNN Parameters: {'algorithm': 'auto', 'n_neighbors': 7, 'weights': 'distance'}\n",
      "Performance: R² = 0.8868, MAE = 197785.37, MAPE = 637.69%\n",
      "q-score: 7.04\n",
      "Prediction time: 410.4020 μs/sample\n",
      "I/O: Reads=0.000011, Writes=0.000020\n",
      "--------------------------------------------------------------------------------\n",
      "\n",
      "Training with sample size: 1000\n",
      "Memory usage: 1228.54 MB\n",
      "Using best parameters from max scale: {'algorithm': 'auto', 'n_neighbors': 7, 'weights': 'distance'}\n",
      "Training KNN model...\n",
      "Making predictions...\n"
     ]
    },
    {
     "name": "stdout",
     "output_type": "stream",
     "text": [
      "Calculating performance metrics...\n",
      "Measuring prediction performance...\n"
     ]
    },
    {
     "name": "stdout",
     "output_type": "stream",
     "text": [
      "Saving model...\n",
      "Model size: 40.37 KB\n",
      "\n",
      "Results for powerthingwaysorted, Sample Size: 1000\n",
      "Grid Search Time: 0.00s, Training Time: 0.00s\n",
      "KNN Parameters: {'algorithm': 'auto', 'n_neighbors': 7, 'weights': 'distance'}\n",
      "Performance: R² = 0.7110, MAE = 333412.28, MAPE = 1638.32%\n",
      "q-score: 16.36\n",
      "Prediction time: 261.3564 μs/sample\n",
      "I/O: Reads=0.000011, Writes=0.000014\n",
      "--------------------------------------------------------------------------------\n",
      "Saving results for powerthingwaysorted...\n",
      "Memory usage: 1120.75 MB\n",
      "\n",
      "Processing dataset: barrierthingwaysorted\n",
      "Universe boundaries for barrierthingwaysorted: (-179.7595238, -70.776382, 179.19591350000002, 78.2501675)\n",
      "Loading data from ../large_files/resultsDistance/barrierthingwaysorted_results.csv\n"
     ]
    },
    {
     "name": "stdout",
     "output_type": "stream",
     "text": [
      "Parsing object coordinates...\n"
     ]
    },
    {
     "name": "stdout",
     "output_type": "stream",
     "text": [
      "\n",
      "Basic statistics for barrierthingwaysorted dataset:\n",
      "Max count: 22854431.0\n",
      "Min count: 0.0\n",
      "Mean count: 2474469.83\n",
      "Median count: 1209323.00\n",
      "Total samples: 4581670\n",
      "\n",
      "Calculating object features...\n"
     ]
    },
    {
     "name": "stdout",
     "output_type": "stream",
     "text": [
      "Splitting data into train and test sets...\n"
     ]
    },
    {
     "name": "stdout",
     "output_type": "stream",
     "text": [
      "Training set size: 3665336\n",
      "\n",
      "Training with sample size: 3665336\n",
      "Memory usage: 1654.79 MB\n",
      "Performing grid search for optimal parameters...\n"
     ]
    },
    {
     "name": "stdout",
     "output_type": "stream",
     "text": [
      "Grid search complete in 12182.87s\n",
      "Best parameters: {'algorithm': 'auto', 'n_neighbors': 7, 'weights': 'distance'}\n",
      "Training KNN model...\n"
     ]
    },
    {
     "name": "stdout",
     "output_type": "stream",
     "text": [
      "Making predictions...\n"
     ]
    },
    {
     "name": "stdout",
     "output_type": "stream",
     "text": [
      "Calculating performance metrics...\n",
      "Measuring prediction performance...\n"
     ]
    },
    {
     "name": "stdout",
     "output_type": "stream",
     "text": [
      "Saving model...\n"
     ]
    },
    {
     "name": "stdout",
     "output_type": "stream",
     "text": [
      "Model size: 254023.75 KB\n",
      "\n",
      "Results for barrierthingwaysorted, Sample Size: 3665336\n",
      "Grid Search Time: 12182.87s, Training Time: 6.18s\n",
      "KNN Parameters: {'algorithm': 'auto', 'n_neighbors': 7, 'weights': 'distance'}\n",
      "Performance: R² = 0.9980, MAE = 53689.96, MAPE = 69.31%\n",
      "q-score: 1.69\n",
      "Prediction time: 532.2364 μs/sample\n",
      "I/O: Reads=0.000019, Writes=0.000038\n",
      "--------------------------------------------------------------------------------\n",
      "Generating prediction scatter plot...\n"
     ]
    },
    {
     "name": "stdout",
     "output_type": "stream",
     "text": [
      "Generating side-by-side comparison plot...\n"
     ]
    },
    {
     "name": "stdout",
     "output_type": "stream",
     "text": [
      "\n",
      "Training with sample size: 3000000\n",
      "Memory usage: 1937.30 MB\n",
      "Using best parameters from max scale: {'algorithm': 'auto', 'n_neighbors': 7, 'weights': 'distance'}\n",
      "Training KNN model...\n"
     ]
    },
    {
     "name": "stdout",
     "output_type": "stream",
     "text": [
      "Making predictions...\n"
     ]
    },
    {
     "name": "stdout",
     "output_type": "stream",
     "text": [
      "Calculating performance metrics...\n",
      "Measuring prediction performance...\n"
     ]
    },
    {
     "name": "stdout",
     "output_type": "stream",
     "text": [
      "Saving model...\n"
     ]
    },
    {
     "name": "stdout",
     "output_type": "stream",
     "text": [
      "Model size: 209474.66 KB\n",
      "\n",
      "Results for barrierthingwaysorted, Sample Size: 3000000\n",
      "Grid Search Time: 0.00s, Training Time: 4.80s\n",
      "KNN Parameters: {'algorithm': 'auto', 'n_neighbors': 7, 'weights': 'distance'}\n",
      "Performance: R² = 0.9978, MAE = 57123.75, MAPE = 73.54%\n",
      "q-score: 1.74\n",
      "Prediction time: 641.2470 μs/sample\n",
      "I/O: Reads=0.000026, Writes=0.000028\n",
      "--------------------------------------------------------------------------------\n",
      "\n",
      "Training with sample size: 2000000\n",
      "Memory usage: 1937.51 MB\n",
      "Using best parameters from max scale: {'algorithm': 'auto', 'n_neighbors': 7, 'weights': 'distance'}\n",
      "Training KNN model...\n"
     ]
    },
    {
     "name": "stdout",
     "output_type": "stream",
     "text": [
      "Making predictions...\n"
     ]
    },
    {
     "name": "stdout",
     "output_type": "stream",
     "text": [
      "Calculating performance metrics...\n",
      "Measuring prediction performance...\n"
     ]
    },
    {
     "name": "stdout",
     "output_type": "stream",
     "text": [
      "Saving model...\n"
     ]
    },
    {
     "name": "stdout",
     "output_type": "stream",
     "text": [
      "Model size: 142525.84 KB\n",
      "\n",
      "Results for barrierthingwaysorted, Sample Size: 2000000\n",
      "Grid Search Time: 0.00s, Training Time: 2.70s\n",
      "KNN Parameters: {'algorithm': 'auto', 'n_neighbors': 7, 'weights': 'distance'}\n",
      "Performance: R² = 0.9973, MAE = 64814.41, MAPE = 87.24%\n",
      "q-score: 1.88\n",
      "Prediction time: 601.4318 μs/sample\n",
      "I/O: Reads=0.000020, Writes=0.000030\n",
      "--------------------------------------------------------------------------------\n",
      "\n",
      "Training with sample size: 1000000\n",
      "Memory usage: 1937.51 MB\n",
      "Using best parameters from max scale: {'algorithm': 'auto', 'n_neighbors': 7, 'weights': 'distance'}\n",
      "Training KNN model...\n"
     ]
    },
    {
     "name": "stdout",
     "output_type": "stream",
     "text": [
      "Making predictions...\n"
     ]
    },
    {
     "name": "stdout",
     "output_type": "stream",
     "text": [
      "Calculating performance metrics...\n",
      "Measuring prediction performance...\n"
     ]
    },
    {
     "name": "stdout",
     "output_type": "stream",
     "text": [
      "Saving model...\n"
     ]
    },
    {
     "name": "stdout",
     "output_type": "stream",
     "text": [
      "Model size: 71120.98 KB\n",
      "\n",
      "Results for barrierthingwaysorted, Sample Size: 1000000\n",
      "Grid Search Time: 0.00s, Training Time: 1.04s\n",
      "KNN Parameters: {'algorithm': 'auto', 'n_neighbors': 7, 'weights': 'distance'}\n",
      "Performance: R² = 0.9959, MAE = 80461.07, MAPE = 118.22%\n",
      "q-score: 2.17\n",
      "Prediction time: 537.2089 μs/sample\n",
      "I/O: Reads=0.000019, Writes=0.000026\n",
      "--------------------------------------------------------------------------------\n",
      "\n",
      "Training with sample size: 500000\n",
      "Memory usage: 1937.51 MB\n",
      "Using best parameters from max scale: {'algorithm': 'auto', 'n_neighbors': 7, 'weights': 'distance'}\n",
      "Training KNN model...\n"
     ]
    },
    {
     "name": "stdout",
     "output_type": "stream",
     "text": [
      "Making predictions...\n"
     ]
    },
    {
     "name": "stdout",
     "output_type": "stream",
     "text": [
      "Calculating performance metrics...\n",
      "Measuring prediction performance...\n"
     ]
    },
    {
     "name": "stdout",
     "output_type": "stream",
     "text": [
      "Saving model...\n"
     ]
    },
    {
     "name": "stdout",
     "output_type": "stream",
     "text": [
      "Model size: 35447.84 KB\n",
      "\n",
      "Results for barrierthingwaysorted, Sample Size: 500000\n",
      "Grid Search Time: 0.00s, Training Time: 0.38s\n",
      "KNN Parameters: {'algorithm': 'auto', 'n_neighbors': 7, 'weights': 'distance'}\n",
      "Performance: R² = 0.9938, MAE = 99704.56, MAPE = 155.51%\n",
      "q-score: 2.54\n",
      "Prediction time: 568.5849 μs/sample\n",
      "I/O: Reads=0.000020, Writes=0.000022\n",
      "--------------------------------------------------------------------------------\n",
      "\n",
      "Training with sample size: 100000\n",
      "Memory usage: 1937.51 MB\n",
      "Using best parameters from max scale: {'algorithm': 'auto', 'n_neighbors': 7, 'weights': 'distance'}\n",
      "Training KNN model...\n",
      "Making predictions...\n"
     ]
    },
    {
     "name": "stdout",
     "output_type": "stream",
     "text": [
      "Calculating performance metrics...\n",
      "Measuring prediction performance...\n"
     ]
    },
    {
     "name": "stdout",
     "output_type": "stream",
     "text": [
      "Saving model...\n"
     ]
    },
    {
     "name": "stdout",
     "output_type": "stream",
     "text": [
      "Model size: 6851.65 KB\n",
      "\n",
      "Results for barrierthingwaysorted, Sample Size: 100000\n",
      "Grid Search Time: 0.00s, Training Time: 0.05s\n",
      "KNN Parameters: {'algorithm': 'auto', 'n_neighbors': 7, 'weights': 'distance'}\n",
      "Performance: R² = 0.9834, MAE = 166545.64, MAPE = 287.96%\n",
      "q-score: 3.86\n",
      "Prediction time: 606.8322 μs/sample\n",
      "I/O: Reads=0.000027, Writes=0.000028\n",
      "--------------------------------------------------------------------------------\n",
      "\n",
      "Training with sample size: 50000\n",
      "Memory usage: 1937.51 MB\n",
      "Using best parameters from max scale: {'algorithm': 'auto', 'n_neighbors': 7, 'weights': 'distance'}\n",
      "Training KNN model...\n",
      "Making predictions...\n"
     ]
    },
    {
     "name": "stdout",
     "output_type": "stream",
     "text": [
      "Calculating performance metrics...\n",
      "Measuring prediction performance...\n"
     ]
    },
    {
     "name": "stdout",
     "output_type": "stream",
     "text": [
      "Saving model...\n",
      "Model size: 3399.48 KB\n",
      "\n",
      "Results for barrierthingwaysorted, Sample Size: 50000\n",
      "Grid Search Time: 0.00s, Training Time: 0.03s\n",
      "KNN Parameters: {'algorithm': 'auto', 'n_neighbors': 7, 'weights': 'distance'}\n",
      "Performance: R² = 0.9755, MAE = 207014.48, MAPE = 381.19%\n",
      "q-score: 4.75\n",
      "Prediction time: 566.5988 μs/sample\n",
      "I/O: Reads=0.000019, Writes=0.000028\n",
      "--------------------------------------------------------------------------------\n"
     ]
    },
    {
     "name": "stdout",
     "output_type": "stream",
     "text": [
      "\n",
      "Training with sample size: 10000\n",
      "Memory usage: 1937.51 MB\n",
      "Using best parameters from max scale: {'algorithm': 'auto', 'n_neighbors': 7, 'weights': 'distance'}\n",
      "Training KNN model...\n",
      "Making predictions...\n"
     ]
    },
    {
     "name": "stdout",
     "output_type": "stream",
     "text": [
      "Calculating performance metrics...\n",
      "Measuring prediction performance...\n"
     ]
    },
    {
     "name": "stdout",
     "output_type": "stream",
     "text": [
      "Saving model...\n",
      "Model size: 684.17 KB\n",
      "\n",
      "Results for barrierthingwaysorted, Sample Size: 10000\n",
      "Grid Search Time: 0.00s, Training Time: 0.00s\n",
      "KNN Parameters: {'algorithm': 'auto', 'n_neighbors': 7, 'weights': 'distance'}\n",
      "Performance: R² = 0.9405, MAE = 344367.79, MAPE = 721.58%\n",
      "q-score: 7.86\n",
      "Prediction time: 476.1435 μs/sample\n",
      "I/O: Reads=0.000020, Writes=0.000028\n",
      "--------------------------------------------------------------------------------\n",
      "\n",
      "Training with sample size: 5000\n",
      "Memory usage: 1937.51 MB\n",
      "Using best parameters from max scale: {'algorithm': 'auto', 'n_neighbors': 7, 'weights': 'distance'}\n",
      "Training KNN model...\n",
      "Making predictions...\n"
     ]
    },
    {
     "name": "stdout",
     "output_type": "stream",
     "text": [
      "Calculating performance metrics...\n",
      "Measuring prediction performance...\n"
     ]
    },
    {
     "name": "stdout",
     "output_type": "stream",
     "text": [
      "Saving model...\n",
      "Model size: 342.02 KB\n",
      "\n",
      "Results for barrierthingwaysorted, Sample Size: 5000\n",
      "Grid Search Time: 0.00s, Training Time: 0.00s\n",
      "KNN Parameters: {'algorithm': 'auto', 'n_neighbors': 7, 'weights': 'distance'}\n",
      "Performance: R² = 0.9183, MAE = 419608.76, MAPE = 914.24%\n",
      "q-score: 9.55\n",
      "Prediction time: 453.2558 μs/sample\n",
      "I/O: Reads=0.000013, Writes=0.000024\n",
      "--------------------------------------------------------------------------------\n",
      "\n",
      "Training with sample size: 1000\n",
      "Memory usage: 1937.51 MB\n",
      "Using best parameters from max scale: {'algorithm': 'auto', 'n_neighbors': 7, 'weights': 'distance'}\n",
      "Training KNN model...\n",
      "Making predictions...\n"
     ]
    },
    {
     "name": "stdout",
     "output_type": "stream",
     "text": [
      "Calculating performance metrics...\n",
      "Measuring prediction performance...\n"
     ]
    },
    {
     "name": "stdout",
     "output_type": "stream",
     "text": [
      "Saving model...\n",
      "Model size: 40.52 KB\n",
      "\n",
      "Results for barrierthingwaysorted, Sample Size: 1000\n",
      "Grid Search Time: 0.00s, Training Time: 0.00s\n",
      "KNN Parameters: {'algorithm': 'auto', 'n_neighbors': 7, 'weights': 'distance'}\n",
      "Performance: R² = 0.8259, MAE = 680763.33, MAPE = 2381.27%\n",
      "q-score: 21.54\n",
      "Prediction time: 275.5126 μs/sample\n",
      "I/O: Reads=0.000013, Writes=0.000026\n",
      "--------------------------------------------------------------------------------\n",
      "Saving results for barrierthingwaysorted...\n"
     ]
    },
    {
     "name": "stdout",
     "output_type": "stream",
     "text": [
      "Memory usage: 1655.98 MB\n",
      "\n",
      "Processing dataset: cyclewaythingwaysorted\n",
      "Universe boundaries for cyclewaythingwaysorted: (-175.2093065, -75.1027861, 176.92582230000002, 71.0488105)\n",
      "Loading data from ../large_files/resultsDistance/cyclewaythingwaysorted_results.csv\n"
     ]
    },
    {
     "name": "stdout",
     "output_type": "stream",
     "text": [
      "Parsing object coordinates...\n"
     ]
    },
    {
     "name": "stdout",
     "output_type": "stream",
     "text": [
      "\n",
      "Basic statistics for cyclewaythingwaysorted dataset:\n",
      "Max count: 5317936.0\n",
      "Min count: 0.0\n",
      "Mean count: 503879.05\n",
      "Median count: 222046.00\n",
      "Total samples: 1067063\n",
      "\n",
      "Calculating object features...\n",
      "Splitting data into train and test sets...\n",
      "Training set size: 853650\n",
      "\n",
      "Training with sample size: 853650\n",
      "Memory usage: 1274.98 MB\n",
      "Performing grid search for optimal parameters...\n"
     ]
    },
    {
     "name": "stdout",
     "output_type": "stream",
     "text": [
      "Grid search complete in 2578.12s\n",
      "Best parameters: {'algorithm': 'auto', 'n_neighbors': 5, 'weights': 'distance'}\n",
      "Training KNN model...\n"
     ]
    },
    {
     "name": "stdout",
     "output_type": "stream",
     "text": [
      "Making predictions...\n"
     ]
    },
    {
     "name": "stdout",
     "output_type": "stream",
     "text": [
      "Calculating performance metrics...\n",
      "Measuring prediction performance...\n"
     ]
    },
    {
     "name": "stdout",
     "output_type": "stream",
     "text": [
      "Saving model...\n"
     ]
    },
    {
     "name": "stdout",
     "output_type": "stream",
     "text": [
      "Model size: 58822.38 KB\n",
      "\n",
      "Results for cyclewaythingwaysorted, Sample Size: 853650\n",
      "Grid Search Time: 2578.12s, Training Time: 0.86s\n",
      "KNN Parameters: {'algorithm': 'auto', 'n_neighbors': 5, 'weights': 'distance'}\n",
      "Performance: R² = 0.9961, MAE = 16993.78, MAPE = 160.58%\n",
      "q-score: 2.59\n",
      "Prediction time: 347.7667 μs/sample\n",
      "I/O: Reads=0.000000, Writes=0.000017\n",
      "--------------------------------------------------------------------------------\n",
      "Generating prediction scatter plot...\n"
     ]
    },
    {
     "name": "stdout",
     "output_type": "stream",
     "text": [
      "Generating side-by-side comparison plot...\n"
     ]
    },
    {
     "name": "stdout",
     "output_type": "stream",
     "text": [
      "\n",
      "Training with sample size: 500000\n",
      "Memory usage: 1265.01 MB\n",
      "Using best parameters from max scale: {'algorithm': 'auto', 'n_neighbors': 5, 'weights': 'distance'}\n",
      "Training KNN model...\n"
     ]
    },
    {
     "name": "stdout",
     "output_type": "stream",
     "text": [
      "Making predictions...\n"
     ]
    },
    {
     "name": "stdout",
     "output_type": "stream",
     "text": [
      "Calculating performance metrics...\n",
      "Measuring prediction performance...\n"
     ]
    },
    {
     "name": "stdout",
     "output_type": "stream",
     "text": [
      "Saving model...\n"
     ]
    },
    {
     "name": "stdout",
     "output_type": "stream",
     "text": [
      "Model size: 35303.65 KB\n",
      "\n",
      "Results for cyclewaythingwaysorted, Sample Size: 500000\n",
      "Grid Search Time: 0.00s, Training Time: 0.39s\n",
      "KNN Parameters: {'algorithm': 'auto', 'n_neighbors': 5, 'weights': 'distance'}\n",
      "Performance: R² = 0.9945, MAE = 19969.61, MAPE = 190.51%\n",
      "q-score: 2.88\n",
      "Prediction time: 492.3172 μs/sample\n",
      "I/O: Reads=0.000000, Writes=0.000664\n",
      "--------------------------------------------------------------------------------\n",
      "\n",
      "Training with sample size: 100000\n",
      "Memory usage: 1265.01 MB\n",
      "Using best parameters from max scale: {'algorithm': 'auto', 'n_neighbors': 5, 'weights': 'distance'}\n",
      "Training KNN model...\n",
      "Making predictions...\n"
     ]
    },
    {
     "name": "stdout",
     "output_type": "stream",
     "text": [
      "Calculating performance metrics...\n",
      "Measuring prediction performance...\n"
     ]
    },
    {
     "name": "stdout",
     "output_type": "stream",
     "text": [
      "Saving model...\n"
     ]
    },
    {
     "name": "stdout",
     "output_type": "stream",
     "text": [
      "Model size: 6824.45 KB\n",
      "\n",
      "Results for cyclewaythingwaysorted, Sample Size: 100000\n",
      "Grid Search Time: 0.00s, Training Time: 0.06s\n",
      "KNN Parameters: {'algorithm': 'auto', 'n_neighbors': 5, 'weights': 'distance'}\n",
      "Performance: R² = 0.9853, MAE = 33310.14, MAPE = 400.06%\n",
      "q-score: 4.92\n",
      "Prediction time: 374.5964 μs/sample\n",
      "I/O: Reads=0.000028, Writes=0.000410\n",
      "--------------------------------------------------------------------------------\n",
      "\n",
      "Training with sample size: 50000\n",
      "Memory usage: 1265.01 MB\n",
      "Using best parameters from max scale: {'algorithm': 'auto', 'n_neighbors': 5, 'weights': 'distance'}\n",
      "Training KNN model...\n",
      "Making predictions...\n"
     ]
    },
    {
     "name": "stdout",
     "output_type": "stream",
     "text": [
      "Calculating performance metrics...\n",
      "Measuring prediction performance...\n"
     ]
    },
    {
     "name": "stdout",
     "output_type": "stream",
     "text": [
      "Saving model...\n",
      "Model size: 3387.34 KB\n",
      "\n",
      "Results for cyclewaythingwaysorted, Sample Size: 50000\n",
      "Grid Search Time: 0.00s, Training Time: 0.02s\n",
      "KNN Parameters: {'algorithm': 'auto', 'n_neighbors': 5, 'weights': 'distance'}\n",
      "Performance: R² = 0.9787, MAE = 41189.29, MAPE = 483.39%\n",
      "q-score: 5.71\n",
      "Prediction time: 380.1392 μs/sample\n",
      "I/O: Reads=0.000000, Writes=0.000121\n",
      "--------------------------------------------------------------------------------\n"
     ]
    },
    {
     "name": "stdout",
     "output_type": "stream",
     "text": [
      "\n",
      "Training with sample size: 10000\n",
      "Memory usage: 1265.01 MB\n",
      "Using best parameters from max scale: {'algorithm': 'auto', 'n_neighbors': 5, 'weights': 'distance'}\n",
      "Training KNN model...\n",
      "Making predictions...\n"
     ]
    },
    {
     "name": "stdout",
     "output_type": "stream",
     "text": [
      "Calculating performance metrics...\n",
      "Measuring prediction performance...\n"
     ]
    },
    {
     "name": "stdout",
     "output_type": "stream",
     "text": [
      "Saving model...\n",
      "Model size: 680.96 KB\n",
      "\n",
      "Results for cyclewaythingwaysorted, Sample Size: 10000\n",
      "Grid Search Time: 0.00s, Training Time: 0.00s\n",
      "KNN Parameters: {'algorithm': 'auto', 'n_neighbors': 5, 'weights': 'distance'}\n",
      "Performance: R² = 0.9466, MAE = 69293.66, MAPE = 1068.94%\n",
      "q-score: 10.72\n",
      "Prediction time: 225.4938 μs/sample\n",
      "I/O: Reads=0.000028, Writes=0.000052\n",
      "--------------------------------------------------------------------------------\n",
      "\n",
      "Training with sample size: 5000\n",
      "Memory usage: 1265.01 MB\n",
      "Using best parameters from max scale: {'algorithm': 'auto', 'n_neighbors': 5, 'weights': 'distance'}\n",
      "Training KNN model...\n",
      "Making predictions...\n"
     ]
    },
    {
     "name": "stdout",
     "output_type": "stream",
     "text": [
      "Calculating performance metrics...\n",
      "Measuring prediction performance...\n"
     ]
    },
    {
     "name": "stdout",
     "output_type": "stream",
     "text": [
      "Saving model...\n",
      "Model size: 340.84 KB\n",
      "\n",
      "Results for cyclewaythingwaysorted, Sample Size: 5000\n",
      "Grid Search Time: 0.00s, Training Time: 0.00s\n",
      "KNN Parameters: {'algorithm': 'auto', 'n_neighbors': 5, 'weights': 'distance'}\n",
      "Performance: R² = 0.9258, MAE = 84853.61, MAPE = 1430.54%\n",
      "q-score: 14.14\n",
      "Prediction time: 184.5112 μs/sample\n",
      "I/O: Reads=0.000000, Writes=0.000023\n",
      "--------------------------------------------------------------------------------\n",
      "\n",
      "Training with sample size: 1000\n",
      "Memory usage: 1265.01 MB\n",
      "Using best parameters from max scale: {'algorithm': 'auto', 'n_neighbors': 5, 'weights': 'distance'}\n",
      "Training KNN model...\n",
      "Making predictions...\n"
     ]
    },
    {
     "name": "stdout",
     "output_type": "stream",
     "text": [
      "Calculating performance metrics...\n",
      "Measuring prediction performance...\n"
     ]
    },
    {
     "name": "stdout",
     "output_type": "stream",
     "text": [
      "Saving model...\n",
      "Model size: 40.30 KB\n",
      "\n",
      "Results for cyclewaythingwaysorted, Sample Size: 1000\n",
      "Grid Search Time: 0.00s, Training Time: 0.00s\n",
      "KNN Parameters: {'algorithm': 'auto', 'n_neighbors': 5, 'weights': 'distance'}\n",
      "Performance: R² = 0.8280, MAE = 140238.75, MAPE = 2211.08%\n",
      "q-score: 21.09\n",
      "Prediction time: 127.0970 μs/sample\n",
      "I/O: Reads=0.000000, Writes=0.000011\n",
      "--------------------------------------------------------------------------------\n",
      "Saving results for cyclewaythingwaysorted...\n",
      "Memory usage: 1265.01 MB\n",
      "\n",
      "Processing dataset: zcta5\n",
      "Universe boundaries for zcta5: (-176.684744, -14.373776, 145.830505, 71.341324)\n",
      "Loading data from ../large_files/resultsDistance/zcta5_results.csv\n"
     ]
    },
    {
     "name": "stdout",
     "output_type": "stream",
     "text": [
      "Parsing object coordinates...\n",
      "\n",
      "Basic statistics for zcta5 dataset:\n",
      "Max count: 31899.0\n",
      "Min count: 0.0\n",
      "Mean count: 5892.11\n",
      "Median count: 4178.50\n",
      "Total samples: 6626\n",
      "\n",
      "Calculating object features...\n",
      "Splitting data into train and test sets...\n",
      "Training set size: 5300\n",
      "\n",
      "Training with sample size: 5300\n",
      "Memory usage: 1232.45 MB\n",
      "Performing grid search for optimal parameters...\n"
     ]
    },
    {
     "name": "stdout",
     "output_type": "stream",
     "text": [
      "Grid search complete in 8.70s\n",
      "Best parameters: {'algorithm': 'auto', 'n_neighbors': 5, 'weights': 'distance'}\n",
      "Training KNN model...\n",
      "Making predictions...\n",
      "Calculating performance metrics...\n",
      "Measuring prediction performance...\n"
     ]
    },
    {
     "name": "stdout",
     "output_type": "stream",
     "text": [
      "Saving model...\n",
      "Model size: 346.96 KB\n",
      "\n",
      "Results for zcta5, Sample Size: 5300\n",
      "Grid Search Time: 8.70s, Training Time: 0.00s\n",
      "KNN Parameters: {'algorithm': 'auto', 'n_neighbors': 5, 'weights': 'distance'}\n",
      "Performance: R² = 0.9617, MAE = 703.07, MAPE = 44.05%\n",
      "q-score: 1.45\n",
      "Prediction time: 105.2260 μs/sample\n",
      "I/O: Reads=0.000000, Writes=0.000000\n",
      "--------------------------------------------------------------------------------\n",
      "Generating prediction scatter plot...\n",
      "Generating side-by-side comparison plot...\n"
     ]
    },
    {
     "name": "stdout",
     "output_type": "stream",
     "text": [
      "\n",
      "Training with sample size: 5000\n",
      "Memory usage: 1232.45 MB\n",
      "Using best parameters from max scale: {'algorithm': 'auto', 'n_neighbors': 5, 'weights': 'distance'}\n",
      "Training KNN model...\n",
      "Making predictions...\n",
      "Calculating performance metrics...\n",
      "Measuring prediction performance...\n"
     ]
    },
    {
     "name": "stdout",
     "output_type": "stream",
     "text": [
      "Saving model...\n",
      "Model size: 328.22 KB\n",
      "\n",
      "Results for zcta5, Sample Size: 5000\n",
      "Grid Search Time: 0.00s, Training Time: 0.00s\n",
      "KNN Parameters: {'algorithm': 'auto', 'n_neighbors': 5, 'weights': 'distance'}\n",
      "Performance: R² = 0.9607, MAE = 716.72, MAPE = 46.43%\n",
      "q-score: 1.48\n",
      "Prediction time: 95.0549 μs/sample\n",
      "I/O: Reads=0.000000, Writes=0.000000\n",
      "--------------------------------------------------------------------------------\n",
      "\n",
      "Training with sample size: 1000\n",
      "Memory usage: 1232.45 MB\n",
      "Using best parameters from max scale: {'algorithm': 'auto', 'n_neighbors': 5, 'weights': 'distance'}\n",
      "Training KNN model...\n",
      "Making predictions...\n"
     ]
    },
    {
     "name": "stdout",
     "output_type": "stream",
     "text": [
      "Calculating performance metrics...\n",
      "Measuring prediction performance...\n"
     ]
    },
    {
     "name": "stdout",
     "output_type": "stream",
     "text": [
      "Saving model...\n",
      "Model size: 39.47 KB\n",
      "\n",
      "Results for zcta5, Sample Size: 1000\n",
      "Grid Search Time: 0.00s, Training Time: 0.00s\n",
      "KNN Parameters: {'algorithm': 'auto', 'n_neighbors': 5, 'weights': 'distance'}\n",
      "Performance: R² = 0.9079, MAE = 1158.00, MAPE = 90.01%\n",
      "q-score: 1.89\n",
      "Prediction time: 43.6234 μs/sample\n",
      "I/O: Reads=0.000000, Writes=0.000000\n",
      "--------------------------------------------------------------------------------\n",
      "Saving results for zcta5...\n"
     ]
    },
    {
     "name": "stdout",
     "output_type": "stream",
     "text": [
      "Memory usage: 1232.44 MB\n",
      "\n",
      "Processing dataset: aerowaythingnodesorted\n",
      "Universe boundaries for aerowaythingnodesorted: (-179.88088960000002, -90.0, 179.951004, 83.08333590000001)\n",
      "Loading data from ../large_files/resultsDistance/aerowaythingnodesorted_results.csv\n",
      "Parsing object coordinates...\n",
      "\n",
      "Basic statistics for aerowaythingnodesorted dataset:\n",
      "Max count: 74280.0\n",
      "Min count: 0.0\n",
      "Mean count: 4340.59\n",
      "Median count: 2002.00\n",
      "Total samples: 15843\n",
      "\n",
      "Calculating object features...\n",
      "Splitting data into train and test sets...\n",
      "Training set size: 12674\n",
      "\n",
      "Training with sample size: 12674\n",
      "Memory usage: 1232.44 MB\n",
      "Performing grid search for optimal parameters...\n"
     ]
    },
    {
     "name": "stdout",
     "output_type": "stream",
     "text": [
      "Grid search complete in 13.33s\n",
      "Best parameters: {'algorithm': 'auto', 'n_neighbors': 3, 'weights': 'distance'}\n",
      "Training KNN model...\n",
      "Making predictions...\n",
      "Calculating performance metrics...\n",
      "Measuring prediction performance...\n"
     ]
    },
    {
     "name": "stdout",
     "output_type": "stream",
     "text": [
      "Saving model...\n",
      "Model size: 839.54 KB\n",
      "\n",
      "Results for aerowaythingnodesorted, Sample Size: 12674\n",
      "Grid Search Time: 13.33s, Training Time: 0.01s\n",
      "KNN Parameters: {'algorithm': 'auto', 'n_neighbors': 3, 'weights': 'distance'}\n",
      "Performance: R² = 0.9395, MAE = 717.55, MAPE = 209.55%\n",
      "q-score: 3.19\n",
      "Prediction time: 215.4864 μs/sample\n",
      "I/O: Reads=0.000000, Writes=0.000347\n",
      "--------------------------------------------------------------------------------\n",
      "Generating prediction scatter plot...\n"
     ]
    },
    {
     "name": "stdout",
     "output_type": "stream",
     "text": [
      "Generating side-by-side comparison plot...\n"
     ]
    },
    {
     "name": "stdout",
     "output_type": "stream",
     "text": [
      "\n",
      "Training with sample size: 10000\n",
      "Memory usage: 1232.44 MB\n",
      "Using best parameters from max scale: {'algorithm': 'auto', 'n_neighbors': 3, 'weights': 'distance'}\n",
      "Training KNN model...\n",
      "Making predictions...\n",
      "Calculating performance metrics...\n",
      "Measuring prediction performance...\n"
     ]
    },
    {
     "name": "stdout",
     "output_type": "stream",
     "text": [
      "Saving model...\n",
      "Model size: 667.36 KB\n",
      "\n",
      "Results for aerowaythingnodesorted, Sample Size: 10000\n",
      "Grid Search Time: 0.00s, Training Time: 0.00s\n",
      "KNN Parameters: {'algorithm': 'auto', 'n_neighbors': 3, 'weights': 'distance'}\n",
      "Performance: R² = 0.9332, MAE = 764.03, MAPE = 235.10%\n",
      "q-score: 3.45\n",
      "Prediction time: 200.3424 μs/sample\n",
      "I/O: Reads=0.000000, Writes=0.001420\n",
      "--------------------------------------------------------------------------------\n",
      "\n",
      "Training with sample size: 5000\n",
      "Memory usage: 1232.45 MB\n",
      "Using best parameters from max scale: {'algorithm': 'auto', 'n_neighbors': 3, 'weights': 'distance'}\n",
      "Training KNN model...\n",
      "Making predictions...\n"
     ]
    },
    {
     "name": "stdout",
     "output_type": "stream",
     "text": [
      "Calculating performance metrics...\n",
      "Measuring prediction performance...\n"
     ]
    },
    {
     "name": "stdout",
     "output_type": "stream",
     "text": [
      "Saving model...\n",
      "Model size: 334.83 KB\n",
      "\n",
      "Results for aerowaythingnodesorted, Sample Size: 5000\n",
      "Grid Search Time: 0.00s, Training Time: 0.00s\n",
      "KNN Parameters: {'algorithm': 'auto', 'n_neighbors': 3, 'weights': 'distance'}\n",
      "Performance: R² = 0.8745, MAE = 963.60, MAPE = 262.25%\n",
      "q-score: 3.77\n",
      "Prediction time: 191.1245 μs/sample\n",
      "I/O: Reads=0.000000, Writes=0.000000\n",
      "--------------------------------------------------------------------------------\n",
      "\n",
      "Training with sample size: 1000\n",
      "Memory usage: 1232.45 MB\n",
      "Using best parameters from max scale: {'algorithm': 'auto', 'n_neighbors': 3, 'weights': 'distance'}\n",
      "Training KNN model...\n",
      "Making predictions...\n"
     ]
    },
    {
     "name": "stdout",
     "output_type": "stream",
     "text": [
      "Calculating performance metrics...\n",
      "Measuring prediction performance...\n"
     ]
    },
    {
     "name": "stdout",
     "output_type": "stream",
     "text": [
      "Saving model...\n",
      "Model size: 39.52 KB\n",
      "\n",
      "Results for aerowaythingnodesorted, Sample Size: 1000\n",
      "Grid Search Time: 0.00s, Training Time: 0.00s\n",
      "KNN Parameters: {'algorithm': 'auto', 'n_neighbors': 3, 'weights': 'distance'}\n",
      "Performance: R² = 0.7126, MAE = 1564.09, MAPE = 625.03%\n",
      "q-score: 7.49\n",
      "Prediction time: 63.8319 μs/sample\n",
      "I/O: Reads=0.000000, Writes=0.000063\n",
      "--------------------------------------------------------------------------------\n",
      "Saving results for aerowaythingnodesorted...\n"
     ]
    },
    {
     "name": "stdout",
     "output_type": "stream",
     "text": [
      "Memory usage: 1232.45 MB\n",
      "\n",
      "Processing dataset: leisurewaysorted\n",
      "Universe boundaries for leisurewaysorted: (-179.8728244, -89.6957847, 179.8091866, 81.0280175)\n",
      "Loading data from ../large_files/resultsDistance/leisurewaysorted_results.csv\n"
     ]
    },
    {
     "name": "stdout",
     "output_type": "stream",
     "text": [
      "Parsing object coordinates...\n"
     ]
    },
    {
     "name": "stdout",
     "output_type": "stream",
     "text": [
      "\n",
      "Basic statistics for leisurewaysorted dataset:\n",
      "Max count: 29357364.0\n",
      "Min count: 0.0\n",
      "Mean count: 2752172.81\n",
      "Median count: 1238338.00\n",
      "Total samples: 5876570\n",
      "\n",
      "Calculating object features...\n"
     ]
    },
    {
     "name": "stdout",
     "output_type": "stream",
     "text": [
      "Splitting data into train and test sets...\n"
     ]
    },
    {
     "name": "stdout",
     "output_type": "stream",
     "text": [
      "Training set size: 4701256\n",
      "\n",
      "Training with sample size: 4701256\n",
      "Memory usage: 2112.07 MB\n",
      "Performing grid search for optimal parameters...\n"
     ]
    },
    {
     "name": "stdout",
     "output_type": "stream",
     "text": [
      "Grid search complete in 13889.97s\n",
      "Best parameters: {'algorithm': 'auto', 'n_neighbors': 7, 'weights': 'distance'}\n",
      "Training KNN model...\n"
     ]
    },
    {
     "name": "stdout",
     "output_type": "stream",
     "text": [
      "Making predictions...\n"
     ]
    },
    {
     "name": "stdout",
     "output_type": "stream",
     "text": [
      "Calculating performance metrics...\n",
      "Measuring prediction performance...\n"
     ]
    },
    {
     "name": "stdout",
     "output_type": "stream",
     "text": [
      "Saving model...\n"
     ]
    },
    {
     "name": "stdout",
     "output_type": "stream",
     "text": [
      "Model size: 333028.40 KB\n",
      "\n",
      "Results for leisurewaysorted, Sample Size: 4701256\n",
      "Grid Search Time: 13889.97s, Training Time: 8.60s\n",
      "KNN Parameters: {'algorithm': 'auto', 'n_neighbors': 7, 'weights': 'distance'}\n",
      "Performance: R² = 0.9983, MAE = 58438.29, MAPE = 49.29%\n",
      "q-score: 1.49\n",
      "Prediction time: 563.4659 μs/sample\n",
      "I/O: Reads=0.000020, Writes=0.000026\n",
      "--------------------------------------------------------------------------------\n",
      "Generating prediction scatter plot...\n"
     ]
    },
    {
     "name": "stdout",
     "output_type": "stream",
     "text": [
      "Generating side-by-side comparison plot...\n"
     ]
    },
    {
     "name": "stdout",
     "output_type": "stream",
     "text": [
      "\n",
      "Training with sample size: 4000000\n",
      "Memory usage: 2453.23 MB\n",
      "Using best parameters from max scale: {'algorithm': 'auto', 'n_neighbors': 7, 'weights': 'distance'}\n",
      "Training KNN model...\n"
     ]
    },
    {
     "name": "stdout",
     "output_type": "stream",
     "text": [
      "Making predictions...\n"
     ]
    },
    {
     "name": "stdout",
     "output_type": "stream",
     "text": [
      "Calculating performance metrics...\n",
      "Measuring prediction performance...\n"
     ]
    },
    {
     "name": "stdout",
     "output_type": "stream",
     "text": [
      "Saving model...\n"
     ]
    },
    {
     "name": "stdout",
     "output_type": "stream",
     "text": [
      "Model size: 285926.07 KB\n",
      "\n",
      "Results for leisurewaysorted, Sample Size: 4000000\n",
      "Grid Search Time: 0.00s, Training Time: 6.89s\n",
      "KNN Parameters: {'algorithm': 'auto', 'n_neighbors': 7, 'weights': 'distance'}\n",
      "Performance: R² = 0.9982, MAE = 61258.21, MAPE = 53.26%\n",
      "q-score: 1.53\n",
      "Prediction time: 535.2324 μs/sample\n",
      "I/O: Reads=0.000020, Writes=0.000029\n",
      "--------------------------------------------------------------------------------\n",
      "\n",
      "Training with sample size: 3000000\n",
      "Memory usage: 2420.45 MB\n",
      "Using best parameters from max scale: {'algorithm': 'auto', 'n_neighbors': 7, 'weights': 'distance'}\n",
      "Training KNN model...\n"
     ]
    },
    {
     "name": "stdout",
     "output_type": "stream",
     "text": [
      "Making predictions...\n"
     ]
    },
    {
     "name": "stdout",
     "output_type": "stream",
     "text": [
      "Calculating performance metrics...\n",
      "Measuring prediction performance...\n"
     ]
    },
    {
     "name": "stdout",
     "output_type": "stream",
     "text": [
      "Saving model...\n"
     ]
    },
    {
     "name": "stdout",
     "output_type": "stream",
     "text": [
      "Model size: 209806.33 KB\n",
      "\n",
      "Results for leisurewaysorted, Sample Size: 3000000\n",
      "Grid Search Time: 0.00s, Training Time: 4.58s\n",
      "KNN Parameters: {'algorithm': 'auto', 'n_neighbors': 7, 'weights': 'distance'}\n",
      "Performance: R² = 0.9979, MAE = 66814.88, MAPE = 58.28%\n",
      "q-score: 1.58\n",
      "Prediction time: 629.6656 μs/sample\n",
      "I/O: Reads=0.000020, Writes=0.000029\n",
      "--------------------------------------------------------------------------------\n",
      "\n",
      "Training with sample size: 2000000\n",
      "Memory usage: 2396.35 MB\n",
      "Using best parameters from max scale: {'algorithm': 'auto', 'n_neighbors': 7, 'weights': 'distance'}\n",
      "Training KNN model...\n"
     ]
    },
    {
     "name": "stdout",
     "output_type": "stream",
     "text": [
      "Making predictions...\n"
     ]
    },
    {
     "name": "stdout",
     "output_type": "stream",
     "text": [
      "Calculating performance metrics...\n",
      "Measuring prediction performance...\n"
     ]
    },
    {
     "name": "stdout",
     "output_type": "stream",
     "text": [
      "Saving model...\n"
     ]
    },
    {
     "name": "stdout",
     "output_type": "stream",
     "text": [
      "Model size: 142753.50 KB\n",
      "\n",
      "Results for leisurewaysorted, Sample Size: 2000000\n",
      "Grid Search Time: 0.00s, Training Time: 2.86s\n",
      "KNN Parameters: {'algorithm': 'auto', 'n_neighbors': 7, 'weights': 'distance'}\n",
      "Performance: R² = 0.9973, MAE = 75421.42, MAPE = 68.65%\n",
      "q-score: 1.69\n",
      "Prediction time: 544.6285 μs/sample\n",
      "I/O: Reads=0.000020, Writes=0.000036\n",
      "--------------------------------------------------------------------------------\n",
      "\n",
      "Training with sample size: 1000000\n",
      "Memory usage: 2397.50 MB\n",
      "Using best parameters from max scale: {'algorithm': 'auto', 'n_neighbors': 7, 'weights': 'distance'}\n",
      "Training KNN model...\n"
     ]
    },
    {
     "name": "stdout",
     "output_type": "stream",
     "text": [
      "Making predictions...\n"
     ]
    },
    {
     "name": "stdout",
     "output_type": "stream",
     "text": [
      "Calculating performance metrics...\n",
      "Measuring prediction performance...\n"
     ]
    },
    {
     "name": "stdout",
     "output_type": "stream",
     "text": [
      "Saving model...\n"
     ]
    },
    {
     "name": "stdout",
     "output_type": "stream",
     "text": [
      "Model size: 71229.54 KB\n",
      "\n",
      "Results for leisurewaysorted, Sample Size: 1000000\n",
      "Grid Search Time: 0.00s, Training Time: 1.03s\n",
      "KNN Parameters: {'algorithm': 'auto', 'n_neighbors': 7, 'weights': 'distance'}\n",
      "Performance: R² = 0.9959, MAE = 93131.31, MAPE = 89.12%\n",
      "q-score: 1.89\n",
      "Prediction time: 507.7758 μs/sample\n",
      "I/O: Reads=0.000978, Writes=0.001135\n",
      "--------------------------------------------------------------------------------\n",
      "\n",
      "Training with sample size: 500000\n",
      "Memory usage: 2402.79 MB\n",
      "Using best parameters from max scale: {'algorithm': 'auto', 'n_neighbors': 7, 'weights': 'distance'}\n",
      "Training KNN model...\n"
     ]
    },
    {
     "name": "stdout",
     "output_type": "stream",
     "text": [
      "Making predictions...\n"
     ]
    },
    {
     "name": "stdout",
     "output_type": "stream",
     "text": [
      "Calculating performance metrics...\n",
      "Measuring prediction performance...\n"
     ]
    },
    {
     "name": "stdout",
     "output_type": "stream",
     "text": [
      "Saving model...\n"
     ]
    },
    {
     "name": "stdout",
     "output_type": "stream",
     "text": [
      "Model size: 35500.76 KB\n",
      "\n",
      "Results for leisurewaysorted, Sample Size: 500000\n",
      "Grid Search Time: 0.00s, Training Time: 0.44s\n",
      "KNN Parameters: {'algorithm': 'auto', 'n_neighbors': 7, 'weights': 'distance'}\n",
      "Performance: R² = 0.9939, MAE = 115163.71, MAPE = 120.33%\n",
      "q-score: 2.17\n",
      "Prediction time: 487.6432 μs/sample\n",
      "I/O: Reads=0.001766, Writes=0.000042\n",
      "--------------------------------------------------------------------------------\n",
      "\n",
      "Training with sample size: 100000\n",
      "Memory usage: 2402.97 MB\n",
      "Using best parameters from max scale: {'algorithm': 'auto', 'n_neighbors': 7, 'weights': 'distance'}\n",
      "Training KNN model...\n",
      "Making predictions...\n"
     ]
    },
    {
     "name": "stdout",
     "output_type": "stream",
     "text": [
      "Calculating performance metrics...\n",
      "Measuring prediction performance...\n"
     ]
    },
    {
     "name": "stdout",
     "output_type": "stream",
     "text": [
      "Saving model...\n"
     ]
    },
    {
     "name": "stdout",
     "output_type": "stream",
     "text": [
      "Model size: 6861.83 KB\n",
      "\n",
      "Results for leisurewaysorted, Sample Size: 100000\n",
      "Grid Search Time: 0.00s, Training Time: 0.07s\n",
      "KNN Parameters: {'algorithm': 'auto', 'n_neighbors': 7, 'weights': 'distance'}\n",
      "Performance: R² = 0.9840, MAE = 191065.15, MAPE = 262.43%\n",
      "q-score: 3.46\n",
      "Prediction time: 543.4306 μs/sample\n",
      "I/O: Reads=0.000033, Writes=0.000024\n",
      "--------------------------------------------------------------------------------\n",
      "\n",
      "Training with sample size: 50000\n",
      "Memory usage: 2402.97 MB\n",
      "Using best parameters from max scale: {'algorithm': 'auto', 'n_neighbors': 7, 'weights': 'distance'}\n",
      "Training KNN model...\n",
      "Making predictions...\n"
     ]
    },
    {
     "name": "stdout",
     "output_type": "stream",
     "text": [
      "Calculating performance metrics...\n",
      "Measuring prediction performance...\n"
     ]
    },
    {
     "name": "stdout",
     "output_type": "stream",
     "text": [
      "Saving model...\n",
      "Model size: 3405.55 KB\n",
      "\n",
      "Results for leisurewaysorted, Sample Size: 50000\n",
      "Grid Search Time: 0.00s, Training Time: 0.03s\n",
      "KNN Parameters: {'algorithm': 'auto', 'n_neighbors': 7, 'weights': 'distance'}\n",
      "Performance: R² = 0.9770, MAE = 235942.79, MAPE = 340.07%\n",
      "q-score: 4.14\n",
      "Prediction time: 503.1213 μs/sample\n",
      "I/O: Reads=0.000885, Writes=0.000059\n",
      "--------------------------------------------------------------------------------\n"
     ]
    },
    {
     "name": "stdout",
     "output_type": "stream",
     "text": [
      "\n",
      "Training with sample size: 10000\n",
      "Memory usage: 2402.97 MB\n",
      "Using best parameters from max scale: {'algorithm': 'auto', 'n_neighbors': 7, 'weights': 'distance'}\n",
      "Training KNN model...\n",
      "Making predictions...\n"
     ]
    },
    {
     "name": "stdout",
     "output_type": "stream",
     "text": [
      "Calculating performance metrics...\n",
      "Measuring prediction performance...\n"
     ]
    },
    {
     "name": "stdout",
     "output_type": "stream",
     "text": [
      "Saving model...\n",
      "Model size: 685.33 KB\n",
      "\n",
      "Results for leisurewaysorted, Sample Size: 10000\n",
      "Grid Search Time: 0.00s, Training Time: 0.00s\n",
      "KNN Parameters: {'algorithm': 'auto', 'n_neighbors': 7, 'weights': 'distance'}\n",
      "Performance: R² = 0.9410, MAE = 396537.97, MAPE = 1009.34%\n",
      "q-score: 9.47\n",
      "Prediction time: 364.3510 μs/sample\n",
      "I/O: Reads=0.000477, Writes=0.000026\n",
      "--------------------------------------------------------------------------------\n",
      "\n",
      "Training with sample size: 5000\n",
      "Memory usage: 2402.97 MB\n",
      "Using best parameters from max scale: {'algorithm': 'auto', 'n_neighbors': 7, 'weights': 'distance'}\n",
      "Training KNN model...\n",
      "Making predictions...\n"
     ]
    },
    {
     "name": "stdout",
     "output_type": "stream",
     "text": [
      "Calculating performance metrics...\n",
      "Measuring prediction performance...\n"
     ]
    },
    {
     "name": "stdout",
     "output_type": "stream",
     "text": [
      "Saving model...\n",
      "Model size: 342.67 KB\n",
      "\n",
      "Results for leisurewaysorted, Sample Size: 5000\n",
      "Grid Search Time: 0.00s, Training Time: 0.00s\n",
      "KNN Parameters: {'algorithm': 'auto', 'n_neighbors': 7, 'weights': 'distance'}\n",
      "Performance: R² = 0.9064, MAE = 497747.78, MAPE = 1689.16%\n",
      "q-score: 15.37\n",
      "Prediction time: 357.8216 μs/sample\n",
      "I/O: Reads=0.001673, Writes=0.000020\n",
      "--------------------------------------------------------------------------------\n",
      "\n",
      "Training with sample size: 1000\n",
      "Memory usage: 2402.97 MB\n",
      "Using best parameters from max scale: {'algorithm': 'auto', 'n_neighbors': 7, 'weights': 'distance'}\n",
      "Training KNN model...\n",
      "Making predictions...\n"
     ]
    },
    {
     "name": "stdout",
     "output_type": "stream",
     "text": [
      "Calculating performance metrics...\n",
      "Measuring prediction performance...\n"
     ]
    },
    {
     "name": "stdout",
     "output_type": "stream",
     "text": [
      "Saving model...\n",
      "Model size: 40.62 KB\n",
      "\n",
      "Results for leisurewaysorted, Sample Size: 1000\n",
      "Grid Search Time: 0.00s, Training Time: 0.00s\n",
      "KNN Parameters: {'algorithm': 'auto', 'n_neighbors': 7, 'weights': 'distance'}\n",
      "Performance: R² = 0.7413, MAE = 861555.92, MAPE = 5516.72%\n",
      "q-score: 49.83\n",
      "Prediction time: 216.2419 μs/sample\n",
      "I/O: Reads=0.000011, Writes=0.000014\n",
      "--------------------------------------------------------------------------------\n",
      "Saving results for leisurewaysorted...\n"
     ]
    },
    {
     "name": "stdout",
     "output_type": "stream",
     "text": [
      "Memory usage: 2169.83 MB\n",
      "\n",
      "Processing dataset: areawater\n",
      "Universe boundaries for areawater: (-179.231086, -14.601813, 179.859681, 71.441059)\n",
      "Loading data from ../large_files/resultsDistance/areawater_results.csv\n"
     ]
    },
    {
     "name": "stdout",
     "output_type": "stream",
     "text": [
      "Parsing object coordinates...\n"
     ]
    },
    {
     "name": "stdout",
     "output_type": "stream",
     "text": [
      "\n",
      "Basic statistics for areawater dataset:\n",
      "Max count: 2292056.0\n",
      "Min count: 0.0\n",
      "Mean count: 483232.05\n",
      "Median count: 331295.00\n",
      "Total samples: 458552\n",
      "\n",
      "Calculating object features...\n",
      "Splitting data into train and test sets...\n",
      "Training set size: 366841\n",
      "\n",
      "Training with sample size: 366841\n",
      "Memory usage: 1547.08 MB\n",
      "Performing grid search for optimal parameters...\n"
     ]
    },
    {
     "name": "stdout",
     "output_type": "stream",
     "text": [
      "Grid search complete in 1067.09s\n",
      "Best parameters: {'algorithm': 'auto', 'n_neighbors': 7, 'weights': 'distance'}\n",
      "Training KNN model...\n"
     ]
    },
    {
     "name": "stdout",
     "output_type": "stream",
     "text": [
      "Making predictions...\n"
     ]
    },
    {
     "name": "stdout",
     "output_type": "stream",
     "text": [
      "Calculating performance metrics...\n",
      "Measuring prediction performance...\n"
     ]
    },
    {
     "name": "stdout",
     "output_type": "stream",
     "text": [
      "Saving model...\n"
     ]
    },
    {
     "name": "stdout",
     "output_type": "stream",
     "text": [
      "Model size: 24767.37 KB\n",
      "\n",
      "Results for areawater, Sample Size: 366841\n",
      "Grid Search Time: 1067.09s, Training Time: 0.25s\n",
      "KNN Parameters: {'algorithm': 'auto', 'n_neighbors': 7, 'weights': 'distance'}\n",
      "Performance: R² = 0.9967, MAE = 15313.31, MAPE = 52.84%\n",
      "q-score: 1.53\n",
      "Prediction time: 477.1718 μs/sample\n",
      "I/O: Reads=0.000064, Writes=0.000031\n",
      "--------------------------------------------------------------------------------\n",
      "Generating prediction scatter plot...\n"
     ]
    },
    {
     "name": "stdout",
     "output_type": "stream",
     "text": [
      "Generating side-by-side comparison plot...\n"
     ]
    },
    {
     "name": "stdout",
     "output_type": "stream",
     "text": [
      "\n",
      "Training with sample size: 100000\n",
      "Memory usage: 1545.12 MB\n",
      "Using best parameters from max scale: {'algorithm': 'auto', 'n_neighbors': 7, 'weights': 'distance'}\n",
      "Training KNN model...\n",
      "Making predictions...\n"
     ]
    },
    {
     "name": "stdout",
     "output_type": "stream",
     "text": [
      "Calculating performance metrics...\n",
      "Measuring prediction performance...\n"
     ]
    },
    {
     "name": "stdout",
     "output_type": "stream",
     "text": [
      "Saving model...\n"
     ]
    },
    {
     "name": "stdout",
     "output_type": "stream",
     "text": [
      "Model size: 6677.19 KB\n",
      "\n",
      "Results for areawater, Sample Size: 100000\n",
      "Grid Search Time: 0.00s, Training Time: 0.06s\n",
      "KNN Parameters: {'algorithm': 'auto', 'n_neighbors': 7, 'weights': 'distance'}\n",
      "Performance: R² = 0.9924, MAE = 22638.04, MAPE = 90.42%\n",
      "q-score: 1.88\n",
      "Prediction time: 464.9684 μs/sample\n",
      "I/O: Reads=0.000000, Writes=0.000535\n",
      "--------------------------------------------------------------------------------\n",
      "\n",
      "Training with sample size: 50000\n",
      "Memory usage: 1545.13 MB\n",
      "Using best parameters from max scale: {'algorithm': 'auto', 'n_neighbors': 7, 'weights': 'distance'}\n",
      "Training KNN model...\n",
      "Making predictions...\n"
     ]
    },
    {
     "name": "stdout",
     "output_type": "stream",
     "text": [
      "Calculating performance metrics...\n",
      "Measuring prediction performance...\n"
     ]
    },
    {
     "name": "stdout",
     "output_type": "stream",
     "text": [
      "Saving model...\n",
      "Model size: 3313.95 KB\n",
      "\n",
      "Results for areawater, Sample Size: 50000\n",
      "Grid Search Time: 0.00s, Training Time: 0.02s\n",
      "KNN Parameters: {'algorithm': 'auto', 'n_neighbors': 7, 'weights': 'distance'}\n",
      "Performance: R² = 0.9886, MAE = 28006.21, MAPE = 162.27%\n",
      "q-score: 2.58\n",
      "Prediction time: 484.9057 μs/sample\n",
      "I/O: Reads=0.000000, Writes=0.000195\n",
      "--------------------------------------------------------------------------------\n"
     ]
    },
    {
     "name": "stdout",
     "output_type": "stream",
     "text": [
      "\n",
      "Training with sample size: 10000\n",
      "Memory usage: 1545.13 MB\n",
      "Using best parameters from max scale: {'algorithm': 'auto', 'n_neighbors': 7, 'weights': 'distance'}\n",
      "Training KNN model...\n",
      "Making predictions...\n"
     ]
    },
    {
     "name": "stdout",
     "output_type": "stream",
     "text": [
      "Calculating performance metrics...\n",
      "Measuring prediction performance...\n"
     ]
    },
    {
     "name": "stdout",
     "output_type": "stream",
     "text": [
      "Saving model...\n",
      "Model size: 667.71 KB\n",
      "\n",
      "Results for areawater, Sample Size: 10000\n",
      "Grid Search Time: 0.00s, Training Time: 0.01s\n",
      "KNN Parameters: {'algorithm': 'auto', 'n_neighbors': 7, 'weights': 'distance'}\n",
      "Performance: R² = 0.9717, MAE = 46481.61, MAPE = 392.43%\n",
      "q-score: 4.70\n",
      "Prediction time: 407.8642 μs/sample\n",
      "I/O: Reads=0.000068, Writes=0.000023\n",
      "--------------------------------------------------------------------------------\n",
      "\n",
      "Training with sample size: 5000\n",
      "Memory usage: 1545.13 MB\n",
      "Using best parameters from max scale: {'algorithm': 'auto', 'n_neighbors': 7, 'weights': 'distance'}\n",
      "Training KNN model...\n",
      "Making predictions...\n"
     ]
    },
    {
     "name": "stdout",
     "output_type": "stream",
     "text": [
      "Calculating performance metrics...\n",
      "Measuring prediction performance...\n"
     ]
    },
    {
     "name": "stdout",
     "output_type": "stream",
     "text": [
      "Saving model...\n",
      "Model size: 334.94 KB\n",
      "\n",
      "Results for areawater, Sample Size: 5000\n",
      "Grid Search Time: 0.00s, Training Time: 0.00s\n",
      "KNN Parameters: {'algorithm': 'auto', 'n_neighbors': 7, 'weights': 'distance'}\n",
      "Performance: R² = 0.9572, MAE = 57834.29, MAPE = 4375.71%\n",
      "q-score: 43.84\n",
      "Prediction time: 391.9107 μs/sample\n",
      "I/O: Reads=0.000001, Writes=0.000614\n",
      "--------------------------------------------------------------------------------\n",
      "\n",
      "Training with sample size: 1000\n",
      "Memory usage: 1545.13 MB\n",
      "Using best parameters from max scale: {'algorithm': 'auto', 'n_neighbors': 7, 'weights': 'distance'}\n",
      "Training KNN model...\n",
      "Making predictions...\n"
     ]
    },
    {
     "name": "stdout",
     "output_type": "stream",
     "text": [
      "Calculating performance metrics...\n",
      "Measuring prediction performance...\n"
     ]
    },
    {
     "name": "stdout",
     "output_type": "stream",
     "text": [
      "Saving model...\n",
      "Model size: 40.23 KB\n",
      "\n",
      "Results for areawater, Sample Size: 1000\n",
      "Grid Search Time: 0.00s, Training Time: 0.00s\n",
      "KNN Parameters: {'algorithm': 'auto', 'n_neighbors': 7, 'weights': 'distance'}\n",
      "Performance: R² = 0.8700, MAE = 105139.85, MAPE = 10869.74%\n",
      "q-score: 107.32\n",
      "Prediction time: 258.9734 μs/sample\n",
      "I/O: Reads=0.000001, Writes=0.000059\n",
      "--------------------------------------------------------------------------------\n",
      "Saving results for areawater...\n"
     ]
    },
    {
     "name": "stdout",
     "output_type": "stream",
     "text": [
      "Memory usage: 1545.13 MB\n",
      "\n",
      "Processing dataset: yago2\n",
      "Universe boundaries for yago2: (-179.98473, -90.0, 180.0, 90.0)\n",
      "Loading data from ../large_files/resultsDistance/yago2_results.csv\n"
     ]
    },
    {
     "name": "stdout",
     "output_type": "stream",
     "text": [
      "Parsing object coordinates...\n"
     ]
    },
    {
     "name": "stdout",
     "output_type": "stream",
     "text": [
      "\n",
      "Basic statistics for yago2 dataset:\n",
      "Max count: 4470390.0\n",
      "Min count: 0.0\n",
      "Mean count: 279738.01\n",
      "Median count: 172925.00\n",
      "Total samples: 898942\n",
      "\n",
      "Calculating object features...\n",
      "Splitting data into train and test sets...\n",
      "Training set size: 719153\n",
      "\n",
      "Training with sample size: 719153\n",
      "Memory usage: 1551.07 MB\n",
      "Performing grid search for optimal parameters...\n"
     ]
    },
    {
     "name": "stdout",
     "output_type": "stream",
     "text": [
      "Grid search complete in 2475.78s\n",
      "Best parameters: {'algorithm': 'auto', 'n_neighbors': 10, 'weights': 'distance'}\n",
      "Training KNN model...\n"
     ]
    },
    {
     "name": "stdout",
     "output_type": "stream",
     "text": [
      "Making predictions...\n"
     ]
    },
    {
     "name": "stdout",
     "output_type": "stream",
     "text": [
      "Calculating performance metrics...\n",
      "Measuring prediction performance...\n"
     ]
    },
    {
     "name": "stdout",
     "output_type": "stream",
     "text": [
      "Saving model...\n"
     ]
    },
    {
     "name": "stdout",
     "output_type": "stream",
     "text": [
      "Model size: 44417.65 KB\n",
      "\n",
      "Results for yago2, Sample Size: 719153\n",
      "Grid Search Time: 2475.78s, Training Time: 0.59s\n",
      "KNN Parameters: {'algorithm': 'auto', 'n_neighbors': 10, 'weights': 'distance'}\n",
      "Performance: R² = 0.9632, MAE = 21085.16, MAPE = 387.80%\n",
      "q-score: 3.68\n",
      "Prediction time: 574.4020 μs/sample\n",
      "I/O: Reads=0.000033, Writes=0.000041\n",
      "--------------------------------------------------------------------------------\n",
      "Generating prediction scatter plot...\n"
     ]
    },
    {
     "name": "stdout",
     "output_type": "stream",
     "text": [
      "Generating side-by-side comparison plot...\n"
     ]
    },
    {
     "name": "stdout",
     "output_type": "stream",
     "text": [
      "\n",
      "Training with sample size: 500000\n",
      "Memory usage: 1552.80 MB\n",
      "Using best parameters from max scale: {'algorithm': 'auto', 'n_neighbors': 10, 'weights': 'distance'}\n",
      "Training KNN model...\n"
     ]
    },
    {
     "name": "stdout",
     "output_type": "stream",
     "text": [
      "Making predictions...\n"
     ]
    },
    {
     "name": "stdout",
     "output_type": "stream",
     "text": [
      "Calculating performance metrics...\n",
      "Measuring prediction performance...\n"
     ]
    },
    {
     "name": "stdout",
     "output_type": "stream",
     "text": [
      "Saving model...\n"
     ]
    },
    {
     "name": "stdout",
     "output_type": "stream",
     "text": [
      "Model size: 31439.16 KB\n",
      "\n",
      "Results for yago2, Sample Size: 500000\n",
      "Grid Search Time: 0.00s, Training Time: 0.38s\n",
      "KNN Parameters: {'algorithm': 'auto', 'n_neighbors': 10, 'weights': 'distance'}\n",
      "Performance: R² = 0.9611, MAE = 22396.00, MAPE = 455.27%\n",
      "q-score: 4.28\n",
      "Prediction time: 595.5529 μs/sample\n",
      "I/O: Reads=0.000033, Writes=0.000031\n",
      "--------------------------------------------------------------------------------\n",
      "\n",
      "Training with sample size: 100000\n",
      "Memory usage: 1552.81 MB\n",
      "Using best parameters from max scale: {'algorithm': 'auto', 'n_neighbors': 10, 'weights': 'distance'}\n",
      "Training KNN model...\n",
      "Making predictions...\n"
     ]
    },
    {
     "name": "stdout",
     "output_type": "stream",
     "text": [
      "Calculating performance metrics...\n",
      "Measuring prediction performance...\n"
     ]
    },
    {
     "name": "stdout",
     "output_type": "stream",
     "text": [
      "Saving model...\n"
     ]
    },
    {
     "name": "stdout",
     "output_type": "stream",
     "text": [
      "Model size: 6080.69 KB\n",
      "\n",
      "Results for yago2, Sample Size: 100000\n",
      "Grid Search Time: 0.00s, Training Time: 0.05s\n",
      "KNN Parameters: {'algorithm': 'auto', 'n_neighbors': 10, 'weights': 'distance'}\n",
      "Performance: R² = 0.9474, MAE = 30769.95, MAPE = 467.48%\n",
      "q-score: 4.37\n",
      "Prediction time: 636.0489 μs/sample\n",
      "I/O: Reads=0.000000, Writes=0.000436\n",
      "--------------------------------------------------------------------------------\n",
      "\n",
      "Training with sample size: 50000\n",
      "Memory usage: 1552.81 MB\n",
      "Using best parameters from max scale: {'algorithm': 'auto', 'n_neighbors': 10, 'weights': 'distance'}\n",
      "Training KNN model...\n",
      "Making predictions...\n"
     ]
    },
    {
     "name": "stdout",
     "output_type": "stream",
     "text": [
      "Calculating performance metrics...\n",
      "Measuring prediction performance...\n"
     ]
    },
    {
     "name": "stdout",
     "output_type": "stream",
     "text": [
      "Saving model...\n",
      "Model size: 3018.63 KB\n",
      "\n",
      "Results for yago2, Sample Size: 50000\n",
      "Grid Search Time: 0.00s, Training Time: 0.03s\n",
      "KNN Parameters: {'algorithm': 'auto', 'n_neighbors': 10, 'weights': 'distance'}\n",
      "Performance: R² = 0.9353, MAE = 36366.17, MAPE = 492.65%\n",
      "q-score: 4.84\n",
      "Prediction time: 595.4465 μs/sample\n",
      "I/O: Reads=0.000000, Writes=0.000111\n",
      "--------------------------------------------------------------------------------\n"
     ]
    },
    {
     "name": "stdout",
     "output_type": "stream",
     "text": [
      "\n",
      "Training with sample size: 10000\n",
      "Memory usage: 1552.81 MB\n",
      "Using best parameters from max scale: {'algorithm': 'auto', 'n_neighbors': 10, 'weights': 'distance'}\n",
      "Training KNN model...\n",
      "Making predictions...\n"
     ]
    },
    {
     "name": "stdout",
     "output_type": "stream",
     "text": [
      "Calculating performance metrics...\n",
      "Measuring prediction performance...\n"
     ]
    },
    {
     "name": "stdout",
     "output_type": "stream",
     "text": [
      "Saving model...\n",
      "Model size: 608.54 KB\n",
      "\n",
      "Results for yago2, Sample Size: 10000\n",
      "Grid Search Time: 0.00s, Training Time: 0.00s\n",
      "KNN Parameters: {'algorithm': 'auto', 'n_neighbors': 10, 'weights': 'distance'}\n",
      "Performance: R² = 0.8893, MAE = 53540.92, MAPE = 537.99%\n",
      "q-score: 4.77\n",
      "Prediction time: 461.4505 μs/sample\n",
      "I/O: Reads=0.000033, Writes=0.000063\n",
      "--------------------------------------------------------------------------------\n",
      "\n",
      "Training with sample size: 5000\n",
      "Memory usage: 1552.81 MB\n",
      "Using best parameters from max scale: {'algorithm': 'auto', 'n_neighbors': 10, 'weights': 'distance'}\n",
      "Training KNN model...\n",
      "Making predictions...\n"
     ]
    },
    {
     "name": "stdout",
     "output_type": "stream",
     "text": [
      "Calculating performance metrics...\n",
      "Measuring prediction performance...\n"
     ]
    },
    {
     "name": "stdout",
     "output_type": "stream",
     "text": [
      "Saving model...\n",
      "Model size: 306.01 KB\n",
      "\n",
      "Results for yago2, Sample Size: 5000\n",
      "Grid Search Time: 0.00s, Training Time: 0.00s\n",
      "KNN Parameters: {'algorithm': 'auto', 'n_neighbors': 10, 'weights': 'distance'}\n",
      "Performance: R² = 0.8471, MAE = 65562.84, MAPE = 448.70%\n",
      "q-score: 4.10\n",
      "Prediction time: 410.1876 μs/sample\n",
      "I/O: Reads=0.000000, Writes=0.000024\n",
      "--------------------------------------------------------------------------------\n",
      "\n",
      "Training with sample size: 1000\n",
      "Memory usage: 1552.81 MB\n",
      "Using best parameters from max scale: {'algorithm': 'auto', 'n_neighbors': 10, 'weights': 'distance'}\n",
      "Training KNN model...\n",
      "Making predictions...\n"
     ]
    },
    {
     "name": "stdout",
     "output_type": "stream",
     "text": [
      "Calculating performance metrics...\n",
      "Measuring prediction performance...\n"
     ]
    },
    {
     "name": "stdout",
     "output_type": "stream",
     "text": [
      "Saving model...\n",
      "Model size: 37.73 KB\n",
      "\n",
      "Results for yago2, Sample Size: 1000\n",
      "Grid Search Time: 0.00s, Training Time: 0.00s\n",
      "KNN Parameters: {'algorithm': 'auto', 'n_neighbors': 10, 'weights': 'distance'}\n",
      "Performance: R² = 0.6386, MAE = 102764.92, MAPE = 608.23%\n",
      "q-score: 5.06\n",
      "Prediction time: 251.9229 μs/sample\n",
      "I/O: Reads=0.000033, Writes=0.000016\n",
      "--------------------------------------------------------------------------------\n",
      "Saving results for yago2...\n"
     ]
    },
    {
     "name": "stdout",
     "output_type": "stream",
     "text": [
      "Memory usage: 1552.81 MB\n",
      "\n",
      "Processing dataset: powerthingnodesorted\n",
      "Universe boundaries for powerthingnodesorted: (-177.92741900000001, -77.8453164, 178.47197400000002, 78.2256315)\n",
      "Loading data from ../large_files/resultsDistance/powerthingnodesorted_results.csv\n"
     ]
    },
    {
     "name": "stdout",
     "output_type": "stream",
     "text": [
      "Parsing object coordinates...\n"
     ]
    },
    {
     "name": "stdout",
     "output_type": "stream",
     "text": [
      "\n",
      "Basic statistics for powerthingnodesorted dataset:\n",
      "Max count: 10461467.0\n",
      "Min count: 0.0\n",
      "Mean count: 665028.42\n",
      "Median count: 348182.50\n",
      "Total samples: 2102514\n",
      "\n",
      "Calculating object features...\n",
      "Splitting data into train and test sets...\n"
     ]
    },
    {
     "name": "stdout",
     "output_type": "stream",
     "text": [
      "Training set size: 1682011\n",
      "\n",
      "Training with sample size: 1682011\n",
      "Memory usage: 1768.39 MB\n",
      "Performing grid search for optimal parameters...\n"
     ]
    },
    {
     "name": "stdout",
     "output_type": "stream",
     "text": [
      "Grid search complete in 4805.83s\n",
      "Best parameters: {'algorithm': 'auto', 'n_neighbors': 7, 'weights': 'distance'}\n",
      "Training KNN model...\n"
     ]
    },
    {
     "name": "stdout",
     "output_type": "stream",
     "text": [
      "Making predictions...\n"
     ]
    },
    {
     "name": "stdout",
     "output_type": "stream",
     "text": [
      "Calculating performance metrics...\n",
      "Measuring prediction performance...\n"
     ]
    },
    {
     "name": "stdout",
     "output_type": "stream",
     "text": [
      "Saving model...\n"
     ]
    },
    {
     "name": "stdout",
     "output_type": "stream",
     "text": [
      "Model size: 116389.65 KB\n",
      "\n",
      "Results for powerthingnodesorted, Sample Size: 1682011\n",
      "Grid Search Time: 4805.83s, Training Time: 2.23s\n",
      "KNN Parameters: {'algorithm': 'auto', 'n_neighbors': 7, 'weights': 'distance'}\n",
      "Performance: R² = 0.9969, MAE = 23119.81, MAPE = 96.57%\n",
      "q-score: 1.97\n",
      "Prediction time: 561.1502 μs/sample\n",
      "I/O: Reads=0.000014, Writes=0.000020\n",
      "--------------------------------------------------------------------------------\n",
      "Generating prediction scatter plot...\n"
     ]
    },
    {
     "name": "stdout",
     "output_type": "stream",
     "text": [
      "Generating side-by-side comparison plot...\n"
     ]
    },
    {
     "name": "stdout",
     "output_type": "stream",
     "text": [
      "\n",
      "Training with sample size: 1000000\n",
      "Memory usage: 1777.32 MB\n",
      "Using best parameters from max scale: {'algorithm': 'auto', 'n_neighbors': 7, 'weights': 'distance'}\n",
      "Training KNN model...\n"
     ]
    },
    {
     "name": "stdout",
     "output_type": "stream",
     "text": [
      "Making predictions...\n"
     ]
    },
    {
     "name": "stdout",
     "output_type": "stream",
     "text": [
      "Calculating performance metrics...\n",
      "Measuring prediction performance...\n"
     ]
    },
    {
     "name": "stdout",
     "output_type": "stream",
     "text": [
      "Saving model...\n"
     ]
    },
    {
     "name": "stdout",
     "output_type": "stream",
     "text": [
      "Model size: 70930.27 KB\n",
      "\n",
      "Results for powerthingnodesorted, Sample Size: 1000000\n",
      "Grid Search Time: 0.00s, Training Time: 1.06s\n",
      "KNN Parameters: {'algorithm': 'auto', 'n_neighbors': 7, 'weights': 'distance'}\n",
      "Performance: R² = 0.9958, MAE = 27101.11, MAPE = 115.26%\n",
      "q-score: 2.15\n",
      "Prediction time: 509.9413 μs/sample\n",
      "I/O: Reads=0.000028, Writes=0.000663\n",
      "--------------------------------------------------------------------------------\n",
      "\n",
      "Training with sample size: 500000\n",
      "Memory usage: 1761.26 MB\n",
      "Using best parameters from max scale: {'algorithm': 'auto', 'n_neighbors': 7, 'weights': 'distance'}\n",
      "Training KNN model...\n"
     ]
    },
    {
     "name": "stdout",
     "output_type": "stream",
     "text": [
      "Making predictions...\n"
     ]
    },
    {
     "name": "stdout",
     "output_type": "stream",
     "text": [
      "Calculating performance metrics...\n",
      "Measuring prediction performance...\n"
     ]
    },
    {
     "name": "stdout",
     "output_type": "stream",
     "text": [
      "Saving model...\n"
     ]
    },
    {
     "name": "stdout",
     "output_type": "stream",
     "text": [
      "Model size: 35350.79 KB\n",
      "\n",
      "Results for powerthingnodesorted, Sample Size: 500000\n",
      "Grid Search Time: 0.00s, Training Time: 0.39s\n",
      "KNN Parameters: {'algorithm': 'auto', 'n_neighbors': 7, 'weights': 'distance'}\n",
      "Performance: R² = 0.9936, MAE = 33491.34, MAPE = 164.88%\n",
      "q-score: 2.66\n",
      "Prediction time: 489.5521 μs/sample\n",
      "I/O: Reads=0.000014, Writes=0.000406\n",
      "--------------------------------------------------------------------------------\n",
      "\n",
      "Training with sample size: 100000\n",
      "Memory usage: 1759.97 MB\n",
      "Using best parameters from max scale: {'algorithm': 'auto', 'n_neighbors': 7, 'weights': 'distance'}\n",
      "Training KNN model...\n",
      "Making predictions...\n"
     ]
    },
    {
     "name": "stdout",
     "output_type": "stream",
     "text": [
      "Calculating performance metrics...\n",
      "Measuring prediction performance...\n"
     ]
    },
    {
     "name": "stdout",
     "output_type": "stream",
     "text": [
      "Saving model...\n"
     ]
    },
    {
     "name": "stdout",
     "output_type": "stream",
     "text": [
      "Model size: 6832.58 KB\n",
      "\n",
      "Results for powerthingnodesorted, Sample Size: 100000\n",
      "Grid Search Time: 0.00s, Training Time: 0.06s\n",
      "KNN Parameters: {'algorithm': 'auto', 'n_neighbors': 7, 'weights': 'distance'}\n",
      "Performance: R² = 0.9824, MAE = 55872.16, MAPE = 351.12%\n",
      "q-score: 4.50\n",
      "Prediction time: 540.3264 μs/sample\n",
      "I/O: Reads=0.000014, Writes=0.000212\n",
      "--------------------------------------------------------------------------------\n",
      "\n",
      "Training with sample size: 50000\n",
      "Memory usage: 1744.50 MB\n",
      "Using best parameters from max scale: {'algorithm': 'auto', 'n_neighbors': 7, 'weights': 'distance'}\n",
      "Training KNN model...\n",
      "Making predictions...\n"
     ]
    },
    {
     "name": "stdout",
     "output_type": "stream",
     "text": [
      "Calculating performance metrics...\n",
      "Measuring prediction performance...\n"
     ]
    },
    {
     "name": "stdout",
     "output_type": "stream",
     "text": [
      "Saving model...\n",
      "Model size: 3389.34 KB\n",
      "\n",
      "Results for powerthingnodesorted, Sample Size: 50000\n",
      "Grid Search Time: 0.00s, Training Time: 0.03s\n",
      "KNN Parameters: {'algorithm': 'auto', 'n_neighbors': 7, 'weights': 'distance'}\n",
      "Performance: R² = 0.9724, MAE = 70291.89, MAPE = 455.87%\n",
      "q-score: 5.54\n",
      "Prediction time: 519.8018 μs/sample\n",
      "I/O: Reads=0.000029, Writes=0.000075\n",
      "--------------------------------------------------------------------------------\n"
     ]
    },
    {
     "name": "stdout",
     "output_type": "stream",
     "text": [
      "\n",
      "Training with sample size: 10000\n",
      "Memory usage: 1744.50 MB\n",
      "Using best parameters from max scale: {'algorithm': 'auto', 'n_neighbors': 7, 'weights': 'distance'}\n",
      "Training KNN model...\n",
      "Making predictions...\n"
     ]
    },
    {
     "name": "stdout",
     "output_type": "stream",
     "text": [
      "Calculating performance metrics...\n",
      "Measuring prediction performance...\n"
     ]
    },
    {
     "name": "stdout",
     "output_type": "stream",
     "text": [
      "Saving model...\n",
      "Model size: 682.34 KB\n",
      "\n",
      "Results for powerthingnodesorted, Sample Size: 10000\n",
      "Grid Search Time: 0.00s, Training Time: 0.00s\n",
      "KNN Parameters: {'algorithm': 'auto', 'n_neighbors': 7, 'weights': 'distance'}\n",
      "Performance: R² = 0.9223, MAE = 118894.70, MAPE = 856.24%\n",
      "q-score: 9.27\n",
      "Prediction time: 371.2193 μs/sample\n",
      "I/O: Reads=0.000014, Writes=0.000034\n",
      "--------------------------------------------------------------------------------\n",
      "\n",
      "Training with sample size: 5000\n",
      "Memory usage: 1744.50 MB\n",
      "Using best parameters from max scale: {'algorithm': 'auto', 'n_neighbors': 7, 'weights': 'distance'}\n",
      "Training KNN model...\n",
      "Making predictions...\n"
     ]
    },
    {
     "name": "stdout",
     "output_type": "stream",
     "text": [
      "Calculating performance metrics...\n",
      "Measuring prediction performance...\n"
     ]
    },
    {
     "name": "stdout",
     "output_type": "stream",
     "text": [
      "Saving model...\n",
      "Model size: 341.20 KB\n",
      "\n",
      "Results for powerthingnodesorted, Sample Size: 5000\n",
      "Grid Search Time: 0.00s, Training Time: 0.00s\n",
      "KNN Parameters: {'algorithm': 'auto', 'n_neighbors': 7, 'weights': 'distance'}\n",
      "Performance: R² = 0.8906, MAE = 147957.36, MAPE = 1342.06%\n",
      "q-score: 14.00\n",
      "Prediction time: 322.1636 μs/sample\n",
      "I/O: Reads=0.000014, Writes=0.000019\n",
      "--------------------------------------------------------------------------------\n",
      "\n",
      "Training with sample size: 1000\n",
      "Memory usage: 1744.50 MB\n",
      "Using best parameters from max scale: {'algorithm': 'auto', 'n_neighbors': 7, 'weights': 'distance'}\n",
      "Training KNN model...\n",
      "Making predictions...\n"
     ]
    },
    {
     "name": "stdout",
     "output_type": "stream",
     "text": [
      "Calculating performance metrics...\n",
      "Measuring prediction performance...\n"
     ]
    },
    {
     "name": "stdout",
     "output_type": "stream",
     "text": [
      "Saving model...\n",
      "Model size: 40.38 KB\n",
      "\n",
      "Results for powerthingnodesorted, Sample Size: 1000\n",
      "Grid Search Time: 0.00s, Training Time: 0.00s\n",
      "KNN Parameters: {'algorithm': 'auto', 'n_neighbors': 7, 'weights': 'distance'}\n",
      "Performance: R² = 0.7779, MAE = 235186.87, MAPE = 6149.83%\n",
      "q-score: 60.88\n",
      "Prediction time: 217.4963 μs/sample\n",
      "I/O: Reads=0.000000, Writes=0.000008\n",
      "--------------------------------------------------------------------------------\n",
      "Saving results for powerthingnodesorted...\n"
     ]
    },
    {
     "name": "stdout",
     "output_type": "stream",
     "text": [
      "Memory usage: 1661.09 MB\n",
      "\n",
      "Processing dataset: emergencythingwaysorted\n",
      "Universe boundaries for emergencythingwaysorted: (-175.221337, -53.7941359, 179.3313189, 78.22019230000001)\n",
      "Loading data from ../large_files/resultsDistance/emergencythingwaysorted_results.csv\n"
     ]
    },
    {
     "name": "stdout",
     "output_type": "stream",
     "text": [
      "Parsing object coordinates...\n"
     ]
    },
    {
     "name": "stdout",
     "output_type": "stream",
     "text": [
      "\n",
      "Basic statistics for emergencythingwaysorted dataset:\n",
      "Max count: 802965.0\n",
      "Min count: 0.0\n",
      "Mean count: 67511.32\n",
      "Median count: 16253.00\n",
      "Total samples: 161514\n",
      "\n",
      "Calculating object features...\n",
      "Splitting data into train and test sets...\n",
      "Training set size: 129211\n",
      "\n",
      "Training with sample size: 129211\n",
      "Memory usage: 1533.76 MB\n",
      "Performing grid search for optimal parameters...\n"
     ]
    },
    {
     "name": "stdout",
     "output_type": "stream",
     "text": [
      "Grid search complete in 350.98s\n",
      "Best parameters: {'algorithm': 'auto', 'n_neighbors': 5, 'weights': 'distance'}\n",
      "Training KNN model...\n",
      "Making predictions...\n"
     ]
    },
    {
     "name": "stdout",
     "output_type": "stream",
     "text": [
      "Calculating performance metrics...\n",
      "Measuring prediction performance...\n"
     ]
    },
    {
     "name": "stdout",
     "output_type": "stream",
     "text": [
      "Saving model...\n"
     ]
    },
    {
     "name": "stdout",
     "output_type": "stream",
     "text": [
      "Model size: 8914.36 KB\n",
      "\n",
      "Results for emergencythingwaysorted, Sample Size: 129211\n",
      "Grid Search Time: 350.98s, Training Time: 0.08s\n",
      "KNN Parameters: {'algorithm': 'auto', 'n_neighbors': 5, 'weights': 'distance'}\n",
      "Performance: R² = 0.9722, MAE = 5059.06, MAPE = 114.95%\n",
      "q-score: 2.14\n",
      "Prediction time: 406.5350 μs/sample\n",
      "I/O: Reads=0.000000, Writes=0.000050\n",
      "--------------------------------------------------------------------------------\n",
      "Generating prediction scatter plot...\n"
     ]
    },
    {
     "name": "stdout",
     "output_type": "stream",
     "text": [
      "Generating side-by-side comparison plot...\n"
     ]
    },
    {
     "name": "stdout",
     "output_type": "stream",
     "text": [
      "\n",
      "Training with sample size: 100000\n",
      "Memory usage: 1532.76 MB\n",
      "Using best parameters from max scale: {'algorithm': 'auto', 'n_neighbors': 5, 'weights': 'distance'}\n",
      "Training KNN model...\n",
      "Making predictions...\n"
     ]
    },
    {
     "name": "stdout",
     "output_type": "stream",
     "text": [
      "Calculating performance metrics...\n",
      "Measuring prediction performance...\n"
     ]
    },
    {
     "name": "stdout",
     "output_type": "stream",
     "text": [
      "Saving model...\n"
     ]
    },
    {
     "name": "stdout",
     "output_type": "stream",
     "text": [
      "Model size: 6732.75 KB\n",
      "\n",
      "Results for emergencythingwaysorted, Sample Size: 100000\n",
      "Grid Search Time: 0.00s, Training Time: 0.06s\n",
      "KNN Parameters: {'algorithm': 'auto', 'n_neighbors': 5, 'weights': 'distance'}\n",
      "Performance: R² = 0.9687, MAE = 5459.17, MAPE = 122.80%\n",
      "q-score: 2.21\n",
      "Prediction time: 535.4543 μs/sample\n",
      "I/O: Reads=0.000000, Writes=0.000031\n",
      "--------------------------------------------------------------------------------\n",
      "\n",
      "Training with sample size: 50000\n",
      "Memory usage: 1532.77 MB\n",
      "Using best parameters from max scale: {'algorithm': 'auto', 'n_neighbors': 5, 'weights': 'distance'}\n",
      "Training KNN model...\n",
      "Making predictions...\n"
     ]
    },
    {
     "name": "stdout",
     "output_type": "stream",
     "text": [
      "Calculating performance metrics...\n",
      "Measuring prediction performance...\n"
     ]
    },
    {
     "name": "stdout",
     "output_type": "stream",
     "text": [
      "Saving model...\n",
      "Model size: 3342.00 KB\n",
      "\n",
      "Results for emergencythingwaysorted, Sample Size: 50000\n",
      "Grid Search Time: 0.00s, Training Time: 0.02s\n",
      "KNN Parameters: {'algorithm': 'auto', 'n_neighbors': 5, 'weights': 'distance'}\n",
      "Performance: R² = 0.9577, MAE = 6736.92, MAPE = 159.37%\n",
      "q-score: 2.63\n",
      "Prediction time: 494.2729 μs/sample\n",
      "I/O: Reads=0.000000, Writes=0.000012\n",
      "--------------------------------------------------------------------------------\n"
     ]
    },
    {
     "name": "stdout",
     "output_type": "stream",
     "text": [
      "\n",
      "Training with sample size: 10000\n",
      "Memory usage: 1532.77 MB\n",
      "Using best parameters from max scale: {'algorithm': 'auto', 'n_neighbors': 5, 'weights': 'distance'}\n",
      "Training KNN model...\n",
      "Making predictions...\n"
     ]
    },
    {
     "name": "stdout",
     "output_type": "stream",
     "text": [
      "Calculating performance metrics...\n",
      "Measuring prediction performance...\n"
     ]
    },
    {
     "name": "stdout",
     "output_type": "stream",
     "text": [
      "Saving model...\n",
      "Model size: 673.15 KB\n",
      "\n",
      "Results for emergencythingwaysorted, Sample Size: 10000\n",
      "Grid Search Time: 0.00s, Training Time: 0.00s\n",
      "KNN Parameters: {'algorithm': 'auto', 'n_neighbors': 5, 'weights': 'distance'}\n",
      "Performance: R² = 0.9155, MAE = 10816.10, MAPE = 313.40%\n",
      "q-score: 4.13\n",
      "Prediction time: 342.1630 μs/sample\n",
      "I/O: Reads=0.000000, Writes=0.000015\n",
      "--------------------------------------------------------------------------------\n",
      "\n",
      "Training with sample size: 5000\n",
      "Memory usage: 1532.77 MB\n",
      "Using best parameters from max scale: {'algorithm': 'auto', 'n_neighbors': 5, 'weights': 'distance'}\n",
      "Training KNN model...\n",
      "Making predictions...\n"
     ]
    },
    {
     "name": "stdout",
     "output_type": "stream",
     "text": [
      "Calculating performance metrics...\n",
      "Measuring prediction performance...\n"
     ]
    },
    {
     "name": "stdout",
     "output_type": "stream",
     "text": [
      "Saving model...\n",
      "Model size: 336.95 KB\n",
      "\n",
      "Results for emergencythingwaysorted, Sample Size: 5000\n",
      "Grid Search Time: 0.00s, Training Time: 0.00s\n",
      "KNN Parameters: {'algorithm': 'auto', 'n_neighbors': 5, 'weights': 'distance'}\n",
      "Performance: R² = 0.8888, MAE = 13412.54, MAPE = 454.71%\n",
      "q-score: 5.54\n",
      "Prediction time: 308.5512 μs/sample\n",
      "I/O: Reads=0.000000, Writes=0.000046\n",
      "--------------------------------------------------------------------------------\n",
      "\n",
      "Training with sample size: 1000\n",
      "Memory usage: 1532.77 MB\n",
      "Using best parameters from max scale: {'algorithm': 'auto', 'n_neighbors': 5, 'weights': 'distance'}\n",
      "Training KNN model...\n",
      "Making predictions...\n"
     ]
    },
    {
     "name": "stdout",
     "output_type": "stream",
     "text": [
      "Calculating performance metrics...\n",
      "Measuring prediction performance...\n"
     ]
    },
    {
     "name": "stdout",
     "output_type": "stream",
     "text": [
      "Saving model...\n",
      "Model size: 40.04 KB\n",
      "\n",
      "Results for emergencythingwaysorted, Sample Size: 1000\n",
      "Grid Search Time: 0.00s, Training Time: 0.00s\n",
      "KNN Parameters: {'algorithm': 'auto', 'n_neighbors': 5, 'weights': 'distance'}\n",
      "Performance: R² = 0.7665, MAE = 21816.53, MAPE = 1105.75%\n",
      "q-score: 12.32\n",
      "Prediction time: 191.0160 μs/sample\n",
      "I/O: Reads=0.000000, Writes=0.000006\n",
      "--------------------------------------------------------------------------------\n",
      "Saving results for emergencythingwaysorted...\n"
     ]
    },
    {
     "name": "stdout",
     "output_type": "stream",
     "text": [
      "Memory usage: 1532.77 MB\n",
      "\n",
      "Processing dataset: historicthingwaysorted\n",
      "Universe boundaries for historicthingwaysorted: (-179.99526020000002, -85.0036942, 179.99597930000002, 78.06750650000001)\n",
      "Loading data from ../large_files/resultsDistance/historicthingwaysorted_results.csv\n"
     ]
    },
    {
     "name": "stdout",
     "output_type": "stream",
     "text": [
      "Parsing object coordinates...\n"
     ]
    },
    {
     "name": "stdout",
     "output_type": "stream",
     "text": [
      "\n",
      "Basic statistics for historicthingwaysorted dataset:\n",
      "Max count: 1790224.0\n",
      "Min count: 0.0\n",
      "Mean count: 261684.06\n",
      "Median count: 134375.00\n",
      "Total samples: 358439\n",
      "\n",
      "Calculating object features...\n",
      "Splitting data into train and test sets...\n",
      "Training set size: 286751\n",
      "\n",
      "Training with sample size: 286751\n",
      "Memory usage: 1535.76 MB\n",
      "Performing grid search for optimal parameters...\n"
     ]
    },
    {
     "name": "stdout",
     "output_type": "stream",
     "text": [
      "Grid search complete in 838.15s\n",
      "Best parameters: {'algorithm': 'auto', 'n_neighbors': 5, 'weights': 'distance'}\n",
      "Training KNN model...\n"
     ]
    },
    {
     "name": "stdout",
     "output_type": "stream",
     "text": [
      "Making predictions...\n"
     ]
    },
    {
     "name": "stdout",
     "output_type": "stream",
     "text": [
      "Calculating performance metrics...\n",
      "Measuring prediction performance...\n"
     ]
    },
    {
     "name": "stdout",
     "output_type": "stream",
     "text": [
      "Saving model...\n"
     ]
    },
    {
     "name": "stdout",
     "output_type": "stream",
     "text": [
      "Model size: 19940.88 KB\n",
      "\n",
      "Results for historicthingwaysorted, Sample Size: 286751\n",
      "Grid Search Time: 838.15s, Training Time: 0.21s\n",
      "KNN Parameters: {'algorithm': 'auto', 'n_neighbors': 5, 'weights': 'distance'}\n",
      "Performance: R² = 0.9929, MAE = 10987.57, MAPE = 117.57%\n",
      "q-score: 2.18\n",
      "Prediction time: 384.0775 μs/sample\n",
      "I/O: Reads=0.000000, Writes=0.000017\n",
      "--------------------------------------------------------------------------------\n",
      "Generating prediction scatter plot...\n"
     ]
    },
    {
     "name": "stdout",
     "output_type": "stream",
     "text": [
      "Generating side-by-side comparison plot...\n"
     ]
    },
    {
     "name": "stdout",
     "output_type": "stream",
     "text": [
      "\n",
      "Training with sample size: 100000\n",
      "Memory usage: 1534.78 MB\n",
      "Using best parameters from max scale: {'algorithm': 'auto', 'n_neighbors': 5, 'weights': 'distance'}\n",
      "Training KNN model...\n",
      "Making predictions...\n"
     ]
    },
    {
     "name": "stdout",
     "output_type": "stream",
     "text": [
      "Calculating performance metrics...\n",
      "Measuring prediction performance...\n"
     ]
    },
    {
     "name": "stdout",
     "output_type": "stream",
     "text": [
      "Saving model...\n"
     ]
    },
    {
     "name": "stdout",
     "output_type": "stream",
     "text": [
      "Model size: 6798.89 KB\n",
      "\n",
      "Results for historicthingwaysorted, Sample Size: 100000\n",
      "Grid Search Time: 0.00s, Training Time: 0.05s\n",
      "KNN Parameters: {'algorithm': 'auto', 'n_neighbors': 5, 'weights': 'distance'}\n",
      "Performance: R² = 0.9876, MAE = 15075.73, MAPE = 178.91%\n",
      "q-score: 2.80\n",
      "Prediction time: 497.2341 μs/sample\n",
      "I/O: Reads=0.000000, Writes=0.000011\n",
      "--------------------------------------------------------------------------------\n",
      "\n",
      "Training with sample size: 50000\n",
      "Memory usage: 1534.79 MB\n",
      "Using best parameters from max scale: {'algorithm': 'auto', 'n_neighbors': 5, 'weights': 'distance'}\n",
      "Training KNN model...\n",
      "Making predictions...\n"
     ]
    },
    {
     "name": "stdout",
     "output_type": "stream",
     "text": [
      "Calculating performance metrics...\n",
      "Measuring prediction performance...\n"
     ]
    },
    {
     "name": "stdout",
     "output_type": "stream",
     "text": [
      "Saving model...\n",
      "Model size: 3374.07 KB\n",
      "\n",
      "Results for historicthingwaysorted, Sample Size: 50000\n",
      "Grid Search Time: 0.00s, Training Time: 0.02s\n",
      "KNN Parameters: {'algorithm': 'auto', 'n_neighbors': 5, 'weights': 'distance'}\n",
      "Performance: R² = 0.9811, MAE = 18777.32, MAPE = 223.20%\n",
      "q-score: 3.24\n",
      "Prediction time: 476.8397 μs/sample\n",
      "I/O: Reads=0.000082, Writes=0.000677\n",
      "--------------------------------------------------------------------------------\n"
     ]
    },
    {
     "name": "stdout",
     "output_type": "stream",
     "text": [
      "\n",
      "Training with sample size: 10000\n",
      "Memory usage: 1534.79 MB\n",
      "Using best parameters from max scale: {'algorithm': 'auto', 'n_neighbors': 5, 'weights': 'distance'}\n",
      "Training KNN model...\n",
      "Making predictions...\n"
     ]
    },
    {
     "name": "stdout",
     "output_type": "stream",
     "text": [
      "Calculating performance metrics...\n",
      "Measuring prediction performance...\n"
     ]
    },
    {
     "name": "stdout",
     "output_type": "stream",
     "text": [
      "Saving model...\n",
      "Model size: 679.58 KB\n",
      "\n",
      "Results for historicthingwaysorted, Sample Size: 10000\n",
      "Grid Search Time: 0.00s, Training Time: 0.00s\n",
      "KNN Parameters: {'algorithm': 'auto', 'n_neighbors': 5, 'weights': 'distance'}\n",
      "Performance: R² = 0.9523, MAE = 30351.64, MAPE = 662.90%\n",
      "q-score: 7.64\n",
      "Prediction time: 364.4630 μs/sample\n",
      "I/O: Reads=0.000000, Writes=0.000017\n",
      "--------------------------------------------------------------------------------\n",
      "\n",
      "Training with sample size: 5000\n",
      "Memory usage: 1534.79 MB\n",
      "Using best parameters from max scale: {'algorithm': 'auto', 'n_neighbors': 5, 'weights': 'distance'}\n",
      "Training KNN model...\n",
      "Making predictions...\n"
     ]
    },
    {
     "name": "stdout",
     "output_type": "stream",
     "text": [
      "Calculating performance metrics...\n",
      "Measuring prediction performance...\n"
     ]
    },
    {
     "name": "stdout",
     "output_type": "stream",
     "text": [
      "Saving model...\n",
      "Model size: 340.45 KB\n",
      "\n",
      "Results for historicthingwaysorted, Sample Size: 5000\n",
      "Grid Search Time: 0.00s, Training Time: 0.00s\n",
      "KNN Parameters: {'algorithm': 'auto', 'n_neighbors': 5, 'weights': 'distance'}\n",
      "Performance: R² = 0.9296, MAE = 37794.57, MAPE = 1027.07%\n",
      "q-score: 11.29\n",
      "Prediction time: 322.8897 μs/sample\n",
      "I/O: Reads=0.000000, Writes=0.000246\n",
      "--------------------------------------------------------------------------------\n",
      "\n",
      "Training with sample size: 1000\n",
      "Memory usage: 1534.79 MB\n",
      "Using best parameters from max scale: {'algorithm': 'auto', 'n_neighbors': 5, 'weights': 'distance'}\n",
      "Training KNN model...\n",
      "Making predictions...\n"
     ]
    },
    {
     "name": "stdout",
     "output_type": "stream",
     "text": [
      "Calculating performance metrics...\n",
      "Measuring prediction performance...\n"
     ]
    },
    {
     "name": "stdout",
     "output_type": "stream",
     "text": [
      "Saving model...\n",
      "Model size: 40.10 KB\n",
      "\n",
      "Results for historicthingwaysorted, Sample Size: 1000\n",
      "Grid Search Time: 0.00s, Training Time: 0.00s\n",
      "KNN Parameters: {'algorithm': 'auto', 'n_neighbors': 5, 'weights': 'distance'}\n",
      "Performance: R² = 0.8446, MAE = 61370.47, MAPE = 1704.78%\n",
      "q-score: 18.10\n",
      "Prediction time: 201.6493 μs/sample\n",
      "I/O: Reads=0.000000, Writes=0.000014\n",
      "--------------------------------------------------------------------------------\n",
      "Saving results for historicthingwaysorted...\n"
     ]
    },
    {
     "name": "stdout",
     "output_type": "stream",
     "text": [
      "Memory usage: 1534.79 MB\n",
      "\n",
      "Processing dataset: aerowaythingwaysorted\n",
      "Universe boundaries for aerowaythingwaysorted: (-179.88131460000002, -79.7773063, 179.426138, 85.05258450000001)\n",
      "Loading data from ../large_files/resultsDistance/aerowaythingwaysorted_results.csv\n"
     ]
    },
    {
     "name": "stdout",
     "output_type": "stream",
     "text": [
      "Parsing object coordinates...\n"
     ]
    },
    {
     "name": "stdout",
     "output_type": "stream",
     "text": [
      "\n",
      "Basic statistics for aerowaythingwaysorted dataset:\n",
      "Max count: 1829409.0\n",
      "Min count: 0.0\n",
      "Mean count: 107433.16\n",
      "Median count: 54304.00\n",
      "Total samples: 368365\n",
      "\n",
      "Calculating object features...\n",
      "Splitting data into train and test sets...\n",
      "Training set size: 294692\n",
      "\n",
      "Training with sample size: 294692\n",
      "Memory usage: 1537.77 MB\n",
      "Performing grid search for optimal parameters...\n"
     ]
    },
    {
     "name": "stdout",
     "output_type": "stream",
     "text": [
      "Grid search complete in 883.75s\n",
      "Best parameters: {'algorithm': 'auto', 'n_neighbors': 5, 'weights': 'distance'}\n",
      "Training KNN model...\n",
      "Making predictions...\n"
     ]
    },
    {
     "name": "stdout",
     "output_type": "stream",
     "text": [
      "Calculating performance metrics...\n",
      "Measuring prediction performance...\n"
     ]
    },
    {
     "name": "stdout",
     "output_type": "stream",
     "text": [
      "Saving model...\n"
     ]
    },
    {
     "name": "stdout",
     "output_type": "stream",
     "text": [
      "Model size: 20455.26 KB\n",
      "\n",
      "Results for aerowaythingwaysorted, Sample Size: 294692\n",
      "Grid Search Time: 883.75s, Training Time: 0.20s\n",
      "KNN Parameters: {'algorithm': 'auto', 'n_neighbors': 5, 'weights': 'distance'}\n",
      "Performance: R² = 0.9892, MAE = 6832.13, MAPE = 199.13%\n",
      "q-score: 2.99\n",
      "Prediction time: 366.9326 μs/sample\n",
      "I/O: Reads=0.000000, Writes=0.000008\n",
      "--------------------------------------------------------------------------------\n",
      "Generating prediction scatter plot...\n"
     ]
    },
    {
     "name": "stdout",
     "output_type": "stream",
     "text": [
      "Generating side-by-side comparison plot...\n"
     ]
    },
    {
     "name": "stdout",
     "output_type": "stream",
     "text": [
      "\n",
      "Training with sample size: 100000\n",
      "Memory usage: 1536.77 MB\n",
      "Using best parameters from max scale: {'algorithm': 'auto', 'n_neighbors': 5, 'weights': 'distance'}\n",
      "Training KNN model...\n",
      "Making predictions...\n"
     ]
    },
    {
     "name": "stdout",
     "output_type": "stream",
     "text": [
      "Calculating performance metrics...\n",
      "Measuring prediction performance...\n"
     ]
    },
    {
     "name": "stdout",
     "output_type": "stream",
     "text": [
      "Saving model...\n"
     ]
    },
    {
     "name": "stdout",
     "output_type": "stream",
     "text": [
      "Model size: 6795.53 KB\n",
      "\n",
      "Results for aerowaythingwaysorted, Sample Size: 100000\n",
      "Grid Search Time: 0.00s, Training Time: 0.06s\n",
      "KNN Parameters: {'algorithm': 'auto', 'n_neighbors': 5, 'weights': 'distance'}\n",
      "Performance: R² = 0.9801, MAE = 9440.93, MAPE = 279.87%\n",
      "q-score: 3.80\n",
      "Prediction time: 378.6778 μs/sample\n",
      "I/O: Reads=0.000000, Writes=0.000043\n",
      "--------------------------------------------------------------------------------\n",
      "\n",
      "Training with sample size: 50000\n",
      "Memory usage: 1536.78 MB\n",
      "Using best parameters from max scale: {'algorithm': 'auto', 'n_neighbors': 5, 'weights': 'distance'}\n",
      "Training KNN model...\n",
      "Making predictions...\n"
     ]
    },
    {
     "name": "stdout",
     "output_type": "stream",
     "text": [
      "Calculating performance metrics...\n",
      "Measuring prediction performance...\n"
     ]
    },
    {
     "name": "stdout",
     "output_type": "stream",
     "text": [
      "Saving model...\n",
      "Model size: 3373.48 KB\n",
      "\n",
      "Results for aerowaythingwaysorted, Sample Size: 50000\n",
      "Grid Search Time: 0.00s, Training Time: 0.03s\n",
      "KNN Parameters: {'algorithm': 'auto', 'n_neighbors': 5, 'weights': 'distance'}\n",
      "Performance: R² = 0.9683, MAE = 11784.77, MAPE = 331.74%\n",
      "q-score: 4.33\n",
      "Prediction time: 401.6441 μs/sample\n",
      "I/O: Reads=0.000000, Writes=0.000893\n",
      "--------------------------------------------------------------------------------\n"
     ]
    },
    {
     "name": "stdout",
     "output_type": "stream",
     "text": [
      "\n",
      "Training with sample size: 10000\n",
      "Memory usage: 1536.78 MB\n",
      "Using best parameters from max scale: {'algorithm': 'auto', 'n_neighbors': 5, 'weights': 'distance'}\n",
      "Training KNN model...\n",
      "Making predictions...\n"
     ]
    },
    {
     "name": "stdout",
     "output_type": "stream",
     "text": [
      "Calculating performance metrics...\n",
      "Measuring prediction performance...\n"
     ]
    },
    {
     "name": "stdout",
     "output_type": "stream",
     "text": [
      "Saving model...\n",
      "Model size: 678.59 KB\n",
      "\n",
      "Results for aerowaythingwaysorted, Sample Size: 10000\n",
      "Grid Search Time: 0.00s, Training Time: 0.00s\n",
      "KNN Parameters: {'algorithm': 'auto', 'n_neighbors': 5, 'weights': 'distance'}\n",
      "Performance: R² = 0.9197, MAE = 19372.75, MAPE = 540.75%\n",
      "q-score: 6.45\n",
      "Prediction time: 282.4394 μs/sample\n",
      "I/O: Reads=0.000080, Writes=0.000012\n",
      "--------------------------------------------------------------------------------\n",
      "\n",
      "Training with sample size: 5000\n",
      "Memory usage: 1536.78 MB\n",
      "Using best parameters from max scale: {'algorithm': 'auto', 'n_neighbors': 5, 'weights': 'distance'}\n",
      "Training KNN model...\n",
      "Making predictions...\n"
     ]
    },
    {
     "name": "stdout",
     "output_type": "stream",
     "text": [
      "Calculating performance metrics...\n",
      "Measuring prediction performance...\n"
     ]
    },
    {
     "name": "stdout",
     "output_type": "stream",
     "text": [
      "Saving model...\n",
      "Model size: 339.92 KB\n",
      "\n",
      "Results for aerowaythingwaysorted, Sample Size: 5000\n",
      "Grid Search Time: 0.00s, Training Time: 0.00s\n",
      "KNN Parameters: {'algorithm': 'auto', 'n_neighbors': 5, 'weights': 'distance'}\n",
      "Performance: R² = 0.8908, MAE = 23703.00, MAPE = 664.68%\n",
      "q-score: 7.69\n",
      "Prediction time: 228.3229 μs/sample\n",
      "I/O: Reads=0.000000, Writes=0.000023\n",
      "--------------------------------------------------------------------------------\n",
      "\n",
      "Training with sample size: 1000\n",
      "Memory usage: 1536.78 MB\n",
      "Using best parameters from max scale: {'algorithm': 'auto', 'n_neighbors': 5, 'weights': 'distance'}\n",
      "Training KNN model...\n",
      "Making predictions...\n"
     ]
    },
    {
     "name": "stdout",
     "output_type": "stream",
     "text": [
      "Calculating performance metrics...\n",
      "Measuring prediction performance...\n"
     ]
    },
    {
     "name": "stdout",
     "output_type": "stream",
     "text": [
      "Saving model...\n",
      "Model size: 40.07 KB\n",
      "\n",
      "Results for aerowaythingwaysorted, Sample Size: 1000\n",
      "Grid Search Time: 0.00s, Training Time: 0.00s\n",
      "KNN Parameters: {'algorithm': 'auto', 'n_neighbors': 5, 'weights': 'distance'}\n",
      "Performance: R² = 0.7144, MAE = 39672.40, MAPE = 1320.33%\n",
      "q-score: 13.94\n",
      "Prediction time: 137.6861 μs/sample\n",
      "I/O: Reads=0.000000, Writes=0.000005\n",
      "--------------------------------------------------------------------------------\n",
      "Saving results for aerowaythingwaysorted...\n"
     ]
    },
    {
     "name": "stdout",
     "output_type": "stream",
     "text": [
      "Memory usage: 1536.78 MB\n",
      "\n",
      "Processing dataset: arealm\n",
      "Universe boundaries for arealm: (-179.147236, -14.548699, 179.77847, 71.359879)\n",
      "Loading data from ../large_files/resultsDistance/arealm_results.csv\n",
      "Parsing object coordinates...\n"
     ]
    },
    {
     "name": "stdout",
     "output_type": "stream",
     "text": [
      "\n",
      "Basic statistics for arealm dataset:\n",
      "Max count: 128233.0\n",
      "Min count: 0.0\n",
      "Mean count: 23800.58\n",
      "Median count: 15460.00\n",
      "Total samples: 25833\n",
      "\n",
      "Calculating object features...\n",
      "Splitting data into train and test sets...\n",
      "Training set size: 20666\n",
      "\n",
      "Training with sample size: 20666\n",
      "Memory usage: 1536.78 MB\n",
      "Performing grid search for optimal parameters...\n"
     ]
    },
    {
     "name": "stdout",
     "output_type": "stream",
     "text": [
      "Grid search complete in 44.23s\n",
      "Best parameters: {'algorithm': 'auto', 'n_neighbors': 5, 'weights': 'distance'}\n",
      "Training KNN model...\n",
      "Making predictions...\n"
     ]
    },
    {
     "name": "stdout",
     "output_type": "stream",
     "text": [
      "Calculating performance metrics...\n",
      "Measuring prediction performance...\n"
     ]
    },
    {
     "name": "stdout",
     "output_type": "stream",
     "text": [
      "Saving model...\n",
      "Model size: 1361.73 KB\n",
      "\n",
      "Results for arealm, Sample Size: 20666\n",
      "Grid Search Time: 44.23s, Training Time: 0.01s\n",
      "KNN Parameters: {'algorithm': 'auto', 'n_neighbors': 5, 'weights': 'distance'}\n",
      "Performance: R² = 0.9794, MAE = 1979.68, MAPE = 65.30%\n",
      "q-score: 1.71\n",
      "Prediction time: 275.0335 μs/sample\n",
      "I/O: Reads=0.000000, Writes=0.000000\n",
      "--------------------------------------------------------------------------------\n",
      "Generating prediction scatter plot...\n"
     ]
    },
    {
     "name": "stdout",
     "output_type": "stream",
     "text": [
      "Generating side-by-side comparison plot...\n"
     ]
    },
    {
     "name": "stdout",
     "output_type": "stream",
     "text": [
      "\n",
      "Training with sample size: 10000\n",
      "Memory usage: 1536.77 MB\n",
      "Using best parameters from max scale: {'algorithm': 'auto', 'n_neighbors': 5, 'weights': 'distance'}\n",
      "Training KNN model...\n",
      "Making predictions...\n",
      "Calculating performance metrics...\n",
      "Measuring prediction performance...\n"
     ]
    },
    {
     "name": "stdout",
     "output_type": "stream",
     "text": [
      "Saving model...\n",
      "Model size: 660.93 KB\n",
      "\n",
      "Results for arealm, Sample Size: 10000\n",
      "Grid Search Time: 0.00s, Training Time: 0.00s\n",
      "KNN Parameters: {'algorithm': 'auto', 'n_neighbors': 5, 'weights': 'distance'}\n",
      "Performance: R² = 0.9648, MAE = 2542.33, MAPE = 79.69%\n",
      "q-score: 2.02\n",
      "Prediction time: 287.8696 μs/sample\n",
      "I/O: Reads=0.000000, Writes=0.000077\n",
      "--------------------------------------------------------------------------------\n",
      "\n",
      "Training with sample size: 5000\n",
      "Memory usage: 1536.78 MB\n",
      "Using best parameters from max scale: {'algorithm': 'auto', 'n_neighbors': 5, 'weights': 'distance'}\n",
      "Training KNN model...\n",
      "Making predictions...\n"
     ]
    },
    {
     "name": "stdout",
     "output_type": "stream",
     "text": [
      "Calculating performance metrics...\n",
      "Measuring prediction performance...\n"
     ]
    },
    {
     "name": "stdout",
     "output_type": "stream",
     "text": [
      "Saving model...\n",
      "Model size: 331.91 KB\n",
      "\n",
      "Results for arealm, Sample Size: 5000\n",
      "Grid Search Time: 0.00s, Training Time: 0.00s\n",
      "KNN Parameters: {'algorithm': 'auto', 'n_neighbors': 5, 'weights': 'distance'}\n",
      "Performance: R² = 0.9551, MAE = 3071.05, MAPE = 99.70%\n",
      "q-score: 2.07\n",
      "Prediction time: 245.9756 μs/sample\n",
      "I/O: Reads=0.000000, Writes=0.000000\n",
      "--------------------------------------------------------------------------------\n",
      "\n",
      "Training with sample size: 1000\n",
      "Memory usage: 1536.78 MB\n",
      "Using best parameters from max scale: {'algorithm': 'auto', 'n_neighbors': 5, 'weights': 'distance'}\n",
      "Training KNN model...\n",
      "Making predictions...\n"
     ]
    },
    {
     "name": "stdout",
     "output_type": "stream",
     "text": [
      "Calculating performance metrics...\n",
      "Measuring prediction performance...\n"
     ]
    },
    {
     "name": "stdout",
     "output_type": "stream",
     "text": [
      "Saving model...\n",
      "Model size: 39.79 KB\n",
      "\n",
      "Results for arealm, Sample Size: 1000\n",
      "Grid Search Time: 0.00s, Training Time: 0.00s\n",
      "KNN Parameters: {'algorithm': 'auto', 'n_neighbors': 5, 'weights': 'distance'}\n",
      "Performance: R² = 0.8948, MAE = 5106.62, MAPE = 224.39%\n",
      "q-score: 3.22\n",
      "Prediction time: 151.0216 μs/sample\n",
      "I/O: Reads=0.000000, Writes=0.000000\n",
      "--------------------------------------------------------------------------------\n",
      "Saving results for arealm...\n"
     ]
    },
    {
     "name": "stdout",
     "output_type": "stream",
     "text": [
      "Saving combined results...\n",
      "All processing completed and results saved.\n",
      "Memory usage: 1536.78 MB\n"
     ]
    }
   ],
   "source": [
    "import numpy as np\n",
    "import pandas as pd\n",
    "import matplotlib.pyplot as plt\n",
    "import matplotlib.patches as patches\n",
    "from time import process_time\n",
    "from sklearn.model_selection import train_test_split\n",
    "from sklearn.metrics import mean_absolute_error as MAE\n",
    "from sklearn.model_selection import GridSearchCV\n",
    "from sklearn.neighbors import KNeighborsRegressor\n",
    "import psutil\n",
    "import os\n",
    "import re\n",
    "import multiprocessing\n",
    "import joblib\n",
    "import gc\n",
    "from tqdm.notebook import tqdm  # Progress bars for Jupyter\n",
    "\n",
    "# Configuration options\n",
    "VISUALIZE_OBJECTS = False  # Set to True if you want to visualize objects\n",
    "SAVE_INTERMEDIATE_MODELS = True  # Set to False to save only final models\n",
    "\n",
    "# Flag to control whether to use multiple scales or only the maximum scale\n",
    "use_multiple_scales = True  # Set to False to use only maximum scale, True for all scales\n",
    "\n",
    "# Get available CPU cores and set appropriate parallelism\n",
    "n_cores = multiprocessing.cpu_count()\n",
    "n_jobs = max(1, n_cores - 1)  # Leave one core free for system processes\n",
    "print(f\"Using {n_jobs} of {n_cores} available CPU cores\")\n",
    "\n",
    "# For reproducibility\n",
    "RANDOM_SEED = 3\n",
    "np.random.seed(RANDOM_SEED)\n",
    "\n",
    "def monitor_memory():\n",
    "    \"\"\"Print current memory usage of the process\"\"\"\n",
    "    process = psutil.Process()\n",
    "    memory_mb = process.memory_info().rss / (1024 * 1024)\n",
    "    print(f\"Memory usage: {memory_mb:.2f} MB\")\n",
    "\n",
    "def MAPE(actual_values, predicted_values):\n",
    "    \"\"\"Calculate Mean Absolute Percentage Error with special handling for zeros\"\"\"\n",
    "    # Vectorized implementation\n",
    "    actual_flat = actual_values.flatten()\n",
    "    pred_flat = predicted_values.flatten()\n",
    "    \n",
    "    # Create mask for non-zero actual values\n",
    "    non_zero_mask = actual_flat != 0\n",
    "    zero_mask = ~non_zero_mask\n",
    "    \n",
    "    # Calculate MAPE for non-zero elements\n",
    "    mape_sum = 0\n",
    "    count = len(actual_flat)\n",
    "    \n",
    "    if np.any(non_zero_mask):\n",
    "        mape_sum += np.sum(np.abs((actual_flat[non_zero_mask] - pred_flat[non_zero_mask]) / actual_flat[non_zero_mask]))\n",
    "    \n",
    "    if np.any(zero_mask):\n",
    "        mape_sum += np.sum(np.abs(actual_flat[zero_mask] - pred_flat[zero_mask]) / 100)\n",
    "    \n",
    "    return mape_sum / count\n",
    "\n",
    "# Load spatial statistics to get universe boundaries for each dataset\n",
    "print(\"Loading spatial statistics...\")\n",
    "spatial_stats = pd.read_csv('../spatial_statistics.csv')\n",
    "\n",
    "# Directory containing the datasets\n",
    "data_dir = '../large_files/resultsDistance/'  # Changed to distance folder\n",
    "\n",
    "# Parse bounding box information\n",
    "def parse_bbox(bbox_str):\n",
    "    # Extract coordinates from BOX string using regex\n",
    "    pattern = r\"BOX\\(([-\\d\\.]+) ([-\\d\\.]+),([-\\d\\.]+) ([-\\d\\.]+)\\)\"\n",
    "    match = re.search(pattern, bbox_str)\n",
    "    if match:\n",
    "        xmin = float(match.group(1))\n",
    "        ymin = float(match.group(2))\n",
    "        xmax = float(match.group(3))\n",
    "        ymax = float(match.group(4))\n",
    "        return xmin, ymin, xmax, ymax\n",
    "    return -180, -90, 180, 90  # Default if parsing fails\n",
    "\n",
    "# Parse object MBR from format like \"(x1, y1, x2, y2)\"\n",
    "def parse_mbr(mbr_str):\n",
    "    coords = mbr_str.strip('\"()').split(', ')\n",
    "    return [float(coord) for coord in coords]\n",
    "\n",
    "# Extract universe boundaries for each dataset\n",
    "universe_boundaries = {}\n",
    "for _, row in spatial_stats.iterrows():\n",
    "    table_name = row['Table Name']\n",
    "    bbox = parse_bbox(row['Universe Limits (Bounding Box)'])\n",
    "    universe_boundaries[table_name] = bbox\n",
    "\n",
    "# Get list of all CSV files in the directory\n",
    "print(\"Finding dataset files...\")\n",
    "csv_files = [f for f in os.listdir(data_dir) if f.endswith('.csv')]\n",
    "print(f\"Found {len(csv_files)} datasets to process\")\n",
    "\n",
    "# Define the scales of learning\n",
    "scales = [1000, 5000, 10000, 50000, 100000, 500000, 1000000]\n",
    "\n",
    "# Create necessary directories\n",
    "os.makedirs('../large_files/LearnedModels/distance/KNN', exist_ok=True)\n",
    "os.makedirs('../large_files/LearnedModels/distance/KNN/visualizations', exist_ok=True)\n",
    "os.makedirs('../large_files/LearnedModels/distance/KNN/results', exist_ok=True)\n",
    "\n",
    "# Lists to store all results\n",
    "all_results_list = []\n",
    "\n",
    "# Process each dataset\n",
    "for csv_file in tqdm(csv_files, desc=\"Processing datasets\"):\n",
    "    # Force garbage collection at the start of each dataset\n",
    "    gc.collect()\n",
    "    monitor_memory()\n",
    "    \n",
    "    # Extract dataset name (remove \"_results.csv\")\n",
    "    dataset_name = csv_file.replace('_results.csv', '')\n",
    "    \n",
    "    print(f\"\\nProcessing dataset: {dataset_name}\")\n",
    "    \n",
    "    # Get universe boundaries for this dataset\n",
    "    if dataset_name in universe_boundaries:\n",
    "        univ_xmin, univ_ymin, univ_xmax, univ_ymax = universe_boundaries[dataset_name]\n",
    "    else:\n",
    "        # Default values if dataset not found in spatial stats\n",
    "        univ_xmin, univ_ymin, univ_xmax, univ_ymax = -180, -90, 180, 90\n",
    "    \n",
    "    Surface_univ = (univ_xmax - univ_xmin) * (univ_ymax - univ_ymin)\n",
    "    print(f\"Universe boundaries for {dataset_name}: ({univ_xmin}, {univ_ymin}, {univ_xmax}, {univ_ymax})\")\n",
    "    \n",
    "    # Load dataset - loading required columns for distance dataset\n",
    "    data_path = os.path.join(data_dir, csv_file)\n",
    "    print(f\"Loading data from {data_path}\")\n",
    "    data = pd.read_csv(data_path, usecols=['Object MBR', 'Distance Min', 'Distance Max', 'Count MBR'])\n",
    "    \n",
    "    # Extract object information - ONLY using MBR data\n",
    "    print(\"Parsing object coordinates...\")\n",
    "    Objects_MBR = np.array([parse_mbr(mbr) for mbr in data['Object MBR']])\n",
    "    \n",
    "    # Extract distance information\n",
    "    Distance_Min = data['Distance Min'].values.reshape(-1, 1)\n",
    "    Distance_Max = data['Distance Max'].values.reshape(-1, 1)\n",
    "    \n",
    "    # Target variable: Count MBR\n",
    "    Y = data[['Count MBR']].values\n",
    "    \n",
    "    # Free up memory\n",
    "    del data\n",
    "    gc.collect()\n",
    "    \n",
    "    # Calculate basic statistics\n",
    "    max_count = float(np.max(Y))\n",
    "    min_count = float(np.min(Y))\n",
    "    mean_count = float(np.mean(Y))\n",
    "    median_count = float(np.median(Y))\n",
    "    total_samples = len(Y)\n",
    "\n",
    "    # Display basic statistics for the dataset\n",
    "    print(f\"\\nBasic statistics for {dataset_name} dataset:\")\n",
    "    print(f\"Max count: {max_count}\")\n",
    "    print(f\"Min count: {min_count}\")\n",
    "    print(f\"Mean count: {mean_count:.2f}\")\n",
    "    print(f\"Median count: {median_count:.2f}\")\n",
    "    print(f\"Total samples: {total_samples}\\n\")\n",
    "\n",
    "    # Prepare features using Object MBR instead of True Shape\n",
    "    print(\"Calculating object features...\")\n",
    "\n",
    "    # Extract MBR coordinates\n",
    "    x1 = Objects_MBR[:, 0].reshape(-1, 1)  # Left\n",
    "    y1 = Objects_MBR[:, 1].reshape(-1, 1)  # Bottom\n",
    "    x2 = Objects_MBR[:, 2].reshape(-1, 1)  # Right\n",
    "    y2 = Objects_MBR[:, 3].reshape(-1, 1)  # Top\n",
    "\n",
    "    # Calculate MBR center points\n",
    "    obj_x = (x1 + x2) / 2  # Center X\n",
    "    obj_y = (y1 + y2) / 2  # Center Y\n",
    "\n",
    "    # Calculate MBR dimensions\n",
    "    mbr_width = (x2 - x1)\n",
    "    mbr_height = (y2 - y1)\n",
    "    mbr_area = mbr_width * mbr_height\n",
    "\n",
    "    # Normalized coordinates of MBR center (0-1 range within universe)\n",
    "    norm_x = (obj_x - univ_xmin) / (univ_xmax - univ_xmin) if (univ_xmax - univ_xmin) != 0 else 0.5\n",
    "    norm_y = (obj_y - univ_ymin) / (univ_ymax - univ_ymin) if (univ_ymax - univ_ymin) != 0 else 0.5\n",
    "\n",
    "    # Distance range\n",
    "    # distance_range = Distance_Max - Distance_Min\n",
    "\n",
    "    # Distance ratio (max/min)\n",
    "    # Avoid division by zero\n",
    "    # min_non_zero = np.where(Distance_Min == 0, 0.0001, Distance_Min)\n",
    "    # distance_ratio = Distance_Max / min_non_zero\n",
    "    \n",
    "    # Combine all features\n",
    "    X = np.hstack((\n",
    "        obj_x,           # X coordinate of MBR center\n",
    "        obj_y,           # Y coordinate of MBR center\n",
    "        # mbr_width,       # Width of MBR\n",
    "        # mbr_height,      # Height of MBR\n",
    "        # mbr_area,        # Area of MBR\n",
    "        Distance_Min,    # Minimum distance\n",
    "        Distance_Max,    # Maximum distance\n",
    "        # distance_range,  # Range of distance\n",
    "        # distance_ratio.reshape(-1, 1)  # Ratio of max/min distance\n",
    "    ))\n",
    "    \n",
    "    # Split the data into 80% train and 20% test\n",
    "    print(\"Splitting data into train and test sets...\")\n",
    "    X_train, X_test_all, y_train, y_test_all = train_test_split(X, Y, test_size=0.2, random_state=RANDOM_SEED)\n",
    "    \n",
    "    # Visualize the first 100 objects using MBRs\n",
    "    if VISUALIZE_OBJECTS:\n",
    "        print(\"Visualizing objects sample...\")\n",
    "        plt.figure(figsize=(10, 8))\n",
    "        \n",
    "        # Only visualize a sample to save time\n",
    "        sample_size = min(100, len(Objects_MBR))\n",
    "        \n",
    "        # Plot universe boundaries\n",
    "        plt.plot([univ_xmin, univ_xmax, univ_xmax, univ_xmin, univ_xmin], \n",
    "                 [univ_ymin, univ_ymin, univ_ymax, univ_ymax, univ_ymin], \n",
    "                 'k-', linewidth=1, alpha=0.5)\n",
    "        \n",
    "        # Plot MBRs\n",
    "        for i in range(sample_size):\n",
    "            x1, y1, x2, y2 = Objects_MBR[i]\n",
    "            rect = patches.Rectangle((x1, y1), x2-x1, y2-y1, \n",
    "                                    linewidth=1, edgecolor='b', facecolor='none', \n",
    "                                    alpha=min(1.0, 0.3 + float(Distance_Min[i])/20))\n",
    "            plt.gca().add_patch(rect)\n",
    "            \n",
    "        plt.colorbar(plt.cm.ScalarMappable(cmap='viridis'), label='Minimum Distance')\n",
    "        plt.xlim(univ_xmin-20, univ_xmax+20)\n",
    "        plt.ylim(univ_ymin-10, univ_ymax+10)\n",
    "        plt.title(f\"Sample MBRs from {dataset_name}\")\n",
    "        plt.savefig(f\"../large_files/LearnedModels/distance/KNN/visualizations/{dataset_name}_objects_mbr.png\", dpi=150)\n",
    "        plt.close()\n",
    "    \n",
    "    # Adjust scales to the dataset size\n",
    "    max_size = len(X_train)\n",
    "    print(f\"Training set size: {max_size}\")\n",
    "\n",
    "    # KNN scales differently from tree-based models - for very large datasets, limit max size\n",
    "    # if max_size > 100000:\n",
    "    #     print(f\"Large dataset detected - limiting KNN training size to 100,000 samples\")\n",
    "    #     max_size = 100000  # KNN can be slow with larger datasets\n",
    "        \n",
    "    if use_multiple_scales:\n",
    "        # Use multiple scales as before\n",
    "        adjusted_scales = [s for s in scales if s <= max_size]\n",
    "\n",
    "        # Add intermediate 1 million increments for large datasets\n",
    "        if max_size > 1000000:\n",
    "            million_increments = list(range(2000000, max_size, 1000000))\n",
    "            adjusted_scales.extend(million_increments)\n",
    "        \n",
    "        # Add the actual max size if it's not already in the list\n",
    "        if max_size not in adjusted_scales:\n",
    "            adjusted_scales.append(max_size)\n",
    "            \n",
    "        # Sort the scales to ensure they're in ascending order\n",
    "        adjusted_scales.sort()\n",
    "    else:\n",
    "        # Use only the maximum scale\n",
    "        adjusted_scales = [max_size]\n",
    "\n",
    "    # List to store dataset-specific results\n",
    "    dataset_results_list = []\n",
    "\n",
    "    # Store best parameters from max scale training to reuse\n",
    "    best_params = None\n",
    "    \n",
    "    # Process scales in reversed order (largest first)\n",
    "    for sample_size in reversed(adjusted_scales):\n",
    "        print(f\"\\nTraining with sample size: {sample_size}\")\n",
    "        monitor_memory()\n",
    "        \n",
    "        # Create training subset\n",
    "        X_train_sample = X_train[:sample_size, :]\n",
    "        y_train_sample = y_train[:sample_size]\n",
    "        \n",
    "        # Set reasonable K values for parameter tuning based on dataset size\n",
    "        # if sample_size < 1000:\n",
    "        #     k_values = [3, 5, 7]\n",
    "        # elif sample_size < 10000:\n",
    "        #     k_values = [5, 10, 15]\n",
    "        # else:\n",
    "        #     k_values = [10, 20, 30]\n",
    "        k_values = [3, 5, 7, 10, 20]\n",
    "\n",
    "        # KNN parameters - optimize for performance\n",
    "        params_knn = {\n",
    "            'n_neighbors': k_values,\n",
    "            'weights': ['distance'],      # Only use distance weighting\n",
    "            'algorithm': ['auto']  # Different algorithms can perform better depending on the dataset\n",
    "        }\n",
    "        \n",
    "        # Only do GridSearch for the max scale\n",
    "        if sample_size == max_size or best_params is None:\n",
    "            print(\"Performing grid search for optimal parameters...\")\n",
    "            knn = KNeighborsRegressor(n_jobs=n_jobs)\n",
    "            knn_cv = GridSearchCV(knn, params_knn, cv=3, n_jobs=1)  # Use n_jobs=1 here as KNN uses parallelism internally\n",
    "            \n",
    "            # Time the grid search\n",
    "            t1_start = process_time()\n",
    "            knn_cv.fit(X_train_sample, y_train_sample.ravel())\n",
    "            t1_stop = process_time()\n",
    "            grid_search_time = t1_stop - t1_start\n",
    "            \n",
    "            # Store best parameters for reuse\n",
    "            best_params = knn_cv.best_params_\n",
    "            print(f\"Grid search complete in {grid_search_time:.2f}s\")\n",
    "            print(f\"Best parameters: {best_params}\")\n",
    "        else:\n",
    "            # Skip grid search for smaller scales, use params from max scale\n",
    "            knn_cv = None\n",
    "            grid_search_time = 0\n",
    "            print(f\"Using best parameters from max scale: {best_params}\")\n",
    "        \n",
    "        # Train the model with best parameters\n",
    "        print(\"Training KNN model...\")\n",
    "        knn = KNeighborsRegressor(n_jobs=n_jobs, **best_params)\n",
    "        \n",
    "        t2_start = process_time()\n",
    "        knn.fit(X_train_sample, y_train_sample.ravel())\n",
    "        t2_stop = process_time()\n",
    "        training_time = t2_stop - t2_start\n",
    "        \n",
    "        # Make predictions\n",
    "        print(\"Making predictions...\")\n",
    "        y_pred = knn.predict(X_test_all).reshape(-1, 1)  # Reshape to match y_test_all format\n",
    "        \n",
    "        # Calculate metrics\n",
    "        r2_score = knn.score(X_test_all, y_test_all)\n",
    "        mae_value = MAE(y_test_all, y_pred)\n",
    "        mape_value = MAPE(y_test_all, y_pred)\n",
    "        \n",
    "        # Calculate q-score - vectorized version\n",
    "        print(\"Calculating performance metrics...\")\n",
    "        \n",
    "        # Vectorized q-score calculation\n",
    "        y_true_flat = y_test_all.flatten()\n",
    "        y_pred_flat = y_pred.flatten() if y_pred.ndim > 1 else y_pred\n",
    "        \n",
    "        # Find indices where both values are non-zero\n",
    "        valid_indices = (y_true_flat != 0) & (y_pred_flat != 0)\n",
    "        \n",
    "        if np.any(valid_indices):\n",
    "            ratios = np.maximum(\n",
    "                y_pred_flat[valid_indices] / y_true_flat[valid_indices],\n",
    "                y_true_flat[valid_indices] / y_pred_flat[valid_indices]\n",
    "            )\n",
    "            q_score_mean = np.mean(ratios)\n",
    "        else:\n",
    "            q_score_mean = 0\n",
    "        \n",
    "        # Time prediction performance (10 iterations)\n",
    "        print(\"Measuring prediction performance...\")\n",
    "        total_duration = 0\n",
    "        total_read = 0\n",
    "        total_write = 0\n",
    "        \n",
    "        for _ in range(10):\n",
    "            io_before = psutil.disk_io_counters()\n",
    "            t3_start = process_time()\n",
    "            knn.predict(X_test_all)\n",
    "            t3_stop = process_time()\n",
    "            io_after = psutil.disk_io_counters()\n",
    "            \n",
    "            total_duration += (t3_stop - t3_start)\n",
    "            total_read += io_after.read_count - io_before.read_count\n",
    "            total_write += io_after.write_count - io_before.write_count\n",
    "        \n",
    "        avg_pred_time_microsec = (total_duration / 10) / len(y_pred) * 1000000\n",
    "        avg_reads = total_read / 10 / len(y_pred)\n",
    "        avg_writes = total_write / 10 / len(y_pred)\n",
    "        \n",
    "        # Save the model using joblib instead of pickle for better efficiency\n",
    "        if SAVE_INTERMEDIATE_MODELS or sample_size == max_size:\n",
    "            print(\"Saving model...\")\n",
    "            filename = f'../large_files/LearnedModels/distance/KNN/{dataset_name}_knn_{sample_size}_{training_time:.2f}s_{mape_value:.2%}_{mae_value:.2f}.joblib'\n",
    "            joblib.dump(knn, filename, compress=3)\n",
    "            # Get model file size in KB\n",
    "            model_size_kb = os.path.getsize(filename) / 1024\n",
    "            print(f\"Model size: {model_size_kb:.2f} KB\")\n",
    "        else:\n",
    "            model_size_kb = 0  # Set to 0 if model wasn't saved\n",
    "        \n",
    "        # Print results\n",
    "        print(f\"\\nResults for {dataset_name}, Sample Size: {sample_size}\")\n",
    "        print(f\"Grid Search Time: {grid_search_time:.2f}s, Training Time: {training_time:.2f}s\")\n",
    "        print(f\"KNN Parameters: {best_params}\")\n",
    "        print(f\"Performance: R² = {r2_score:.4f}, MAE = {mae_value:.2f}, MAPE = {mape_value:.2%}\")\n",
    "        print(f\"q-score: {q_score_mean:.2f}\")\n",
    "        print(f\"Prediction time: {avg_pred_time_microsec:.4f} μs/sample\")\n",
    "        print(f\"I/O: Reads={avg_reads:.6f}, Writes={avg_writes:.6f}\")\n",
    "        print(\"-\" * 80)\n",
    "        \n",
    "        # Plot actual vs predicted only for the maximum scale\n",
    "        if sample_size == adjusted_scales[-1]:  # Check if this is the maximum scale\n",
    "            print(\"Generating prediction scatter plot...\")\n",
    "            plt.figure(figsize=(10, 8))\n",
    "            plt.scatter(y_test_all, y_pred, s=0.5, alpha=0.5)\n",
    "            plt.xlabel('True Values')\n",
    "            plt.ylabel('Predictions')\n",
    "            plt.title(f\"{dataset_name} - Sample Size: {sample_size} (Maximum)\")\n",
    "            plt.grid(True, alpha=0.3)\n",
    "            \n",
    "            # Add diagonal line for perfect predictions\n",
    "            max_val = max(np.max(y_test_all), np.max(y_pred))\n",
    "            plt.plot([0, max_val], [0, max_val], 'r--', alpha=0.5)\n",
    "            \n",
    "            plt.savefig(f\"../large_files/LearnedModels/distance/KNN/visualizations/{dataset_name}_{sample_size}_prediction.png\", dpi=150)\n",
    "            plt.close()  # Close to free memory\n",
    "            \n",
    "            # Create a scatter plot comparing predicted vs real values for first 100 objects\n",
    "            print(\"Generating side-by-side comparison plot...\")\n",
    "            \n",
    "            # Get predictions for first 100 test samples\n",
    "            sample_indices = range(min(100, len(X_test_all)))\n",
    "            X_sample = X_test_all[sample_indices]\n",
    "            y_sample_true = y_test_all[sample_indices].flatten()\n",
    "            y_sample_pred = knn.predict(X_sample)\n",
    "            \n",
    "            plt.figure(figsize=(20, 10))\n",
    "            plt.scatter(range(len(sample_indices)), y_sample_pred, c='purple', \n",
    "                        label='Predicted number of objects (KNN)', alpha=0.7, s=100)\n",
    "            plt.scatter(range(len(sample_indices)), y_sample_true, c='green', \n",
    "                        label='Real number of objects', alpha=0.7, s=100)\n",
    "            \n",
    "            plt.title(f'{dataset_name} - First {len(sample_indices)} Objects: Predicted vs Real Values', fontsize=16)\n",
    "            plt.xlabel('Object Index', fontsize=14)\n",
    "            plt.ylabel('Number of objects within distance', fontsize=14)\n",
    "            plt.legend(fontsize=12)\n",
    "            plt.grid(True, alpha=0.3)\n",
    "            plt.tight_layout()\n",
    "            \n",
    "            # Save the plot\n",
    "            plt.savefig(f\"../large_files/LearnedModels/distance/KNN/visualizations/{dataset_name}_comparison_plot.png\", dpi=150)\n",
    "            plt.close()\n",
    "        \n",
    "        # Store results in list (more efficient than DataFrame concat)\n",
    "        result_row = {\n",
    "            'Dataset': dataset_name,\n",
    "            'Sample_Size': sample_size,\n",
    "            'Training_Time': training_time,\n",
    "            'Best_Params': str(best_params),\n",
    "            'R2_Score': r2_score,\n",
    "            'MAE': mae_value,\n",
    "            'MAPE': float(mape_value),\n",
    "            'Q_Score': q_score_mean,\n",
    "            'Pred_Time_Microseconds': avg_pred_time_microsec,\n",
    "            'IO_Reads': avg_reads,\n",
    "            'IO_Writes': avg_writes,\n",
    "            'Model_Size_KB': model_size_kb,\n",
    "            'Max_Count': max_count,\n",
    "            'Min_Count': min_count,\n",
    "            'Mean_Count': mean_count,\n",
    "            'Median_Count': median_count,\n",
    "            'Total_Samples': total_samples\n",
    "        }\n",
    "        \n",
    "        dataset_results_list.append(result_row)\n",
    "        all_results_list.append(result_row)\n",
    "        \n",
    "        # Clean up to free memory\n",
    "        if sample_size != max_size:  # Don't delete for max size as we might need it\n",
    "            del X_train_sample, y_train_sample, knn\n",
    "            gc.collect()\n",
    "    \n",
    "    # Save results for this dataset\n",
    "    print(f\"Saving results for {dataset_name}...\")\n",
    "    dataset_results = pd.DataFrame(dataset_results_list)\n",
    "    dataset_results.to_csv(f'../large_files/LearnedModels/distance/KNN/results/{dataset_name}_results.csv', index=False)\n",
    "    \n",
    "    # Clear memory before next dataset\n",
    "    del X_train, X_test_all, y_train, y_test_all, Objects_MBR, Distance_Min, Distance_Max\n",
    "    gc.collect()\n",
    "    \n",
    "# Save all results\n",
    "print(\"Saving combined results...\")\n",
    "all_results = pd.DataFrame(all_results_list)\n",
    "all_results.to_csv('../large_files/LearnedModels/distance/KNN/all_results.csv', index=False)\n",
    "\n",
    "print(\"All processing completed and results saved.\")\n",
    "monitor_memory()"
   ]
  }
 ],
 "metadata": {
  "kernelspec": {
   "display_name": "base",
   "language": "python",
   "name": "python3"
  },
  "language_info": {
   "codemirror_mode": {
    "name": "ipython",
    "version": 3
   },
   "file_extension": ".py",
   "mimetype": "text/x-python",
   "name": "python",
   "nbconvert_exporter": "python",
   "pygments_lexer": "ipython3",
   "version": "3.12.2"
  },
  "papermill": {
   "default_parameters": {},
   "duration": 9802.054515,
   "end_time": "2025-04-18T22:33:18.466719",
   "environment_variables": {},
   "exception": null,
   "input_path": "/home/adminlias/nadir/Spatial-Selectivity-Ext/distance_filter/K-neareastNeighborsRegressor.ipynb",
   "output_path": "/home/adminlias/nadir/Spatial-Selectivity-Ext/distance_filter/output_K-neareastNeighborsRegressor.ipynb",
   "parameters": {},
   "start_time": "2025-04-18T19:49:56.412204",
   "version": "2.6.0"
  },
  "widgets": {
   "application/vnd.jupyter.widget-state+json": {
    "state": {
     "060a0544515d4867964891d65f30c06d": {
      "model_module": "@jupyter-widgets/controls",
      "model_module_version": "1.5.0",
      "model_name": "FloatProgressModel",
      "state": {
       "_dom_classes": [],
       "_model_module": "@jupyter-widgets/controls",
       "_model_module_version": "1.5.0",
       "_model_name": "FloatProgressModel",
       "_view_count": null,
       "_view_module": "@jupyter-widgets/controls",
       "_view_module_version": "1.5.0",
       "_view_name": "ProgressView",
       "bar_style": "success",
       "description": "",
       "description_tooltip": null,
       "layout": "IPY_MODEL_68397685d7284db980baf9fd4a4dc41a",
       "max": 14.0,
       "min": 0.0,
       "orientation": "horizontal",
       "style": "IPY_MODEL_a1c1e9a7cee94cacb6e96bb5bafce0d9",
       "value": 14.0
      }
     },
     "11c620f1cb8244a69650d5ecd1289550": {
      "model_module": "@jupyter-widgets/controls",
      "model_module_version": "1.5.0",
      "model_name": "HBoxModel",
      "state": {
       "_dom_classes": [],
       "_model_module": "@jupyter-widgets/controls",
       "_model_module_version": "1.5.0",
       "_model_name": "HBoxModel",
       "_view_count": null,
       "_view_module": "@jupyter-widgets/controls",
       "_view_module_version": "1.5.0",
       "_view_name": "HBoxView",
       "box_style": "",
       "children": [
        "IPY_MODEL_8b1513f376f444f78c404bac8d783d66",
        "IPY_MODEL_060a0544515d4867964891d65f30c06d",
        "IPY_MODEL_5cea757e95564acfbfc9f912001b4c5c"
       ],
       "layout": "IPY_MODEL_78cb2ba1f94249239da4d8dd7e716096"
      }
     },
     "5cea757e95564acfbfc9f912001b4c5c": {
      "model_module": "@jupyter-widgets/controls",
      "model_module_version": "1.5.0",
      "model_name": "HTMLModel",
      "state": {
       "_dom_classes": [],
       "_model_module": "@jupyter-widgets/controls",
       "_model_module_version": "1.5.0",
       "_model_name": "HTMLModel",
       "_view_count": null,
       "_view_module": "@jupyter-widgets/controls",
       "_view_module_version": "1.5.0",
       "_view_name": "HTMLView",
       "description": "",
       "description_tooltip": null,
       "layout": "IPY_MODEL_ab7d8d56976c45989e3a9014adef3ab6",
       "placeholder": "​",
       "style": "IPY_MODEL_81c7f4cf8e4e482ba2e1340f69a73fc1",
       "value": " 14/14 [2:43:15&lt;00:00, 248.42s/it]"
      }
     },
     "68397685d7284db980baf9fd4a4dc41a": {
      "model_module": "@jupyter-widgets/base",
      "model_module_version": "1.2.0",
      "model_name": "LayoutModel",
      "state": {
       "_model_module": "@jupyter-widgets/base",
       "_model_module_version": "1.2.0",
       "_model_name": "LayoutModel",
       "_view_count": null,
       "_view_module": "@jupyter-widgets/base",
       "_view_module_version": "1.2.0",
       "_view_name": "LayoutView",
       "align_content": null,
       "align_items": null,
       "align_self": null,
       "border": null,
       "bottom": null,
       "display": null,
       "flex": null,
       "flex_flow": null,
       "grid_area": null,
       "grid_auto_columns": null,
       "grid_auto_flow": null,
       "grid_auto_rows": null,
       "grid_column": null,
       "grid_gap": null,
       "grid_row": null,
       "grid_template_areas": null,
       "grid_template_columns": null,
       "grid_template_rows": null,
       "height": null,
       "justify_content": null,
       "justify_items": null,
       "left": null,
       "margin": null,
       "max_height": null,
       "max_width": null,
       "min_height": null,
       "min_width": null,
       "object_fit": null,
       "object_position": null,
       "order": null,
       "overflow": null,
       "overflow_x": null,
       "overflow_y": null,
       "padding": null,
       "right": null,
       "top": null,
       "visibility": null,
       "width": null
      }
     },
     "709182866f764d318487c1e2151ce140": {
      "model_module": "@jupyter-widgets/base",
      "model_module_version": "1.2.0",
      "model_name": "LayoutModel",
      "state": {
       "_model_module": "@jupyter-widgets/base",
       "_model_module_version": "1.2.0",
       "_model_name": "LayoutModel",
       "_view_count": null,
       "_view_module": "@jupyter-widgets/base",
       "_view_module_version": "1.2.0",
       "_view_name": "LayoutView",
       "align_content": null,
       "align_items": null,
       "align_self": null,
       "border": null,
       "bottom": null,
       "display": null,
       "flex": null,
       "flex_flow": null,
       "grid_area": null,
       "grid_auto_columns": null,
       "grid_auto_flow": null,
       "grid_auto_rows": null,
       "grid_column": null,
       "grid_gap": null,
       "grid_row": null,
       "grid_template_areas": null,
       "grid_template_columns": null,
       "grid_template_rows": null,
       "height": null,
       "justify_content": null,
       "justify_items": null,
       "left": null,
       "margin": null,
       "max_height": null,
       "max_width": null,
       "min_height": null,
       "min_width": null,
       "object_fit": null,
       "object_position": null,
       "order": null,
       "overflow": null,
       "overflow_x": null,
       "overflow_y": null,
       "padding": null,
       "right": null,
       "top": null,
       "visibility": null,
       "width": null
      }
     },
     "78cb2ba1f94249239da4d8dd7e716096": {
      "model_module": "@jupyter-widgets/base",
      "model_module_version": "1.2.0",
      "model_name": "LayoutModel",
      "state": {
       "_model_module": "@jupyter-widgets/base",
       "_model_module_version": "1.2.0",
       "_model_name": "LayoutModel",
       "_view_count": null,
       "_view_module": "@jupyter-widgets/base",
       "_view_module_version": "1.2.0",
       "_view_name": "LayoutView",
       "align_content": null,
       "align_items": null,
       "align_self": null,
       "border": null,
       "bottom": null,
       "display": null,
       "flex": null,
       "flex_flow": null,
       "grid_area": null,
       "grid_auto_columns": null,
       "grid_auto_flow": null,
       "grid_auto_rows": null,
       "grid_column": null,
       "grid_gap": null,
       "grid_row": null,
       "grid_template_areas": null,
       "grid_template_columns": null,
       "grid_template_rows": null,
       "height": null,
       "justify_content": null,
       "justify_items": null,
       "left": null,
       "margin": null,
       "max_height": null,
       "max_width": null,
       "min_height": null,
       "min_width": null,
       "object_fit": null,
       "object_position": null,
       "order": null,
       "overflow": null,
       "overflow_x": null,
       "overflow_y": null,
       "padding": null,
       "right": null,
       "top": null,
       "visibility": null,
       "width": null
      }
     },
     "81c7f4cf8e4e482ba2e1340f69a73fc1": {
      "model_module": "@jupyter-widgets/controls",
      "model_module_version": "1.5.0",
      "model_name": "DescriptionStyleModel",
      "state": {
       "_model_module": "@jupyter-widgets/controls",
       "_model_module_version": "1.5.0",
       "_model_name": "DescriptionStyleModel",
       "_view_count": null,
       "_view_module": "@jupyter-widgets/base",
       "_view_module_version": "1.2.0",
       "_view_name": "StyleView",
       "description_width": ""
      }
     },
     "8b1513f376f444f78c404bac8d783d66": {
      "model_module": "@jupyter-widgets/controls",
      "model_module_version": "1.5.0",
      "model_name": "HTMLModel",
      "state": {
       "_dom_classes": [],
       "_model_module": "@jupyter-widgets/controls",
       "_model_module_version": "1.5.0",
       "_model_name": "HTMLModel",
       "_view_count": null,
       "_view_module": "@jupyter-widgets/controls",
       "_view_module_version": "1.5.0",
       "_view_name": "HTMLView",
       "description": "",
       "description_tooltip": null,
       "layout": "IPY_MODEL_709182866f764d318487c1e2151ce140",
       "placeholder": "​",
       "style": "IPY_MODEL_c323253883594706b4651913b9fa4bf1",
       "value": "Processing datasets: 100%"
      }
     },
     "a1c1e9a7cee94cacb6e96bb5bafce0d9": {
      "model_module": "@jupyter-widgets/controls",
      "model_module_version": "1.5.0",
      "model_name": "ProgressStyleModel",
      "state": {
       "_model_module": "@jupyter-widgets/controls",
       "_model_module_version": "1.5.0",
       "_model_name": "ProgressStyleModel",
       "_view_count": null,
       "_view_module": "@jupyter-widgets/base",
       "_view_module_version": "1.2.0",
       "_view_name": "StyleView",
       "bar_color": null,
       "description_width": ""
      }
     },
     "ab7d8d56976c45989e3a9014adef3ab6": {
      "model_module": "@jupyter-widgets/base",
      "model_module_version": "1.2.0",
      "model_name": "LayoutModel",
      "state": {
       "_model_module": "@jupyter-widgets/base",
       "_model_module_version": "1.2.0",
       "_model_name": "LayoutModel",
       "_view_count": null,
       "_view_module": "@jupyter-widgets/base",
       "_view_module_version": "1.2.0",
       "_view_name": "LayoutView",
       "align_content": null,
       "align_items": null,
       "align_self": null,
       "border": null,
       "bottom": null,
       "display": null,
       "flex": null,
       "flex_flow": null,
       "grid_area": null,
       "grid_auto_columns": null,
       "grid_auto_flow": null,
       "grid_auto_rows": null,
       "grid_column": null,
       "grid_gap": null,
       "grid_row": null,
       "grid_template_areas": null,
       "grid_template_columns": null,
       "grid_template_rows": null,
       "height": null,
       "justify_content": null,
       "justify_items": null,
       "left": null,
       "margin": null,
       "max_height": null,
       "max_width": null,
       "min_height": null,
       "min_width": null,
       "object_fit": null,
       "object_position": null,
       "order": null,
       "overflow": null,
       "overflow_x": null,
       "overflow_y": null,
       "padding": null,
       "right": null,
       "top": null,
       "visibility": null,
       "width": null
      }
     },
     "c323253883594706b4651913b9fa4bf1": {
      "model_module": "@jupyter-widgets/controls",
      "model_module_version": "1.5.0",
      "model_name": "DescriptionStyleModel",
      "state": {
       "_model_module": "@jupyter-widgets/controls",
       "_model_module_version": "1.5.0",
       "_model_name": "DescriptionStyleModel",
       "_view_count": null,
       "_view_module": "@jupyter-widgets/base",
       "_view_module_version": "1.2.0",
       "_view_name": "StyleView",
       "description_width": ""
      }
     }
    },
    "version_major": 2,
    "version_minor": 0
   }
  }
 },
 "nbformat": 4,
 "nbformat_minor": 5
}