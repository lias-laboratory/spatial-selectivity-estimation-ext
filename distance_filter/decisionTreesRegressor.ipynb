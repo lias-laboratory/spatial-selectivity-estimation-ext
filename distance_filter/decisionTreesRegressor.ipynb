{
 "cells": [
  {
   "cell_type": "code",
   "execution_count": 1,
   "id": "13e7b30c",
   "metadata": {
    "execution": {
     "iopub.execute_input": "2025-04-18T22:33:19.220988Z",
     "iopub.status.busy": "2025-04-18T22:33:19.220410Z",
     "iopub.status.idle": "2025-04-18T22:53:04.240225Z",
     "shell.execute_reply": "2025-04-18T22:53:04.239331Z"
    },
    "papermill": {
     "duration": 1185.032106,
     "end_time": "2025-04-18T22:53:04.244521",
     "exception": false,
     "start_time": "2025-04-18T22:33:19.212415",
     "status": "completed"
    },
    "tags": []
   },
   "outputs": [
    {
     "name": "stdout",
     "output_type": "stream",
     "text": [
      "Using 29 of 30 available CPU cores\n",
      "Loading spatial statistics...\n",
      "Finding dataset files...\n",
      "Found 14 datasets to process\n"
     ]
    },
    {
     "data": {
      "application/vnd.jupyter.widget-view+json": {
       "model_id": "c8b20680aac6431c87a2aca46435eda4",
       "version_major": 2,
       "version_minor": 0
      },
      "text/plain": [
       "Processing datasets:   0%|          | 0/14 [00:00<?, ?it/s]"
      ]
     },
     "metadata": {},
     "output_type": "display_data"
    },
    {
     "name": "stdout",
     "output_type": "stream",
     "text": [
      "Memory usage: 246.53 MB\n",
      "\n",
      "Processing dataset: craftwaysorted\n",
      "Universe boundaries for craftwaysorted: (-175.2000514, -65.2458821, 175.3397782, 69.6673353)\n",
      "Loading data from ../large_files/resultsDistance/craftwaysorted_results.csv\n",
      "Parsing object coordinates...\n"
     ]
    },
    {
     "name": "stdout",
     "output_type": "stream",
     "text": [
      "\n",
      "Basic statistics for craftwaysorted dataset:\n",
      "Max count: 100369.0\n",
      "Min count: 0.0\n",
      "Mean count: 11615.73\n",
      "Median count: 3842.00\n",
      "Total samples: 21822\n",
      "\n",
      "Calculating object features...\n",
      "Splitting data into train and test sets...\n",
      "Training set size: 17457\n",
      "\n",
      "Training with sample size: 17457\n",
      "Memory usage: 255.97 MB\n",
      "Performing grid search for optimal parameters...\n",
      "Fitting 5 folds for each of 49 candidates, totalling 245 fits\n"
     ]
    },
    {
     "name": "stderr",
     "output_type": "stream",
     "text": [
      "/home/adminlias/anaconda3/lib/python3.12/site-packages/numpy/ma/core.py:2820: RuntimeWarning: invalid value encountered in cast\n",
      "  _data = np.array(data, dtype=dtype, copy=copy,\n"
     ]
    },
    {
     "name": "stdout",
     "output_type": "stream",
     "text": [
      "Grid search complete in 0.70s\n",
      "Best parameters: {'max_depth': 7, 'min_samples_leaf': 0.04}\n",
      "Training decision tree model...\n",
      "Making predictions...\n",
      "Calculating performance metrics...\n",
      "Measuring prediction performance...\n",
      "Saving model...\n",
      "Model size: 1.93 KB\n",
      "\n",
      "Results for craftwaysorted, Sample Size: 17457\n",
      "Grid Search Time: 0.70s, Training Time: 0.08s\n",
      "Decision Tree Parameters: {'max_depth': 7, 'min_samples_leaf': 0.04}\n",
      "Performance: R² = 0.5596, MAE = 6344.05, MAPE = 908.83%\n",
      "q-score: 10.33\n",
      "Prediction time: 0.0703 μs/sample\n",
      "I/O: Reads=0.000000, Writes=0.000000\n",
      "--------------------------------------------------------------------------------\n",
      "Generating prediction scatter plot...\n"
     ]
    },
    {
     "name": "stdout",
     "output_type": "stream",
     "text": [
      "Generating feature importance plot...\n",
      "Generating side-by-side comparison plot...\n"
     ]
    },
    {
     "name": "stdout",
     "output_type": "stream",
     "text": [
      "\n",
      "Training with sample size: 10000\n",
      "Memory usage: 284.09 MB\n",
      "Using best parameters from max scale: {'max_depth': 7, 'min_samples_leaf': 0.04}\n",
      "Training decision tree model...\n",
      "Making predictions...\n",
      "Calculating performance metrics...\n",
      "Measuring prediction performance...\n",
      "Saving model...\n",
      "Model size: 1.92 KB\n",
      "\n",
      "Results for craftwaysorted, Sample Size: 10000\n",
      "Grid Search Time: 0.00s, Training Time: 0.04s\n",
      "Decision Tree Parameters: {'max_depth': 7, 'min_samples_leaf': 0.04}\n",
      "Performance: R² = 0.5420, MAE = 6590.32, MAPE = 941.00%\n",
      "q-score: 10.64\n",
      "Prediction time: 0.0704 μs/sample\n",
      "I/O: Reads=0.000000, Writes=0.000000\n",
      "--------------------------------------------------------------------------------\n",
      "\n",
      "Training with sample size: 5000\n",
      "Memory usage: 284.10 MB\n",
      "Using best parameters from max scale: {'max_depth': 7, 'min_samples_leaf': 0.04}\n",
      "Training decision tree model...\n",
      "Making predictions...\n",
      "Calculating performance metrics...\n",
      "Measuring prediction performance...\n",
      "Saving model...\n",
      "Model size: 1.93 KB\n",
      "\n",
      "Results for craftwaysorted, Sample Size: 5000\n",
      "Grid Search Time: 0.00s, Training Time: 0.02s\n",
      "Decision Tree Parameters: {'max_depth': 7, 'min_samples_leaf': 0.04}\n",
      "Performance: R² = 0.5569, MAE = 6379.86, MAPE = 915.26%\n",
      "q-score: 10.40\n",
      "Prediction time: 0.0709 μs/sample\n",
      "I/O: Reads=0.000000, Writes=0.000000\n",
      "--------------------------------------------------------------------------------\n"
     ]
    },
    {
     "name": "stdout",
     "output_type": "stream",
     "text": [
      "\n",
      "Training with sample size: 1000\n",
      "Memory usage: 284.10 MB\n",
      "Using best parameters from max scale: {'max_depth': 7, 'min_samples_leaf': 0.04}\n",
      "Training decision tree model...\n",
      "Making predictions...\n",
      "Calculating performance metrics...\n",
      "Measuring prediction performance...\n",
      "Saving model...\n",
      "Model size: 1.90 KB\n",
      "\n",
      "Results for craftwaysorted, Sample Size: 1000\n",
      "Grid Search Time: 0.00s, Training Time: 0.00s\n",
      "Decision Tree Parameters: {'max_depth': 7, 'min_samples_leaf': 0.04}\n",
      "Performance: R² = 0.4335, MAE = 7347.54, MAPE = 1021.02%\n",
      "q-score: 11.49\n",
      "Prediction time: 0.0738 μs/sample\n",
      "I/O: Reads=0.000000, Writes=0.000000\n",
      "--------------------------------------------------------------------------------\n",
      "Saving results for craftwaysorted...\n",
      "Memory usage: 284.12 MB\n",
      "\n",
      "Processing dataset: powerthingwaysorted\n",
      "Universe boundaries for powerthingwaysorted: (-179.5002188, -75.1012051, 178.4574038, 82.5247908)\n",
      "Loading data from ../large_files/resultsDistance/powerthingwaysorted_results.csv\n"
     ]
    },
    {
     "name": "stdout",
     "output_type": "stream",
     "text": [
      "Parsing object coordinates...\n"
     ]
    },
    {
     "name": "stdout",
     "output_type": "stream",
     "text": [
      "\n",
      "Basic statistics for powerthingwaysorted dataset:\n",
      "Max count: 13577236.0\n",
      "Min count: 0.0\n",
      "Mean count: 885963.11\n",
      "Median count: 467788.00\n",
      "Total samples: 2717289\n",
      "\n",
      "Calculating object features...\n"
     ]
    },
    {
     "name": "stdout",
     "output_type": "stream",
     "text": [
      "Splitting data into train and test sets...\n"
     ]
    },
    {
     "name": "stdout",
     "output_type": "stream",
     "text": [
      "Training set size: 2173831\n",
      "\n",
      "Training with sample size: 2173831\n",
      "Memory usage: 1143.47 MB\n",
      "Performing grid search for optimal parameters...\n",
      "Fitting 5 folds for each of 49 candidates, totalling 245 fits\n"
     ]
    },
    {
     "name": "stdout",
     "output_type": "stream",
     "text": [
      "Grid search complete in 16.15s\n",
      "Best parameters: {'max_depth': 6, 'min_samples_leaf': 0.04}\n",
      "Training decision tree model...\n"
     ]
    },
    {
     "name": "stdout",
     "output_type": "stream",
     "text": [
      "Making predictions...\n",
      "Calculating performance metrics...\n",
      "Measuring prediction performance...\n"
     ]
    },
    {
     "name": "stdout",
     "output_type": "stream",
     "text": [
      "Saving model...\n",
      "Model size: 1.92 KB\n",
      "\n",
      "Results for powerthingwaysorted, Sample Size: 2173831\n",
      "Grid Search Time: 16.15s, Training Time: 15.01s\n",
      "Decision Tree Parameters: {'max_depth': 6, 'min_samples_leaf': 0.04}\n",
      "Performance: R² = 0.5901, MAE = 420441.85, MAPE = 4850.37%\n",
      "q-score: 47.69\n",
      "Prediction time: 0.0501 μs/sample\n",
      "I/O: Reads=0.000000, Writes=0.000000\n",
      "--------------------------------------------------------------------------------\n",
      "Generating prediction scatter plot...\n"
     ]
    },
    {
     "name": "stdout",
     "output_type": "stream",
     "text": [
      "Generating feature importance plot...\n",
      "Generating side-by-side comparison plot...\n"
     ]
    },
    {
     "name": "stdout",
     "output_type": "stream",
     "text": [
      "\n",
      "Training with sample size: 2000000\n",
      "Memory usage: 1197.58 MB\n",
      "Using best parameters from max scale: {'max_depth': 6, 'min_samples_leaf': 0.04}\n",
      "Training decision tree model...\n"
     ]
    },
    {
     "name": "stdout",
     "output_type": "stream",
     "text": [
      "Making predictions...\n",
      "Calculating performance metrics...\n",
      "Measuring prediction performance...\n"
     ]
    },
    {
     "name": "stdout",
     "output_type": "stream",
     "text": [
      "Saving model...\n",
      "Model size: 1.92 KB\n",
      "\n",
      "Results for powerthingwaysorted, Sample Size: 2000000\n",
      "Grid Search Time: 0.00s, Training Time: 13.21s\n",
      "Decision Tree Parameters: {'max_depth': 6, 'min_samples_leaf': 0.04}\n",
      "Performance: R² = 0.5899, MAE = 420510.54, MAPE = 4850.40%\n",
      "q-score: 47.69\n",
      "Prediction time: 0.0521 μs/sample\n",
      "I/O: Reads=0.000000, Writes=0.000000\n",
      "--------------------------------------------------------------------------------\n",
      "\n",
      "Training with sample size: 1000000\n",
      "Memory usage: 1202.62 MB\n",
      "Using best parameters from max scale: {'max_depth': 6, 'min_samples_leaf': 0.04}\n",
      "Training decision tree model...\n"
     ]
    },
    {
     "name": "stdout",
     "output_type": "stream",
     "text": [
      "Making predictions...\n",
      "Calculating performance metrics...\n",
      "Measuring prediction performance...\n"
     ]
    },
    {
     "name": "stdout",
     "output_type": "stream",
     "text": [
      "Saving model...\n",
      "Model size: 1.98 KB\n",
      "\n",
      "Results for powerthingwaysorted, Sample Size: 1000000\n",
      "Grid Search Time: 0.00s, Training Time: 5.92s\n",
      "Decision Tree Parameters: {'max_depth': 6, 'min_samples_leaf': 0.04}\n",
      "Performance: R² = 0.5904, MAE = 419386.05, MAPE = 4885.00%\n",
      "q-score: 47.99\n",
      "Prediction time: 0.0505 μs/sample\n",
      "I/O: Reads=0.000000, Writes=0.000000\n",
      "--------------------------------------------------------------------------------\n",
      "\n",
      "Training with sample size: 500000\n",
      "Memory usage: 1202.62 MB\n",
      "Using best parameters from max scale: {'max_depth': 6, 'min_samples_leaf': 0.04}\n",
      "Training decision tree model...\n"
     ]
    },
    {
     "name": "stdout",
     "output_type": "stream",
     "text": [
      "Making predictions...\n",
      "Calculating performance metrics...\n",
      "Measuring prediction performance...\n"
     ]
    },
    {
     "name": "stdout",
     "output_type": "stream",
     "text": [
      "Saving model...\n",
      "Model size: 1.89 KB\n",
      "\n",
      "Results for powerthingwaysorted, Sample Size: 500000\n",
      "Grid Search Time: 0.00s, Training Time: 2.67s\n",
      "Decision Tree Parameters: {'max_depth': 6, 'min_samples_leaf': 0.04}\n",
      "Performance: R² = 0.5926, MAE = 416540.40, MAPE = 4851.16%\n",
      "q-score: 47.37\n",
      "Prediction time: 0.0497 μs/sample\n",
      "I/O: Reads=0.000000, Writes=0.000000\n",
      "--------------------------------------------------------------------------------\n",
      "\n",
      "Training with sample size: 100000\n",
      "Memory usage: 1203.64 MB\n",
      "Using best parameters from max scale: {'max_depth': 6, 'min_samples_leaf': 0.04}\n",
      "Training decision tree model...\n"
     ]
    },
    {
     "name": "stdout",
     "output_type": "stream",
     "text": [
      "Making predictions...\n",
      "Calculating performance metrics...\n",
      "Measuring prediction performance...\n"
     ]
    },
    {
     "name": "stdout",
     "output_type": "stream",
     "text": [
      "Saving model...\n",
      "Model size: 1.94 KB\n",
      "\n",
      "Results for powerthingwaysorted, Sample Size: 100000\n",
      "Grid Search Time: 0.00s, Training Time: 0.45s\n",
      "Decision Tree Parameters: {'max_depth': 6, 'min_samples_leaf': 0.04}\n",
      "Performance: R² = 0.5909, MAE = 417919.64, MAPE = 5366.53%\n",
      "q-score: 52.55\n",
      "Prediction time: 0.0498 μs/sample\n",
      "I/O: Reads=0.000000, Writes=0.000000\n",
      "--------------------------------------------------------------------------------\n",
      "\n",
      "Training with sample size: 50000\n",
      "Memory usage: 1203.64 MB\n",
      "Using best parameters from max scale: {'max_depth': 6, 'min_samples_leaf': 0.04}\n",
      "Training decision tree model...\n"
     ]
    },
    {
     "name": "stdout",
     "output_type": "stream",
     "text": [
      "Making predictions...\n",
      "Calculating performance metrics...\n",
      "Measuring prediction performance...\n"
     ]
    },
    {
     "name": "stdout",
     "output_type": "stream",
     "text": [
      "Saving model...\n",
      "Model size: 1.81 KB\n",
      "\n",
      "Results for powerthingwaysorted, Sample Size: 50000\n",
      "Grid Search Time: 0.00s, Training Time: 0.21s\n",
      "Decision Tree Parameters: {'max_depth': 6, 'min_samples_leaf': 0.04}\n",
      "Performance: R² = 0.5898, MAE = 419471.31, MAPE = 5462.22%\n",
      "q-score: 53.51\n",
      "Prediction time: 0.0491 μs/sample\n",
      "I/O: Reads=0.000000, Writes=0.000000\n",
      "--------------------------------------------------------------------------------\n",
      "\n",
      "Training with sample size: 10000\n",
      "Memory usage: 1203.64 MB\n",
      "Using best parameters from max scale: {'max_depth': 6, 'min_samples_leaf': 0.04}\n",
      "Training decision tree model...\n",
      "Making predictions...\n"
     ]
    },
    {
     "name": "stdout",
     "output_type": "stream",
     "text": [
      "Calculating performance metrics...\n",
      "Measuring prediction performance...\n"
     ]
    },
    {
     "name": "stdout",
     "output_type": "stream",
     "text": [
      "Saving model...\n",
      "Model size: 1.86 KB\n",
      "\n",
      "Results for powerthingwaysorted, Sample Size: 10000\n",
      "Grid Search Time: 0.00s, Training Time: 0.04s\n",
      "Decision Tree Parameters: {'max_depth': 6, 'min_samples_leaf': 0.04}\n",
      "Performance: R² = 0.5982, MAE = 413941.85, MAPE = 5651.57%\n",
      "q-score: 55.39\n",
      "Prediction time: 0.0505 μs/sample\n",
      "I/O: Reads=0.000000, Writes=0.000000\n",
      "--------------------------------------------------------------------------------\n",
      "\n",
      "Training with sample size: 5000\n",
      "Memory usage: 1203.64 MB\n",
      "Using best parameters from max scale: {'max_depth': 6, 'min_samples_leaf': 0.04}\n",
      "Training decision tree model...\n",
      "Making predictions...\n",
      "Calculating performance metrics...\n",
      "Measuring prediction performance...\n"
     ]
    },
    {
     "name": "stdout",
     "output_type": "stream",
     "text": [
      "Saving model...\n",
      "Model size: 1.89 KB\n",
      "\n",
      "Results for powerthingwaysorted, Sample Size: 5000\n",
      "Grid Search Time: 0.00s, Training Time: 0.02s\n",
      "Decision Tree Parameters: {'max_depth': 6, 'min_samples_leaf': 0.04}\n",
      "Performance: R² = 0.5919, MAE = 419497.10, MAPE = 5944.47%\n",
      "q-score: 58.08\n",
      "Prediction time: 0.0498 μs/sample\n",
      "I/O: Reads=0.000000, Writes=0.000000\n",
      "--------------------------------------------------------------------------------\n",
      "\n",
      "Training with sample size: 1000\n",
      "Memory usage: 1203.64 MB\n",
      "Using best parameters from max scale: {'max_depth': 6, 'min_samples_leaf': 0.04}\n",
      "Training decision tree model...\n",
      "Making predictions...\n",
      "Calculating performance metrics...\n",
      "Measuring prediction performance...\n"
     ]
    },
    {
     "name": "stdout",
     "output_type": "stream",
     "text": [
      "Saving model...\n",
      "Model size: 1.79 KB\n",
      "\n",
      "Results for powerthingwaysorted, Sample Size: 1000\n",
      "Grid Search Time: 0.00s, Training Time: 0.00s\n",
      "Decision Tree Parameters: {'max_depth': 6, 'min_samples_leaf': 0.04}\n",
      "Performance: R² = 0.5791, MAE = 431428.99, MAPE = 5436.11%\n",
      "q-score: 53.38\n",
      "Prediction time: 0.0527 μs/sample\n",
      "I/O: Reads=0.000000, Writes=0.000000\n",
      "--------------------------------------------------------------------------------\n",
      "Saving results for powerthingwaysorted...\n"
     ]
    },
    {
     "name": "stdout",
     "output_type": "stream",
     "text": [
      "Memory usage: 934.39 MB\n",
      "\n",
      "Processing dataset: barrierthingwaysorted\n",
      "Universe boundaries for barrierthingwaysorted: (-179.7595238, -70.776382, 179.19591350000002, 78.2501675)\n",
      "Loading data from ../large_files/resultsDistance/barrierthingwaysorted_results.csv\n"
     ]
    },
    {
     "name": "stdout",
     "output_type": "stream",
     "text": [
      "Parsing object coordinates...\n"
     ]
    },
    {
     "name": "stdout",
     "output_type": "stream",
     "text": [
      "\n",
      "Basic statistics for barrierthingwaysorted dataset:\n",
      "Max count: 22854431.0\n",
      "Min count: 0.0\n",
      "Mean count: 2474469.83\n",
      "Median count: 1209323.00\n",
      "Total samples: 4581670\n",
      "\n",
      "Calculating object features...\n"
     ]
    },
    {
     "name": "stdout",
     "output_type": "stream",
     "text": [
      "Splitting data into train and test sets...\n"
     ]
    },
    {
     "name": "stdout",
     "output_type": "stream",
     "text": [
      "Training set size: 3665336\n",
      "\n",
      "Training with sample size: 3665336\n",
      "Memory usage: 1867.18 MB\n",
      "Performing grid search for optimal parameters...\n",
      "Fitting 5 folds for each of 49 candidates, totalling 245 fits\n"
     ]
    },
    {
     "name": "stdout",
     "output_type": "stream",
     "text": [
      "Grid search complete in 29.10s\n",
      "Best parameters: {'max_depth': 6, 'min_samples_leaf': 0.04}\n",
      "Training decision tree model...\n"
     ]
    },
    {
     "name": "stdout",
     "output_type": "stream",
     "text": [
      "Making predictions...\n",
      "Calculating performance metrics...\n",
      "Measuring prediction performance...\n"
     ]
    },
    {
     "name": "stdout",
     "output_type": "stream",
     "text": [
      "Saving model...\n",
      "Model size: 2.00 KB\n",
      "\n",
      "Results for barrierthingwaysorted, Sample Size: 3665336\n",
      "Grid Search Time: 29.10s, Training Time: 27.40s\n",
      "Decision Tree Parameters: {'max_depth': 6, 'min_samples_leaf': 0.04}\n",
      "Performance: R² = 0.5658, MAE = 1130608.67, MAPE = 5484.83%\n",
      "q-score: 49.83\n",
      "Prediction time: 0.0508 μs/sample\n",
      "I/O: Reads=0.000000, Writes=0.000000\n",
      "--------------------------------------------------------------------------------\n",
      "Generating prediction scatter plot...\n"
     ]
    },
    {
     "name": "stdout",
     "output_type": "stream",
     "text": [
      "Generating feature importance plot...\n",
      "Generating side-by-side comparison plot...\n"
     ]
    },
    {
     "name": "stdout",
     "output_type": "stream",
     "text": [
      "\n",
      "Training with sample size: 3000000\n",
      "Memory usage: 1837.78 MB\n",
      "Using best parameters from max scale: {'max_depth': 6, 'min_samples_leaf': 0.04}\n",
      "Training decision tree model...\n"
     ]
    },
    {
     "name": "stdout",
     "output_type": "stream",
     "text": [
      "Making predictions...\n",
      "Calculating performance metrics...\n",
      "Measuring prediction performance...\n"
     ]
    },
    {
     "name": "stdout",
     "output_type": "stream",
     "text": [
      "Saving model...\n",
      "Model size: 2.00 KB\n",
      "\n",
      "Results for barrierthingwaysorted, Sample Size: 3000000\n",
      "Grid Search Time: 0.00s, Training Time: 21.84s\n",
      "Decision Tree Parameters: {'max_depth': 6, 'min_samples_leaf': 0.04}\n",
      "Performance: R² = 0.5657, MAE = 1130817.96, MAPE = 5483.06%\n",
      "q-score: 49.81\n",
      "Prediction time: 0.0619 μs/sample\n",
      "I/O: Reads=0.000000, Writes=0.000000\n",
      "--------------------------------------------------------------------------------\n",
      "\n",
      "Training with sample size: 2000000\n",
      "Memory usage: 1837.78 MB\n",
      "Using best parameters from max scale: {'max_depth': 6, 'min_samples_leaf': 0.04}\n",
      "Training decision tree model...\n"
     ]
    },
    {
     "name": "stdout",
     "output_type": "stream",
     "text": [
      "Making predictions...\n",
      "Calculating performance metrics...\n",
      "Measuring prediction performance...\n"
     ]
    },
    {
     "name": "stdout",
     "output_type": "stream",
     "text": [
      "Saving model...\n",
      "Model size: 2.00 KB\n",
      "\n",
      "Results for barrierthingwaysorted, Sample Size: 2000000\n",
      "Grid Search Time: 0.00s, Training Time: 13.24s\n",
      "Decision Tree Parameters: {'max_depth': 6, 'min_samples_leaf': 0.04}\n",
      "Performance: R² = 0.5655, MAE = 1129952.44, MAPE = 5476.84%\n",
      "q-score: 49.76\n",
      "Prediction time: 0.0614 μs/sample\n",
      "I/O: Reads=0.000005, Writes=0.000000\n",
      "--------------------------------------------------------------------------------\n",
      "\n",
      "Training with sample size: 1000000\n",
      "Memory usage: 1837.78 MB\n",
      "Using best parameters from max scale: {'max_depth': 6, 'min_samples_leaf': 0.04}\n",
      "Training decision tree model...\n"
     ]
    },
    {
     "name": "stdout",
     "output_type": "stream",
     "text": [
      "Making predictions...\n",
      "Calculating performance metrics...\n",
      "Measuring prediction performance...\n"
     ]
    },
    {
     "name": "stdout",
     "output_type": "stream",
     "text": [
      "Saving model...\n",
      "Model size: 1.99 KB\n",
      "\n",
      "Results for barrierthingwaysorted, Sample Size: 1000000\n",
      "Grid Search Time: 0.00s, Training Time: 5.97s\n",
      "Decision Tree Parameters: {'max_depth': 6, 'min_samples_leaf': 0.04}\n",
      "Performance: R² = 0.5655, MAE = 1134849.37, MAPE = 5481.61%\n",
      "q-score: 49.80\n",
      "Prediction time: 0.0607 μs/sample\n",
      "I/O: Reads=0.000000, Writes=0.000000\n",
      "--------------------------------------------------------------------------------\n",
      "\n",
      "Training with sample size: 500000\n",
      "Memory usage: 1837.78 MB\n",
      "Using best parameters from max scale: {'max_depth': 6, 'min_samples_leaf': 0.04}\n",
      "Training decision tree model...\n"
     ]
    },
    {
     "name": "stdout",
     "output_type": "stream",
     "text": [
      "Making predictions...\n",
      "Calculating performance metrics...\n",
      "Measuring prediction performance...\n"
     ]
    },
    {
     "name": "stdout",
     "output_type": "stream",
     "text": [
      "Saving model...\n",
      "Model size: 1.97 KB\n",
      "\n",
      "Results for barrierthingwaysorted, Sample Size: 500000\n",
      "Grid Search Time: 0.00s, Training Time: 2.67s\n",
      "Decision Tree Parameters: {'max_depth': 6, 'min_samples_leaf': 0.04}\n",
      "Performance: R² = 0.5654, MAE = 1134050.61, MAPE = 5507.72%\n",
      "q-score: 49.96\n",
      "Prediction time: 0.0608 μs/sample\n",
      "I/O: Reads=0.000000, Writes=0.000000\n",
      "--------------------------------------------------------------------------------\n",
      "\n",
      "Training with sample size: 100000\n",
      "Memory usage: 1837.78 MB\n",
      "Using best parameters from max scale: {'max_depth': 6, 'min_samples_leaf': 0.04}\n",
      "Training decision tree model...\n"
     ]
    },
    {
     "name": "stdout",
     "output_type": "stream",
     "text": [
      "Making predictions...\n",
      "Calculating performance metrics...\n",
      "Measuring prediction performance...\n"
     ]
    },
    {
     "name": "stdout",
     "output_type": "stream",
     "text": [
      "Saving model...\n",
      "Model size: 2.01 KB\n",
      "\n",
      "Results for barrierthingwaysorted, Sample Size: 100000\n",
      "Grid Search Time: 0.00s, Training Time: 0.47s\n",
      "Decision Tree Parameters: {'max_depth': 6, 'min_samples_leaf': 0.04}\n",
      "Performance: R² = 0.5671, MAE = 1129730.48, MAPE = 5290.52%\n",
      "q-score: 48.12\n",
      "Prediction time: 0.0613 μs/sample\n",
      "I/O: Reads=0.000000, Writes=0.000000\n",
      "--------------------------------------------------------------------------------\n",
      "\n",
      "Training with sample size: 50000\n",
      "Memory usage: 1837.78 MB\n",
      "Using best parameters from max scale: {'max_depth': 6, 'min_samples_leaf': 0.04}\n",
      "Training decision tree model...\n"
     ]
    },
    {
     "name": "stdout",
     "output_type": "stream",
     "text": [
      "Making predictions...\n",
      "Calculating performance metrics...\n",
      "Measuring prediction performance...\n"
     ]
    },
    {
     "name": "stdout",
     "output_type": "stream",
     "text": [
      "Saving model...\n",
      "Model size: 1.95 KB\n",
      "\n",
      "Results for barrierthingwaysorted, Sample Size: 50000\n",
      "Grid Search Time: 0.00s, Training Time: 0.22s\n",
      "Decision Tree Parameters: {'max_depth': 6, 'min_samples_leaf': 0.04}\n",
      "Performance: R² = 0.5632, MAE = 1150414.73, MAPE = 5712.14%\n",
      "q-score: 52.02\n",
      "Prediction time: 0.0608 μs/sample\n",
      "I/O: Reads=0.000000, Writes=0.000000\n",
      "--------------------------------------------------------------------------------\n",
      "\n",
      "Training with sample size: 10000\n",
      "Memory usage: 1837.78 MB\n",
      "Using best parameters from max scale: {'max_depth': 6, 'min_samples_leaf': 0.04}\n",
      "Training decision tree model...\n",
      "Making predictions...\n"
     ]
    },
    {
     "name": "stdout",
     "output_type": "stream",
     "text": [
      "Calculating performance metrics...\n",
      "Measuring prediction performance...\n"
     ]
    },
    {
     "name": "stdout",
     "output_type": "stream",
     "text": [
      "Saving model...\n",
      "Model size: 1.87 KB\n",
      "\n",
      "Results for barrierthingwaysorted, Sample Size: 10000\n",
      "Grid Search Time: 0.00s, Training Time: 0.04s\n",
      "Decision Tree Parameters: {'max_depth': 6, 'min_samples_leaf': 0.04}\n",
      "Performance: R² = 0.5442, MAE = 1163861.35, MAPE = 5260.15%\n",
      "q-score: 47.96\n",
      "Prediction time: 0.0608 μs/sample\n",
      "I/O: Reads=0.000000, Writes=0.000000\n",
      "--------------------------------------------------------------------------------\n",
      "\n",
      "Training with sample size: 5000\n",
      "Memory usage: 1837.78 MB\n",
      "Using best parameters from max scale: {'max_depth': 6, 'min_samples_leaf': 0.04}\n",
      "Training decision tree model...\n",
      "Making predictions...\n"
     ]
    },
    {
     "name": "stdout",
     "output_type": "stream",
     "text": [
      "Calculating performance metrics...\n",
      "Measuring prediction performance...\n"
     ]
    },
    {
     "name": "stdout",
     "output_type": "stream",
     "text": [
      "Saving model...\n",
      "Model size: 1.85 KB\n",
      "\n",
      "Results for barrierthingwaysorted, Sample Size: 5000\n",
      "Grid Search Time: 0.00s, Training Time: 0.02s\n",
      "Decision Tree Parameters: {'max_depth': 6, 'min_samples_leaf': 0.04}\n",
      "Performance: R² = 0.5769, MAE = 1183085.79, MAPE = 5098.50%\n",
      "q-score: 46.90\n",
      "Prediction time: 0.0597 μs/sample\n",
      "I/O: Reads=0.000000, Writes=0.000000\n",
      "--------------------------------------------------------------------------------\n",
      "\n",
      "Training with sample size: 1000\n",
      "Memory usage: 1837.78 MB\n",
      "Using best parameters from max scale: {'max_depth': 6, 'min_samples_leaf': 0.04}\n",
      "Training decision tree model...\n",
      "Making predictions...\n"
     ]
    },
    {
     "name": "stdout",
     "output_type": "stream",
     "text": [
      "Calculating performance metrics...\n",
      "Measuring prediction performance...\n"
     ]
    },
    {
     "name": "stdout",
     "output_type": "stream",
     "text": [
      "Saving model...\n",
      "Model size: 1.87 KB\n",
      "\n",
      "Results for barrierthingwaysorted, Sample Size: 1000\n",
      "Grid Search Time: 0.00s, Training Time: 0.00s\n",
      "Decision Tree Parameters: {'max_depth': 6, 'min_samples_leaf': 0.04}\n",
      "Performance: R² = 0.5303, MAE = 1210561.03, MAPE = 5499.90%\n",
      "q-score: 50.18\n",
      "Prediction time: 0.0600 μs/sample\n",
      "I/O: Reads=0.000000, Writes=0.000000\n",
      "--------------------------------------------------------------------------------\n",
      "Saving results for barrierthingwaysorted...\n",
      "Memory usage: 1355.41 MB\n",
      "\n",
      "Processing dataset: cyclewaythingwaysorted\n",
      "Universe boundaries for cyclewaythingwaysorted: (-175.2093065, -75.1027861, 176.92582230000002, 71.0488105)\n",
      "Loading data from ../large_files/resultsDistance/cyclewaythingwaysorted_results.csv\n"
     ]
    },
    {
     "name": "stdout",
     "output_type": "stream",
     "text": [
      "Parsing object coordinates...\n"
     ]
    },
    {
     "name": "stdout",
     "output_type": "stream",
     "text": [
      "\n",
      "Basic statistics for cyclewaythingwaysorted dataset:\n",
      "Max count: 5317936.0\n",
      "Min count: 0.0\n",
      "Mean count: 503879.05\n",
      "Median count: 222046.00\n",
      "Total samples: 1067063\n",
      "\n",
      "Calculating object features...\n",
      "Splitting data into train and test sets...\n"
     ]
    },
    {
     "name": "stdout",
     "output_type": "stream",
     "text": [
      "Training set size: 853650\n",
      "\n",
      "Training with sample size: 853650\n",
      "Memory usage: 797.66 MB\n",
      "Performing grid search for optimal parameters...\n",
      "Fitting 5 folds for each of 49 candidates, totalling 245 fits\n"
     ]
    },
    {
     "name": "stdout",
     "output_type": "stream",
     "text": [
      "Grid search complete in 5.57s\n",
      "Best parameters: {'max_depth': 6, 'min_samples_leaf': 0.04}\n",
      "Training decision tree model...\n"
     ]
    },
    {
     "name": "stdout",
     "output_type": "stream",
     "text": [
      "Making predictions...\n",
      "Calculating performance metrics...\n",
      "Measuring prediction performance...\n",
      "Saving model...\n",
      "Model size: 1.97 KB\n",
      "\n",
      "Results for cyclewaythingwaysorted, Sample Size: 853650\n",
      "Grid Search Time: 5.57s, Training Time: 4.90s\n",
      "Decision Tree Parameters: {'max_depth': 6, 'min_samples_leaf': 0.04}\n",
      "Performance: R² = 0.5898, MAE = 245315.51, MAPE = 5107.98%\n",
      "q-score: 47.25\n",
      "Prediction time: 0.0478 μs/sample\n",
      "I/O: Reads=0.000000, Writes=0.000000\n",
      "--------------------------------------------------------------------------------\n",
      "Generating prediction scatter plot...\n"
     ]
    },
    {
     "name": "stdout",
     "output_type": "stream",
     "text": [
      "Generating feature importance plot...\n",
      "Generating side-by-side comparison plot...\n"
     ]
    },
    {
     "name": "stdout",
     "output_type": "stream",
     "text": [
      "\n",
      "Training with sample size: 500000\n",
      "Memory usage: 797.90 MB\n",
      "Using best parameters from max scale: {'max_depth': 6, 'min_samples_leaf': 0.04}\n",
      "Training decision tree model...\n"
     ]
    },
    {
     "name": "stdout",
     "output_type": "stream",
     "text": [
      "Making predictions...\n",
      "Calculating performance metrics...\n",
      "Measuring prediction performance...\n",
      "Saving model...\n",
      "Model size: 1.90 KB\n",
      "\n",
      "Results for cyclewaythingwaysorted, Sample Size: 500000\n",
      "Grid Search Time: 0.00s, Training Time: 2.64s\n",
      "Decision Tree Parameters: {'max_depth': 6, 'min_samples_leaf': 0.04}\n",
      "Performance: R² = 0.5973, MAE = 243645.45, MAPE = 4971.41%\n",
      "q-score: 45.99\n",
      "Prediction time: 0.0464 μs/sample\n",
      "I/O: Reads=0.000000, Writes=0.000000\n",
      "--------------------------------------------------------------------------------\n"
     ]
    },
    {
     "name": "stdout",
     "output_type": "stream",
     "text": [
      "\n",
      "Training with sample size: 100000\n",
      "Memory usage: 797.90 MB\n",
      "Using best parameters from max scale: {'max_depth': 6, 'min_samples_leaf': 0.04}\n",
      "Training decision tree model...\n"
     ]
    },
    {
     "name": "stdout",
     "output_type": "stream",
     "text": [
      "Making predictions...\n",
      "Calculating performance metrics...\n",
      "Measuring prediction performance...\n",
      "Saving model...\n",
      "Model size: 1.88 KB\n",
      "\n",
      "Results for cyclewaythingwaysorted, Sample Size: 100000\n",
      "Grid Search Time: 0.00s, Training Time: 0.49s\n",
      "Decision Tree Parameters: {'max_depth': 6, 'min_samples_leaf': 0.04}\n",
      "Performance: R² = 0.5897, MAE = 245421.46, MAPE = 4990.51%\n",
      "q-score: 46.22\n",
      "Prediction time: 0.0476 μs/sample\n",
      "I/O: Reads=0.000000, Writes=0.000000\n",
      "--------------------------------------------------------------------------------\n"
     ]
    },
    {
     "name": "stdout",
     "output_type": "stream",
     "text": [
      "\n",
      "Training with sample size: 50000\n",
      "Memory usage: 797.90 MB\n",
      "Using best parameters from max scale: {'max_depth': 6, 'min_samples_leaf': 0.04}\n",
      "Training decision tree model...\n"
     ]
    },
    {
     "name": "stdout",
     "output_type": "stream",
     "text": [
      "Making predictions...\n",
      "Calculating performance metrics...\n",
      "Measuring prediction performance...\n",
      "Saving model...\n",
      "Model size: 1.90 KB\n",
      "\n",
      "Results for cyclewaythingwaysorted, Sample Size: 50000\n",
      "Grid Search Time: 0.00s, Training Time: 0.22s\n",
      "Decision Tree Parameters: {'max_depth': 6, 'min_samples_leaf': 0.04}\n",
      "Performance: R² = 0.5936, MAE = 244155.83, MAPE = 4936.94%\n",
      "q-score: 45.74\n",
      "Prediction time: 0.0461 μs/sample\n",
      "I/O: Reads=0.000000, Writes=0.000000\n",
      "--------------------------------------------------------------------------------\n"
     ]
    },
    {
     "name": "stdout",
     "output_type": "stream",
     "text": [
      "\n",
      "Training with sample size: 10000\n",
      "Memory usage: 797.90 MB\n",
      "Using best parameters from max scale: {'max_depth': 6, 'min_samples_leaf': 0.04}\n",
      "Training decision tree model...\n",
      "Making predictions...\n",
      "Calculating performance metrics...\n",
      "Measuring prediction performance...\n",
      "Saving model...\n",
      "Model size: 1.74 KB\n",
      "\n",
      "Results for cyclewaythingwaysorted, Sample Size: 10000\n",
      "Grid Search Time: 0.00s, Training Time: 0.04s\n",
      "Decision Tree Parameters: {'max_depth': 6, 'min_samples_leaf': 0.04}\n",
      "Performance: R² = 0.5331, MAE = 273265.66, MAPE = 5472.01%\n",
      "q-score: 50.59\n",
      "Prediction time: 0.0451 μs/sample\n",
      "I/O: Reads=0.000000, Writes=0.000000\n",
      "--------------------------------------------------------------------------------\n"
     ]
    },
    {
     "name": "stdout",
     "output_type": "stream",
     "text": [
      "\n",
      "Training with sample size: 5000\n",
      "Memory usage: 797.90 MB\n",
      "Using best parameters from max scale: {'max_depth': 6, 'min_samples_leaf': 0.04}\n",
      "Training decision tree model...\n",
      "Making predictions...\n",
      "Calculating performance metrics...\n",
      "Measuring prediction performance...\n",
      "Saving model...\n",
      "Model size: 1.86 KB\n",
      "\n",
      "Results for cyclewaythingwaysorted, Sample Size: 5000\n",
      "Grid Search Time: 0.00s, Training Time: 0.02s\n",
      "Decision Tree Parameters: {'max_depth': 6, 'min_samples_leaf': 0.04}\n",
      "Performance: R² = 0.5467, MAE = 258682.82, MAPE = 5047.72%\n",
      "q-score: 47.06\n",
      "Prediction time: 0.0450 μs/sample\n",
      "I/O: Reads=0.000000, Writes=0.000000\n",
      "--------------------------------------------------------------------------------\n"
     ]
    },
    {
     "name": "stdout",
     "output_type": "stream",
     "text": [
      "\n",
      "Training with sample size: 1000\n",
      "Memory usage: 797.90 MB\n",
      "Using best parameters from max scale: {'max_depth': 6, 'min_samples_leaf': 0.04}\n",
      "Training decision tree model...\n",
      "Making predictions...\n",
      "Calculating performance metrics...\n",
      "Measuring prediction performance...\n",
      "Saving model...\n",
      "Model size: 1.80 KB\n",
      "\n",
      "Results for cyclewaythingwaysorted, Sample Size: 1000\n",
      "Grid Search Time: 0.00s, Training Time: 0.00s\n",
      "Decision Tree Parameters: {'max_depth': 6, 'min_samples_leaf': 0.04}\n",
      "Performance: R² = 0.5744, MAE = 249840.15, MAPE = 5094.37%\n",
      "q-score: 48.03\n",
      "Prediction time: 0.0464 μs/sample\n",
      "I/O: Reads=0.000000, Writes=0.000005\n",
      "--------------------------------------------------------------------------------\n"
     ]
    },
    {
     "name": "stdout",
     "output_type": "stream",
     "text": [
      "Saving results for cyclewaythingwaysorted...\n",
      "Memory usage: 726.26 MB\n",
      "\n",
      "Processing dataset: zcta5\n",
      "Universe boundaries for zcta5: (-176.684744, -14.373776, 145.830505, 71.341324)\n",
      "Loading data from ../large_files/resultsDistance/zcta5_results.csv\n"
     ]
    },
    {
     "name": "stdout",
     "output_type": "stream",
     "text": [
      "Parsing object coordinates...\n",
      "\n",
      "Basic statistics for zcta5 dataset:\n",
      "Max count: 31899.0\n",
      "Min count: 0.0\n",
      "Mean count: 5892.11\n",
      "Median count: 4178.50\n",
      "Total samples: 6626\n",
      "\n",
      "Calculating object features...\n",
      "Splitting data into train and test sets...\n",
      "Training set size: 5300\n",
      "\n",
      "Training with sample size: 5300\n",
      "Memory usage: 604.14 MB\n",
      "Performing grid search for optimal parameters...\n",
      "Fitting 5 folds for each of 49 candidates, totalling 245 fits\n"
     ]
    },
    {
     "name": "stdout",
     "output_type": "stream",
     "text": [
      "Grid search complete in 0.29s\n",
      "Best parameters: {'max_depth': 7, 'min_samples_leaf': 0.04}\n",
      "Training decision tree model...\n",
      "Making predictions...\n",
      "Calculating performance metrics...\n",
      "Measuring prediction performance...\n",
      "Saving model...\n",
      "Model size: 1.90 KB\n",
      "\n",
      "Results for zcta5, Sample Size: 5300\n",
      "Grid Search Time: 0.29s, Training Time: 0.03s\n",
      "Decision Tree Parameters: {'max_depth': 7, 'min_samples_leaf': 0.04}\n",
      "Performance: R² = 0.7193, MAE = 1938.79, MAPE = 569.74%\n",
      "q-score: 6.49\n",
      "Prediction time: 0.1446 μs/sample\n",
      "I/O: Reads=0.000000, Writes=0.000000\n",
      "--------------------------------------------------------------------------------\n",
      "Generating prediction scatter plot...\n"
     ]
    },
    {
     "name": "stdout",
     "output_type": "stream",
     "text": [
      "Generating feature importance plot...\n",
      "Generating side-by-side comparison plot...\n"
     ]
    },
    {
     "name": "stdout",
     "output_type": "stream",
     "text": [
      "\n",
      "Training with sample size: 5000\n",
      "Memory usage: 604.14 MB\n",
      "Using best parameters from max scale: {'max_depth': 7, 'min_samples_leaf': 0.04}\n",
      "Training decision tree model...\n",
      "Making predictions...\n",
      "Calculating performance metrics...\n",
      "Measuring prediction performance...\n",
      "Saving model...\n",
      "Model size: 1.90 KB\n",
      "\n",
      "Results for zcta5, Sample Size: 5000\n",
      "Grid Search Time: 0.00s, Training Time: 0.02s\n",
      "Decision Tree Parameters: {'max_depth': 7, 'min_samples_leaf': 0.04}\n",
      "Performance: R² = 0.6411, MAE = 2148.93, MAPE = 555.65%\n",
      "q-score: 6.37\n",
      "Prediction time: 0.1419 μs/sample\n",
      "I/O: Reads=0.000000, Writes=0.000000\n",
      "--------------------------------------------------------------------------------\n",
      "\n",
      "Training with sample size: 1000\n",
      "Memory usage: 604.14 MB\n",
      "Using best parameters from max scale: {'max_depth': 7, 'min_samples_leaf': 0.04}\n",
      "Training decision tree model...\n",
      "Making predictions...\n",
      "Calculating performance metrics...\n",
      "Measuring prediction performance...\n",
      "Saving model...\n",
      "Model size: 1.79 KB\n",
      "\n",
      "Results for zcta5, Sample Size: 1000\n",
      "Grid Search Time: 0.00s, Training Time: 0.01s\n",
      "Decision Tree Parameters: {'max_depth': 7, 'min_samples_leaf': 0.04}\n",
      "Performance: R² = 0.6701, MAE = 2142.26, MAPE = 613.80%\n",
      "q-score: 6.92\n",
      "Prediction time: 0.1431 μs/sample\n",
      "I/O: Reads=0.000000, Writes=0.000000\n",
      "--------------------------------------------------------------------------------\n"
     ]
    },
    {
     "name": "stdout",
     "output_type": "stream",
     "text": [
      "Saving results for zcta5...\n",
      "Memory usage: 604.14 MB\n",
      "\n",
      "Processing dataset: aerowaythingnodesorted\n",
      "Universe boundaries for aerowaythingnodesorted: (-179.88088960000002, -90.0, 179.951004, 83.08333590000001)\n",
      "Loading data from ../large_files/resultsDistance/aerowaythingnodesorted_results.csv\n",
      "Parsing object coordinates...\n",
      "\n",
      "Basic statistics for aerowaythingnodesorted dataset:\n",
      "Max count: 74280.0\n",
      "Min count: 0.0\n",
      "Mean count: 4340.59\n",
      "Median count: 2002.00\n",
      "Total samples: 15843\n",
      "\n",
      "Calculating object features...\n",
      "Splitting data into train and test sets...\n",
      "Training set size: 12674\n",
      "\n",
      "Training with sample size: 12674\n",
      "Memory usage: 604.14 MB\n",
      "Performing grid search for optimal parameters...\n",
      "Fitting 5 folds for each of 49 candidates, totalling 245 fits\n"
     ]
    },
    {
     "name": "stdout",
     "output_type": "stream",
     "text": [
      "Grid search complete in 0.27s\n",
      "Best parameters: {'max_depth': 6, 'min_samples_leaf': 0.04}\n",
      "Training decision tree model...\n",
      "Making predictions...\n",
      "Calculating performance metrics...\n",
      "Measuring prediction performance...\n",
      "Saving model...\n",
      "Model size: 1.87 KB\n",
      "\n",
      "Results for aerowaythingnodesorted, Sample Size: 12674\n",
      "Grid Search Time: 0.27s, Training Time: 0.05s\n",
      "Decision Tree Parameters: {'max_depth': 6, 'min_samples_leaf': 0.04}\n",
      "Performance: R² = 0.5758, MAE = 2072.32, MAPE = 1135.43%\n",
      "q-score: 12.55\n",
      "Prediction time: 0.0814 μs/sample\n",
      "I/O: Reads=0.000000, Writes=0.000000\n",
      "--------------------------------------------------------------------------------\n",
      "Generating prediction scatter plot...\n"
     ]
    },
    {
     "name": "stdout",
     "output_type": "stream",
     "text": [
      "Generating feature importance plot...\n",
      "Generating side-by-side comparison plot...\n"
     ]
    },
    {
     "name": "stdout",
     "output_type": "stream",
     "text": [
      "\n",
      "Training with sample size: 10000\n",
      "Memory usage: 604.14 MB\n",
      "Using best parameters from max scale: {'max_depth': 6, 'min_samples_leaf': 0.04}\n",
      "Training decision tree model...\n",
      "Making predictions...\n",
      "Calculating performance metrics...\n",
      "Measuring prediction performance...\n",
      "Saving model...\n",
      "Model size: 1.92 KB\n",
      "\n",
      "Results for aerowaythingnodesorted, Sample Size: 10000\n",
      "Grid Search Time: 0.00s, Training Time: 0.04s\n",
      "Decision Tree Parameters: {'max_depth': 6, 'min_samples_leaf': 0.04}\n",
      "Performance: R² = 0.5767, MAE = 2057.63, MAPE = 1030.24%\n",
      "q-score: 11.49\n",
      "Prediction time: 0.0824 μs/sample\n",
      "I/O: Reads=0.000000, Writes=0.000000\n",
      "--------------------------------------------------------------------------------\n",
      "\n",
      "Training with sample size: 5000\n",
      "Memory usage: 604.14 MB\n",
      "Using best parameters from max scale: {'max_depth': 6, 'min_samples_leaf': 0.04}\n",
      "Training decision tree model...\n",
      "Making predictions...\n",
      "Calculating performance metrics...\n",
      "Measuring prediction performance...\n",
      "Saving model...\n",
      "Model size: 1.91 KB\n",
      "\n",
      "Results for aerowaythingnodesorted, Sample Size: 5000\n",
      "Grid Search Time: 0.00s, Training Time: 0.02s\n",
      "Decision Tree Parameters: {'max_depth': 6, 'min_samples_leaf': 0.04}\n",
      "Performance: R² = 0.5869, MAE = 2048.97, MAPE = 1021.93%\n",
      "q-score: 11.41\n",
      "Prediction time: 0.0800 μs/sample\n",
      "I/O: Reads=0.000000, Writes=0.000000\n",
      "--------------------------------------------------------------------------------\n"
     ]
    },
    {
     "name": "stdout",
     "output_type": "stream",
     "text": [
      "\n",
      "Training with sample size: 1000\n",
      "Memory usage: 604.14 MB\n",
      "Using best parameters from max scale: {'max_depth': 6, 'min_samples_leaf': 0.04}\n",
      "Training decision tree model...\n",
      "Making predictions...\n",
      "Calculating performance metrics...\n",
      "Measuring prediction performance...\n",
      "Saving model...\n",
      "Model size: 1.75 KB\n",
      "\n",
      "Results for aerowaythingnodesorted, Sample Size: 1000\n",
      "Grid Search Time: 0.00s, Training Time: 0.00s\n",
      "Decision Tree Parameters: {'max_depth': 6, 'min_samples_leaf': 0.04}\n",
      "Performance: R² = 0.5192, MAE = 2207.11, MAPE = 702.81%\n",
      "q-score: 8.23\n",
      "Prediction time: 0.0804 μs/sample\n",
      "I/O: Reads=0.000000, Writes=0.000000\n",
      "--------------------------------------------------------------------------------\n",
      "Saving results for aerowaythingnodesorted...\n"
     ]
    },
    {
     "name": "stdout",
     "output_type": "stream",
     "text": [
      "Memory usage: 604.14 MB\n",
      "\n",
      "Processing dataset: leisurewaysorted\n",
      "Universe boundaries for leisurewaysorted: (-179.8728244, -89.6957847, 179.8091866, 81.0280175)\n",
      "Loading data from ../large_files/resultsDistance/leisurewaysorted_results.csv\n"
     ]
    },
    {
     "name": "stdout",
     "output_type": "stream",
     "text": [
      "Parsing object coordinates...\n"
     ]
    },
    {
     "name": "stdout",
     "output_type": "stream",
     "text": [
      "\n",
      "Basic statistics for leisurewaysorted dataset:\n",
      "Max count: 29357364.0\n",
      "Min count: 0.0\n",
      "Mean count: 2752172.81\n",
      "Median count: 1238338.00\n",
      "Total samples: 5876570\n",
      "\n",
      "Calculating object features...\n"
     ]
    },
    {
     "name": "stdout",
     "output_type": "stream",
     "text": [
      "Splitting data into train and test sets...\n"
     ]
    },
    {
     "name": "stdout",
     "output_type": "stream",
     "text": [
      "Training set size: 4701256\n",
      "\n",
      "Training with sample size: 4701256\n",
      "Memory usage: 2247.74 MB\n",
      "Performing grid search for optimal parameters...\n",
      "Fitting 5 folds for each of 49 candidates, totalling 245 fits\n"
     ]
    },
    {
     "name": "stdout",
     "output_type": "stream",
     "text": [
      "Grid search complete in 34.01s\n",
      "Best parameters: {'max_depth': 6, 'min_samples_leaf': 0.04}\n",
      "Training decision tree model...\n"
     ]
    },
    {
     "name": "stdout",
     "output_type": "stream",
     "text": [
      "Making predictions...\n",
      "Calculating performance metrics...\n"
     ]
    },
    {
     "name": "stdout",
     "output_type": "stream",
     "text": [
      "Measuring prediction performance...\n"
     ]
    },
    {
     "name": "stdout",
     "output_type": "stream",
     "text": [
      "Saving model...\n",
      "Model size: 1.83 KB\n",
      "\n",
      "Results for leisurewaysorted, Sample Size: 4701256\n",
      "Grid Search Time: 34.01s, Training Time: 32.41s\n",
      "Decision Tree Parameters: {'max_depth': 6, 'min_samples_leaf': 0.04}\n",
      "Performance: R² = 0.5850, MAE = 1285361.00, MAPE = 11692.28%\n",
      "q-score: 111.30\n",
      "Prediction time: 0.0592 μs/sample\n",
      "I/O: Reads=0.000000, Writes=0.000000\n",
      "--------------------------------------------------------------------------------\n",
      "Generating prediction scatter plot...\n"
     ]
    },
    {
     "name": "stdout",
     "output_type": "stream",
     "text": [
      "Generating feature importance plot...\n",
      "Generating side-by-side comparison plot...\n"
     ]
    },
    {
     "name": "stdout",
     "output_type": "stream",
     "text": [
      "\n",
      "Training with sample size: 4000000\n",
      "Memory usage: 2283.05 MB\n",
      "Using best parameters from max scale: {'max_depth': 6, 'min_samples_leaf': 0.04}\n",
      "Training decision tree model...\n"
     ]
    },
    {
     "name": "stdout",
     "output_type": "stream",
     "text": [
      "Making predictions...\n"
     ]
    },
    {
     "name": "stdout",
     "output_type": "stream",
     "text": [
      "Calculating performance metrics...\n",
      "Measuring prediction performance...\n"
     ]
    },
    {
     "name": "stdout",
     "output_type": "stream",
     "text": [
      "Saving model...\n",
      "Model size: 1.83 KB\n",
      "\n",
      "Results for leisurewaysorted, Sample Size: 4000000\n",
      "Grid Search Time: 0.00s, Training Time: 28.12s\n",
      "Decision Tree Parameters: {'max_depth': 6, 'min_samples_leaf': 0.04}\n",
      "Performance: R² = 0.5852, MAE = 1285013.24, MAPE = 11720.94%\n",
      "q-score: 111.58\n",
      "Prediction time: 0.0627 μs/sample\n",
      "I/O: Reads=0.000000, Writes=0.000000\n",
      "--------------------------------------------------------------------------------\n",
      "\n",
      "Training with sample size: 3000000\n",
      "Memory usage: 2310.28 MB\n",
      "Using best parameters from max scale: {'max_depth': 6, 'min_samples_leaf': 0.04}\n",
      "Training decision tree model...\n"
     ]
    },
    {
     "name": "stdout",
     "output_type": "stream",
     "text": [
      "Making predictions...\n",
      "Calculating performance metrics...\n"
     ]
    },
    {
     "name": "stdout",
     "output_type": "stream",
     "text": [
      "Measuring prediction performance...\n"
     ]
    },
    {
     "name": "stdout",
     "output_type": "stream",
     "text": [
      "Saving model...\n",
      "Model size: 1.82 KB\n",
      "\n",
      "Results for leisurewaysorted, Sample Size: 3000000\n",
      "Grid Search Time: 0.00s, Training Time: 20.48s\n",
      "Decision Tree Parameters: {'max_depth': 6, 'min_samples_leaf': 0.04}\n",
      "Performance: R² = 0.5851, MAE = 1286450.14, MAPE = 11803.44%\n",
      "q-score: 112.33\n",
      "Prediction time: 0.0614 μs/sample\n",
      "I/O: Reads=0.000000, Writes=0.000000\n",
      "--------------------------------------------------------------------------------\n",
      "\n",
      "Training with sample size: 2000000\n",
      "Memory usage: 2320.22 MB\n",
      "Using best parameters from max scale: {'max_depth': 6, 'min_samples_leaf': 0.04}\n",
      "Training decision tree model...\n"
     ]
    },
    {
     "name": "stdout",
     "output_type": "stream",
     "text": [
      "Making predictions...\n",
      "Calculating performance metrics...\n"
     ]
    },
    {
     "name": "stdout",
     "output_type": "stream",
     "text": [
      "Measuring prediction performance...\n"
     ]
    },
    {
     "name": "stdout",
     "output_type": "stream",
     "text": [
      "Saving model...\n",
      "Model size: 1.80 KB\n",
      "\n",
      "Results for leisurewaysorted, Sample Size: 2000000\n",
      "Grid Search Time: 0.00s, Training Time: 12.66s\n",
      "Decision Tree Parameters: {'max_depth': 6, 'min_samples_leaf': 0.04}\n",
      "Performance: R² = 0.5848, MAE = 1287166.31, MAPE = 11986.95%\n",
      "q-score: 114.03\n",
      "Prediction time: 0.0601 μs/sample\n",
      "I/O: Reads=0.000000, Writes=0.000000\n",
      "--------------------------------------------------------------------------------\n",
      "\n",
      "Training with sample size: 1000000\n",
      "Memory usage: 2320.22 MB\n",
      "Using best parameters from max scale: {'max_depth': 6, 'min_samples_leaf': 0.04}\n",
      "Training decision tree model...\n"
     ]
    },
    {
     "name": "stdout",
     "output_type": "stream",
     "text": [
      "Making predictions...\n"
     ]
    },
    {
     "name": "stdout",
     "output_type": "stream",
     "text": [
      "Calculating performance metrics...\n",
      "Measuring prediction performance...\n"
     ]
    },
    {
     "name": "stdout",
     "output_type": "stream",
     "text": [
      "Saving model...\n",
      "Model size: 1.80 KB\n",
      "\n",
      "Results for leisurewaysorted, Sample Size: 1000000\n",
      "Grid Search Time: 0.00s, Training Time: 5.68s\n",
      "Decision Tree Parameters: {'max_depth': 6, 'min_samples_leaf': 0.04}\n",
      "Performance: R² = 0.5856, MAE = 1286535.49, MAPE = 11827.71%\n",
      "q-score: 112.53\n",
      "Prediction time: 0.0606 μs/sample\n",
      "I/O: Reads=0.000000, Writes=0.000000\n",
      "--------------------------------------------------------------------------------\n",
      "\n",
      "Training with sample size: 500000\n",
      "Memory usage: 2320.22 MB\n",
      "Using best parameters from max scale: {'max_depth': 6, 'min_samples_leaf': 0.04}\n",
      "Training decision tree model...\n"
     ]
    },
    {
     "name": "stdout",
     "output_type": "stream",
     "text": [
      "Making predictions...\n",
      "Calculating performance metrics...\n"
     ]
    },
    {
     "name": "stdout",
     "output_type": "stream",
     "text": [
      "Measuring prediction performance...\n"
     ]
    },
    {
     "name": "stdout",
     "output_type": "stream",
     "text": [
      "Saving model...\n",
      "Model size: 1.86 KB\n",
      "\n",
      "Results for leisurewaysorted, Sample Size: 500000\n",
      "Grid Search Time: 0.00s, Training Time: 2.47s\n",
      "Decision Tree Parameters: {'max_depth': 6, 'min_samples_leaf': 0.04}\n",
      "Performance: R² = 0.5925, MAE = 1281331.97, MAPE = 11883.53%\n",
      "q-score: 112.99\n",
      "Prediction time: 0.0621 μs/sample\n",
      "I/O: Reads=0.000000, Writes=0.000000\n",
      "--------------------------------------------------------------------------------\n",
      "\n",
      "Training with sample size: 100000\n",
      "Memory usage: 2320.22 MB\n",
      "Using best parameters from max scale: {'max_depth': 6, 'min_samples_leaf': 0.04}\n",
      "Training decision tree model...\n"
     ]
    },
    {
     "name": "stdout",
     "output_type": "stream",
     "text": [
      "Making predictions...\n",
      "Calculating performance metrics...\n"
     ]
    },
    {
     "name": "stdout",
     "output_type": "stream",
     "text": [
      "Measuring prediction performance...\n"
     ]
    },
    {
     "name": "stdout",
     "output_type": "stream",
     "text": [
      "Saving model...\n",
      "Model size: 1.81 KB\n",
      "\n",
      "Results for leisurewaysorted, Sample Size: 100000\n",
      "Grid Search Time: 0.00s, Training Time: 0.42s\n",
      "Decision Tree Parameters: {'max_depth': 6, 'min_samples_leaf': 0.04}\n",
      "Performance: R² = 0.5260, MAE = 1437124.92, MAPE = 12104.67%\n",
      "q-score: 114.95\n",
      "Prediction time: 0.0611 μs/sample\n",
      "I/O: Reads=0.000000, Writes=0.000000\n",
      "--------------------------------------------------------------------------------\n",
      "\n",
      "Training with sample size: 50000\n",
      "Memory usage: 2320.22 MB\n",
      "Using best parameters from max scale: {'max_depth': 6, 'min_samples_leaf': 0.04}\n",
      "Training decision tree model...\n"
     ]
    },
    {
     "name": "stdout",
     "output_type": "stream",
     "text": [
      "Making predictions...\n",
      "Calculating performance metrics...\n"
     ]
    },
    {
     "name": "stdout",
     "output_type": "stream",
     "text": [
      "Measuring prediction performance...\n"
     ]
    },
    {
     "name": "stdout",
     "output_type": "stream",
     "text": [
      "Saving model...\n",
      "Model size: 1.83 KB\n",
      "\n",
      "Results for leisurewaysorted, Sample Size: 50000\n",
      "Grid Search Time: 0.00s, Training Time: 0.22s\n",
      "Decision Tree Parameters: {'max_depth': 6, 'min_samples_leaf': 0.04}\n",
      "Performance: R² = 0.5242, MAE = 1435248.53, MAPE = 11596.48%\n",
      "q-score: 110.22\n",
      "Prediction time: 0.0620 μs/sample\n",
      "I/O: Reads=0.000000, Writes=0.000000\n",
      "--------------------------------------------------------------------------------\n",
      "\n",
      "Training with sample size: 10000\n",
      "Memory usage: 2320.22 MB\n",
      "Using best parameters from max scale: {'max_depth': 6, 'min_samples_leaf': 0.04}\n",
      "Training decision tree model...\n",
      "Making predictions...\n"
     ]
    },
    {
     "name": "stdout",
     "output_type": "stream",
     "text": [
      "Calculating performance metrics...\n",
      "Measuring prediction performance...\n"
     ]
    },
    {
     "name": "stdout",
     "output_type": "stream",
     "text": [
      "Saving model...\n",
      "Model size: 1.74 KB\n",
      "\n",
      "Results for leisurewaysorted, Sample Size: 10000\n",
      "Grid Search Time: 0.00s, Training Time: 0.04s\n",
      "Decision Tree Parameters: {'max_depth': 6, 'min_samples_leaf': 0.04}\n",
      "Performance: R² = 0.5281, MAE = 1448788.86, MAPE = 11163.79%\n",
      "q-score: 106.92\n",
      "Prediction time: 0.0631 μs/sample\n",
      "I/O: Reads=0.000000, Writes=0.000000\n",
      "--------------------------------------------------------------------------------\n",
      "\n",
      "Training with sample size: 5000\n",
      "Memory usage: 2320.22 MB\n",
      "Using best parameters from max scale: {'max_depth': 6, 'min_samples_leaf': 0.04}\n",
      "Training decision tree model...\n",
      "Making predictions...\n"
     ]
    },
    {
     "name": "stdout",
     "output_type": "stream",
     "text": [
      "Calculating performance metrics...\n",
      "Measuring prediction performance...\n"
     ]
    },
    {
     "name": "stdout",
     "output_type": "stream",
     "text": [
      "Saving model...\n",
      "Model size: 1.80 KB\n",
      "\n",
      "Results for leisurewaysorted, Sample Size: 5000\n",
      "Grid Search Time: 0.00s, Training Time: 0.02s\n",
      "Decision Tree Parameters: {'max_depth': 6, 'min_samples_leaf': 0.04}\n",
      "Performance: R² = 0.5387, MAE = 1420566.74, MAPE = 10117.40%\n",
      "q-score: 96.17\n",
      "Prediction time: 0.0632 μs/sample\n",
      "I/O: Reads=0.000000, Writes=0.000000\n",
      "--------------------------------------------------------------------------------\n",
      "\n",
      "Training with sample size: 1000\n",
      "Memory usage: 2320.22 MB\n",
      "Using best parameters from max scale: {'max_depth': 6, 'min_samples_leaf': 0.04}\n",
      "Training decision tree model...\n",
      "Making predictions...\n"
     ]
    },
    {
     "name": "stdout",
     "output_type": "stream",
     "text": [
      "Calculating performance metrics...\n",
      "Measuring prediction performance...\n"
     ]
    },
    {
     "name": "stdout",
     "output_type": "stream",
     "text": [
      "Saving model...\n",
      "Model size: 1.81 KB\n",
      "\n",
      "Results for leisurewaysorted, Sample Size: 1000\n",
      "Grid Search Time: 0.00s, Training Time: 0.00s\n",
      "Decision Tree Parameters: {'max_depth': 6, 'min_samples_leaf': 0.04}\n",
      "Performance: R² = 0.5243, MAE = 1357610.97, MAPE = 8400.17%\n",
      "q-score: 79.38\n",
      "Prediction time: 0.0622 μs/sample\n",
      "I/O: Reads=0.000000, Writes=0.000000\n",
      "--------------------------------------------------------------------------------\n",
      "Saving results for leisurewaysorted...\n"
     ]
    },
    {
     "name": "stdout",
     "output_type": "stream",
     "text": [
      "Memory usage: 1737.38 MB\n",
      "\n",
      "Processing dataset: areawater\n",
      "Universe boundaries for areawater: (-179.231086, -14.601813, 179.859681, 71.441059)\n",
      "Loading data from ../large_files/resultsDistance/areawater_results.csv\n"
     ]
    },
    {
     "name": "stdout",
     "output_type": "stream",
     "text": [
      "Parsing object coordinates...\n"
     ]
    },
    {
     "name": "stdout",
     "output_type": "stream",
     "text": [
      "\n",
      "Basic statistics for areawater dataset:\n",
      "Max count: 2292056.0\n",
      "Min count: 0.0\n",
      "Mean count: 483232.05\n",
      "Median count: 331295.00\n",
      "Total samples: 458552\n",
      "\n",
      "Calculating object features...\n",
      "Splitting data into train and test sets...\n",
      "Training set size: 366841\n",
      "\n",
      "Training with sample size: 366841\n",
      "Memory usage: 711.20 MB\n",
      "Performing grid search for optimal parameters...\n",
      "Fitting 5 folds for each of 49 candidates, totalling 245 fits\n"
     ]
    },
    {
     "name": "stdout",
     "output_type": "stream",
     "text": [
      "Grid search complete in 2.88s\n",
      "Best parameters: {'max_depth': 6, 'min_samples_leaf': 0.04}\n",
      "Training decision tree model...\n"
     ]
    },
    {
     "name": "stdout",
     "output_type": "stream",
     "text": [
      "Making predictions...\n",
      "Calculating performance metrics...\n",
      "Measuring prediction performance...\n",
      "Saving model...\n",
      "Model size: 1.96 KB\n",
      "\n",
      "Results for areawater, Sample Size: 366841\n",
      "Grid Search Time: 2.88s, Training Time: 2.10s\n",
      "Decision Tree Parameters: {'max_depth': 6, 'min_samples_leaf': 0.04}\n",
      "Performance: R² = 0.7618, MAE = 150347.28, MAPE = 17383.51%\n",
      "q-score: 165.73\n",
      "Prediction time: 0.0428 μs/sample\n",
      "I/O: Reads=0.000000, Writes=0.000000\n",
      "--------------------------------------------------------------------------------\n",
      "Generating prediction scatter plot...\n"
     ]
    },
    {
     "name": "stdout",
     "output_type": "stream",
     "text": [
      "Generating feature importance plot...\n",
      "Generating side-by-side comparison plot...\n"
     ]
    },
    {
     "name": "stdout",
     "output_type": "stream",
     "text": [
      "\n",
      "Training with sample size: 100000\n",
      "Memory usage: 710.22 MB\n",
      "Using best parameters from max scale: {'max_depth': 6, 'min_samples_leaf': 0.04}\n",
      "Training decision tree model...\n"
     ]
    },
    {
     "name": "stdout",
     "output_type": "stream",
     "text": [
      "Making predictions...\n",
      "Calculating performance metrics...\n",
      "Measuring prediction performance...\n",
      "Saving model...\n",
      "Model size: 1.93 KB\n",
      "\n",
      "Results for areawater, Sample Size: 100000\n",
      "Grid Search Time: 0.00s, Training Time: 0.56s\n",
      "Decision Tree Parameters: {'max_depth': 6, 'min_samples_leaf': 0.04}\n",
      "Performance: R² = 0.7639, MAE = 150079.91, MAPE = 17278.41%\n",
      "q-score: 164.28\n",
      "Prediction time: 0.0466 μs/sample\n",
      "I/O: Reads=0.000000, Writes=0.000000\n",
      "--------------------------------------------------------------------------------\n",
      "\n",
      "Training with sample size: 50000\n",
      "Memory usage: 710.22 MB\n",
      "Using best parameters from max scale: {'max_depth': 6, 'min_samples_leaf': 0.04}\n",
      "Training decision tree model...\n"
     ]
    },
    {
     "name": "stdout",
     "output_type": "stream",
     "text": [
      "Making predictions...\n",
      "Calculating performance metrics...\n",
      "Measuring prediction performance...\n",
      "Saving model...\n",
      "Model size: 1.99 KB\n",
      "\n",
      "Results for areawater, Sample Size: 50000\n",
      "Grid Search Time: 0.00s, Training Time: 0.26s\n",
      "Decision Tree Parameters: {'max_depth': 6, 'min_samples_leaf': 0.04}\n",
      "Performance: R² = 0.7691, MAE = 148860.10, MAPE = 17364.81%\n",
      "q-score: 165.31\n",
      "Prediction time: 0.0442 μs/sample\n",
      "I/O: Reads=0.000000, Writes=0.000000\n",
      "--------------------------------------------------------------------------------\n",
      "\n",
      "Training with sample size: 10000\n",
      "Memory usage: 710.22 MB\n",
      "Using best parameters from max scale: {'max_depth': 6, 'min_samples_leaf': 0.04}\n",
      "Training decision tree model...\n"
     ]
    },
    {
     "name": "stdout",
     "output_type": "stream",
     "text": [
      "Making predictions...\n",
      "Calculating performance metrics...\n",
      "Measuring prediction performance...\n",
      "Saving model...\n",
      "Model size: 1.86 KB\n",
      "\n",
      "Results for areawater, Sample Size: 10000\n",
      "Grid Search Time: 0.00s, Training Time: 0.05s\n",
      "Decision Tree Parameters: {'max_depth': 6, 'min_samples_leaf': 0.04}\n",
      "Performance: R² = 0.7643, MAE = 150619.44, MAPE = 17028.51%\n",
      "q-score: 163.33\n",
      "Prediction time: 0.0425 μs/sample\n",
      "I/O: Reads=0.000000, Writes=0.000000\n",
      "--------------------------------------------------------------------------------\n",
      "\n",
      "Training with sample size: 5000\n",
      "Memory usage: 710.22 MB\n",
      "Using best parameters from max scale: {'max_depth': 6, 'min_samples_leaf': 0.04}\n",
      "Training decision tree model...\n"
     ]
    },
    {
     "name": "stdout",
     "output_type": "stream",
     "text": [
      "Making predictions...\n",
      "Calculating performance metrics...\n",
      "Measuring prediction performance...\n",
      "Saving model...\n",
      "Model size: 1.95 KB\n",
      "\n",
      "Results for areawater, Sample Size: 5000\n",
      "Grid Search Time: 0.00s, Training Time: 0.02s\n",
      "Decision Tree Parameters: {'max_depth': 6, 'min_samples_leaf': 0.04}\n",
      "Performance: R² = 0.7721, MAE = 147972.96, MAPE = 17519.86%\n",
      "q-score: 167.89\n",
      "Prediction time: 0.0433 μs/sample\n",
      "I/O: Reads=0.000000, Writes=0.000000\n",
      "--------------------------------------------------------------------------------\n",
      "\n",
      "Training with sample size: 1000\n",
      "Memory usage: 710.22 MB\n",
      "Using best parameters from max scale: {'max_depth': 6, 'min_samples_leaf': 0.04}\n",
      "Training decision tree model...\n",
      "Making predictions...\n",
      "Calculating performance metrics...\n",
      "Measuring prediction performance...\n"
     ]
    },
    {
     "name": "stdout",
     "output_type": "stream",
     "text": [
      "Saving model...\n",
      "Model size: 1.82 KB\n",
      "\n",
      "Results for areawater, Sample Size: 1000\n",
      "Grid Search Time: 0.00s, Training Time: 0.01s\n",
      "Decision Tree Parameters: {'max_depth': 6, 'min_samples_leaf': 0.04}\n",
      "Performance: R² = 0.7096, MAE = 164566.57, MAPE = 17543.50%\n",
      "q-score: 169.03\n",
      "Prediction time: 0.0428 μs/sample\n",
      "I/O: Reads=0.000000, Writes=0.000002\n",
      "--------------------------------------------------------------------------------\n",
      "Saving results for areawater...\n"
     ]
    },
    {
     "name": "stdout",
     "output_type": "stream",
     "text": [
      "Memory usage: 710.22 MB\n",
      "\n",
      "Processing dataset: yago2\n",
      "Universe boundaries for yago2: (-179.98473, -90.0, 180.0, 90.0)\n",
      "Loading data from ../large_files/resultsDistance/yago2_results.csv\n"
     ]
    },
    {
     "name": "stdout",
     "output_type": "stream",
     "text": [
      "Parsing object coordinates...\n"
     ]
    },
    {
     "name": "stdout",
     "output_type": "stream",
     "text": [
      "\n",
      "Basic statistics for yago2 dataset:\n",
      "Max count: 4470390.0\n",
      "Min count: 0.0\n",
      "Mean count: 279738.01\n",
      "Median count: 172925.00\n",
      "Total samples: 898942\n",
      "\n",
      "Calculating object features...\n",
      "Splitting data into train and test sets...\n"
     ]
    },
    {
     "name": "stdout",
     "output_type": "stream",
     "text": [
      "Training set size: 719153\n",
      "\n",
      "Training with sample size: 719153\n",
      "Memory usage: 849.84 MB\n",
      "Performing grid search for optimal parameters...\n",
      "Fitting 5 folds for each of 49 candidates, totalling 245 fits\n"
     ]
    },
    {
     "name": "stdout",
     "output_type": "stream",
     "text": [
      "Grid search complete in 5.15s\n",
      "Best parameters: {'max_depth': 7, 'min_samples_leaf': 0.04}\n",
      "Training decision tree model...\n"
     ]
    },
    {
     "name": "stdout",
     "output_type": "stream",
     "text": [
      "Making predictions...\n",
      "Calculating performance metrics...\n",
      "Measuring prediction performance...\n",
      "Saving model...\n",
      "Model size: 1.92 KB\n",
      "\n",
      "Results for yago2, Sample Size: 719153\n",
      "Grid Search Time: 5.15s, Training Time: 4.49s\n",
      "Decision Tree Parameters: {'max_depth': 7, 'min_samples_leaf': 0.04}\n",
      "Performance: R² = 0.6286, MAE = 103539.27, MAPE = 895.35%\n",
      "q-score: 7.31\n",
      "Prediction time: 0.0453 μs/sample\n",
      "I/O: Reads=0.000000, Writes=0.000000\n",
      "--------------------------------------------------------------------------------\n",
      "Generating prediction scatter plot...\n"
     ]
    },
    {
     "name": "stdout",
     "output_type": "stream",
     "text": [
      "Generating feature importance plot...\n",
      "Generating side-by-side comparison plot...\n"
     ]
    },
    {
     "name": "stdout",
     "output_type": "stream",
     "text": [
      "\n",
      "Training with sample size: 500000\n",
      "Memory usage: 849.84 MB\n",
      "Using best parameters from max scale: {'max_depth': 7, 'min_samples_leaf': 0.04}\n",
      "Training decision tree model...\n"
     ]
    },
    {
     "name": "stdout",
     "output_type": "stream",
     "text": [
      "Making predictions...\n",
      "Calculating performance metrics...\n",
      "Measuring prediction performance...\n",
      "Saving model...\n",
      "Model size: 1.91 KB\n",
      "\n",
      "Results for yago2, Sample Size: 500000\n",
      "Grid Search Time: 0.00s, Training Time: 2.94s\n",
      "Decision Tree Parameters: {'max_depth': 7, 'min_samples_leaf': 0.04}\n",
      "Performance: R² = 0.6288, MAE = 103369.34, MAPE = 886.06%\n",
      "q-score: 7.21\n",
      "Prediction time: 0.0475 μs/sample\n",
      "I/O: Reads=0.000000, Writes=0.000000\n",
      "--------------------------------------------------------------------------------\n"
     ]
    },
    {
     "name": "stdout",
     "output_type": "stream",
     "text": [
      "\n",
      "Training with sample size: 100000\n",
      "Memory usage: 849.84 MB\n",
      "Using best parameters from max scale: {'max_depth': 7, 'min_samples_leaf': 0.04}\n",
      "Training decision tree model...\n"
     ]
    },
    {
     "name": "stdout",
     "output_type": "stream",
     "text": [
      "Making predictions...\n",
      "Calculating performance metrics...\n",
      "Measuring prediction performance...\n",
      "Saving model...\n",
      "Model size: 1.95 KB\n",
      "\n",
      "Results for yago2, Sample Size: 100000\n",
      "Grid Search Time: 0.00s, Training Time: 0.51s\n",
      "Decision Tree Parameters: {'max_depth': 7, 'min_samples_leaf': 0.04}\n",
      "Performance: R² = 0.6292, MAE = 103175.21, MAPE = 895.42%\n",
      "q-score: 7.34\n",
      "Prediction time: 0.0452 μs/sample\n",
      "I/O: Reads=0.000000, Writes=0.000000\n",
      "--------------------------------------------------------------------------------\n"
     ]
    },
    {
     "name": "stdout",
     "output_type": "stream",
     "text": [
      "\n",
      "Training with sample size: 50000\n",
      "Memory usage: 849.84 MB\n",
      "Using best parameters from max scale: {'max_depth': 7, 'min_samples_leaf': 0.04}\n",
      "Training decision tree model...\n"
     ]
    },
    {
     "name": "stdout",
     "output_type": "stream",
     "text": [
      "Making predictions...\n",
      "Calculating performance metrics...\n",
      "Measuring prediction performance...\n",
      "Saving model...\n",
      "Model size: 1.88 KB\n",
      "\n",
      "Results for yago2, Sample Size: 50000\n",
      "Grid Search Time: 0.00s, Training Time: 0.24s\n",
      "Decision Tree Parameters: {'max_depth': 7, 'min_samples_leaf': 0.04}\n",
      "Performance: R² = 0.6281, MAE = 103697.13, MAPE = 905.53%\n",
      "q-score: 7.45\n",
      "Prediction time: 0.0461 μs/sample\n",
      "I/O: Reads=0.000000, Writes=0.000000\n",
      "--------------------------------------------------------------------------------\n"
     ]
    },
    {
     "name": "stdout",
     "output_type": "stream",
     "text": [
      "\n",
      "Training with sample size: 10000\n",
      "Memory usage: 849.84 MB\n",
      "Using best parameters from max scale: {'max_depth': 7, 'min_samples_leaf': 0.04}\n",
      "Training decision tree model...\n",
      "Making predictions...\n",
      "Calculating performance metrics...\n",
      "Measuring prediction performance...\n",
      "Saving model...\n",
      "Model size: 1.93 KB\n",
      "\n",
      "Results for yago2, Sample Size: 10000\n",
      "Grid Search Time: 0.00s, Training Time: 0.05s\n",
      "Decision Tree Parameters: {'max_depth': 7, 'min_samples_leaf': 0.04}\n",
      "Performance: R² = 0.6537, MAE = 101516.80, MAPE = 701.43%\n",
      "q-score: 5.68\n",
      "Prediction time: 0.0458 μs/sample\n",
      "I/O: Reads=0.000000, Writes=0.000000\n",
      "--------------------------------------------------------------------------------\n"
     ]
    },
    {
     "name": "stdout",
     "output_type": "stream",
     "text": [
      "\n",
      "Training with sample size: 5000\n",
      "Memory usage: 849.84 MB\n",
      "Using best parameters from max scale: {'max_depth': 7, 'min_samples_leaf': 0.04}\n",
      "Training decision tree model...\n",
      "Making predictions...\n",
      "Calculating performance metrics...\n",
      "Measuring prediction performance...\n",
      "Saving model...\n",
      "Model size: 1.86 KB\n",
      "\n",
      "Results for yago2, Sample Size: 5000\n",
      "Grid Search Time: 0.00s, Training Time: 0.03s\n",
      "Decision Tree Parameters: {'max_depth': 7, 'min_samples_leaf': 0.04}\n",
      "Performance: R² = 0.6656, MAE = 101141.47, MAPE = 704.51%\n",
      "q-score: 5.69\n",
      "Prediction time: 0.0464 μs/sample\n",
      "I/O: Reads=0.000000, Writes=0.000000\n",
      "--------------------------------------------------------------------------------\n"
     ]
    },
    {
     "name": "stdout",
     "output_type": "stream",
     "text": [
      "\n",
      "Training with sample size: 1000\n",
      "Memory usage: 849.84 MB\n",
      "Using best parameters from max scale: {'max_depth': 7, 'min_samples_leaf': 0.04}\n",
      "Training decision tree model...\n",
      "Making predictions...\n",
      "Calculating performance metrics...\n",
      "Measuring prediction performance...\n",
      "Saving model...\n",
      "Model size: 1.75 KB\n",
      "\n",
      "Results for yago2, Sample Size: 1000\n",
      "Grid Search Time: 0.00s, Training Time: 0.01s\n",
      "Decision Tree Parameters: {'max_depth': 7, 'min_samples_leaf': 0.04}\n",
      "Performance: R² = 0.6093, MAE = 106469.27, MAPE = 749.07%\n",
      "q-score: 6.51\n",
      "Prediction time: 0.0446 μs/sample\n",
      "I/O: Reads=0.000000, Writes=0.000000\n",
      "--------------------------------------------------------------------------------\n"
     ]
    },
    {
     "name": "stdout",
     "output_type": "stream",
     "text": [
      "Saving results for yago2...\n",
      "Memory usage: 789.63 MB\n",
      "\n",
      "Processing dataset: powerthingnodesorted\n",
      "Universe boundaries for powerthingnodesorted: (-177.92741900000001, -77.8453164, 178.47197400000002, 78.2256315)\n",
      "Loading data from ../large_files/resultsDistance/powerthingnodesorted_results.csv\n"
     ]
    },
    {
     "name": "stdout",
     "output_type": "stream",
     "text": [
      "Parsing object coordinates...\n"
     ]
    },
    {
     "name": "stdout",
     "output_type": "stream",
     "text": [
      "\n",
      "Basic statistics for powerthingnodesorted dataset:\n",
      "Max count: 10461467.0\n",
      "Min count: 0.0\n",
      "Mean count: 665028.42\n",
      "Median count: 348182.50\n",
      "Total samples: 2102514\n",
      "\n",
      "Calculating object features...\n"
     ]
    },
    {
     "name": "stdout",
     "output_type": "stream",
     "text": [
      "Splitting data into train and test sets...\n"
     ]
    },
    {
     "name": "stdout",
     "output_type": "stream",
     "text": [
      "Training set size: 1682011\n",
      "\n",
      "Training with sample size: 1682011\n",
      "Memory usage: 1193.61 MB\n",
      "Performing grid search for optimal parameters...\n",
      "Fitting 5 folds for each of 49 candidates, totalling 245 fits\n"
     ]
    },
    {
     "name": "stdout",
     "output_type": "stream",
     "text": [
      "Grid search complete in 11.62s\n",
      "Best parameters: {'max_depth': 6, 'min_samples_leaf': 0.04}\n",
      "Training decision tree model...\n"
     ]
    },
    {
     "name": "stdout",
     "output_type": "stream",
     "text": [
      "Making predictions...\n",
      "Calculating performance metrics...\n",
      "Measuring prediction performance...\n"
     ]
    },
    {
     "name": "stdout",
     "output_type": "stream",
     "text": [
      "Saving model...\n",
      "Model size: 1.98 KB\n",
      "\n",
      "Results for powerthingnodesorted, Sample Size: 1682011\n",
      "Grid Search Time: 11.62s, Training Time: 11.64s\n",
      "Decision Tree Parameters: {'max_depth': 6, 'min_samples_leaf': 0.04}\n",
      "Performance: R² = 0.5852, MAE = 307860.97, MAPE = 9589.49%\n",
      "q-score: 94.33\n",
      "Prediction time: 0.0499 μs/sample\n",
      "I/O: Reads=0.000000, Writes=0.000000\n",
      "--------------------------------------------------------------------------------\n",
      "Generating prediction scatter plot...\n"
     ]
    },
    {
     "name": "stdout",
     "output_type": "stream",
     "text": [
      "Generating feature importance plot...\n",
      "Generating side-by-side comparison plot...\n"
     ]
    },
    {
     "name": "stdout",
     "output_type": "stream",
     "text": [
      "\n",
      "Training with sample size: 1000000\n",
      "Memory usage: 1193.91 MB\n",
      "Using best parameters from max scale: {'max_depth': 6, 'min_samples_leaf': 0.04}\n",
      "Training decision tree model...\n"
     ]
    },
    {
     "name": "stdout",
     "output_type": "stream",
     "text": [
      "Making predictions...\n",
      "Calculating performance metrics...\n",
      "Measuring prediction performance...\n"
     ]
    },
    {
     "name": "stdout",
     "output_type": "stream",
     "text": [
      "Saving model...\n",
      "Model size: 1.92 KB\n",
      "\n",
      "Results for powerthingnodesorted, Sample Size: 1000000\n",
      "Grid Search Time: 0.00s, Training Time: 6.16s\n",
      "Decision Tree Parameters: {'max_depth': 6, 'min_samples_leaf': 0.04}\n",
      "Performance: R² = 0.5808, MAE = 309808.69, MAPE = 9661.99%\n",
      "q-score: 94.99\n",
      "Prediction time: 0.0491 μs/sample\n",
      "I/O: Reads=0.000000, Writes=0.000000\n",
      "--------------------------------------------------------------------------------\n",
      "\n",
      "Training with sample size: 500000\n",
      "Memory usage: 1193.91 MB\n",
      "Using best parameters from max scale: {'max_depth': 6, 'min_samples_leaf': 0.04}\n",
      "Training decision tree model...\n"
     ]
    },
    {
     "name": "stdout",
     "output_type": "stream",
     "text": [
      "Making predictions...\n",
      "Calculating performance metrics...\n",
      "Measuring prediction performance...\n"
     ]
    },
    {
     "name": "stdout",
     "output_type": "stream",
     "text": [
      "Saving model...\n",
      "Model size: 1.96 KB\n",
      "\n",
      "Results for powerthingnodesorted, Sample Size: 500000\n",
      "Grid Search Time: 0.00s, Training Time: 2.83s\n",
      "Decision Tree Parameters: {'max_depth': 6, 'min_samples_leaf': 0.04}\n",
      "Performance: R² = 0.5896, MAE = 305511.39, MAPE = 9560.33%\n",
      "q-score: 94.01\n",
      "Prediction time: 0.0518 μs/sample\n",
      "I/O: Reads=0.000000, Writes=0.000000\n",
      "--------------------------------------------------------------------------------\n",
      "\n",
      "Training with sample size: 100000\n",
      "Memory usage: 1193.91 MB\n",
      "Using best parameters from max scale: {'max_depth': 6, 'min_samples_leaf': 0.04}\n",
      "Training decision tree model...\n"
     ]
    },
    {
     "name": "stdout",
     "output_type": "stream",
     "text": [
      "Making predictions...\n",
      "Calculating performance metrics...\n",
      "Measuring prediction performance...\n"
     ]
    },
    {
     "name": "stdout",
     "output_type": "stream",
     "text": [
      "Saving model...\n",
      "Model size: 1.82 KB\n",
      "\n",
      "Results for powerthingnodesorted, Sample Size: 100000\n",
      "Grid Search Time: 0.00s, Training Time: 0.47s\n",
      "Decision Tree Parameters: {'max_depth': 6, 'min_samples_leaf': 0.04}\n",
      "Performance: R² = 0.5828, MAE = 310129.85, MAPE = 9761.31%\n",
      "q-score: 95.99\n",
      "Prediction time: 0.0489 μs/sample\n",
      "I/O: Reads=0.000000, Writes=0.000000\n",
      "--------------------------------------------------------------------------------\n",
      "\n",
      "Training with sample size: 50000\n",
      "Memory usage: 1193.91 MB\n",
      "Using best parameters from max scale: {'max_depth': 6, 'min_samples_leaf': 0.04}\n",
      "Training decision tree model...\n"
     ]
    },
    {
     "name": "stdout",
     "output_type": "stream",
     "text": [
      "Making predictions...\n",
      "Calculating performance metrics...\n",
      "Measuring prediction performance...\n"
     ]
    },
    {
     "name": "stdout",
     "output_type": "stream",
     "text": [
      "Saving model...\n",
      "Model size: 1.82 KB\n",
      "\n",
      "Results for powerthingnodesorted, Sample Size: 50000\n",
      "Grid Search Time: 0.00s, Training Time: 0.24s\n",
      "Decision Tree Parameters: {'max_depth': 6, 'min_samples_leaf': 0.04}\n",
      "Performance: R² = 0.5847, MAE = 308914.84, MAPE = 9777.97%\n",
      "q-score: 96.12\n",
      "Prediction time: 0.0495 μs/sample\n",
      "I/O: Reads=0.000000, Writes=0.000000\n",
      "--------------------------------------------------------------------------------\n",
      "\n",
      "Training with sample size: 10000\n",
      "Memory usage: 1193.91 MB\n",
      "Using best parameters from max scale: {'max_depth': 6, 'min_samples_leaf': 0.04}\n",
      "Training decision tree model...\n",
      "Making predictions...\n"
     ]
    },
    {
     "name": "stdout",
     "output_type": "stream",
     "text": [
      "Calculating performance metrics...\n",
      "Measuring prediction performance...\n"
     ]
    },
    {
     "name": "stdout",
     "output_type": "stream",
     "text": [
      "Saving model...\n",
      "Model size: 1.97 KB\n",
      "\n",
      "Results for powerthingnodesorted, Sample Size: 10000\n",
      "Grid Search Time: 0.00s, Training Time: 0.04s\n",
      "Decision Tree Parameters: {'max_depth': 6, 'min_samples_leaf': 0.04}\n",
      "Performance: R² = 0.5674, MAE = 318047.08, MAPE = 10174.90%\n",
      "q-score: 100.31\n",
      "Prediction time: 0.0507 μs/sample\n",
      "I/O: Reads=0.000000, Writes=0.000000\n",
      "--------------------------------------------------------------------------------\n",
      "\n",
      "Training with sample size: 5000\n",
      "Memory usage: 1193.91 MB\n",
      "Using best parameters from max scale: {'max_depth': 6, 'min_samples_leaf': 0.04}\n",
      "Training decision tree model...\n",
      "Making predictions...\n"
     ]
    },
    {
     "name": "stdout",
     "output_type": "stream",
     "text": [
      "Calculating performance metrics...\n",
      "Measuring prediction performance...\n"
     ]
    },
    {
     "name": "stdout",
     "output_type": "stream",
     "text": [
      "Saving model...\n",
      "Model size: 1.80 KB\n",
      "\n",
      "Results for powerthingnodesorted, Sample Size: 5000\n",
      "Grid Search Time: 0.00s, Training Time: 0.02s\n",
      "Decision Tree Parameters: {'max_depth': 6, 'min_samples_leaf': 0.04}\n",
      "Performance: R² = 0.5754, MAE = 326516.21, MAPE = 9220.71%\n",
      "q-score: 90.56\n",
      "Prediction time: 0.0493 μs/sample\n",
      "I/O: Reads=0.000000, Writes=0.000000\n",
      "--------------------------------------------------------------------------------\n",
      "\n",
      "Training with sample size: 1000\n",
      "Memory usage: 1193.91 MB\n",
      "Using best parameters from max scale: {'max_depth': 6, 'min_samples_leaf': 0.04}\n",
      "Training decision tree model...\n",
      "Making predictions...\n",
      "Calculating performance metrics...\n",
      "Measuring prediction performance...\n"
     ]
    },
    {
     "name": "stdout",
     "output_type": "stream",
     "text": [
      "Saving model...\n",
      "Model size: 1.75 KB\n",
      "\n",
      "Results for powerthingnodesorted, Sample Size: 1000\n",
      "Grid Search Time: 0.00s, Training Time: 0.00s\n",
      "Decision Tree Parameters: {'max_depth': 6, 'min_samples_leaf': 0.04}\n",
      "Performance: R² = 0.5639, MAE = 328683.08, MAPE = 9596.76%\n",
      "q-score: 94.75\n",
      "Prediction time: 0.0485 μs/sample\n",
      "I/O: Reads=0.000000, Writes=0.000000\n",
      "--------------------------------------------------------------------------------\n",
      "Saving results for powerthingnodesorted...\n"
     ]
    },
    {
     "name": "stdout",
     "output_type": "stream",
     "text": [
      "Memory usage: 985.37 MB\n",
      "\n",
      "Processing dataset: emergencythingwaysorted\n",
      "Universe boundaries for emergencythingwaysorted: (-175.221337, -53.7941359, 179.3313189, 78.22019230000001)\n",
      "Loading data from ../large_files/resultsDistance/emergencythingwaysorted_results.csv\n"
     ]
    },
    {
     "name": "stdout",
     "output_type": "stream",
     "text": [
      "Parsing object coordinates...\n"
     ]
    },
    {
     "name": "stdout",
     "output_type": "stream",
     "text": [
      "\n",
      "Basic statistics for emergencythingwaysorted dataset:\n",
      "Max count: 802965.0\n",
      "Min count: 0.0\n",
      "Mean count: 67511.32\n",
      "Median count: 16253.00\n",
      "Total samples: 161514\n",
      "\n",
      "Calculating object features...\n",
      "Splitting data into train and test sets...\n",
      "Training set size: 129211\n",
      "\n",
      "Training with sample size: 129211\n",
      "Memory usage: 665.54 MB\n",
      "Performing grid search for optimal parameters...\n",
      "Fitting 5 folds for each of 49 candidates, totalling 245 fits\n"
     ]
    },
    {
     "name": "stdout",
     "output_type": "stream",
     "text": [
      "Grid search complete in 1.50s\n",
      "Best parameters: {'max_depth': 7, 'min_samples_leaf': 0.04}\n",
      "Training decision tree model...\n"
     ]
    },
    {
     "name": "stdout",
     "output_type": "stream",
     "text": [
      "Making predictions...\n",
      "Calculating performance metrics...\n",
      "Measuring prediction performance...\n",
      "Saving model...\n",
      "Model size: 1.89 KB\n",
      "\n",
      "Results for emergencythingwaysorted, Sample Size: 129211\n",
      "Grid Search Time: 1.50s, Training Time: 0.59s\n",
      "Decision Tree Parameters: {'max_depth': 7, 'min_samples_leaf': 0.04}\n",
      "Performance: R² = 0.6403, MAE = 34291.34, MAPE = 1847.35%\n",
      "q-score: 17.50\n",
      "Prediction time: 0.0436 μs/sample\n",
      "I/O: Reads=0.000000, Writes=0.000000\n",
      "--------------------------------------------------------------------------------\n",
      "Generating prediction scatter plot...\n"
     ]
    },
    {
     "name": "stdout",
     "output_type": "stream",
     "text": [
      "Generating feature importance plot...\n",
      "Generating side-by-side comparison plot...\n"
     ]
    },
    {
     "name": "stdout",
     "output_type": "stream",
     "text": [
      "\n",
      "Training with sample size: 100000\n",
      "Memory usage: 664.57 MB\n",
      "Using best parameters from max scale: {'max_depth': 7, 'min_samples_leaf': 0.04}\n",
      "Training decision tree model...\n"
     ]
    },
    {
     "name": "stdout",
     "output_type": "stream",
     "text": [
      "Making predictions...\n",
      "Calculating performance metrics...\n",
      "Measuring prediction performance...\n",
      "Saving model...\n",
      "Model size: 1.89 KB\n",
      "\n",
      "Results for emergencythingwaysorted, Sample Size: 100000\n",
      "Grid Search Time: 0.00s, Training Time: 0.45s\n",
      "Decision Tree Parameters: {'max_depth': 7, 'min_samples_leaf': 0.04}\n",
      "Performance: R² = 0.6405, MAE = 34313.82, MAPE = 1851.90%\n",
      "q-score: 17.57\n",
      "Prediction time: 0.0440 μs/sample\n",
      "I/O: Reads=0.000000, Writes=0.000000\n",
      "--------------------------------------------------------------------------------\n",
      "\n",
      "Training with sample size: 50000\n",
      "Memory usage: 664.57 MB\n",
      "Using best parameters from max scale: {'max_depth': 7, 'min_samples_leaf': 0.04}\n",
      "Training decision tree model...\n"
     ]
    },
    {
     "name": "stdout",
     "output_type": "stream",
     "text": [
      "Making predictions...\n",
      "Calculating performance metrics...\n",
      "Measuring prediction performance...\n",
      "Saving model...\n",
      "Model size: 1.88 KB\n",
      "\n",
      "Results for emergencythingwaysorted, Sample Size: 50000\n",
      "Grid Search Time: 0.00s, Training Time: 0.22s\n",
      "Decision Tree Parameters: {'max_depth': 7, 'min_samples_leaf': 0.04}\n",
      "Performance: R² = 0.6394, MAE = 34324.70, MAPE = 1840.99%\n",
      "q-score: 17.46\n",
      "Prediction time: 0.0430 μs/sample\n",
      "I/O: Reads=0.000000, Writes=0.000000\n",
      "--------------------------------------------------------------------------------\n",
      "\n",
      "Training with sample size: 10000\n",
      "Memory usage: 664.57 MB\n",
      "Using best parameters from max scale: {'max_depth': 7, 'min_samples_leaf': 0.04}\n",
      "Training decision tree model...\n",
      "Making predictions...\n"
     ]
    },
    {
     "name": "stdout",
     "output_type": "stream",
     "text": [
      "Calculating performance metrics...\n",
      "Measuring prediction performance...\n",
      "Saving model...\n",
      "Model size: 1.79 KB\n",
      "\n",
      "Results for emergencythingwaysorted, Sample Size: 10000\n",
      "Grid Search Time: 0.00s, Training Time: 0.04s\n",
      "Decision Tree Parameters: {'max_depth': 7, 'min_samples_leaf': 0.04}\n",
      "Performance: R² = 0.6323, MAE = 35234.69, MAPE = 1857.44%\n",
      "q-score: 17.23\n",
      "Prediction time: 0.0421 μs/sample\n",
      "I/O: Reads=0.000000, Writes=0.000000\n",
      "--------------------------------------------------------------------------------\n",
      "\n",
      "Training with sample size: 5000\n",
      "Memory usage: 664.57 MB\n",
      "Using best parameters from max scale: {'max_depth': 7, 'min_samples_leaf': 0.04}\n",
      "Training decision tree model...\n",
      "Making predictions...\n",
      "Calculating performance metrics...\n",
      "Measuring prediction performance...\n",
      "Saving model...\n",
      "Model size: 1.83 KB\n",
      "\n",
      "Results for emergencythingwaysorted, Sample Size: 5000\n",
      "Grid Search Time: 0.00s, Training Time: 0.02s\n",
      "Decision Tree Parameters: {'max_depth': 7, 'min_samples_leaf': 0.04}\n",
      "Performance: R² = 0.6110, MAE = 35297.60, MAPE = 1799.39%\n",
      "q-score: 16.84\n",
      "Prediction time: 0.0444 μs/sample\n",
      "I/O: Reads=0.000000, Writes=0.000000\n",
      "--------------------------------------------------------------------------------\n"
     ]
    },
    {
     "name": "stdout",
     "output_type": "stream",
     "text": [
      "\n",
      "Training with sample size: 1000\n",
      "Memory usage: 664.57 MB\n",
      "Using best parameters from max scale: {'max_depth': 7, 'min_samples_leaf': 0.04}\n",
      "Training decision tree model...\n",
      "Making predictions...\n",
      "Calculating performance metrics...\n",
      "Measuring prediction performance...\n",
      "Saving model...\n",
      "Model size: 1.85 KB\n",
      "\n",
      "Results for emergencythingwaysorted, Sample Size: 1000\n",
      "Grid Search Time: 0.00s, Training Time: 0.00s\n",
      "Decision Tree Parameters: {'max_depth': 7, 'min_samples_leaf': 0.04}\n",
      "Performance: R² = 0.5576, MAE = 37343.75, MAPE = 1510.83%\n",
      "q-score: 15.23\n",
      "Prediction time: 0.0426 μs/sample\n",
      "I/O: Reads=0.000000, Writes=0.000000\n",
      "--------------------------------------------------------------------------------\n",
      "Saving results for emergencythingwaysorted...\n"
     ]
    },
    {
     "name": "stdout",
     "output_type": "stream",
     "text": [
      "Memory usage: 664.57 MB\n",
      "\n",
      "Processing dataset: historicthingwaysorted\n",
      "Universe boundaries for historicthingwaysorted: (-179.99526020000002, -85.0036942, 179.99597930000002, 78.06750650000001)\n",
      "Loading data from ../large_files/resultsDistance/historicthingwaysorted_results.csv\n"
     ]
    },
    {
     "name": "stdout",
     "output_type": "stream",
     "text": [
      "Parsing object coordinates...\n"
     ]
    },
    {
     "name": "stdout",
     "output_type": "stream",
     "text": [
      "\n",
      "Basic statistics for historicthingwaysorted dataset:\n",
      "Max count: 1790224.0\n",
      "Min count: 0.0\n",
      "Mean count: 261684.06\n",
      "Median count: 134375.00\n",
      "Total samples: 358439\n",
      "\n",
      "Calculating object features...\n",
      "Splitting data into train and test sets...\n",
      "Training set size: 286751\n",
      "\n",
      "Training with sample size: 286751\n",
      "Memory usage: 668.46 MB\n",
      "Performing grid search for optimal parameters...\n",
      "Fitting 5 folds for each of 49 candidates, totalling 245 fits\n"
     ]
    },
    {
     "name": "stdout",
     "output_type": "stream",
     "text": [
      "Grid search complete in 1.97s\n",
      "Best parameters: {'max_depth': 6, 'min_samples_leaf': 0.04}\n",
      "Training decision tree model...\n"
     ]
    },
    {
     "name": "stdout",
     "output_type": "stream",
     "text": [
      "Making predictions...\n",
      "Calculating performance metrics...\n",
      "Measuring prediction performance...\n",
      "Saving model...\n",
      "Model size: 2.02 KB\n",
      "\n",
      "Results for historicthingwaysorted, Sample Size: 286751\n",
      "Grid Search Time: 1.97s, Training Time: 1.43s\n",
      "Decision Tree Parameters: {'max_depth': 6, 'min_samples_leaf': 0.04}\n",
      "Performance: R² = 0.6420, MAE = 108296.91, MAPE = 2403.49%\n",
      "q-score: 24.64\n",
      "Prediction time: 0.0440 μs/sample\n",
      "I/O: Reads=0.000000, Writes=0.000000\n",
      "--------------------------------------------------------------------------------\n",
      "Generating prediction scatter plot...\n"
     ]
    },
    {
     "name": "stdout",
     "output_type": "stream",
     "text": [
      "Generating feature importance plot...\n",
      "Generating side-by-side comparison plot...\n"
     ]
    },
    {
     "name": "stdout",
     "output_type": "stream",
     "text": [
      "\n",
      "Training with sample size: 100000\n",
      "Memory usage: 683.19 MB\n",
      "Using best parameters from max scale: {'max_depth': 6, 'min_samples_leaf': 0.04}\n",
      "Training decision tree model...\n"
     ]
    },
    {
     "name": "stdout",
     "output_type": "stream",
     "text": [
      "Making predictions...\n",
      "Calculating performance metrics...\n",
      "Measuring prediction performance...\n",
      "Saving model...\n",
      "Model size: 1.99 KB\n",
      "\n",
      "Results for historicthingwaysorted, Sample Size: 100000\n",
      "Grid Search Time: 0.00s, Training Time: 0.45s\n",
      "Decision Tree Parameters: {'max_depth': 6, 'min_samples_leaf': 0.04}\n",
      "Performance: R² = 0.6418, MAE = 108298.08, MAPE = 2392.84%\n",
      "q-score: 24.53\n",
      "Prediction time: 0.0425 μs/sample\n",
      "I/O: Reads=0.000000, Writes=0.000000\n",
      "--------------------------------------------------------------------------------\n",
      "\n",
      "Training with sample size: 50000\n",
      "Memory usage: 683.19 MB\n",
      "Using best parameters from max scale: {'max_depth': 6, 'min_samples_leaf': 0.04}\n",
      "Training decision tree model...\n"
     ]
    },
    {
     "name": "stdout",
     "output_type": "stream",
     "text": [
      "Making predictions...\n",
      "Calculating performance metrics...\n",
      "Measuring prediction performance...\n",
      "Saving model...\n",
      "Model size: 1.94 KB\n",
      "\n",
      "Results for historicthingwaysorted, Sample Size: 50000\n",
      "Grid Search Time: 0.00s, Training Time: 0.22s\n",
      "Decision Tree Parameters: {'max_depth': 6, 'min_samples_leaf': 0.04}\n",
      "Performance: R² = 0.6452, MAE = 107278.19, MAPE = 2322.52%\n",
      "q-score: 23.88\n",
      "Prediction time: 0.0434 μs/sample\n",
      "I/O: Reads=0.000000, Writes=0.000003\n",
      "--------------------------------------------------------------------------------\n",
      "\n",
      "Training with sample size: 10000\n",
      "Memory usage: 683.19 MB\n",
      "Using best parameters from max scale: {'max_depth': 6, 'min_samples_leaf': 0.04}\n",
      "Training decision tree model...\n"
     ]
    },
    {
     "name": "stdout",
     "output_type": "stream",
     "text": [
      "Making predictions...\n",
      "Calculating performance metrics...\n",
      "Measuring prediction performance...\n",
      "Saving model...\n",
      "Model size: 1.86 KB\n",
      "\n",
      "Results for historicthingwaysorted, Sample Size: 10000\n",
      "Grid Search Time: 0.00s, Training Time: 0.04s\n",
      "Decision Tree Parameters: {'max_depth': 6, 'min_samples_leaf': 0.04}\n",
      "Performance: R² = 0.6369, MAE = 109516.73, MAPE = 2405.62%\n",
      "q-score: 24.64\n",
      "Prediction time: 0.0431 μs/sample\n",
      "I/O: Reads=0.000000, Writes=0.000000\n",
      "--------------------------------------------------------------------------------\n",
      "\n",
      "Training with sample size: 5000\n",
      "Memory usage: 683.19 MB\n",
      "Using best parameters from max scale: {'max_depth': 6, 'min_samples_leaf': 0.04}\n",
      "Training decision tree model...\n"
     ]
    },
    {
     "name": "stdout",
     "output_type": "stream",
     "text": [
      "Making predictions...\n",
      "Calculating performance metrics...\n",
      "Measuring prediction performance...\n",
      "Saving model...\n",
      "Model size: 1.82 KB\n",
      "\n",
      "Results for historicthingwaysorted, Sample Size: 5000\n",
      "Grid Search Time: 0.00s, Training Time: 0.02s\n",
      "Decision Tree Parameters: {'max_depth': 6, 'min_samples_leaf': 0.04}\n",
      "Performance: R² = 0.6621, MAE = 106538.97, MAPE = 2084.95%\n",
      "q-score: 21.50\n",
      "Prediction time: 0.0423 μs/sample\n",
      "I/O: Reads=0.000000, Writes=0.000000\n",
      "--------------------------------------------------------------------------------\n",
      "\n",
      "Training with sample size: 1000\n",
      "Memory usage: 683.19 MB\n",
      "Using best parameters from max scale: {'max_depth': 6, 'min_samples_leaf': 0.04}\n",
      "Training decision tree model...\n",
      "Making predictions...\n",
      "Calculating performance metrics...\n"
     ]
    },
    {
     "name": "stdout",
     "output_type": "stream",
     "text": [
      "Measuring prediction performance...\n",
      "Saving model...\n",
      "Model size: 1.86 KB\n",
      "\n",
      "Results for historicthingwaysorted, Sample Size: 1000\n",
      "Grid Search Time: 0.00s, Training Time: 0.00s\n",
      "Decision Tree Parameters: {'max_depth': 6, 'min_samples_leaf': 0.04}\n",
      "Performance: R² = 0.6325, MAE = 110559.48, MAPE = 2201.69%\n",
      "q-score: 22.72\n",
      "Prediction time: 0.0431 μs/sample\n",
      "I/O: Reads=0.000000, Writes=0.000000\n",
      "--------------------------------------------------------------------------------\n",
      "Saving results for historicthingwaysorted...\n"
     ]
    },
    {
     "name": "stdout",
     "output_type": "stream",
     "text": [
      "Memory usage: 683.19 MB\n",
      "\n",
      "Processing dataset: aerowaythingwaysorted\n",
      "Universe boundaries for aerowaythingwaysorted: (-179.88131460000002, -79.7773063, 179.426138, 85.05258450000001)\n",
      "Loading data from ../large_files/resultsDistance/aerowaythingwaysorted_results.csv\n"
     ]
    },
    {
     "name": "stdout",
     "output_type": "stream",
     "text": [
      "Parsing object coordinates...\n"
     ]
    },
    {
     "name": "stdout",
     "output_type": "stream",
     "text": [
      "\n",
      "Basic statistics for aerowaythingwaysorted dataset:\n",
      "Max count: 1829409.0\n",
      "Min count: 0.0\n",
      "Mean count: 107433.16\n",
      "Median count: 54304.00\n",
      "Total samples: 368365\n",
      "\n",
      "Calculating object features...\n",
      "Splitting data into train and test sets...\n",
      "Training set size: 294692\n",
      "\n",
      "Training with sample size: 294692\n",
      "Memory usage: 717.12 MB\n",
      "Performing grid search for optimal parameters...\n",
      "Fitting 5 folds for each of 49 candidates, totalling 245 fits\n"
     ]
    },
    {
     "name": "stdout",
     "output_type": "stream",
     "text": [
      "Grid search complete in 2.23s\n",
      "Best parameters: {'max_depth': 6, 'min_samples_leaf': 0.04}\n",
      "Training decision tree model...\n"
     ]
    },
    {
     "name": "stdout",
     "output_type": "stream",
     "text": [
      "Making predictions...\n",
      "Calculating performance metrics...\n",
      "Measuring prediction performance...\n",
      "Saving model...\n",
      "Model size: 1.90 KB\n",
      "\n",
      "Results for aerowaythingwaysorted, Sample Size: 294692\n",
      "Grid Search Time: 2.23s, Training Time: 1.65s\n",
      "Decision Tree Parameters: {'max_depth': 6, 'min_samples_leaf': 0.04}\n",
      "Performance: R² = 0.5900, MAE = 49767.90, MAPE = 1432.79%\n",
      "q-score: 15.14\n",
      "Prediction time: 0.0437 μs/sample\n",
      "I/O: Reads=0.000000, Writes=0.000000\n",
      "--------------------------------------------------------------------------------\n",
      "Generating prediction scatter plot...\n"
     ]
    },
    {
     "name": "stdout",
     "output_type": "stream",
     "text": [
      "Generating feature importance plot...\n",
      "Generating side-by-side comparison plot...\n"
     ]
    },
    {
     "name": "stdout",
     "output_type": "stream",
     "text": [
      "\n",
      "Training with sample size: 100000\n",
      "Memory usage: 716.12 MB\n",
      "Using best parameters from max scale: {'max_depth': 6, 'min_samples_leaf': 0.04}\n",
      "Training decision tree model...\n"
     ]
    },
    {
     "name": "stdout",
     "output_type": "stream",
     "text": [
      "Making predictions...\n",
      "Calculating performance metrics...\n",
      "Measuring prediction performance...\n",
      "Saving model...\n",
      "Model size: 1.77 KB\n",
      "\n",
      "Results for aerowaythingwaysorted, Sample Size: 100000\n",
      "Grid Search Time: 0.00s, Training Time: 0.48s\n",
      "Decision Tree Parameters: {'max_depth': 6, 'min_samples_leaf': 0.04}\n",
      "Performance: R² = 0.5852, MAE = 49728.76, MAPE = 1497.09%\n",
      "q-score: 15.78\n",
      "Prediction time: 0.0414 μs/sample\n",
      "I/O: Reads=0.000000, Writes=0.000000\n",
      "--------------------------------------------------------------------------------\n",
      "\n",
      "Training with sample size: 50000\n"
     ]
    },
    {
     "name": "stdout",
     "output_type": "stream",
     "text": [
      "Memory usage: 716.12 MB\n",
      "Using best parameters from max scale: {'max_depth': 6, 'min_samples_leaf': 0.04}\n",
      "Training decision tree model...\n"
     ]
    },
    {
     "name": "stdout",
     "output_type": "stream",
     "text": [
      "Making predictions...\n",
      "Calculating performance metrics...\n",
      "Measuring prediction performance...\n",
      "Saving model...\n",
      "Model size: 1.88 KB\n",
      "\n",
      "Results for aerowaythingwaysorted, Sample Size: 50000\n",
      "Grid Search Time: 0.00s, Training Time: 0.24s\n",
      "Decision Tree Parameters: {'max_depth': 6, 'min_samples_leaf': 0.04}\n",
      "Performance: R² = 0.5921, MAE = 49334.94, MAPE = 1493.55%\n",
      "q-score: 15.77\n",
      "Prediction time: 0.0433 μs/sample\n",
      "I/O: Reads=0.000000, Writes=0.000000\n",
      "--------------------------------------------------------------------------------\n",
      "\n",
      "Training with sample size: 10000\n",
      "Memory usage: 716.12 MB\n",
      "Using best parameters from max scale: {'max_depth': 6, 'min_samples_leaf': 0.04}\n",
      "Training decision tree model...\n"
     ]
    },
    {
     "name": "stdout",
     "output_type": "stream",
     "text": [
      "Making predictions...\n",
      "Calculating performance metrics...\n",
      "Measuring prediction performance...\n",
      "Saving model...\n",
      "Model size: 1.74 KB\n",
      "\n",
      "Results for aerowaythingwaysorted, Sample Size: 10000\n",
      "Grid Search Time: 0.00s, Training Time: 0.04s\n",
      "Decision Tree Parameters: {'max_depth': 6, 'min_samples_leaf': 0.04}\n",
      "Performance: R² = 0.5799, MAE = 50415.13, MAPE = 1315.97%\n",
      "q-score: 13.96\n",
      "Prediction time: 0.0405 μs/sample\n",
      "I/O: Reads=0.000000, Writes=0.000000\n",
      "--------------------------------------------------------------------------------\n",
      "\n",
      "Training with sample size: 5000\n",
      "Memory usage: 716.12 MB\n",
      "Using best parameters from max scale: {'max_depth': 6, 'min_samples_leaf': 0.04}\n",
      "Training decision tree model...\n"
     ]
    },
    {
     "name": "stdout",
     "output_type": "stream",
     "text": [
      "Making predictions...\n",
      "Calculating performance metrics...\n",
      "Measuring prediction performance...\n",
      "Saving model...\n",
      "Model size: 1.79 KB\n",
      "\n",
      "Results for aerowaythingwaysorted, Sample Size: 5000\n",
      "Grid Search Time: 0.00s, Training Time: 0.02s\n",
      "Decision Tree Parameters: {'max_depth': 6, 'min_samples_leaf': 0.04}\n",
      "Performance: R² = 0.5908, MAE = 49415.92, MAPE = 1276.42%\n",
      "q-score: 13.60\n",
      "Prediction time: 0.0419 μs/sample\n",
      "I/O: Reads=0.000000, Writes=0.000000\n",
      "--------------------------------------------------------------------------------\n",
      "\n",
      "Training with sample size: 1000\n",
      "Memory usage: 716.12 MB\n",
      "Using best parameters from max scale: {'max_depth': 6, 'min_samples_leaf': 0.04}\n",
      "Training decision tree model...\n",
      "Making predictions...\n"
     ]
    },
    {
     "name": "stdout",
     "output_type": "stream",
     "text": [
      "Calculating performance metrics...\n",
      "Measuring prediction performance...\n",
      "Saving model...\n",
      "Model size: 1.80 KB\n",
      "\n",
      "Results for aerowaythingwaysorted, Sample Size: 1000\n",
      "Grid Search Time: 0.00s, Training Time: 0.00s\n",
      "Decision Tree Parameters: {'max_depth': 6, 'min_samples_leaf': 0.04}\n",
      "Performance: R² = 0.5274, MAE = 54398.23, MAPE = 1510.38%\n",
      "q-score: 15.99\n",
      "Prediction time: 0.0425 μs/sample\n",
      "I/O: Reads=0.000000, Writes=0.000000\n",
      "--------------------------------------------------------------------------------\n",
      "Saving results for aerowaythingwaysorted...\n"
     ]
    },
    {
     "name": "stdout",
     "output_type": "stream",
     "text": [
      "Memory usage: 716.12 MB\n",
      "\n",
      "Processing dataset: arealm\n",
      "Universe boundaries for arealm: (-179.147236, -14.548699, 179.77847, 71.359879)\n",
      "Loading data from ../large_files/resultsDistance/arealm_results.csv\n"
     ]
    },
    {
     "name": "stdout",
     "output_type": "stream",
     "text": [
      "Parsing object coordinates...\n",
      "\n",
      "Basic statistics for arealm dataset:\n",
      "Max count: 128233.0\n",
      "Min count: 0.0\n",
      "Mean count: 23800.58\n",
      "Median count: 15460.00\n",
      "Total samples: 25833\n",
      "\n",
      "Calculating object features...\n",
      "Splitting data into train and test sets...\n",
      "Training set size: 20666\n",
      "\n",
      "Training with sample size: 20666\n",
      "Memory usage: 685.36 MB\n",
      "Performing grid search for optimal parameters...\n",
      "Fitting 5 folds for each of 49 candidates, totalling 245 fits\n"
     ]
    },
    {
     "name": "stdout",
     "output_type": "stream",
     "text": [
      "Grid search complete in 0.38s\n",
      "Best parameters: {'max_depth': 6, 'min_samples_leaf': 0.04}\n",
      "Training decision tree model...\n",
      "Making predictions...\n",
      "Calculating performance metrics...\n",
      "Measuring prediction performance...\n",
      "Saving model...\n",
      "Model size: 1.86 KB\n",
      "\n",
      "Results for arealm, Sample Size: 20666\n",
      "Grid Search Time: 0.38s, Training Time: 0.12s\n",
      "Decision Tree Parameters: {'max_depth': 6, 'min_samples_leaf': 0.04}\n",
      "Performance: R² = 0.7702, MAE = 7269.94, MAPE = 1833.77%\n",
      "q-score: 18.57\n",
      "Prediction time: 0.0785 μs/sample\n",
      "I/O: Reads=0.000000, Writes=0.000000\n",
      "--------------------------------------------------------------------------------\n",
      "Generating prediction scatter plot...\n"
     ]
    },
    {
     "name": "stdout",
     "output_type": "stream",
     "text": [
      "Generating feature importance plot...\n",
      "Generating side-by-side comparison plot...\n"
     ]
    },
    {
     "name": "stdout",
     "output_type": "stream",
     "text": [
      "\n",
      "Training with sample size: 10000\n",
      "Memory usage: 685.36 MB\n",
      "Using best parameters from max scale: {'max_depth': 6, 'min_samples_leaf': 0.04}\n",
      "Training decision tree model...\n",
      "Making predictions...\n",
      "Calculating performance metrics...\n",
      "Measuring prediction performance...\n",
      "Saving model...\n",
      "Model size: 1.91 KB\n",
      "\n",
      "Results for arealm, Sample Size: 10000\n",
      "Grid Search Time: 0.00s, Training Time: 0.05s\n",
      "Decision Tree Parameters: {'max_depth': 6, 'min_samples_leaf': 0.04}\n",
      "Performance: R² = 0.7164, MAE = 8127.31, MAPE = 1850.04%\n",
      "q-score: 18.75\n",
      "Prediction time: 0.0653 μs/sample\n",
      "I/O: Reads=0.000000, Writes=0.000000\n",
      "--------------------------------------------------------------------------------\n"
     ]
    },
    {
     "name": "stdout",
     "output_type": "stream",
     "text": [
      "\n",
      "Training with sample size: 5000\n",
      "Memory usage: 685.36 MB\n",
      "Using best parameters from max scale: {'max_depth': 6, 'min_samples_leaf': 0.04}\n",
      "Training decision tree model...\n",
      "Making predictions...\n",
      "Calculating performance metrics...\n",
      "Measuring prediction performance...\n",
      "Saving model...\n",
      "Model size: 1.95 KB\n",
      "\n",
      "Results for arealm, Sample Size: 5000\n",
      "Grid Search Time: 0.00s, Training Time: 0.02s\n",
      "Decision Tree Parameters: {'max_depth': 6, 'min_samples_leaf': 0.04}\n",
      "Performance: R² = 0.7718, MAE = 7187.01, MAPE = 1818.36%\n",
      "q-score: 18.46\n",
      "Prediction time: 0.0678 μs/sample\n",
      "I/O: Reads=0.000000, Writes=0.000000\n",
      "--------------------------------------------------------------------------------\n",
      "\n",
      "Training with sample size: 1000\n",
      "Memory usage: 685.36 MB\n",
      "Using best parameters from max scale: {'max_depth': 6, 'min_samples_leaf': 0.04}\n",
      "Training decision tree model...\n",
      "Making predictions...\n",
      "Calculating performance metrics...\n",
      "Measuring prediction performance...\n",
      "Saving model...\n",
      "Model size: 1.73 KB\n",
      "\n",
      "Results for arealm, Sample Size: 1000\n",
      "Grid Search Time: 0.00s, Training Time: 0.00s\n",
      "Decision Tree Parameters: {'max_depth': 6, 'min_samples_leaf': 0.04}\n",
      "Performance: R² = 0.6348, MAE = 9007.27, MAPE = 1949.05%\n",
      "q-score: 19.74\n",
      "Prediction time: 0.0667 μs/sample\n",
      "I/O: Reads=0.000000, Writes=0.000000\n",
      "--------------------------------------------------------------------------------\n"
     ]
    },
    {
     "name": "stdout",
     "output_type": "stream",
     "text": [
      "Saving results for arealm...\n",
      "Saving combined results...\n",
      "All processing completed and results saved.\n",
      "Memory usage: 685.36 MB\n"
     ]
    }
   ],
   "source": [
    "import numpy as np\n",
    "import pandas as pd\n",
    "import matplotlib.pyplot as plt\n",
    "import matplotlib.patches as patches\n",
    "from time import process_time\n",
    "from sklearn.model_selection import train_test_split\n",
    "from sklearn.metrics import mean_absolute_error as MAE\n",
    "from sklearn.model_selection import GridSearchCV\n",
    "from sklearn.tree import DecisionTreeRegressor\n",
    "import psutil\n",
    "import os\n",
    "import re\n",
    "import multiprocessing\n",
    "import joblib\n",
    "import gc\n",
    "from tqdm.notebook import tqdm  # Progress bars for Jupyter\n",
    "\n",
    "# Configuration options\n",
    "VISUALIZE_OBJECTS = False  # Set to True if you want to visualize objects\n",
    "SAVE_INTERMEDIATE_MODELS = True  # Set to False to save only final models\n",
    "\n",
    "# Flag to control whether to use multiple scales or only the maximum scale\n",
    "use_multiple_scales = True  # Set to False to use only maximum scale, True for all scales\n",
    "\n",
    "# Get available CPU cores and set appropriate parallelism\n",
    "n_cores = multiprocessing.cpu_count()\n",
    "n_jobs = max(1, n_cores - 1)  # Leave one core free for system processes\n",
    "print(f\"Using {n_jobs} of {n_cores} available CPU cores\")\n",
    "\n",
    "def monitor_memory():\n",
    "    \"\"\"Print current memory usage of the process\"\"\"\n",
    "    process = psutil.Process()\n",
    "    memory_mb = process.memory_info().rss / (1024 * 1024)\n",
    "    print(f\"Memory usage: {memory_mb:.2f} MB\")\n",
    "\n",
    "def MAPE(actual_values, predicted_values):\n",
    "    \"\"\"Calculate Mean Absolute Percentage Error with special handling for zeros\"\"\"\n",
    "    # Vectorized implementation\n",
    "    actual_flat = actual_values.flatten()\n",
    "    pred_flat = predicted_values.flatten()\n",
    "    \n",
    "    # Create mask for non-zero actual values\n",
    "    non_zero_mask = actual_flat != 0\n",
    "    zero_mask = ~non_zero_mask\n",
    "    \n",
    "    # Calculate MAPE for non-zero elements\n",
    "    mape_sum = 0\n",
    "    count = len(actual_flat)\n",
    "    \n",
    "    if np.any(non_zero_mask):\n",
    "        mape_sum += np.sum(np.abs((actual_flat[non_zero_mask] - pred_flat[non_zero_mask]) / actual_flat[non_zero_mask]))\n",
    "    \n",
    "    if np.any(zero_mask):\n",
    "        mape_sum += np.sum(np.abs(actual_flat[zero_mask] - pred_flat[zero_mask]) / 100)\n",
    "    \n",
    "    return mape_sum / count\n",
    "\n",
    "# Load spatial statistics to get universe boundaries for each dataset\n",
    "print(\"Loading spatial statistics...\")\n",
    "spatial_stats = pd.read_csv('../spatial_statistics.csv')\n",
    "\n",
    "# Directory containing the datasets\n",
    "data_dir = '../large_files/resultsDistance/'\n",
    "\n",
    "# Parse bounding box information\n",
    "def parse_bbox(bbox_str):\n",
    "    # Extract coordinates from BOX string using regex\n",
    "    pattern = r\"BOX\\(([-\\d\\.]+) ([-\\d\\.]+),([-\\d\\.]+) ([-\\d\\.]+)\\)\"\n",
    "    match = re.search(pattern, bbox_str)\n",
    "    if match:\n",
    "        xmin = float(match.group(1))\n",
    "        ymin = float(match.group(2))\n",
    "        xmax = float(match.group(3))\n",
    "        ymax = float(match.group(4))\n",
    "        return xmin, ymin, xmax, ymax\n",
    "    return -180, -90, 180, 90  # Default if parsing fails\n",
    "\n",
    "# Parse object MBR from format like \"(x1, y1, x2, y2)\"\n",
    "def parse_mbr(mbr_str):\n",
    "    coords = mbr_str.strip('\"()').split(', ')\n",
    "    return [float(coord) for coord in coords]\n",
    "\n",
    "# Extract universe boundaries for each dataset\n",
    "universe_boundaries = {}\n",
    "for _, row in spatial_stats.iterrows():\n",
    "    table_name = row['Table Name']\n",
    "    bbox = parse_bbox(row['Universe Limits (Bounding Box)'])\n",
    "    universe_boundaries[table_name] = bbox\n",
    "\n",
    "# Get list of all CSV files in the directory\n",
    "print(\"Finding dataset files...\")\n",
    "csv_files = [f for f in os.listdir(data_dir) if f.endswith('.csv')]\n",
    "print(f\"Found {len(csv_files)} datasets to process\")\n",
    "\n",
    "# Define the scales of learning\n",
    "scales = [1000, 5000, 10000, 50000, 100000, 500000, 1000000]\n",
    "\n",
    "# Create necessary directories\n",
    "os.makedirs('../large_files/LearnedModels/distance/DT', exist_ok=True)\n",
    "os.makedirs('../large_files/LearnedModels/distance/DT/visualizations', exist_ok=True)\n",
    "os.makedirs('../large_files/LearnedModels/distance/DT/results', exist_ok=True)\n",
    "\n",
    "# Lists to store all results\n",
    "all_results_list = []\n",
    "\n",
    "# Process each dataset\n",
    "for csv_file in tqdm(csv_files, desc=\"Processing datasets\"):\n",
    "    # Force garbage collection at the start of each dataset\n",
    "    gc.collect()\n",
    "    monitor_memory()\n",
    "    \n",
    "    # Extract dataset name (remove \"_results.csv\")\n",
    "    dataset_name = csv_file.replace('_results.csv', '')\n",
    "    \n",
    "    print(f\"\\nProcessing dataset: {dataset_name}\")\n",
    "    \n",
    "    # Get universe boundaries for this dataset\n",
    "    if dataset_name in universe_boundaries:\n",
    "        univ_xmin, univ_ymin, univ_xmax, univ_ymax = universe_boundaries[dataset_name]\n",
    "    else:\n",
    "        # Default values if dataset not found in spatial stats\n",
    "        univ_xmin, univ_ymin, univ_xmax, univ_ymax = -180, -90, 180, 90\n",
    "    \n",
    "    Surface_univ = (univ_xmax - univ_xmin) * (univ_ymax - univ_ymin)\n",
    "    print(f\"Universe boundaries for {dataset_name}: ({univ_xmin}, {univ_ymin}, {univ_xmax}, {univ_ymax})\")\n",
    "    \n",
    "    # Load dataset - loading required columns for distance dataset\n",
    "    data_path = os.path.join(data_dir, csv_file)\n",
    "    print(f\"Loading data from {data_path}\")\n",
    "    data = pd.read_csv(data_path, usecols=['Object MBR', 'Distance Min', 'Distance Max', 'Count MBR'])\n",
    "    \n",
    "    # Extract object information - ONLY using MBR data\n",
    "    print(\"Parsing object coordinates...\")\n",
    "    Objects_MBR = np.array([parse_mbr(mbr) for mbr in data['Object MBR']])\n",
    "    \n",
    "    # Extract distance information\n",
    "    Distance_Min = data['Distance Min'].values.reshape(-1, 1)\n",
    "    Distance_Max = data['Distance Max'].values.reshape(-1, 1)\n",
    "    \n",
    "    # Target variable: Count MBR\n",
    "    Y = data[['Count MBR']].values\n",
    "    \n",
    "    # Free up memory\n",
    "    del data\n",
    "    gc.collect()\n",
    "    \n",
    "    # Calculate basic statistics\n",
    "    max_count = float(np.max(Y))\n",
    "    min_count = float(np.min(Y))\n",
    "    mean_count = float(np.mean(Y))\n",
    "    median_count = float(np.median(Y))\n",
    "    total_samples = len(Y)\n",
    "\n",
    "    # Display basic statistics for the dataset\n",
    "    print(f\"\\nBasic statistics for {dataset_name} dataset:\")\n",
    "    print(f\"Max count: {max_count}\")\n",
    "    print(f\"Min count: {min_count}\")\n",
    "    print(f\"Mean count: {mean_count:.2f}\")\n",
    "    print(f\"Median count: {median_count:.2f}\")\n",
    "    print(f\"Total samples: {total_samples}\\n\")\n",
    "\n",
    "    # Prepare features using Object MBR instead of True Shape\n",
    "    print(\"Calculating object features...\")\n",
    "\n",
    "    # Extract MBR coordinates\n",
    "    x1 = Objects_MBR[:, 0].reshape(-1, 1)  # Left\n",
    "    y1 = Objects_MBR[:, 1].reshape(-1, 1)  # Bottom\n",
    "    x2 = Objects_MBR[:, 2].reshape(-1, 1)  # Right\n",
    "    y2 = Objects_MBR[:, 3].reshape(-1, 1)  # Top\n",
    "\n",
    "    # Calculate MBR center points\n",
    "    obj_x = (x1 + x2) / 2  # Center X\n",
    "    obj_y = (y1 + y2) / 2  # Center Y\n",
    "\n",
    "    # Calculate MBR dimensions\n",
    "    mbr_width = (x2 - x1)\n",
    "    mbr_height = (y2 - y1)\n",
    "    mbr_area = mbr_width * mbr_height\n",
    "\n",
    "    # Normalized coordinates of MBR center (0-1 range within universe)\n",
    "    norm_x = (obj_x - univ_xmin) / (univ_xmax - univ_xmin) if (univ_xmax - univ_xmin) != 0 else 0.5\n",
    "    norm_y = (obj_y - univ_ymin) / (univ_ymax - univ_ymin) if (univ_ymax - univ_ymin) != 0 else 0.5\n",
    "\n",
    "    # Distance range\n",
    "    distance_range = Distance_Max - Distance_Min\n",
    "\n",
    "    # Distance ratio (max/min)\n",
    "    # Avoid division by zero\n",
    "    min_non_zero = np.where(Distance_Min == 0, 0.0001, Distance_Min)\n",
    "    distance_ratio = Distance_Max / min_non_zero\n",
    "    \n",
    "    # Combine all features\n",
    "    X = np.hstack((\n",
    "        obj_x,           # X coordinate of MBR center\n",
    "        obj_y,           # Y coordinate of MBR center\n",
    "        mbr_width,       # Width of MBR\n",
    "        mbr_height,      # Height of MBR\n",
    "        mbr_area,        # Area of MBR\n",
    "        norm_x,          # Normalized X position (0-1)\n",
    "        norm_y,          # Normalized Y position (0-1)\n",
    "        Distance_Min,    # Minimum distance\n",
    "        Distance_Max,    # Maximum distance\n",
    "        distance_range,  # Range of distance\n",
    "        distance_ratio.reshape(-1, 1)  # Ratio of max/min distance\n",
    "    ))\n",
    "    \n",
    "    # Split the data into 80% train and 20% test\n",
    "    print(\"Splitting data into train and test sets...\")\n",
    "    X_train, X_test_all, y_train, y_test_all = train_test_split(X, Y, test_size=0.2, random_state=3)\n",
    "    \n",
    "    # Visualize the first 100 objects using MBRs\n",
    "    if VISUALIZE_OBJECTS:\n",
    "        print(\"Visualizing objects sample...\")\n",
    "        plt.figure(figsize=(10, 8))\n",
    "        \n",
    "        # Only visualize a sample to save time\n",
    "        sample_size = min(100, len(Objects_MBR))\n",
    "        \n",
    "        # Plot universe boundaries\n",
    "        plt.plot([univ_xmin, univ_xmax, univ_xmax, univ_xmin, univ_xmin], \n",
    "                 [univ_ymin, univ_ymin, univ_ymax, univ_ymax, univ_ymin], \n",
    "                 'k-', linewidth=1, alpha=0.5)\n",
    "        \n",
    "        # Plot MBRs\n",
    "        for i in range(sample_size):\n",
    "            x1, y1, x2, y2 = Objects_MBR[i]\n",
    "            rect = patches.Rectangle((x1, y1), x2-x1, y2-y1, \n",
    "                                    linewidth=1, edgecolor='b', facecolor='none', \n",
    "                                    alpha=min(1.0, 0.3 + float(Distance_Min[i])/20))\n",
    "            plt.gca().add_patch(rect)\n",
    "            \n",
    "        plt.colorbar(plt.cm.ScalarMappable(cmap='viridis'), label='Minimum Distance')\n",
    "        plt.xlim(univ_xmin-20, univ_xmax+20)\n",
    "        plt.ylim(univ_ymin-10, univ_ymax+10)\n",
    "        plt.title(f\"Sample MBRs from {dataset_name}\")\n",
    "        plt.savefig(f\"../large_files/LearnedModels/distance/DT/visualizations/{dataset_name}_objects_mbr.png\", dpi=150)\n",
    "        plt.close()\n",
    "    \n",
    "    # Adjust scales to the dataset size\n",
    "    max_size = len(X_train)\n",
    "    print(f\"Training set size: {max_size}\")\n",
    "\n",
    "    if use_multiple_scales:\n",
    "        # Use multiple scales as before\n",
    "        adjusted_scales = [s for s in scales if s <= max_size]\n",
    "        \n",
    "        # Add intermediate 1 million increments for large datasets\n",
    "        if max_size > 1000000:\n",
    "            million_increments = list(range(2000000, max_size, 1000000))\n",
    "            adjusted_scales.extend(million_increments)\n",
    "            \n",
    "        # Add the actual max size if it's not already in the list\n",
    "        if max_size not in adjusted_scales:\n",
    "            adjusted_scales.append(max_size)\n",
    "            \n",
    "        # Sort the scales to ensure they're in ascending order\n",
    "        adjusted_scales.sort()\n",
    "    else:\n",
    "        # Use only the maximum scale\n",
    "        adjusted_scales = [max_size]\n",
    "\n",
    "    # List to store dataset-specific results\n",
    "    dataset_results_list = []\n",
    "\n",
    "    # Store best parameters from max scale training to reuse\n",
    "    best_params = None\n",
    "    \n",
    "    # Process scales in reversed order (largest first)\n",
    "    for sample_size in reversed(adjusted_scales):\n",
    "        print(f\"\\nTraining with sample size: {sample_size}\")\n",
    "        monitor_memory()\n",
    "        \n",
    "        # Create training subset\n",
    "        X_train_sample = X_train[:sample_size, :]\n",
    "        y_train_sample = y_train[:sample_size]\n",
    "        \n",
    "        # Decision Tree Regressor parameters - optimized for performance\n",
    "        params_dt = {\n",
    "            \"max_depth\": [3, 4, 5, 6, 7, 8, 10],\n",
    "            \"min_samples_leaf\": [0.04, 0.06, 0.08, 0.1, 0.13, 0.16, 0.2]\n",
    "        }\n",
    "        \n",
    "        # Only do GridSearch for the max scale\n",
    "        if sample_size == max_size or best_params is None:\n",
    "            print(\"Performing grid search for optimal parameters...\")\n",
    "            dt = DecisionTreeRegressor(random_state=3)\n",
    "            dt_cv = GridSearchCV(dt, params_dt, cv=5, n_jobs=n_jobs, verbose=1)\n",
    "            \n",
    "            # Time the grid search\n",
    "            t1_start = process_time()\n",
    "            dt_cv.fit(X_train_sample, y_train_sample)\n",
    "            t1_stop = process_time()\n",
    "            grid_search_time = t1_stop - t1_start\n",
    "            \n",
    "            # Store best parameters for reuse\n",
    "            best_params = dt_cv.best_params_\n",
    "            print(f\"Grid search complete in {grid_search_time:.2f}s\")\n",
    "            print(f\"Best parameters: {best_params}\")\n",
    "        else:\n",
    "            # Skip grid search for smaller scales, use params from max scale\n",
    "            dt_cv = None\n",
    "            grid_search_time = 0\n",
    "            print(f\"Using best parameters from max scale: {best_params}\")\n",
    "        \n",
    "        # Train the model with best parameters\n",
    "        print(\"Training decision tree model...\")\n",
    "        dt = DecisionTreeRegressor(**best_params, random_state=3)\n",
    "        t2_start = process_time()\n",
    "        dt.fit(X_train_sample, y_train_sample)\n",
    "        t2_stop = process_time()\n",
    "        training_time = t2_stop - t2_start\n",
    "        \n",
    "        # Make predictions\n",
    "        print(\"Making predictions...\")\n",
    "        y_pred = dt.predict(X_test_all)\n",
    "        # Ensure predictions are non-negative (counts can't be negative)\n",
    "        y_pred = np.maximum(0, y_pred)  # Convert any negative predictions to zero\n",
    "        \n",
    "        # Calculate metrics\n",
    "        r2_score = dt.score(X_test_all, y_test_all)\n",
    "        mae_value = MAE(y_test_all, y_pred)\n",
    "        mape_value = MAPE(y_test_all, y_pred)\n",
    "        \n",
    "        # Calculate q-score - vectorized version\n",
    "        print(\"Calculating performance metrics...\")\n",
    "        q_score_values = []\n",
    "        \n",
    "        # Vectorized q-score calculation\n",
    "        y_true_flat = y_test_all.flatten()\n",
    "        y_pred_flat = y_pred.flatten() if y_pred.ndim > 1 else y_pred\n",
    "        \n",
    "        # Find indices where both values are non-zero\n",
    "        valid_indices = (y_true_flat != 0) & (y_pred_flat != 0)\n",
    "        \n",
    "        if np.any(valid_indices):\n",
    "            ratios = np.maximum(\n",
    "                y_pred_flat[valid_indices] / y_true_flat[valid_indices],\n",
    "                y_true_flat[valid_indices] / y_pred_flat[valid_indices]\n",
    "            )\n",
    "            q_score_mean = np.mean(ratios)\n",
    "        else:\n",
    "            q_score_mean = 0\n",
    "        \n",
    "        # Time prediction performance (10 iterations)\n",
    "        print(\"Measuring prediction performance...\")\n",
    "        total_duration = 0\n",
    "        total_read = 0\n",
    "        total_write = 0\n",
    "        \n",
    "        for _ in range(10):\n",
    "            io_before = psutil.disk_io_counters()\n",
    "            t3_start = process_time()\n",
    "            dt.predict(X_test_all)\n",
    "            t3_stop = process_time()\n",
    "            io_after = psutil.disk_io_counters()\n",
    "            \n",
    "            total_duration += (t3_stop - t3_start)\n",
    "            total_read += io_after.read_count - io_before.read_count\n",
    "            total_write += io_after.write_count - io_before.write_count\n",
    "        \n",
    "        avg_pred_time_microsec = (total_duration / 10) / len(y_pred) * 1000000\n",
    "        avg_reads = total_read / 10 / len(y_pred)\n",
    "        avg_writes = total_write / 10 / len(y_pred)\n",
    "        \n",
    "        # Save the model using joblib instead of pickle for better efficiency\n",
    "        if SAVE_INTERMEDIATE_MODELS or sample_size == max_size:\n",
    "            print(\"Saving model...\")\n",
    "            filename = f'../large_files/LearnedModels/distance/DT/{dataset_name}_dt_{sample_size}_{training_time:.2f}s_{mape_value:.2%}_{mae_value:.2f}.joblib'\n",
    "            joblib.dump(dt, filename, compress=3)\n",
    "            # Get model file size in KB\n",
    "            model_size_kb = os.path.getsize(filename) / 1024\n",
    "            print(f\"Model size: {model_size_kb:.2f} KB\")\n",
    "        else:\n",
    "            model_size_kb = 0  # Set to 0 if model wasn't saved\n",
    "        \n",
    "        # Print results\n",
    "        print(f\"\\nResults for {dataset_name}, Sample Size: {sample_size}\")\n",
    "        print(f\"Grid Search Time: {grid_search_time:.2f}s, Training Time: {training_time:.2f}s\")\n",
    "        print(f\"Decision Tree Parameters: {best_params}\")\n",
    "        print(f\"Performance: R² = {r2_score:.4f}, MAE = {mae_value:.2f}, MAPE = {mape_value:.2%}\")\n",
    "        print(f\"q-score: {q_score_mean:.2f}\")\n",
    "        print(f\"Prediction time: {avg_pred_time_microsec:.4f} μs/sample\")\n",
    "        print(f\"I/O: Reads={avg_reads:.6f}, Writes={avg_writes:.6f}\")\n",
    "        print(\"-\" * 80)\n",
    "        \n",
    "        # Plot actual vs predicted only for the maximum scale\n",
    "        if sample_size == adjusted_scales[-1]:  # Check if this is the maximum scale\n",
    "            print(\"Generating prediction scatter plot...\")\n",
    "            plt.figure(figsize=(10, 8))\n",
    "            plt.scatter(y_test_all, y_pred, s=0.5, alpha=0.5)\n",
    "            plt.xlabel('True Values')\n",
    "            plt.ylabel('Predictions')\n",
    "            plt.title(f\"{dataset_name} - Sample Size: {sample_size} (Maximum)\")\n",
    "            plt.grid(True, alpha=0.3)\n",
    "            \n",
    "            # Add diagonal line for perfect predictions\n",
    "            max_val = max(np.max(y_test_all), np.max(y_pred))\n",
    "            plt.plot([0, max_val], [0, max_val], 'r--', alpha=0.5)\n",
    "            \n",
    "            plt.savefig(f\"../large_files/LearnedModels/distance/DT/visualizations/{dataset_name}_{sample_size}_prediction.png\", dpi=150)\n",
    "            plt.close()  # Close to free memory\n",
    "            \n",
    "            # Generate feature importance plot\n",
    "            if hasattr(dt, 'feature_importances_'):\n",
    "                print(\"Generating feature importance plot...\")\n",
    "                plt.figure(figsize=(10, 6))\n",
    "                # Updated feature names to reflect MBR features\n",
    "                feature_names = [\n",
    "                    'Center X', 'Center Y', 'Width', 'Height', 'Area',\n",
    "                    'Norm X', 'Norm Y', 'Min Dist', 'Max Dist', \n",
    "                    'Dist Range', 'Dist Ratio'\n",
    "                ]\n",
    "                importances = dt.feature_importances_\n",
    "                indices = np.argsort(importances)[::-1]\n",
    "                \n",
    "                plt.bar(range(X.shape[1]), importances[indices])\n",
    "                plt.xticks(range(X.shape[1]), [feature_names[i] for i in indices], rotation=45)\n",
    "                plt.title(f'Feature Importances for {dataset_name}')\n",
    "                plt.tight_layout()\n",
    "                plt.savefig(f\"../large_files/LearnedModels/distance/DT/visualizations/{dataset_name}_feature_importance.png\", dpi=150)\n",
    "                plt.close()\n",
    "            \n",
    "            # Create a scatter plot comparing predicted vs real values for first 100 test points\n",
    "            print(\"Generating side-by-side comparison plot...\")\n",
    "            \n",
    "            # Get predictions for first 100 test samples\n",
    "            sample_indices = range(min(100, len(X_test_all)))\n",
    "            X_sample = X_test_all[sample_indices]\n",
    "            y_sample_true = y_test_all[sample_indices].flatten()\n",
    "            y_sample_pred = dt.predict(X_sample)\n",
    "            y_sample_pred = np.maximum(0, y_sample_pred)  # Ensure non-negative predictions\n",
    "            \n",
    "            plt.figure(figsize=(20, 10))\n",
    "            plt.scatter(range(len(sample_indices)), y_sample_pred, c='red', \n",
    "                        label='Predicted number of objects (Decision Tree)', alpha=0.7, s=100)\n",
    "            plt.scatter(range(len(sample_indices)), y_sample_true, c='blue', \n",
    "                        label='Real number of objects', alpha=0.7, s=100)\n",
    "            \n",
    "            plt.title(f'{dataset_name} - First {len(sample_indices)} Objects: Predicted vs Real Values', fontsize=16)\n",
    "            plt.xlabel('Object Index', fontsize=14)\n",
    "            plt.ylabel('Number of objects within distance', fontsize=14)\n",
    "            plt.legend(fontsize=12)\n",
    "            plt.grid(True, alpha=0.3)\n",
    "            plt.tight_layout()\n",
    "            \n",
    "            # Save the plot\n",
    "            plt.savefig(f\"../large_files/LearnedModels/distance/DT/visualizations/{dataset_name}_comparison_plot.png\", dpi=150)\n",
    "            plt.close()\n",
    "        \n",
    "        # Store results in list (more efficient than DataFrame concat)\n",
    "        result_row = {\n",
    "            'Dataset': dataset_name,\n",
    "            'Sample_Size': sample_size,\n",
    "            'Training_Time': training_time,\n",
    "            'Best_Params': str(best_params),\n",
    "            'R2_Score': r2_score,\n",
    "            'MAE': mae_value,\n",
    "            'MAPE': float(mape_value),\n",
    "            'Q_Score': q_score_mean,\n",
    "            'Pred_Time_Microseconds': avg_pred_time_microsec,\n",
    "            'IO_Reads': avg_reads,\n",
    "            'IO_Writes': avg_writes,\n",
    "            'Model_Size_KB': model_size_kb,\n",
    "            'Max_Count': max_count,\n",
    "            'Min_Count': min_count,\n",
    "            'Mean_Count': mean_count,\n",
    "            'Median_Count': median_count,\n",
    "            'Total_Samples': total_samples\n",
    "        }\n",
    "        \n",
    "        dataset_results_list.append(result_row)\n",
    "        all_results_list.append(result_row)\n",
    "        \n",
    "        # Clean up to free memory\n",
    "        if sample_size != max_size:  # Don't delete for max size as we might need it\n",
    "            del X_train_sample, y_train_sample\n",
    "            gc.collect()\n",
    "    \n",
    "    # Save results for this dataset\n",
    "    print(f\"Saving results for {dataset_name}...\")\n",
    "    dataset_results = pd.DataFrame(dataset_results_list)\n",
    "    dataset_results.to_csv(f'../large_files/LearnedModels/distance/DT/results/{dataset_name}_results.csv', index=False)\n",
    "    \n",
    "    # Clear memory before next dataset\n",
    "    del X_train, X_test_all, y_train, y_test_all, Objects_MBR, Distance_Min, Distance_Max\n",
    "    gc.collect()\n",
    "    \n",
    "# Save all results\n",
    "print(\"Saving combined results...\")\n",
    "all_results = pd.DataFrame(all_results_list)\n",
    "all_results.to_csv('../large_files/LearnedModels/distance/DT/all_results.csv', index=False)\n",
    "\n",
    "print(\"All processing completed and results saved.\")\n",
    "monitor_memory()"
   ]
  }
 ],
 "metadata": {
  "kernelspec": {
   "display_name": "base",
   "language": "python",
   "name": "python3"
  },
  "language_info": {
   "codemirror_mode": {
    "name": "ipython",
    "version": 3
   },
   "file_extension": ".py",
   "mimetype": "text/x-python",
   "name": "python",
   "nbconvert_exporter": "python",
   "pygments_lexer": "ipython3",
   "version": "3.12.2"
  },
  "papermill": {
   "default_parameters": {},
   "duration": 1188.378772,
   "end_time": "2025-04-18T22:53:06.884373",
   "environment_variables": {},
   "exception": null,
   "input_path": "/home/adminlias/nadir/Spatial-Selectivity-Ext/distance_filter/decisionTreesRegressor.ipynb",
   "output_path": "/home/adminlias/nadir/Spatial-Selectivity-Ext/distance_filter/output_decisionTreesRegressor.ipynb",
   "parameters": {},
   "start_time": "2025-04-18T22:33:18.505601",
   "version": "2.6.0"
  },
  "widgets": {
   "application/vnd.jupyter.widget-state+json": {
    "state": {
     "1103c29ba9d54b54b73bd671513c6d4d": {
      "model_module": "@jupyter-widgets/controls",
      "model_module_version": "1.5.0",
      "model_name": "ProgressStyleModel",
      "state": {
       "_model_module": "@jupyter-widgets/controls",
       "_model_module_version": "1.5.0",
       "_model_name": "ProgressStyleModel",
       "_view_count": null,
       "_view_module": "@jupyter-widgets/base",
       "_view_module_version": "1.2.0",
       "_view_name": "StyleView",
       "bar_color": null,
       "description_width": ""
      }
     },
     "1a54b6728faf481c915683418c05c0df": {
      "model_module": "@jupyter-widgets/base",
      "model_module_version": "1.2.0",
      "model_name": "LayoutModel",
      "state": {
       "_model_module": "@jupyter-widgets/base",
       "_model_module_version": "1.2.0",
       "_model_name": "LayoutModel",
       "_view_count": null,
       "_view_module": "@jupyter-widgets/base",
       "_view_module_version": "1.2.0",
       "_view_name": "LayoutView",
       "align_content": null,
       "align_items": null,
       "align_self": null,
       "border": null,
       "bottom": null,
       "display": null,
       "flex": null,
       "flex_flow": null,
       "grid_area": null,
       "grid_auto_columns": null,
       "grid_auto_flow": null,
       "grid_auto_rows": null,
       "grid_column": null,
       "grid_gap": null,
       "grid_row": null,
       "grid_template_areas": null,
       "grid_template_columns": null,
       "grid_template_rows": null,
       "height": null,
       "justify_content": null,
       "justify_items": null,
       "left": null,
       "margin": null,
       "max_height": null,
       "max_width": null,
       "min_height": null,
       "min_width": null,
       "object_fit": null,
       "object_position": null,
       "order": null,
       "overflow": null,
       "overflow_x": null,
       "overflow_y": null,
       "padding": null,
       "right": null,
       "top": null,
       "visibility": null,
       "width": null
      }
     },
     "393ec8762aa344ff9348958aa5306b7f": {
      "model_module": "@jupyter-widgets/controls",
      "model_module_version": "1.5.0",
      "model_name": "HTMLModel",
      "state": {
       "_dom_classes": [],
       "_model_module": "@jupyter-widgets/controls",
       "_model_module_version": "1.5.0",
       "_model_name": "HTMLModel",
       "_view_count": null,
       "_view_module": "@jupyter-widgets/controls",
       "_view_module_version": "1.5.0",
       "_view_name": "HTMLView",
       "description": "",
       "description_tooltip": null,
       "layout": "IPY_MODEL_8f950b17188e4c6b86d901c9cc5c81cd",
       "placeholder": "​",
       "style": "IPY_MODEL_e8db6543c185435d9d9b8683687c59fa",
       "value": " 14/14 [19:43&lt;00:00, 34.45s/it]"
      }
     },
     "73d6d73823e642fca06e3227ff7cba06": {
      "model_module": "@jupyter-widgets/controls",
      "model_module_version": "1.5.0",
      "model_name": "DescriptionStyleModel",
      "state": {
       "_model_module": "@jupyter-widgets/controls",
       "_model_module_version": "1.5.0",
       "_model_name": "DescriptionStyleModel",
       "_view_count": null,
       "_view_module": "@jupyter-widgets/base",
       "_view_module_version": "1.2.0",
       "_view_name": "StyleView",
       "description_width": ""
      }
     },
     "8f950b17188e4c6b86d901c9cc5c81cd": {
      "model_module": "@jupyter-widgets/base",
      "model_module_version": "1.2.0",
      "model_name": "LayoutModel",
      "state": {
       "_model_module": "@jupyter-widgets/base",
       "_model_module_version": "1.2.0",
       "_model_name": "LayoutModel",
       "_view_count": null,
       "_view_module": "@jupyter-widgets/base",
       "_view_module_version": "1.2.0",
       "_view_name": "LayoutView",
       "align_content": null,
       "align_items": null,
       "align_self": null,
       "border": null,
       "bottom": null,
       "display": null,
       "flex": null,
       "flex_flow": null,
       "grid_area": null,
       "grid_auto_columns": null,
       "grid_auto_flow": null,
       "grid_auto_rows": null,
       "grid_column": null,
       "grid_gap": null,
       "grid_row": null,
       "grid_template_areas": null,
       "grid_template_columns": null,
       "grid_template_rows": null,
       "height": null,
       "justify_content": null,
       "justify_items": null,
       "left": null,
       "margin": null,
       "max_height": null,
       "max_width": null,
       "min_height": null,
       "min_width": null,
       "object_fit": null,
       "object_position": null,
       "order": null,
       "overflow": null,
       "overflow_x": null,
       "overflow_y": null,
       "padding": null,
       "right": null,
       "top": null,
       "visibility": null,
       "width": null
      }
     },
     "a3c73bcf41ee4eaba53ed6c1a84747d5": {
      "model_module": "@jupyter-widgets/controls",
      "model_module_version": "1.5.0",
      "model_name": "FloatProgressModel",
      "state": {
       "_dom_classes": [],
       "_model_module": "@jupyter-widgets/controls",
       "_model_module_version": "1.5.0",
       "_model_name": "FloatProgressModel",
       "_view_count": null,
       "_view_module": "@jupyter-widgets/controls",
       "_view_module_version": "1.5.0",
       "_view_name": "ProgressView",
       "bar_style": "success",
       "description": "",
       "description_tooltip": null,
       "layout": "IPY_MODEL_dcae1f2604b24616964117decca410d7",
       "max": 14.0,
       "min": 0.0,
       "orientation": "horizontal",
       "style": "IPY_MODEL_1103c29ba9d54b54b73bd671513c6d4d",
       "value": 14.0
      }
     },
     "c26c1bbc9dfe4d5c9e072f618c9fc5ca": {
      "model_module": "@jupyter-widgets/controls",
      "model_module_version": "1.5.0",
      "model_name": "HTMLModel",
      "state": {
       "_dom_classes": [],
       "_model_module": "@jupyter-widgets/controls",
       "_model_module_version": "1.5.0",
       "_model_name": "HTMLModel",
       "_view_count": null,
       "_view_module": "@jupyter-widgets/controls",
       "_view_module_version": "1.5.0",
       "_view_name": "HTMLView",
       "description": "",
       "description_tooltip": null,
       "layout": "IPY_MODEL_c8fae58b270f44eebe437e823fd1942f",
       "placeholder": "​",
       "style": "IPY_MODEL_73d6d73823e642fca06e3227ff7cba06",
       "value": "Processing datasets: 100%"
      }
     },
     "c8b20680aac6431c87a2aca46435eda4": {
      "model_module": "@jupyter-widgets/controls",
      "model_module_version": "1.5.0",
      "model_name": "HBoxModel",
      "state": {
       "_dom_classes": [],
       "_model_module": "@jupyter-widgets/controls",
       "_model_module_version": "1.5.0",
       "_model_name": "HBoxModel",
       "_view_count": null,
       "_view_module": "@jupyter-widgets/controls",
       "_view_module_version": "1.5.0",
       "_view_name": "HBoxView",
       "box_style": "",
       "children": [
        "IPY_MODEL_c26c1bbc9dfe4d5c9e072f618c9fc5ca",
        "IPY_MODEL_a3c73bcf41ee4eaba53ed6c1a84747d5",
        "IPY_MODEL_393ec8762aa344ff9348958aa5306b7f"
       ],
       "layout": "IPY_MODEL_1a54b6728faf481c915683418c05c0df"
      }
     },
     "c8fae58b270f44eebe437e823fd1942f": {
      "model_module": "@jupyter-widgets/base",
      "model_module_version": "1.2.0",
      "model_name": "LayoutModel",
      "state": {
       "_model_module": "@jupyter-widgets/base",
       "_model_module_version": "1.2.0",
       "_model_name": "LayoutModel",
       "_view_count": null,
       "_view_module": "@jupyter-widgets/base",
       "_view_module_version": "1.2.0",
       "_view_name": "LayoutView",
       "align_content": null,
       "align_items": null,
       "align_self": null,
       "border": null,
       "bottom": null,
       "display": null,
       "flex": null,
       "flex_flow": null,
       "grid_area": null,
       "grid_auto_columns": null,
       "grid_auto_flow": null,
       "grid_auto_rows": null,
       "grid_column": null,
       "grid_gap": null,
       "grid_row": null,
       "grid_template_areas": null,
       "grid_template_columns": null,
       "grid_template_rows": null,
       "height": null,
       "justify_content": null,
       "justify_items": null,
       "left": null,
       "margin": null,
       "max_height": null,
       "max_width": null,
       "min_height": null,
       "min_width": null,
       "object_fit": null,
       "object_position": null,
       "order": null,
       "overflow": null,
       "overflow_x": null,
       "overflow_y": null,
       "padding": null,
       "right": null,
       "top": null,
       "visibility": null,
       "width": null
      }
     },
     "dcae1f2604b24616964117decca410d7": {
      "model_module": "@jupyter-widgets/base",
      "model_module_version": "1.2.0",
      "model_name": "LayoutModel",
      "state": {
       "_model_module": "@jupyter-widgets/base",
       "_model_module_version": "1.2.0",
       "_model_name": "LayoutModel",
       "_view_count": null,
       "_view_module": "@jupyter-widgets/base",
       "_view_module_version": "1.2.0",
       "_view_name": "LayoutView",
       "align_content": null,
       "align_items": null,
       "align_self": null,
       "border": null,
       "bottom": null,
       "display": null,
       "flex": null,
       "flex_flow": null,
       "grid_area": null,
       "grid_auto_columns": null,
       "grid_auto_flow": null,
       "grid_auto_rows": null,
       "grid_column": null,
       "grid_gap": null,
       "grid_row": null,
       "grid_template_areas": null,
       "grid_template_columns": null,
       "grid_template_rows": null,
       "height": null,
       "justify_content": null,
       "justify_items": null,
       "left": null,
       "margin": null,
       "max_height": null,
       "max_width": null,
       "min_height": null,
       "min_width": null,
       "object_fit": null,
       "object_position": null,
       "order": null,
       "overflow": null,
       "overflow_x": null,
       "overflow_y": null,
       "padding": null,
       "right": null,
       "top": null,
       "visibility": null,
       "width": null
      }
     },
     "e8db6543c185435d9d9b8683687c59fa": {
      "model_module": "@jupyter-widgets/controls",
      "model_module_version": "1.5.0",
      "model_name": "DescriptionStyleModel",
      "state": {
       "_model_module": "@jupyter-widgets/controls",
       "_model_module_version": "1.5.0",
       "_model_name": "DescriptionStyleModel",
       "_view_count": null,
       "_view_module": "@jupyter-widgets/base",
       "_view_module_version": "1.2.0",
       "_view_name": "StyleView",
       "description_width": ""
      }
     }
    },
    "version_major": 2,
    "version_minor": 0
   }
  }
 },
 "nbformat": 4,
 "nbformat_minor": 5
}