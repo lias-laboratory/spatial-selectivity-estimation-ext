{
 "cells": [
  {
   "cell_type": "code",
   "execution_count": 1,
   "id": "9b279ca3",
   "metadata": {
    "execution": {
     "iopub.execute_input": "2025-04-19T09:40:05.290797Z",
     "iopub.status.busy": "2025-04-19T09:40:05.290168Z",
     "iopub.status.idle": "2025-04-19T10:04:46.108503Z",
     "shell.execute_reply": "2025-04-19T10:04:46.107621Z"
    },
    "papermill": {
     "duration": 1480.828703,
     "end_time": "2025-04-19T10:04:46.110798",
     "exception": false,
     "start_time": "2025-04-19T09:40:05.282095",
     "status": "completed"
    },
    "tags": []
   },
   "outputs": [
    {
     "name": "stdout",
     "output_type": "stream",
     "text": [
      "Using 29 of 30 available CPU cores\n",
      "Loading spatial statistics...\n",
      "Finding dataset files...\n",
      "Found 14 datasets to process\n"
     ]
    },
    {
     "data": {
      "application/vnd.jupyter.widget-view+json": {
       "model_id": "a214c04c794e45a5b3c4b558523650ef",
       "version_major": 2,
       "version_minor": 0
      },
      "text/plain": [
       "Processing datasets:   0%|          | 0/14 [00:00<?, ?it/s]"
      ]
     },
     "metadata": {},
     "output_type": "display_data"
    },
    {
     "name": "stdout",
     "output_type": "stream",
     "text": [
      "Memory usage: 241.79 MB\n",
      "\n",
      "Processing dataset: craftwaysorted\n",
      "Universe boundaries for craftwaysorted: (-175.2000514, -65.2458821, 175.3397782, 69.6673353)\n",
      "Loading data from ../large_files/resultsDistance/craftwaysorted_results.csv\n",
      "Parsing object coordinates...\n"
     ]
    },
    {
     "name": "stdout",
     "output_type": "stream",
     "text": [
      "\n",
      "Basic statistics for craftwaysorted dataset:\n",
      "Max count: 100369.0\n",
      "Min count: 0.0\n",
      "Mean count: 11615.73\n",
      "Median count: 3842.00\n",
      "Total samples: 21822\n",
      "\n",
      "Calculating object features...\n",
      "Splitting data into train and test sets...\n",
      "Training set size: 17457\n",
      "\n",
      "Training with sample size: 17457\n",
      "Memory usage: 251.26 MB\n",
      "Performing grid search for optimal parameters...\n",
      "Fitting 3 folds for each of 27 candidates, totalling 81 fits\n"
     ]
    },
    {
     "name": "stdout",
     "output_type": "stream",
     "text": [
      "Grid search complete in 388.78s\n",
      "Best parameters: {'learning_rate': 0.1, 'max_depth': 7, 'n_estimators': 200}\n",
      "Training XGBoost model...\n"
     ]
    },
    {
     "name": "stdout",
     "output_type": "stream",
     "text": [
      "Making predictions...\n",
      "Calculating performance metrics...\n",
      "Measuring prediction performance...\n",
      "Saving model...\n",
      "Model size: 478.47 KB\n",
      "\n",
      "Results for craftwaysorted, Sample Size: 17457\n",
      "Grid Search Time: 388.78s, Training Time: 13.94s\n",
      "XGBoost Parameters: {'learning_rate': 0.1, 'max_depth': 7, 'n_estimators': 200}\n",
      "Performance: R² = 0.9411, MAE = 1722.03, MAPE = 156.55%\n",
      "q-score: 2.80\n",
      "Prediction time: 18.1593 μs/sample\n",
      "I/O: Reads=0.000000, Writes=0.000000\n",
      "--------------------------------------------------------------------------------\n",
      "Generating prediction scatter plot...\n"
     ]
    },
    {
     "name": "stdout",
     "output_type": "stream",
     "text": [
      "Generating feature importance plot...\n",
      "Generating side-by-side comparison plot...\n"
     ]
    },
    {
     "name": "stdout",
     "output_type": "stream",
     "text": [
      "\n",
      "Training with sample size: 10000\n",
      "Memory usage: 305.62 MB\n",
      "Using best parameters from max scale: {'learning_rate': 0.1, 'max_depth': 7, 'n_estimators': 200}\n",
      "Training XGBoost model...\n"
     ]
    },
    {
     "name": "stdout",
     "output_type": "stream",
     "text": [
      "Making predictions...\n",
      "Calculating performance metrics...\n",
      "Measuring prediction performance...\n",
      "Saving model...\n",
      "Model size: 449.29 KB\n",
      "\n",
      "Results for craftwaysorted, Sample Size: 10000\n",
      "Grid Search Time: 0.00s, Training Time: 12.82s\n",
      "XGBoost Parameters: {'learning_rate': 0.1, 'max_depth': 7, 'n_estimators': 200}\n",
      "Performance: R² = 0.9154, MAE = 2029.00, MAPE = 167.68%\n",
      "q-score: 2.97\n",
      "Prediction time: 17.9313 μs/sample\n",
      "I/O: Reads=0.000000, Writes=0.000000\n",
      "--------------------------------------------------------------------------------\n",
      "\n",
      "Training with sample size: 5000\n",
      "Memory usage: 306.14 MB\n",
      "Using best parameters from max scale: {'learning_rate': 0.1, 'max_depth': 7, 'n_estimators': 200}\n",
      "Training XGBoost model...\n"
     ]
    },
    {
     "name": "stdout",
     "output_type": "stream",
     "text": [
      "Making predictions...\n",
      "Calculating performance metrics...\n",
      "Measuring prediction performance...\n",
      "Saving model...\n",
      "Model size: 396.96 KB\n",
      "\n",
      "Results for craftwaysorted, Sample Size: 5000\n",
      "Grid Search Time: 0.00s, Training Time: 11.34s\n",
      "XGBoost Parameters: {'learning_rate': 0.1, 'max_depth': 7, 'n_estimators': 200}\n",
      "Performance: R² = 0.8831, MAE = 2484.22, MAPE = 271.28%\n",
      "q-score: 4.59\n",
      "Prediction time: 15.1244 μs/sample\n",
      "I/O: Reads=0.000000, Writes=0.000000\n",
      "--------------------------------------------------------------------------------\n",
      "\n",
      "Training with sample size: 1000\n",
      "Memory usage: 306.14 MB\n",
      "Using best parameters from max scale: {'learning_rate': 0.1, 'max_depth': 7, 'n_estimators': 200}\n",
      "Training XGBoost model...\n"
     ]
    },
    {
     "name": "stdout",
     "output_type": "stream",
     "text": [
      "Making predictions...\n",
      "Calculating performance metrics...\n",
      "Measuring prediction performance...\n",
      "Saving model...\n",
      "Model size: 284.75 KB\n",
      "\n",
      "Results for craftwaysorted, Sample Size: 1000\n",
      "Grid Search Time: 0.00s, Training Time: 7.73s\n",
      "XGBoost Parameters: {'learning_rate': 0.1, 'max_depth': 7, 'n_estimators': 200}\n",
      "Performance: R² = 0.7231, MAE = 4029.74, MAPE = 506.17%\n",
      "q-score: 6.44\n",
      "Prediction time: 18.3464 μs/sample\n",
      "I/O: Reads=0.000000, Writes=0.000000\n",
      "--------------------------------------------------------------------------------\n",
      "Saving results for craftwaysorted...\n"
     ]
    },
    {
     "name": "stdout",
     "output_type": "stream",
     "text": [
      "Memory usage: 306.14 MB\n",
      "\n",
      "Processing dataset: powerthingwaysorted\n",
      "Universe boundaries for powerthingwaysorted: (-179.5002188, -75.1012051, 178.4574038, 82.5247908)\n",
      "Loading data from ../large_files/resultsDistance/powerthingwaysorted_results.csv\n"
     ]
    },
    {
     "name": "stdout",
     "output_type": "stream",
     "text": [
      "Parsing object coordinates...\n"
     ]
    },
    {
     "name": "stdout",
     "output_type": "stream",
     "text": [
      "\n",
      "Basic statistics for powerthingwaysorted dataset:\n",
      "Max count: 13577236.0\n",
      "Min count: 0.0\n",
      "Mean count: 885963.11\n",
      "Median count: 467788.00\n",
      "Total samples: 2717289\n",
      "\n",
      "Calculating object features...\n"
     ]
    },
    {
     "name": "stdout",
     "output_type": "stream",
     "text": [
      "Splitting data into train and test sets...\n"
     ]
    },
    {
     "name": "stdout",
     "output_type": "stream",
     "text": [
      "Training set size: 2173831\n",
      "\n",
      "Training with sample size: 2173831\n",
      "Memory usage: 1161.62 MB\n",
      "Performing grid search for optimal parameters...\n",
      "Fitting 3 folds for each of 27 candidates, totalling 81 fits\n"
     ]
    },
    {
     "name": "stdout",
     "output_type": "stream",
     "text": [
      "Grid search complete in 4389.11s\n",
      "Best parameters: {'learning_rate': 0.3, 'max_depth': 7, 'n_estimators': 200}\n",
      "Training XGBoost model...\n"
     ]
    },
    {
     "name": "stdout",
     "output_type": "stream",
     "text": [
      "Making predictions...\n"
     ]
    },
    {
     "name": "stdout",
     "output_type": "stream",
     "text": [
      "Calculating performance metrics...\n",
      "Measuring prediction performance...\n"
     ]
    },
    {
     "name": "stdout",
     "output_type": "stream",
     "text": [
      "Saving model...\n",
      "Model size: 608.31 KB\n",
      "\n",
      "Results for powerthingwaysorted, Sample Size: 2173831\n",
      "Grid Search Time: 4389.11s, Training Time: 130.98s\n",
      "XGBoost Parameters: {'learning_rate': 0.3, 'max_depth': 7, 'n_estimators': 200}\n",
      "Performance: R² = 0.9897, MAE = 67567.49, MAPE = 216.56%\n",
      "q-score: 3.33\n",
      "Prediction time: 8.4219 μs/sample\n",
      "I/O: Reads=0.000000, Writes=0.000000\n",
      "--------------------------------------------------------------------------------\n",
      "Generating prediction scatter plot...\n"
     ]
    },
    {
     "name": "stdout",
     "output_type": "stream",
     "text": [
      "Generating feature importance plot...\n",
      "Generating side-by-side comparison plot...\n"
     ]
    },
    {
     "name": "stdout",
     "output_type": "stream",
     "text": [
      "\n",
      "Training with sample size: 2000000\n",
      "Memory usage: 1416.49 MB\n",
      "Using best parameters from max scale: {'learning_rate': 0.3, 'max_depth': 7, 'n_estimators': 200}\n",
      "Training XGBoost model...\n"
     ]
    },
    {
     "name": "stdout",
     "output_type": "stream",
     "text": [
      "Making predictions...\n"
     ]
    },
    {
     "name": "stdout",
     "output_type": "stream",
     "text": [
      "Calculating performance metrics...\n",
      "Measuring prediction performance...\n"
     ]
    },
    {
     "name": "stdout",
     "output_type": "stream",
     "text": [
      "Saving model...\n",
      "Model size: 607.53 KB\n",
      "\n",
      "Results for powerthingwaysorted, Sample Size: 2000000\n",
      "Grid Search Time: 0.00s, Training Time: 120.56s\n",
      "XGBoost Parameters: {'learning_rate': 0.3, 'max_depth': 7, 'n_estimators': 200}\n",
      "Performance: R² = 0.9894, MAE = 68547.49, MAPE = 234.06%\n",
      "q-score: 3.52\n",
      "Prediction time: 8.5782 μs/sample\n",
      "I/O: Reads=0.000000, Writes=0.000000\n",
      "--------------------------------------------------------------------------------\n",
      "\n",
      "Training with sample size: 1000000\n",
      "Memory usage: 1416.49 MB\n",
      "Using best parameters from max scale: {'learning_rate': 0.3, 'max_depth': 7, 'n_estimators': 200}\n",
      "Training XGBoost model...\n"
     ]
    },
    {
     "name": "stdout",
     "output_type": "stream",
     "text": [
      "Making predictions...\n"
     ]
    },
    {
     "name": "stdout",
     "output_type": "stream",
     "text": [
      "Calculating performance metrics...\n",
      "Measuring prediction performance...\n"
     ]
    },
    {
     "name": "stdout",
     "output_type": "stream",
     "text": [
      "Saving model...\n",
      "Model size: 597.21 KB\n",
      "\n",
      "Results for powerthingwaysorted, Sample Size: 1000000\n",
      "Grid Search Time: 0.00s, Training Time: 60.32s\n",
      "XGBoost Parameters: {'learning_rate': 0.3, 'max_depth': 7, 'n_estimators': 200}\n",
      "Performance: R² = 0.9886, MAE = 69703.06, MAPE = 237.17%\n",
      "q-score: 3.56\n",
      "Prediction time: 8.4346 μs/sample\n",
      "I/O: Reads=0.000000, Writes=0.000004\n",
      "--------------------------------------------------------------------------------\n",
      "\n",
      "Training with sample size: 500000\n",
      "Memory usage: 1416.49 MB\n",
      "Using best parameters from max scale: {'learning_rate': 0.3, 'max_depth': 7, 'n_estimators': 200}\n",
      "Training XGBoost model...\n"
     ]
    },
    {
     "name": "stdout",
     "output_type": "stream",
     "text": [
      "Making predictions...\n"
     ]
    },
    {
     "name": "stdout",
     "output_type": "stream",
     "text": [
      "Calculating performance metrics...\n",
      "Measuring prediction performance...\n"
     ]
    },
    {
     "name": "stdout",
     "output_type": "stream",
     "text": [
      "Saving model...\n",
      "Model size: 589.99 KB\n",
      "\n",
      "Results for powerthingwaysorted, Sample Size: 500000\n",
      "Grid Search Time: 0.00s, Training Time: 35.35s\n",
      "XGBoost Parameters: {'learning_rate': 0.3, 'max_depth': 7, 'n_estimators': 200}\n",
      "Performance: R² = 0.9872, MAE = 71787.57, MAPE = 249.13%\n",
      "q-score: 3.68\n",
      "Prediction time: 8.4094 μs/sample\n",
      "I/O: Reads=0.000000, Writes=0.000000\n",
      "--------------------------------------------------------------------------------\n",
      "\n",
      "Training with sample size: 100000\n",
      "Memory usage: 1416.49 MB\n",
      "Using best parameters from max scale: {'learning_rate': 0.3, 'max_depth': 7, 'n_estimators': 200}\n",
      "Training XGBoost model...\n"
     ]
    },
    {
     "name": "stdout",
     "output_type": "stream",
     "text": [
      "Making predictions...\n"
     ]
    },
    {
     "name": "stdout",
     "output_type": "stream",
     "text": [
      "Calculating performance metrics...\n",
      "Measuring prediction performance...\n"
     ]
    },
    {
     "name": "stdout",
     "output_type": "stream",
     "text": [
      "Saving model...\n",
      "Model size: 553.44 KB\n",
      "\n",
      "Results for powerthingwaysorted, Sample Size: 100000\n",
      "Grid Search Time: 0.00s, Training Time: 16.67s\n",
      "XGBoost Parameters: {'learning_rate': 0.3, 'max_depth': 7, 'n_estimators': 200}\n",
      "Performance: R² = 0.9791, MAE = 82841.38, MAPE = 231.99%\n",
      "q-score: 3.50\n",
      "Prediction time: 8.4657 μs/sample\n",
      "I/O: Reads=0.000000, Writes=0.000005\n",
      "--------------------------------------------------------------------------------\n",
      "\n",
      "Training with sample size: 50000\n",
      "Memory usage: 1416.49 MB\n",
      "Using best parameters from max scale: {'learning_rate': 0.3, 'max_depth': 7, 'n_estimators': 200}\n",
      "Training XGBoost model...\n"
     ]
    },
    {
     "name": "stdout",
     "output_type": "stream",
     "text": [
      "Making predictions...\n"
     ]
    },
    {
     "name": "stdout",
     "output_type": "stream",
     "text": [
      "Calculating performance metrics...\n",
      "Measuring prediction performance...\n"
     ]
    },
    {
     "name": "stdout",
     "output_type": "stream",
     "text": [
      "Saving model...\n",
      "Model size: 536.25 KB\n",
      "\n",
      "Results for powerthingwaysorted, Sample Size: 50000\n",
      "Grid Search Time: 0.00s, Training Time: 14.34s\n",
      "XGBoost Parameters: {'learning_rate': 0.3, 'max_depth': 7, 'n_estimators': 200}\n",
      "Performance: R² = 0.9717, MAE = 92329.66, MAPE = 243.42%\n",
      "q-score: 3.65\n",
      "Prediction time: 8.4768 μs/sample\n",
      "I/O: Reads=0.000000, Writes=0.000000\n",
      "--------------------------------------------------------------------------------\n",
      "\n",
      "Training with sample size: 10000\n",
      "Memory usage: 1416.49 MB\n",
      "Using best parameters from max scale: {'learning_rate': 0.3, 'max_depth': 7, 'n_estimators': 200}\n",
      "Training XGBoost model...\n"
     ]
    },
    {
     "name": "stdout",
     "output_type": "stream",
     "text": [
      "Making predictions...\n"
     ]
    },
    {
     "name": "stdout",
     "output_type": "stream",
     "text": [
      "Calculating performance metrics...\n",
      "Measuring prediction performance...\n"
     ]
    },
    {
     "name": "stdout",
     "output_type": "stream",
     "text": [
      "Saving model...\n",
      "Model size: 468.37 KB\n",
      "\n",
      "Results for powerthingwaysorted, Sample Size: 10000\n",
      "Grid Search Time: 0.00s, Training Time: 10.66s\n",
      "XGBoost Parameters: {'learning_rate': 0.3, 'max_depth': 7, 'n_estimators': 200}\n",
      "Performance: R² = 0.9350, MAE = 135330.26, MAPE = 512.98%\n",
      "q-score: 6.36\n",
      "Prediction time: 8.5763 μs/sample\n",
      "I/O: Reads=0.000000, Writes=0.000000\n",
      "--------------------------------------------------------------------------------\n",
      "\n",
      "Training with sample size: 5000\n",
      "Memory usage: 1416.49 MB\n",
      "Using best parameters from max scale: {'learning_rate': 0.3, 'max_depth': 7, 'n_estimators': 200}\n",
      "Training XGBoost model...\n"
     ]
    },
    {
     "name": "stdout",
     "output_type": "stream",
     "text": [
      "Making predictions...\n"
     ]
    },
    {
     "name": "stdout",
     "output_type": "stream",
     "text": [
      "Calculating performance metrics...\n",
      "Measuring prediction performance...\n"
     ]
    },
    {
     "name": "stdout",
     "output_type": "stream",
     "text": [
      "Saving model...\n",
      "Model size: 433.50 KB\n",
      "\n",
      "Results for powerthingwaysorted, Sample Size: 5000\n",
      "Grid Search Time: 0.00s, Training Time: 9.90s\n",
      "XGBoost Parameters: {'learning_rate': 0.3, 'max_depth': 7, 'n_estimators': 200}\n",
      "Performance: R² = 0.9039, MAE = 165487.05, MAPE = 680.86%\n",
      "q-score: 8.05\n",
      "Prediction time: 8.4308 μs/sample\n",
      "I/O: Reads=0.000000, Writes=0.000000\n",
      "--------------------------------------------------------------------------------\n",
      "\n",
      "Training with sample size: 1000\n",
      "Memory usage: 1416.49 MB\n",
      "Using best parameters from max scale: {'learning_rate': 0.3, 'max_depth': 7, 'n_estimators': 200}\n",
      "Training XGBoost model...\n"
     ]
    },
    {
     "name": "stdout",
     "output_type": "stream",
     "text": [
      "Making predictions...\n"
     ]
    },
    {
     "name": "stdout",
     "output_type": "stream",
     "text": [
      "Calculating performance metrics...\n",
      "Measuring prediction performance...\n"
     ]
    },
    {
     "name": "stdout",
     "output_type": "stream",
     "text": [
      "Saving model...\n",
      "Model size: 304.08 KB\n",
      "\n",
      "Results for powerthingwaysorted, Sample Size: 1000\n",
      "Grid Search Time: 0.00s, Training Time: 7.75s\n",
      "XGBoost Parameters: {'learning_rate': 0.3, 'max_depth': 7, 'n_estimators': 200}\n",
      "Performance: R² = 0.7744, MAE = 266304.89, MAPE = 1431.41%\n",
      "q-score: 16.95\n",
      "Prediction time: 8.5066 μs/sample\n",
      "I/O: Reads=0.000000, Writes=0.000000\n",
      "--------------------------------------------------------------------------------\n",
      "Saving results for powerthingwaysorted...\n",
      "Memory usage: 1146.99 MB\n",
      "\n",
      "Processing dataset: barrierthingwaysorted\n",
      "Universe boundaries for barrierthingwaysorted: (-179.7595238, -70.776382, 179.19591350000002, 78.2501675)\n",
      "Loading data from ../large_files/resultsDistance/barrierthingwaysorted_results.csv\n"
     ]
    },
    {
     "name": "stdout",
     "output_type": "stream",
     "text": [
      "Parsing object coordinates...\n"
     ]
    },
    {
     "name": "stdout",
     "output_type": "stream",
     "text": [
      "\n",
      "Basic statistics for barrierthingwaysorted dataset:\n",
      "Max count: 22854431.0\n",
      "Min count: 0.0\n",
      "Mean count: 2474469.83\n",
      "Median count: 1209323.00\n",
      "Total samples: 4581670\n",
      "\n",
      "Calculating object features...\n"
     ]
    },
    {
     "name": "stdout",
     "output_type": "stream",
     "text": [
      "Splitting data into train and test sets...\n"
     ]
    },
    {
     "name": "stdout",
     "output_type": "stream",
     "text": [
      "Training set size: 3665336\n",
      "\n",
      "Training with sample size: 3665336\n",
      "Memory usage: 1928.52 MB\n",
      "Performing grid search for optimal parameters...\n",
      "Fitting 3 folds for each of 27 candidates, totalling 81 fits\n"
     ]
    },
    {
     "name": "stdout",
     "output_type": "stream",
     "text": [
      "Grid search complete in 7345.39s\n",
      "Best parameters: {'learning_rate': 0.3, 'max_depth': 7, 'n_estimators': 200}\n",
      "Training XGBoost model...\n"
     ]
    },
    {
     "name": "stdout",
     "output_type": "stream",
     "text": [
      "Making predictions...\n"
     ]
    },
    {
     "name": "stdout",
     "output_type": "stream",
     "text": [
      "Calculating performance metrics...\n",
      "Measuring prediction performance...\n"
     ]
    },
    {
     "name": "stdout",
     "output_type": "stream",
     "text": [
      "Saving model...\n",
      "Model size: 619.78 KB\n",
      "\n",
      "Results for barrierthingwaysorted, Sample Size: 3665336\n",
      "Grid Search Time: 7345.39s, Training Time: 227.13s\n",
      "XGBoost Parameters: {'learning_rate': 0.3, 'max_depth': 7, 'n_estimators': 200}\n",
      "Performance: R² = 0.9902, MAE = 179542.17, MAPE = 454.67%\n",
      "q-score: 5.93\n",
      "Prediction time: 8.4900 μs/sample\n",
      "I/O: Reads=0.000000, Writes=0.000000\n",
      "--------------------------------------------------------------------------------\n",
      "Generating prediction scatter plot...\n"
     ]
    },
    {
     "name": "stdout",
     "output_type": "stream",
     "text": [
      "Generating feature importance plot...\n",
      "Generating side-by-side comparison plot...\n"
     ]
    },
    {
     "name": "stdout",
     "output_type": "stream",
     "text": [
      "\n",
      "Training with sample size: 3000000\n",
      "Memory usage: 1945.89 MB\n",
      "Using best parameters from max scale: {'learning_rate': 0.3, 'max_depth': 7, 'n_estimators': 200}\n",
      "Training XGBoost model...\n"
     ]
    },
    {
     "name": "stdout",
     "output_type": "stream",
     "text": [
      "Making predictions...\n"
     ]
    },
    {
     "name": "stdout",
     "output_type": "stream",
     "text": [
      "Calculating performance metrics...\n",
      "Measuring prediction performance...\n"
     ]
    },
    {
     "name": "stdout",
     "output_type": "stream",
     "text": [
      "Saving model...\n",
      "Model size: 620.84 KB\n",
      "\n",
      "Results for barrierthingwaysorted, Sample Size: 3000000\n",
      "Grid Search Time: 0.00s, Training Time: 185.05s\n",
      "XGBoost Parameters: {'learning_rate': 0.3, 'max_depth': 7, 'n_estimators': 200}\n",
      "Performance: R² = 0.9903, MAE = 178061.94, MAPE = 420.01%\n",
      "q-score: 6.49\n",
      "Prediction time: 8.6965 μs/sample\n",
      "I/O: Reads=0.000000, Writes=0.000000\n",
      "--------------------------------------------------------------------------------\n",
      "\n",
      "Training with sample size: 2000000\n",
      "Memory usage: 1992.07 MB\n",
      "Using best parameters from max scale: {'learning_rate': 0.3, 'max_depth': 7, 'n_estimators': 200}\n",
      "Training XGBoost model...\n"
     ]
    },
    {
     "name": "stdout",
     "output_type": "stream",
     "text": [
      "Making predictions...\n"
     ]
    },
    {
     "name": "stdout",
     "output_type": "stream",
     "text": [
      "Calculating performance metrics...\n",
      "Measuring prediction performance...\n"
     ]
    },
    {
     "name": "stdout",
     "output_type": "stream",
     "text": [
      "Saving model...\n",
      "Model size: 610.15 KB\n",
      "\n",
      "Results for barrierthingwaysorted, Sample Size: 2000000\n",
      "Grid Search Time: 0.00s, Training Time: 120.71s\n",
      "XGBoost Parameters: {'learning_rate': 0.3, 'max_depth': 7, 'n_estimators': 200}\n",
      "Performance: R² = 0.9898, MAE = 180811.45, MAPE = 428.20%\n",
      "q-score: 5.70\n",
      "Prediction time: 8.5691 μs/sample\n",
      "I/O: Reads=0.000000, Writes=0.000001\n",
      "--------------------------------------------------------------------------------\n",
      "\n",
      "Training with sample size: 1000000\n",
      "Memory usage: 2003.41 MB\n",
      "Using best parameters from max scale: {'learning_rate': 0.3, 'max_depth': 7, 'n_estimators': 200}\n",
      "Training XGBoost model...\n"
     ]
    },
    {
     "name": "stdout",
     "output_type": "stream",
     "text": [
      "Making predictions...\n"
     ]
    },
    {
     "name": "stdout",
     "output_type": "stream",
     "text": [
      "Calculating performance metrics...\n",
      "Measuring prediction performance...\n"
     ]
    },
    {
     "name": "stdout",
     "output_type": "stream",
     "text": [
      "Saving model...\n",
      "Model size: 602.58 KB\n",
      "\n",
      "Results for barrierthingwaysorted, Sample Size: 1000000\n",
      "Grid Search Time: 0.00s, Training Time: 62.35s\n",
      "XGBoost Parameters: {'learning_rate': 0.3, 'max_depth': 7, 'n_estimators': 200}\n",
      "Performance: R² = 0.9889, MAE = 184535.07, MAPE = 453.73%\n",
      "q-score: 6.32\n",
      "Prediction time: 7.9624 μs/sample\n",
      "I/O: Reads=0.000006, Writes=0.000001\n",
      "--------------------------------------------------------------------------------\n",
      "\n",
      "Training with sample size: 500000\n",
      "Memory usage: 2003.41 MB\n",
      "Using best parameters from max scale: {'learning_rate': 0.3, 'max_depth': 7, 'n_estimators': 200}\n",
      "Training XGBoost model...\n"
     ]
    },
    {
     "name": "stdout",
     "output_type": "stream",
     "text": [
      "Making predictions...\n"
     ]
    },
    {
     "name": "stdout",
     "output_type": "stream",
     "text": [
      "Calculating performance metrics...\n",
      "Measuring prediction performance...\n"
     ]
    },
    {
     "name": "stdout",
     "output_type": "stream",
     "text": [
      "Saving model...\n",
      "Model size: 591.87 KB\n",
      "\n",
      "Results for barrierthingwaysorted, Sample Size: 500000\n",
      "Grid Search Time: 0.00s, Training Time: 33.86s\n",
      "XGBoost Parameters: {'learning_rate': 0.3, 'max_depth': 7, 'n_estimators': 200}\n",
      "Performance: R² = 0.9878, MAE = 189225.19, MAPE = 431.10%\n",
      "q-score: 6.77\n",
      "Prediction time: 6.5948 μs/sample\n",
      "I/O: Reads=0.000000, Writes=0.000000\n",
      "--------------------------------------------------------------------------------\n",
      "\n",
      "Training with sample size: 100000\n",
      "Memory usage: 2003.41 MB\n",
      "Using best parameters from max scale: {'learning_rate': 0.3, 'max_depth': 7, 'n_estimators': 200}\n",
      "Training XGBoost model...\n"
     ]
    },
    {
     "name": "stdout",
     "output_type": "stream",
     "text": [
      "Making predictions...\n"
     ]
    },
    {
     "name": "stdout",
     "output_type": "stream",
     "text": [
      "Calculating performance metrics...\n",
      "Measuring prediction performance...\n"
     ]
    },
    {
     "name": "stdout",
     "output_type": "stream",
     "text": [
      "Saving model...\n",
      "Model size: 562.40 KB\n",
      "\n",
      "Results for barrierthingwaysorted, Sample Size: 100000\n",
      "Grid Search Time: 0.00s, Training Time: 16.47s\n",
      "XGBoost Parameters: {'learning_rate': 0.3, 'max_depth': 7, 'n_estimators': 200}\n",
      "Performance: R² = 0.9786, MAE = 220948.16, MAPE = 503.55%\n",
      "q-score: 6.26\n",
      "Prediction time: 6.3743 μs/sample\n",
      "I/O: Reads=0.000000, Writes=0.000000\n",
      "--------------------------------------------------------------------------------\n",
      "\n",
      "Training with sample size: 50000\n",
      "Memory usage: 2003.41 MB\n",
      "Using best parameters from max scale: {'learning_rate': 0.3, 'max_depth': 7, 'n_estimators': 200}\n",
      "Training XGBoost model...\n"
     ]
    },
    {
     "name": "stdout",
     "output_type": "stream",
     "text": [
      "Making predictions...\n"
     ]
    },
    {
     "name": "stdout",
     "output_type": "stream",
     "text": [
      "Calculating performance metrics...\n",
      "Measuring prediction performance...\n"
     ]
    },
    {
     "name": "stdout",
     "output_type": "stream",
     "text": [
      "Saving model...\n",
      "Model size: 541.22 KB\n",
      "\n",
      "Results for barrierthingwaysorted, Sample Size: 50000\n",
      "Grid Search Time: 0.00s, Training Time: 16.35s\n",
      "XGBoost Parameters: {'learning_rate': 0.3, 'max_depth': 7, 'n_estimators': 200}\n",
      "Performance: R² = 0.9711, MAE = 248482.58, MAPE = 655.13%\n",
      "q-score: 7.74\n",
      "Prediction time: 7.1759 μs/sample\n",
      "I/O: Reads=0.000000, Writes=0.000000\n",
      "--------------------------------------------------------------------------------\n",
      "\n",
      "Training with sample size: 10000\n",
      "Memory usage: 2003.41 MB\n",
      "Using best parameters from max scale: {'learning_rate': 0.3, 'max_depth': 7, 'n_estimators': 200}\n",
      "Training XGBoost model...\n"
     ]
    },
    {
     "name": "stdout",
     "output_type": "stream",
     "text": [
      "Making predictions...\n"
     ]
    },
    {
     "name": "stdout",
     "output_type": "stream",
     "text": [
      "Calculating performance metrics...\n",
      "Measuring prediction performance...\n"
     ]
    },
    {
     "name": "stdout",
     "output_type": "stream",
     "text": [
      "Saving model...\n",
      "Model size: 473.33 KB\n",
      "\n",
      "Results for barrierthingwaysorted, Sample Size: 10000\n",
      "Grid Search Time: 0.00s, Training Time: 11.11s\n",
      "XGBoost Parameters: {'learning_rate': 0.3, 'max_depth': 7, 'n_estimators': 200}\n",
      "Performance: R² = 0.9230, MAE = 377912.42, MAPE = 1178.78%\n",
      "q-score: 12.96\n",
      "Prediction time: 6.0956 μs/sample\n",
      "I/O: Reads=0.000000, Writes=0.000003\n",
      "--------------------------------------------------------------------------------\n",
      "\n",
      "Training with sample size: 5000\n",
      "Memory usage: 2003.41 MB\n",
      "Using best parameters from max scale: {'learning_rate': 0.3, 'max_depth': 7, 'n_estimators': 200}\n",
      "Training XGBoost model...\n"
     ]
    },
    {
     "name": "stdout",
     "output_type": "stream",
     "text": [
      "Making predictions...\n"
     ]
    },
    {
     "name": "stdout",
     "output_type": "stream",
     "text": [
      "Calculating performance metrics...\n",
      "Measuring prediction performance...\n"
     ]
    },
    {
     "name": "stdout",
     "output_type": "stream",
     "text": [
      "Saving model...\n",
      "Model size: 436.95 KB\n",
      "\n",
      "Results for barrierthingwaysorted, Sample Size: 5000\n",
      "Grid Search Time: 0.00s, Training Time: 10.07s\n",
      "XGBoost Parameters: {'learning_rate': 0.3, 'max_depth': 7, 'n_estimators': 200}\n",
      "Performance: R² = 0.8889, MAE = 460545.13, MAPE = 1240.73%\n",
      "q-score: 13.35\n",
      "Prediction time: 6.6066 μs/sample\n",
      "I/O: Reads=0.000000, Writes=0.000000\n",
      "--------------------------------------------------------------------------------\n",
      "\n",
      "Training with sample size: 1000\n",
      "Memory usage: 2003.41 MB\n",
      "Using best parameters from max scale: {'learning_rate': 0.3, 'max_depth': 7, 'n_estimators': 200}\n",
      "Training XGBoost model...\n"
     ]
    },
    {
     "name": "stdout",
     "output_type": "stream",
     "text": [
      "Making predictions...\n"
     ]
    },
    {
     "name": "stdout",
     "output_type": "stream",
     "text": [
      "Calculating performance metrics...\n",
      "Measuring prediction performance...\n"
     ]
    },
    {
     "name": "stdout",
     "output_type": "stream",
     "text": [
      "Saving model...\n",
      "Model size: 313.49 KB\n",
      "\n",
      "Results for barrierthingwaysorted, Sample Size: 1000\n",
      "Grid Search Time: 0.00s, Training Time: 8.49s\n",
      "XGBoost Parameters: {'learning_rate': 0.3, 'max_depth': 7, 'n_estimators': 200}\n",
      "Performance: R² = 0.7715, MAE = 738160.08, MAPE = 2269.34%\n",
      "q-score: 23.07\n",
      "Prediction time: 6.7462 μs/sample\n",
      "I/O: Reads=0.000000, Writes=0.000000\n",
      "--------------------------------------------------------------------------------\n",
      "Saving results for barrierthingwaysorted...\n"
     ]
    },
    {
     "name": "stdout",
     "output_type": "stream",
     "text": [
      "Memory usage: 1619.00 MB\n",
      "\n",
      "Processing dataset: cyclewaythingwaysorted\n",
      "Universe boundaries for cyclewaythingwaysorted: (-175.2093065, -75.1027861, 176.92582230000002, 71.0488105)\n",
      "Loading data from ../large_files/resultsDistance/cyclewaythingwaysorted_results.csv\n"
     ]
    },
    {
     "name": "stdout",
     "output_type": "stream",
     "text": [
      "Parsing object coordinates...\n"
     ]
    },
    {
     "name": "stdout",
     "output_type": "stream",
     "text": [
      "\n",
      "Basic statistics for cyclewaythingwaysorted dataset:\n",
      "Max count: 5317936.0\n",
      "Min count: 0.0\n",
      "Mean count: 503879.05\n",
      "Median count: 222046.00\n",
      "Total samples: 1067063\n",
      "\n",
      "Calculating object features...\n",
      "Splitting data into train and test sets...\n"
     ]
    },
    {
     "name": "stdout",
     "output_type": "stream",
     "text": [
      "Training set size: 853650\n",
      "\n",
      "Training with sample size: 853650\n",
      "Memory usage: 1014.41 MB\n",
      "Performing grid search for optimal parameters...\n",
      "Fitting 3 folds for each of 27 candidates, totalling 81 fits\n"
     ]
    },
    {
     "name": "stdout",
     "output_type": "stream",
     "text": [
      "Grid search complete in 1804.85s\n",
      "Best parameters: {'learning_rate': 0.3, 'max_depth': 7, 'n_estimators': 200}\n",
      "Training XGBoost model...\n"
     ]
    },
    {
     "name": "stdout",
     "output_type": "stream",
     "text": [
      "Making predictions...\n"
     ]
    },
    {
     "name": "stdout",
     "output_type": "stream",
     "text": [
      "Calculating performance metrics...\n",
      "Measuring prediction performance...\n"
     ]
    },
    {
     "name": "stdout",
     "output_type": "stream",
     "text": [
      "Saving model...\n",
      "Model size: 597.43 KB\n",
      "\n",
      "Results for cyclewaythingwaysorted, Sample Size: 853650\n",
      "Grid Search Time: 1804.85s, Training Time: 52.90s\n",
      "XGBoost Parameters: {'learning_rate': 0.3, 'max_depth': 7, 'n_estimators': 200}\n",
      "Performance: R² = 0.9882, MAE = 39336.78, MAPE = 570.40%\n",
      "q-score: 6.83\n",
      "Prediction time: 8.3521 μs/sample\n",
      "I/O: Reads=0.000000, Writes=0.000000\n",
      "--------------------------------------------------------------------------------\n",
      "Generating prediction scatter plot...\n"
     ]
    },
    {
     "name": "stdout",
     "output_type": "stream",
     "text": [
      "Generating feature importance plot...\n",
      "Generating side-by-side comparison plot...\n"
     ]
    },
    {
     "name": "stdout",
     "output_type": "stream",
     "text": [
      "\n",
      "Training with sample size: 500000\n",
      "Memory usage: 966.99 MB\n",
      "Using best parameters from max scale: {'learning_rate': 0.3, 'max_depth': 7, 'n_estimators': 200}\n",
      "Training XGBoost model...\n"
     ]
    },
    {
     "name": "stdout",
     "output_type": "stream",
     "text": [
      "Making predictions...\n",
      "Calculating performance metrics...\n",
      "Measuring prediction performance...\n"
     ]
    },
    {
     "name": "stdout",
     "output_type": "stream",
     "text": [
      "Saving model...\n",
      "Model size: 591.56 KB\n",
      "\n",
      "Results for cyclewaythingwaysorted, Sample Size: 500000\n",
      "Grid Search Time: 0.00s, Training Time: 34.68s\n",
      "XGBoost Parameters: {'learning_rate': 0.3, 'max_depth': 7, 'n_estimators': 200}\n",
      "Performance: R² = 0.9870, MAE = 40416.83, MAPE = 614.73%\n",
      "q-score: 7.29\n",
      "Prediction time: 7.0440 μs/sample\n",
      "I/O: Reads=0.000000, Writes=0.000000\n",
      "--------------------------------------------------------------------------------\n",
      "\n",
      "Training with sample size: 100000\n",
      "Memory usage: 966.99 MB\n",
      "Using best parameters from max scale: {'learning_rate': 0.3, 'max_depth': 7, 'n_estimators': 200}\n",
      "Training XGBoost model...\n"
     ]
    },
    {
     "name": "stdout",
     "output_type": "stream",
     "text": [
      "Making predictions...\n",
      "Calculating performance metrics...\n",
      "Measuring prediction performance...\n"
     ]
    },
    {
     "name": "stdout",
     "output_type": "stream",
     "text": [
      "Saving model...\n",
      "Model size: 553.13 KB\n",
      "\n",
      "Results for cyclewaythingwaysorted, Sample Size: 100000\n",
      "Grid Search Time: 0.00s, Training Time: 17.19s\n",
      "XGBoost Parameters: {'learning_rate': 0.3, 'max_depth': 7, 'n_estimators': 200}\n",
      "Performance: R² = 0.9791, MAE = 46717.19, MAPE = 626.39%\n",
      "q-score: 7.36\n",
      "Prediction time: 7.0723 μs/sample\n",
      "I/O: Reads=0.000000, Writes=0.000000\n",
      "--------------------------------------------------------------------------------\n",
      "\n",
      "Training with sample size: 50000\n",
      "Memory usage: 966.99 MB\n",
      "Using best parameters from max scale: {'learning_rate': 0.3, 'max_depth': 7, 'n_estimators': 200}\n",
      "Training XGBoost model...\n"
     ]
    },
    {
     "name": "stdout",
     "output_type": "stream",
     "text": [
      "Making predictions...\n",
      "Calculating performance metrics...\n",
      "Measuring prediction performance...\n"
     ]
    },
    {
     "name": "stdout",
     "output_type": "stream",
     "text": [
      "Saving model...\n",
      "Model size: 536.36 KB\n",
      "\n",
      "Results for cyclewaythingwaysorted, Sample Size: 50000\n",
      "Grid Search Time: 0.00s, Training Time: 14.54s\n",
      "XGBoost Parameters: {'learning_rate': 0.3, 'max_depth': 7, 'n_estimators': 200}\n",
      "Performance: R² = 0.9702, MAE = 52020.27, MAPE = 657.84%\n",
      "q-score: 7.40\n",
      "Prediction time: 6.8519 μs/sample\n",
      "I/O: Reads=0.000000, Writes=0.000000\n",
      "--------------------------------------------------------------------------------\n",
      "\n",
      "Training with sample size: 10000\n",
      "Memory usage: 966.99 MB\n",
      "Using best parameters from max scale: {'learning_rate': 0.3, 'max_depth': 7, 'n_estimators': 200}\n",
      "Training XGBoost model...\n"
     ]
    },
    {
     "name": "stdout",
     "output_type": "stream",
     "text": [
      "Making predictions...\n",
      "Calculating performance metrics...\n",
      "Measuring prediction performance...\n"
     ]
    },
    {
     "name": "stdout",
     "output_type": "stream",
     "text": [
      "Saving model...\n",
      "Model size: 468.45 KB\n",
      "\n",
      "Results for cyclewaythingwaysorted, Sample Size: 10000\n",
      "Grid Search Time: 0.00s, Training Time: 11.25s\n",
      "XGBoost Parameters: {'learning_rate': 0.3, 'max_depth': 7, 'n_estimators': 200}\n",
      "Performance: R² = 0.9295, MAE = 76162.38, MAPE = 1088.72%\n",
      "q-score: 11.65\n",
      "Prediction time: 6.1349 μs/sample\n",
      "I/O: Reads=0.000000, Writes=0.000000\n",
      "--------------------------------------------------------------------------------\n",
      "\n",
      "Training with sample size: 5000\n",
      "Memory usage: 966.99 MB\n",
      "Using best parameters from max scale: {'learning_rate': 0.3, 'max_depth': 7, 'n_estimators': 200}\n",
      "Training XGBoost model...\n"
     ]
    },
    {
     "name": "stdout",
     "output_type": "stream",
     "text": [
      "Making predictions...\n",
      "Calculating performance metrics...\n",
      "Measuring prediction performance...\n"
     ]
    },
    {
     "name": "stdout",
     "output_type": "stream",
     "text": [
      "Saving model...\n",
      "Model size: 428.41 KB\n",
      "\n",
      "Results for cyclewaythingwaysorted, Sample Size: 5000\n",
      "Grid Search Time: 0.00s, Training Time: 10.56s\n",
      "XGBoost Parameters: {'learning_rate': 0.3, 'max_depth': 7, 'n_estimators': 200}\n",
      "Performance: R² = 0.8943, MAE = 94983.36, MAPE = 1089.10%\n",
      "q-score: 11.78\n",
      "Prediction time: 8.1695 μs/sample\n",
      "I/O: Reads=0.000000, Writes=0.000000\n",
      "--------------------------------------------------------------------------------\n",
      "\n",
      "Training with sample size: 1000\n",
      "Memory usage: 966.99 MB\n",
      "Using best parameters from max scale: {'learning_rate': 0.3, 'max_depth': 7, 'n_estimators': 200}\n",
      "Training XGBoost model...\n"
     ]
    },
    {
     "name": "stdout",
     "output_type": "stream",
     "text": [
      "Making predictions...\n",
      "Calculating performance metrics...\n",
      "Measuring prediction performance...\n"
     ]
    },
    {
     "name": "stdout",
     "output_type": "stream",
     "text": [
      "Saving model...\n",
      "Model size: 309.67 KB\n",
      "\n",
      "Results for cyclewaythingwaysorted, Sample Size: 1000\n",
      "Grid Search Time: 0.00s, Training Time: 8.29s\n",
      "XGBoost Parameters: {'learning_rate': 0.3, 'max_depth': 7, 'n_estimators': 200}\n",
      "Performance: R² = 0.7875, MAE = 147100.50, MAPE = 2067.65%\n",
      "q-score: 21.53\n",
      "Prediction time: 6.3806 μs/sample\n",
      "I/O: Reads=0.000000, Writes=0.000000\n",
      "--------------------------------------------------------------------------------\n",
      "Saving results for cyclewaythingwaysorted...\n"
     ]
    },
    {
     "name": "stdout",
     "output_type": "stream",
     "text": [
      "Memory usage: 966.99 MB\n",
      "\n",
      "Processing dataset: zcta5\n",
      "Universe boundaries for zcta5: (-176.684744, -14.373776, 145.830505, 71.341324)\n",
      "Loading data from ../large_files/resultsDistance/zcta5_results.csv\n"
     ]
    },
    {
     "name": "stdout",
     "output_type": "stream",
     "text": [
      "Parsing object coordinates...\n",
      "\n",
      "Basic statistics for zcta5 dataset:\n",
      "Max count: 31899.0\n",
      "Min count: 0.0\n",
      "Mean count: 5892.11\n",
      "Median count: 4178.50\n",
      "Total samples: 6626\n",
      "\n",
      "Calculating object features...\n",
      "Splitting data into train and test sets...\n",
      "Training set size: 5300\n",
      "\n",
      "Training with sample size: 5300\n",
      "Memory usage: 877.44 MB\n",
      "Performing grid search for optimal parameters...\n",
      "Fitting 3 folds for each of 27 candidates, totalling 81 fits\n"
     ]
    },
    {
     "name": "stdout",
     "output_type": "stream",
     "text": [
      "Grid search complete in 265.66s\n",
      "Best parameters: {'learning_rate': 0.1, 'max_depth': 7, 'n_estimators': 200}\n",
      "Training XGBoost model...\n"
     ]
    },
    {
     "name": "stdout",
     "output_type": "stream",
     "text": [
      "Making predictions...\n",
      "Calculating performance metrics...\n",
      "Measuring prediction performance...\n",
      "Saving model...\n",
      "Model size: 455.02 KB\n",
      "\n",
      "Results for zcta5, Sample Size: 5300\n",
      "Grid Search Time: 265.66s, Training Time: 10.80s\n",
      "XGBoost Parameters: {'learning_rate': 0.1, 'max_depth': 7, 'n_estimators': 200}\n",
      "Performance: R² = 0.9641, MAE = 509.21, MAPE = 121.85%\n",
      "q-score: 2.19\n",
      "Prediction time: 28.4180 μs/sample\n",
      "I/O: Reads=0.000000, Writes=0.000000\n",
      "--------------------------------------------------------------------------------\n",
      "Generating prediction scatter plot...\n"
     ]
    },
    {
     "name": "stdout",
     "output_type": "stream",
     "text": [
      "Generating feature importance plot...\n",
      "Generating side-by-side comparison plot...\n"
     ]
    },
    {
     "name": "stdout",
     "output_type": "stream",
     "text": [
      "\n",
      "Training with sample size: 5000\n",
      "Memory usage: 877.44 MB\n",
      "Using best parameters from max scale: {'learning_rate': 0.1, 'max_depth': 7, 'n_estimators': 200}\n",
      "Training XGBoost model...\n"
     ]
    },
    {
     "name": "stdout",
     "output_type": "stream",
     "text": [
      "Making predictions...\n",
      "Calculating performance metrics...\n",
      "Measuring prediction performance...\n",
      "Saving model...\n",
      "Model size: 450.60 KB\n",
      "\n",
      "Results for zcta5, Sample Size: 5000\n",
      "Grid Search Time: 0.00s, Training Time: 10.28s\n",
      "XGBoost Parameters: {'learning_rate': 0.1, 'max_depth': 7, 'n_estimators': 200}\n",
      "Performance: R² = 0.9617, MAE = 527.48, MAPE = 136.70%\n",
      "q-score: 2.38\n",
      "Prediction time: 33.3418 μs/sample\n",
      "I/O: Reads=0.000000, Writes=0.000000\n",
      "--------------------------------------------------------------------------------\n",
      "\n",
      "Training with sample size: 1000\n",
      "Memory usage: 877.44 MB\n",
      "Using best parameters from max scale: {'learning_rate': 0.1, 'max_depth': 7, 'n_estimators': 200}\n",
      "Training XGBoost model...\n"
     ]
    },
    {
     "name": "stdout",
     "output_type": "stream",
     "text": [
      "Making predictions...\n",
      "Calculating performance metrics...\n",
      "Measuring prediction performance...\n",
      "Saving model...\n",
      "Model size: 333.03 KB\n",
      "\n",
      "Results for zcta5, Sample Size: 1000\n",
      "Grid Search Time: 0.00s, Training Time: 8.25s\n",
      "XGBoost Parameters: {'learning_rate': 0.1, 'max_depth': 7, 'n_estimators': 200}\n",
      "Performance: R² = 0.8964, MAE = 925.93, MAPE = 191.36%\n",
      "q-score: 4.68\n",
      "Prediction time: 27.8569 μs/sample\n",
      "I/O: Reads=0.000000, Writes=0.000000\n",
      "--------------------------------------------------------------------------------\n",
      "Saving results for zcta5...\n"
     ]
    },
    {
     "name": "stdout",
     "output_type": "stream",
     "text": [
      "Memory usage: 877.44 MB\n",
      "\n",
      "Processing dataset: aerowaythingnodesorted\n",
      "Universe boundaries for aerowaythingnodesorted: (-179.88088960000002, -90.0, 179.951004, 83.08333590000001)\n",
      "Loading data from ../large_files/resultsDistance/aerowaythingnodesorted_results.csv\n",
      "Parsing object coordinates...\n",
      "\n",
      "Basic statistics for aerowaythingnodesorted dataset:\n",
      "Max count: 74280.0\n",
      "Min count: 0.0\n",
      "Mean count: 4340.59\n",
      "Median count: 2002.00\n",
      "Total samples: 15843\n",
      "\n",
      "Calculating object features...\n",
      "Splitting data into train and test sets...\n",
      "Training set size: 12674\n",
      "\n",
      "Training with sample size: 12674\n",
      "Memory usage: 877.44 MB\n",
      "Performing grid search for optimal parameters...\n",
      "Fitting 3 folds for each of 27 candidates, totalling 81 fits\n"
     ]
    },
    {
     "name": "stdout",
     "output_type": "stream",
     "text": [
      "Grid search complete in 291.73s\n",
      "Best parameters: {'learning_rate': 0.1, 'max_depth': 7, 'n_estimators': 200}\n",
      "Training XGBoost model...\n"
     ]
    },
    {
     "name": "stdout",
     "output_type": "stream",
     "text": [
      "Making predictions...\n",
      "Calculating performance metrics...\n",
      "Measuring prediction performance...\n",
      "Saving model...\n",
      "Model size: 474.81 KB\n",
      "\n",
      "Results for aerowaythingnodesorted, Sample Size: 12674\n",
      "Grid Search Time: 291.73s, Training Time: 11.20s\n",
      "XGBoost Parameters: {'learning_rate': 0.1, 'max_depth': 7, 'n_estimators': 200}\n",
      "Performance: R² = 0.9519, MAE = 630.77, MAPE = 142.18%\n",
      "q-score: 2.52\n",
      "Prediction time: 17.7679 μs/sample\n",
      "I/O: Reads=0.000000, Writes=0.000000\n",
      "--------------------------------------------------------------------------------\n",
      "Generating prediction scatter plot...\n"
     ]
    },
    {
     "name": "stdout",
     "output_type": "stream",
     "text": [
      "Generating feature importance plot...\n",
      "Generating side-by-side comparison plot...\n"
     ]
    },
    {
     "name": "stdout",
     "output_type": "stream",
     "text": [
      "\n",
      "Training with sample size: 10000\n",
      "Memory usage: 877.44 MB\n",
      "Using best parameters from max scale: {'learning_rate': 0.1, 'max_depth': 7, 'n_estimators': 200}\n",
      "Training XGBoost model...\n"
     ]
    },
    {
     "name": "stdout",
     "output_type": "stream",
     "text": [
      "Making predictions...\n",
      "Calculating performance metrics...\n",
      "Measuring prediction performance...\n",
      "Saving model...\n",
      "Model size: 471.47 KB\n",
      "\n",
      "Results for aerowaythingnodesorted, Sample Size: 10000\n",
      "Grid Search Time: 0.00s, Training Time: 10.17s\n",
      "XGBoost Parameters: {'learning_rate': 0.1, 'max_depth': 7, 'n_estimators': 200}\n",
      "Performance: R² = 0.9415, MAE = 670.07, MAPE = 177.47%\n",
      "q-score: 2.93\n",
      "Prediction time: 22.1683 μs/sample\n",
      "I/O: Reads=0.000000, Writes=0.000000\n",
      "--------------------------------------------------------------------------------\n",
      "\n",
      "Training with sample size: 5000\n",
      "Memory usage: 877.44 MB\n",
      "Using best parameters from max scale: {'learning_rate': 0.1, 'max_depth': 7, 'n_estimators': 200}\n",
      "Training XGBoost model...\n"
     ]
    },
    {
     "name": "stdout",
     "output_type": "stream",
     "text": [
      "Making predictions...\n",
      "Calculating performance metrics...\n",
      "Measuring prediction performance...\n",
      "Saving model...\n",
      "Model size: 411.84 KB\n",
      "\n",
      "Results for aerowaythingnodesorted, Sample Size: 5000\n",
      "Grid Search Time: 0.00s, Training Time: 9.64s\n",
      "XGBoost Parameters: {'learning_rate': 0.1, 'max_depth': 7, 'n_estimators': 200}\n",
      "Performance: R² = 0.9155, MAE = 798.81, MAPE = 164.06%\n",
      "q-score: 2.93\n",
      "Prediction time: 15.5102 μs/sample\n",
      "I/O: Reads=0.000000, Writes=0.000000\n",
      "--------------------------------------------------------------------------------\n",
      "\n",
      "Training with sample size: 1000\n",
      "Memory usage: 877.44 MB\n",
      "Using best parameters from max scale: {'learning_rate': 0.1, 'max_depth': 7, 'n_estimators': 200}\n",
      "Training XGBoost model...\n"
     ]
    },
    {
     "name": "stdout",
     "output_type": "stream",
     "text": [
      "Making predictions...\n",
      "Calculating performance metrics...\n",
      "Measuring prediction performance...\n",
      "Saving model...\n",
      "Model size: 286.00 KB\n",
      "\n",
      "Results for aerowaythingnodesorted, Sample Size: 1000\n",
      "Grid Search Time: 0.00s, Training Time: 7.38s\n",
      "XGBoost Parameters: {'learning_rate': 0.1, 'max_depth': 7, 'n_estimators': 200}\n",
      "Performance: R² = 0.7687, MAE = 1268.11, MAPE = 306.68%\n",
      "q-score: 4.26\n",
      "Prediction time: 13.6384 μs/sample\n",
      "I/O: Reads=0.000000, Writes=0.000000\n",
      "--------------------------------------------------------------------------------\n",
      "Saving results for aerowaythingnodesorted...\n"
     ]
    },
    {
     "name": "stdout",
     "output_type": "stream",
     "text": [
      "Memory usage: 877.44 MB\n",
      "\n",
      "Processing dataset: leisurewaysorted\n",
      "Universe boundaries for leisurewaysorted: (-179.8728244, -89.6957847, 179.8091866, 81.0280175)\n",
      "Loading data from ../large_files/resultsDistance/leisurewaysorted_results.csv\n"
     ]
    },
    {
     "name": "stdout",
     "output_type": "stream",
     "text": [
      "Parsing object coordinates...\n"
     ]
    },
    {
     "name": "stdout",
     "output_type": "stream",
     "text": [
      "\n",
      "Basic statistics for leisurewaysorted dataset:\n",
      "Max count: 29357364.0\n",
      "Min count: 0.0\n",
      "Mean count: 2752172.81\n",
      "Median count: 1238338.00\n",
      "Total samples: 5876570\n",
      "\n",
      "Calculating object features...\n"
     ]
    },
    {
     "name": "stdout",
     "output_type": "stream",
     "text": [
      "Splitting data into train and test sets...\n"
     ]
    },
    {
     "name": "stdout",
     "output_type": "stream",
     "text": [
      "Training set size: 4701256\n",
      "\n",
      "Training with sample size: 4701256\n",
      "Memory usage: 2364.93 MB\n",
      "Performing grid search for optimal parameters...\n",
      "Fitting 3 folds for each of 27 candidates, totalling 81 fits\n"
     ]
    },
    {
     "name": "stdout",
     "output_type": "stream",
     "text": [
      "Grid search complete in 9264.87s\n",
      "Best parameters: {'learning_rate': 0.3, 'max_depth': 7, 'n_estimators': 200}\n",
      "Training XGBoost model...\n"
     ]
    },
    {
     "name": "stdout",
     "output_type": "stream",
     "text": [
      "Making predictions...\n"
     ]
    },
    {
     "name": "stdout",
     "output_type": "stream",
     "text": [
      "Calculating performance metrics...\n",
      "Measuring prediction performance...\n"
     ]
    },
    {
     "name": "stdout",
     "output_type": "stream",
     "text": [
      "Saving model...\n",
      "Model size: 619.47 KB\n",
      "\n",
      "Results for leisurewaysorted, Sample Size: 4701256\n",
      "Grid Search Time: 9264.87s, Training Time: 399.29s\n",
      "XGBoost Parameters: {'learning_rate': 0.3, 'max_depth': 7, 'n_estimators': 200}\n",
      "Performance: R² = 0.9899, MAE = 200130.08, MAPE = 549.94%\n",
      "q-score: 6.88\n",
      "Prediction time: 8.5167 μs/sample\n",
      "I/O: Reads=0.000000, Writes=0.000000\n",
      "--------------------------------------------------------------------------------\n",
      "Generating prediction scatter plot...\n"
     ]
    },
    {
     "name": "stdout",
     "output_type": "stream",
     "text": [
      "Generating feature importance plot...\n",
      "Generating side-by-side comparison plot...\n"
     ]
    },
    {
     "name": "stdout",
     "output_type": "stream",
     "text": [
      "\n",
      "Training with sample size: 4000000\n",
      "Memory usage: 2421.00 MB\n",
      "Using best parameters from max scale: {'learning_rate': 0.3, 'max_depth': 7, 'n_estimators': 200}\n",
      "Training XGBoost model...\n"
     ]
    },
    {
     "name": "stdout",
     "output_type": "stream",
     "text": [
      "Making predictions...\n"
     ]
    },
    {
     "name": "stdout",
     "output_type": "stream",
     "text": [
      "Calculating performance metrics...\n",
      "Measuring prediction performance...\n"
     ]
    },
    {
     "name": "stdout",
     "output_type": "stream",
     "text": [
      "Saving model...\n",
      "Model size: 617.19 KB\n",
      "\n",
      "Results for leisurewaysorted, Sample Size: 4000000\n",
      "Grid Search Time: 0.00s, Training Time: 250.57s\n",
      "XGBoost Parameters: {'learning_rate': 0.3, 'max_depth': 7, 'n_estimators': 200}\n",
      "Performance: R² = 0.9898, MAE = 202142.21, MAPE = 513.30%\n",
      "q-score: 6.38\n",
      "Prediction time: 6.9906 μs/sample\n",
      "I/O: Reads=0.000000, Writes=0.000000\n",
      "--------------------------------------------------------------------------------\n",
      "\n",
      "Training with sample size: 3000000\n",
      "Memory usage: 2433.96 MB\n",
      "Using best parameters from max scale: {'learning_rate': 0.3, 'max_depth': 7, 'n_estimators': 200}\n",
      "Training XGBoost model...\n"
     ]
    },
    {
     "name": "stdout",
     "output_type": "stream",
     "text": [
      "Making predictions...\n"
     ]
    },
    {
     "name": "stdout",
     "output_type": "stream",
     "text": [
      "Calculating performance metrics...\n",
      "Measuring prediction performance...\n"
     ]
    },
    {
     "name": "stdout",
     "output_type": "stream",
     "text": [
      "Saving model...\n",
      "Model size: 616.05 KB\n",
      "\n",
      "Results for leisurewaysorted, Sample Size: 3000000\n",
      "Grid Search Time: 0.00s, Training Time: 182.41s\n",
      "XGBoost Parameters: {'learning_rate': 0.3, 'max_depth': 7, 'n_estimators': 200}\n",
      "Performance: R² = 0.9896, MAE = 200962.49, MAPE = 533.51%\n",
      "q-score: 6.46\n",
      "Prediction time: 8.4049 μs/sample\n",
      "I/O: Reads=0.000000, Writes=0.000000\n",
      "--------------------------------------------------------------------------------\n",
      "\n",
      "Training with sample size: 2000000\n",
      "Memory usage: 2441.30 MB\n",
      "Using best parameters from max scale: {'learning_rate': 0.3, 'max_depth': 7, 'n_estimators': 200}\n",
      "Training XGBoost model...\n"
     ]
    },
    {
     "name": "stdout",
     "output_type": "stream",
     "text": [
      "Making predictions...\n"
     ]
    },
    {
     "name": "stdout",
     "output_type": "stream",
     "text": [
      "Calculating performance metrics...\n",
      "Measuring prediction performance...\n"
     ]
    },
    {
     "name": "stdout",
     "output_type": "stream",
     "text": [
      "Saving model...\n",
      "Model size: 608.67 KB\n",
      "\n",
      "Results for leisurewaysorted, Sample Size: 2000000\n",
      "Grid Search Time: 0.00s, Training Time: 117.10s\n",
      "XGBoost Parameters: {'learning_rate': 0.3, 'max_depth': 7, 'n_estimators': 200}\n",
      "Performance: R² = 0.9892, MAE = 203699.51, MAPE = 747.38%\n",
      "q-score: 8.64\n",
      "Prediction time: 8.5044 μs/sample\n",
      "I/O: Reads=0.000000, Writes=0.000000\n",
      "--------------------------------------------------------------------------------\n",
      "\n",
      "Training with sample size: 1000000\n",
      "Memory usage: 2441.33 MB\n",
      "Using best parameters from max scale: {'learning_rate': 0.3, 'max_depth': 7, 'n_estimators': 200}\n",
      "Training XGBoost model...\n"
     ]
    },
    {
     "name": "stdout",
     "output_type": "stream",
     "text": [
      "Making predictions...\n"
     ]
    },
    {
     "name": "stdout",
     "output_type": "stream",
     "text": [
      "Calculating performance metrics...\n",
      "Measuring prediction performance...\n"
     ]
    },
    {
     "name": "stdout",
     "output_type": "stream",
     "text": [
      "Saving model...\n",
      "Model size: 599.34 KB\n",
      "\n",
      "Results for leisurewaysorted, Sample Size: 1000000\n",
      "Grid Search Time: 0.00s, Training Time: 61.58s\n",
      "XGBoost Parameters: {'learning_rate': 0.3, 'max_depth': 7, 'n_estimators': 200}\n",
      "Performance: R² = 0.9884, MAE = 207093.10, MAPE = 598.10%\n",
      "q-score: 7.19\n",
      "Prediction time: 6.8258 μs/sample\n",
      "I/O: Reads=0.000005, Writes=0.000000\n",
      "--------------------------------------------------------------------------------\n",
      "\n",
      "Training with sample size: 500000\n",
      "Memory usage: 2443.65 MB\n",
      "Using best parameters from max scale: {'learning_rate': 0.3, 'max_depth': 7, 'n_estimators': 200}\n",
      "Training XGBoost model...\n"
     ]
    },
    {
     "name": "stdout",
     "output_type": "stream",
     "text": [
      "Making predictions...\n"
     ]
    },
    {
     "name": "stdout",
     "output_type": "stream",
     "text": [
      "Calculating performance metrics...\n",
      "Measuring prediction performance...\n"
     ]
    },
    {
     "name": "stdout",
     "output_type": "stream",
     "text": [
      "Saving model...\n",
      "Model size: 589.72 KB\n",
      "\n",
      "Results for leisurewaysorted, Sample Size: 500000\n",
      "Grid Search Time: 0.00s, Training Time: 33.39s\n",
      "XGBoost Parameters: {'learning_rate': 0.3, 'max_depth': 7, 'n_estimators': 200}\n",
      "Performance: R² = 0.9870, MAE = 212278.21, MAPE = 579.17%\n",
      "q-score: 7.16\n",
      "Prediction time: 7.7642 μs/sample\n",
      "I/O: Reads=0.000000, Writes=0.000000\n",
      "--------------------------------------------------------------------------------\n",
      "\n",
      "Training with sample size: 100000\n",
      "Memory usage: 2443.65 MB\n",
      "Using best parameters from max scale: {'learning_rate': 0.3, 'max_depth': 7, 'n_estimators': 200}\n",
      "Training XGBoost model...\n"
     ]
    },
    {
     "name": "stdout",
     "output_type": "stream",
     "text": [
      "Making predictions...\n"
     ]
    },
    {
     "name": "stdout",
     "output_type": "stream",
     "text": [
      "Calculating performance metrics...\n",
      "Measuring prediction performance...\n"
     ]
    },
    {
     "name": "stdout",
     "output_type": "stream",
     "text": [
      "Saving model...\n",
      "Model size: 553.08 KB\n",
      "\n",
      "Results for leisurewaysorted, Sample Size: 100000\n",
      "Grid Search Time: 0.00s, Training Time: 16.27s\n",
      "XGBoost Parameters: {'learning_rate': 0.3, 'max_depth': 7, 'n_estimators': 200}\n",
      "Performance: R² = 0.9771, MAE = 251058.32, MAPE = 788.14%\n",
      "q-score: 9.65\n",
      "Prediction time: 7.8968 μs/sample\n",
      "I/O: Reads=0.000000, Writes=0.000002\n",
      "--------------------------------------------------------------------------------\n",
      "\n",
      "Training with sample size: 50000\n",
      "Memory usage: 2443.65 MB\n",
      "Using best parameters from max scale: {'learning_rate': 0.3, 'max_depth': 7, 'n_estimators': 200}\n",
      "Training XGBoost model...\n"
     ]
    },
    {
     "name": "stdout",
     "output_type": "stream",
     "text": [
      "Making predictions...\n"
     ]
    },
    {
     "name": "stdout",
     "output_type": "stream",
     "text": [
      "Calculating performance metrics...\n",
      "Measuring prediction performance...\n"
     ]
    },
    {
     "name": "stdout",
     "output_type": "stream",
     "text": [
      "Saving model...\n",
      "Model size: 533.77 KB\n",
      "\n",
      "Results for leisurewaysorted, Sample Size: 50000\n",
      "Grid Search Time: 0.00s, Training Time: 14.31s\n",
      "XGBoost Parameters: {'learning_rate': 0.3, 'max_depth': 7, 'n_estimators': 200}\n",
      "Performance: R² = 0.9689, MAE = 281929.85, MAPE = 926.47%\n",
      "q-score: 23.16\n",
      "Prediction time: 8.4114 μs/sample\n",
      "I/O: Reads=0.000000, Writes=0.000001\n",
      "--------------------------------------------------------------------------------\n",
      "\n",
      "Training with sample size: 10000\n",
      "Memory usage: 2443.65 MB\n",
      "Using best parameters from max scale: {'learning_rate': 0.3, 'max_depth': 7, 'n_estimators': 200}\n",
      "Training XGBoost model...\n"
     ]
    },
    {
     "name": "stdout",
     "output_type": "stream",
     "text": [
      "Making predictions...\n"
     ]
    },
    {
     "name": "stdout",
     "output_type": "stream",
     "text": [
      "Calculating performance metrics...\n",
      "Measuring prediction performance...\n"
     ]
    },
    {
     "name": "stdout",
     "output_type": "stream",
     "text": [
      "Saving model...\n",
      "Model size: 474.10 KB\n",
      "\n",
      "Results for leisurewaysorted, Sample Size: 10000\n",
      "Grid Search Time: 0.00s, Training Time: 10.76s\n",
      "XGBoost Parameters: {'learning_rate': 0.3, 'max_depth': 7, 'n_estimators': 200}\n",
      "Performance: R² = 0.9258, MAE = 416279.44, MAPE = 1437.09%\n",
      "q-score: 16.02\n",
      "Prediction time: 8.4074 μs/sample\n",
      "I/O: Reads=0.000000, Writes=0.000001\n",
      "--------------------------------------------------------------------------------\n",
      "\n",
      "Training with sample size: 5000\n",
      "Memory usage: 2443.65 MB\n",
      "Using best parameters from max scale: {'learning_rate': 0.3, 'max_depth': 7, 'n_estimators': 200}\n",
      "Training XGBoost model...\n"
     ]
    },
    {
     "name": "stdout",
     "output_type": "stream",
     "text": [
      "Making predictions...\n"
     ]
    },
    {
     "name": "stdout",
     "output_type": "stream",
     "text": [
      "Calculating performance metrics...\n",
      "Measuring prediction performance...\n"
     ]
    },
    {
     "name": "stdout",
     "output_type": "stream",
     "text": [
      "Saving model...\n",
      "Model size: 439.63 KB\n",
      "\n",
      "Results for leisurewaysorted, Sample Size: 5000\n",
      "Grid Search Time: 0.00s, Training Time: 9.92s\n",
      "XGBoost Parameters: {'learning_rate': 0.3, 'max_depth': 7, 'n_estimators': 200}\n",
      "Performance: R² = 0.8925, MAE = 500097.95, MAPE = 1218.87%\n",
      "q-score: 13.20\n",
      "Prediction time: 8.4333 μs/sample\n",
      "I/O: Reads=0.000000, Writes=0.000000\n",
      "--------------------------------------------------------------------------------\n",
      "\n",
      "Training with sample size: 1000\n",
      "Memory usage: 2443.65 MB\n",
      "Using best parameters from max scale: {'learning_rate': 0.3, 'max_depth': 7, 'n_estimators': 200}\n",
      "Training XGBoost model...\n"
     ]
    },
    {
     "name": "stdout",
     "output_type": "stream",
     "text": [
      "Making predictions...\n"
     ]
    },
    {
     "name": "stdout",
     "output_type": "stream",
     "text": [
      "Calculating performance metrics...\n",
      "Measuring prediction performance...\n"
     ]
    },
    {
     "name": "stdout",
     "output_type": "stream",
     "text": [
      "Saving model...\n",
      "Model size: 302.28 KB\n",
      "\n",
      "Results for leisurewaysorted, Sample Size: 1000\n",
      "Grid Search Time: 0.00s, Training Time: 7.67s\n",
      "XGBoost Parameters: {'learning_rate': 0.3, 'max_depth': 7, 'n_estimators': 200}\n",
      "Performance: R² = 0.7778, MAE = 765179.87, MAPE = 5696.70%\n",
      "q-score: 57.51\n",
      "Prediction time: 8.7792 μs/sample\n",
      "I/O: Reads=0.000000, Writes=0.000001\n",
      "--------------------------------------------------------------------------------\n",
      "Saving results for leisurewaysorted...\n"
     ]
    },
    {
     "name": "stdout",
     "output_type": "stream",
     "text": [
      "Memory usage: 1950.56 MB\n",
      "\n",
      "Processing dataset: areawater\n",
      "Universe boundaries for areawater: (-179.231086, -14.601813, 179.859681, 71.441059)\n",
      "Loading data from ../large_files/resultsDistance/areawater_results.csv\n"
     ]
    },
    {
     "name": "stdout",
     "output_type": "stream",
     "text": [
      "Parsing object coordinates...\n"
     ]
    },
    {
     "name": "stdout",
     "output_type": "stream",
     "text": [
      "\n",
      "Basic statistics for areawater dataset:\n",
      "Max count: 2292056.0\n",
      "Min count: 0.0\n",
      "Mean count: 483232.05\n",
      "Median count: 331295.00\n",
      "Total samples: 458552\n",
      "\n",
      "Calculating object features...\n",
      "Splitting data into train and test sets...\n",
      "Training set size: 366841\n",
      "\n",
      "Training with sample size: 366841\n",
      "Memory usage: 967.14 MB\n",
      "Performing grid search for optimal parameters...\n",
      "Fitting 3 folds for each of 27 candidates, totalling 81 fits\n"
     ]
    },
    {
     "name": "stdout",
     "output_type": "stream",
     "text": [
      "Grid search complete in 1033.65s\n",
      "Best parameters: {'learning_rate': 0.3, 'max_depth': 7, 'n_estimators': 200}\n",
      "Training XGBoost model...\n"
     ]
    },
    {
     "name": "stdout",
     "output_type": "stream",
     "text": [
      "Making predictions...\n",
      "Calculating performance metrics...\n",
      "Measuring prediction performance...\n"
     ]
    },
    {
     "name": "stdout",
     "output_type": "stream",
     "text": [
      "Saving model...\n",
      "Model size: 602.80 KB\n",
      "\n",
      "Results for areawater, Sample Size: 366841\n",
      "Grid Search Time: 1033.65s, Training Time: 31.04s\n",
      "XGBoost Parameters: {'learning_rate': 0.3, 'max_depth': 7, 'n_estimators': 200}\n",
      "Performance: R² = 0.9958, MAE = 20004.95, MAPE = 888.10%\n",
      "q-score: 9.97\n",
      "Prediction time: 9.9822 μs/sample\n",
      "I/O: Reads=0.000000, Writes=0.000007\n",
      "--------------------------------------------------------------------------------\n",
      "Generating prediction scatter plot...\n"
     ]
    },
    {
     "name": "stdout",
     "output_type": "stream",
     "text": [
      "Generating feature importance plot...\n",
      "Generating side-by-side comparison plot...\n"
     ]
    },
    {
     "name": "stdout",
     "output_type": "stream",
     "text": [
      "\n",
      "Training with sample size: 100000\n",
      "Memory usage: 948.79 MB\n",
      "Using best parameters from max scale: {'learning_rate': 0.3, 'max_depth': 7, 'n_estimators': 200}\n",
      "Training XGBoost model...\n"
     ]
    },
    {
     "name": "stdout",
     "output_type": "stream",
     "text": [
      "Making predictions...\n",
      "Calculating performance metrics...\n",
      "Measuring prediction performance...\n"
     ]
    },
    {
     "name": "stdout",
     "output_type": "stream",
     "text": [
      "Saving model...\n",
      "Model size: 579.79 KB\n",
      "\n",
      "Results for areawater, Sample Size: 100000\n",
      "Grid Search Time: 0.00s, Training Time: 17.54s\n",
      "XGBoost Parameters: {'learning_rate': 0.3, 'max_depth': 7, 'n_estimators': 200}\n",
      "Performance: R² = 0.9941, MAE = 22493.45, MAPE = 745.89%\n",
      "q-score: 8.06\n",
      "Prediction time: 9.5553 μs/sample\n",
      "I/O: Reads=0.000000, Writes=0.000000\n",
      "--------------------------------------------------------------------------------\n",
      "\n",
      "Training with sample size: 50000\n",
      "Memory usage: 948.79 MB\n",
      "Using best parameters from max scale: {'learning_rate': 0.3, 'max_depth': 7, 'n_estimators': 200}\n",
      "Training XGBoost model...\n"
     ]
    },
    {
     "name": "stdout",
     "output_type": "stream",
     "text": [
      "Making predictions...\n",
      "Calculating performance metrics...\n",
      "Measuring prediction performance...\n"
     ]
    },
    {
     "name": "stdout",
     "output_type": "stream",
     "text": [
      "Saving model...\n",
      "Model size: 558.17 KB\n",
      "\n",
      "Results for areawater, Sample Size: 50000\n",
      "Grid Search Time: 0.00s, Training Time: 14.32s\n",
      "XGBoost Parameters: {'learning_rate': 0.3, 'max_depth': 7, 'n_estimators': 200}\n",
      "Performance: R² = 0.9916, MAE = 25834.93, MAPE = 1159.66%\n",
      "q-score: 12.04\n",
      "Prediction time: 9.3592 μs/sample\n",
      "I/O: Reads=0.000000, Writes=0.000000\n",
      "--------------------------------------------------------------------------------\n",
      "\n",
      "Training with sample size: 10000\n",
      "Memory usage: 948.79 MB\n",
      "Using best parameters from max scale: {'learning_rate': 0.3, 'max_depth': 7, 'n_estimators': 200}\n",
      "Training XGBoost model...\n"
     ]
    },
    {
     "name": "stdout",
     "output_type": "stream",
     "text": [
      "Making predictions...\n",
      "Calculating performance metrics...\n",
      "Measuring prediction performance...\n"
     ]
    },
    {
     "name": "stdout",
     "output_type": "stream",
     "text": [
      "Saving model...\n",
      "Model size: 492.06 KB\n",
      "\n",
      "Results for areawater, Sample Size: 10000\n",
      "Grid Search Time: 0.00s, Training Time: 11.13s\n",
      "XGBoost Parameters: {'learning_rate': 0.3, 'max_depth': 7, 'n_estimators': 200}\n",
      "Performance: R² = 0.9818, MAE = 38648.20, MAPE = 2848.02%\n",
      "q-score: 29.36\n",
      "Prediction time: 8.8310 μs/sample\n",
      "I/O: Reads=0.000000, Writes=0.000000\n",
      "--------------------------------------------------------------------------------\n",
      "\n",
      "Training with sample size: 5000\n",
      "Memory usage: 948.79 MB\n",
      "Using best parameters from max scale: {'learning_rate': 0.3, 'max_depth': 7, 'n_estimators': 200}\n",
      "Training XGBoost model...\n"
     ]
    },
    {
     "name": "stdout",
     "output_type": "stream",
     "text": [
      "Making predictions...\n",
      "Calculating performance metrics...\n",
      "Measuring prediction performance...\n"
     ]
    },
    {
     "name": "stdout",
     "output_type": "stream",
     "text": [
      "Saving model...\n",
      "Model size: 447.40 KB\n",
      "\n",
      "Results for areawater, Sample Size: 5000\n",
      "Grid Search Time: 0.00s, Training Time: 10.20s\n",
      "XGBoost Parameters: {'learning_rate': 0.3, 'max_depth': 7, 'n_estimators': 200}\n",
      "Performance: R² = 0.9731, MAE = 47360.58, MAPE = 5661.10%\n",
      "q-score: 57.63\n",
      "Prediction time: 8.8562 μs/sample\n",
      "I/O: Reads=0.000000, Writes=0.000003\n",
      "--------------------------------------------------------------------------------\n",
      "\n",
      "Training with sample size: 1000\n",
      "Memory usage: 948.79 MB\n",
      "Using best parameters from max scale: {'learning_rate': 0.3, 'max_depth': 7, 'n_estimators': 200}\n",
      "Training XGBoost model...\n"
     ]
    },
    {
     "name": "stdout",
     "output_type": "stream",
     "text": [
      "Making predictions...\n",
      "Calculating performance metrics...\n",
      "Measuring prediction performance...\n"
     ]
    },
    {
     "name": "stdout",
     "output_type": "stream",
     "text": [
      "Saving model...\n",
      "Model size: 327.17 KB\n",
      "\n",
      "Results for areawater, Sample Size: 1000\n",
      "Grid Search Time: 0.00s, Training Time: 8.34s\n",
      "XGBoost Parameters: {'learning_rate': 0.3, 'max_depth': 7, 'n_estimators': 200}\n",
      "Performance: R² = 0.9085, MAE = 84279.19, MAPE = 10877.49%\n",
      "q-score: 109.35\n",
      "Prediction time: 10.1715 μs/sample\n",
      "I/O: Reads=0.000000, Writes=0.000000\n",
      "--------------------------------------------------------------------------------\n",
      "Saving results for areawater...\n"
     ]
    },
    {
     "name": "stdout",
     "output_type": "stream",
     "text": [
      "Memory usage: 948.79 MB\n",
      "\n",
      "Processing dataset: yago2\n",
      "Universe boundaries for yago2: (-179.98473, -90.0, 180.0, 90.0)\n",
      "Loading data from ../large_files/resultsDistance/yago2_results.csv\n"
     ]
    },
    {
     "name": "stdout",
     "output_type": "stream",
     "text": [
      "Parsing object coordinates...\n"
     ]
    },
    {
     "name": "stdout",
     "output_type": "stream",
     "text": [
      "\n",
      "Basic statistics for yago2 dataset:\n",
      "Max count: 4470390.0\n",
      "Min count: 0.0\n",
      "Mean count: 279738.01\n",
      "Median count: 172925.00\n",
      "Total samples: 898942\n",
      "\n",
      "Calculating object features...\n",
      "Splitting data into train and test sets...\n"
     ]
    },
    {
     "name": "stdout",
     "output_type": "stream",
     "text": [
      "Training set size: 719153\n",
      "\n",
      "Training with sample size: 719153\n",
      "Memory usage: 1012.96 MB\n",
      "Performing grid search for optimal parameters...\n",
      "Fitting 3 folds for each of 27 candidates, totalling 81 fits\n"
     ]
    },
    {
     "name": "stdout",
     "output_type": "stream",
     "text": [
      "Grid search complete in 1514.67s\n",
      "Best parameters: {'learning_rate': 0.3, 'max_depth': 7, 'n_estimators': 200}\n",
      "Training XGBoost model...\n"
     ]
    },
    {
     "name": "stdout",
     "output_type": "stream",
     "text": [
      "Making predictions...\n",
      "Calculating performance metrics...\n",
      "Measuring prediction performance...\n"
     ]
    },
    {
     "name": "stdout",
     "output_type": "stream",
     "text": [
      "Saving model...\n",
      "Model size: 588.12 KB\n",
      "\n",
      "Results for yago2, Sample Size: 719153\n",
      "Grid Search Time: 1514.67s, Training Time: 42.07s\n",
      "XGBoost Parameters: {'learning_rate': 0.3, 'max_depth': 7, 'n_estimators': 200}\n",
      "Performance: R² = 0.9840, MAE = 22452.05, MAPE = 73.56%\n",
      "q-score: 1.57\n",
      "Prediction time: 7.4548 μs/sample\n",
      "I/O: Reads=0.000000, Writes=0.000000\n",
      "--------------------------------------------------------------------------------\n",
      "Generating prediction scatter plot...\n"
     ]
    },
    {
     "name": "stdout",
     "output_type": "stream",
     "text": [
      "Generating feature importance plot...\n",
      "Generating side-by-side comparison plot...\n"
     ]
    },
    {
     "name": "stdout",
     "output_type": "stream",
     "text": [
      "\n",
      "Training with sample size: 500000\n",
      "Memory usage: 992.61 MB\n",
      "Using best parameters from max scale: {'learning_rate': 0.3, 'max_depth': 7, 'n_estimators': 200}\n",
      "Training XGBoost model...\n"
     ]
    },
    {
     "name": "stdout",
     "output_type": "stream",
     "text": [
      "Making predictions...\n",
      "Calculating performance metrics...\n",
      "Measuring prediction performance...\n"
     ]
    },
    {
     "name": "stdout",
     "output_type": "stream",
     "text": [
      "Saving model...\n",
      "Model size: 582.38 KB\n",
      "\n",
      "Results for yago2, Sample Size: 500000\n",
      "Grid Search Time: 0.00s, Training Time: 32.81s\n",
      "XGBoost Parameters: {'learning_rate': 0.3, 'max_depth': 7, 'n_estimators': 200}\n",
      "Performance: R² = 0.9830, MAE = 22957.19, MAPE = 84.56%\n",
      "q-score: 1.71\n",
      "Prediction time: 11.4047 μs/sample\n",
      "I/O: Reads=0.000000, Writes=0.000000\n",
      "--------------------------------------------------------------------------------\n",
      "\n",
      "Training with sample size: 100000\n",
      "Memory usage: 992.61 MB\n",
      "Using best parameters from max scale: {'learning_rate': 0.3, 'max_depth': 7, 'n_estimators': 200}\n",
      "Training XGBoost model...\n"
     ]
    },
    {
     "name": "stdout",
     "output_type": "stream",
     "text": [
      "Making predictions...\n",
      "Calculating performance metrics...\n",
      "Measuring prediction performance...\n"
     ]
    },
    {
     "name": "stdout",
     "output_type": "stream",
     "text": [
      "Saving model...\n",
      "Model size: 546.33 KB\n",
      "\n",
      "Results for yago2, Sample Size: 100000\n",
      "Grid Search Time: 0.00s, Training Time: 16.24s\n",
      "XGBoost Parameters: {'learning_rate': 0.3, 'max_depth': 7, 'n_estimators': 200}\n",
      "Performance: R² = 0.9730, MAE = 25657.17, MAPE = 90.99%\n",
      "q-score: 1.71\n",
      "Prediction time: 7.3116 μs/sample\n",
      "I/O: Reads=0.000000, Writes=0.000001\n",
      "--------------------------------------------------------------------------------\n",
      "\n",
      "Training with sample size: 50000\n",
      "Memory usage: 992.61 MB\n",
      "Using best parameters from max scale: {'learning_rate': 0.3, 'max_depth': 7, 'n_estimators': 200}\n",
      "Training XGBoost model...\n"
     ]
    },
    {
     "name": "stdout",
     "output_type": "stream",
     "text": [
      "Making predictions...\n",
      "Calculating performance metrics...\n",
      "Measuring prediction performance...\n"
     ]
    },
    {
     "name": "stdout",
     "output_type": "stream",
     "text": [
      "Saving model...\n",
      "Model size: 523.83 KB\n",
      "\n",
      "Results for yago2, Sample Size: 50000\n",
      "Grid Search Time: 0.00s, Training Time: 14.37s\n",
      "XGBoost Parameters: {'learning_rate': 0.3, 'max_depth': 7, 'n_estimators': 200}\n",
      "Performance: R² = 0.9640, MAE = 28481.49, MAPE = 108.69%\n",
      "q-score: 1.89\n",
      "Prediction time: 7.2425 μs/sample\n",
      "I/O: Reads=0.000000, Writes=0.000000\n",
      "--------------------------------------------------------------------------------\n",
      "\n",
      "Training with sample size: 10000\n",
      "Memory usage: 992.61 MB\n",
      "Using best parameters from max scale: {'learning_rate': 0.3, 'max_depth': 7, 'n_estimators': 200}\n",
      "Training XGBoost model...\n"
     ]
    },
    {
     "name": "stdout",
     "output_type": "stream",
     "text": [
      "Making predictions...\n",
      "Calculating performance metrics...\n",
      "Measuring prediction performance...\n"
     ]
    },
    {
     "name": "stdout",
     "output_type": "stream",
     "text": [
      "Saving model...\n",
      "Model size: 469.11 KB\n",
      "\n",
      "Results for yago2, Sample Size: 10000\n",
      "Grid Search Time: 0.00s, Training Time: 10.95s\n",
      "XGBoost Parameters: {'learning_rate': 0.3, 'max_depth': 7, 'n_estimators': 200}\n",
      "Performance: R² = 0.9279, MAE = 39713.86, MAPE = 189.16%\n",
      "q-score: 2.32\n",
      "Prediction time: 6.3116 μs/sample\n",
      "I/O: Reads=0.000000, Writes=0.000000\n",
      "--------------------------------------------------------------------------------\n",
      "\n",
      "Training with sample size: 5000\n",
      "Memory usage: 992.61 MB\n",
      "Using best parameters from max scale: {'learning_rate': 0.3, 'max_depth': 7, 'n_estimators': 200}\n",
      "Training XGBoost model...\n"
     ]
    },
    {
     "name": "stdout",
     "output_type": "stream",
     "text": [
      "Making predictions...\n",
      "Calculating performance metrics...\n",
      "Measuring prediction performance...\n"
     ]
    },
    {
     "name": "stdout",
     "output_type": "stream",
     "text": [
      "Saving model...\n",
      "Model size: 429.56 KB\n",
      "\n",
      "Results for yago2, Sample Size: 5000\n",
      "Grid Search Time: 0.00s, Training Time: 9.78s\n",
      "XGBoost Parameters: {'learning_rate': 0.3, 'max_depth': 7, 'n_estimators': 200}\n",
      "Performance: R² = 0.8995, MAE = 48066.92, MAPE = 357.20%\n",
      "q-score: 3.59\n",
      "Prediction time: 8.3739 μs/sample\n",
      "I/O: Reads=0.000000, Writes=0.000000\n",
      "--------------------------------------------------------------------------------\n",
      "\n",
      "Training with sample size: 1000\n",
      "Memory usage: 992.61 MB\n",
      "Using best parameters from max scale: {'learning_rate': 0.3, 'max_depth': 7, 'n_estimators': 200}\n",
      "Training XGBoost model...\n"
     ]
    },
    {
     "name": "stdout",
     "output_type": "stream",
     "text": [
      "Making predictions...\n",
      "Calculating performance metrics...\n",
      "Measuring prediction performance...\n"
     ]
    },
    {
     "name": "stdout",
     "output_type": "stream",
     "text": [
      "Saving model...\n",
      "Model size: 298.12 KB\n",
      "\n",
      "Results for yago2, Sample Size: 1000\n",
      "Grid Search Time: 0.00s, Training Time: 7.72s\n",
      "XGBoost Parameters: {'learning_rate': 0.3, 'max_depth': 7, 'n_estimators': 200}\n",
      "Performance: R² = 0.8163, MAE = 67240.64, MAPE = 712.87%\n",
      "q-score: 6.21\n",
      "Prediction time: 7.2851 μs/sample\n",
      "I/O: Reads=0.000000, Writes=0.000000\n",
      "--------------------------------------------------------------------------------\n",
      "Saving results for yago2...\n"
     ]
    },
    {
     "name": "stdout",
     "output_type": "stream",
     "text": [
      "Memory usage: 932.27 MB\n",
      "\n",
      "Processing dataset: powerthingnodesorted\n",
      "Universe boundaries for powerthingnodesorted: (-177.92741900000001, -77.8453164, 178.47197400000002, 78.2256315)\n",
      "Loading data from ../large_files/resultsDistance/powerthingnodesorted_results.csv\n"
     ]
    },
    {
     "name": "stdout",
     "output_type": "stream",
     "text": [
      "Parsing object coordinates...\n"
     ]
    },
    {
     "name": "stdout",
     "output_type": "stream",
     "text": [
      "\n",
      "Basic statistics for powerthingnodesorted dataset:\n",
      "Max count: 10461467.0\n",
      "Min count: 0.0\n",
      "Mean count: 665028.42\n",
      "Median count: 348182.50\n",
      "Total samples: 2102514\n",
      "\n",
      "Calculating object features...\n"
     ]
    },
    {
     "name": "stdout",
     "output_type": "stream",
     "text": [
      "Splitting data into train and test sets...\n"
     ]
    },
    {
     "name": "stdout",
     "output_type": "stream",
     "text": [
      "Training set size: 1682011\n",
      "\n",
      "Training with sample size: 1682011\n",
      "Memory usage: 1351.01 MB\n",
      "Performing grid search for optimal parameters...\n",
      "Fitting 3 folds for each of 27 candidates, totalling 81 fits\n"
     ]
    },
    {
     "name": "stdout",
     "output_type": "stream",
     "text": [
      "Grid search complete in 3340.58s\n",
      "Best parameters: {'learning_rate': 0.3, 'max_depth': 7, 'n_estimators': 200}\n",
      "Training XGBoost model...\n"
     ]
    },
    {
     "name": "stdout",
     "output_type": "stream",
     "text": [
      "Making predictions...\n"
     ]
    },
    {
     "name": "stdout",
     "output_type": "stream",
     "text": [
      "Calculating performance metrics...\n",
      "Measuring prediction performance...\n"
     ]
    },
    {
     "name": "stdout",
     "output_type": "stream",
     "text": [
      "Saving model...\n",
      "Model size: 608.15 KB\n",
      "\n",
      "Results for powerthingnodesorted, Sample Size: 1682011\n",
      "Grid Search Time: 3340.58s, Training Time: 91.99s\n",
      "XGBoost Parameters: {'learning_rate': 0.3, 'max_depth': 7, 'n_estimators': 200}\n",
      "Performance: R² = 0.9906, MAE = 49376.97, MAPE = 502.65%\n",
      "q-score: 6.32\n",
      "Prediction time: 8.0817 μs/sample\n",
      "I/O: Reads=0.000000, Writes=0.000000\n",
      "--------------------------------------------------------------------------------\n",
      "Generating prediction scatter plot...\n"
     ]
    },
    {
     "name": "stdout",
     "output_type": "stream",
     "text": [
      "Generating feature importance plot...\n",
      "Generating side-by-side comparison plot...\n"
     ]
    },
    {
     "name": "stdout",
     "output_type": "stream",
     "text": [
      "\n",
      "Training with sample size: 1000000\n",
      "Memory usage: 1349.48 MB\n",
      "Using best parameters from max scale: {'learning_rate': 0.3, 'max_depth': 7, 'n_estimators': 200}\n",
      "Training XGBoost model...\n"
     ]
    },
    {
     "name": "stdout",
     "output_type": "stream",
     "text": [
      "Making predictions...\n",
      "Calculating performance metrics...\n",
      "Measuring prediction performance...\n"
     ]
    },
    {
     "name": "stdout",
     "output_type": "stream",
     "text": [
      "Saving model...\n",
      "Model size: 604.64 KB\n",
      "\n",
      "Results for powerthingnodesorted, Sample Size: 1000000\n",
      "Grid Search Time: 0.00s, Training Time: 57.10s\n",
      "XGBoost Parameters: {'learning_rate': 0.3, 'max_depth': 7, 'n_estimators': 200}\n",
      "Performance: R² = 0.9905, MAE = 49168.90, MAPE = 526.82%\n",
      "q-score: 6.45\n",
      "Prediction time: 9.3256 μs/sample\n",
      "I/O: Reads=0.000000, Writes=0.000001\n",
      "--------------------------------------------------------------------------------\n",
      "\n",
      "Training with sample size: 500000\n",
      "Memory usage: 1349.48 MB\n",
      "Using best parameters from max scale: {'learning_rate': 0.3, 'max_depth': 7, 'n_estimators': 200}\n",
      "Training XGBoost model...\n"
     ]
    },
    {
     "name": "stdout",
     "output_type": "stream",
     "text": [
      "Making predictions...\n"
     ]
    },
    {
     "name": "stdout",
     "output_type": "stream",
     "text": [
      "Calculating performance metrics...\n",
      "Measuring prediction performance...\n"
     ]
    },
    {
     "name": "stdout",
     "output_type": "stream",
     "text": [
      "Saving model...\n",
      "Model size: 590.27 KB\n",
      "\n",
      "Results for powerthingnodesorted, Sample Size: 500000\n",
      "Grid Search Time: 0.00s, Training Time: 32.76s\n",
      "XGBoost Parameters: {'learning_rate': 0.3, 'max_depth': 7, 'n_estimators': 200}\n",
      "Performance: R² = 0.9892, MAE = 51028.72, MAPE = 481.41%\n",
      "q-score: 6.09\n",
      "Prediction time: 7.0203 μs/sample\n",
      "I/O: Reads=0.000000, Writes=0.000000\n",
      "--------------------------------------------------------------------------------\n",
      "\n",
      "Training with sample size: 100000\n",
      "Memory usage: 1349.48 MB\n",
      "Using best parameters from max scale: {'learning_rate': 0.3, 'max_depth': 7, 'n_estimators': 200}\n",
      "Training XGBoost model...\n"
     ]
    },
    {
     "name": "stdout",
     "output_type": "stream",
     "text": [
      "Making predictions...\n"
     ]
    },
    {
     "name": "stdout",
     "output_type": "stream",
     "text": [
      "Calculating performance metrics...\n",
      "Measuring prediction performance...\n"
     ]
    },
    {
     "name": "stdout",
     "output_type": "stream",
     "text": [
      "Saving model...\n",
      "Model size: 552.86 KB\n",
      "\n",
      "Results for powerthingnodesorted, Sample Size: 100000\n",
      "Grid Search Time: 0.00s, Training Time: 17.77s\n",
      "XGBoost Parameters: {'learning_rate': 0.3, 'max_depth': 7, 'n_estimators': 200}\n",
      "Performance: R² = 0.9817, MAE = 59692.68, MAPE = 568.28%\n",
      "q-score: 6.92\n",
      "Prediction time: 6.4804 μs/sample\n",
      "I/O: Reads=0.000000, Writes=0.000003\n",
      "--------------------------------------------------------------------------------\n",
      "\n",
      "Training with sample size: 50000\n",
      "Memory usage: 1349.48 MB\n",
      "Using best parameters from max scale: {'learning_rate': 0.3, 'max_depth': 7, 'n_estimators': 200}\n",
      "Training XGBoost model...\n"
     ]
    },
    {
     "name": "stdout",
     "output_type": "stream",
     "text": [
      "Making predictions...\n"
     ]
    },
    {
     "name": "stdout",
     "output_type": "stream",
     "text": [
      "Calculating performance metrics...\n",
      "Measuring prediction performance...\n"
     ]
    },
    {
     "name": "stdout",
     "output_type": "stream",
     "text": [
      "Saving model...\n",
      "Model size: 533.64 KB\n",
      "\n",
      "Results for powerthingnodesorted, Sample Size: 50000\n",
      "Grid Search Time: 0.00s, Training Time: 13.93s\n",
      "XGBoost Parameters: {'learning_rate': 0.3, 'max_depth': 7, 'n_estimators': 200}\n",
      "Performance: R² = 0.9736, MAE = 67532.35, MAPE = 747.17%\n",
      "q-score: 8.83\n",
      "Prediction time: 6.3515 μs/sample\n",
      "I/O: Reads=0.000000, Writes=0.000000\n",
      "--------------------------------------------------------------------------------\n",
      "\n",
      "Training with sample size: 10000\n",
      "Memory usage: 1349.48 MB\n",
      "Using best parameters from max scale: {'learning_rate': 0.3, 'max_depth': 7, 'n_estimators': 200}\n",
      "Training XGBoost model...\n"
     ]
    },
    {
     "name": "stdout",
     "output_type": "stream",
     "text": [
      "Making predictions...\n"
     ]
    },
    {
     "name": "stdout",
     "output_type": "stream",
     "text": [
      "Calculating performance metrics...\n",
      "Measuring prediction performance...\n"
     ]
    },
    {
     "name": "stdout",
     "output_type": "stream",
     "text": [
      "Saving model...\n",
      "Model size: 480.99 KB\n",
      "\n",
      "Results for powerthingnodesorted, Sample Size: 10000\n",
      "Grid Search Time: 0.00s, Training Time: 10.44s\n",
      "XGBoost Parameters: {'learning_rate': 0.3, 'max_depth': 7, 'n_estimators': 200}\n",
      "Performance: R² = 0.9314, MAE = 101208.52, MAPE = 1417.94%\n",
      "q-score: 15.50\n",
      "Prediction time: 7.4647 μs/sample\n",
      "I/O: Reads=0.000000, Writes=0.000000\n",
      "--------------------------------------------------------------------------------\n",
      "\n",
      "Training with sample size: 5000\n",
      "Memory usage: 1349.48 MB\n",
      "Using best parameters from max scale: {'learning_rate': 0.3, 'max_depth': 7, 'n_estimators': 200}\n",
      "Training XGBoost model...\n"
     ]
    },
    {
     "name": "stdout",
     "output_type": "stream",
     "text": [
      "Making predictions...\n"
     ]
    },
    {
     "name": "stdout",
     "output_type": "stream",
     "text": [
      "Calculating performance metrics...\n",
      "Measuring prediction performance...\n"
     ]
    },
    {
     "name": "stdout",
     "output_type": "stream",
     "text": [
      "Saving model...\n",
      "Model size: 441.37 KB\n",
      "\n",
      "Results for powerthingnodesorted, Sample Size: 5000\n",
      "Grid Search Time: 0.00s, Training Time: 9.83s\n",
      "XGBoost Parameters: {'learning_rate': 0.3, 'max_depth': 7, 'n_estimators': 200}\n",
      "Performance: R² = 0.8963, MAE = 125612.10, MAPE = 1223.01%\n",
      "q-score: 13.68\n",
      "Prediction time: 7.4110 μs/sample\n",
      "I/O: Reads=0.000000, Writes=0.000000\n",
      "--------------------------------------------------------------------------------\n",
      "\n",
      "Training with sample size: 1000\n",
      "Memory usage: 1349.48 MB\n",
      "Using best parameters from max scale: {'learning_rate': 0.3, 'max_depth': 7, 'n_estimators': 200}\n",
      "Training XGBoost model...\n"
     ]
    },
    {
     "name": "stdout",
     "output_type": "stream",
     "text": [
      "Making predictions...\n"
     ]
    },
    {
     "name": "stdout",
     "output_type": "stream",
     "text": [
      "Calculating performance metrics...\n",
      "Measuring prediction performance...\n"
     ]
    },
    {
     "name": "stdout",
     "output_type": "stream",
     "text": [
      "Saving model...\n",
      "Model size: 316.58 KB\n",
      "\n",
      "Results for powerthingnodesorted, Sample Size: 1000\n",
      "Grid Search Time: 0.00s, Training Time: 7.88s\n",
      "XGBoost Parameters: {'learning_rate': 0.3, 'max_depth': 7, 'n_estimators': 200}\n",
      "Performance: R² = 0.8102, MAE = 182497.42, MAPE = 3575.76%\n",
      "q-score: 37.09\n",
      "Prediction time: 6.3988 μs/sample\n",
      "I/O: Reads=0.000000, Writes=0.000000\n",
      "--------------------------------------------------------------------------------\n",
      "Saving results for powerthingnodesorted...\n"
     ]
    },
    {
     "name": "stdout",
     "output_type": "stream",
     "text": [
      "Memory usage: 1176.23 MB\n",
      "\n",
      "Processing dataset: emergencythingwaysorted\n",
      "Universe boundaries for emergencythingwaysorted: (-175.221337, -53.7941359, 179.3313189, 78.22019230000001)\n",
      "Loading data from ../large_files/resultsDistance/emergencythingwaysorted_results.csv\n"
     ]
    },
    {
     "name": "stdout",
     "output_type": "stream",
     "text": [
      "Parsing object coordinates...\n"
     ]
    },
    {
     "name": "stdout",
     "output_type": "stream",
     "text": [
      "\n",
      "Basic statistics for emergencythingwaysorted dataset:\n",
      "Max count: 802965.0\n",
      "Min count: 0.0\n",
      "Mean count: 67511.32\n",
      "Median count: 16253.00\n",
      "Total samples: 161514\n",
      "\n",
      "Calculating object features...\n",
      "Splitting data into train and test sets...\n",
      "Training set size: 129211\n",
      "\n",
      "Training with sample size: 129211\n",
      "Memory usage: 936.60 MB\n",
      "Performing grid search for optimal parameters...\n",
      "Fitting 3 folds for each of 27 candidates, totalling 81 fits\n"
     ]
    },
    {
     "name": "stdout",
     "output_type": "stream",
     "text": [
      "Grid search complete in 619.24s\n",
      "Best parameters: {'learning_rate': 0.3, 'max_depth': 7, 'n_estimators': 200}\n",
      "Training XGBoost model...\n"
     ]
    },
    {
     "name": "stdout",
     "output_type": "stream",
     "text": [
      "Making predictions...\n",
      "Calculating performance metrics...\n",
      "Measuring prediction performance...\n",
      "Saving model...\n"
     ]
    },
    {
     "name": "stdout",
     "output_type": "stream",
     "text": [
      "Model size: 556.83 KB\n",
      "\n",
      "Results for emergencythingwaysorted, Sample Size: 129211\n",
      "Grid Search Time: 619.24s, Training Time: 18.57s\n",
      "XGBoost Parameters: {'learning_rate': 0.3, 'max_depth': 7, 'n_estimators': 200}\n",
      "Performance: R² = 0.9570, MAE = 9322.53, MAPE = 279.37%\n",
      "q-score: 6.31\n",
      "Prediction time: 12.6270 μs/sample\n",
      "I/O: Reads=0.000000, Writes=0.000000\n",
      "--------------------------------------------------------------------------------\n",
      "Generating prediction scatter plot...\n"
     ]
    },
    {
     "name": "stdout",
     "output_type": "stream",
     "text": [
      "Generating feature importance plot...\n",
      "Generating side-by-side comparison plot...\n"
     ]
    },
    {
     "name": "stdout",
     "output_type": "stream",
     "text": [
      "\n",
      "Training with sample size: 100000\n",
      "Memory usage: 935.63 MB\n",
      "Using best parameters from max scale: {'learning_rate': 0.3, 'max_depth': 7, 'n_estimators': 200}\n",
      "Training XGBoost model...\n"
     ]
    },
    {
     "name": "stdout",
     "output_type": "stream",
     "text": [
      "Making predictions...\n",
      "Calculating performance metrics...\n",
      "Measuring prediction performance...\n",
      "Saving model...\n",
      "Model size: 546.13 KB\n",
      "\n",
      "Results for emergencythingwaysorted, Sample Size: 100000\n",
      "Grid Search Time: 0.00s, Training Time: 18.58s\n",
      "XGBoost Parameters: {'learning_rate': 0.3, 'max_depth': 7, 'n_estimators': 200}\n",
      "Performance: R² = 0.9556, MAE = 9571.28, MAPE = 292.04%\n",
      "q-score: 4.40\n",
      "Prediction time: 10.0194 μs/sample\n",
      "I/O: Reads=0.000000, Writes=0.000000\n",
      "--------------------------------------------------------------------------------\n"
     ]
    },
    {
     "name": "stdout",
     "output_type": "stream",
     "text": [
      "\n",
      "Training with sample size: 50000\n",
      "Memory usage: 935.63 MB\n",
      "Using best parameters from max scale: {'learning_rate': 0.3, 'max_depth': 7, 'n_estimators': 200}\n",
      "Training XGBoost model...\n"
     ]
    },
    {
     "name": "stdout",
     "output_type": "stream",
     "text": [
      "Making predictions...\n",
      "Calculating performance metrics...\n",
      "Measuring prediction performance...\n",
      "Saving model...\n",
      "Model size: 526.64 KB\n",
      "\n",
      "Results for emergencythingwaysorted, Sample Size: 50000\n",
      "Grid Search Time: 0.00s, Training Time: 13.67s\n",
      "XGBoost Parameters: {'learning_rate': 0.3, 'max_depth': 7, 'n_estimators': 200}\n",
      "Performance: R² = 0.9445, MAE = 10660.38, MAPE = 294.19%\n",
      "q-score: 4.46\n",
      "Prediction time: 8.7415 μs/sample\n",
      "I/O: Reads=0.000000, Writes=0.000105\n",
      "--------------------------------------------------------------------------------\n"
     ]
    },
    {
     "name": "stdout",
     "output_type": "stream",
     "text": [
      "\n",
      "Training with sample size: 10000\n",
      "Memory usage: 935.63 MB\n",
      "Using best parameters from max scale: {'learning_rate': 0.3, 'max_depth': 7, 'n_estimators': 200}\n",
      "Training XGBoost model...\n"
     ]
    },
    {
     "name": "stdout",
     "output_type": "stream",
     "text": [
      "Making predictions...\n",
      "Calculating performance metrics...\n",
      "Measuring prediction performance...\n",
      "Saving model...\n",
      "Model size: 461.77 KB\n",
      "\n",
      "Results for emergencythingwaysorted, Sample Size: 10000\n",
      "Grid Search Time: 0.00s, Training Time: 10.73s\n",
      "XGBoost Parameters: {'learning_rate': 0.3, 'max_depth': 7, 'n_estimators': 200}\n",
      "Performance: R² = 0.8795, MAE = 15605.18, MAPE = 491.57%\n",
      "q-score: 7.14\n",
      "Prediction time: 8.8496 μs/sample\n",
      "I/O: Reads=0.000000, Writes=0.000000\n",
      "--------------------------------------------------------------------------------\n"
     ]
    },
    {
     "name": "stdout",
     "output_type": "stream",
     "text": [
      "\n",
      "Training with sample size: 5000\n",
      "Memory usage: 935.63 MB\n",
      "Using best parameters from max scale: {'learning_rate': 0.3, 'max_depth': 7, 'n_estimators': 200}\n",
      "Training XGBoost model...\n"
     ]
    },
    {
     "name": "stdout",
     "output_type": "stream",
     "text": [
      "Making predictions...\n",
      "Calculating performance metrics...\n",
      "Measuring prediction performance...\n",
      "Saving model...\n",
      "Model size: 419.56 KB\n",
      "\n",
      "Results for emergencythingwaysorted, Sample Size: 5000\n",
      "Grid Search Time: 0.00s, Training Time: 9.82s\n",
      "XGBoost Parameters: {'learning_rate': 0.3, 'max_depth': 7, 'n_estimators': 200}\n",
      "Performance: R² = 0.8552, MAE = 17986.26, MAPE = 594.78%\n",
      "q-score: 7.66\n",
      "Prediction time: 9.4181 μs/sample\n",
      "I/O: Reads=0.000000, Writes=0.000000\n",
      "--------------------------------------------------------------------------------\n"
     ]
    },
    {
     "name": "stdout",
     "output_type": "stream",
     "text": [
      "\n",
      "Training with sample size: 1000\n",
      "Memory usage: 935.63 MB\n",
      "Using best parameters from max scale: {'learning_rate': 0.3, 'max_depth': 7, 'n_estimators': 200}\n",
      "Training XGBoost model...\n"
     ]
    },
    {
     "name": "stdout",
     "output_type": "stream",
     "text": [
      "Making predictions...\n",
      "Calculating performance metrics...\n",
      "Measuring prediction performance...\n",
      "Saving model...\n",
      "Model size: 301.64 KB\n",
      "\n",
      "Results for emergencythingwaysorted, Sample Size: 1000\n",
      "Grid Search Time: 0.00s, Training Time: 8.07s\n",
      "XGBoost Parameters: {'learning_rate': 0.3, 'max_depth': 7, 'n_estimators': 200}\n",
      "Performance: R² = 0.7602, MAE = 24440.32, MAPE = 721.99%\n",
      "q-score: 9.37\n",
      "Prediction time: 10.4051 μs/sample\n",
      "I/O: Reads=0.000000, Writes=0.000000\n",
      "--------------------------------------------------------------------------------\n"
     ]
    },
    {
     "name": "stdout",
     "output_type": "stream",
     "text": [
      "Saving results for emergencythingwaysorted...\n"
     ]
    },
    {
     "name": "stdout",
     "output_type": "stream",
     "text": [
      "Memory usage: 935.63 MB\n",
      "\n",
      "Processing dataset: historicthingwaysorted\n",
      "Universe boundaries for historicthingwaysorted: (-179.99526020000002, -85.0036942, 179.99597930000002, 78.06750650000001)\n",
      "Loading data from ../large_files/resultsDistance/historicthingwaysorted_results.csv\n"
     ]
    },
    {
     "name": "stdout",
     "output_type": "stream",
     "text": [
      "Parsing object coordinates...\n"
     ]
    },
    {
     "name": "stdout",
     "output_type": "stream",
     "text": [
      "\n",
      "Basic statistics for historicthingwaysorted dataset:\n",
      "Max count: 1790224.0\n",
      "Min count: 0.0\n",
      "Mean count: 261684.06\n",
      "Median count: 134375.00\n",
      "Total samples: 358439\n",
      "\n",
      "Calculating object features...\n",
      "Splitting data into train and test sets...\n",
      "Training set size: 286751\n",
      "\n",
      "Training with sample size: 286751\n",
      "Memory usage: 938.57 MB\n",
      "Performing grid search for optimal parameters...\n",
      "Fitting 3 folds for each of 27 candidates, totalling 81 fits\n"
     ]
    },
    {
     "name": "stdout",
     "output_type": "stream",
     "text": [
      "Grid search complete in 867.73s\n",
      "Best parameters: {'learning_rate': 0.3, 'max_depth': 7, 'n_estimators': 200}\n",
      "Training XGBoost model...\n"
     ]
    },
    {
     "name": "stdout",
     "output_type": "stream",
     "text": [
      "Making predictions...\n",
      "Calculating performance metrics...\n",
      "Measuring prediction performance...\n"
     ]
    },
    {
     "name": "stdout",
     "output_type": "stream",
     "text": [
      "Saving model...\n",
      "Model size: 584.06 KB\n",
      "\n",
      "Results for historicthingwaysorted, Sample Size: 286751\n",
      "Grid Search Time: 867.73s, Training Time: 27.37s\n",
      "XGBoost Parameters: {'learning_rate': 0.3, 'max_depth': 7, 'n_estimators': 200}\n",
      "Performance: R² = 0.9890, MAE = 16001.32, MAPE = 236.35%\n",
      "q-score: 3.64\n",
      "Prediction time: 7.8805 μs/sample\n",
      "I/O: Reads=0.000000, Writes=0.000000\n",
      "--------------------------------------------------------------------------------\n",
      "Generating prediction scatter plot...\n"
     ]
    },
    {
     "name": "stdout",
     "output_type": "stream",
     "text": [
      "Generating feature importance plot...\n",
      "Generating side-by-side comparison plot...\n"
     ]
    },
    {
     "name": "stdout",
     "output_type": "stream",
     "text": [
      "\n",
      "Training with sample size: 100000\n",
      "Memory usage: 921.54 MB\n",
      "Using best parameters from max scale: {'learning_rate': 0.3, 'max_depth': 7, 'n_estimators': 200}\n",
      "Training XGBoost model...\n"
     ]
    },
    {
     "name": "stdout",
     "output_type": "stream",
     "text": [
      "Making predictions...\n",
      "Calculating performance metrics...\n",
      "Measuring prediction performance...\n"
     ]
    },
    {
     "name": "stdout",
     "output_type": "stream",
     "text": [
      "Saving model...\n",
      "Model size: 553.83 KB\n",
      "\n",
      "Results for historicthingwaysorted, Sample Size: 100000\n",
      "Grid Search Time: 0.00s, Training Time: 17.63s\n",
      "XGBoost Parameters: {'learning_rate': 0.3, 'max_depth': 7, 'n_estimators': 200}\n",
      "Performance: R² = 0.9845, MAE = 17701.03, MAPE = 244.27%\n",
      "q-score: 3.82\n",
      "Prediction time: 8.1784 μs/sample\n",
      "I/O: Reads=0.000000, Writes=0.000000\n",
      "--------------------------------------------------------------------------------\n",
      "\n",
      "Training with sample size: 50000\n",
      "Memory usage: 921.54 MB\n",
      "Using best parameters from max scale: {'learning_rate': 0.3, 'max_depth': 7, 'n_estimators': 200}\n",
      "Training XGBoost model...\n"
     ]
    },
    {
     "name": "stdout",
     "output_type": "stream",
     "text": [
      "Making predictions...\n",
      "Calculating performance metrics...\n",
      "Measuring prediction performance...\n"
     ]
    },
    {
     "name": "stdout",
     "output_type": "stream",
     "text": [
      "Saving model...\n",
      "Model size: 531.92 KB\n",
      "\n",
      "Results for historicthingwaysorted, Sample Size: 50000\n",
      "Grid Search Time: 0.00s, Training Time: 14.31s\n",
      "XGBoost Parameters: {'learning_rate': 0.3, 'max_depth': 7, 'n_estimators': 200}\n",
      "Performance: R² = 0.9765, MAE = 20494.24, MAPE = 293.32%\n",
      "q-score: 4.50\n",
      "Prediction time: 12.2364 μs/sample\n",
      "I/O: Reads=0.000000, Writes=0.000000\n",
      "--------------------------------------------------------------------------------\n",
      "\n",
      "Training with sample size: 10000\n",
      "Memory usage: 921.54 MB\n",
      "Using best parameters from max scale: {'learning_rate': 0.3, 'max_depth': 7, 'n_estimators': 200}\n",
      "Training XGBoost model...\n"
     ]
    },
    {
     "name": "stdout",
     "output_type": "stream",
     "text": [
      "Making predictions...\n",
      "Calculating performance metrics...\n",
      "Measuring prediction performance...\n"
     ]
    },
    {
     "name": "stdout",
     "output_type": "stream",
     "text": [
      "Saving model...\n",
      "Model size: 467.86 KB\n",
      "\n",
      "Results for historicthingwaysorted, Sample Size: 10000\n",
      "Grid Search Time: 0.00s, Training Time: 10.44s\n",
      "XGBoost Parameters: {'learning_rate': 0.3, 'max_depth': 7, 'n_estimators': 200}\n",
      "Performance: R² = 0.9527, MAE = 28761.26, MAPE = 501.39%\n",
      "q-score: 6.46\n",
      "Prediction time: 9.2183 μs/sample\n",
      "I/O: Reads=0.000000, Writes=0.000000\n",
      "--------------------------------------------------------------------------------\n",
      "\n",
      "Training with sample size: 5000\n",
      "Memory usage: 921.54 MB\n",
      "Using best parameters from max scale: {'learning_rate': 0.3, 'max_depth': 7, 'n_estimators': 200}\n",
      "Training XGBoost model...\n"
     ]
    },
    {
     "name": "stdout",
     "output_type": "stream",
     "text": [
      "Making predictions...\n",
      "Calculating performance metrics...\n",
      "Measuring prediction performance...\n"
     ]
    },
    {
     "name": "stdout",
     "output_type": "stream",
     "text": [
      "Saving model...\n",
      "Model size: 432.96 KB\n",
      "\n",
      "Results for historicthingwaysorted, Sample Size: 5000\n",
      "Grid Search Time: 0.00s, Training Time: 9.94s\n",
      "XGBoost Parameters: {'learning_rate': 0.3, 'max_depth': 7, 'n_estimators': 200}\n",
      "Performance: R² = 0.9301, MAE = 35650.03, MAPE = 634.98%\n",
      "q-score: 7.93\n",
      "Prediction time: 11.7115 μs/sample\n",
      "I/O: Reads=0.000000, Writes=0.000000\n",
      "--------------------------------------------------------------------------------\n",
      "\n",
      "Training with sample size: 1000\n",
      "Memory usage: 921.54 MB\n",
      "Using best parameters from max scale: {'learning_rate': 0.3, 'max_depth': 7, 'n_estimators': 200}\n",
      "Training XGBoost model...\n"
     ]
    },
    {
     "name": "stdout",
     "output_type": "stream",
     "text": [
      "Making predictions...\n",
      "Calculating performance metrics...\n",
      "Measuring prediction performance...\n"
     ]
    },
    {
     "name": "stdout",
     "output_type": "stream",
     "text": [
      "Saving model...\n",
      "Model size: 307.85 KB\n",
      "\n",
      "Results for historicthingwaysorted, Sample Size: 1000\n",
      "Grid Search Time: 0.00s, Training Time: 9.34s\n",
      "XGBoost Parameters: {'learning_rate': 0.3, 'max_depth': 7, 'n_estimators': 200}\n",
      "Performance: R² = 0.8626, MAE = 54453.70, MAPE = 1054.47%\n",
      "q-score: 12.06\n",
      "Prediction time: 10.7950 μs/sample\n",
      "I/O: Reads=0.000000, Writes=0.000000\n",
      "--------------------------------------------------------------------------------\n",
      "Saving results for historicthingwaysorted...\n"
     ]
    },
    {
     "name": "stdout",
     "output_type": "stream",
     "text": [
      "Memory usage: 921.54 MB\n",
      "\n",
      "Processing dataset: aerowaythingwaysorted\n",
      "Universe boundaries for aerowaythingwaysorted: (-179.88131460000002, -79.7773063, 179.426138, 85.05258450000001)\n",
      "Loading data from ../large_files/resultsDistance/aerowaythingwaysorted_results.csv\n"
     ]
    },
    {
     "name": "stdout",
     "output_type": "stream",
     "text": [
      "Parsing object coordinates...\n"
     ]
    },
    {
     "name": "stdout",
     "output_type": "stream",
     "text": [
      "\n",
      "Basic statistics for aerowaythingwaysorted dataset:\n",
      "Max count: 1829409.0\n",
      "Min count: 0.0\n",
      "Mean count: 107433.16\n",
      "Median count: 54304.00\n",
      "Total samples: 368365\n",
      "\n",
      "Calculating object features...\n",
      "Splitting data into train and test sets...\n",
      "Training set size: 294692\n",
      "\n",
      "Training with sample size: 294692\n",
      "Memory usage: 923.54 MB\n",
      "Performing grid search for optimal parameters...\n",
      "Fitting 3 folds for each of 27 candidates, totalling 81 fits\n"
     ]
    },
    {
     "name": "stdout",
     "output_type": "stream",
     "text": [
      "Grid search complete in 889.42s\n",
      "Best parameters: {'learning_rate': 0.3, 'max_depth': 7, 'n_estimators': 200}\n",
      "Training XGBoost model...\n"
     ]
    },
    {
     "name": "stdout",
     "output_type": "stream",
     "text": [
      "Making predictions...\n",
      "Calculating performance metrics...\n",
      "Measuring prediction performance...\n"
     ]
    },
    {
     "name": "stdout",
     "output_type": "stream",
     "text": [
      "Saving model...\n",
      "Model size: 579.38 KB\n",
      "\n",
      "Results for aerowaythingwaysorted, Sample Size: 294692\n",
      "Grid Search Time: 889.42s, Training Time: 26.51s\n",
      "XGBoost Parameters: {'learning_rate': 0.3, 'max_depth': 7, 'n_estimators': 200}\n",
      "Performance: R² = 0.9854, MAE = 9509.94, MAPE = 131.60%\n",
      "q-score: 2.68\n",
      "Prediction time: 9.4967 μs/sample\n",
      "I/O: Reads=0.000000, Writes=0.000000\n",
      "--------------------------------------------------------------------------------\n",
      "Generating prediction scatter plot...\n"
     ]
    },
    {
     "name": "stdout",
     "output_type": "stream",
     "text": [
      "Generating feature importance plot...\n",
      "Generating side-by-side comparison plot...\n"
     ]
    },
    {
     "name": "stdout",
     "output_type": "stream",
     "text": [
      "\n",
      "Training with sample size: 100000\n",
      "Memory usage: 922.55 MB\n",
      "Using best parameters from max scale: {'learning_rate': 0.3, 'max_depth': 7, 'n_estimators': 200}\n",
      "Training XGBoost model...\n"
     ]
    },
    {
     "name": "stdout",
     "output_type": "stream",
     "text": [
      "Making predictions...\n",
      "Calculating performance metrics...\n",
      "Measuring prediction performance...\n"
     ]
    },
    {
     "name": "stdout",
     "output_type": "stream",
     "text": [
      "Saving model...\n",
      "Model size: 555.48 KB\n",
      "\n",
      "Results for aerowaythingwaysorted, Sample Size: 100000\n",
      "Grid Search Time: 0.00s, Training Time: 18.06s\n",
      "XGBoost Parameters: {'learning_rate': 0.3, 'max_depth': 7, 'n_estimators': 200}\n",
      "Performance: R² = 0.9781, MAE = 10592.83, MAPE = 142.70%\n",
      "q-score: 2.64\n",
      "Prediction time: 8.7991 μs/sample\n",
      "I/O: Reads=0.000000, Writes=0.000000\n",
      "--------------------------------------------------------------------------------\n",
      "\n",
      "Training with sample size: 50000\n",
      "Memory usage: 922.55 MB\n",
      "Using best parameters from max scale: {'learning_rate': 0.3, 'max_depth': 7, 'n_estimators': 200}\n",
      "Training XGBoost model...\n"
     ]
    },
    {
     "name": "stdout",
     "output_type": "stream",
     "text": [
      "Making predictions...\n",
      "Calculating performance metrics...\n",
      "Measuring prediction performance...\n"
     ]
    },
    {
     "name": "stdout",
     "output_type": "stream",
     "text": [
      "Saving model...\n",
      "Model size: 533.26 KB\n",
      "\n",
      "Results for aerowaythingwaysorted, Sample Size: 50000\n",
      "Grid Search Time: 0.00s, Training Time: 13.40s\n",
      "XGBoost Parameters: {'learning_rate': 0.3, 'max_depth': 7, 'n_estimators': 200}\n",
      "Performance: R² = 0.9706, MAE = 11907.79, MAPE = 127.22%\n",
      "q-score: 2.45\n",
      "Prediction time: 9.4815 μs/sample\n",
      "I/O: Reads=0.000000, Writes=0.000000\n",
      "--------------------------------------------------------------------------------\n",
      "\n",
      "Training with sample size: 10000\n",
      "Memory usage: 922.55 MB\n",
      "Using best parameters from max scale: {'learning_rate': 0.3, 'max_depth': 7, 'n_estimators': 200}\n",
      "Training XGBoost model...\n"
     ]
    },
    {
     "name": "stdout",
     "output_type": "stream",
     "text": [
      "Making predictions...\n",
      "Calculating performance metrics...\n",
      "Measuring prediction performance...\n"
     ]
    },
    {
     "name": "stdout",
     "output_type": "stream",
     "text": [
      "Saving model...\n",
      "Model size: 459.35 KB\n",
      "\n",
      "Results for aerowaythingwaysorted, Sample Size: 10000\n",
      "Grid Search Time: 0.00s, Training Time: 10.41s\n",
      "XGBoost Parameters: {'learning_rate': 0.3, 'max_depth': 7, 'n_estimators': 200}\n",
      "Performance: R² = 0.9319, MAE = 17145.30, MAPE = 236.89%\n",
      "q-score: 3.66\n",
      "Prediction time: 8.8357 μs/sample\n",
      "I/O: Reads=0.000000, Writes=0.000003\n",
      "--------------------------------------------------------------------------------\n",
      "\n",
      "Training with sample size: 5000\n",
      "Memory usage: 922.55 MB\n",
      "Using best parameters from max scale: {'learning_rate': 0.3, 'max_depth': 7, 'n_estimators': 200}\n",
      "Training XGBoost model...\n"
     ]
    },
    {
     "name": "stdout",
     "output_type": "stream",
     "text": [
      "Making predictions...\n",
      "Calculating performance metrics...\n",
      "Measuring prediction performance...\n"
     ]
    },
    {
     "name": "stdout",
     "output_type": "stream",
     "text": [
      "Saving model...\n",
      "Model size: 429.66 KB\n",
      "\n",
      "Results for aerowaythingwaysorted, Sample Size: 5000\n",
      "Grid Search Time: 0.00s, Training Time: 9.90s\n",
      "XGBoost Parameters: {'learning_rate': 0.3, 'max_depth': 7, 'n_estimators': 200}\n",
      "Performance: R² = 0.8979, MAE = 20724.05, MAPE = 280.68%\n",
      "q-score: 4.09\n",
      "Prediction time: 8.8014 μs/sample\n",
      "I/O: Reads=0.000000, Writes=0.000000\n",
      "--------------------------------------------------------------------------------\n",
      "\n",
      "Training with sample size: 1000\n",
      "Memory usage: 922.55 MB\n",
      "Using best parameters from max scale: {'learning_rate': 0.3, 'max_depth': 7, 'n_estimators': 200}\n",
      "Training XGBoost model...\n"
     ]
    },
    {
     "name": "stdout",
     "output_type": "stream",
     "text": [
      "Making predictions...\n",
      "Calculating performance metrics...\n",
      "Measuring prediction performance...\n"
     ]
    },
    {
     "name": "stdout",
     "output_type": "stream",
     "text": [
      "Saving model...\n",
      "Model size: 294.28 KB\n",
      "\n",
      "Results for aerowaythingwaysorted, Sample Size: 1000\n",
      "Grid Search Time: 0.00s, Training Time: 7.50s\n",
      "XGBoost Parameters: {'learning_rate': 0.3, 'max_depth': 7, 'n_estimators': 200}\n",
      "Performance: R² = 0.7560, MAE = 33465.11, MAPE = 469.36%\n",
      "q-score: 6.32\n",
      "Prediction time: 9.1502 μs/sample\n",
      "I/O: Reads=0.000000, Writes=0.000000\n",
      "--------------------------------------------------------------------------------\n",
      "Saving results for aerowaythingwaysorted...\n"
     ]
    },
    {
     "name": "stdout",
     "output_type": "stream",
     "text": [
      "Memory usage: 922.55 MB\n",
      "\n",
      "Processing dataset: arealm\n",
      "Universe boundaries for arealm: (-179.147236, -14.548699, 179.77847, 71.359879)\n",
      "Loading data from ../large_files/resultsDistance/arealm_results.csv\n",
      "Parsing object coordinates...\n"
     ]
    },
    {
     "name": "stdout",
     "output_type": "stream",
     "text": [
      "\n",
      "Basic statistics for arealm dataset:\n",
      "Max count: 128233.0\n",
      "Min count: 0.0\n",
      "Mean count: 23800.58\n",
      "Median count: 15460.00\n",
      "Total samples: 25833\n",
      "\n",
      "Calculating object features...\n",
      "Splitting data into train and test sets...\n",
      "Training set size: 20666\n",
      "\n",
      "Training with sample size: 20666\n",
      "Memory usage: 922.55 MB\n",
      "Performing grid search for optimal parameters...\n",
      "Fitting 3 folds for each of 27 candidates, totalling 81 fits\n"
     ]
    },
    {
     "name": "stdout",
     "output_type": "stream",
     "text": [
      "Grid search complete in 347.41s\n",
      "Best parameters: {'learning_rate': 0.1, 'max_depth': 7, 'n_estimators': 200}\n",
      "Training XGBoost model...\n"
     ]
    },
    {
     "name": "stdout",
     "output_type": "stream",
     "text": [
      "Making predictions...\n",
      "Calculating performance metrics...\n",
      "Measuring prediction performance...\n",
      "Saving model...\n",
      "Model size: 524.59 KB\n",
      "\n",
      "Results for arealm, Sample Size: 20666\n",
      "Grid Search Time: 347.41s, Training Time: 12.32s\n",
      "XGBoost Parameters: {'learning_rate': 0.1, 'max_depth': 7, 'n_estimators': 200}\n",
      "Performance: R² = 0.9873, MAE = 1454.63, MAPE = 138.38%\n",
      "q-score: 2.36\n",
      "Prediction time: 15.7574 μs/sample\n",
      "I/O: Reads=0.000000, Writes=0.000000\n",
      "--------------------------------------------------------------------------------\n",
      "Generating prediction scatter plot...\n"
     ]
    },
    {
     "name": "stdout",
     "output_type": "stream",
     "text": [
      "Generating feature importance plot...\n",
      "Generating side-by-side comparison plot...\n"
     ]
    },
    {
     "name": "stdout",
     "output_type": "stream",
     "text": [
      "\n",
      "Training with sample size: 10000\n",
      "Memory usage: 922.55 MB\n",
      "Using best parameters from max scale: {'learning_rate': 0.1, 'max_depth': 7, 'n_estimators': 200}\n",
      "Training XGBoost model...\n"
     ]
    },
    {
     "name": "stdout",
     "output_type": "stream",
     "text": [
      "Making predictions...\n",
      "Calculating performance metrics...\n",
      "Measuring prediction performance...\n",
      "Saving model...\n",
      "Model size: 496.42 KB\n",
      "\n",
      "Results for arealm, Sample Size: 10000\n",
      "Grid Search Time: 0.00s, Training Time: 11.98s\n",
      "XGBoost Parameters: {'learning_rate': 0.1, 'max_depth': 7, 'n_estimators': 200}\n",
      "Performance: R² = 0.9777, MAE = 1757.91, MAPE = 260.07%\n",
      "q-score: 3.57\n",
      "Prediction time: 13.8098 μs/sample\n",
      "I/O: Reads=0.000000, Writes=0.000000\n",
      "--------------------------------------------------------------------------------\n"
     ]
    },
    {
     "name": "stdout",
     "output_type": "stream",
     "text": [
      "\n",
      "Training with sample size: 5000\n",
      "Memory usage: 922.55 MB\n",
      "Using best parameters from max scale: {'learning_rate': 0.1, 'max_depth': 7, 'n_estimators': 200}\n",
      "Training XGBoost model...\n"
     ]
    },
    {
     "name": "stdout",
     "output_type": "stream",
     "text": [
      "Making predictions...\n",
      "Calculating performance metrics...\n",
      "Measuring prediction performance...\n",
      "Saving model...\n",
      "Model size: 454.63 KB\n",
      "\n",
      "Results for arealm, Sample Size: 5000\n",
      "Grid Search Time: 0.00s, Training Time: 12.12s\n",
      "XGBoost Parameters: {'learning_rate': 0.1, 'max_depth': 7, 'n_estimators': 200}\n",
      "Performance: R² = 0.9679, MAE = 2104.09, MAPE = 405.87%\n",
      "q-score: 5.03\n",
      "Prediction time: 17.4234 μs/sample\n",
      "I/O: Reads=0.000000, Writes=0.000000\n",
      "--------------------------------------------------------------------------------\n"
     ]
    },
    {
     "name": "stdout",
     "output_type": "stream",
     "text": [
      "\n",
      "Training with sample size: 1000\n",
      "Memory usage: 922.55 MB\n",
      "Using best parameters from max scale: {'learning_rate': 0.1, 'max_depth': 7, 'n_estimators': 200}\n",
      "Training XGBoost model...\n"
     ]
    },
    {
     "name": "stdout",
     "output_type": "stream",
     "text": [
      "Making predictions...\n",
      "Calculating performance metrics...\n",
      "Measuring prediction performance...\n",
      "Saving model...\n",
      "Model size: 334.15 KB\n",
      "\n",
      "Results for arealm, Sample Size: 1000\n",
      "Grid Search Time: 0.00s, Training Time: 8.52s\n",
      "XGBoost Parameters: {'learning_rate': 0.1, 'max_depth': 7, 'n_estimators': 200}\n",
      "Performance: R² = 0.9176, MAE = 3832.72, MAPE = 1032.12%\n",
      "q-score: 11.17\n",
      "Prediction time: 11.1473 μs/sample\n",
      "I/O: Reads=0.000000, Writes=0.000000\n",
      "--------------------------------------------------------------------------------\n",
      "Saving results for arealm...\n"
     ]
    },
    {
     "name": "stdout",
     "output_type": "stream",
     "text": [
      "Saving combined results...\n",
      "All processing completed and results saved.\n",
      "Memory usage: 922.55 MB\n"
     ]
    }
   ],
   "source": [
    "import numpy as np\n",
    "import pandas as pd\n",
    "import matplotlib.pyplot as plt\n",
    "import matplotlib.patches as patches\n",
    "from time import process_time\n",
    "from sklearn.model_selection import train_test_split\n",
    "from sklearn.metrics import mean_absolute_error as MAE\n",
    "from sklearn.model_selection import GridSearchCV\n",
    "import xgboost as xgb\n",
    "import psutil\n",
    "import os\n",
    "import re\n",
    "import multiprocessing\n",
    "import joblib\n",
    "import gc\n",
    "from tqdm.notebook import tqdm  # Progress bars for Jupyter\n",
    "\n",
    "# Configuration options\n",
    "VISUALIZE_OBJECTS = False  # Set to True if you want to visualize objects\n",
    "SAVE_INTERMEDIATE_MODELS = True  # Set to False to save only final models\n",
    "\n",
    "# Flag to control whether to use multiple scales or only the maximum scale\n",
    "use_multiple_scales = True  # Set to False to use only maximum scale, True for all scales\n",
    "\n",
    "# Get available CPU cores and set appropriate parallelism\n",
    "n_cores = multiprocessing.cpu_count()\n",
    "n_jobs = max(1, n_cores - 1)  # Leave one core free for system processes\n",
    "print(f\"Using {n_jobs} of {n_cores} available CPU cores\")\n",
    "\n",
    "def monitor_memory():\n",
    "    \"\"\"Print current memory usage of the process\"\"\"\n",
    "    process = psutil.Process()\n",
    "    memory_mb = process.memory_info().rss / (1024 * 1024)\n",
    "    print(f\"Memory usage: {memory_mb:.2f} MB\")\n",
    "\n",
    "def MAPE(actual_values, predicted_values):\n",
    "    \"\"\"Calculate Mean Absolute Percentage Error with special handling for zeros\"\"\"\n",
    "    # Vectorized implementation\n",
    "    actual_flat = actual_values.flatten()\n",
    "    pred_flat = predicted_values.flatten()\n",
    "    \n",
    "    # Create mask for non-zero actual values\n",
    "    non_zero_mask = actual_flat != 0\n",
    "    zero_mask = ~non_zero_mask\n",
    "    \n",
    "    # Calculate MAPE for non-zero elements\n",
    "    mape_sum = 0\n",
    "    count = len(actual_flat)\n",
    "    \n",
    "    if np.any(non_zero_mask):\n",
    "        mape_sum += np.sum(np.abs((actual_flat[non_zero_mask] - pred_flat[non_zero_mask]) / actual_flat[non_zero_mask]))\n",
    "    \n",
    "    if np.any(zero_mask):\n",
    "        mape_sum += np.sum(np.abs(actual_flat[zero_mask] - pred_flat[zero_mask]) / 100)\n",
    "    \n",
    "    return mape_sum / count\n",
    "\n",
    "# Load spatial statistics to get universe boundaries for each dataset\n",
    "print(\"Loading spatial statistics...\")\n",
    "spatial_stats = pd.read_csv('../spatial_statistics.csv')\n",
    "\n",
    "# Directory containing the datasets\n",
    "data_dir = '../large_files/resultsDistance/'  # Changed to distance folder\n",
    "\n",
    "# Parse bounding box information\n",
    "def parse_bbox(bbox_str):\n",
    "    # Extract coordinates from BOX string using regex\n",
    "    pattern = r\"BOX\\(([-\\d\\.]+) ([-\\d\\.]+),([-\\d\\.]+) ([-\\d\\.]+)\\)\"\n",
    "    match = re.search(pattern, bbox_str)\n",
    "    if match:\n",
    "        xmin = float(match.group(1))\n",
    "        ymin = float(match.group(2))\n",
    "        xmax = float(match.group(3))\n",
    "        ymax = float(match.group(4))\n",
    "        return xmin, ymin, xmax, ymax\n",
    "    return -180, -90, 180, 90  # Default if parsing fails\n",
    "\n",
    "# Parse object MBR from format like \"(x1, y1, x2, y2)\"\n",
    "def parse_mbr(mbr_str):\n",
    "    coords = mbr_str.strip('\"()').split(', ')\n",
    "    return [float(coord) for coord in coords]\n",
    "\n",
    "# Extract universe boundaries for each dataset\n",
    "universe_boundaries = {}\n",
    "for _, row in spatial_stats.iterrows():\n",
    "    table_name = row['Table Name']\n",
    "    bbox = parse_bbox(row['Universe Limits (Bounding Box)'])\n",
    "    universe_boundaries[table_name] = bbox\n",
    "\n",
    "# Get list of all CSV files in the directory\n",
    "print(\"Finding dataset files...\")\n",
    "csv_files = [f for f in os.listdir(data_dir) if f.endswith('.csv')]\n",
    "print(f\"Found {len(csv_files)} datasets to process\")\n",
    "\n",
    "# Define the scales of learning\n",
    "scales = [1000, 5000, 10000, 50000, 100000, 500000, 1000000]\n",
    "\n",
    "# Create necessary directories\n",
    "os.makedirs('../large_files/LearnedModels/distance/XGB', exist_ok=True)\n",
    "os.makedirs('../large_files/LearnedModels/distance/XGB/visualizations', exist_ok=True)\n",
    "os.makedirs('../large_files/LearnedModels/distance/XGB/results', exist_ok=True)\n",
    "\n",
    "# Lists to store all results\n",
    "all_results_list = []\n",
    "\n",
    "# Process each dataset\n",
    "for csv_file in tqdm(csv_files, desc=\"Processing datasets\"):\n",
    "    # Force garbage collection at the start of each dataset\n",
    "    gc.collect()\n",
    "    monitor_memory()\n",
    "    \n",
    "    # Extract dataset name (remove \"_results.csv\")\n",
    "    dataset_name = csv_file.replace('_results.csv', '')\n",
    "    \n",
    "    print(f\"\\nProcessing dataset: {dataset_name}\")\n",
    "    \n",
    "    # Get universe boundaries for this dataset\n",
    "    if dataset_name in universe_boundaries:\n",
    "        univ_xmin, univ_ymin, univ_xmax, univ_ymax = universe_boundaries[dataset_name]\n",
    "    else:\n",
    "        # Default values if dataset not found in spatial stats\n",
    "        univ_xmin, univ_ymin, univ_xmax, univ_ymax = -180, -90, 180, 90\n",
    "    \n",
    "    Surface_univ = (univ_xmax - univ_xmin) * (univ_ymax - univ_ymin)\n",
    "    print(f\"Universe boundaries for {dataset_name}: ({univ_xmin}, {univ_ymin}, {univ_xmax}, {univ_ymax})\")\n",
    "    \n",
    "    # Load dataset - loading required columns for distance dataset\n",
    "    data_path = os.path.join(data_dir, csv_file)\n",
    "    print(f\"Loading data from {data_path}\")\n",
    "    data = pd.read_csv(data_path, usecols=['Object MBR', 'Distance Min', 'Distance Max', 'Count MBR'])\n",
    "    \n",
    "    # Extract object information - ONLY using MBR data\n",
    "    print(\"Parsing object coordinates...\")\n",
    "    Objects_MBR = np.array([parse_mbr(mbr) for mbr in data['Object MBR']])\n",
    "    \n",
    "    # Extract distance information\n",
    "    Distance_Min = data['Distance Min'].values.reshape(-1, 1)\n",
    "    Distance_Max = data['Distance Max'].values.reshape(-1, 1)\n",
    "    \n",
    "    # Target variable: Count MBR\n",
    "    Y = data[['Count MBR']].values\n",
    "    \n",
    "    # Free up memory\n",
    "    del data\n",
    "    gc.collect()\n",
    "    \n",
    "    # Calculate basic statistics\n",
    "    max_count = float(np.max(Y))\n",
    "    min_count = float(np.min(Y))\n",
    "    mean_count = float(np.mean(Y))\n",
    "    median_count = float(np.median(Y))\n",
    "    total_samples = len(Y)\n",
    "\n",
    "    # Display basic statistics for the dataset\n",
    "    print(f\"\\nBasic statistics for {dataset_name} dataset:\")\n",
    "    print(f\"Max count: {max_count}\")\n",
    "    print(f\"Min count: {min_count}\")\n",
    "    print(f\"Mean count: {mean_count:.2f}\")\n",
    "    print(f\"Median count: {median_count:.2f}\")\n",
    "    print(f\"Total samples: {total_samples}\\n\")\n",
    "\n",
    "    # Prepare features using Object MBR instead of True Shape\n",
    "    print(\"Calculating object features...\")\n",
    "\n",
    "    # Extract MBR coordinates\n",
    "    x1 = Objects_MBR[:, 0].reshape(-1, 1)  # Left\n",
    "    y1 = Objects_MBR[:, 1].reshape(-1, 1)  # Bottom\n",
    "    x2 = Objects_MBR[:, 2].reshape(-1, 1)  # Right\n",
    "    y2 = Objects_MBR[:, 3].reshape(-1, 1)  # Top\n",
    "\n",
    "    # Calculate MBR center points\n",
    "    obj_x = (x1 + x2) / 2  # Center X\n",
    "    obj_y = (y1 + y2) / 2  # Center Y\n",
    "\n",
    "    # Calculate MBR dimensions\n",
    "    mbr_width = (x2 - x1)\n",
    "    mbr_height = (y2 - y1)\n",
    "    mbr_area = mbr_width * mbr_height\n",
    "\n",
    "    # Normalized coordinates of MBR center (0-1 range within universe)\n",
    "    norm_x = (obj_x - univ_xmin) / (univ_xmax - univ_xmin) if (univ_xmax - univ_xmin) != 0 else 0.5\n",
    "    norm_y = (obj_y - univ_ymin) / (univ_ymax - univ_ymin) if (univ_ymax - univ_ymin) != 0 else 0.5\n",
    "\n",
    "    # Distance range\n",
    "    distance_range = Distance_Max - Distance_Min\n",
    "\n",
    "    # Distance ratio (max/min)\n",
    "    # Avoid division by zero\n",
    "    min_non_zero = np.where(Distance_Min == 0, 0.0001, Distance_Min)\n",
    "    distance_ratio = Distance_Max / min_non_zero\n",
    "    \n",
    "    # Combine all features\n",
    "    X = np.hstack((\n",
    "        obj_x,           # X coordinate of MBR center\n",
    "        obj_y,           # Y coordinate of MBR center\n",
    "        mbr_width,       # Width of MBR\n",
    "        mbr_height,      # Height of MBR\n",
    "        mbr_area,        # Area of MBR\n",
    "        norm_x,          # Normalized X position (0-1)\n",
    "        norm_y,          # Normalized Y position (0-1)\n",
    "        Distance_Min,    # Minimum distance\n",
    "        Distance_Max,    # Maximum distance\n",
    "        distance_range,  # Range of distance\n",
    "        distance_ratio.reshape(-1, 1)  # Ratio of max/min distance\n",
    "    ))\n",
    "    \n",
    "    # Split the data into 80% train and 20% test\n",
    "    print(\"Splitting data into train and test sets...\")\n",
    "    X_train, X_test_all, y_train, y_test_all = train_test_split(X, Y, test_size=0.2, random_state=3)\n",
    "    \n",
    "    # Visualize the first 100 objects using MBRs\n",
    "    if VISUALIZE_OBJECTS:\n",
    "        print(\"Visualizing objects sample...\")\n",
    "        plt.figure(figsize=(10, 8))\n",
    "        \n",
    "        # Only visualize a sample to save time\n",
    "        sample_size = min(100, len(Objects_MBR))\n",
    "        \n",
    "        # Plot universe boundaries\n",
    "        plt.plot([univ_xmin, univ_xmax, univ_xmax, univ_xmin, univ_xmin], \n",
    "                 [univ_ymin, univ_ymin, univ_ymax, univ_ymax, univ_ymin], \n",
    "                 'k-', linewidth=1, alpha=0.5)\n",
    "        \n",
    "        # Plot MBRs\n",
    "        for i in range(sample_size):\n",
    "            x1, y1, x2, y2 = Objects_MBR[i]\n",
    "            rect = patches.Rectangle((x1, y1), x2-x1, y2-y1, \n",
    "                                    linewidth=1, edgecolor='b', facecolor='none', \n",
    "                                    alpha=min(1.0, 0.3 + float(Distance_Min[i])/20))\n",
    "            plt.gca().add_patch(rect)\n",
    "            \n",
    "        plt.colorbar(plt.cm.ScalarMappable(cmap='viridis'), label='Minimum Distance')\n",
    "        plt.xlim(univ_xmin-20, univ_xmax+20)\n",
    "        plt.ylim(univ_ymin-10, univ_ymax+10)\n",
    "        plt.title(f\"Sample MBRs from {dataset_name}\")\n",
    "        plt.savefig(f\"../large_files/LearnedModels/distance/XGB/visualizations/{dataset_name}_objects_mbr.png\", dpi=150)\n",
    "        plt.close()\n",
    "    \n",
    "    # Adjust scales to the dataset size\n",
    "    max_size = len(X_train)\n",
    "    print(f\"Training set size: {max_size}\")\n",
    "\n",
    "    if use_multiple_scales:\n",
    "        # Use multiple scales as before\n",
    "        adjusted_scales = [s for s in scales if s <= max_size]\n",
    "        \n",
    "        # Add intermediate 1 million increments for large datasets\n",
    "        if max_size > 1000000:\n",
    "            million_increments = list(range(2000000, max_size, 1000000))\n",
    "            adjusted_scales.extend(million_increments)\n",
    "            \n",
    "        # Add the actual max size if it's not already in the list\n",
    "        if max_size not in adjusted_scales:\n",
    "            adjusted_scales.append(max_size)\n",
    "            \n",
    "        # Sort the scales to ensure they're in ascending order\n",
    "        adjusted_scales.sort()\n",
    "    else:\n",
    "        # Use only the maximum scale\n",
    "        adjusted_scales = [max_size]\n",
    "\n",
    "    # List to store dataset-specific results\n",
    "    dataset_results_list = []\n",
    "\n",
    "    # Store best parameters from max scale training to reuse\n",
    "    best_params = None\n",
    "    \n",
    "    # Process scales in reversed order (largest first)\n",
    "    for sample_size in reversed(adjusted_scales):\n",
    "        print(f\"\\nTraining with sample size: {sample_size}\")\n",
    "        monitor_memory()\n",
    "        \n",
    "        # Create training subset\n",
    "        X_train_sample = X_train[:sample_size, :]\n",
    "        y_train_sample = y_train[:sample_size]\n",
    "        \n",
    "        # XGBoost parameters - optimized for performance\n",
    "        params_xgb = {\n",
    "            \"max_depth\": [3, 5, 7],\n",
    "            \"learning_rate\": [0.01, 0.1, 0.3],\n",
    "            \"n_estimators\": [50, 100, 200]\n",
    "        }\n",
    "        \n",
    "        # # For very large datasets, use smaller parameter grid\n",
    "        # if sample_size > 100000:\n",
    "        #     params_xgb = {\n",
    "        #         \"max_depth\": [5],\n",
    "        #         \"learning_rate\": [0.1],\n",
    "        #         \"n_estimators\": [100]\n",
    "        #     }\n",
    "            \n",
    "        # Only do GridSearch for the max scale\n",
    "        if sample_size == max_size or best_params is None:\n",
    "            print(\"Performing grid search for optimal parameters...\")\n",
    "            # Using tree_method='hist' for faster training\n",
    "            xgb_regressor = xgb.XGBRegressor(objective='reg:squarederror', \n",
    "                                           tree_method='hist', \n",
    "                                           random_state=3,\n",
    "                                           n_jobs=n_jobs)\n",
    "            xgb_cv = GridSearchCV(xgb_regressor, params_xgb, cv=3, n_jobs=1, verbose=1)  # Use n_jobs=1 as XGBoost uses parallel processing\n",
    "            \n",
    "            # Time the grid search\n",
    "            t1_start = process_time()\n",
    "            xgb_cv.fit(X_train_sample, y_train_sample.ravel())  # Use ravel for 1D array\n",
    "            t1_stop = process_time()\n",
    "            grid_search_time = t1_stop - t1_start\n",
    "            \n",
    "            # Store best parameters for reuse\n",
    "            best_params = xgb_cv.best_params_\n",
    "            print(f\"Grid search complete in {grid_search_time:.2f}s\")\n",
    "            print(f\"Best parameters: {best_params}\")\n",
    "        else:\n",
    "            # Skip grid search for smaller scales, use params from max scale\n",
    "            xgb_cv = None\n",
    "            grid_search_time = 0\n",
    "            print(f\"Using best parameters from max scale: {best_params}\")\n",
    "        \n",
    "        # Train the model with best parameters\n",
    "        print(\"Training XGBoost model...\")\n",
    "        # Using tree_method='hist' for faster training and better memory efficiency\n",
    "        xgb_regressor = xgb.XGBRegressor(objective='reg:squarederror',\n",
    "                                       tree_method='hist',\n",
    "                                       random_state=3,\n",
    "                                       n_jobs=n_jobs,\n",
    "                                       early_stopping_rounds=10,\n",
    "                                       **best_params)\n",
    "        \n",
    "        t2_start = process_time()\n",
    "        xgb_regressor.fit(X_train_sample, y_train_sample.ravel(), \n",
    "                        eval_set=[(X_train_sample[-min(1000, len(X_train_sample)):], \n",
    "                                 y_train_sample[-min(1000, len(X_train_sample)):].ravel())],\n",
    "                        verbose=False)\n",
    "        t2_stop = process_time()\n",
    "        training_time = t2_stop - t2_start\n",
    "        \n",
    "        # Make predictions\n",
    "        print(\"Making predictions...\")\n",
    "        y_pred = xgb_regressor.predict(X_test_all).reshape(-1, 1)  # Reshape to match y_test_all format\n",
    "        # Ensure predictions are non-negative (counts can't be negative)\n",
    "        y_pred = np.maximum(0, y_pred)  # Convert any negative predictions to zero\n",
    "\n",
    "        # Calculate metrics\n",
    "        r2_score = xgb_regressor.score(X_test_all, y_test_all.ravel())\n",
    "        mae_value = MAE(y_test_all, y_pred)\n",
    "        mape_value = MAPE(y_test_all, y_pred)\n",
    "        \n",
    "        # Calculate q-score - vectorized version\n",
    "        print(\"Calculating performance metrics...\")\n",
    "        \n",
    "        # Vectorized q-score calculation\n",
    "        y_true_flat = y_test_all.flatten()\n",
    "        y_pred_flat = y_pred.flatten() if y_pred.ndim > 1 else y_pred\n",
    "        \n",
    "        # Find indices where both values are non-zero\n",
    "        valid_indices = (y_true_flat != 0) & (y_pred_flat != 0)\n",
    "        \n",
    "        if np.any(valid_indices):\n",
    "            ratios = np.maximum(\n",
    "                y_pred_flat[valid_indices] / y_true_flat[valid_indices],\n",
    "                y_true_flat[valid_indices] / y_pred_flat[valid_indices]\n",
    "            )\n",
    "            q_score_mean = np.mean(ratios)\n",
    "        else:\n",
    "            q_score_mean = 0\n",
    "        \n",
    "        # Time prediction performance (10 iterations)\n",
    "        print(\"Measuring prediction performance...\")\n",
    "        total_duration = 0\n",
    "        total_read = 0\n",
    "        total_write = 0\n",
    "        \n",
    "        for _ in range(10):\n",
    "            io_before = psutil.disk_io_counters()\n",
    "            t3_start = process_time()\n",
    "            preds = xgb_regressor.predict(X_test_all)\n",
    "            preds = np.maximum(0, preds)  # Include this operation in timing\n",
    "            t3_stop = process_time()\n",
    "            io_after = psutil.disk_io_counters()\n",
    "            \n",
    "            total_duration += (t3_stop - t3_start)\n",
    "            total_read += io_after.read_count - io_before.read_count\n",
    "            total_write += io_after.write_count - io_before.write_count\n",
    "        \n",
    "        avg_pred_time_microsec = (total_duration / 10) / len(y_pred) * 1000000\n",
    "        avg_reads = total_read / 10 / len(y_pred)\n",
    "        avg_writes = total_write / 10 / len(y_pred)\n",
    "        \n",
    "        # Save the model using joblib instead of pickle for better efficiency\n",
    "        if SAVE_INTERMEDIATE_MODELS or sample_size == max_size:\n",
    "            print(\"Saving model...\")\n",
    "            filename = f'../large_files/LearnedModels/distance/XGB/{dataset_name}_xgb_{sample_size}_{training_time:.2f}s_{mape_value:.2%}_{mae_value:.2f}.joblib'\n",
    "            joblib.dump(xgb_regressor, filename, compress=3)\n",
    "            # Get model file size in KB\n",
    "            model_size_kb = os.path.getsize(filename) / 1024\n",
    "            print(f\"Model size: {model_size_kb:.2f} KB\")\n",
    "        else:\n",
    "            model_size_kb = 0  # Set to 0 if model wasn't saved\n",
    "        \n",
    "        # Print results\n",
    "        print(f\"\\nResults for {dataset_name}, Sample Size: {sample_size}\")\n",
    "        print(f\"Grid Search Time: {grid_search_time:.2f}s, Training Time: {training_time:.2f}s\")\n",
    "        print(f\"XGBoost Parameters: {best_params}\")\n",
    "        print(f\"Performance: R² = {r2_score:.4f}, MAE = {mae_value:.2f}, MAPE = {mape_value:.2%}\")\n",
    "        print(f\"q-score: {q_score_mean:.2f}\")\n",
    "        print(f\"Prediction time: {avg_pred_time_microsec:.4f} μs/sample\")\n",
    "        print(f\"I/O: Reads={avg_reads:.6f}, Writes={avg_writes:.6f}\")\n",
    "        print(\"-\" * 80)\n",
    "        \n",
    "        # Plot actual vs predicted only for the maximum scale\n",
    "        if sample_size == adjusted_scales[-1]:  # Check if this is the maximum scale\n",
    "            print(\"Generating prediction scatter plot...\")\n",
    "            plt.figure(figsize=(10, 8))\n",
    "            plt.scatter(y_test_all, y_pred, s=0.5, alpha=0.5)\n",
    "            plt.xlabel('True Values')\n",
    "            plt.ylabel('Predictions')\n",
    "            plt.title(f\"{dataset_name} - Sample Size: {sample_size} (Maximum)\")\n",
    "            plt.grid(True, alpha=0.3)\n",
    "            \n",
    "            # Add diagonal line for perfect predictions\n",
    "            max_val = max(np.max(y_test_all), np.max(y_pred))\n",
    "            plt.plot([0, max_val], [0, max_val], 'r--', alpha=0.5)\n",
    "            \n",
    "            plt.savefig(f\"../large_files/LearnedModels/distance/XGB/visualizations/{dataset_name}_{sample_size}_prediction.png\", dpi=150)\n",
    "            plt.close()  # Close to free memory\n",
    "            \n",
    "            # Plot feature importance\n",
    "            print(\"Generating feature importance plot...\")\n",
    "            plt.figure(figsize=(12, 6))\n",
    "            feature_names = [\n",
    "                'Center X', 'Center Y', 'Width', 'Height', 'Area',\n",
    "                'Norm X', 'Norm Y', 'Min Dist', 'Max Dist', \n",
    "                'Dist Range', 'Dist Ratio'\n",
    "            ]\n",
    "            \n",
    "            # Get feature importance\n",
    "            importance = xgb_regressor.feature_importances_\n",
    "            \n",
    "            # Sort features by importance\n",
    "            indices = np.argsort(importance)[::-1]\n",
    "            \n",
    "            # Plot feature importance\n",
    "            plt.bar(range(X.shape[1]), importance[indices])\n",
    "            plt.xticks(range(X.shape[1]), [feature_names[i] for i in indices], rotation=45)\n",
    "            plt.title(f\"Feature Importance - {dataset_name}\")\n",
    "            plt.tight_layout()\n",
    "            plt.savefig(f\"../large_files/LearnedModels/distance/XGB/visualizations/{dataset_name}_feature_importance.png\", dpi=150)\n",
    "            plt.close()\n",
    "            \n",
    "            # Create a scatter plot comparing predicted vs real values for first 100 objects\n",
    "            print(\"Generating side-by-side comparison plot...\")\n",
    "            \n",
    "            # Get predictions for first 100 test samples\n",
    "            sample_indices = range(min(100, len(X_test_all)))\n",
    "            X_sample = X_test_all[sample_indices]\n",
    "            y_sample_true = y_test_all[sample_indices].flatten()\n",
    "            y_sample_pred = xgb_regressor.predict(X_sample)\n",
    "            # Ensure non-negative predictions\n",
    "            y_sample_pred = np.maximum(0, y_sample_pred)\n",
    "            \n",
    "            plt.figure(figsize=(20, 10))\n",
    "            plt.scatter(range(len(sample_indices)), y_sample_pred, c='green', \n",
    "                        label='Predicted number of objects (XGBoost)', alpha=0.7, s=100)\n",
    "            plt.scatter(range(len(sample_indices)), y_sample_true, c='blue', \n",
    "                        label='Real number of objects', alpha=0.7, s=100)\n",
    "            \n",
    "            plt.title(f'{dataset_name} - First {len(sample_indices)} Objects: Predicted vs Real Values', fontsize=16)\n",
    "            plt.xlabel('Object Index', fontsize=14)\n",
    "            plt.ylabel('Number of objects within distance', fontsize=14)\n",
    "            plt.legend(fontsize=12)\n",
    "            plt.grid(True, alpha=0.3)\n",
    "            plt.tight_layout()\n",
    "            \n",
    "            # Save the plot\n",
    "            plt.savefig(f\"../large_files/LearnedModels/distance/XGB/visualizations/{dataset_name}_comparison_plot.png\", dpi=150)\n",
    "            plt.close()\n",
    "        \n",
    "        # Store results in list (more efficient than DataFrame concat)\n",
    "        result_row = {\n",
    "            'Dataset': dataset_name,\n",
    "            'Sample_Size': sample_size,\n",
    "            'Training_Time': training_time,\n",
    "            'Best_Params': str(best_params),\n",
    "            'R2_Score': r2_score,\n",
    "            'MAE': mae_value,\n",
    "            'MAPE': float(mape_value),\n",
    "            'Q_Score': q_score_mean,\n",
    "            'Pred_Time_Microseconds': avg_pred_time_microsec,\n",
    "            'IO_Reads': avg_reads,\n",
    "            'IO_Writes': avg_writes,\n",
    "            'Model_Size_KB': model_size_kb,\n",
    "            'Max_Count': max_count,\n",
    "            'Min_Count': min_count,\n",
    "            'Mean_Count': mean_count,\n",
    "            'Median_Count': median_count,\n",
    "            'Total_Samples': total_samples\n",
    "        }\n",
    "        \n",
    "        dataset_results_list.append(result_row)\n",
    "        all_results_list.append(result_row)\n",
    "        \n",
    "        # Clean up to free memory\n",
    "        if sample_size != max_size:  # Don't delete for max size as we might need it\n",
    "            del X_train_sample, y_train_sample, xgb_regressor\n",
    "            gc.collect()\n",
    "    \n",
    "    # Save results for this dataset\n",
    "    print(f\"Saving results for {dataset_name}...\")\n",
    "    dataset_results = pd.DataFrame(dataset_results_list)\n",
    "    dataset_results.to_csv(f'../large_files/LearnedModels/distance/XGB/results/{dataset_name}_results.csv', index=False)\n",
    "    \n",
    "    # Clear memory before next dataset\n",
    "    del X_train, X_test_all, y_train, y_test_all, Objects_MBR, Distance_Min, Distance_Max\n",
    "    gc.collect()\n",
    "    \n",
    "# Save all results\n",
    "print(\"Saving combined results...\")\n",
    "all_results = pd.DataFrame(all_results_list)\n",
    "all_results.to_csv('../large_files/LearnedModels/distance/XGB/all_results.csv', index=False)\n",
    "\n",
    "print(\"All processing completed and results saved.\")\n",
    "monitor_memory()"
   ]
  }
 ],
 "metadata": {
  "kernelspec": {
   "display_name": "base",
   "language": "python",
   "name": "python3"
  },
  "language_info": {
   "codemirror_mode": {
    "name": "ipython",
    "version": 3
   },
   "file_extension": ".py",
   "mimetype": "text/x-python",
   "name": "python",
   "nbconvert_exporter": "python",
   "pygments_lexer": "ipython3",
   "version": "3.12.2"
  },
  "papermill": {
   "default_parameters": {},
   "duration": 1482.358384,
   "end_time": "2025-04-19T10:04:46.753540",
   "environment_variables": {},
   "exception": null,
   "input_path": "/home/adminlias/nadir/Spatial-Selectivity-Ext/distance_filter/xgBoostRegressor.ipynb",
   "output_path": "/home/adminlias/nadir/Spatial-Selectivity-Ext/distance_filter/output_xgBoostRegressor.ipynb",
   "parameters": {},
   "start_time": "2025-04-19T09:40:04.395156",
   "version": "2.6.0"
  },
  "widgets": {
   "application/vnd.jupyter.widget-state+json": {
    "state": {
     "0e862480f4ef4269a973d39138c0cb8e": {
      "model_module": "@jupyter-widgets/base",
      "model_module_version": "1.2.0",
      "model_name": "LayoutModel",
      "state": {
       "_model_module": "@jupyter-widgets/base",
       "_model_module_version": "1.2.0",
       "_model_name": "LayoutModel",
       "_view_count": null,
       "_view_module": "@jupyter-widgets/base",
       "_view_module_version": "1.2.0",
       "_view_name": "LayoutView",
       "align_content": null,
       "align_items": null,
       "align_self": null,
       "border": null,
       "bottom": null,
       "display": null,
       "flex": null,
       "flex_flow": null,
       "grid_area": null,
       "grid_auto_columns": null,
       "grid_auto_flow": null,
       "grid_auto_rows": null,
       "grid_column": null,
       "grid_gap": null,
       "grid_row": null,
       "grid_template_areas": null,
       "grid_template_columns": null,
       "grid_template_rows": null,
       "height": null,
       "justify_content": null,
       "justify_items": null,
       "left": null,
       "margin": null,
       "max_height": null,
       "max_width": null,
       "min_height": null,
       "min_width": null,
       "object_fit": null,
       "object_position": null,
       "order": null,
       "overflow": null,
       "overflow_x": null,
       "overflow_y": null,
       "padding": null,
       "right": null,
       "top": null,
       "visibility": null,
       "width": null
      }
     },
     "19d5e34c8c9d4af4b8bc20ca8b4b85c6": {
      "model_module": "@jupyter-widgets/controls",
      "model_module_version": "1.5.0",
      "model_name": "HTMLModel",
      "state": {
       "_dom_classes": [],
       "_model_module": "@jupyter-widgets/controls",
       "_model_module_version": "1.5.0",
       "_model_name": "HTMLModel",
       "_view_count": null,
       "_view_module": "@jupyter-widgets/controls",
       "_view_module_version": "1.5.0",
       "_view_name": "HTMLView",
       "description": "",
       "description_tooltip": null,
       "layout": "IPY_MODEL_0e862480f4ef4269a973d39138c0cb8e",
       "placeholder": "​",
       "style": "IPY_MODEL_2b00b4fca1ff4b2695de0cf5aef2dbcf",
       "value": " 14/14 [24:39&lt;00:00, 51.89s/it]"
      }
     },
     "1f2cf0b9bd1542debfa20ff04e2914dc": {
      "model_module": "@jupyter-widgets/controls",
      "model_module_version": "1.5.0",
      "model_name": "FloatProgressModel",
      "state": {
       "_dom_classes": [],
       "_model_module": "@jupyter-widgets/controls",
       "_model_module_version": "1.5.0",
       "_model_name": "FloatProgressModel",
       "_view_count": null,
       "_view_module": "@jupyter-widgets/controls",
       "_view_module_version": "1.5.0",
       "_view_name": "ProgressView",
       "bar_style": "success",
       "description": "",
       "description_tooltip": null,
       "layout": "IPY_MODEL_d82f6229880e4d689f7de39b0de194a4",
       "max": 14.0,
       "min": 0.0,
       "orientation": "horizontal",
       "style": "IPY_MODEL_6ee42526ed2d4fe590d9e6839e5a54a4",
       "value": 14.0
      }
     },
     "2b00b4fca1ff4b2695de0cf5aef2dbcf": {
      "model_module": "@jupyter-widgets/controls",
      "model_module_version": "1.5.0",
      "model_name": "DescriptionStyleModel",
      "state": {
       "_model_module": "@jupyter-widgets/controls",
       "_model_module_version": "1.5.0",
       "_model_name": "DescriptionStyleModel",
       "_view_count": null,
       "_view_module": "@jupyter-widgets/base",
       "_view_module_version": "1.2.0",
       "_view_name": "StyleView",
       "description_width": ""
      }
     },
     "6ee42526ed2d4fe590d9e6839e5a54a4": {
      "model_module": "@jupyter-widgets/controls",
      "model_module_version": "1.5.0",
      "model_name": "ProgressStyleModel",
      "state": {
       "_model_module": "@jupyter-widgets/controls",
       "_model_module_version": "1.5.0",
       "_model_name": "ProgressStyleModel",
       "_view_count": null,
       "_view_module": "@jupyter-widgets/base",
       "_view_module_version": "1.2.0",
       "_view_name": "StyleView",
       "bar_color": null,
       "description_width": ""
      }
     },
     "80d545d5b477478fab98a6409fb6b901": {
      "model_module": "@jupyter-widgets/controls",
      "model_module_version": "1.5.0",
      "model_name": "HTMLModel",
      "state": {
       "_dom_classes": [],
       "_model_module": "@jupyter-widgets/controls",
       "_model_module_version": "1.5.0",
       "_model_name": "HTMLModel",
       "_view_count": null,
       "_view_module": "@jupyter-widgets/controls",
       "_view_module_version": "1.5.0",
       "_view_name": "HTMLView",
       "description": "",
       "description_tooltip": null,
       "layout": "IPY_MODEL_adaa4b36a2a945378bc0147142c85747",
       "placeholder": "​",
       "style": "IPY_MODEL_98d426a1c6fe4032b732a2c1c440f2b8",
       "value": "Processing datasets: 100%"
      }
     },
     "98d426a1c6fe4032b732a2c1c440f2b8": {
      "model_module": "@jupyter-widgets/controls",
      "model_module_version": "1.5.0",
      "model_name": "DescriptionStyleModel",
      "state": {
       "_model_module": "@jupyter-widgets/controls",
       "_model_module_version": "1.5.0",
       "_model_name": "DescriptionStyleModel",
       "_view_count": null,
       "_view_module": "@jupyter-widgets/base",
       "_view_module_version": "1.2.0",
       "_view_name": "StyleView",
       "description_width": ""
      }
     },
     "a214c04c794e45a5b3c4b558523650ef": {
      "model_module": "@jupyter-widgets/controls",
      "model_module_version": "1.5.0",
      "model_name": "HBoxModel",
      "state": {
       "_dom_classes": [],
       "_model_module": "@jupyter-widgets/controls",
       "_model_module_version": "1.5.0",
       "_model_name": "HBoxModel",
       "_view_count": null,
       "_view_module": "@jupyter-widgets/controls",
       "_view_module_version": "1.5.0",
       "_view_name": "HBoxView",
       "box_style": "",
       "children": [
        "IPY_MODEL_80d545d5b477478fab98a6409fb6b901",
        "IPY_MODEL_1f2cf0b9bd1542debfa20ff04e2914dc",
        "IPY_MODEL_19d5e34c8c9d4af4b8bc20ca8b4b85c6"
       ],
       "layout": "IPY_MODEL_c7813900b91a49b98f4c8b382b56f732"
      }
     },
     "adaa4b36a2a945378bc0147142c85747": {
      "model_module": "@jupyter-widgets/base",
      "model_module_version": "1.2.0",
      "model_name": "LayoutModel",
      "state": {
       "_model_module": "@jupyter-widgets/base",
       "_model_module_version": "1.2.0",
       "_model_name": "LayoutModel",
       "_view_count": null,
       "_view_module": "@jupyter-widgets/base",
       "_view_module_version": "1.2.0",
       "_view_name": "LayoutView",
       "align_content": null,
       "align_items": null,
       "align_self": null,
       "border": null,
       "bottom": null,
       "display": null,
       "flex": null,
       "flex_flow": null,
       "grid_area": null,
       "grid_auto_columns": null,
       "grid_auto_flow": null,
       "grid_auto_rows": null,
       "grid_column": null,
       "grid_gap": null,
       "grid_row": null,
       "grid_template_areas": null,
       "grid_template_columns": null,
       "grid_template_rows": null,
       "height": null,
       "justify_content": null,
       "justify_items": null,
       "left": null,
       "margin": null,
       "max_height": null,
       "max_width": null,
       "min_height": null,
       "min_width": null,
       "object_fit": null,
       "object_position": null,
       "order": null,
       "overflow": null,
       "overflow_x": null,
       "overflow_y": null,
       "padding": null,
       "right": null,
       "top": null,
       "visibility": null,
       "width": null
      }
     },
     "c7813900b91a49b98f4c8b382b56f732": {
      "model_module": "@jupyter-widgets/base",
      "model_module_version": "1.2.0",
      "model_name": "LayoutModel",
      "state": {
       "_model_module": "@jupyter-widgets/base",
       "_model_module_version": "1.2.0",
       "_model_name": "LayoutModel",
       "_view_count": null,
       "_view_module": "@jupyter-widgets/base",
       "_view_module_version": "1.2.0",
       "_view_name": "LayoutView",
       "align_content": null,
       "align_items": null,
       "align_self": null,
       "border": null,
       "bottom": null,
       "display": null,
       "flex": null,
       "flex_flow": null,
       "grid_area": null,
       "grid_auto_columns": null,
       "grid_auto_flow": null,
       "grid_auto_rows": null,
       "grid_column": null,
       "grid_gap": null,
       "grid_row": null,
       "grid_template_areas": null,
       "grid_template_columns": null,
       "grid_template_rows": null,
       "height": null,
       "justify_content": null,
       "justify_items": null,
       "left": null,
       "margin": null,
       "max_height": null,
       "max_width": null,
       "min_height": null,
       "min_width": null,
       "object_fit": null,
       "object_position": null,
       "order": null,
       "overflow": null,
       "overflow_x": null,
       "overflow_y": null,
       "padding": null,
       "right": null,
       "top": null,
       "visibility": null,
       "width": null
      }
     },
     "d82f6229880e4d689f7de39b0de194a4": {
      "model_module": "@jupyter-widgets/base",
      "model_module_version": "1.2.0",
      "model_name": "LayoutModel",
      "state": {
       "_model_module": "@jupyter-widgets/base",
       "_model_module_version": "1.2.0",
       "_model_name": "LayoutModel",
       "_view_count": null,
       "_view_module": "@jupyter-widgets/base",
       "_view_module_version": "1.2.0",
       "_view_name": "LayoutView",
       "align_content": null,
       "align_items": null,
       "align_self": null,
       "border": null,
       "bottom": null,
       "display": null,
       "flex": null,
       "flex_flow": null,
       "grid_area": null,
       "grid_auto_columns": null,
       "grid_auto_flow": null,
       "grid_auto_rows": null,
       "grid_column": null,
       "grid_gap": null,
       "grid_row": null,
       "grid_template_areas": null,
       "grid_template_columns": null,
       "grid_template_rows": null,
       "height": null,
       "justify_content": null,
       "justify_items": null,
       "left": null,
       "margin": null,
       "max_height": null,
       "max_width": null,
       "min_height": null,
       "min_width": null,
       "object_fit": null,
       "object_position": null,
       "order": null,
       "overflow": null,
       "overflow_x": null,
       "overflow_y": null,
       "padding": null,
       "right": null,
       "top": null,
       "visibility": null,
       "width": null
      }
     }
    },
    "version_major": 2,
    "version_minor": 0
   }
  }
 },
 "nbformat": 4,
 "nbformat_minor": 5
}