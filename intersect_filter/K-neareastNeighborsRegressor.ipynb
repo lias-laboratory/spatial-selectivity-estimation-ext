{
 "cells": [
  {
   "cell_type": "code",
   "execution_count": 1,
   "id": "d49ec833",
   "metadata": {
    "execution": {
     "iopub.execute_input": "2025-03-11T02:20:41.055186Z",
     "iopub.status.busy": "2025-03-11T02:20:41.054553Z",
     "iopub.status.idle": "2025-03-11T04:44:30.873680Z",
     "shell.execute_reply": "2025-03-11T04:44:30.872630Z"
    },
    "papermill": {
     "duration": 8629.829582,
     "end_time": "2025-03-11T04:44:30.876278",
     "exception": false,
     "start_time": "2025-03-11T02:20:41.046696",
     "status": "completed"
    },
    "tags": []
   },
   "outputs": [
    {
     "name": "stdout",
     "output_type": "stream",
     "text": [
      "Using 29 of 30 available CPU cores\n",
      "Loading spatial statistics...\n",
      "Finding dataset files...\n",
      "Found 14 datasets to process\n"
     ]
    },
    {
     "data": {
      "application/vnd.jupyter.widget-view+json": {
       "model_id": "2ce6a2a277ed4a2694ff03fddccfe36a",
       "version_major": 2,
       "version_minor": 0
      },
      "text/plain": [
       "Processing datasets:   0%|          | 0/14 [00:00<?, ?it/s]"
      ]
     },
     "metadata": {},
     "output_type": "display_data"
    },
    {
     "name": "stdout",
     "output_type": "stream",
     "text": [
      "Memory usage: 197.49 MB\n",
      "\n",
      "Processing dataset: historicthingwaysorted\n",
      "Universe boundaries for historicthingwaysorted: (-179.99526020000002, -85.0036942, 179.99597930000002, 78.06750650000001)\n",
      "Loading data from ../large_files/resultsIntersects/historicthingwaysorted_results.csv\n"
     ]
    },
    {
     "name": "stdout",
     "output_type": "stream",
     "text": [
      "Parsing MBR coordinates...\n"
     ]
    },
    {
     "name": "stdout",
     "output_type": "stream",
     "text": [
      "\n",
      "Basic statistics for historicthingwaysorted dataset:\n",
      "Max count: 1792176.0\n",
      "Min count: 0.0\n",
      "Mean count: 29765.11\n",
      "Median count: 16.00\n",
      "Total samples: 358439\n",
      "\n",
      "Calculating rectangle densities...\n",
      "Splitting data into train and test sets...\n",
      "Training set size: 286751\n",
      "\n",
      "Training with sample size: 286751\n",
      "Memory usage: 242.54 MB\n",
      "Performing grid search for optimal parameters...\n"
     ]
    },
    {
     "name": "stdout",
     "output_type": "stream",
     "text": [
      "Grid search complete in 1232.67s\n",
      "Best parameters: {'algorithm': 'auto', 'n_neighbors': 7, 'weights': 'distance'}\n",
      "Training KNN model...\n"
     ]
    },
    {
     "name": "stdout",
     "output_type": "stream",
     "text": [
      "Making predictions...\n"
     ]
    },
    {
     "name": "stdout",
     "output_type": "stream",
     "text": [
      "Calculating performance metrics...\n",
      "Measuring prediction performance...\n"
     ]
    },
    {
     "name": "stdout",
     "output_type": "stream",
     "text": [
      "Saving model...\n"
     ]
    },
    {
     "name": "stdout",
     "output_type": "stream",
     "text": [
      "Model size: 19703.56 KB\n",
      "\n",
      "Results for historicthingwaysorted, Sample Size: 286751\n",
      "Grid Search Time: 1232.67s, Training Time: 0.21s\n",
      "KNN Parameters: {'algorithm': 'auto', 'n_neighbors': 7, 'weights': 'distance'}\n",
      "Performance: R² = 0.9803, MAE = 3615.25, MAPE = 115.41%\n",
      "q-score: 3.08\n",
      "Prediction time: 602.5035 μs/sample\n",
      "I/O: Reads=0.000080, Writes=0.000029\n",
      "--------------------------------------------------------------------------------\n",
      "Generating prediction scatter plot...\n"
     ]
    },
    {
     "name": "stdout",
     "output_type": "stream",
     "text": [
      "Generating side-by-side comparison plot...\n"
     ]
    },
    {
     "name": "stdout",
     "output_type": "stream",
     "text": [
      "\n",
      "Training with sample size: 100000\n",
      "Memory usage: 383.71 MB\n",
      "Using best parameters from max scale: {'algorithm': 'auto', 'n_neighbors': 7, 'weights': 'distance'}\n",
      "Training KNN model...\n",
      "Making predictions...\n"
     ]
    },
    {
     "name": "stdout",
     "output_type": "stream",
     "text": [
      "Calculating performance metrics...\n",
      "Measuring prediction performance...\n"
     ]
    },
    {
     "name": "stdout",
     "output_type": "stream",
     "text": [
      "Saving model...\n"
     ]
    },
    {
     "name": "stdout",
     "output_type": "stream",
     "text": [
      "Model size: 6711.64 KB\n",
      "\n",
      "Results for historicthingwaysorted, Sample Size: 100000\n",
      "Grid Search Time: 0.00s, Training Time: 0.06s\n",
      "KNN Parameters: {'algorithm': 'auto', 'n_neighbors': 7, 'weights': 'distance'}\n",
      "Performance: R² = 0.9626, MAE = 5238.36, MAPE = 194.79%\n",
      "q-score: 4.45\n",
      "Prediction time: 772.8590 μs/sample\n",
      "I/O: Reads=0.000001, Writes=0.000293\n",
      "--------------------------------------------------------------------------------\n",
      "\n",
      "Training with sample size: 50000\n",
      "Memory usage: 383.92 MB\n",
      "Using best parameters from max scale: {'algorithm': 'auto', 'n_neighbors': 7, 'weights': 'distance'}\n",
      "Training KNN model...\n",
      "Making predictions...\n"
     ]
    },
    {
     "name": "stdout",
     "output_type": "stream",
     "text": [
      "Calculating performance metrics...\n",
      "Measuring prediction performance...\n"
     ]
    },
    {
     "name": "stdout",
     "output_type": "stream",
     "text": [
      "Saving model...\n",
      "Model size: 3329.30 KB\n",
      "\n",
      "Results for historicthingwaysorted, Sample Size: 50000\n",
      "Grid Search Time: 0.00s, Training Time: 0.03s\n",
      "KNN Parameters: {'algorithm': 'auto', 'n_neighbors': 7, 'weights': 'distance'}\n",
      "Performance: R² = 0.9499, MAE = 6388.53, MAPE = 240.96%\n",
      "q-score: 5.25\n",
      "Prediction time: 286.3931 μs/sample\n",
      "I/O: Reads=0.000000, Writes=0.000025\n",
      "--------------------------------------------------------------------------------\n"
     ]
    },
    {
     "name": "stdout",
     "output_type": "stream",
     "text": [
      "\n",
      "Training with sample size: 10000\n",
      "Memory usage: 383.92 MB\n",
      "Using best parameters from max scale: {'algorithm': 'auto', 'n_neighbors': 7, 'weights': 'distance'}\n",
      "Training KNN model...\n",
      "Making predictions...\n"
     ]
    },
    {
     "name": "stdout",
     "output_type": "stream",
     "text": [
      "Calculating performance metrics...\n",
      "Measuring prediction performance...\n"
     ]
    },
    {
     "name": "stdout",
     "output_type": "stream",
     "text": [
      "Saving model...\n",
      "Model size: 669.79 KB\n",
      "\n",
      "Results for historicthingwaysorted, Sample Size: 10000\n",
      "Grid Search Time: 0.00s, Training Time: 0.00s\n",
      "KNN Parameters: {'algorithm': 'auto', 'n_neighbors': 7, 'weights': 'distance'}\n",
      "Performance: R² = 0.8852, MAE = 10507.32, MAPE = 491.53%\n",
      "q-score: 9.38\n",
      "Prediction time: 203.3993 μs/sample\n",
      "I/O: Reads=0.000000, Writes=0.000119\n",
      "--------------------------------------------------------------------------------\n",
      "\n",
      "Training with sample size: 5000\n",
      "Memory usage: 383.92 MB\n",
      "Using best parameters from max scale: {'algorithm': 'auto', 'n_neighbors': 7, 'weights': 'distance'}\n",
      "Training KNN model...\n",
      "Making predictions...\n"
     ]
    },
    {
     "name": "stdout",
     "output_type": "stream",
     "text": [
      "Calculating performance metrics...\n",
      "Measuring prediction performance...\n"
     ]
    },
    {
     "name": "stdout",
     "output_type": "stream",
     "text": [
      "Saving model...\n",
      "Model size: 336.10 KB\n",
      "\n",
      "Results for historicthingwaysorted, Sample Size: 5000\n",
      "Grid Search Time: 0.00s, Training Time: 0.00s\n",
      "KNN Parameters: {'algorithm': 'auto', 'n_neighbors': 7, 'weights': 'distance'}\n",
      "Performance: R² = 0.8299, MAE = 13301.90, MAPE = 652.88%\n",
      "q-score: 12.09\n",
      "Prediction time: 243.2956 μs/sample\n",
      "I/O: Reads=0.000080, Writes=0.000046\n",
      "--------------------------------------------------------------------------------\n",
      "\n",
      "Training with sample size: 1000\n",
      "Memory usage: 383.92 MB\n",
      "Using best parameters from max scale: {'algorithm': 'auto', 'n_neighbors': 7, 'weights': 'distance'}\n",
      "Training KNN model...\n",
      "Making predictions...\n"
     ]
    },
    {
     "name": "stdout",
     "output_type": "stream",
     "text": [
      "Calculating performance metrics...\n",
      "Measuring prediction performance...\n"
     ]
    },
    {
     "name": "stdout",
     "output_type": "stream",
     "text": [
      "Saving model...\n",
      "Model size: 38.76 KB\n",
      "\n",
      "Results for historicthingwaysorted, Sample Size: 1000\n",
      "Grid Search Time: 0.00s, Training Time: 0.00s\n",
      "KNN Parameters: {'algorithm': 'auto', 'n_neighbors': 7, 'weights': 'distance'}\n",
      "Performance: R² = 0.6036, MAE = 22211.22, MAPE = 2326.41%\n",
      "q-score: 39.31\n",
      "Prediction time: 119.0734 μs/sample\n",
      "I/O: Reads=0.000000, Writes=0.000014\n",
      "--------------------------------------------------------------------------------\n",
      "Saving results for historicthingwaysorted...\n",
      "Memory usage: 375.24 MB\n",
      "\n",
      "Processing dataset: powerthingnodesorted\n",
      "Universe boundaries for powerthingnodesorted: (-177.92741900000001, -77.8453164, 178.47197400000002, 78.2256315)\n",
      "Loading data from ../large_files/resultsIntersects/powerthingnodesorted_results.csv\n"
     ]
    },
    {
     "name": "stdout",
     "output_type": "stream",
     "text": [
      "Parsing MBR coordinates...\n"
     ]
    },
    {
     "name": "stdout",
     "output_type": "stream",
     "text": [
      "\n",
      "Basic statistics for powerthingnodesorted dataset:\n",
      "Max count: 10512575.0\n",
      "Min count: 0.0\n",
      "Mean count: 174964.97\n",
      "Median count: 41.00\n",
      "Total samples: 2102514\n",
      "\n",
      "Calculating rectangle densities...\n",
      "Splitting data into train and test sets...\n"
     ]
    },
    {
     "name": "stdout",
     "output_type": "stream",
     "text": [
      "Training set size: 1682011\n",
      "\n",
      "Training with sample size: 1682011\n",
      "Memory usage: 554.25 MB\n",
      "Performing grid search for optimal parameters...\n"
     ]
    },
    {
     "name": "stdout",
     "output_type": "stream",
     "text": [
      "Grid search complete in 7230.95s\n",
      "Best parameters: {'algorithm': 'auto', 'n_neighbors': 10, 'weights': 'distance'}\n",
      "Training KNN model...\n"
     ]
    },
    {
     "name": "stdout",
     "output_type": "stream",
     "text": [
      "Making predictions...\n"
     ]
    },
    {
     "name": "stdout",
     "output_type": "stream",
     "text": [
      "Calculating performance metrics...\n",
      "Measuring prediction performance...\n"
     ]
    },
    {
     "name": "stdout",
     "output_type": "stream",
     "text": [
      "Saving model...\n"
     ]
    },
    {
     "name": "stdout",
     "output_type": "stream",
     "text": [
      "Model size: 114970.86 KB\n",
      "\n",
      "Results for powerthingnodesorted, Sample Size: 1682011\n",
      "Grid Search Time: 7230.95s, Training Time: 2.11s\n",
      "KNN Parameters: {'algorithm': 'auto', 'n_neighbors': 10, 'weights': 'distance'}\n",
      "Performance: R² = 0.9963, MAE = 10245.40, MAPE = 777.38%\n",
      "q-score: 14.53\n",
      "Prediction time: 825.6106 μs/sample\n",
      "I/O: Reads=0.000027, Writes=0.000034\n",
      "--------------------------------------------------------------------------------\n",
      "Generating prediction scatter plot...\n"
     ]
    },
    {
     "name": "stdout",
     "output_type": "stream",
     "text": [
      "Generating side-by-side comparison plot...\n"
     ]
    },
    {
     "name": "stdout",
     "output_type": "stream",
     "text": [
      "\n",
      "Training with sample size: 1000000\n",
      "Memory usage: 964.18 MB\n",
      "Using best parameters from max scale: {'algorithm': 'auto', 'n_neighbors': 10, 'weights': 'distance'}\n",
      "Training KNN model...\n"
     ]
    },
    {
     "name": "stdout",
     "output_type": "stream",
     "text": [
      "Making predictions...\n"
     ]
    },
    {
     "name": "stdout",
     "output_type": "stream",
     "text": [
      "Calculating performance metrics...\n",
      "Measuring prediction performance...\n"
     ]
    },
    {
     "name": "stdout",
     "output_type": "stream",
     "text": [
      "Saving model...\n"
     ]
    },
    {
     "name": "stdout",
     "output_type": "stream",
     "text": [
      "Model size: 70104.23 KB\n",
      "\n",
      "Results for powerthingnodesorted, Sample Size: 1000000\n",
      "Grid Search Time: 0.00s, Training Time: 1.04s\n",
      "KNN Parameters: {'algorithm': 'auto', 'n_neighbors': 10, 'weights': 'distance'}\n",
      "Performance: R² = 0.9949, MAE = 12101.10, MAPE = 967.59%\n",
      "q-score: 17.78\n",
      "Prediction time: 745.3625 μs/sample\n",
      "I/O: Reads=0.000027, Writes=0.000033\n",
      "--------------------------------------------------------------------------------\n",
      "\n",
      "Training with sample size: 500000\n",
      "Memory usage: 981.11 MB\n",
      "Using best parameters from max scale: {'algorithm': 'auto', 'n_neighbors': 10, 'weights': 'distance'}\n",
      "Training KNN model...\n"
     ]
    },
    {
     "name": "stdout",
     "output_type": "stream",
     "text": [
      "Making predictions...\n"
     ]
    },
    {
     "name": "stdout",
     "output_type": "stream",
     "text": [
      "Calculating performance metrics...\n",
      "Measuring prediction performance...\n"
     ]
    },
    {
     "name": "stdout",
     "output_type": "stream",
     "text": [
      "Saving model...\n"
     ]
    },
    {
     "name": "stdout",
     "output_type": "stream",
     "text": [
      "Model size: 34938.56 KB\n",
      "\n",
      "Results for powerthingnodesorted, Sample Size: 500000\n",
      "Grid Search Time: 0.00s, Training Time: 0.39s\n",
      "KNN Parameters: {'algorithm': 'auto', 'n_neighbors': 10, 'weights': 'distance'}\n",
      "Performance: R² = 0.9923, MAE = 14997.00, MAPE = 1306.54%\n",
      "q-score: 23.55\n",
      "Prediction time: 421.6040 μs/sample\n",
      "I/O: Reads=0.000014, Writes=0.000032\n",
      "--------------------------------------------------------------------------------\n",
      "\n",
      "Training with sample size: 100000\n",
      "Memory usage: 981.20 MB\n",
      "Using best parameters from max scale: {'algorithm': 'auto', 'n_neighbors': 10, 'weights': 'distance'}\n",
      "Training KNN model...\n",
      "Making predictions...\n"
     ]
    },
    {
     "name": "stdout",
     "output_type": "stream",
     "text": [
      "Calculating performance metrics...\n",
      "Measuring prediction performance...\n"
     ]
    },
    {
     "name": "stdout",
     "output_type": "stream",
     "text": [
      "Saving model...\n"
     ]
    },
    {
     "name": "stdout",
     "output_type": "stream",
     "text": [
      "Model size: 6747.15 KB\n",
      "\n",
      "Results for powerthingnodesorted, Sample Size: 100000\n",
      "Grid Search Time: 0.00s, Training Time: 0.06s\n",
      "KNN Parameters: {'algorithm': 'auto', 'n_neighbors': 10, 'weights': 'distance'}\n",
      "Performance: R² = 0.9804, MAE = 25522.33, MAPE = 4229.49%\n",
      "q-score: 74.16\n",
      "Prediction time: 380.6824 μs/sample\n",
      "I/O: Reads=0.000014, Writes=0.000028\n",
      "--------------------------------------------------------------------------------\n",
      "\n",
      "Training with sample size: 50000\n",
      "Memory usage: 981.20 MB\n",
      "Using best parameters from max scale: {'algorithm': 'auto', 'n_neighbors': 10, 'weights': 'distance'}\n",
      "Training KNN model...\n",
      "Making predictions...\n"
     ]
    },
    {
     "name": "stdout",
     "output_type": "stream",
     "text": [
      "Calculating performance metrics...\n",
      "Measuring prediction performance...\n"
     ]
    },
    {
     "name": "stdout",
     "output_type": "stream",
     "text": [
      "Saving model...\n",
      "Model size: 3346.68 KB\n",
      "\n",
      "Results for powerthingnodesorted, Sample Size: 50000\n",
      "Grid Search Time: 0.00s, Training Time: 0.03s\n",
      "KNN Parameters: {'algorithm': 'auto', 'n_neighbors': 10, 'weights': 'distance'}\n",
      "Performance: R² = 0.9718, MAE = 31693.10, MAPE = 6436.13%\n",
      "q-score: 111.95\n",
      "Prediction time: 349.4429 μs/sample\n",
      "I/O: Reads=0.000000, Writes=0.000013\n",
      "--------------------------------------------------------------------------------\n"
     ]
    },
    {
     "name": "stdout",
     "output_type": "stream",
     "text": [
      "\n",
      "Training with sample size: 10000\n",
      "Memory usage: 981.20 MB\n",
      "Using best parameters from max scale: {'algorithm': 'auto', 'n_neighbors': 10, 'weights': 'distance'}\n",
      "Training KNN model...\n",
      "Making predictions...\n"
     ]
    },
    {
     "name": "stdout",
     "output_type": "stream",
     "text": [
      "Calculating performance metrics...\n",
      "Measuring prediction performance...\n"
     ]
    },
    {
     "name": "stdout",
     "output_type": "stream",
     "text": [
      "Saving model...\n",
      "Model size: 673.19 KB\n",
      "\n",
      "Results for powerthingnodesorted, Sample Size: 10000\n",
      "Grid Search Time: 0.00s, Training Time: 0.00s\n",
      "KNN Parameters: {'algorithm': 'auto', 'n_neighbors': 10, 'weights': 'distance'}\n",
      "Performance: R² = 0.9159, MAE = 55757.37, MAPE = 14118.51%\n",
      "q-score: 242.83\n",
      "Prediction time: 232.9392 μs/sample\n",
      "I/O: Reads=0.000000, Writes=0.000012\n",
      "--------------------------------------------------------------------------------\n",
      "\n",
      "Training with sample size: 5000\n",
      "Memory usage: 981.20 MB\n",
      "Using best parameters from max scale: {'algorithm': 'auto', 'n_neighbors': 10, 'weights': 'distance'}\n",
      "Training KNN model...\n",
      "Making predictions...\n"
     ]
    },
    {
     "name": "stdout",
     "output_type": "stream",
     "text": [
      "Calculating performance metrics...\n",
      "Measuring prediction performance...\n"
     ]
    },
    {
     "name": "stdout",
     "output_type": "stream",
     "text": [
      "Saving model...\n",
      "Model size: 337.86 KB\n",
      "\n",
      "Results for powerthingnodesorted, Sample Size: 5000\n",
      "Grid Search Time: 0.00s, Training Time: 0.00s\n",
      "KNN Parameters: {'algorithm': 'auto', 'n_neighbors': 10, 'weights': 'distance'}\n",
      "Performance: R² = 0.8748, MAE = 70494.08, MAPE = 19852.77%\n",
      "q-score: 341.02\n",
      "Prediction time: 195.6614 μs/sample\n",
      "I/O: Reads=0.000014, Writes=0.000012\n",
      "--------------------------------------------------------------------------------\n",
      "\n",
      "Training with sample size: 1000\n",
      "Memory usage: 981.20 MB\n",
      "Using best parameters from max scale: {'algorithm': 'auto', 'n_neighbors': 10, 'weights': 'distance'}\n",
      "Training KNN model...\n",
      "Making predictions...\n"
     ]
    },
    {
     "name": "stdout",
     "output_type": "stream",
     "text": [
      "Calculating performance metrics...\n",
      "Measuring prediction performance...\n"
     ]
    },
    {
     "name": "stdout",
     "output_type": "stream",
     "text": [
      "Saving model...\n",
      "Model size: 39.05 KB\n",
      "\n",
      "Results for powerthingnodesorted, Sample Size: 1000\n",
      "Grid Search Time: 0.00s, Training Time: 0.00s\n",
      "KNN Parameters: {'algorithm': 'auto', 'n_neighbors': 10, 'weights': 'distance'}\n",
      "Performance: R² = 0.6561, MAE = 112378.87, MAPE = 33959.16%\n",
      "q-score: 582.17\n",
      "Prediction time: 126.0051 μs/sample\n",
      "I/O: Reads=0.000000, Writes=0.000005\n",
      "--------------------------------------------------------------------------------\n",
      "Saving results for powerthingnodesorted...\n",
      "Memory usage: 929.88 MB\n",
      "\n",
      "Processing dataset: cyclewaythingwaysorted\n",
      "Universe boundaries for cyclewaythingwaysorted: (-175.2093065, -75.1027861, 176.92582230000002, 71.0488105)\n",
      "Loading data from ../large_files/resultsIntersects/cyclewaythingwaysorted_results.csv\n"
     ]
    },
    {
     "name": "stdout",
     "output_type": "stream",
     "text": [
      "Parsing MBR coordinates...\n"
     ]
    },
    {
     "name": "stdout",
     "output_type": "stream",
     "text": [
      "\n",
      "Basic statistics for cyclewaythingwaysorted dataset:\n",
      "Max count: 5334900.0\n",
      "Min count: 0.0\n",
      "Mean count: 76783.36\n",
      "Median count: 0.00\n",
      "Total samples: 1067063\n",
      "\n",
      "Calculating rectangle densities...\n",
      "Splitting data into train and test sets...\n",
      "Training set size: 853650\n",
      "\n",
      "Training with sample size: 853650\n",
      "Memory usage: 870.98 MB\n",
      "Performing grid search for optimal parameters...\n"
     ]
    },
    {
     "name": "stdout",
     "output_type": "stream",
     "text": [
      "Grid search complete in 2713.93s\n",
      "Best parameters: {'algorithm': 'auto', 'n_neighbors': 7, 'weights': 'distance'}\n",
      "Training KNN model...\n"
     ]
    },
    {
     "name": "stdout",
     "output_type": "stream",
     "text": [
      "Making predictions...\n"
     ]
    },
    {
     "name": "stdout",
     "output_type": "stream",
     "text": [
      "Calculating performance metrics...\n",
      "Measuring prediction performance...\n"
     ]
    },
    {
     "name": "stdout",
     "output_type": "stream",
     "text": [
      "Saving model...\n"
     ]
    },
    {
     "name": "stdout",
     "output_type": "stream",
     "text": [
      "Model size: 57862.90 KB\n",
      "\n",
      "Results for cyclewaythingwaysorted, Sample Size: 853650\n",
      "Grid Search Time: 2713.93s, Training Time: 0.77s\n",
      "KNN Parameters: {'algorithm': 'auto', 'n_neighbors': 7, 'weights': 'distance'}\n",
      "Performance: R² = 0.9873, MAE = 7902.84, MAPE = 303.49%\n",
      "q-score: 6.74\n",
      "Prediction time: 544.9212 μs/sample\n",
      "I/O: Reads=0.000027, Writes=0.000025\n",
      "--------------------------------------------------------------------------------\n",
      "Generating prediction scatter plot...\n"
     ]
    },
    {
     "name": "stdout",
     "output_type": "stream",
     "text": [
      "Generating side-by-side comparison plot...\n"
     ]
    },
    {
     "name": "stdout",
     "output_type": "stream",
     "text": [
      "\n",
      "Training with sample size: 500000\n",
      "Memory usage: 857.17 MB\n",
      "Using best parameters from max scale: {'algorithm': 'auto', 'n_neighbors': 7, 'weights': 'distance'}\n",
      "Training KNN model...\n"
     ]
    },
    {
     "name": "stdout",
     "output_type": "stream",
     "text": [
      "Making predictions...\n"
     ]
    },
    {
     "name": "stdout",
     "output_type": "stream",
     "text": [
      "Calculating performance metrics...\n",
      "Measuring prediction performance...\n"
     ]
    },
    {
     "name": "stdout",
     "output_type": "stream",
     "text": [
      "Saving model...\n"
     ]
    },
    {
     "name": "stdout",
     "output_type": "stream",
     "text": [
      "Model size: 34755.16 KB\n",
      "\n",
      "Results for cyclewaythingwaysorted, Sample Size: 500000\n",
      "Grid Search Time: 0.00s, Training Time: 0.41s\n",
      "KNN Parameters: {'algorithm': 'auto', 'n_neighbors': 7, 'weights': 'distance'}\n",
      "Performance: R² = 0.9827, MAE = 9249.34, MAPE = 370.05%\n",
      "q-score: 7.80\n",
      "Prediction time: 464.7795 μs/sample\n",
      "I/O: Reads=0.000027, Writes=0.000026\n",
      "--------------------------------------------------------------------------------\n",
      "\n",
      "Training with sample size: 100000\n",
      "Memory usage: 824.14 MB\n",
      "Using best parameters from max scale: {'algorithm': 'auto', 'n_neighbors': 7, 'weights': 'distance'}\n",
      "Training KNN model...\n",
      "Making predictions...\n"
     ]
    },
    {
     "name": "stdout",
     "output_type": "stream",
     "text": [
      "Calculating performance metrics...\n",
      "Measuring prediction performance...\n"
     ]
    },
    {
     "name": "stdout",
     "output_type": "stream",
     "text": [
      "Saving model...\n"
     ]
    },
    {
     "name": "stdout",
     "output_type": "stream",
     "text": [
      "Model size: 6710.64 KB\n",
      "\n",
      "Results for cyclewaythingwaysorted, Sample Size: 100000\n",
      "Grid Search Time: 0.00s, Training Time: 0.06s\n",
      "KNN Parameters: {'algorithm': 'auto', 'n_neighbors': 7, 'weights': 'distance'}\n",
      "Performance: R² = 0.9566, MAE = 15498.09, MAPE = 813.62%\n",
      "q-score: 15.81\n",
      "Prediction time: 430.8135 μs/sample\n",
      "I/O: Reads=0.000027, Writes=0.000255\n",
      "--------------------------------------------------------------------------------\n",
      "\n",
      "Training with sample size: 50000\n",
      "Memory usage: 881.01 MB\n",
      "Using best parameters from max scale: {'algorithm': 'auto', 'n_neighbors': 7, 'weights': 'distance'}\n",
      "Training KNN model...\n",
      "Making predictions...\n"
     ]
    },
    {
     "name": "stdout",
     "output_type": "stream",
     "text": [
      "Calculating performance metrics...\n",
      "Measuring prediction performance...\n"
     ]
    },
    {
     "name": "stdout",
     "output_type": "stream",
     "text": [
      "Saving model...\n",
      "Model size: 3328.92 KB\n",
      "\n",
      "Results for cyclewaythingwaysorted, Sample Size: 50000\n",
      "Grid Search Time: 0.00s, Training Time: 0.03s\n",
      "KNN Parameters: {'algorithm': 'auto', 'n_neighbors': 7, 'weights': 'distance'}\n",
      "Performance: R² = 0.9367, MAE = 19123.55, MAPE = 1070.09%\n",
      "q-score: 20.15\n",
      "Prediction time: 298.3316 μs/sample\n",
      "I/O: Reads=0.000000, Writes=0.000015\n",
      "--------------------------------------------------------------------------------\n"
     ]
    },
    {
     "name": "stdout",
     "output_type": "stream",
     "text": [
      "\n",
      "Training with sample size: 10000\n",
      "Memory usage: 881.01 MB\n",
      "Using best parameters from max scale: {'algorithm': 'auto', 'n_neighbors': 7, 'weights': 'distance'}\n",
      "Training KNN model...\n",
      "Making predictions...\n"
     ]
    },
    {
     "name": "stdout",
     "output_type": "stream",
     "text": [
      "Calculating performance metrics...\n",
      "Measuring prediction performance...\n"
     ]
    },
    {
     "name": "stdout",
     "output_type": "stream",
     "text": [
      "Saving model...\n",
      "Model size: 669.24 KB\n",
      "\n",
      "Results for cyclewaythingwaysorted, Sample Size: 10000\n",
      "Grid Search Time: 0.00s, Training Time: 0.01s\n",
      "KNN Parameters: {'algorithm': 'auto', 'n_neighbors': 7, 'weights': 'distance'}\n",
      "Performance: R² = 0.8467, MAE = 31682.99, MAPE = 2216.51%\n",
      "q-score: 40.86\n",
      "Prediction time: 204.8512 μs/sample\n",
      "I/O: Reads=0.000000, Writes=0.000009\n",
      "--------------------------------------------------------------------------------\n",
      "\n",
      "Training with sample size: 5000\n",
      "Memory usage: 881.01 MB\n",
      "Using best parameters from max scale: {'algorithm': 'auto', 'n_neighbors': 7, 'weights': 'distance'}\n",
      "Training KNN model...\n",
      "Making predictions...\n"
     ]
    },
    {
     "name": "stdout",
     "output_type": "stream",
     "text": [
      "Calculating performance metrics...\n",
      "Measuring prediction performance...\n"
     ]
    },
    {
     "name": "stdout",
     "output_type": "stream",
     "text": [
      "Saving model...\n",
      "Model size: 335.84 KB\n",
      "\n",
      "Results for cyclewaythingwaysorted, Sample Size: 5000\n",
      "Grid Search Time: 0.00s, Training Time: 0.00s\n",
      "KNN Parameters: {'algorithm': 'auto', 'n_neighbors': 7, 'weights': 'distance'}\n",
      "Performance: R² = 0.7842, MAE = 38209.92, MAPE = 2725.99%\n",
      "q-score: 49.67\n",
      "Prediction time: 176.7512 μs/sample\n",
      "I/O: Reads=0.000027, Writes=0.000004\n",
      "--------------------------------------------------------------------------------\n",
      "\n",
      "Training with sample size: 1000\n",
      "Memory usage: 881.01 MB\n",
      "Using best parameters from max scale: {'algorithm': 'auto', 'n_neighbors': 7, 'weights': 'distance'}\n",
      "Training KNN model...\n",
      "Making predictions...\n"
     ]
    },
    {
     "name": "stdout",
     "output_type": "stream",
     "text": [
      "Calculating performance metrics...\n",
      "Measuring prediction performance...\n"
     ]
    },
    {
     "name": "stdout",
     "output_type": "stream",
     "text": [
      "Saving model...\n",
      "Model size: 38.67 KB\n",
      "\n",
      "Results for cyclewaythingwaysorted, Sample Size: 1000\n",
      "Grid Search Time: 0.00s, Training Time: 0.00s\n",
      "KNN Parameters: {'algorithm': 'auto', 'n_neighbors': 7, 'weights': 'distance'}\n",
      "Performance: R² = 0.5959, MAE = 56404.43, MAPE = 5006.64%\n",
      "q-score: 87.70\n",
      "Prediction time: 114.9263 μs/sample\n",
      "I/O: Reads=0.000000, Writes=0.000011\n",
      "--------------------------------------------------------------------------------\n",
      "Saving results for cyclewaythingwaysorted...\n",
      "Memory usage: 881.01 MB\n",
      "\n",
      "Processing dataset: aerowaythingwaysorted\n",
      "Universe boundaries for aerowaythingwaysorted: (-179.88131460000002, -79.7773063, 179.426138, 85.05258450000001)\n",
      "Loading data from ../large_files/resultsIntersects/aerowaythingwaysorted_results.csv\n"
     ]
    },
    {
     "name": "stdout",
     "output_type": "stream",
     "text": [
      "Parsing MBR coordinates...\n"
     ]
    },
    {
     "name": "stdout",
     "output_type": "stream",
     "text": [
      "\n",
      "Basic statistics for aerowaythingwaysorted dataset:\n",
      "Max count: 1841551.0\n",
      "Min count: 0.0\n",
      "Mean count: 32185.32\n",
      "Median count: 227.00\n",
      "Total samples: 368365\n",
      "\n",
      "Calculating rectangle densities...\n",
      "Splitting data into train and test sets...\n",
      "Training set size: 294692\n",
      "\n",
      "Training with sample size: 294692\n",
      "Memory usage: 889.73 MB\n",
      "Performing grid search for optimal parameters...\n"
     ]
    },
    {
     "name": "stdout",
     "output_type": "stream",
     "text": [
      "Grid search complete in 994.83s\n",
      "Best parameters: {'algorithm': 'auto', 'n_neighbors': 7, 'weights': 'distance'}\n",
      "Training KNN model...\n"
     ]
    },
    {
     "name": "stdout",
     "output_type": "stream",
     "text": [
      "Making predictions...\n"
     ]
    },
    {
     "name": "stdout",
     "output_type": "stream",
     "text": [
      "Calculating performance metrics...\n",
      "Measuring prediction performance...\n"
     ]
    },
    {
     "name": "stdout",
     "output_type": "stream",
     "text": [
      "Saving model...\n"
     ]
    },
    {
     "name": "stdout",
     "output_type": "stream",
     "text": [
      "Model size: 20326.64 KB\n",
      "\n",
      "Results for aerowaythingwaysorted, Sample Size: 294692\n",
      "Grid Search Time: 994.83s, Training Time: 0.21s\n",
      "KNN Parameters: {'algorithm': 'auto', 'n_neighbors': 7, 'weights': 'distance'}\n",
      "Performance: R² = 0.9913, MAE = 3075.73, MAPE = 197.90%\n",
      "q-score: 3.95\n",
      "Prediction time: 678.7739 μs/sample\n",
      "I/O: Reads=0.000000, Writes=0.000099\n",
      "--------------------------------------------------------------------------------\n",
      "Generating prediction scatter plot...\n"
     ]
    },
    {
     "name": "stdout",
     "output_type": "stream",
     "text": [
      "Generating side-by-side comparison plot...\n"
     ]
    },
    {
     "name": "stdout",
     "output_type": "stream",
     "text": [
      "\n",
      "Training with sample size: 100000\n",
      "Memory usage: 832.86 MB\n",
      "Using best parameters from max scale: {'algorithm': 'auto', 'n_neighbors': 7, 'weights': 'distance'}\n",
      "Training KNN model...\n",
      "Making predictions...\n"
     ]
    },
    {
     "name": "stdout",
     "output_type": "stream",
     "text": [
      "Calculating performance metrics...\n",
      "Measuring prediction performance...\n"
     ]
    },
    {
     "name": "stdout",
     "output_type": "stream",
     "text": [
      "Saving model...\n"
     ]
    },
    {
     "name": "stdout",
     "output_type": "stream",
     "text": [
      "Model size: 6749.14 KB\n",
      "\n",
      "Results for aerowaythingwaysorted, Sample Size: 100000\n",
      "Grid Search Time: 0.00s, Training Time: 0.06s\n",
      "KNN Parameters: {'algorithm': 'auto', 'n_neighbors': 7, 'weights': 'distance'}\n",
      "Performance: R² = 0.9843, MAE = 4323.04, MAPE = 307.10%\n",
      "q-score: 5.65\n",
      "Prediction time: 638.3813 μs/sample\n",
      "I/O: Reads=0.000001, Writes=0.000174\n",
      "--------------------------------------------------------------------------------\n",
      "\n",
      "Training with sample size: 50000\n",
      "Memory usage: 832.87 MB\n",
      "Using best parameters from max scale: {'algorithm': 'auto', 'n_neighbors': 7, 'weights': 'distance'}\n",
      "Training KNN model...\n",
      "Making predictions...\n"
     ]
    },
    {
     "name": "stdout",
     "output_type": "stream",
     "text": [
      "Calculating performance metrics...\n",
      "Measuring prediction performance...\n"
     ]
    },
    {
     "name": "stdout",
     "output_type": "stream",
     "text": [
      "Saving model...\n",
      "Model size: 3348.22 KB\n",
      "\n",
      "Results for aerowaythingwaysorted, Sample Size: 50000\n",
      "Grid Search Time: 0.00s, Training Time: 0.03s\n",
      "KNN Parameters: {'algorithm': 'auto', 'n_neighbors': 7, 'weights': 'distance'}\n",
      "Performance: R² = 0.9757, MAE = 5382.01, MAPE = 394.80%\n",
      "q-score: 6.82\n",
      "Prediction time: 433.3312 μs/sample\n",
      "I/O: Reads=0.000077, Writes=0.000239\n",
      "--------------------------------------------------------------------------------\n"
     ]
    },
    {
     "name": "stdout",
     "output_type": "stream",
     "text": [
      "\n",
      "Training with sample size: 10000\n",
      "Memory usage: 832.87 MB\n",
      "Using best parameters from max scale: {'algorithm': 'auto', 'n_neighbors': 7, 'weights': 'distance'}\n",
      "Training KNN model...\n",
      "Making predictions...\n"
     ]
    },
    {
     "name": "stdout",
     "output_type": "stream",
     "text": [
      "Calculating performance metrics...\n",
      "Measuring prediction performance...\n"
     ]
    },
    {
     "name": "stdout",
     "output_type": "stream",
     "text": [
      "Saving model...\n",
      "Model size: 673.66 KB\n",
      "\n",
      "Results for aerowaythingwaysorted, Sample Size: 10000\n",
      "Grid Search Time: 0.00s, Training Time: 0.01s\n",
      "KNN Parameters: {'algorithm': 'auto', 'n_neighbors': 7, 'weights': 'distance'}\n",
      "Performance: R² = 0.9474, MAE = 8642.16, MAPE = 900.13%\n",
      "q-score: 14.83\n",
      "Prediction time: 280.8518 μs/sample\n",
      "I/O: Reads=0.000000, Writes=0.000141\n",
      "--------------------------------------------------------------------------------\n",
      "\n",
      "Training with sample size: 5000\n",
      "Memory usage: 832.87 MB\n",
      "Using best parameters from max scale: {'algorithm': 'auto', 'n_neighbors': 7, 'weights': 'distance'}\n",
      "Training KNN model...\n",
      "Making predictions...\n"
     ]
    },
    {
     "name": "stdout",
     "output_type": "stream",
     "text": [
      "Calculating performance metrics...\n",
      "Measuring prediction performance...\n"
     ]
    },
    {
     "name": "stdout",
     "output_type": "stream",
     "text": [
      "Saving model...\n",
      "Model size: 338.09 KB\n",
      "\n",
      "Results for aerowaythingwaysorted, Sample Size: 5000\n",
      "Grid Search Time: 0.00s, Training Time: 0.00s\n",
      "KNN Parameters: {'algorithm': 'auto', 'n_neighbors': 7, 'weights': 'distance'}\n",
      "Performance: R² = 0.9251, MAE = 10560.56, MAPE = 1084.77%\n",
      "q-score: 17.29\n",
      "Prediction time: 211.4100 μs/sample\n",
      "I/O: Reads=0.000000, Writes=0.000035\n",
      "--------------------------------------------------------------------------------\n",
      "\n",
      "Training with sample size: 1000\n",
      "Memory usage: 832.87 MB\n",
      "Using best parameters from max scale: {'algorithm': 'auto', 'n_neighbors': 7, 'weights': 'distance'}\n",
      "Training KNN model...\n",
      "Making predictions...\n"
     ]
    },
    {
     "name": "stdout",
     "output_type": "stream",
     "text": [
      "Calculating performance metrics...\n",
      "Measuring prediction performance...\n"
     ]
    },
    {
     "name": "stdout",
     "output_type": "stream",
     "text": [
      "Saving model...\n",
      "Model size: 39.11 KB\n",
      "\n",
      "Results for aerowaythingwaysorted, Sample Size: 1000\n",
      "Grid Search Time: 0.00s, Training Time: 0.00s\n",
      "KNN Parameters: {'algorithm': 'auto', 'n_neighbors': 7, 'weights': 'distance'}\n",
      "Performance: R² = 0.7985, MAE = 16719.02, MAPE = 2036.22%\n",
      "q-score: 30.94\n",
      "Prediction time: 140.9198 μs/sample\n",
      "I/O: Reads=0.000000, Writes=0.000014\n",
      "--------------------------------------------------------------------------------\n",
      "Saving results for aerowaythingwaysorted...\n"
     ]
    },
    {
     "name": "stdout",
     "output_type": "stream",
     "text": [
      "Memory usage: 832.87 MB\n",
      "\n",
      "Processing dataset: zcta5\n",
      "Universe boundaries for zcta5: (-176.684744, -14.373776, 145.830505, 71.341324)\n",
      "Loading data from ../large_files/resultsIntersects/zcta5_results.csv\n",
      "Parsing MBR coordinates...\n",
      "\n",
      "Basic statistics for zcta5 dataset:\n",
      "Max count: 33136.0\n",
      "Min count: 0.0\n",
      "Mean count: 676.56\n",
      "Median count: 0.00\n",
      "Total samples: 6626\n",
      "\n",
      "Calculating rectangle densities...\n",
      "Splitting data into train and test sets...\n",
      "Training set size: 5300\n",
      "\n",
      "Training with sample size: 5300\n",
      "Memory usage: 832.87 MB\n",
      "Performing grid search for optimal parameters...\n"
     ]
    },
    {
     "name": "stdout",
     "output_type": "stream",
     "text": [
      "Grid search complete in 4.66s\n",
      "Best parameters: {'algorithm': 'auto', 'n_neighbors': 5, 'weights': 'distance'}\n",
      "Training KNN model...\n",
      "Making predictions...\n",
      "Calculating performance metrics...\n",
      "Measuring prediction performance...\n"
     ]
    },
    {
     "name": "stdout",
     "output_type": "stream",
     "text": [
      "Saving model...\n",
      "Model size: 348.89 KB\n",
      "\n",
      "Results for zcta5, Sample Size: 5300\n",
      "Grid Search Time: 4.66s, Training Time: 0.00s\n",
      "KNN Parameters: {'algorithm': 'auto', 'n_neighbors': 5, 'weights': 'distance'}\n",
      "Performance: R² = 0.8740, MAE = 216.08, MAPE = 99.19%\n",
      "q-score: 8.47\n",
      "Prediction time: 45.2346 μs/sample\n",
      "I/O: Reads=0.000000, Writes=0.000000\n",
      "--------------------------------------------------------------------------------\n",
      "Generating prediction scatter plot...\n",
      "Generating side-by-side comparison plot...\n"
     ]
    },
    {
     "name": "stdout",
     "output_type": "stream",
     "text": [
      "\n",
      "Training with sample size: 5000\n",
      "Memory usage: 832.87 MB\n",
      "Using best parameters from max scale: {'algorithm': 'auto', 'n_neighbors': 5, 'weights': 'distance'}\n",
      "Training KNN model...\n",
      "Making predictions...\n",
      "Calculating performance metrics...\n",
      "Measuring prediction performance...\n"
     ]
    },
    {
     "name": "stdout",
     "output_type": "stream",
     "text": [
      "Saving model...\n",
      "Model size: 329.74 KB\n",
      "\n",
      "Results for zcta5, Sample Size: 5000\n",
      "Grid Search Time: 0.00s, Training Time: 0.00s\n",
      "KNN Parameters: {'algorithm': 'auto', 'n_neighbors': 5, 'weights': 'distance'}\n",
      "Performance: R² = 0.8617, MAE = 240.57, MAPE = 104.54%\n",
      "q-score: 8.73\n",
      "Prediction time: 46.6718 μs/sample\n",
      "I/O: Reads=0.000000, Writes=0.000377\n",
      "--------------------------------------------------------------------------------\n",
      "\n",
      "Training with sample size: 1000\n",
      "Memory usage: 832.86 MB\n",
      "Using best parameters from max scale: {'algorithm': 'auto', 'n_neighbors': 5, 'weights': 'distance'}\n",
      "Training KNN model...\n",
      "Making predictions...\n"
     ]
    },
    {
     "name": "stdout",
     "output_type": "stream",
     "text": [
      "Calculating performance metrics...\n",
      "Measuring prediction performance...\n"
     ]
    },
    {
     "name": "stdout",
     "output_type": "stream",
     "text": [
      "Saving model...\n",
      "Model size: 37.81 KB\n",
      "\n",
      "Results for zcta5, Sample Size: 1000\n",
      "Grid Search Time: 0.00s, Training Time: 0.00s\n",
      "KNN Parameters: {'algorithm': 'auto', 'n_neighbors': 5, 'weights': 'distance'}\n",
      "Performance: R² = 0.7224, MAE = 400.03, MAPE = 167.27%\n",
      "q-score: 11.66\n",
      "Prediction time: 42.5419 μs/sample\n",
      "I/O: Reads=0.000000, Writes=0.000000\n",
      "--------------------------------------------------------------------------------\n",
      "Saving results for zcta5...\n",
      "Memory usage: 832.86 MB\n",
      "\n",
      "Processing dataset: leisurewaysorted\n",
      "Universe boundaries for leisurewaysorted: (-179.8728244, -89.6957847, 179.8091866, 81.0280175)\n",
      "Loading data from ../large_files/resultsIntersects/leisurewaysorted_results.csv\n"
     ]
    },
    {
     "name": "stdout",
     "output_type": "stream",
     "text": [
      "Parsing MBR coordinates...\n"
     ]
    },
    {
     "name": "stdout",
     "output_type": "stream",
     "text": [
      "\n",
      "Basic statistics for leisurewaysorted dataset:\n",
      "Max count: 29382688.0\n",
      "Min count: 0.0\n",
      "Mean count: 489269.22\n",
      "Median count: 253.00\n",
      "Total samples: 5000000\n",
      "\n",
      "Calculating rectangle densities...\n",
      "Splitting data into train and test sets...\n"
     ]
    },
    {
     "name": "stdout",
     "output_type": "stream",
     "text": [
      "Training set size: 4000000\n",
      "\n",
      "Training with sample size: 4000000\n",
      "Memory usage: 1288.09 MB\n",
      "Performing grid search for optimal parameters...\n"
     ]
    },
    {
     "name": "stdout",
     "output_type": "stream",
     "text": [
      "Grid search complete in 21127.54s\n",
      "Best parameters: {'algorithm': 'auto', 'n_neighbors': 10, 'weights': 'distance'}\n",
      "Training KNN model...\n"
     ]
    },
    {
     "name": "stdout",
     "output_type": "stream",
     "text": [
      "Making predictions...\n"
     ]
    },
    {
     "name": "stdout",
     "output_type": "stream",
     "text": [
      "Calculating performance metrics...\n",
      "Measuring prediction performance...\n"
     ]
    },
    {
     "name": "stdout",
     "output_type": "stream",
     "text": [
      "Saving model...\n"
     ]
    },
    {
     "name": "stdout",
     "output_type": "stream",
     "text": [
      "Model size: 281946.62 KB\n",
      "\n",
      "Results for leisurewaysorted, Sample Size: 4000000\n",
      "Grid Search Time: 21127.54s, Training Time: 6.89s\n",
      "KNN Parameters: {'algorithm': 'auto', 'n_neighbors': 10, 'weights': 'distance'}\n",
      "Performance: R² = 0.9969, MAE = 24634.28, MAPE = 290.93%\n",
      "q-score: 5.46\n",
      "Prediction time: 559.4476 μs/sample\n",
      "I/O: Reads=0.000023, Writes=0.000027\n",
      "--------------------------------------------------------------------------------\n",
      "Generating prediction scatter plot...\n"
     ]
    },
    {
     "name": "stdout",
     "output_type": "stream",
     "text": [
      "Generating side-by-side comparison plot...\n"
     ]
    },
    {
     "name": "stdout",
     "output_type": "stream",
     "text": [
      "\n",
      "Training with sample size: 1000000\n",
      "Memory usage: 2019.90 MB\n",
      "Using best parameters from max scale: {'algorithm': 'auto', 'n_neighbors': 10, 'weights': 'distance'}\n",
      "Training KNN model...\n"
     ]
    },
    {
     "name": "stdout",
     "output_type": "stream",
     "text": [
      "Making predictions...\n"
     ]
    },
    {
     "name": "stdout",
     "output_type": "stream",
     "text": [
      "Calculating performance metrics...\n",
      "Measuring prediction performance...\n"
     ]
    },
    {
     "name": "stdout",
     "output_type": "stream",
     "text": [
      "Saving model...\n"
     ]
    },
    {
     "name": "stdout",
     "output_type": "stream",
     "text": [
      "Model size: 70230.71 KB\n",
      "\n",
      "Results for leisurewaysorted, Sample Size: 1000000\n",
      "Grid Search Time: 0.00s, Training Time: 1.05s\n",
      "KNN Parameters: {'algorithm': 'auto', 'n_neighbors': 10, 'weights': 'distance'}\n",
      "Performance: R² = 0.9929, MAE = 37573.22, MAPE = 531.68%\n",
      "q-score: 8.92\n",
      "Prediction time: 686.7757 μs/sample\n",
      "I/O: Reads=0.000023, Writes=0.000042\n",
      "--------------------------------------------------------------------------------\n",
      "\n",
      "Training with sample size: 500000\n",
      "Memory usage: 2020.04 MB\n",
      "Using best parameters from max scale: {'algorithm': 'auto', 'n_neighbors': 10, 'weights': 'distance'}\n",
      "Training KNN model...\n",
      "Making predictions...\n"
     ]
    },
    {
     "name": "stdout",
     "output_type": "stream",
     "text": [
      "Calculating performance metrics...\n",
      "Measuring prediction performance...\n"
     ]
    },
    {
     "name": "stdout",
     "output_type": "stream",
     "text": [
      "Saving model...\n"
     ]
    },
    {
     "name": "stdout",
     "output_type": "stream",
     "text": [
      "Model size: 35001.07 KB\n",
      "\n",
      "Results for leisurewaysorted, Sample Size: 500000\n",
      "Grid Search Time: 0.00s, Training Time: 0.39s\n",
      "KNN Parameters: {'algorithm': 'auto', 'n_neighbors': 10, 'weights': 'distance'}\n",
      "Performance: R² = 0.9895, MAE = 46886.81, MAPE = 746.18%\n",
      "q-score: 11.95\n",
      "Prediction time: 409.3722 μs/sample\n",
      "I/O: Reads=0.000014, Writes=0.000018\n",
      "--------------------------------------------------------------------------------\n",
      "\n",
      "Training with sample size: 100000\n",
      "Memory usage: 2020.04 MB\n",
      "Using best parameters from max scale: {'algorithm': 'auto', 'n_neighbors': 10, 'weights': 'distance'}\n",
      "Training KNN model...\n",
      "Making predictions...\n"
     ]
    },
    {
     "name": "stdout",
     "output_type": "stream",
     "text": [
      "Calculating performance metrics...\n",
      "Measuring prediction performance...\n"
     ]
    },
    {
     "name": "stdout",
     "output_type": "stream",
     "text": [
      "Saving model...\n"
     ]
    },
    {
     "name": "stdout",
     "output_type": "stream",
     "text": [
      "Model size: 6758.83 KB\n",
      "\n",
      "Results for leisurewaysorted, Sample Size: 100000\n",
      "Grid Search Time: 0.00s, Training Time: 0.06s\n",
      "KNN Parameters: {'algorithm': 'auto', 'n_neighbors': 10, 'weights': 'distance'}\n",
      "Performance: R² = 0.9706, MAE = 79968.45, MAPE = 2036.80%\n",
      "q-score: 30.81\n",
      "Prediction time: 356.3175 μs/sample\n",
      "I/O: Reads=0.000011, Writes=0.000024\n",
      "--------------------------------------------------------------------------------\n",
      "\n",
      "Training with sample size: 50000\n",
      "Memory usage: 2020.04 MB\n",
      "Using best parameters from max scale: {'algorithm': 'auto', 'n_neighbors': 10, 'weights': 'distance'}\n",
      "Training KNN model...\n",
      "Making predictions...\n"
     ]
    },
    {
     "name": "stdout",
     "output_type": "stream",
     "text": [
      "Calculating performance metrics...\n",
      "Measuring prediction performance...\n"
     ]
    },
    {
     "name": "stdout",
     "output_type": "stream",
     "text": [
      "Saving model...\n",
      "Model size: 3352.35 KB\n",
      "\n",
      "Results for leisurewaysorted, Sample Size: 50000\n",
      "Grid Search Time: 0.00s, Training Time: 0.03s\n",
      "KNN Parameters: {'algorithm': 'auto', 'n_neighbors': 10, 'weights': 'distance'}\n",
      "Performance: R² = 0.9547, MAE = 102333.71, MAPE = 3174.55%\n",
      "q-score: 48.01\n",
      "Prediction time: 325.9768 μs/sample\n",
      "I/O: Reads=0.000011, Writes=0.000015\n",
      "--------------------------------------------------------------------------------\n"
     ]
    },
    {
     "name": "stdout",
     "output_type": "stream",
     "text": [
      "\n",
      "Training with sample size: 10000\n",
      "Memory usage: 2020.04 MB\n",
      "Using best parameters from max scale: {'algorithm': 'auto', 'n_neighbors': 10, 'weights': 'distance'}\n",
      "Training KNN model...\n",
      "Making predictions...\n"
     ]
    },
    {
     "name": "stdout",
     "output_type": "stream",
     "text": [
      "Calculating performance metrics...\n",
      "Measuring prediction performance...\n"
     ]
    },
    {
     "name": "stdout",
     "output_type": "stream",
     "text": [
      "Saving model...\n",
      "Model size: 674.29 KB\n",
      "\n",
      "Results for leisurewaysorted, Sample Size: 10000\n",
      "Grid Search Time: 0.00s, Training Time: 0.00s\n",
      "KNN Parameters: {'algorithm': 'auto', 'n_neighbors': 10, 'weights': 'distance'}\n",
      "Performance: R² = 0.8819, MAE = 172479.71, MAPE = 8309.55%\n",
      "q-score: 125.09\n",
      "Prediction time: 226.0968 μs/sample\n",
      "I/O: Reads=0.000006, Writes=0.000011\n",
      "--------------------------------------------------------------------------------\n",
      "\n",
      "Training with sample size: 5000\n",
      "Memory usage: 2020.04 MB\n",
      "Using best parameters from max scale: {'algorithm': 'auto', 'n_neighbors': 10, 'weights': 'distance'}\n",
      "Training KNN model...\n",
      "Making predictions...\n"
     ]
    },
    {
     "name": "stdout",
     "output_type": "stream",
     "text": [
      "Calculating performance metrics...\n",
      "Measuring prediction performance...\n"
     ]
    },
    {
     "name": "stdout",
     "output_type": "stream",
     "text": [
      "Saving model...\n",
      "Model size: 338.61 KB\n",
      "\n",
      "Results for leisurewaysorted, Sample Size: 5000\n",
      "Grid Search Time: 0.00s, Training Time: 0.00s\n",
      "KNN Parameters: {'algorithm': 'auto', 'n_neighbors': 10, 'weights': 'distance'}\n",
      "Performance: R² = 0.8535, MAE = 208482.14, MAPE = 10301.69%\n",
      "q-score: 153.47\n",
      "Prediction time: 192.2395 μs/sample\n",
      "I/O: Reads=0.000011, Writes=0.000009\n",
      "--------------------------------------------------------------------------------\n",
      "\n",
      "Training with sample size: 1000\n",
      "Memory usage: 2020.04 MB\n",
      "Using best parameters from max scale: {'algorithm': 'auto', 'n_neighbors': 10, 'weights': 'distance'}\n",
      "Training KNN model...\n",
      "Making predictions...\n"
     ]
    },
    {
     "name": "stdout",
     "output_type": "stream",
     "text": [
      "Calculating performance metrics...\n",
      "Measuring prediction performance...\n"
     ]
    },
    {
     "name": "stdout",
     "output_type": "stream",
     "text": [
      "Saving model...\n",
      "Model size: 39.17 KB\n",
      "\n",
      "Results for leisurewaysorted, Sample Size: 1000\n",
      "Grid Search Time: 0.00s, Training Time: 0.00s\n",
      "KNN Parameters: {'algorithm': 'auto', 'n_neighbors': 10, 'weights': 'distance'}\n",
      "Performance: R² = 0.6306, MAE = 327600.33, MAPE = 25492.44%\n",
      "q-score: 356.94\n",
      "Prediction time: 125.8724 μs/sample\n",
      "I/O: Reads=0.000000, Writes=0.000006\n",
      "--------------------------------------------------------------------------------\n",
      "Saving results for leisurewaysorted...\n"
     ]
    },
    {
     "name": "stdout",
     "output_type": "stream",
     "text": [
      "Memory usage: 1798.78 MB\n",
      "\n",
      "Processing dataset: areawater\n",
      "Universe boundaries for areawater: (-179.231086, -14.601813, 179.859681, 71.441059)\n",
      "Loading data from ../large_files/resultsIntersects/areawater_results.csv\n"
     ]
    },
    {
     "name": "stdout",
     "output_type": "stream",
     "text": [
      "Parsing MBR coordinates...\n"
     ]
    },
    {
     "name": "stdout",
     "output_type": "stream",
     "text": [
      "\n",
      "Basic statistics for areawater dataset:\n",
      "Max count: 2292737.0\n",
      "Min count: 0.0\n",
      "Mean count: 43941.55\n",
      "Median count: 0.00\n",
      "Total samples: 458552\n",
      "\n",
      "Calculating rectangle densities...\n",
      "Splitting data into train and test sets...\n",
      "Training set size: 366841\n",
      "\n",
      "Training with sample size: 366841\n",
      "Memory usage: 1609.02 MB\n",
      "Performing grid search for optimal parameters...\n"
     ]
    },
    {
     "name": "stdout",
     "output_type": "stream",
     "text": [
      "Grid search complete in 1798.32s\n",
      "Best parameters: {'algorithm': 'auto', 'n_neighbors': 7, 'weights': 'distance'}\n",
      "Training KNN model...\n"
     ]
    },
    {
     "name": "stdout",
     "output_type": "stream",
     "text": [
      "Making predictions...\n"
     ]
    },
    {
     "name": "stdout",
     "output_type": "stream",
     "text": [
      "Calculating performance metrics...\n",
      "Measuring prediction performance...\n"
     ]
    },
    {
     "name": "stdout",
     "output_type": "stream",
     "text": [
      "Saving model...\n"
     ]
    },
    {
     "name": "stdout",
     "output_type": "stream",
     "text": [
      "Model size: 24558.95 KB\n",
      "\n",
      "Results for areawater, Sample Size: 366841\n",
      "Grid Search Time: 1798.32s, Training Time: 0.26s\n",
      "KNN Parameters: {'algorithm': 'auto', 'n_neighbors': 7, 'weights': 'distance'}\n",
      "Performance: R² = 0.9862, MAE = 4802.73, MAPE = 331.48%\n",
      "q-score: 20.59\n",
      "Prediction time: 630.6369 μs/sample\n",
      "I/O: Reads=0.000000, Writes=0.000035\n",
      "--------------------------------------------------------------------------------\n",
      "Generating prediction scatter plot...\n"
     ]
    },
    {
     "name": "stdout",
     "output_type": "stream",
     "text": [
      "Generating side-by-side comparison plot...\n"
     ]
    },
    {
     "name": "stdout",
     "output_type": "stream",
     "text": [
      "\n",
      "Training with sample size: 100000\n",
      "Memory usage: 1609.02 MB\n",
      "Using best parameters from max scale: {'algorithm': 'auto', 'n_neighbors': 7, 'weights': 'distance'}\n",
      "Training KNN model...\n",
      "Making predictions...\n"
     ]
    },
    {
     "name": "stdout",
     "output_type": "stream",
     "text": [
      "Calculating performance metrics...\n",
      "Measuring prediction performance...\n"
     ]
    },
    {
     "name": "stdout",
     "output_type": "stream",
     "text": [
      "Saving model...\n"
     ]
    },
    {
     "name": "stdout",
     "output_type": "stream",
     "text": [
      "Model size: 6614.66 KB\n",
      "\n",
      "Results for areawater, Sample Size: 100000\n",
      "Grid Search Time: 0.00s, Training Time: 0.06s\n",
      "KNN Parameters: {'algorithm': 'auto', 'n_neighbors': 7, 'weights': 'distance'}\n",
      "Performance: R² = 0.9701, MAE = 7489.92, MAPE = 682.06%\n",
      "q-score: 39.16\n",
      "Prediction time: 539.0457 μs/sample\n",
      "I/O: Reads=0.000062, Writes=0.000131\n",
      "--------------------------------------------------------------------------------\n",
      "\n",
      "Training with sample size: 50000\n",
      "Memory usage: 1609.04 MB\n",
      "Using best parameters from max scale: {'algorithm': 'auto', 'n_neighbors': 7, 'weights': 'distance'}\n",
      "Training KNN model...\n",
      "Making predictions...\n"
     ]
    },
    {
     "name": "stdout",
     "output_type": "stream",
     "text": [
      "Calculating performance metrics...\n",
      "Measuring prediction performance...\n"
     ]
    },
    {
     "name": "stdout",
     "output_type": "stream",
     "text": [
      "Saving model...\n",
      "Model size: 3281.13 KB\n",
      "\n",
      "Results for areawater, Sample Size: 50000\n",
      "Grid Search Time: 0.00s, Training Time: 0.03s\n",
      "KNN Parameters: {'algorithm': 'auto', 'n_neighbors': 7, 'weights': 'distance'}\n",
      "Performance: R² = 0.9542, MAE = 9463.04, MAPE = 1165.14%\n",
      "q-score: 66.60\n",
      "Prediction time: 426.5151 μs/sample\n",
      "I/O: Reads=0.000000, Writes=0.000027\n",
      "--------------------------------------------------------------------------------\n"
     ]
    },
    {
     "name": "stdout",
     "output_type": "stream",
     "text": [
      "\n",
      "Training with sample size: 10000\n",
      "Memory usage: 1609.04 MB\n",
      "Using best parameters from max scale: {'algorithm': 'auto', 'n_neighbors': 7, 'weights': 'distance'}\n",
      "Training KNN model...\n",
      "Making predictions...\n"
     ]
    },
    {
     "name": "stdout",
     "output_type": "stream",
     "text": [
      "Calculating performance metrics...\n",
      "Measuring prediction performance...\n"
     ]
    },
    {
     "name": "stdout",
     "output_type": "stream",
     "text": [
      "Saving model...\n",
      "Model size: 660.44 KB\n",
      "\n",
      "Results for areawater, Sample Size: 10000\n",
      "Grid Search Time: 0.00s, Training Time: 0.01s\n",
      "KNN Parameters: {'algorithm': 'auto', 'n_neighbors': 7, 'weights': 'distance'}\n",
      "Performance: R² = 0.8882, MAE = 15728.48, MAPE = 3979.18%\n",
      "q-score: 210.21\n",
      "Prediction time: 271.8130 μs/sample\n",
      "I/O: Reads=0.000000, Writes=0.000100\n",
      "--------------------------------------------------------------------------------\n",
      "\n",
      "Training with sample size: 5000\n",
      "Memory usage: 1609.04 MB\n",
      "Using best parameters from max scale: {'algorithm': 'auto', 'n_neighbors': 7, 'weights': 'distance'}\n",
      "Training KNN model...\n",
      "Making predictions...\n"
     ]
    },
    {
     "name": "stdout",
     "output_type": "stream",
     "text": [
      "Calculating performance metrics...\n",
      "Measuring prediction performance...\n"
     ]
    },
    {
     "name": "stdout",
     "output_type": "stream",
     "text": [
      "Saving model...\n",
      "Model size: 330.28 KB\n",
      "\n",
      "Results for areawater, Sample Size: 5000\n",
      "Grid Search Time: 0.00s, Training Time: 0.00s\n",
      "KNN Parameters: {'algorithm': 'auto', 'n_neighbors': 7, 'weights': 'distance'}\n",
      "Performance: R² = 0.8388, MAE = 19199.93, MAPE = 6214.89%\n",
      "q-score: 333.76\n",
      "Prediction time: 209.1091 μs/sample\n",
      "I/O: Reads=0.000000, Writes=0.000020\n",
      "--------------------------------------------------------------------------------\n",
      "\n",
      "Training with sample size: 1000\n",
      "Memory usage: 1609.04 MB\n",
      "Using best parameters from max scale: {'algorithm': 'auto', 'n_neighbors': 7, 'weights': 'distance'}\n",
      "Training KNN model...\n",
      "Making predictions...\n"
     ]
    },
    {
     "name": "stdout",
     "output_type": "stream",
     "text": [
      "Calculating performance metrics...\n",
      "Measuring prediction performance...\n"
     ]
    },
    {
     "name": "stdout",
     "output_type": "stream",
     "text": [
      "Saving model...\n",
      "Model size: 37.74 KB\n",
      "\n",
      "Results for areawater, Sample Size: 1000\n",
      "Grid Search Time: 0.00s, Training Time: 0.00s\n",
      "KNN Parameters: {'algorithm': 'auto', 'n_neighbors': 7, 'weights': 'distance'}\n",
      "Performance: R² = 0.6168, MAE = 30950.50, MAPE = 10740.51%\n",
      "q-score: 600.38\n",
      "Prediction time: 122.9793 μs/sample\n",
      "I/O: Reads=0.000000, Writes=0.000019\n",
      "--------------------------------------------------------------------------------\n",
      "Saving results for areawater...\n"
     ]
    },
    {
     "name": "stdout",
     "output_type": "stream",
     "text": [
      "Memory usage: 1609.04 MB\n",
      "\n",
      "Processing dataset: barrierthingwaysorted\n",
      "Universe boundaries for barrierthingwaysorted: (-179.7595238, -70.776382, 179.19591350000002, 78.2501675)\n",
      "Loading data from ../large_files/resultsIntersects/barrierthingwaysorted_results.csv\n"
     ]
    },
    {
     "name": "stdout",
     "output_type": "stream",
     "text": [
      "Parsing MBR coordinates...\n"
     ]
    },
    {
     "name": "stdout",
     "output_type": "stream",
     "text": [
      "\n",
      "Basic statistics for barrierthingwaysorted dataset:\n",
      "Max count: 22908267.0\n",
      "Min count: 0.0\n",
      "Mean count: 399933.77\n",
      "Median count: 329.00\n",
      "Total samples: 4581670\n",
      "\n",
      "Calculating rectangle densities...\n",
      "Splitting data into train and test sets...\n"
     ]
    },
    {
     "name": "stdout",
     "output_type": "stream",
     "text": [
      "Training set size: 3665336\n",
      "\n",
      "Training with sample size: 3665336\n",
      "Memory usage: 1899.61 MB\n",
      "Performing grid search for optimal parameters...\n"
     ]
    },
    {
     "name": "stdout",
     "output_type": "stream",
     "text": [
      "Grid search complete in 18416.43s\n",
      "Best parameters: {'algorithm': 'auto', 'n_neighbors': 10, 'weights': 'distance'}\n",
      "Training KNN model...\n"
     ]
    },
    {
     "name": "stdout",
     "output_type": "stream",
     "text": [
      "Making predictions...\n"
     ]
    },
    {
     "name": "stdout",
     "output_type": "stream",
     "text": [
      "Calculating performance metrics...\n",
      "Measuring prediction performance...\n"
     ]
    },
    {
     "name": "stdout",
     "output_type": "stream",
     "text": [
      "Saving model...\n"
     ]
    },
    {
     "name": "stdout",
     "output_type": "stream",
     "text": [
      "Model size: 250794.28 KB\n",
      "\n",
      "Results for barrierthingwaysorted, Sample Size: 3665336\n",
      "Grid Search Time: 18416.43s, Training Time: 5.96s\n",
      "KNN Parameters: {'algorithm': 'auto', 'n_neighbors': 10, 'weights': 'distance'}\n",
      "Performance: R² = 0.9957, MAE = 23391.18, MAPE = 245.17%\n",
      "q-score: 4.70\n",
      "Prediction time: 929.7890 μs/sample\n",
      "I/O: Reads=0.000031, Writes=0.000057\n",
      "--------------------------------------------------------------------------------\n",
      "Generating prediction scatter plot...\n"
     ]
    },
    {
     "name": "stdout",
     "output_type": "stream",
     "text": [
      "Generating side-by-side comparison plot...\n"
     ]
    },
    {
     "name": "stdout",
     "output_type": "stream",
     "text": [
      "\n",
      "Training with sample size: 1000000\n",
      "Memory usage: 2007.38 MB\n",
      "Using best parameters from max scale: {'algorithm': 'auto', 'n_neighbors': 10, 'weights': 'distance'}\n",
      "Training KNN model...\n"
     ]
    },
    {
     "name": "stdout",
     "output_type": "stream",
     "text": [
      "Making predictions...\n"
     ]
    },
    {
     "name": "stdout",
     "output_type": "stream",
     "text": [
      "Calculating performance metrics...\n",
      "Measuring prediction performance...\n"
     ]
    },
    {
     "name": "stdout",
     "output_type": "stream",
     "text": [
      "Saving model...\n"
     ]
    },
    {
     "name": "stdout",
     "output_type": "stream",
     "text": [
      "Model size: 70263.54 KB\n",
      "\n",
      "Results for barrierthingwaysorted, Sample Size: 1000000\n",
      "Grid Search Time: 0.00s, Training Time: 1.10s\n",
      "KNN Parameters: {'algorithm': 'auto', 'n_neighbors': 10, 'weights': 'distance'}\n",
      "Performance: R² = 0.9913, MAE = 34368.73, MAPE = 437.14%\n",
      "q-score: 7.46\n",
      "Prediction time: 770.6342 μs/sample\n",
      "I/O: Reads=0.000025, Writes=0.000032\n",
      "--------------------------------------------------------------------------------\n",
      "\n",
      "Training with sample size: 500000\n",
      "Memory usage: 2007.59 MB\n",
      "Using best parameters from max scale: {'algorithm': 'auto', 'n_neighbors': 10, 'weights': 'distance'}\n",
      "Training KNN model...\n"
     ]
    },
    {
     "name": "stdout",
     "output_type": "stream",
     "text": [
      "Making predictions...\n"
     ]
    },
    {
     "name": "stdout",
     "output_type": "stream",
     "text": [
      "Calculating performance metrics...\n",
      "Measuring prediction performance...\n"
     ]
    },
    {
     "name": "stdout",
     "output_type": "stream",
     "text": [
      "Saving model...\n"
     ]
    },
    {
     "name": "stdout",
     "output_type": "stream",
     "text": [
      "Model size: 35016.44 KB\n",
      "\n",
      "Results for barrierthingwaysorted, Sample Size: 500000\n",
      "Grid Search Time: 0.00s, Training Time: 0.39s\n",
      "KNN Parameters: {'algorithm': 'auto', 'n_neighbors': 10, 'weights': 'distance'}\n",
      "Performance: R² = 0.9873, MAE = 42338.69, MAPE = 567.55%\n",
      "q-score: 9.24\n",
      "Prediction time: 689.0746 μs/sample\n",
      "I/O: Reads=0.000025, Writes=0.000034\n",
      "--------------------------------------------------------------------------------\n",
      "\n",
      "Training with sample size: 100000\n",
      "Memory usage: 2007.59 MB\n",
      "Using best parameters from max scale: {'algorithm': 'auto', 'n_neighbors': 10, 'weights': 'distance'}\n",
      "Training KNN model...\n",
      "Making predictions...\n"
     ]
    },
    {
     "name": "stdout",
     "output_type": "stream",
     "text": [
      "Calculating performance metrics...\n",
      "Measuring prediction performance...\n"
     ]
    },
    {
     "name": "stdout",
     "output_type": "stream",
     "text": [
      "Saving model...\n"
     ]
    },
    {
     "name": "stdout",
     "output_type": "stream",
     "text": [
      "Model size: 6760.92 KB\n",
      "\n",
      "Results for barrierthingwaysorted, Sample Size: 100000\n",
      "Grid Search Time: 0.00s, Training Time: 0.06s\n",
      "KNN Parameters: {'algorithm': 'auto', 'n_neighbors': 10, 'weights': 'distance'}\n",
      "Performance: R² = 0.9667, MAE = 71599.26, MAPE = 1869.49%\n",
      "q-score: 27.95\n",
      "Prediction time: 642.5762 μs/sample\n",
      "I/O: Reads=0.000019, Writes=0.000028\n",
      "--------------------------------------------------------------------------------\n",
      "\n",
      "Training with sample size: 50000\n",
      "Memory usage: 2007.59 MB\n",
      "Using best parameters from max scale: {'algorithm': 'auto', 'n_neighbors': 10, 'weights': 'distance'}\n",
      "Training KNN model...\n",
      "Making predictions...\n"
     ]
    },
    {
     "name": "stdout",
     "output_type": "stream",
     "text": [
      "Calculating performance metrics...\n",
      "Measuring prediction performance...\n"
     ]
    },
    {
     "name": "stdout",
     "output_type": "stream",
     "text": [
      "Saving model...\n",
      "Model size: 3353.76 KB\n",
      "\n",
      "Results for barrierthingwaysorted, Sample Size: 50000\n",
      "Grid Search Time: 0.00s, Training Time: 0.03s\n",
      "KNN Parameters: {'algorithm': 'auto', 'n_neighbors': 10, 'weights': 'distance'}\n",
      "Performance: R² = 0.9512, MAE = 89710.46, MAPE = 2774.06%\n",
      "q-score: 40.31\n",
      "Prediction time: 565.5852 μs/sample\n",
      "I/O: Reads=0.000060, Writes=0.000045\n",
      "--------------------------------------------------------------------------------\n"
     ]
    },
    {
     "name": "stdout",
     "output_type": "stream",
     "text": [
      "\n",
      "Training with sample size: 10000\n",
      "Memory usage: 2007.59 MB\n",
      "Using best parameters from max scale: {'algorithm': 'auto', 'n_neighbors': 10, 'weights': 'distance'}\n",
      "Training KNN model...\n",
      "Making predictions...\n"
     ]
    },
    {
     "name": "stdout",
     "output_type": "stream",
     "text": [
      "Calculating performance metrics...\n",
      "Measuring prediction performance...\n"
     ]
    },
    {
     "name": "stdout",
     "output_type": "stream",
     "text": [
      "Saving model...\n",
      "Model size: 674.51 KB\n",
      "\n",
      "Results for barrierthingwaysorted, Sample Size: 10000\n",
      "Grid Search Time: 0.00s, Training Time: 0.01s\n",
      "KNN Parameters: {'algorithm': 'auto', 'n_neighbors': 10, 'weights': 'distance'}\n",
      "Performance: R² = 0.8618, MAE = 160362.88, MAPE = 5449.64%\n",
      "q-score: 77.08\n",
      "Prediction time: 351.8800 μs/sample\n",
      "I/O: Reads=0.000006, Writes=0.000019\n",
      "--------------------------------------------------------------------------------\n",
      "\n",
      "Training with sample size: 5000\n",
      "Memory usage: 2007.59 MB\n",
      "Using best parameters from max scale: {'algorithm': 'auto', 'n_neighbors': 10, 'weights': 'distance'}\n",
      "Training KNN model...\n",
      "Making predictions...\n"
     ]
    },
    {
     "name": "stdout",
     "output_type": "stream",
     "text": [
      "Calculating performance metrics...\n",
      "Measuring prediction performance...\n"
     ]
    },
    {
     "name": "stdout",
     "output_type": "stream",
     "text": [
      "Saving model...\n",
      "Model size: 338.50 KB\n",
      "\n",
      "Results for barrierthingwaysorted, Sample Size: 5000\n",
      "Grid Search Time: 0.00s, Training Time: 0.00s\n",
      "KNN Parameters: {'algorithm': 'auto', 'n_neighbors': 10, 'weights': 'distance'}\n",
      "Performance: R² = 0.8206, MAE = 187676.18, MAPE = 6804.08%\n",
      "q-score: 91.28\n",
      "Prediction time: 261.3971 μs/sample\n",
      "I/O: Reads=0.000006, Writes=0.000012\n",
      "--------------------------------------------------------------------------------\n",
      "\n",
      "Training with sample size: 1000\n",
      "Memory usage: 2007.59 MB\n",
      "Using best parameters from max scale: {'algorithm': 'auto', 'n_neighbors': 10, 'weights': 'distance'}\n",
      "Training KNN model...\n",
      "Making predictions...\n"
     ]
    },
    {
     "name": "stdout",
     "output_type": "stream",
     "text": [
      "Calculating performance metrics...\n",
      "Measuring prediction performance...\n"
     ]
    },
    {
     "name": "stdout",
     "output_type": "stream",
     "text": [
      "Saving model...\n",
      "Model size: 39.13 KB\n",
      "\n",
      "Results for barrierthingwaysorted, Sample Size: 1000\n",
      "Grid Search Time: 0.00s, Training Time: 0.00s\n",
      "KNN Parameters: {'algorithm': 'auto', 'n_neighbors': 10, 'weights': 'distance'}\n",
      "Performance: R² = 0.6332, MAE = 266063.98, MAPE = 11657.11%\n",
      "q-score: 140.55\n",
      "Prediction time: 178.0341 μs/sample\n",
      "I/O: Reads=0.000012, Writes=0.000008\n",
      "--------------------------------------------------------------------------------\n",
      "Saving results for barrierthingwaysorted...\n"
     ]
    },
    {
     "name": "stdout",
     "output_type": "stream",
     "text": [
      "Memory usage: 1860.77 MB\n",
      "\n",
      "Processing dataset: yago2\n",
      "Universe boundaries for yago2: (-179.98473, -90.0, 180.0, 90.0)\n",
      "Loading data from ../large_files/resultsIntersects/yago2_results.csv\n"
     ]
    },
    {
     "name": "stdout",
     "output_type": "stream",
     "text": [
      "Parsing MBR coordinates...\n"
     ]
    },
    {
     "name": "stdout",
     "output_type": "stream",
     "text": [
      "\n",
      "Basic statistics for yago2 dataset:\n",
      "Max count: 4494691.0\n",
      "Min count: 0.0\n",
      "Mean count: 100894.17\n",
      "Median count: 17450.00\n",
      "Total samples: 898942\n",
      "\n",
      "Calculating rectangle densities...\n",
      "Splitting data into train and test sets...\n",
      "Training set size: 719153\n",
      "\n",
      "Training with sample size: 719153\n",
      "Memory usage: 1721.98 MB\n",
      "Performing grid search for optimal parameters...\n"
     ]
    },
    {
     "name": "stdout",
     "output_type": "stream",
     "text": [
      "Grid search complete in 4220.10s\n",
      "Best parameters: {'algorithm': 'auto', 'n_neighbors': 10, 'weights': 'distance'}\n",
      "Training KNN model...\n"
     ]
    },
    {
     "name": "stdout",
     "output_type": "stream",
     "text": [
      "Making predictions...\n"
     ]
    },
    {
     "name": "stdout",
     "output_type": "stream",
     "text": [
      "Calculating performance metrics...\n",
      "Measuring prediction performance...\n"
     ]
    },
    {
     "name": "stdout",
     "output_type": "stream",
     "text": [
      "Saving model...\n"
     ]
    },
    {
     "name": "stdout",
     "output_type": "stream",
     "text": [
      "Model size: 50014.96 KB\n",
      "\n",
      "Results for yago2, Sample Size: 719153\n",
      "Grid Search Time: 4220.10s, Training Time: 0.63s\n",
      "KNN Parameters: {'algorithm': 'auto', 'n_neighbors': 10, 'weights': 'distance'}\n",
      "Performance: R² = 0.9968, MAE = 5264.34, MAPE = 21.98%\n",
      "q-score: 1.22\n",
      "Prediction time: 925.2910 μs/sample\n",
      "I/O: Reads=0.000032, Writes=0.000032\n",
      "--------------------------------------------------------------------------------\n",
      "Generating prediction scatter plot...\n"
     ]
    },
    {
     "name": "stdout",
     "output_type": "stream",
     "text": [
      "Generating side-by-side comparison plot...\n"
     ]
    },
    {
     "name": "stdout",
     "output_type": "stream",
     "text": [
      "\n",
      "Training with sample size: 500000\n",
      "Memory usage: 1743.69 MB\n",
      "Using best parameters from max scale: {'algorithm': 'auto', 'n_neighbors': 10, 'weights': 'distance'}\n",
      "Training KNN model...\n"
     ]
    },
    {
     "name": "stdout",
     "output_type": "stream",
     "text": [
      "Making predictions...\n"
     ]
    },
    {
     "name": "stdout",
     "output_type": "stream",
     "text": [
      "Calculating performance metrics...\n",
      "Measuring prediction performance...\n"
     ]
    },
    {
     "name": "stdout",
     "output_type": "stream",
     "text": [
      "Saving model...\n"
     ]
    },
    {
     "name": "stdout",
     "output_type": "stream",
     "text": [
      "Model size: 35408.98 KB\n",
      "\n",
      "Results for yago2, Sample Size: 500000\n",
      "Grid Search Time: 0.00s, Training Time: 0.43s\n",
      "KNN Parameters: {'algorithm': 'auto', 'n_neighbors': 10, 'weights': 'distance'}\n",
      "Performance: R² = 0.9958, MAE = 5972.07, MAPE = 27.78%\n",
      "q-score: 1.28\n",
      "Prediction time: 751.5129 μs/sample\n",
      "I/O: Reads=0.000032, Writes=0.000034\n",
      "--------------------------------------------------------------------------------\n",
      "\n",
      "Training with sample size: 100000\n",
      "Memory usage: 1743.69 MB\n",
      "Using best parameters from max scale: {'algorithm': 'auto', 'n_neighbors': 10, 'weights': 'distance'}\n",
      "Training KNN model...\n",
      "Making predictions...\n"
     ]
    },
    {
     "name": "stdout",
     "output_type": "stream",
     "text": [
      "Calculating performance metrics...\n",
      "Measuring prediction performance...\n"
     ]
    },
    {
     "name": "stdout",
     "output_type": "stream",
     "text": [
      "Saving model...\n"
     ]
    },
    {
     "name": "stdout",
     "output_type": "stream",
     "text": [
      "Model size: 6841.53 KB\n",
      "\n",
      "Results for yago2, Sample Size: 100000\n",
      "Grid Search Time: 0.00s, Training Time: 0.06s\n",
      "KNN Parameters: {'algorithm': 'auto', 'n_neighbors': 10, 'weights': 'distance'}\n",
      "Performance: R² = 0.9884, MAE = 10156.50, MAPE = 95.46%\n",
      "q-score: 1.96\n",
      "Prediction time: 583.4487 μs/sample\n",
      "I/O: Reads=0.000000, Writes=0.000026\n",
      "--------------------------------------------------------------------------------\n",
      "\n",
      "Training with sample size: 50000\n",
      "Memory usage: 1743.69 MB\n",
      "Using best parameters from max scale: {'algorithm': 'auto', 'n_neighbors': 10, 'weights': 'distance'}\n",
      "Training KNN model...\n",
      "Making predictions...\n"
     ]
    },
    {
     "name": "stdout",
     "output_type": "stream",
     "text": [
      "Calculating performance metrics...\n",
      "Measuring prediction performance...\n"
     ]
    },
    {
     "name": "stdout",
     "output_type": "stream",
     "text": [
      "Saving model...\n",
      "Model size: 3394.28 KB\n",
      "\n",
      "Results for yago2, Sample Size: 50000\n",
      "Grid Search Time: 0.00s, Training Time: 0.03s\n",
      "KNN Parameters: {'algorithm': 'auto', 'n_neighbors': 10, 'weights': 'distance'}\n",
      "Performance: R² = 0.9828, MAE = 12730.89, MAPE = 193.21%\n",
      "q-score: 2.95\n",
      "Prediction time: 556.0027 μs/sample\n",
      "I/O: Reads=0.000000, Writes=0.000023\n",
      "--------------------------------------------------------------------------------\n"
     ]
    },
    {
     "name": "stdout",
     "output_type": "stream",
     "text": [
      "\n",
      "Training with sample size: 10000\n",
      "Memory usage: 1743.69 MB\n",
      "Using best parameters from max scale: {'algorithm': 'auto', 'n_neighbors': 10, 'weights': 'distance'}\n",
      "Training KNN model...\n",
      "Making predictions...\n"
     ]
    },
    {
     "name": "stdout",
     "output_type": "stream",
     "text": [
      "Calculating performance metrics...\n",
      "Measuring prediction performance...\n"
     ]
    },
    {
     "name": "stdout",
     "output_type": "stream",
     "text": [
      "Saving model...\n",
      "Model size: 683.23 KB\n",
      "\n",
      "Results for yago2, Sample Size: 10000\n",
      "Grid Search Time: 0.00s, Training Time: 0.00s\n",
      "KNN Parameters: {'algorithm': 'auto', 'n_neighbors': 10, 'weights': 'distance'}\n",
      "Performance: R² = 0.9535, MAE = 20966.29, MAPE = 469.74%\n",
      "q-score: 5.73\n",
      "Prediction time: 356.0229 μs/sample\n",
      "I/O: Reads=0.000032, Writes=0.000014\n",
      "--------------------------------------------------------------------------------\n",
      "\n",
      "Training with sample size: 5000\n",
      "Memory usage: 1743.69 MB\n",
      "Using best parameters from max scale: {'algorithm': 'auto', 'n_neighbors': 10, 'weights': 'distance'}\n",
      "Training KNN model...\n",
      "Making predictions...\n"
     ]
    },
    {
     "name": "stdout",
     "output_type": "stream",
     "text": [
      "Calculating performance metrics...\n",
      "Measuring prediction performance...\n"
     ]
    },
    {
     "name": "stdout",
     "output_type": "stream",
     "text": [
      "Saving model...\n",
      "Model size: 342.63 KB\n",
      "\n",
      "Results for yago2, Sample Size: 5000\n",
      "Grid Search Time: 0.00s, Training Time: 0.00s\n",
      "KNN Parameters: {'algorithm': 'auto', 'n_neighbors': 10, 'weights': 'distance'}\n",
      "Performance: R² = 0.9287, MAE = 26843.13, MAPE = 729.60%\n",
      "q-score: 8.35\n",
      "Prediction time: 278.1251 μs/sample\n",
      "I/O: Reads=0.000000, Writes=0.000033\n",
      "--------------------------------------------------------------------------------\n",
      "\n",
      "Training with sample size: 1000\n",
      "Memory usage: 1743.69 MB\n",
      "Using best parameters from max scale: {'algorithm': 'auto', 'n_neighbors': 10, 'weights': 'distance'}\n",
      "Training KNN model...\n",
      "Making predictions...\n"
     ]
    },
    {
     "name": "stdout",
     "output_type": "stream",
     "text": [
      "Calculating performance metrics...\n",
      "Measuring prediction performance...\n"
     ]
    },
    {
     "name": "stdout",
     "output_type": "stream",
     "text": [
      "Saving model...\n",
      "Model size: 40.12 KB\n",
      "\n",
      "Results for yago2, Sample Size: 1000\n",
      "Grid Search Time: 0.00s, Training Time: 0.00s\n",
      "KNN Parameters: {'algorithm': 'auto', 'n_neighbors': 10, 'weights': 'distance'}\n",
      "Performance: R² = 0.7748, MAE = 45745.88, MAPE = 1936.81%\n",
      "q-score: 20.51\n",
      "Prediction time: 178.6485 μs/sample\n",
      "I/O: Reads=0.000000, Writes=0.000029\n",
      "--------------------------------------------------------------------------------\n",
      "Saving results for yago2...\n"
     ]
    },
    {
     "name": "stdout",
     "output_type": "stream",
     "text": [
      "Memory usage: 1743.69 MB\n",
      "\n",
      "Processing dataset: arealm\n",
      "Universe boundaries for arealm: (-179.147236, -14.548699, 179.77847, 71.359879)\n",
      "Loading data from ../large_files/resultsIntersects/arealm_results.csv\n",
      "Parsing MBR coordinates...\n"
     ]
    },
    {
     "name": "stdout",
     "output_type": "stream",
     "text": [
      "\n",
      "Basic statistics for arealm dataset:\n",
      "Max count: 129098.0\n",
      "Min count: 0.0\n",
      "Mean count: 2283.77\n",
      "Median count: 0.00\n",
      "Total samples: 25833\n",
      "\n",
      "Calculating rectangle densities...\n",
      "Splitting data into train and test sets...\n",
      "Training set size: 20666\n",
      "\n",
      "Training with sample size: 20666\n",
      "Memory usage: 1743.69 MB\n",
      "Performing grid search for optimal parameters...\n"
     ]
    },
    {
     "name": "stdout",
     "output_type": "stream",
     "text": [
      "Grid search complete in 59.20s\n",
      "Best parameters: {'algorithm': 'auto', 'n_neighbors': 5, 'weights': 'distance'}\n",
      "Training KNN model...\n",
      "Making predictions...\n",
      "Calculating performance metrics...\n",
      "Measuring prediction performance...\n"
     ]
    },
    {
     "name": "stdout",
     "output_type": "stream",
     "text": [
      "Saving model...\n",
      "Model size: 1360.67 KB\n",
      "\n",
      "Results for arealm, Sample Size: 20666\n",
      "Grid Search Time: 59.20s, Training Time: 0.01s\n",
      "KNN Parameters: {'algorithm': 'auto', 'n_neighbors': 5, 'weights': 'distance'}\n",
      "Performance: R² = 0.9227, MAE = 604.19, MAPE = 341.68%\n",
      "q-score: 21.92\n",
      "Prediction time: 276.6671 μs/sample\n",
      "I/O: Reads=0.000000, Writes=0.000019\n",
      "--------------------------------------------------------------------------------\n",
      "Generating prediction scatter plot...\n"
     ]
    },
    {
     "name": "stdout",
     "output_type": "stream",
     "text": [
      "Generating side-by-side comparison plot...\n"
     ]
    },
    {
     "name": "stdout",
     "output_type": "stream",
     "text": [
      "\n",
      "Training with sample size: 10000\n",
      "Memory usage: 1743.68 MB\n",
      "Using best parameters from max scale: {'algorithm': 'auto', 'n_neighbors': 5, 'weights': 'distance'}\n",
      "Training KNN model...\n",
      "Making predictions...\n",
      "Calculating performance metrics...\n",
      "Measuring prediction performance...\n"
     ]
    },
    {
     "name": "stdout",
     "output_type": "stream",
     "text": [
      "Saving model...\n",
      "Model size: 659.69 KB\n",
      "\n",
      "Results for arealm, Sample Size: 10000\n",
      "Grid Search Time: 0.00s, Training Time: 0.01s\n",
      "KNN Parameters: {'algorithm': 'auto', 'n_neighbors': 5, 'weights': 'distance'}\n",
      "Performance: R² = 0.8975, MAE = 756.00, MAPE = 240.40%\n",
      "q-score: 12.82\n",
      "Prediction time: 245.7067 μs/sample\n",
      "I/O: Reads=0.000000, Writes=0.000000\n",
      "--------------------------------------------------------------------------------\n",
      "\n",
      "Training with sample size: 5000\n",
      "Memory usage: 1743.69 MB\n",
      "Using best parameters from max scale: {'algorithm': 'auto', 'n_neighbors': 5, 'weights': 'distance'}\n",
      "Training KNN model...\n",
      "Making predictions...\n"
     ]
    },
    {
     "name": "stdout",
     "output_type": "stream",
     "text": [
      "Calculating performance metrics...\n",
      "Measuring prediction performance...\n"
     ]
    },
    {
     "name": "stdout",
     "output_type": "stream",
     "text": [
      "Saving model...\n",
      "Model size: 330.00 KB\n",
      "\n",
      "Results for arealm, Sample Size: 5000\n",
      "Grid Search Time: 0.00s, Training Time: 0.00s\n",
      "KNN Parameters: {'algorithm': 'auto', 'n_neighbors': 5, 'weights': 'distance'}\n",
      "Performance: R² = 0.8804, MAE = 866.79, MAPE = 682.70%\n",
      "q-score: 41.87\n",
      "Prediction time: 202.2158 μs/sample\n",
      "I/O: Reads=0.000000, Writes=0.000987\n",
      "--------------------------------------------------------------------------------\n",
      "\n",
      "Training with sample size: 1000\n",
      "Memory usage: 1743.69 MB\n",
      "Using best parameters from max scale: {'algorithm': 'auto', 'n_neighbors': 5, 'weights': 'distance'}\n",
      "Training KNN model...\n",
      "Making predictions...\n"
     ]
    },
    {
     "name": "stdout",
     "output_type": "stream",
     "text": [
      "Calculating performance metrics...\n",
      "Measuring prediction performance...\n"
     ]
    },
    {
     "name": "stdout",
     "output_type": "stream",
     "text": [
      "Saving model...\n",
      "Model size: 37.74 KB\n",
      "\n",
      "Results for arealm, Sample Size: 1000\n",
      "Grid Search Time: 0.00s, Training Time: 0.00s\n",
      "KNN Parameters: {'algorithm': 'auto', 'n_neighbors': 5, 'weights': 'distance'}\n",
      "Performance: R² = 0.6015, MAE = 1641.51, MAPE = 2304.53%\n",
      "q-score: 148.64\n",
      "Prediction time: 112.8744 μs/sample\n",
      "I/O: Reads=0.000000, Writes=0.000000\n",
      "--------------------------------------------------------------------------------\n",
      "Saving results for arealm...\n"
     ]
    },
    {
     "name": "stdout",
     "output_type": "stream",
     "text": [
      "Memory usage: 1743.69 MB\n",
      "\n",
      "Processing dataset: aerowaythingnodesorted\n",
      "Universe boundaries for aerowaythingnodesorted: (-179.88088960000002, -90.0, 179.951004, 83.08333590000001)\n",
      "Loading data from ../large_files/resultsIntersects/aerowaythingnodesorted_results.csv\n",
      "Parsing MBR coordinates...\n"
     ]
    },
    {
     "name": "stdout",
     "output_type": "stream",
     "text": [
      "\n",
      "Basic statistics for aerowaythingnodesorted dataset:\n",
      "Max count: 79139.0\n",
      "Min count: 0.0\n",
      "Mean count: 1260.61\n",
      "Median count: 7.00\n",
      "Total samples: 15843\n",
      "\n",
      "Calculating rectangle densities...\n",
      "Splitting data into train and test sets...\n",
      "Training set size: 12674\n",
      "\n",
      "Training with sample size: 12674\n",
      "Memory usage: 1743.69 MB\n",
      "Performing grid search for optimal parameters...\n"
     ]
    },
    {
     "name": "stdout",
     "output_type": "stream",
     "text": [
      "Grid search complete in 26.86s\n",
      "Best parameters: {'algorithm': 'auto', 'n_neighbors': 5, 'weights': 'distance'}\n",
      "Training KNN model...\n",
      "Making predictions...\n",
      "Calculating performance metrics...\n",
      "Measuring prediction performance...\n"
     ]
    },
    {
     "name": "stdout",
     "output_type": "stream",
     "text": [
      "Saving model...\n",
      "Model size: 841.17 KB\n",
      "\n",
      "Results for aerowaythingnodesorted, Sample Size: 12674\n",
      "Grid Search Time: 26.86s, Training Time: 0.01s\n",
      "KNN Parameters: {'algorithm': 'auto', 'n_neighbors': 5, 'weights': 'distance'}\n",
      "Performance: R² = 0.9534, MAE = 348.01, MAPE = 191.77%\n",
      "q-score: 4.26\n",
      "Prediction time: 353.5957 μs/sample\n",
      "I/O: Reads=0.000000, Writes=0.000000\n",
      "--------------------------------------------------------------------------------\n",
      "Generating prediction scatter plot...\n"
     ]
    },
    {
     "name": "stdout",
     "output_type": "stream",
     "text": [
      "Generating side-by-side comparison plot...\n"
     ]
    },
    {
     "name": "stdout",
     "output_type": "stream",
     "text": [
      "\n",
      "Training with sample size: 10000\n",
      "Memory usage: 1743.68 MB\n",
      "Using best parameters from max scale: {'algorithm': 'auto', 'n_neighbors': 5, 'weights': 'distance'}\n",
      "Training KNN model...\n",
      "Making predictions...\n",
      "Calculating performance metrics...\n",
      "Measuring prediction performance...\n"
     ]
    },
    {
     "name": "stdout",
     "output_type": "stream",
     "text": [
      "Saving model...\n",
      "Model size: 668.85 KB\n",
      "\n",
      "Results for aerowaythingnodesorted, Sample Size: 10000\n",
      "Grid Search Time: 0.00s, Training Time: 0.00s\n",
      "KNN Parameters: {'algorithm': 'auto', 'n_neighbors': 5, 'weights': 'distance'}\n",
      "Performance: R² = 0.9516, MAE = 367.51, MAPE = 214.91%\n",
      "q-score: 4.64\n",
      "Prediction time: 354.2455 μs/sample\n",
      "I/O: Reads=0.000032, Writes=0.001862\n",
      "--------------------------------------------------------------------------------\n",
      "\n",
      "Training with sample size: 5000\n",
      "Memory usage: 1743.69 MB\n",
      "Using best parameters from max scale: {'algorithm': 'auto', 'n_neighbors': 5, 'weights': 'distance'}\n",
      "Training KNN model...\n",
      "Making predictions...\n"
     ]
    },
    {
     "name": "stdout",
     "output_type": "stream",
     "text": [
      "Calculating performance metrics...\n",
      "Measuring prediction performance...\n"
     ]
    },
    {
     "name": "stdout",
     "output_type": "stream",
     "text": [
      "Saving model...\n",
      "Model size: 335.54 KB\n",
      "\n",
      "Results for aerowaythingnodesorted, Sample Size: 5000\n",
      "Grid Search Time: 0.00s, Training Time: 0.00s\n",
      "KNN Parameters: {'algorithm': 'auto', 'n_neighbors': 5, 'weights': 'distance'}\n",
      "Performance: R² = 0.9309, MAE = 434.03, MAPE = 272.27%\n",
      "q-score: 7.10\n",
      "Prediction time: 184.5094 μs/sample\n",
      "I/O: Reads=0.000000, Writes=0.000095\n",
      "--------------------------------------------------------------------------------\n",
      "\n",
      "Training with sample size: 1000\n",
      "Memory usage: 1743.69 MB\n",
      "Using best parameters from max scale: {'algorithm': 'auto', 'n_neighbors': 5, 'weights': 'distance'}\n",
      "Training KNN model...\n",
      "Making predictions...\n"
     ]
    },
    {
     "name": "stdout",
     "output_type": "stream",
     "text": [
      "Calculating performance metrics...\n",
      "Measuring prediction performance...\n"
     ]
    },
    {
     "name": "stdout",
     "output_type": "stream",
     "text": [
      "Saving model...\n",
      "Model size: 38.83 KB\n",
      "\n",
      "Results for aerowaythingnodesorted, Sample Size: 1000\n",
      "Grid Search Time: 0.00s, Training Time: 0.00s\n",
      "KNN Parameters: {'algorithm': 'auto', 'n_neighbors': 5, 'weights': 'distance'}\n",
      "Performance: R² = 0.7569, MAE = 749.69, MAPE = 467.38%\n",
      "q-score: 9.82\n",
      "Prediction time: 94.3465 μs/sample\n",
      "I/O: Reads=0.000000, Writes=0.000000\n",
      "--------------------------------------------------------------------------------\n",
      "Saving results for aerowaythingnodesorted...\n"
     ]
    },
    {
     "name": "stdout",
     "output_type": "stream",
     "text": [
      "Memory usage: 1743.69 MB\n",
      "\n",
      "Processing dataset: powerthingwaysorted\n",
      "Universe boundaries for powerthingwaysorted: (-179.5002188, -75.1012051, 178.4574038, 82.5247908)\n",
      "Loading data from ../large_files/resultsIntersects/powerthingwaysorted_results.csv\n"
     ]
    },
    {
     "name": "stdout",
     "output_type": "stream",
     "text": [
      "Parsing MBR coordinates...\n"
     ]
    },
    {
     "name": "stdout",
     "output_type": "stream",
     "text": [
      "\n",
      "Basic statistics for powerthingwaysorted dataset:\n",
      "Max count: 13586343.0\n",
      "Min count: 0.0\n",
      "Mean count: 236405.41\n",
      "Median count: 147.00\n",
      "Total samples: 2717289\n",
      "\n",
      "Calculating rectangle densities...\n",
      "Splitting data into train and test sets...\n"
     ]
    },
    {
     "name": "stdout",
     "output_type": "stream",
     "text": [
      "Training set size: 2173831\n",
      "\n",
      "Training with sample size: 2173831\n",
      "Memory usage: 1812.83 MB\n",
      "Performing grid search for optimal parameters...\n"
     ]
    },
    {
     "name": "stdout",
     "output_type": "stream",
     "text": [
      "Grid search complete in 12698.45s\n",
      "Best parameters: {'algorithm': 'auto', 'n_neighbors': 10, 'weights': 'distance'}\n",
      "Training KNN model...\n"
     ]
    },
    {
     "name": "stdout",
     "output_type": "stream",
     "text": [
      "Making predictions...\n"
     ]
    },
    {
     "name": "stdout",
     "output_type": "stream",
     "text": [
      "Calculating performance metrics...\n",
      "Measuring prediction performance...\n"
     ]
    },
    {
     "name": "stdout",
     "output_type": "stream",
     "text": [
      "Saving model...\n"
     ]
    },
    {
     "name": "stdout",
     "output_type": "stream",
     "text": [
      "Model size: 152131.59 KB\n",
      "\n",
      "Results for powerthingwaysorted, Sample Size: 2173831\n",
      "Grid Search Time: 12698.45s, Training Time: 3.31s\n",
      "KNN Parameters: {'algorithm': 'auto', 'n_neighbors': 10, 'weights': 'distance'}\n",
      "Performance: R² = 0.9969, MAE = 12449.32, MAPE = 245.55%\n",
      "q-score: 4.99\n",
      "Prediction time: 591.7653 μs/sample\n",
      "I/O: Reads=0.000021, Writes=0.000024\n",
      "--------------------------------------------------------------------------------\n",
      "Generating prediction scatter plot...\n"
     ]
    },
    {
     "name": "stdout",
     "output_type": "stream",
     "text": [
      "Generating side-by-side comparison plot...\n"
     ]
    },
    {
     "name": "stdout",
     "output_type": "stream",
     "text": [
      "\n",
      "Training with sample size: 1000000\n",
      "Memory usage: 1844.30 MB\n",
      "Using best parameters from max scale: {'algorithm': 'auto', 'n_neighbors': 10, 'weights': 'distance'}\n",
      "Training KNN model...\n"
     ]
    },
    {
     "name": "stdout",
     "output_type": "stream",
     "text": [
      "Making predictions...\n"
     ]
    },
    {
     "name": "stdout",
     "output_type": "stream",
     "text": [
      "Calculating performance metrics...\n",
      "Measuring prediction performance...\n"
     ]
    },
    {
     "name": "stdout",
     "output_type": "stream",
     "text": [
      "Saving model...\n"
     ]
    },
    {
     "name": "stdout",
     "output_type": "stream",
     "text": [
      "Model size: 70170.92 KB\n",
      "\n",
      "Results for powerthingwaysorted, Sample Size: 1000000\n",
      "Grid Search Time: 0.00s, Training Time: 1.06s\n",
      "KNN Parameters: {'algorithm': 'auto', 'n_neighbors': 10, 'weights': 'distance'}\n",
      "Performance: R² = 0.9950, MAE = 15846.79, MAPE = 376.97%\n",
      "q-score: 7.09\n",
      "Prediction time: 766.7976 μs/sample\n",
      "I/O: Reads=0.000031, Writes=0.000035\n",
      "--------------------------------------------------------------------------------\n",
      "\n",
      "Training with sample size: 500000\n",
      "Memory usage: 1844.52 MB\n",
      "Using best parameters from max scale: {'algorithm': 'auto', 'n_neighbors': 10, 'weights': 'distance'}\n",
      "Training KNN model...\n"
     ]
    },
    {
     "name": "stdout",
     "output_type": "stream",
     "text": [
      "Making predictions...\n"
     ]
    },
    {
     "name": "stdout",
     "output_type": "stream",
     "text": [
      "Calculating performance metrics...\n",
      "Measuring prediction performance...\n"
     ]
    },
    {
     "name": "stdout",
     "output_type": "stream",
     "text": [
      "Saving model...\n"
     ]
    },
    {
     "name": "stdout",
     "output_type": "stream",
     "text": [
      "Model size: 34969.53 KB\n",
      "\n",
      "Results for powerthingwaysorted, Sample Size: 500000\n",
      "Grid Search Time: 0.00s, Training Time: 0.40s\n",
      "KNN Parameters: {'algorithm': 'auto', 'n_neighbors': 10, 'weights': 'distance'}\n",
      "Performance: R² = 0.9929, MAE = 19579.98, MAPE = 626.38%\n",
      "q-score: 11.01\n",
      "Prediction time: 683.5771 μs/sample\n",
      "I/O: Reads=0.000031, Writes=0.000038\n",
      "--------------------------------------------------------------------------------\n",
      "\n",
      "Training with sample size: 100000\n",
      "Memory usage: 1844.52 MB\n",
      "Using best parameters from max scale: {'algorithm': 'auto', 'n_neighbors': 10, 'weights': 'distance'}\n",
      "Training KNN model...\n",
      "Making predictions...\n"
     ]
    },
    {
     "name": "stdout",
     "output_type": "stream",
     "text": [
      "Calculating performance metrics...\n",
      "Measuring prediction performance...\n"
     ]
    },
    {
     "name": "stdout",
     "output_type": "stream",
     "text": [
      "Saving model...\n"
     ]
    },
    {
     "name": "stdout",
     "output_type": "stream",
     "text": [
      "Model size: 6752.77 KB\n",
      "\n",
      "Results for powerthingwaysorted, Sample Size: 100000\n",
      "Grid Search Time: 0.00s, Training Time: 0.06s\n",
      "KNN Parameters: {'algorithm': 'auto', 'n_neighbors': 10, 'weights': 'distance'}\n",
      "Performance: R² = 0.9786, MAE = 34238.98, MAPE = 1803.31%\n",
      "q-score: 28.73\n",
      "Prediction time: 650.6747 μs/sample\n",
      "I/O: Reads=0.000021, Writes=0.000028\n",
      "--------------------------------------------------------------------------------\n",
      "\n",
      "Training with sample size: 50000\n",
      "Memory usage: 1844.52 MB\n",
      "Using best parameters from max scale: {'algorithm': 'auto', 'n_neighbors': 10, 'weights': 'distance'}\n",
      "Training KNN model...\n",
      "Making predictions...\n"
     ]
    },
    {
     "name": "stdout",
     "output_type": "stream",
     "text": [
      "Calculating performance metrics...\n",
      "Measuring prediction performance...\n"
     ]
    },
    {
     "name": "stdout",
     "output_type": "stream",
     "text": [
      "Saving model...\n",
      "Model size: 3349.87 KB\n",
      "\n",
      "Results for powerthingwaysorted, Sample Size: 50000\n",
      "Grid Search Time: 0.00s, Training Time: 0.03s\n",
      "KNN Parameters: {'algorithm': 'auto', 'n_neighbors': 10, 'weights': 'distance'}\n",
      "Performance: R² = 0.9687, MAE = 42617.02, MAPE = 2944.21%\n",
      "q-score: 45.87\n",
      "Prediction time: 608.2900 μs/sample\n",
      "I/O: Reads=0.000021, Writes=0.000026\n",
      "--------------------------------------------------------------------------------\n",
      "\n",
      "Training with sample size: 10000\n"
     ]
    },
    {
     "name": "stdout",
     "output_type": "stream",
     "text": [
      "Memory usage: 1844.52 MB\n",
      "Using best parameters from max scale: {'algorithm': 'auto', 'n_neighbors': 10, 'weights': 'distance'}\n",
      "Training KNN model...\n",
      "Making predictions...\n"
     ]
    },
    {
     "name": "stdout",
     "output_type": "stream",
     "text": [
      "Calculating performance metrics...\n",
      "Measuring prediction performance...\n"
     ]
    },
    {
     "name": "stdout",
     "output_type": "stream",
     "text": [
      "Saving model...\n",
      "Model size: 673.63 KB\n",
      "\n",
      "Results for powerthingwaysorted, Sample Size: 10000\n",
      "Grid Search Time: 0.00s, Training Time: 0.02s\n",
      "KNN Parameters: {'algorithm': 'auto', 'n_neighbors': 10, 'weights': 'distance'}\n",
      "Performance: R² = 0.9188, MAE = 74091.44, MAPE = 5861.06%\n",
      "q-score: 89.98\n",
      "Prediction time: 328.8714 μs/sample\n",
      "I/O: Reads=0.000010, Writes=0.000013\n",
      "--------------------------------------------------------------------------------\n",
      "\n",
      "Training with sample size: 5000\n",
      "Memory usage: 1844.52 MB\n",
      "Using best parameters from max scale: {'algorithm': 'auto', 'n_neighbors': 10, 'weights': 'distance'}\n",
      "Training KNN model...\n",
      "Making predictions...\n"
     ]
    },
    {
     "name": "stdout",
     "output_type": "stream",
     "text": [
      "Calculating performance metrics...\n",
      "Measuring prediction performance...\n"
     ]
    },
    {
     "name": "stdout",
     "output_type": "stream",
     "text": [
      "Saving model...\n",
      "Model size: 338.03 KB\n",
      "\n",
      "Results for powerthingwaysorted, Sample Size: 5000\n",
      "Grid Search Time: 0.00s, Training Time: 0.00s\n",
      "KNN Parameters: {'algorithm': 'auto', 'n_neighbors': 10, 'weights': 'distance'}\n",
      "Performance: R² = 0.8792, MAE = 94031.84, MAPE = 7175.18%\n",
      "q-score: 109.79\n",
      "Prediction time: 265.1019 μs/sample\n",
      "I/O: Reads=0.000010, Writes=0.000011\n",
      "--------------------------------------------------------------------------------\n",
      "\n",
      "Training with sample size: 1000\n",
      "Memory usage: 1844.52 MB\n",
      "Using best parameters from max scale: {'algorithm': 'auto', 'n_neighbors': 10, 'weights': 'distance'}\n",
      "Training KNN model...\n",
      "Making predictions...\n"
     ]
    },
    {
     "name": "stdout",
     "output_type": "stream",
     "text": [
      "Calculating performance metrics...\n",
      "Measuring prediction performance...\n"
     ]
    },
    {
     "name": "stdout",
     "output_type": "stream",
     "text": [
      "Saving model...\n",
      "Model size: 39.09 KB\n",
      "\n",
      "Results for powerthingwaysorted, Sample Size: 1000\n",
      "Grid Search Time: 0.00s, Training Time: 0.00s\n",
      "KNN Parameters: {'algorithm': 'auto', 'n_neighbors': 10, 'weights': 'distance'}\n",
      "Performance: R² = 0.7129, MAE = 148210.33, MAPE = 12054.92%\n",
      "q-score: 179.23\n",
      "Prediction time: 171.5768 μs/sample\n",
      "I/O: Reads=0.000010, Writes=0.000008\n",
      "--------------------------------------------------------------------------------\n",
      "Saving results for powerthingwaysorted...\n"
     ]
    },
    {
     "name": "stdout",
     "output_type": "stream",
     "text": [
      "Memory usage: 1778.17 MB\n",
      "\n",
      "Processing dataset: emergencythingwaysorted\n",
      "Universe boundaries for emergencythingwaysorted: (-175.221337, -53.7941359, 179.3313189, 78.22019230000001)\n",
      "Loading data from ../large_files/resultsIntersects/emergencythingwaysorted_results.csv\n"
     ]
    },
    {
     "name": "stdout",
     "output_type": "stream",
     "text": [
      "Parsing MBR coordinates...\n"
     ]
    },
    {
     "name": "stdout",
     "output_type": "stream",
     "text": [
      "\n",
      "Basic statistics for emergencythingwaysorted dataset:\n",
      "Max count: 807533.0\n",
      "Min count: 0.0\n",
      "Mean count: 13253.96\n",
      "Median count: 15.00\n",
      "Total samples: 161514\n",
      "\n",
      "Calculating rectangle densities...\n",
      "Splitting data into train and test sets...\n",
      "Training set size: 129211\n",
      "\n",
      "Training with sample size: 129211\n",
      "Memory usage: 1780.17 MB\n",
      "Performing grid search for optimal parameters...\n"
     ]
    },
    {
     "name": "stdout",
     "output_type": "stream",
     "text": [
      "Grid search complete in 544.84s\n",
      "Best parameters: {'algorithm': 'auto', 'n_neighbors': 7, 'weights': 'distance'}\n",
      "Training KNN model...\n",
      "Making predictions...\n"
     ]
    },
    {
     "name": "stdout",
     "output_type": "stream",
     "text": [
      "Calculating performance metrics...\n",
      "Measuring prediction performance...\n"
     ]
    },
    {
     "name": "stdout",
     "output_type": "stream",
     "text": [
      "Saving model...\n"
     ]
    },
    {
     "name": "stdout",
     "output_type": "stream",
     "text": [
      "Model size: 8894.09 KB\n",
      "\n",
      "Results for emergencythingwaysorted, Sample Size: 129211\n",
      "Grid Search Time: 544.84s, Training Time: 0.09s\n",
      "KNN Parameters: {'algorithm': 'auto', 'n_neighbors': 7, 'weights': 'distance'}\n",
      "Performance: R² = 0.9619, MAE = 2495.43, MAPE = 187.94%\n",
      "q-score: 4.26\n",
      "Prediction time: 613.2826 μs/sample\n",
      "I/O: Reads=0.000000, Writes=0.000009\n",
      "--------------------------------------------------------------------------------\n",
      "Generating prediction scatter plot...\n"
     ]
    },
    {
     "name": "stdout",
     "output_type": "stream",
     "text": [
      "Generating side-by-side comparison plot...\n"
     ]
    },
    {
     "name": "stdout",
     "output_type": "stream",
     "text": [
      "\n",
      "Training with sample size: 100000\n",
      "Memory usage: 1780.16 MB\n",
      "Using best parameters from max scale: {'algorithm': 'auto', 'n_neighbors': 7, 'weights': 'distance'}\n",
      "Training KNN model...\n",
      "Making predictions...\n"
     ]
    },
    {
     "name": "stdout",
     "output_type": "stream",
     "text": [
      "Calculating performance metrics...\n",
      "Measuring prediction performance...\n"
     ]
    },
    {
     "name": "stdout",
     "output_type": "stream",
     "text": [
      "Saving model...\n"
     ]
    },
    {
     "name": "stdout",
     "output_type": "stream",
     "text": [
      "Model size: 6709.66 KB\n",
      "\n",
      "Results for emergencythingwaysorted, Sample Size: 100000\n",
      "Grid Search Time: 0.00s, Training Time: 0.06s\n",
      "KNN Parameters: {'algorithm': 'auto', 'n_neighbors': 7, 'weights': 'distance'}\n",
      "Performance: R² = 0.9576, MAE = 2684.06, MAPE = 218.88%\n",
      "q-score: 4.80\n",
      "Prediction time: 543.5479 μs/sample\n",
      "I/O: Reads=0.000000, Writes=0.000071\n",
      "--------------------------------------------------------------------------------\n",
      "\n",
      "Training with sample size: 50000\n",
      "Memory usage: 1780.17 MB\n",
      "Using best parameters from max scale: {'algorithm': 'auto', 'n_neighbors': 7, 'weights': 'distance'}\n",
      "Training KNN model...\n",
      "Making predictions...\n"
     ]
    },
    {
     "name": "stdout",
     "output_type": "stream",
     "text": [
      "Calculating performance metrics...\n",
      "Measuring prediction performance...\n"
     ]
    },
    {
     "name": "stdout",
     "output_type": "stream",
     "text": [
      "Saving model...\n",
      "Model size: 3327.06 KB\n",
      "\n",
      "Results for emergencythingwaysorted, Sample Size: 50000\n",
      "Grid Search Time: 0.00s, Training Time: 0.03s\n",
      "KNN Parameters: {'algorithm': 'auto', 'n_neighbors': 7, 'weights': 'distance'}\n",
      "Performance: R² = 0.9464, MAE = 3169.01, MAPE = 270.54%\n",
      "q-score: 5.80\n",
      "Prediction time: 493.6805 μs/sample\n",
      "I/O: Reads=0.000000, Writes=0.000050\n",
      "--------------------------------------------------------------------------------\n"
     ]
    },
    {
     "name": "stdout",
     "output_type": "stream",
     "text": [
      "\n",
      "Training with sample size: 10000\n",
      "Memory usage: 1780.17 MB\n",
      "Using best parameters from max scale: {'algorithm': 'auto', 'n_neighbors': 7, 'weights': 'distance'}\n",
      "Training KNN model...\n",
      "Making predictions...\n"
     ]
    },
    {
     "name": "stdout",
     "output_type": "stream",
     "text": [
      "Calculating performance metrics...\n",
      "Measuring prediction performance...\n"
     ]
    },
    {
     "name": "stdout",
     "output_type": "stream",
     "text": [
      "Saving model...\n",
      "Model size: 669.41 KB\n",
      "\n",
      "Results for emergencythingwaysorted, Sample Size: 10000\n",
      "Grid Search Time: 0.00s, Training Time: 0.00s\n",
      "KNN Parameters: {'algorithm': 'auto', 'n_neighbors': 7, 'weights': 'distance'}\n",
      "Performance: R² = 0.8885, MAE = 5210.51, MAPE = 558.71%\n",
      "q-score: 10.42\n",
      "Prediction time: 276.2598 μs/sample\n",
      "I/O: Reads=0.000000, Writes=0.000006\n",
      "--------------------------------------------------------------------------------\n",
      "\n",
      "Training with sample size: 5000\n",
      "Memory usage: 1780.17 MB\n",
      "Using best parameters from max scale: {'algorithm': 'auto', 'n_neighbors': 7, 'weights': 'distance'}\n",
      "Training KNN model...\n",
      "Making predictions...\n"
     ]
    },
    {
     "name": "stdout",
     "output_type": "stream",
     "text": [
      "Calculating performance metrics...\n",
      "Measuring prediction performance...\n"
     ]
    },
    {
     "name": "stdout",
     "output_type": "stream",
     "text": [
      "Saving model...\n",
      "Model size: 336.07 KB\n",
      "\n",
      "Results for emergencythingwaysorted, Sample Size: 5000\n",
      "Grid Search Time: 0.00s, Training Time: 0.00s\n",
      "KNN Parameters: {'algorithm': 'auto', 'n_neighbors': 7, 'weights': 'distance'}\n",
      "Performance: R² = 0.8326, MAE = 6525.96, MAPE = 853.18%\n",
      "q-score: 15.68\n",
      "Prediction time: 191.3821 μs/sample\n",
      "I/O: Reads=0.000000, Writes=0.000300\n",
      "--------------------------------------------------------------------------------\n",
      "\n",
      "Training with sample size: 1000\n",
      "Memory usage: 1780.17 MB\n",
      "Using best parameters from max scale: {'algorithm': 'auto', 'n_neighbors': 7, 'weights': 'distance'}\n",
      "Training KNN model...\n",
      "Making predictions...\n"
     ]
    },
    {
     "name": "stdout",
     "output_type": "stream",
     "text": [
      "Calculating performance metrics...\n",
      "Measuring prediction performance...\n"
     ]
    },
    {
     "name": "stdout",
     "output_type": "stream",
     "text": [
      "Saving model...\n",
      "Model size: 38.78 KB\n",
      "\n",
      "Results for emergencythingwaysorted, Sample Size: 1000\n",
      "Grid Search Time: 0.00s, Training Time: 0.00s\n",
      "KNN Parameters: {'algorithm': 'auto', 'n_neighbors': 7, 'weights': 'distance'}\n",
      "Performance: R² = 0.6277, MAE = 9957.51, MAPE = 1829.21%\n",
      "q-score: 32.35\n",
      "Prediction time: 140.6479 μs/sample\n",
      "I/O: Reads=0.000000, Writes=0.000000\n",
      "--------------------------------------------------------------------------------\n",
      "Saving results for emergencythingwaysorted...\n"
     ]
    },
    {
     "name": "stdout",
     "output_type": "stream",
     "text": [
      "Memory usage: 1780.17 MB\n",
      "\n",
      "Processing dataset: craftwaysorted\n",
      "Universe boundaries for craftwaysorted: (-175.2000514, -65.2458821, 175.3397782, 69.6673353)\n",
      "Loading data from ../large_files/resultsIntersects/craftwaysorted_results.csv\n",
      "Parsing MBR coordinates...\n"
     ]
    },
    {
     "name": "stdout",
     "output_type": "stream",
     "text": [
      "\n",
      "Basic statistics for craftwaysorted dataset:\n",
      "Max count: 108929.0\n",
      "Min count: 0.0\n",
      "Mean count: 1705.24\n",
      "Median count: 0.00\n",
      "Total samples: 21822\n",
      "\n",
      "Calculating rectangle densities...\n",
      "Splitting data into train and test sets...\n",
      "Training set size: 17457\n",
      "\n",
      "Training with sample size: 17457\n",
      "Memory usage: 1780.17 MB\n",
      "Performing grid search for optimal parameters...\n"
     ]
    },
    {
     "name": "stdout",
     "output_type": "stream",
     "text": [
      "Grid search complete in 28.90s\n",
      "Best parameters: {'algorithm': 'auto', 'n_neighbors': 3, 'weights': 'distance'}\n",
      "Training KNN model...\n",
      "Making predictions...\n",
      "Calculating performance metrics...\n",
      "Measuring prediction performance...\n"
     ]
    },
    {
     "name": "stdout",
     "output_type": "stream",
     "text": [
      "Saving model...\n",
      "Model size: 1167.64 KB\n",
      "\n",
      "Results for craftwaysorted, Sample Size: 17457\n",
      "Grid Search Time: 28.90s, Training Time: 0.01s\n",
      "KNN Parameters: {'algorithm': 'auto', 'n_neighbors': 3, 'weights': 'distance'}\n",
      "Performance: R² = 0.8607, MAE = 604.33, MAPE = 86.09%\n",
      "q-score: 3.20\n",
      "Prediction time: 244.9987 μs/sample\n",
      "I/O: Reads=0.000000, Writes=0.000092\n",
      "--------------------------------------------------------------------------------\n",
      "Generating prediction scatter plot...\n"
     ]
    },
    {
     "name": "stdout",
     "output_type": "stream",
     "text": [
      "Generating side-by-side comparison plot...\n"
     ]
    },
    {
     "name": "stdout",
     "output_type": "stream",
     "text": [
      "\n",
      "Training with sample size: 10000\n",
      "Memory usage: 1780.17 MB\n",
      "Using best parameters from max scale: {'algorithm': 'auto', 'n_neighbors': 3, 'weights': 'distance'}\n",
      "Training KNN model...\n",
      "Making predictions...\n",
      "Calculating performance metrics...\n",
      "Measuring prediction performance...\n"
     ]
    },
    {
     "name": "stdout",
     "output_type": "stream",
     "text": [
      "Saving model...\n",
      "Model size: 665.63 KB\n",
      "\n",
      "Results for craftwaysorted, Sample Size: 10000\n",
      "Grid Search Time: 0.00s, Training Time: 0.00s\n",
      "KNN Parameters: {'algorithm': 'auto', 'n_neighbors': 3, 'weights': 'distance'}\n",
      "Performance: R² = 0.8323, MAE = 692.77, MAPE = 105.10%\n",
      "q-score: 3.88\n",
      "Prediction time: 209.5614 μs/sample\n",
      "I/O: Reads=0.000000, Writes=0.000000\n",
      "--------------------------------------------------------------------------------\n",
      "\n",
      "Training with sample size: 5000\n",
      "Memory usage: 1780.17 MB\n",
      "Using best parameters from max scale: {'algorithm': 'auto', 'n_neighbors': 3, 'weights': 'distance'}\n",
      "Training KNN model...\n",
      "Making predictions...\n"
     ]
    },
    {
     "name": "stdout",
     "output_type": "stream",
     "text": [
      "Calculating performance metrics...\n",
      "Measuring prediction performance...\n"
     ]
    },
    {
     "name": "stdout",
     "output_type": "stream",
     "text": [
      "Saving model...\n",
      "Model size: 333.73 KB\n",
      "\n",
      "Results for craftwaysorted, Sample Size: 5000\n",
      "Grid Search Time: 0.00s, Training Time: 0.00s\n",
      "KNN Parameters: {'algorithm': 'auto', 'n_neighbors': 3, 'weights': 'distance'}\n",
      "Performance: R² = 0.7180, MAE = 907.31, MAPE = 126.97%\n",
      "q-score: 4.79\n",
      "Prediction time: 160.1110 μs/sample\n",
      "I/O: Reads=0.000000, Writes=0.000000\n",
      "--------------------------------------------------------------------------------\n",
      "\n",
      "Training with sample size: 1000\n",
      "Memory usage: 1780.42 MB\n",
      "Using best parameters from max scale: {'algorithm': 'auto', 'n_neighbors': 3, 'weights': 'distance'}\n",
      "Training KNN model...\n",
      "Making predictions...\n"
     ]
    },
    {
     "name": "stdout",
     "output_type": "stream",
     "text": [
      "Calculating performance metrics...\n",
      "Measuring prediction performance...\n"
     ]
    },
    {
     "name": "stdout",
     "output_type": "stream",
     "text": [
      "Saving model...\n",
      "Model size: 38.45 KB\n",
      "\n",
      "Results for craftwaysorted, Sample Size: 1000\n",
      "Grid Search Time: 0.00s, Training Time: 0.00s\n",
      "KNN Parameters: {'algorithm': 'auto', 'n_neighbors': 3, 'weights': 'distance'}\n",
      "Performance: R² = 0.4916, MAE = 1208.48, MAPE = 214.36%\n",
      "q-score: 8.05\n",
      "Prediction time: 88.1169 μs/sample\n",
      "I/O: Reads=0.000000, Writes=0.000000\n",
      "--------------------------------------------------------------------------------\n",
      "Saving results for craftwaysorted...\n"
     ]
    },
    {
     "name": "stdout",
     "output_type": "stream",
     "text": [
      "Saving combined results...\n",
      "All processing completed and results saved.\n",
      "Memory usage: 1780.42 MB\n"
     ]
    }
   ],
   "source": [
    "import numpy as np\n",
    "import pandas as pd\n",
    "import matplotlib.pyplot as plt\n",
    "import matplotlib.patches as patches\n",
    "from time import process_time\n",
    "from sklearn.model_selection import train_test_split\n",
    "from sklearn.metrics import mean_absolute_error as MAE\n",
    "from sklearn.model_selection import GridSearchCV\n",
    "from sklearn.neighbors import KNeighborsRegressor\n",
    "import psutil\n",
    "import os\n",
    "import re\n",
    "import multiprocessing\n",
    "import joblib\n",
    "import gc\n",
    "from tqdm.notebook import tqdm  # Progress bars for Jupyter\n",
    "\n",
    "# Configuration options\n",
    "VISUALIZE_RECTANGLES = False  # Set to True if you want to visualize rectangles\n",
    "SAVE_INTERMEDIATE_MODELS = True  # Set to False to save only final models\n",
    "\n",
    "# Flag to control whether to use multiple scales or only the maximum scale\n",
    "use_multiple_scales = True  # Set to False to use only maximum scale, True for all scales\n",
    "\n",
    "# Get available CPU cores and set appropriate parallelism\n",
    "n_cores = multiprocessing.cpu_count()\n",
    "n_jobs = max(1, n_cores - 1)  # Leave one core free for system processes\n",
    "print(f\"Using {n_jobs} of {n_cores} available CPU cores\")\n",
    "\n",
    "# For reproducibility\n",
    "RANDOM_SEED = 3\n",
    "np.random.seed(RANDOM_SEED)\n",
    "\n",
    "def monitor_memory():\n",
    "    \"\"\"Print current memory usage of the process\"\"\"\n",
    "    process = psutil.Process()\n",
    "    memory_mb = process.memory_info().rss / (1024 * 1024)\n",
    "    print(f\"Memory usage: {memory_mb:.2f} MB\")\n",
    "\n",
    "def MAPE(actual_values, predicted_values):\n",
    "    \"\"\"Calculate Mean Absolute Percentage Error with special handling for zeros\"\"\"\n",
    "    # Vectorized implementation\n",
    "    actual_flat = actual_values.flatten()\n",
    "    pred_flat = predicted_values.flatten()\n",
    "    \n",
    "    # Create mask for non-zero actual values\n",
    "    non_zero_mask = actual_flat != 0\n",
    "    zero_mask = ~non_zero_mask\n",
    "    \n",
    "    # Calculate MAPE for non-zero elements\n",
    "    mape_sum = 0\n",
    "    count = len(actual_flat)\n",
    "    \n",
    "    if np.any(non_zero_mask):\n",
    "        mape_sum += np.sum(np.abs((actual_flat[non_zero_mask] - pred_flat[non_zero_mask]) / actual_flat[non_zero_mask]))\n",
    "    \n",
    "    if np.any(zero_mask):\n",
    "        mape_sum += np.sum(np.abs(actual_flat[zero_mask] - pred_flat[zero_mask]) / 100)\n",
    "    \n",
    "    return mape_sum / count\n",
    "\n",
    "# Load spatial statistics to get universe boundaries for each dataset\n",
    "print(\"Loading spatial statistics...\")\n",
    "spatial_stats = pd.read_csv('../spatial_statistics.csv')\n",
    "\n",
    "# Directory containing the datasets\n",
    "data_dir = '../large_files/resultsIntersects/'\n",
    "\n",
    "# Parse bounding box information\n",
    "def parse_bbox(bbox_str):\n",
    "    # Extract coordinates from BOX string using regex\n",
    "    pattern = r\"BOX\\(([-\\d\\.]+) ([-\\d\\.]+),([-\\d\\.]+) ([-\\d\\.]+)\\)\"\n",
    "    match = re.search(pattern, bbox_str)\n",
    "    if match:\n",
    "        xmin = float(match.group(1))\n",
    "        ymin = float(match.group(2))\n",
    "        xmax = float(match.group(3))\n",
    "        ymax = float(match.group(4))\n",
    "        return xmin, ymin, xmax, ymax\n",
    "    return -180, -90, 180, 90  # Default if parsing fails\n",
    "\n",
    "# Extract universe boundaries for each dataset\n",
    "universe_boundaries = {}\n",
    "for _, row in spatial_stats.iterrows():\n",
    "    table_name = row['Table Name']\n",
    "    bbox = parse_bbox(row['Universe Limits (Bounding Box)'])\n",
    "    universe_boundaries[table_name] = bbox\n",
    "\n",
    "# Get list of all CSV files in the directory\n",
    "print(\"Finding dataset files...\")\n",
    "csv_files = [f for f in os.listdir(data_dir) if f.endswith('.csv')]\n",
    "print(f\"Found {len(csv_files)} datasets to process\")\n",
    "\n",
    "# Define the scales of learning\n",
    "scales = [1000, 5000, 10000, 50000, 100000, 500000, 1000000]\n",
    "\n",
    "# Create necessary directories\n",
    "os.makedirs('../large_files/LearnedModels/intersect/KNN', exist_ok=True)\n",
    "os.makedirs('../large_files/LearnedModels/intersect/KNN/visualizations', exist_ok=True)\n",
    "os.makedirs('../large_files/LearnedModels/intersect/KNN/results', exist_ok=True)\n",
    "\n",
    "# Lists to store all results\n",
    "all_results_list = []\n",
    "\n",
    "# Process each dataset\n",
    "for csv_file in tqdm(csv_files, desc=\"Processing datasets\"):\n",
    "    # Force garbage collection at the start of each dataset\n",
    "    gc.collect()\n",
    "    monitor_memory()\n",
    "    \n",
    "    # Extract dataset name (remove \"_results.csv\")\n",
    "    dataset_name = csv_file.replace('_results.csv', '')\n",
    "    \n",
    "    print(f\"\\nProcessing dataset: {dataset_name}\")\n",
    "    \n",
    "    # Get universe boundaries for this dataset\n",
    "    if dataset_name in universe_boundaries:\n",
    "        univ_xmin, univ_ymin, univ_xmax, univ_ymax = universe_boundaries[dataset_name]\n",
    "    else:\n",
    "        # Default values if dataset not found in spatial stats\n",
    "        univ_xmin, univ_ymin, univ_xmax, univ_ymax = -180, -90, 180, 90\n",
    "    \n",
    "    Surface_univ = (univ_xmax - univ_xmin) * (univ_ymax - univ_ymin)\n",
    "    print(f\"Universe boundaries for {dataset_name}: ({univ_xmin}, {univ_ymin}, {univ_xmax}, {univ_ymax})\")\n",
    "    \n",
    "    # Load dataset - only load required columns\n",
    "    data_path = os.path.join(data_dir, csv_file)\n",
    "    print(f\"Loading data from {data_path}\")\n",
    "    data = pd.read_csv(data_path, usecols=['Query MBR', 'Count MBR'])\n",
    "    \n",
    "    # Extract query MBR column (needs parsing as it's in string format)\n",
    "    def parse_mbr(mbr_str):\n",
    "        coords = mbr_str.strip('\"()').split(', ')\n",
    "        return [float(coord) for coord in coords]\n",
    "    \n",
    "    # Extract columns - use list comprehension for better performance\n",
    "    print(\"Parsing MBR coordinates...\")\n",
    "    Rectangles = np.array([parse_mbr(mbr) for mbr in data['Query MBR']])\n",
    "    Y = data[['Count MBR']].values  # Using Count MBR as target\n",
    "    \n",
    "    # Free up memory\n",
    "    del data\n",
    "    gc.collect()\n",
    "    \n",
    "    # Calculate basic statistics\n",
    "    max_count = float(np.max(Y))\n",
    "    min_count = float(np.min(Y))\n",
    "    mean_count = float(np.mean(Y))\n",
    "    median_count = float(np.median(Y))\n",
    "    total_samples = len(Y)\n",
    "\n",
    "    # Display basic statistics for the dataset\n",
    "    print(f\"\\nBasic statistics for {dataset_name} dataset:\")\n",
    "    print(f\"Max count: {max_count}\")\n",
    "    print(f\"Min count: {min_count}\")\n",
    "    print(f\"Mean count: {mean_count:.2f}\")\n",
    "    print(f\"Median count: {median_count:.2f}\")\n",
    "    print(f\"Total samples: {total_samples}\\n\")\n",
    "\n",
    "    # Calculate rectangles density - vectorized version\n",
    "    print(\"Calculating rectangle densities...\")\n",
    "    width = Rectangles[:, 2] - Rectangles[:, 0]\n",
    "    height = Rectangles[:, 3] - Rectangles[:, 1]\n",
    "    rectanglesDensity = np.abs(width * height / Surface_univ).reshape(-1, 1)\n",
    "    \n",
    "    # Prepare the dataset\n",
    "    # X = np.append(Rectangles, rectanglesDensity, axis=1)\n",
    "    X = Rectangles\n",
    "    \n",
    "    # Split the data into 80% train and 20% test\n",
    "    print(\"Splitting data into train and test sets...\")\n",
    "    X_train, X_test_all, y_train, y_test_all = train_test_split(X, Y, test_size=0.2, random_state=RANDOM_SEED)\n",
    "    \n",
    "    # Visualize the first 1000 rectangles (only if enabled)\n",
    "    if len(Rectangles) > 0 and VISUALIZE_RECTANGLES:\n",
    "        print(\"Visualizing rectangles sample...\")\n",
    "        plt.figure(figsize=(10, 8))\n",
    "        ax = plt.subplot()\n",
    "        \n",
    "        # Only visualize a sample to save time\n",
    "        sample_size = min(1000, len(Rectangles))\n",
    "        for i in range(sample_size):\n",
    "            x1, y1, x2, y2 = Rectangles[i]\n",
    "            color_val = float(rectanglesDensity[i][0]) if hasattr(rectanglesDensity[i], '__len__') else float(rectanglesDensity[i])\n",
    "            rectangle = patches.Rectangle((x1, y1), x2 - x1, y2 - y1, \n",
    "                                        linewidth=1, edgecolor='b', facecolor='none', alpha=min(1.0, color_val*10))\n",
    "            ax.add_patch(rectangle)\n",
    "            \n",
    "        plt.xlim(univ_xmin-20, univ_xmax+20)\n",
    "        plt.ylim(univ_ymin-10, univ_ymax+10)\n",
    "        plt.title(f\"Sample rectangles from {dataset_name}\")\n",
    "        plt.savefig(f\"../large_files/LearnedModels/intersect/KNN/visualizations/{dataset_name}_rectangles.png\", dpi=150)\n",
    "        plt.close()  # Close to free memory instead of plt.show()\n",
    "    \n",
    "    # Adjust scales to the dataset size\n",
    "    max_size = len(X_train)\n",
    "    print(f\"Training set size: {max_size}\")\n",
    "\n",
    "    # KNN scales differently from tree-based models - for very large datasets, limit max size\n",
    "    # if max_size > 100000:\n",
    "    #     print(f\"Large dataset detected - limiting KNN training size to 100,000 samples\")\n",
    "    #     max_size = 100000  # KNN can be slow with larger datasets\n",
    "        \n",
    "    if use_multiple_scales:\n",
    "        # Use multiple scales as before\n",
    "        adjusted_scales = [s for s in scales if s <= max_size]\n",
    "        \n",
    "        # Add the actual max size if it's not already in the list\n",
    "        if max_size not in adjusted_scales:\n",
    "            adjusted_scales.append(max_size)\n",
    "            \n",
    "        # Sort the scales to ensure they're in ascending order\n",
    "        adjusted_scales.sort()\n",
    "    else:\n",
    "        # Use only the maximum scale\n",
    "        adjusted_scales = [max_size]\n",
    "\n",
    "    # List to store dataset-specific results\n",
    "    dataset_results_list = []\n",
    "\n",
    "    # Store best parameters from max scale training to reuse\n",
    "    best_params = None\n",
    "    \n",
    "    # Process scales in reversed order (largest first)\n",
    "    for sample_size in reversed(adjusted_scales):\n",
    "        print(f\"\\nTraining with sample size: {sample_size}\")\n",
    "        monitor_memory()\n",
    "        \n",
    "        # Create training subset\n",
    "        X_train_sample = X_train[:sample_size, :]\n",
    "        y_train_sample = y_train[:sample_size]\n",
    "        \n",
    "        # Set reasonable K values for parameter tuning\n",
    "        k_values = [3, 5, 7, 10, 15, 20, 30]\n",
    "        \n",
    "        # KNN parameters - optimize for performance\n",
    "        params_knn = {\n",
    "            'n_neighbors': k_values,\n",
    "            'weights': ['distance'],      # Only use distance weighting\n",
    "            'algorithm': ['auto'],        # Let KNN decide best algorithm\n",
    "        }\n",
    "        \n",
    "        # Only do GridSearch for the max scale\n",
    "        if sample_size == max_size or best_params is None:\n",
    "            print(\"Performing grid search for optimal parameters...\")\n",
    "            knn = KNeighborsRegressor(n_jobs=n_jobs)\n",
    "            knn_cv = GridSearchCV(knn, params_knn, cv=3, n_jobs=1)  # Use n_jobs=1 here as KNN uses parallelism internally\n",
    "            \n",
    "            # Time the grid search\n",
    "            t1_start = process_time()\n",
    "            knn_cv.fit(X_train_sample, y_train_sample.ravel())\n",
    "            t1_stop = process_time()\n",
    "            grid_search_time = t1_stop - t1_start\n",
    "            \n",
    "            # Store best parameters for reuse\n",
    "            best_params = knn_cv.best_params_\n",
    "            print(f\"Grid search complete in {grid_search_time:.2f}s\")\n",
    "            print(f\"Best parameters: {best_params}\")\n",
    "        else:\n",
    "            # Skip grid search for smaller scales, use params from max scale\n",
    "            knn_cv = None\n",
    "            grid_search_time = 0\n",
    "            print(f\"Using best parameters from max scale: {best_params}\")\n",
    "        \n",
    "        # Train the model with best parameters\n",
    "        print(\"Training KNN model...\")\n",
    "        knn = KNeighborsRegressor(n_jobs=n_jobs, **best_params)\n",
    "        \n",
    "        t2_start = process_time()\n",
    "        knn.fit(X_train_sample, y_train_sample.ravel())\n",
    "        t2_stop = process_time()\n",
    "        training_time = t2_stop - t2_start\n",
    "        \n",
    "        # Make predictions\n",
    "        print(\"Making predictions...\")\n",
    "        y_pred = knn.predict(X_test_all).reshape(-1, 1)  # Reshape to match y_test_all format\n",
    "        # Ensure predictions are non-negative (counts can't be negative)\n",
    "        y_pred = np.maximum(0, y_pred)  # Convert any negative predictions to zero\n",
    "\n",
    "        # Calculate metrics\n",
    "        r2_score = knn.score(X_test_all, y_test_all)\n",
    "        mae_value = MAE(y_test_all, y_pred)\n",
    "        mape_value = MAPE(y_test_all, y_pred)\n",
    "        \n",
    "        # Calculate q-score - vectorized version\n",
    "        print(\"Calculating performance metrics...\")\n",
    "        \n",
    "        # Vectorized q-score calculation\n",
    "        y_true_flat = y_test_all.flatten()\n",
    "        y_pred_flat = y_pred.flatten() if y_pred.ndim > 1 else y_pred\n",
    "        \n",
    "        # Find indices where both values are non-zero\n",
    "        valid_indices = (y_true_flat != 0) & (y_pred_flat != 0)\n",
    "        \n",
    "        if np.any(valid_indices):\n",
    "            ratios = np.maximum(\n",
    "                y_pred_flat[valid_indices] / y_true_flat[valid_indices],\n",
    "                y_true_flat[valid_indices] / y_pred_flat[valid_indices]\n",
    "            )\n",
    "            q_score_mean = np.mean(ratios)\n",
    "        else:\n",
    "            q_score_mean = 0\n",
    "        \n",
    "        # Time prediction performance (10 iterations)\n",
    "        print(\"Measuring prediction performance...\")\n",
    "        total_duration = 0\n",
    "        total_read = 0\n",
    "        total_write = 0\n",
    "        \n",
    "        for _ in range(10):\n",
    "            io_before = psutil.disk_io_counters()\n",
    "            t3_start = process_time()\n",
    "            preds = knn.predict(X_test_all)\n",
    "            preds = np.maximum(0, preds)  # Include this operation in timing\n",
    "            t3_stop = process_time()\n",
    "            io_after = psutil.disk_io_counters()\n",
    "            \n",
    "            total_duration += (t3_stop - t3_start)\n",
    "            total_read += io_after.read_count - io_before.read_count\n",
    "            total_write += io_after.write_count - io_before.write_count\n",
    "        \n",
    "        avg_pred_time_microsec = (total_duration / 10) / len(y_pred) * 1000000\n",
    "        avg_reads = total_read / 10 / len(y_pred)\n",
    "        avg_writes = total_write / 10 / len(y_pred)\n",
    "        \n",
    "        # Save the model using joblib instead of pickle for better efficiency\n",
    "        if SAVE_INTERMEDIATE_MODELS or sample_size == max_size:\n",
    "            print(\"Saving model...\")\n",
    "            filename = f'../large_files/LearnedModels/intersect/KNN/{dataset_name}_knn_{sample_size}_{training_time:.2f}s_{mape_value:.2%}_{mae_value:.2f}.joblib'\n",
    "            joblib.dump(knn, filename, compress=3)\n",
    "            # Get model file size in KB\n",
    "            model_size_kb = os.path.getsize(filename) / 1024\n",
    "            print(f\"Model size: {model_size_kb:.2f} KB\")\n",
    "        else:\n",
    "            model_size_kb = 0  # Set to 0 if model wasn't saved\n",
    "        \n",
    "        # Print results\n",
    "        print(f\"\\nResults for {dataset_name}, Sample Size: {sample_size}\")\n",
    "        print(f\"Grid Search Time: {grid_search_time:.2f}s, Training Time: {training_time:.2f}s\")\n",
    "        print(f\"KNN Parameters: {best_params}\")\n",
    "        print(f\"Performance: R² = {r2_score:.4f}, MAE = {mae_value:.2f}, MAPE = {mape_value:.2%}\")\n",
    "        print(f\"q-score: {q_score_mean:.2f}\")\n",
    "        print(f\"Prediction time: {avg_pred_time_microsec:.4f} μs/sample\")\n",
    "        print(f\"I/O: Reads={avg_reads:.6f}, Writes={avg_writes:.6f}\")\n",
    "        print(\"-\" * 80)\n",
    "        \n",
    "        # Plot actual vs predicted only for the maximum scale\n",
    "        if sample_size == adjusted_scales[-1]:  # Check if this is the maximum scale\n",
    "            print(\"Generating prediction scatter plot...\")\n",
    "            plt.figure(figsize=(10, 8))\n",
    "            plt.scatter(y_test_all, y_pred, s=0.5, alpha=0.5)\n",
    "            plt.xlabel('True Values')\n",
    "            plt.ylabel('Predictions')\n",
    "            plt.title(f\"{dataset_name} - Sample Size: {sample_size} (Maximum)\")\n",
    "            plt.grid(True, alpha=0.3)\n",
    "            \n",
    "            # Add diagonal line for perfect predictions\n",
    "            max_val = max(np.max(y_test_all), np.max(y_pred))\n",
    "            plt.plot([0, max_val], [0, max_val], 'r--', alpha=0.5)\n",
    "            \n",
    "            plt.savefig(f\"../large_files/LearnedModels/intersect/KNN/visualizations/{dataset_name}_{sample_size}_prediction.png\", dpi=150)\n",
    "            plt.close()  # Close to free memory\n",
    "            \n",
    "            # Create a scatter plot comparing predicted vs real values for first 100 rectangles\n",
    "            print(\"Generating side-by-side comparison plot...\")\n",
    "            \n",
    "            # Get predictions for first 100 test samples\n",
    "            sample_indices = range(min(100, len(X_test_all)))\n",
    "            X_sample = X_test_all[sample_indices]\n",
    "            y_sample_true = y_test_all[sample_indices].flatten()\n",
    "            y_sample_pred = knn.predict(X_sample)\n",
    "            # Ensure non-negative predictions\n",
    "            y_sample_pred = np.maximum(0, y_sample_pred)\n",
    "            \n",
    "            plt.figure(figsize=(20, 10))\n",
    "            plt.scatter(range(len(sample_indices)), y_sample_pred, c='purple', \n",
    "                        label='Predicted number of objects (KNN)', alpha=0.7, s=100)\n",
    "            plt.scatter(range(len(sample_indices)), y_sample_true, c='green', \n",
    "                        label='Real number of objects', alpha=0.7, s=100)\n",
    "            \n",
    "            plt.title(f'{dataset_name} - First {len(sample_indices)} Rectangles: Predicted vs Real Values', fontsize=16)\n",
    "            plt.xlabel('Rectangle Index', fontsize=14)\n",
    "            plt.ylabel('Number of objects in rectangle', fontsize=14)\n",
    "            plt.legend(fontsize=12)\n",
    "            plt.grid(True, alpha=0.3)\n",
    "            plt.tight_layout()\n",
    "            \n",
    "            # Save the plot\n",
    "            plt.savefig(f\"../large_files/LearnedModels/intersect/KNN/visualizations/{dataset_name}_comparison_plot.png\", dpi=150)\n",
    "            plt.close()\n",
    "        \n",
    "        # Store results in list (more efficient than DataFrame concat)\n",
    "        result_row = {\n",
    "            'Dataset': dataset_name,\n",
    "            'Sample_Size': sample_size,\n",
    "            'Training_Time': training_time,\n",
    "            'Best_Params': str(best_params),\n",
    "            'R2_Score': r2_score,\n",
    "            'MAE': mae_value,\n",
    "            'MAPE': float(mape_value),\n",
    "            'Q_Score': q_score_mean,\n",
    "            'Pred_Time_Microseconds': avg_pred_time_microsec,\n",
    "            'IO_Reads': avg_reads,\n",
    "            'IO_Writes': avg_writes,\n",
    "            'Model_Size_KB': model_size_kb,\n",
    "            'Max_Count': max_count,\n",
    "            'Min_Count': min_count,\n",
    "            'Mean_Count': mean_count,\n",
    "            'Median_Count': median_count,\n",
    "            'Total_Samples': total_samples\n",
    "        }\n",
    "        \n",
    "        dataset_results_list.append(result_row)\n",
    "        all_results_list.append(result_row)\n",
    "        \n",
    "        # Clean up to free memory\n",
    "        if sample_size != max_size:  # Don't delete for max size as we might need it\n",
    "            del X_train_sample, y_train_sample, knn\n",
    "            gc.collect()\n",
    "    \n",
    "    # Save results for this dataset\n",
    "    print(f\"Saving results for {dataset_name}...\")\n",
    "    dataset_results = pd.DataFrame(dataset_results_list)\n",
    "    dataset_results.to_csv(f'../large_files/LearnedModels/intersect/KNN/results/{dataset_name}_results.csv', index=False)\n",
    "    \n",
    "    # Clear memory before next dataset\n",
    "    del X_train, X_test_all, y_train, y_test_all, Rectangles, Y, rectanglesDensity\n",
    "    gc.collect()\n",
    "    \n",
    "# Save all results\n",
    "print(\"Saving combined results...\")\n",
    "all_results = pd.DataFrame(all_results_list)\n",
    "all_results.to_csv('../large_files/LearnedModels/intersect/KNN/all_results.csv', index=False)\n",
    "\n",
    "print(\"All processing completed and results saved.\")\n",
    "monitor_memory()"
   ]
  }
 ],
 "metadata": {
  "kernelspec": {
   "display_name": "base",
   "language": "python",
   "name": "python3"
  },
  "language_info": {
   "codemirror_mode": {
    "name": "ipython",
    "version": 3
   },
   "file_extension": ".py",
   "mimetype": "text/x-python",
   "name": "python",
   "nbconvert_exporter": "python",
   "pygments_lexer": "ipython3",
   "version": "3.10.12"
  },
  "papermill": {
   "default_parameters": {},
   "duration": 8631.33426,
   "end_time": "2025-03-11T04:44:31.520596",
   "environment_variables": {},
   "exception": null,
   "input_path": "/home/adminlias/Spatial-Selectivity-Ext/intersect_filter/K-neareastNeighborsRegressor.ipynb",
   "output_path": "/home/adminlias/Spatial-Selectivity-Ext/intersect_filter/output_K-neareastNeighborsRegressor.ipynb",
   "parameters": {},
   "start_time": "2025-03-11T02:20:40.186336",
   "version": "2.6.0"
  },
  "widgets": {
   "application/vnd.jupyter.widget-state+json": {
    "state": {
     "2ce6a2a277ed4a2694ff03fddccfe36a": {
      "model_module": "@jupyter-widgets/controls",
      "model_module_version": "2.0.0",
      "model_name": "HBoxModel",
      "state": {
       "_dom_classes": [],
       "_model_module": "@jupyter-widgets/controls",
       "_model_module_version": "2.0.0",
       "_model_name": "HBoxModel",
       "_view_count": null,
       "_view_module": "@jupyter-widgets/controls",
       "_view_module_version": "2.0.0",
       "_view_name": "HBoxView",
       "box_style": "",
       "children": [
        "IPY_MODEL_926458b7ae9f45f2a657e77313c6f296",
        "IPY_MODEL_ec32db48ecbf4c87bff4750d09d5aeca",
        "IPY_MODEL_65fdfea6a94444bc8db1f8d175c86c3c"
       ],
       "layout": "IPY_MODEL_8cfb7e5e881648be8d6b926ab6c87bf6",
       "tabbable": null,
       "tooltip": null
      }
     },
     "56ea80c98ba642a3ad9f34228bfdd4bb": {
      "model_module": "@jupyter-widgets/controls",
      "model_module_version": "2.0.0",
      "model_name": "HTMLStyleModel",
      "state": {
       "_model_module": "@jupyter-widgets/controls",
       "_model_module_version": "2.0.0",
       "_model_name": "HTMLStyleModel",
       "_view_count": null,
       "_view_module": "@jupyter-widgets/base",
       "_view_module_version": "2.0.0",
       "_view_name": "StyleView",
       "background": null,
       "description_width": "",
       "font_size": null,
       "text_color": null
      }
     },
     "65fdfea6a94444bc8db1f8d175c86c3c": {
      "model_module": "@jupyter-widgets/controls",
      "model_module_version": "2.0.0",
      "model_name": "HTMLModel",
      "state": {
       "_dom_classes": [],
       "_model_module": "@jupyter-widgets/controls",
       "_model_module_version": "2.0.0",
       "_model_name": "HTMLModel",
       "_view_count": null,
       "_view_module": "@jupyter-widgets/controls",
       "_view_module_version": "2.0.0",
       "_view_name": "HTMLView",
       "description": "",
       "description_allow_html": false,
       "layout": "IPY_MODEL_84c17add7d4640339540b25fba27cd12",
       "placeholder": "​",
       "style": "IPY_MODEL_56ea80c98ba642a3ad9f34228bfdd4bb",
       "tabbable": null,
       "tooltip": null,
       "value": " 14/14 [2:23:48&lt;00:00, 408.92s/it]"
      }
     },
     "84c17add7d4640339540b25fba27cd12": {
      "model_module": "@jupyter-widgets/base",
      "model_module_version": "2.0.0",
      "model_name": "LayoutModel",
      "state": {
       "_model_module": "@jupyter-widgets/base",
       "_model_module_version": "2.0.0",
       "_model_name": "LayoutModel",
       "_view_count": null,
       "_view_module": "@jupyter-widgets/base",
       "_view_module_version": "2.0.0",
       "_view_name": "LayoutView",
       "align_content": null,
       "align_items": null,
       "align_self": null,
       "border_bottom": null,
       "border_left": null,
       "border_right": null,
       "border_top": null,
       "bottom": null,
       "display": null,
       "flex": null,
       "flex_flow": null,
       "grid_area": null,
       "grid_auto_columns": null,
       "grid_auto_flow": null,
       "grid_auto_rows": null,
       "grid_column": null,
       "grid_gap": null,
       "grid_row": null,
       "grid_template_areas": null,
       "grid_template_columns": null,
       "grid_template_rows": null,
       "height": null,
       "justify_content": null,
       "justify_items": null,
       "left": null,
       "margin": null,
       "max_height": null,
       "max_width": null,
       "min_height": null,
       "min_width": null,
       "object_fit": null,
       "object_position": null,
       "order": null,
       "overflow": null,
       "padding": null,
       "right": null,
       "top": null,
       "visibility": null,
       "width": null
      }
     },
     "8cfb7e5e881648be8d6b926ab6c87bf6": {
      "model_module": "@jupyter-widgets/base",
      "model_module_version": "2.0.0",
      "model_name": "LayoutModel",
      "state": {
       "_model_module": "@jupyter-widgets/base",
       "_model_module_version": "2.0.0",
       "_model_name": "LayoutModel",
       "_view_count": null,
       "_view_module": "@jupyter-widgets/base",
       "_view_module_version": "2.0.0",
       "_view_name": "LayoutView",
       "align_content": null,
       "align_items": null,
       "align_self": null,
       "border_bottom": null,
       "border_left": null,
       "border_right": null,
       "border_top": null,
       "bottom": null,
       "display": null,
       "flex": null,
       "flex_flow": null,
       "grid_area": null,
       "grid_auto_columns": null,
       "grid_auto_flow": null,
       "grid_auto_rows": null,
       "grid_column": null,
       "grid_gap": null,
       "grid_row": null,
       "grid_template_areas": null,
       "grid_template_columns": null,
       "grid_template_rows": null,
       "height": null,
       "justify_content": null,
       "justify_items": null,
       "left": null,
       "margin": null,
       "max_height": null,
       "max_width": null,
       "min_height": null,
       "min_width": null,
       "object_fit": null,
       "object_position": null,
       "order": null,
       "overflow": null,
       "padding": null,
       "right": null,
       "top": null,
       "visibility": null,
       "width": null
      }
     },
     "8de07e399adf4739968d6e013777f5dd": {
      "model_module": "@jupyter-widgets/base",
      "model_module_version": "2.0.0",
      "model_name": "LayoutModel",
      "state": {
       "_model_module": "@jupyter-widgets/base",
       "_model_module_version": "2.0.0",
       "_model_name": "LayoutModel",
       "_view_count": null,
       "_view_module": "@jupyter-widgets/base",
       "_view_module_version": "2.0.0",
       "_view_name": "LayoutView",
       "align_content": null,
       "align_items": null,
       "align_self": null,
       "border_bottom": null,
       "border_left": null,
       "border_right": null,
       "border_top": null,
       "bottom": null,
       "display": null,
       "flex": null,
       "flex_flow": null,
       "grid_area": null,
       "grid_auto_columns": null,
       "grid_auto_flow": null,
       "grid_auto_rows": null,
       "grid_column": null,
       "grid_gap": null,
       "grid_row": null,
       "grid_template_areas": null,
       "grid_template_columns": null,
       "grid_template_rows": null,
       "height": null,
       "justify_content": null,
       "justify_items": null,
       "left": null,
       "margin": null,
       "max_height": null,
       "max_width": null,
       "min_height": null,
       "min_width": null,
       "object_fit": null,
       "object_position": null,
       "order": null,
       "overflow": null,
       "padding": null,
       "right": null,
       "top": null,
       "visibility": null,
       "width": null
      }
     },
     "926458b7ae9f45f2a657e77313c6f296": {
      "model_module": "@jupyter-widgets/controls",
      "model_module_version": "2.0.0",
      "model_name": "HTMLModel",
      "state": {
       "_dom_classes": [],
       "_model_module": "@jupyter-widgets/controls",
       "_model_module_version": "2.0.0",
       "_model_name": "HTMLModel",
       "_view_count": null,
       "_view_module": "@jupyter-widgets/controls",
       "_view_module_version": "2.0.0",
       "_view_name": "HTMLView",
       "description": "",
       "description_allow_html": false,
       "layout": "IPY_MODEL_8de07e399adf4739968d6e013777f5dd",
       "placeholder": "​",
       "style": "IPY_MODEL_f35435a608824345a69620dcea1fc53d",
       "tabbable": null,
       "tooltip": null,
       "value": "Processing datasets: 100%"
      }
     },
     "b287ac2e71d34615bdf14903a9a61873": {
      "model_module": "@jupyter-widgets/base",
      "model_module_version": "2.0.0",
      "model_name": "LayoutModel",
      "state": {
       "_model_module": "@jupyter-widgets/base",
       "_model_module_version": "2.0.0",
       "_model_name": "LayoutModel",
       "_view_count": null,
       "_view_module": "@jupyter-widgets/base",
       "_view_module_version": "2.0.0",
       "_view_name": "LayoutView",
       "align_content": null,
       "align_items": null,
       "align_self": null,
       "border_bottom": null,
       "border_left": null,
       "border_right": null,
       "border_top": null,
       "bottom": null,
       "display": null,
       "flex": null,
       "flex_flow": null,
       "grid_area": null,
       "grid_auto_columns": null,
       "grid_auto_flow": null,
       "grid_auto_rows": null,
       "grid_column": null,
       "grid_gap": null,
       "grid_row": null,
       "grid_template_areas": null,
       "grid_template_columns": null,
       "grid_template_rows": null,
       "height": null,
       "justify_content": null,
       "justify_items": null,
       "left": null,
       "margin": null,
       "max_height": null,
       "max_width": null,
       "min_height": null,
       "min_width": null,
       "object_fit": null,
       "object_position": null,
       "order": null,
       "overflow": null,
       "padding": null,
       "right": null,
       "top": null,
       "visibility": null,
       "width": null
      }
     },
     "d0e023400bb648d2b612ea23404d502d": {
      "model_module": "@jupyter-widgets/controls",
      "model_module_version": "2.0.0",
      "model_name": "ProgressStyleModel",
      "state": {
       "_model_module": "@jupyter-widgets/controls",
       "_model_module_version": "2.0.0",
       "_model_name": "ProgressStyleModel",
       "_view_count": null,
       "_view_module": "@jupyter-widgets/base",
       "_view_module_version": "2.0.0",
       "_view_name": "StyleView",
       "bar_color": null,
       "description_width": ""
      }
     },
     "ec32db48ecbf4c87bff4750d09d5aeca": {
      "model_module": "@jupyter-widgets/controls",
      "model_module_version": "2.0.0",
      "model_name": "FloatProgressModel",
      "state": {
       "_dom_classes": [],
       "_model_module": "@jupyter-widgets/controls",
       "_model_module_version": "2.0.0",
       "_model_name": "FloatProgressModel",
       "_view_count": null,
       "_view_module": "@jupyter-widgets/controls",
       "_view_module_version": "2.0.0",
       "_view_name": "ProgressView",
       "bar_style": "success",
       "description": "",
       "description_allow_html": false,
       "layout": "IPY_MODEL_b287ac2e71d34615bdf14903a9a61873",
       "max": 14.0,
       "min": 0.0,
       "orientation": "horizontal",
       "style": "IPY_MODEL_d0e023400bb648d2b612ea23404d502d",
       "tabbable": null,
       "tooltip": null,
       "value": 14.0
      }
     },
     "f35435a608824345a69620dcea1fc53d": {
      "model_module": "@jupyter-widgets/controls",
      "model_module_version": "2.0.0",
      "model_name": "HTMLStyleModel",
      "state": {
       "_model_module": "@jupyter-widgets/controls",
       "_model_module_version": "2.0.0",
       "_model_name": "HTMLStyleModel",
       "_view_count": null,
       "_view_module": "@jupyter-widgets/base",
       "_view_module_version": "2.0.0",
       "_view_name": "StyleView",
       "background": null,
       "description_width": "",
       "font_size": null,
       "text_color": null
      }
     }
    },
    "version_major": 2,
    "version_minor": 0
   }
  }
 },
 "nbformat": 4,
 "nbformat_minor": 5
}