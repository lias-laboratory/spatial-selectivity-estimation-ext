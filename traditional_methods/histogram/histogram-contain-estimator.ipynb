{
 "cells": [
  {
   "cell_type": "code",
   "execution_count": 1,
   "id": "e64fac4e",
   "metadata": {
    "execution": {
     "iopub.execute_input": "2025-03-27T17:09:19.792229Z",
     "iopub.status.busy": "2025-03-27T17:09:19.791640Z",
     "iopub.status.idle": "2025-03-27T17:22:08.322624Z",
     "shell.execute_reply": "2025-03-27T17:22:08.321711Z"
    },
    "papermill": {
     "duration": 768.539883,
     "end_time": "2025-03-27T17:22:08.325613",
     "exception": false,
     "start_time": "2025-03-27T17:09:19.785730",
     "status": "completed"
    },
    "tags": []
   },
   "outputs": [
    {
     "name": "stdout",
     "output_type": "stream",
     "text": [
      "Initializing estimator...\n"
     ]
    },
    {
     "name": "stdout",
     "output_type": "stream",
     "text": [
      "Loading histogram for powerthingwaysorted...\n"
     ]
    },
    {
     "name": "stdout",
     "output_type": "stream",
     "text": [
      "Loading histogram for zcta5...\n"
     ]
    },
    {
     "name": "stdout",
     "output_type": "stream",
     "text": [
      "Loading histogram for emergencythingwaysorted...\n"
     ]
    },
    {
     "name": "stdout",
     "output_type": "stream",
     "text": [
      "Loading histogram for yago2...\n"
     ]
    },
    {
     "name": "stdout",
     "output_type": "stream",
     "text": [
      "Loading histogram for aerowaythingnodesorted...\n"
     ]
    },
    {
     "name": "stdout",
     "output_type": "stream",
     "text": [
      "Loading histogram for barrierthingwaysorted...\n"
     ]
    },
    {
     "name": "stdout",
     "output_type": "stream",
     "text": [
      "Loading histogram for leisurewaysorted...\n"
     ]
    },
    {
     "name": "stdout",
     "output_type": "stream",
     "text": [
      "Loading histogram for arealm...\n"
     ]
    },
    {
     "name": "stdout",
     "output_type": "stream",
     "text": [
      "Loading histogram for aerowaythingwaysorted...\n"
     ]
    },
    {
     "name": "stdout",
     "output_type": "stream",
     "text": [
      "Loading histogram for cyclewaythingwaysorted...\n"
     ]
    },
    {
     "name": "stdout",
     "output_type": "stream",
     "text": [
      "Loading histogram for powerthingnodesorted...\n"
     ]
    },
    {
     "name": "stdout",
     "output_type": "stream",
     "text": [
      "Loading histogram for historicthingwaysorted...\n"
     ]
    },
    {
     "name": "stdout",
     "output_type": "stream",
     "text": [
      "Loading histogram for areawater...\n"
     ]
    },
    {
     "name": "stdout",
     "output_type": "stream",
     "text": [
      "Loading histogram for craftwaysorted...\n"
     ]
    },
    {
     "name": "stdout",
     "output_type": "stream",
     "text": [
      "Loaded 14 histograms\n"
     ]
    },
    {
     "name": "stdout",
     "output_type": "stream",
     "text": [
      "Found 14 datasets to evaluate\n"
     ]
    },
    {
     "name": "stdout",
     "output_type": "stream",
     "text": [
      "\n",
      "================================================================================\n",
      "DATASET 1/14: powerthingwaysorted\n",
      "================================================================================\n"
     ]
    },
    {
     "name": "stdout",
     "output_type": "stream",
     "text": [
      "Loading query results from ../../large_files/resultsContains/powerthingwaysorted_results.csv\n"
     ]
    },
    {
     "name": "stdout",
     "output_type": "stream",
     "text": [
      "Using 20.0% sample: 543457 out of 2717289 queries\n"
     ]
    },
    {
     "name": "stdout",
     "output_type": "stream",
     "text": [
      "Processing powerthingwaysorted queries: "
     ]
    },
    {
     "name": "stdout",
     "output_type": "stream",
     "text": [
      "0.0%... "
     ]
    },
    {
     "name": "stdout",
     "output_type": "stream",
     "text": [
      "10.0%... "
     ]
    },
    {
     "name": "stdout",
     "output_type": "stream",
     "text": [
      "20.0%... "
     ]
    },
    {
     "name": "stdout",
     "output_type": "stream",
     "text": [
      "30.0%... "
     ]
    },
    {
     "name": "stdout",
     "output_type": "stream",
     "text": [
      "40.0%... "
     ]
    },
    {
     "name": "stdout",
     "output_type": "stream",
     "text": [
      "50.0%... "
     ]
    },
    {
     "name": "stdout",
     "output_type": "stream",
     "text": [
      "60.0%... "
     ]
    },
    {
     "name": "stdout",
     "output_type": "stream",
     "text": [
      "70.0%... "
     ]
    },
    {
     "name": "stdout",
     "output_type": "stream",
     "text": [
      "80.0%... "
     ]
    },
    {
     "name": "stdout",
     "output_type": "stream",
     "text": [
      "90.0%... "
     ]
    },
    {
     "name": "stdout",
     "output_type": "stream",
     "text": [
      "100.0%... "
     ]
    },
    {
     "name": "stdout",
     "output_type": "stream",
     "text": [
      "100.0%... "
     ]
    },
    {
     "name": "stdout",
     "output_type": "stream",
     "text": [
      "Done!\n"
     ]
    },
    {
     "name": "stdout",
     "output_type": "stream",
     "text": [
      "Evaluation results for powerthingwaysorted (20.0% sample):\n",
      "  MAE: 4986.57\n",
      "  MAPE: 38.66%\n",
      "  Q-Score: 1.64\n",
      "  Avg. Estimation Time: 0.1229 ms\n"
     ]
    },
    {
     "name": "stdout",
     "output_type": "stream",
     "text": [
      "Finished processing powerthingwaysorted (1/14)\n"
     ]
    },
    {
     "name": "stdout",
     "output_type": "stream",
     "text": [
      "\n",
      "================================================================================\n",
      "DATASET 2/14: zcta5\n",
      "================================================================================\n"
     ]
    },
    {
     "name": "stdout",
     "output_type": "stream",
     "text": [
      "Loading query results from ../../large_files/resultsContains/zcta5_results.csv\n"
     ]
    },
    {
     "name": "stdout",
     "output_type": "stream",
     "text": [
      "Using 20.0% sample: 1325 out of 6626 queries\n"
     ]
    },
    {
     "name": "stdout",
     "output_type": "stream",
     "text": [
      "Processing zcta5 queries: "
     ]
    },
    {
     "name": "stdout",
     "output_type": "stream",
     "text": [
      "0.1%... "
     ]
    },
    {
     "name": "stdout",
     "output_type": "stream",
     "text": [
      "10.0%... "
     ]
    },
    {
     "name": "stdout",
     "output_type": "stream",
     "text": [
      "20.0%... "
     ]
    },
    {
     "name": "stdout",
     "output_type": "stream",
     "text": [
      "30.0%... "
     ]
    },
    {
     "name": "stdout",
     "output_type": "stream",
     "text": [
      "39.9%... "
     ]
    },
    {
     "name": "stdout",
     "output_type": "stream",
     "text": [
      "49.9%... "
     ]
    },
    {
     "name": "stdout",
     "output_type": "stream",
     "text": [
      "59.8%... "
     ]
    },
    {
     "name": "stdout",
     "output_type": "stream",
     "text": [
      "69.8%... "
     ]
    },
    {
     "name": "stdout",
     "output_type": "stream",
     "text": [
      "79.8%... "
     ]
    },
    {
     "name": "stdout",
     "output_type": "stream",
     "text": [
      "89.7%... "
     ]
    },
    {
     "name": "stdout",
     "output_type": "stream",
     "text": [
      "99.7%... "
     ]
    },
    {
     "name": "stdout",
     "output_type": "stream",
     "text": [
      "100.0%... "
     ]
    },
    {
     "name": "stdout",
     "output_type": "stream",
     "text": [
      "Done!\n"
     ]
    },
    {
     "name": "stdout",
     "output_type": "stream",
     "text": [
      "Evaluation results for zcta5 (20.0% sample):\n",
      "  MAE: 113.55\n",
      "  MAPE: 78.84%\n",
      "  Q-Score: 6.90\n",
      "  Avg. Estimation Time: 0.0270 ms\n"
     ]
    },
    {
     "name": "stdout",
     "output_type": "stream",
     "text": [
      "Finished processing zcta5 (2/14)\n"
     ]
    },
    {
     "name": "stdout",
     "output_type": "stream",
     "text": [
      "\n",
      "================================================================================\n",
      "DATASET 3/14: emergencythingwaysorted\n",
      "================================================================================\n"
     ]
    },
    {
     "name": "stdout",
     "output_type": "stream",
     "text": [
      "Loading query results from ../../large_files/resultsContains/emergencythingwaysorted_results.csv\n"
     ]
    },
    {
     "name": "stdout",
     "output_type": "stream",
     "text": [
      "Using 20.0% sample: 32302 out of 161514 queries\n"
     ]
    },
    {
     "name": "stdout",
     "output_type": "stream",
     "text": [
      "Processing emergencythingwaysorted queries: "
     ]
    },
    {
     "name": "stdout",
     "output_type": "stream",
     "text": [
      "0.0%... "
     ]
    },
    {
     "name": "stdout",
     "output_type": "stream",
     "text": [
      "10.0%... "
     ]
    },
    {
     "name": "stdout",
     "output_type": "stream",
     "text": [
      "20.0%... "
     ]
    },
    {
     "name": "stdout",
     "output_type": "stream",
     "text": [
      "30.0%... "
     ]
    },
    {
     "name": "stdout",
     "output_type": "stream",
     "text": [
      "40.0%... "
     ]
    },
    {
     "name": "stdout",
     "output_type": "stream",
     "text": [
      "50.0%... "
     ]
    },
    {
     "name": "stdout",
     "output_type": "stream",
     "text": [
      "60.0%... "
     ]
    },
    {
     "name": "stdout",
     "output_type": "stream",
     "text": [
      "70.0%... "
     ]
    },
    {
     "name": "stdout",
     "output_type": "stream",
     "text": [
      "80.0%... "
     ]
    },
    {
     "name": "stdout",
     "output_type": "stream",
     "text": [
      "90.0%... "
     ]
    },
    {
     "name": "stdout",
     "output_type": "stream",
     "text": [
      "100.0%... "
     ]
    },
    {
     "name": "stdout",
     "output_type": "stream",
     "text": [
      "100.0%... "
     ]
    },
    {
     "name": "stdout",
     "output_type": "stream",
     "text": [
      "Done!\n"
     ]
    },
    {
     "name": "stdout",
     "output_type": "stream",
     "text": [
      "Evaluation results for emergencythingwaysorted (20.0% sample):\n",
      "  MAE: 473.94\n",
      "  MAPE: 38.97%\n",
      "  Q-Score: 1.68\n",
      "  Avg. Estimation Time: 0.0535 ms\n"
     ]
    },
    {
     "name": "stdout",
     "output_type": "stream",
     "text": [
      "Finished processing emergencythingwaysorted (3/14)\n"
     ]
    },
    {
     "name": "stdout",
     "output_type": "stream",
     "text": [
      "\n",
      "================================================================================\n",
      "DATASET 4/14: yago2\n",
      "================================================================================\n"
     ]
    },
    {
     "name": "stdout",
     "output_type": "stream",
     "text": [
      "Loading query results from ../../large_files/resultsContains/yago2_results.csv\n"
     ]
    },
    {
     "name": "stdout",
     "output_type": "stream",
     "text": [
      "Using 20.0% sample: 179788 out of 898942 queries\n"
     ]
    },
    {
     "name": "stdout",
     "output_type": "stream",
     "text": [
      "Processing yago2 queries: "
     ]
    },
    {
     "name": "stdout",
     "output_type": "stream",
     "text": [
      "0.0%... "
     ]
    },
    {
     "name": "stdout",
     "output_type": "stream",
     "text": [
      "10.0%... "
     ]
    },
    {
     "name": "stdout",
     "output_type": "stream",
     "text": [
      "20.0%... "
     ]
    },
    {
     "name": "stdout",
     "output_type": "stream",
     "text": [
      "30.0%... "
     ]
    },
    {
     "name": "stdout",
     "output_type": "stream",
     "text": [
      "40.0%... "
     ]
    },
    {
     "name": "stdout",
     "output_type": "stream",
     "text": [
      "50.0%... "
     ]
    },
    {
     "name": "stdout",
     "output_type": "stream",
     "text": [
      "60.0%... "
     ]
    },
    {
     "name": "stdout",
     "output_type": "stream",
     "text": [
      "70.0%... "
     ]
    },
    {
     "name": "stdout",
     "output_type": "stream",
     "text": [
      "80.0%... "
     ]
    },
    {
     "name": "stdout",
     "output_type": "stream",
     "text": [
      "90.0%... "
     ]
    },
    {
     "name": "stdout",
     "output_type": "stream",
     "text": [
      "100.0%... "
     ]
    },
    {
     "name": "stdout",
     "output_type": "stream",
     "text": [
      "100.0%... "
     ]
    },
    {
     "name": "stdout",
     "output_type": "stream",
     "text": [
      "Done!\n"
     ]
    },
    {
     "name": "stdout",
     "output_type": "stream",
     "text": [
      "Evaluation results for yago2 (20.0% sample):\n",
      "  MAE: 38414.61\n",
      "  MAPE: 33984.49%\n",
      "  Q-Score: 375.32\n",
      "  Avg. Estimation Time: 0.1216 ms\n"
     ]
    },
    {
     "name": "stdout",
     "output_type": "stream",
     "text": [
      "Finished processing yago2 (4/14)\n"
     ]
    },
    {
     "name": "stdout",
     "output_type": "stream",
     "text": [
      "\n",
      "================================================================================\n",
      "DATASET 5/14: aerowaythingnodesorted\n",
      "================================================================================\n"
     ]
    },
    {
     "name": "stdout",
     "output_type": "stream",
     "text": [
      "Loading query results from ../../large_files/resultsContains/aerowaythingnodesorted_results.csv\n"
     ]
    },
    {
     "name": "stdout",
     "output_type": "stream",
     "text": [
      "Using 20.0% sample: 3168 out of 15843 queries\n"
     ]
    },
    {
     "name": "stdout",
     "output_type": "stream",
     "text": [
      "Processing aerowaythingnodesorted queries: "
     ]
    },
    {
     "name": "stdout",
     "output_type": "stream",
     "text": [
      "0.0%... "
     ]
    },
    {
     "name": "stdout",
     "output_type": "stream",
     "text": [
      "10.0%... "
     ]
    },
    {
     "name": "stdout",
     "output_type": "stream",
     "text": [
      "20.0%... "
     ]
    },
    {
     "name": "stdout",
     "output_type": "stream",
     "text": [
      "30.0%... "
     ]
    },
    {
     "name": "stdout",
     "output_type": "stream",
     "text": [
      "39.9%... "
     ]
    },
    {
     "name": "stdout",
     "output_type": "stream",
     "text": [
      "49.9%... "
     ]
    },
    {
     "name": "stdout",
     "output_type": "stream",
     "text": [
      "59.9%... "
     ]
    },
    {
     "name": "stdout",
     "output_type": "stream",
     "text": [
      "69.9%... "
     ]
    },
    {
     "name": "stdout",
     "output_type": "stream",
     "text": [
      "79.8%... "
     ]
    },
    {
     "name": "stdout",
     "output_type": "stream",
     "text": [
      "89.8%... "
     ]
    },
    {
     "name": "stdout",
     "output_type": "stream",
     "text": [
      "99.8%... "
     ]
    },
    {
     "name": "stdout",
     "output_type": "stream",
     "text": [
      "100.0%... "
     ]
    },
    {
     "name": "stdout",
     "output_type": "stream",
     "text": [
      "Done!\n"
     ]
    },
    {
     "name": "stdout",
     "output_type": "stream",
     "text": [
      "Evaluation results for aerowaythingnodesorted (20.0% sample):\n",
      "  MAE: 168.50\n",
      "  MAPE: 172.07%\n",
      "  Q-Score: 3.67\n",
      "  Avg. Estimation Time: 0.0292 ms\n"
     ]
    },
    {
     "name": "stdout",
     "output_type": "stream",
     "text": [
      "Finished processing aerowaythingnodesorted (5/14)\n"
     ]
    },
    {
     "name": "stdout",
     "output_type": "stream",
     "text": [
      "\n",
      "================================================================================\n",
      "DATASET 6/14: barrierthingwaysorted\n",
      "================================================================================\n"
     ]
    },
    {
     "name": "stdout",
     "output_type": "stream",
     "text": [
      "Loading query results from ../../large_files/resultsContains/barrierthingwaysorted_results.csv\n"
     ]
    },
    {
     "name": "stdout",
     "output_type": "stream",
     "text": [
      "Using 20.0% sample: 916334 out of 4581670 queries\n"
     ]
    },
    {
     "name": "stdout",
     "output_type": "stream",
     "text": [
      "Processing barrierthingwaysorted queries: "
     ]
    },
    {
     "name": "stdout",
     "output_type": "stream",
     "text": [
      "0.0%... "
     ]
    },
    {
     "name": "stdout",
     "output_type": "stream",
     "text": [
      "10.0%... "
     ]
    },
    {
     "name": "stdout",
     "output_type": "stream",
     "text": [
      "20.0%... "
     ]
    },
    {
     "name": "stdout",
     "output_type": "stream",
     "text": [
      "30.0%... "
     ]
    },
    {
     "name": "stdout",
     "output_type": "stream",
     "text": [
      "40.0%... "
     ]
    },
    {
     "name": "stdout",
     "output_type": "stream",
     "text": [
      "50.0%... "
     ]
    },
    {
     "name": "stdout",
     "output_type": "stream",
     "text": [
      "60.0%... "
     ]
    },
    {
     "name": "stdout",
     "output_type": "stream",
     "text": [
      "70.0%... "
     ]
    },
    {
     "name": "stdout",
     "output_type": "stream",
     "text": [
      "80.0%... "
     ]
    },
    {
     "name": "stdout",
     "output_type": "stream",
     "text": [
      "90.0%... "
     ]
    },
    {
     "name": "stdout",
     "output_type": "stream",
     "text": [
      "100.0%... "
     ]
    },
    {
     "name": "stdout",
     "output_type": "stream",
     "text": [
      "100.0%... "
     ]
    },
    {
     "name": "stdout",
     "output_type": "stream",
     "text": [
      "Done!\n"
     ]
    },
    {
     "name": "stdout",
     "output_type": "stream",
     "text": [
      "Evaluation results for barrierthingwaysorted (20.0% sample):\n",
      "  MAE: 8495.15\n",
      "  MAPE: 67.26%\n",
      "  Q-Score: 2.03\n",
      "  Avg. Estimation Time: 0.1182 ms\n"
     ]
    },
    {
     "name": "stdout",
     "output_type": "stream",
     "text": [
      "Finished processing barrierthingwaysorted (6/14)\n"
     ]
    },
    {
     "name": "stdout",
     "output_type": "stream",
     "text": [
      "\n",
      "================================================================================\n",
      "DATASET 7/14: leisurewaysorted\n",
      "================================================================================\n"
     ]
    },
    {
     "name": "stdout",
     "output_type": "stream",
     "text": [
      "Loading query results from ../../large_files/resultsContains/leisurewaysorted_results.csv\n"
     ]
    },
    {
     "name": "stdout",
     "output_type": "stream",
     "text": [
      "Using 20.0% sample: 1000000 out of 5000000 queries\n"
     ]
    },
    {
     "name": "stdout",
     "output_type": "stream",
     "text": [
      "Processing leisurewaysorted queries: "
     ]
    },
    {
     "name": "stdout",
     "output_type": "stream",
     "text": [
      "0.0%... "
     ]
    },
    {
     "name": "stdout",
     "output_type": "stream",
     "text": [
      "10.0%... "
     ]
    },
    {
     "name": "stdout",
     "output_type": "stream",
     "text": [
      "20.0%... "
     ]
    },
    {
     "name": "stdout",
     "output_type": "stream",
     "text": [
      "30.0%... "
     ]
    },
    {
     "name": "stdout",
     "output_type": "stream",
     "text": [
      "40.0%... "
     ]
    },
    {
     "name": "stdout",
     "output_type": "stream",
     "text": [
      "50.0%... "
     ]
    },
    {
     "name": "stdout",
     "output_type": "stream",
     "text": [
      "60.0%... "
     ]
    },
    {
     "name": "stdout",
     "output_type": "stream",
     "text": [
      "70.0%... "
     ]
    },
    {
     "name": "stdout",
     "output_type": "stream",
     "text": [
      "80.0%... "
     ]
    },
    {
     "name": "stdout",
     "output_type": "stream",
     "text": [
      "90.0%... "
     ]
    },
    {
     "name": "stdout",
     "output_type": "stream",
     "text": [
      "100.0%... "
     ]
    },
    {
     "name": "stdout",
     "output_type": "stream",
     "text": [
      "Done!\n"
     ]
    },
    {
     "name": "stdout",
     "output_type": "stream",
     "text": [
      "Evaluation results for leisurewaysorted (20.0% sample):\n",
      "  MAE: 10653.40\n",
      "  MAPE: 57.63%\n",
      "  Q-Score: 1.87\n",
      "  Avg. Estimation Time: 0.1181 ms\n"
     ]
    },
    {
     "name": "stdout",
     "output_type": "stream",
     "text": [
      "Finished processing leisurewaysorted (7/14)\n"
     ]
    },
    {
     "name": "stdout",
     "output_type": "stream",
     "text": [
      "\n",
      "================================================================================\n",
      "DATASET 8/14: arealm\n",
      "================================================================================\n"
     ]
    },
    {
     "name": "stdout",
     "output_type": "stream",
     "text": [
      "Loading query results from ../../large_files/resultsContains/arealm_results.csv\n"
     ]
    },
    {
     "name": "stdout",
     "output_type": "stream",
     "text": [
      "Using 20.0% sample: 5166 out of 25833 queries\n"
     ]
    },
    {
     "name": "stdout",
     "output_type": "stream",
     "text": [
      "Processing arealm queries: "
     ]
    },
    {
     "name": "stdout",
     "output_type": "stream",
     "text": [
      "0.0%... "
     ]
    },
    {
     "name": "stdout",
     "output_type": "stream",
     "text": [
      "10.0%... "
     ]
    },
    {
     "name": "stdout",
     "output_type": "stream",
     "text": [
      "20.0%... "
     ]
    },
    {
     "name": "stdout",
     "output_type": "stream",
     "text": [
      "30.0%... "
     ]
    },
    {
     "name": "stdout",
     "output_type": "stream",
     "text": [
      "40.0%... "
     ]
    },
    {
     "name": "stdout",
     "output_type": "stream",
     "text": [
      "50.0%... "
     ]
    },
    {
     "name": "stdout",
     "output_type": "stream",
     "text": [
      "59.9%... "
     ]
    },
    {
     "name": "stdout",
     "output_type": "stream",
     "text": [
      "69.9%... "
     ]
    },
    {
     "name": "stdout",
     "output_type": "stream",
     "text": [
      "79.9%... "
     ]
    },
    {
     "name": "stdout",
     "output_type": "stream",
     "text": [
      "89.9%... "
     ]
    },
    {
     "name": "stdout",
     "output_type": "stream",
     "text": [
      "99.9%... "
     ]
    },
    {
     "name": "stdout",
     "output_type": "stream",
     "text": [
      "100.0%... "
     ]
    },
    {
     "name": "stdout",
     "output_type": "stream",
     "text": [
      "Done!\n"
     ]
    },
    {
     "name": "stdout",
     "output_type": "stream",
     "text": [
      "Evaluation results for arealm (20.0% sample):\n",
      "  MAE: 217.68\n",
      "  MAPE: 29.74%\n",
      "  Q-Score: 2.89\n",
      "  Avg. Estimation Time: 0.0297 ms\n"
     ]
    },
    {
     "name": "stdout",
     "output_type": "stream",
     "text": [
      "Finished processing arealm (8/14)\n"
     ]
    },
    {
     "name": "stdout",
     "output_type": "stream",
     "text": [
      "\n",
      "================================================================================\n",
      "DATASET 9/14: aerowaythingwaysorted\n",
      "================================================================================\n"
     ]
    },
    {
     "name": "stdout",
     "output_type": "stream",
     "text": [
      "Loading query results from ../../large_files/resultsContains/aerowaythingwaysorted_results.csv\n"
     ]
    },
    {
     "name": "stdout",
     "output_type": "stream",
     "text": [
      "Using 20.0% sample: 73673 out of 368365 queries\n"
     ]
    },
    {
     "name": "stdout",
     "output_type": "stream",
     "text": [
      "Processing aerowaythingwaysorted queries: "
     ]
    },
    {
     "name": "stdout",
     "output_type": "stream",
     "text": [
      "0.0%... "
     ]
    },
    {
     "name": "stdout",
     "output_type": "stream",
     "text": [
      "10.0%... "
     ]
    },
    {
     "name": "stdout",
     "output_type": "stream",
     "text": [
      "20.0%... "
     ]
    },
    {
     "name": "stdout",
     "output_type": "stream",
     "text": [
      "30.0%... "
     ]
    },
    {
     "name": "stdout",
     "output_type": "stream",
     "text": [
      "40.0%... "
     ]
    },
    {
     "name": "stdout",
     "output_type": "stream",
     "text": [
      "50.0%... "
     ]
    },
    {
     "name": "stdout",
     "output_type": "stream",
     "text": [
      "60.0%... "
     ]
    },
    {
     "name": "stdout",
     "output_type": "stream",
     "text": [
      "70.0%... "
     ]
    },
    {
     "name": "stdout",
     "output_type": "stream",
     "text": [
      "80.0%... "
     ]
    },
    {
     "name": "stdout",
     "output_type": "stream",
     "text": [
      "90.0%... "
     ]
    },
    {
     "name": "stdout",
     "output_type": "stream",
     "text": [
      "100.0%... "
     ]
    },
    {
     "name": "stdout",
     "output_type": "stream",
     "text": [
      "100.0%... "
     ]
    },
    {
     "name": "stdout",
     "output_type": "stream",
     "text": [
      "Done!\n"
     ]
    },
    {
     "name": "stdout",
     "output_type": "stream",
     "text": [
      "Evaluation results for aerowaythingwaysorted (20.0% sample):\n",
      "  MAE: 801.23\n",
      "  MAPE: 57.30%\n",
      "  Q-Score: 1.86\n",
      "  Avg. Estimation Time: 0.0916 ms\n"
     ]
    },
    {
     "name": "stdout",
     "output_type": "stream",
     "text": [
      "Finished processing aerowaythingwaysorted (9/14)\n"
     ]
    },
    {
     "name": "stdout",
     "output_type": "stream",
     "text": [
      "\n",
      "================================================================================\n",
      "DATASET 10/14: cyclewaythingwaysorted\n",
      "================================================================================\n"
     ]
    },
    {
     "name": "stdout",
     "output_type": "stream",
     "text": [
      "Loading query results from ../../large_files/resultsContains/cyclewaythingwaysorted_results.csv\n"
     ]
    },
    {
     "name": "stdout",
     "output_type": "stream",
     "text": [
      "Using 20.0% sample: 213412 out of 1067063 queries\n"
     ]
    },
    {
     "name": "stdout",
     "output_type": "stream",
     "text": [
      "Processing cyclewaythingwaysorted queries: "
     ]
    },
    {
     "name": "stdout",
     "output_type": "stream",
     "text": [
      "0.0%... "
     ]
    },
    {
     "name": "stdout",
     "output_type": "stream",
     "text": [
      "10.0%... "
     ]
    },
    {
     "name": "stdout",
     "output_type": "stream",
     "text": [
      "20.0%... "
     ]
    },
    {
     "name": "stdout",
     "output_type": "stream",
     "text": [
      "30.0%... "
     ]
    },
    {
     "name": "stdout",
     "output_type": "stream",
     "text": [
      "40.0%... "
     ]
    },
    {
     "name": "stdout",
     "output_type": "stream",
     "text": [
      "50.0%... "
     ]
    },
    {
     "name": "stdout",
     "output_type": "stream",
     "text": [
      "60.0%... "
     ]
    },
    {
     "name": "stdout",
     "output_type": "stream",
     "text": [
      "70.0%... "
     ]
    },
    {
     "name": "stdout",
     "output_type": "stream",
     "text": [
      "80.0%... "
     ]
    },
    {
     "name": "stdout",
     "output_type": "stream",
     "text": [
      "90.0%... "
     ]
    },
    {
     "name": "stdout",
     "output_type": "stream",
     "text": [
      "100.0%... "
     ]
    },
    {
     "name": "stdout",
     "output_type": "stream",
     "text": [
      "100.0%... "
     ]
    },
    {
     "name": "stdout",
     "output_type": "stream",
     "text": [
      "Done!\n"
     ]
    },
    {
     "name": "stdout",
     "output_type": "stream",
     "text": [
      "Evaluation results for cyclewaythingwaysorted (20.0% sample):\n",
      "  MAE: 1841.80\n",
      "  MAPE: 49.19%\n",
      "  Q-Score: 1.96\n",
      "  Avg. Estimation Time: 0.1267 ms\n"
     ]
    },
    {
     "name": "stdout",
     "output_type": "stream",
     "text": [
      "Finished processing cyclewaythingwaysorted (10/14)\n"
     ]
    },
    {
     "name": "stdout",
     "output_type": "stream",
     "text": [
      "\n",
      "================================================================================\n",
      "DATASET 11/14: powerthingnodesorted\n",
      "================================================================================\n"
     ]
    },
    {
     "name": "stdout",
     "output_type": "stream",
     "text": [
      "Loading query results from ../../large_files/resultsContains/powerthingnodesorted_results.csv\n"
     ]
    },
    {
     "name": "stdout",
     "output_type": "stream",
     "text": [
      "Using 20.0% sample: 420502 out of 2102514 queries\n"
     ]
    },
    {
     "name": "stdout",
     "output_type": "stream",
     "text": [
      "Processing powerthingnodesorted queries: "
     ]
    },
    {
     "name": "stdout",
     "output_type": "stream",
     "text": [
      "0.0%... "
     ]
    },
    {
     "name": "stdout",
     "output_type": "stream",
     "text": [
      "10.0%... "
     ]
    },
    {
     "name": "stdout",
     "output_type": "stream",
     "text": [
      "20.0%... "
     ]
    },
    {
     "name": "stdout",
     "output_type": "stream",
     "text": [
      "30.0%... "
     ]
    },
    {
     "name": "stdout",
     "output_type": "stream",
     "text": [
      "40.0%... "
     ]
    },
    {
     "name": "stdout",
     "output_type": "stream",
     "text": [
      "50.0%... "
     ]
    },
    {
     "name": "stdout",
     "output_type": "stream",
     "text": [
      "60.0%... "
     ]
    },
    {
     "name": "stdout",
     "output_type": "stream",
     "text": [
      "70.0%... "
     ]
    },
    {
     "name": "stdout",
     "output_type": "stream",
     "text": [
      "80.0%... "
     ]
    },
    {
     "name": "stdout",
     "output_type": "stream",
     "text": [
      "90.0%... "
     ]
    },
    {
     "name": "stdout",
     "output_type": "stream",
     "text": [
      "100.0%... "
     ]
    },
    {
     "name": "stdout",
     "output_type": "stream",
     "text": [
      "100.0%... "
     ]
    },
    {
     "name": "stdout",
     "output_type": "stream",
     "text": [
      "Done!\n"
     ]
    },
    {
     "name": "stdout",
     "output_type": "stream",
     "text": [
      "Evaluation results for powerthingnodesorted (20.0% sample):\n",
      "  MAE: 3757.83\n",
      "  MAPE: 74.79%\n",
      "  Q-Score: 2.31\n",
      "  Avg. Estimation Time: 0.1267 ms\n"
     ]
    },
    {
     "name": "stdout",
     "output_type": "stream",
     "text": [
      "Finished processing powerthingnodesorted (11/14)\n"
     ]
    },
    {
     "name": "stdout",
     "output_type": "stream",
     "text": [
      "\n",
      "================================================================================\n",
      "DATASET 12/14: historicthingwaysorted\n",
      "================================================================================\n"
     ]
    },
    {
     "name": "stdout",
     "output_type": "stream",
     "text": [
      "Loading query results from ../../large_files/resultsContains/historicthingwaysorted_results.csv\n"
     ]
    },
    {
     "name": "stdout",
     "output_type": "stream",
     "text": [
      "Using 20.0% sample: 71687 out of 358439 queries\n"
     ]
    },
    {
     "name": "stdout",
     "output_type": "stream",
     "text": [
      "Processing historicthingwaysorted queries: "
     ]
    },
    {
     "name": "stdout",
     "output_type": "stream",
     "text": [
      "0.0%... "
     ]
    },
    {
     "name": "stdout",
     "output_type": "stream",
     "text": [
      "10.0%... "
     ]
    },
    {
     "name": "stdout",
     "output_type": "stream",
     "text": [
      "20.0%... "
     ]
    },
    {
     "name": "stdout",
     "output_type": "stream",
     "text": [
      "30.0%... "
     ]
    },
    {
     "name": "stdout",
     "output_type": "stream",
     "text": [
      "40.0%... "
     ]
    },
    {
     "name": "stdout",
     "output_type": "stream",
     "text": [
      "50.0%... "
     ]
    },
    {
     "name": "stdout",
     "output_type": "stream",
     "text": [
      "60.0%... "
     ]
    },
    {
     "name": "stdout",
     "output_type": "stream",
     "text": [
      "70.0%... "
     ]
    },
    {
     "name": "stdout",
     "output_type": "stream",
     "text": [
      "80.0%... "
     ]
    },
    {
     "name": "stdout",
     "output_type": "stream",
     "text": [
      "90.0%... "
     ]
    },
    {
     "name": "stdout",
     "output_type": "stream",
     "text": [
      "100.0%... "
     ]
    },
    {
     "name": "stdout",
     "output_type": "stream",
     "text": [
      "100.0%... "
     ]
    },
    {
     "name": "stdout",
     "output_type": "stream",
     "text": [
      "Done!\n"
     ]
    },
    {
     "name": "stdout",
     "output_type": "stream",
     "text": [
      "Evaluation results for historicthingwaysorted (20.0% sample):\n",
      "  MAE: 776.63\n",
      "  MAPE: 24.57%\n",
      "  Q-Score: 1.43\n",
      "  Avg. Estimation Time: 0.0889 ms\n"
     ]
    },
    {
     "name": "stdout",
     "output_type": "stream",
     "text": [
      "Finished processing historicthingwaysorted (12/14)\n"
     ]
    },
    {
     "name": "stdout",
     "output_type": "stream",
     "text": [
      "\n",
      "================================================================================\n",
      "DATASET 13/14: areawater\n",
      "================================================================================\n"
     ]
    },
    {
     "name": "stdout",
     "output_type": "stream",
     "text": [
      "Loading query results from ../../large_files/resultsContains/areawater_results.csv\n"
     ]
    },
    {
     "name": "stdout",
     "output_type": "stream",
     "text": [
      "Using 20.0% sample: 91710 out of 458552 queries\n"
     ]
    },
    {
     "name": "stdout",
     "output_type": "stream",
     "text": [
      "Processing areawater queries: "
     ]
    },
    {
     "name": "stdout",
     "output_type": "stream",
     "text": [
      "0.0%... "
     ]
    },
    {
     "name": "stdout",
     "output_type": "stream",
     "text": [
      "10.0%... "
     ]
    },
    {
     "name": "stdout",
     "output_type": "stream",
     "text": [
      "20.0%... "
     ]
    },
    {
     "name": "stdout",
     "output_type": "stream",
     "text": [
      "30.0%... "
     ]
    },
    {
     "name": "stdout",
     "output_type": "stream",
     "text": [
      "40.0%... "
     ]
    },
    {
     "name": "stdout",
     "output_type": "stream",
     "text": [
      "50.0%... "
     ]
    },
    {
     "name": "stdout",
     "output_type": "stream",
     "text": [
      "60.0%... "
     ]
    },
    {
     "name": "stdout",
     "output_type": "stream",
     "text": [
      "70.0%... "
     ]
    },
    {
     "name": "stdout",
     "output_type": "stream",
     "text": [
      "80.0%... "
     ]
    },
    {
     "name": "stdout",
     "output_type": "stream",
     "text": [
      "90.0%... "
     ]
    },
    {
     "name": "stdout",
     "output_type": "stream",
     "text": [
      "100.0%... "
     ]
    },
    {
     "name": "stdout",
     "output_type": "stream",
     "text": [
      "Done!\n"
     ]
    },
    {
     "name": "stdout",
     "output_type": "stream",
     "text": [
      "Evaluation results for areawater (20.0% sample):\n",
      "  MAE: 881.03\n",
      "  MAPE: 17.31%\n",
      "  Q-Score: 2.12\n",
      "  Avg. Estimation Time: 0.1050 ms\n"
     ]
    },
    {
     "name": "stdout",
     "output_type": "stream",
     "text": [
      "Finished processing areawater (13/14)\n"
     ]
    },
    {
     "name": "stdout",
     "output_type": "stream",
     "text": [
      "\n",
      "================================================================================\n",
      "DATASET 14/14: craftwaysorted\n",
      "================================================================================\n"
     ]
    },
    {
     "name": "stdout",
     "output_type": "stream",
     "text": [
      "Loading query results from ../../large_files/resultsContains/craftwaysorted_results.csv\n"
     ]
    },
    {
     "name": "stdout",
     "output_type": "stream",
     "text": [
      "Using 20.0% sample: 4364 out of 21822 queries\n"
     ]
    },
    {
     "name": "stdout",
     "output_type": "stream",
     "text": [
      "Processing craftwaysorted queries: "
     ]
    },
    {
     "name": "stdout",
     "output_type": "stream",
     "text": [
      "0.0%... "
     ]
    },
    {
     "name": "stdout",
     "output_type": "stream",
     "text": [
      "10.0%... "
     ]
    },
    {
     "name": "stdout",
     "output_type": "stream",
     "text": [
      "20.0%... "
     ]
    },
    {
     "name": "stdout",
     "output_type": "stream",
     "text": [
      "30.0%... "
     ]
    },
    {
     "name": "stdout",
     "output_type": "stream",
     "text": [
      "40.0%... "
     ]
    },
    {
     "name": "stdout",
     "output_type": "stream",
     "text": [
      "50.0%... "
     ]
    },
    {
     "name": "stdout",
     "output_type": "stream",
     "text": [
      "60.0%... "
     ]
    },
    {
     "name": "stdout",
     "output_type": "stream",
     "text": [
      "70.0%... "
     ]
    },
    {
     "name": "stdout",
     "output_type": "stream",
     "text": [
      "79.9%... "
     ]
    },
    {
     "name": "stdout",
     "output_type": "stream",
     "text": [
      "89.9%... "
     ]
    },
    {
     "name": "stdout",
     "output_type": "stream",
     "text": [
      "99.9%... "
     ]
    },
    {
     "name": "stdout",
     "output_type": "stream",
     "text": [
      "100.0%... "
     ]
    },
    {
     "name": "stdout",
     "output_type": "stream",
     "text": [
      "Done!\n"
     ]
    },
    {
     "name": "stdout",
     "output_type": "stream",
     "text": [
      "Evaluation results for craftwaysorted (20.0% sample):\n",
      "  MAE: 203.85\n",
      "  MAPE: 50.11%\n",
      "  Q-Score: 2.08\n",
      "  Avg. Estimation Time: 0.0293 ms\n"
     ]
    },
    {
     "name": "stdout",
     "output_type": "stream",
     "text": [
      "Finished processing craftwaysorted (14/14)\n"
     ]
    },
    {
     "name": "stdout",
     "output_type": "stream",
     "text": [
      "\n",
      "Combined results:\n",
      "                    Dataset           MAE        MAPE     Q_Score  \\\n",
      "0       powerthingwaysorted   4986.565035    0.386573    1.642497   \n",
      "1                     zcta5    113.548398    0.788386    6.898302   \n",
      "2   emergencythingwaysorted    473.940183    0.389682    1.681774   \n",
      "3                     yago2  38414.613394  339.844926  375.323149   \n",
      "4    aerowaythingnodesorted    168.504470    1.720709    3.673449   \n",
      "5     barrierthingwaysorted   8495.148895    0.672632    2.026001   \n",
      "6          leisurewaysorted  10653.397787    0.576341    1.874430   \n",
      "7                    arealm    217.679225    0.297392    2.894201   \n",
      "8     aerowaythingwaysorted    801.225889    0.573029    1.860975   \n",
      "9    cyclewaythingwaysorted   1841.802329    0.491892    1.962305   \n",
      "10     powerthingnodesorted   3757.826079    0.747868    2.309405   \n",
      "11   historicthingwaysorted    776.630745    0.245668    1.429788   \n",
      "12                areawater    881.027606    0.173086    2.122390   \n",
      "13           craftwaysorted    203.846125    0.501073    2.082955   \n",
      "\n",
      "    Avg_Time_ms  Num_Queries  Sample_Ratio  \n",
      "0      0.122934       543457           0.2  \n",
      "1      0.026990         1325           0.2  \n",
      "2      0.053527        32302           0.2  \n",
      "3      0.121629       179788           0.2  \n",
      "4      0.029152         3168           0.2  \n",
      "5      0.118244       916334           0.2  \n",
      "6      0.118127      1000000           0.2  \n",
      "7      0.029740         5166           0.2  \n",
      "8      0.091600        73673           0.2  \n",
      "9      0.126656       213412           0.2  \n",
      "10     0.126714       420502           0.2  \n",
      "11     0.088924        71687           0.2  \n",
      "12     0.105020        91710           0.2  \n",
      "13     0.029307         4364           0.2  \n"
     ]
    },
    {
     "name": "stdout",
     "output_type": "stream",
     "text": [
      "Histogram-based contain estimation evaluation complete!\n"
     ]
    }
   ],
   "source": [
    "import numpy as np\n",
    "import pandas as pd\n",
    "import matplotlib.pyplot as plt\n",
    "import os\n",
    "import re\n",
    "import time\n",
    "import sys\n",
    "from tqdm import tqdm\n",
    "from sklearn.metrics import mean_absolute_error\n",
    "\n",
    "class HistogramContainEstimator:\n",
    "    def __init__(self, histograms_dir=\"../../large_files/traditional_methods/histogram\"):\n",
    "        \"\"\"\n",
    "        Initialize the histogram-based contain estimator\n",
    "        \"\"\"\n",
    "        self.histograms_dir = histograms_dir\n",
    "        self.histograms = {}\n",
    "        self.metadata = {}\n",
    "        self.cache = {}\n",
    "        \n",
    "        os.makedirs(f\"{histograms_dir}/results/contain\", exist_ok=True)\n",
    "        os.makedirs(f\"{histograms_dir}/visualizations/contain\", exist_ok=True)\n",
    "        \n",
    "        self.load_histograms()\n",
    "    \n",
    "    def load_histograms(self):\n",
    "        \"\"\"Load all available histograms from the histograms directory.\"\"\"\n",
    "        files = os.listdir(self.histograms_dir)\n",
    "        histogram_files = [f for f in files if f.endswith('_histogram.npy')]\n",
    "        \n",
    "        for hf in histogram_files:\n",
    "            dataset_name = hf.replace('_histogram.npy', '')\n",
    "            metadata_file = f\"{dataset_name}_metadata.npy\"\n",
    "            \n",
    "            if os.path.exists(os.path.join(self.histograms_dir, metadata_file)):\n",
    "                print(f\"Loading histogram for {dataset_name}...\")\n",
    "                sys.stdout.flush()\n",
    "                self.histograms[dataset_name] = np.load(\n",
    "                    os.path.join(self.histograms_dir, hf)\n",
    "                )\n",
    "                self.metadata[dataset_name] = np.load(\n",
    "                    os.path.join(self.histograms_dir, metadata_file),\n",
    "                    allow_pickle=True\n",
    "                ).item()\n",
    "                \n",
    "        print(f\"Loaded {len(self.histograms)} histograms\")\n",
    "        sys.stdout.flush()\n",
    "\n",
    "    def parse_mbr(self, mbr_str):\n",
    "        \"\"\"Parse MBR string from '(x1, y1, x2, y2)'.\"\"\"\n",
    "        if isinstance(mbr_str, str):\n",
    "            coords = mbr_str.strip('\"()').split(', ')\n",
    "            return [float(coord) for coord in coords]\n",
    "        return mbr_str\n",
    "    \n",
    "    def estimate_contain_count(self, dataset_name, query_mbr):\n",
    "        \"\"\"\n",
    "        Estimate the number of objects contained within the query MBR\n",
    "        \n",
    "        Parameters:\n",
    "        -----------\n",
    "        dataset_name : str\n",
    "            Name of the dataset to query\n",
    "        query_mbr : tuple or list (x1, y1, x2, y2)\n",
    "            MBR coordinates of the query region\n",
    "            \n",
    "        Returns:\n",
    "        --------\n",
    "        float : Estimated number of objects contained within the query region\n",
    "        \"\"\"\n",
    "        # Convert query to tuple for hashing in the cache\n",
    "        if isinstance(query_mbr, list):\n",
    "            query_mbr = tuple(query_mbr)\n",
    "        \n",
    "        cache_key = f\"{dataset_name}_{query_mbr}\"\n",
    "        if cache_key in self.cache:\n",
    "            return self.cache[cache_key]\n",
    "        \n",
    "        if dataset_name not in self.histograms:\n",
    "            raise ValueError(f\"No histogram found for {dataset_name}\")\n",
    "        \n",
    "        if isinstance(query_mbr, str):\n",
    "            query_mbr = self.parse_mbr(query_mbr)\n",
    "            query_mbr = tuple(query_mbr)\n",
    "        \n",
    "        grid = self.histograms[dataset_name]\n",
    "        metadata = self.metadata[dataset_name]\n",
    "        grid_dim_x, grid_dim_y = metadata['dimensions']\n",
    "        univ_xmin, univ_ymin, univ_xmax, univ_ymax = metadata['universe']\n",
    "        \n",
    "        q_xmin, q_ymin, q_xmax, q_ymax = query_mbr\n",
    "        \n",
    "        q_xmin = max(q_xmin, univ_xmin)\n",
    "        q_ymin = max(q_ymin, univ_ymin)\n",
    "        q_xmax = min(q_xmax, univ_xmax)\n",
    "        q_ymax = min(q_ymax, univ_ymax)\n",
    "        \n",
    "        if q_xmin >= q_xmax or q_ymin >= q_ymax:\n",
    "            return 0\n",
    "        \n",
    "        cell_width = (univ_xmax - univ_xmin) / grid_dim_x\n",
    "        cell_height = (univ_ymax - univ_ymin) / grid_dim_y\n",
    "        \n",
    "        g_xmin = int((q_xmin - univ_xmin) / cell_width)\n",
    "        g_ymin = int((q_ymin - univ_ymin) / cell_height)\n",
    "        g_xmax = int(np.ceil((q_xmax - univ_xmin) / cell_width)) - 1\n",
    "        g_ymax = int(np.ceil((q_ymax - univ_ymin) / cell_height)) - 1\n",
    "        \n",
    "        g_xmin = max(0, min(grid_dim_x-1, g_xmin))\n",
    "        g_ymin = max(0, min(grid_dim_y-1, g_ymin))\n",
    "        g_xmax = max(0, min(grid_dim_x-1, g_xmax))\n",
    "        g_ymax = max(0, min(grid_dim_y-1, g_ymax))\n",
    "        \n",
    "        contained_sum = np.sum(grid[g_xmin:g_xmax+1, g_ymin:g_ymax+1])\n",
    "        total_sum = np.sum(grid)\n",
    "        \n",
    "        total_objects = metadata.get('objects', total_sum)\n",
    "        if total_sum > 0:\n",
    "            estimated_count = total_objects * (float(contained_sum) / total_sum)\n",
    "        else:\n",
    "            estimated_count = 0\n",
    "        \n",
    "        self.cache[cache_key] = estimated_count\n",
    "        return estimated_count\n",
    "    \n",
    "    def evaluate_on_dataset(self, dataset_name, results_file=None, sample_ratio=0.2):\n",
    "        if not results_file:\n",
    "            results_file = f\"../../large_files/resultsContains/{dataset_name}_results.csv\"\n",
    "        \n",
    "        if not os.path.exists(results_file):\n",
    "            raise ValueError(f\"Results file not found: {results_file}\")\n",
    "        \n",
    "        print(f\"Loading query results from {results_file}\")\n",
    "        sys.stdout.flush()\n",
    "        \n",
    "        results_df = pd.read_csv(results_file)\n",
    "        \n",
    "        sample_size = max(1, int(len(results_df) * sample_ratio))\n",
    "        print(f\"Using {sample_ratio*100}% sample: {sample_size} out of {len(results_df)} queries\")\n",
    "        sys.stdout.flush()\n",
    "        \n",
    "        sampled_results = results_df.sample(n=sample_size, random_state=42)\n",
    "        \n",
    "        actual_counts = []\n",
    "        estimated_counts = []\n",
    "        estimation_times = []\n",
    "        \n",
    "        # Use simple progress reporting instead of relying solely on tqdm\n",
    "        print(f\"Processing {dataset_name} queries: \", end=\"\", flush=True)\n",
    "        sys.stdout.flush()\n",
    "        \n",
    "        total_queries = len(sampled_results)\n",
    "        progress_step = max(1, total_queries // 10)\n",
    "        \n",
    "        for i, (index, row) in enumerate(sampled_results.iterrows()):\n",
    "            # Show simple progress every 10%\n",
    "            if i % progress_step == 0 or i == total_queries - 1:\n",
    "                progress = (i+1) / total_queries * 100\n",
    "                print(f\"{progress:.1f}%... \", end=\"\", flush=True)\n",
    "                sys.stdout.flush()\n",
    "            \n",
    "            query_mbr = self.parse_mbr(row['Query MBR'])\n",
    "            actual_count = row['Count MBR']\n",
    "            \n",
    "            start_time = time.time()\n",
    "            estimated_count = self.estimate_contain_count(dataset_name, query_mbr)\n",
    "            end_time = time.time()\n",
    "            \n",
    "            actual_counts.append(actual_count)\n",
    "            estimated_counts.append(estimated_count)\n",
    "            estimation_times.append((end_time - start_time) * 1000)\n",
    "        \n",
    "        print(\"Done!\")\n",
    "        sys.stdout.flush()\n",
    "        \n",
    "        # Convert to arrays for calculations\n",
    "        actual_counts = np.array(actual_counts)\n",
    "        estimated_counts = np.array(estimated_counts)\n",
    "        estimation_times = np.array(estimation_times)\n",
    "        \n",
    "        # Ensure non-negative estimates\n",
    "        estimated_counts = np.maximum(0, estimated_counts)\n",
    "        \n",
    "        # Calculate MAE\n",
    "        mae = mean_absolute_error(actual_counts, estimated_counts)\n",
    "        \n",
    "        # Calculate MAPE with handling for zeros\n",
    "        non_zero_mask = (actual_counts != 0)\n",
    "        zero_mask = ~non_zero_mask\n",
    "        mape_sum = 0\n",
    "        count = len(actual_counts)\n",
    "        \n",
    "        if np.any(non_zero_mask):\n",
    "            mape_sum += np.sum(\n",
    "                np.abs((actual_counts[non_zero_mask] - estimated_counts[non_zero_mask]) / actual_counts[non_zero_mask])\n",
    "            )\n",
    "        \n",
    "        if np.any(zero_mask):\n",
    "            mape_sum += np.sum(np.abs(actual_counts[zero_mask] - estimated_counts[zero_mask]) / 100)\n",
    "        \n",
    "        mape = mape_sum / count if count > 0 else 0\n",
    "        \n",
    "        # Calculate q-score\n",
    "        valid_indices = (actual_counts != 0) & (estimated_counts != 0)\n",
    "        if np.any(valid_indices):\n",
    "            ratios = np.maximum(\n",
    "                estimated_counts[valid_indices] / actual_counts[valid_indices],\n",
    "                actual_counts[valid_indices] / estimated_counts[valid_indices]\n",
    "            )\n",
    "            q_score = np.mean(ratios)\n",
    "        else:\n",
    "            q_score = float('inf')\n",
    "        \n",
    "        avg_time_ms = np.mean(estimation_times) if len(estimation_times) > 0 else 0\n",
    "        \n",
    "        results = {\n",
    "            'Dataset': dataset_name,\n",
    "            'MAE': mae,\n",
    "            'MAPE': mape,\n",
    "            'Q_Score': q_score,\n",
    "            'Avg_Time_ms': avg_time_ms,\n",
    "            'Num_Queries': len(sampled_results),\n",
    "            'Sample_Ratio': sample_ratio\n",
    "        }\n",
    "        \n",
    "        results_df_out = pd.DataFrame([results])\n",
    "        results_df_out.to_csv(\n",
    "            f\"{self.histograms_dir}/results/contain/{dataset_name}_evaluation_sample{int(sample_ratio*100)}.csv\",\n",
    "            index=False\n",
    "        )\n",
    "        \n",
    "        # Generate visualization\n",
    "        self.visualize_results(dataset_name, actual_counts, estimated_counts, sample_ratio)\n",
    "        \n",
    "        print(f\"Evaluation results for {dataset_name} ({sample_ratio*100}% sample):\")\n",
    "        print(f\"  MAE: {mae:.2f}\")\n",
    "        print(f\"  MAPE: {mape:.2%}\")\n",
    "        print(f\"  Q-Score: {q_score:.2f}\")\n",
    "        print(f\"  Avg. Estimation Time: {avg_time_ms:.4f} ms\")\n",
    "        sys.stdout.flush()\n",
    "        \n",
    "        return results\n",
    "    \n",
    "    def visualize_results(self, dataset_name, actual_counts, estimated_counts, sample_ratio=0.2):\n",
    "        plt.figure(figsize=(12, 10))\n",
    "        plt.scatter(actual_counts, estimated_counts, alpha=0.5, s=8)\n",
    "        \n",
    "        max_val = max(np.max(actual_counts), np.max(estimated_counts))\n",
    "        plt.plot([0, max_val], [0, max_val], 'r--', alpha=0.7)\n",
    "        \n",
    "        plt.xlabel('Actual Count')\n",
    "        plt.ylabel('Estimated Count')\n",
    "        plt.title(f'Histogram-based Contain Estimation for {dataset_name} ({int(sample_ratio*100)}% sample)')\n",
    "        plt.grid(True, alpha=0.3)\n",
    "        \n",
    "        out_path = f\"{self.histograms_dir}/visualizations/contain/{dataset_name}_estimation_sample{int(sample_ratio*100)}.png\"\n",
    "        plt.savefig(out_path, dpi=150)\n",
    "        plt.close()\n",
    "        \n",
    "        sample_size = min(100, len(actual_counts))\n",
    "        indices = np.random.choice(len(actual_counts), sample_size, replace=False)\n",
    "        \n",
    "        plt.figure(figsize=(20, 10))\n",
    "        plt.scatter(\n",
    "            range(sample_size),\n",
    "            actual_counts[indices],\n",
    "            label='Actual Count',\n",
    "            s=100, alpha=0.7, marker='o', color='green'\n",
    "        )\n",
    "        plt.scatter(\n",
    "            range(sample_size),\n",
    "            estimated_counts[indices],\n",
    "            label='Histogram Estimate',\n",
    "            s=100, alpha=0.7, marker='x', color='blue'\n",
    "        )\n",
    "        \n",
    "        plt.xlabel('Query Index')\n",
    "        plt.ylabel('Object Count')\n",
    "        plt.title(\n",
    "            f'Histogram Estimation vs. Actual Count for {dataset_name} - '\n",
    "            f'Sample of {sample_size} Queries ({int(sample_ratio*100)}% dataset)'\n",
    "        )\n",
    "        plt.legend()\n",
    "        plt.grid(True, alpha=0.3)\n",
    "        \n",
    "        out_path_comp = f\"{self.histograms_dir}/visualizations/contain/{dataset_name}_comparison_sample{int(sample_ratio*100)}.png\"\n",
    "        plt.savefig(out_path_comp, dpi=150)\n",
    "        plt.close()\n",
    "\n",
    "def evaluate_all_datasets(histograms_dir=\"../../large_files/traditional_methods/histogram\", sample_ratio=0.2):\n",
    "    \"\"\"\n",
    "    Evaluate histogram-based contain estimation on all available datasets sequentially.\n",
    "    Shows progress for each dataset independently.\n",
    "    \"\"\"\n",
    "    print(\"Initializing estimator...\")\n",
    "    sys.stdout.flush()\n",
    "    \n",
    "    estimator = HistogramContainEstimator(histograms_dir)\n",
    "    dataset_names = list(estimator.histograms.keys())\n",
    "    \n",
    "    print(f\"Found {len(dataset_names)} datasets to evaluate\")\n",
    "    sys.stdout.flush()\n",
    "    \n",
    "    all_results = []\n",
    "    \n",
    "    # Process each dataset with clear separation\n",
    "    for idx, dataset_name in enumerate(dataset_names, start=1):\n",
    "        print(\"\\n\" + \"=\"*80)\n",
    "        print(f\"DATASET {idx}/{len(dataset_names)}: {dataset_name}\")\n",
    "        print(\"=\"*80)\n",
    "        sys.stdout.flush()\n",
    "        \n",
    "        try:\n",
    "            results = estimator.evaluate_on_dataset(dataset_name, sample_ratio=sample_ratio)\n",
    "            all_results.append(results)\n",
    "            print(f\"Finished processing {dataset_name} ({idx}/{len(dataset_names)})\")\n",
    "            sys.stdout.flush()\n",
    "        except Exception as e:\n",
    "            print(f\"Error evaluating {dataset_name}: {e}\")\n",
    "            sys.stdout.flush()\n",
    "    \n",
    "    # Combine and save results\n",
    "    if all_results:\n",
    "        all_results_df = pd.DataFrame(all_results)\n",
    "        out_file = f\"{histograms_dir}/results/contain/all_datasets_evaluation_sample{int(sample_ratio*100)}.csv\"\n",
    "        all_results_df.to_csv(out_file, index=False)\n",
    "        print(\"\\nCombined results:\")\n",
    "        print(all_results_df)\n",
    "    else:\n",
    "        print(\"No results were generated\")\n",
    "    \n",
    "    sys.stdout.flush()\n",
    "\n",
    "if __name__ == \"__main__\":\n",
    "    evaluate_all_datasets(sample_ratio=0.2)\n",
    "    print(\"Histogram-based contain estimation evaluation complete!\")"
   ]
  }
 ],
 "metadata": {
  "language_info": {
   "codemirror_mode": {
    "name": "ipython",
    "version": 3
   },
   "file_extension": ".py",
   "mimetype": "text/x-python",
   "name": "python",
   "nbconvert_exporter": "python",
   "pygments_lexer": "ipython3",
   "version": "3.12.2"
  },
  "papermill": {
   "default_parameters": {},
   "duration": 769.791123,
   "end_time": "2025-03-27T17:22:08.867857",
   "environment_variables": {},
   "exception": null,
   "input_path": "/home/adminlias/nadir/Spatial-Selectivity-Ext/traditional_methods/histogram/histogram-contain-estimator.ipynb",
   "output_path": "/home/adminlias/nadir/Spatial-Selectivity-Ext/traditional_methods/histogram/output_histogram-contain-estimator.ipynb",
   "parameters": {},
   "start_time": "2025-03-27T17:09:19.076734",
   "version": "2.6.0"
  }
 },
 "nbformat": 4,
 "nbformat_minor": 5
}