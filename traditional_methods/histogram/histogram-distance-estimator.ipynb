{
 "cells": [
  {
   "cell_type": "code",
   "execution_count": 1,
   "id": "472b2b06",
   "metadata": {
    "execution": {
     "iopub.execute_input": "2025-03-27T17:22:09.783474Z",
     "iopub.status.busy": "2025-03-27T17:22:09.782905Z",
     "iopub.status.idle": "2025-03-27T18:15:22.358389Z",
     "shell.execute_reply": "2025-03-27T18:15:22.357299Z"
    },
    "papermill": {
     "duration": 3192.584802,
     "end_time": "2025-03-27T18:15:22.361399",
     "exception": false,
     "start_time": "2025-03-27T17:22:09.776597",
     "status": "completed"
    },
    "tags": []
   },
   "outputs": [
    {
     "name": "stdout",
     "output_type": "stream",
     "text": [
      "Initializing estimator...\n"
     ]
    },
    {
     "name": "stdout",
     "output_type": "stream",
     "text": [
      "Loading histogram for powerthingwaysorted...\n"
     ]
    },
    {
     "name": "stdout",
     "output_type": "stream",
     "text": [
      "Loading histogram for zcta5...\n"
     ]
    },
    {
     "name": "stdout",
     "output_type": "stream",
     "text": [
      "Loading histogram for emergencythingwaysorted...\n"
     ]
    },
    {
     "name": "stdout",
     "output_type": "stream",
     "text": [
      "Loading histogram for yago2...\n"
     ]
    },
    {
     "name": "stdout",
     "output_type": "stream",
     "text": [
      "Loading histogram for aerowaythingnodesorted...\n"
     ]
    },
    {
     "name": "stdout",
     "output_type": "stream",
     "text": [
      "Loading histogram for barrierthingwaysorted...\n"
     ]
    },
    {
     "name": "stdout",
     "output_type": "stream",
     "text": [
      "Loading histogram for leisurewaysorted...\n"
     ]
    },
    {
     "name": "stdout",
     "output_type": "stream",
     "text": [
      "Loading histogram for arealm...\n"
     ]
    },
    {
     "name": "stdout",
     "output_type": "stream",
     "text": [
      "Loading histogram for aerowaythingwaysorted...\n"
     ]
    },
    {
     "name": "stdout",
     "output_type": "stream",
     "text": [
      "Loading histogram for cyclewaythingwaysorted...\n"
     ]
    },
    {
     "name": "stdout",
     "output_type": "stream",
     "text": [
      "Loading histogram for powerthingnodesorted...\n"
     ]
    },
    {
     "name": "stdout",
     "output_type": "stream",
     "text": [
      "Loading histogram for historicthingwaysorted...\n"
     ]
    },
    {
     "name": "stdout",
     "output_type": "stream",
     "text": [
      "Loading histogram for areawater...\n"
     ]
    },
    {
     "name": "stdout",
     "output_type": "stream",
     "text": [
      "Loading histogram for craftwaysorted...\n"
     ]
    },
    {
     "name": "stdout",
     "output_type": "stream",
     "text": [
      "Loaded 14 histograms\n"
     ]
    },
    {
     "name": "stdout",
     "output_type": "stream",
     "text": [
      "Found 14 datasets to evaluate\n"
     ]
    },
    {
     "name": "stdout",
     "output_type": "stream",
     "text": [
      "\n",
      "================================================================================\n",
      "DATASET 1/14: powerthingwaysorted\n",
      "================================================================================\n"
     ]
    },
    {
     "name": "stdout",
     "output_type": "stream",
     "text": [
      "Loading query results from ../../large_files/resultsDistance/powerthingwaysorted_results.csv\n"
     ]
    },
    {
     "name": "stdout",
     "output_type": "stream",
     "text": [
      "Using 20.0% sample: 543457 out of 2717289 queries\n"
     ]
    },
    {
     "name": "stdout",
     "output_type": "stream",
     "text": [
      "Processing powerthingwaysorted queries: "
     ]
    },
    {
     "name": "stdout",
     "output_type": "stream",
     "text": [
      "0.0%... "
     ]
    },
    {
     "name": "stdout",
     "output_type": "stream",
     "text": [
      "10.0%... "
     ]
    },
    {
     "name": "stdout",
     "output_type": "stream",
     "text": [
      "20.0%... "
     ]
    },
    {
     "name": "stdout",
     "output_type": "stream",
     "text": [
      "30.0%... "
     ]
    },
    {
     "name": "stdout",
     "output_type": "stream",
     "text": [
      "40.0%... "
     ]
    },
    {
     "name": "stdout",
     "output_type": "stream",
     "text": [
      "50.0%... "
     ]
    },
    {
     "name": "stdout",
     "output_type": "stream",
     "text": [
      "60.0%... "
     ]
    },
    {
     "name": "stdout",
     "output_type": "stream",
     "text": [
      "70.0%... "
     ]
    },
    {
     "name": "stdout",
     "output_type": "stream",
     "text": [
      "80.0%... "
     ]
    },
    {
     "name": "stdout",
     "output_type": "stream",
     "text": [
      "90.0%... "
     ]
    },
    {
     "name": "stdout",
     "output_type": "stream",
     "text": [
      "100.0%... "
     ]
    },
    {
     "name": "stdout",
     "output_type": "stream",
     "text": [
      "100.0%... "
     ]
    },
    {
     "name": "stdout",
     "output_type": "stream",
     "text": [
      "Done!\n"
     ]
    },
    {
     "name": "stdout",
     "output_type": "stream",
     "text": [
      "Evaluation results for powerthingwaysorted (20.0% sample):\n",
      "  MAE: 162729.15\n",
      "  MAPE: 37.89%\n",
      "  Q-Score: 38.36\n",
      "  Avg. Estimation Time: 0.7613 ms\n"
     ]
    },
    {
     "name": "stdout",
     "output_type": "stream",
     "text": [
      "Finished processing powerthingwaysorted (1/14)\n"
     ]
    },
    {
     "name": "stdout",
     "output_type": "stream",
     "text": [
      "\n",
      "================================================================================\n",
      "DATASET 2/14: zcta5\n",
      "================================================================================\n"
     ]
    },
    {
     "name": "stdout",
     "output_type": "stream",
     "text": [
      "Loading query results from ../../large_files/resultsDistance/zcta5_results.csv\n"
     ]
    },
    {
     "name": "stdout",
     "output_type": "stream",
     "text": [
      "Using 20.0% sample: 1325 out of 6626 queries\n"
     ]
    },
    {
     "name": "stdout",
     "output_type": "stream",
     "text": [
      "Processing zcta5 queries: "
     ]
    },
    {
     "name": "stdout",
     "output_type": "stream",
     "text": [
      "0.1%... "
     ]
    },
    {
     "name": "stdout",
     "output_type": "stream",
     "text": [
      "10.0%... "
     ]
    },
    {
     "name": "stdout",
     "output_type": "stream",
     "text": [
      "20.0%... "
     ]
    },
    {
     "name": "stdout",
     "output_type": "stream",
     "text": [
      "30.0%... "
     ]
    },
    {
     "name": "stdout",
     "output_type": "stream",
     "text": [
      "39.9%... "
     ]
    },
    {
     "name": "stdout",
     "output_type": "stream",
     "text": [
      "49.9%... "
     ]
    },
    {
     "name": "stdout",
     "output_type": "stream",
     "text": [
      "59.8%... "
     ]
    },
    {
     "name": "stdout",
     "output_type": "stream",
     "text": [
      "69.8%... "
     ]
    },
    {
     "name": "stdout",
     "output_type": "stream",
     "text": [
      "79.8%... "
     ]
    },
    {
     "name": "stdout",
     "output_type": "stream",
     "text": [
      "89.7%... "
     ]
    },
    {
     "name": "stdout",
     "output_type": "stream",
     "text": [
      "99.7%... "
     ]
    },
    {
     "name": "stdout",
     "output_type": "stream",
     "text": [
      "100.0%... "
     ]
    },
    {
     "name": "stdout",
     "output_type": "stream",
     "text": [
      "Done!\n"
     ]
    },
    {
     "name": "stdout",
     "output_type": "stream",
     "text": [
      "Evaluation results for zcta5 (20.0% sample):\n",
      "  MAE: 2602.86\n",
      "  MAPE: 64.73%\n",
      "  Q-Score: 58.62\n",
      "  Avg. Estimation Time: 0.0541 ms\n"
     ]
    },
    {
     "name": "stdout",
     "output_type": "stream",
     "text": [
      "Finished processing zcta5 (2/14)\n"
     ]
    },
    {
     "name": "stdout",
     "output_type": "stream",
     "text": [
      "\n",
      "================================================================================\n",
      "DATASET 3/14: emergencythingwaysorted\n",
      "================================================================================\n"
     ]
    },
    {
     "name": "stdout",
     "output_type": "stream",
     "text": [
      "Loading query results from ../../large_files/resultsDistance/emergencythingwaysorted_results.csv\n"
     ]
    },
    {
     "name": "stdout",
     "output_type": "stream",
     "text": [
      "Using 20.0% sample: 32302 out of 161514 queries\n"
     ]
    },
    {
     "name": "stdout",
     "output_type": "stream",
     "text": [
      "Processing emergencythingwaysorted queries: "
     ]
    },
    {
     "name": "stdout",
     "output_type": "stream",
     "text": [
      "0.0%... "
     ]
    },
    {
     "name": "stdout",
     "output_type": "stream",
     "text": [
      "10.0%... "
     ]
    },
    {
     "name": "stdout",
     "output_type": "stream",
     "text": [
      "20.0%... "
     ]
    },
    {
     "name": "stdout",
     "output_type": "stream",
     "text": [
      "30.0%... "
     ]
    },
    {
     "name": "stdout",
     "output_type": "stream",
     "text": [
      "40.0%... "
     ]
    },
    {
     "name": "stdout",
     "output_type": "stream",
     "text": [
      "50.0%... "
     ]
    },
    {
     "name": "stdout",
     "output_type": "stream",
     "text": [
      "60.0%... "
     ]
    },
    {
     "name": "stdout",
     "output_type": "stream",
     "text": [
      "70.0%... "
     ]
    },
    {
     "name": "stdout",
     "output_type": "stream",
     "text": [
      "80.0%... "
     ]
    },
    {
     "name": "stdout",
     "output_type": "stream",
     "text": [
      "90.0%... "
     ]
    },
    {
     "name": "stdout",
     "output_type": "stream",
     "text": [
      "100.0%... "
     ]
    },
    {
     "name": "stdout",
     "output_type": "stream",
     "text": [
      "100.0%... "
     ]
    },
    {
     "name": "stdout",
     "output_type": "stream",
     "text": [
      "Done!\n"
     ]
    },
    {
     "name": "stdout",
     "output_type": "stream",
     "text": [
      "Evaluation results for emergencythingwaysorted (20.0% sample):\n",
      "  MAE: 18387.55\n",
      "  MAPE: 46.66%\n",
      "  Q-Score: 20.83\n",
      "  Avg. Estimation Time: 0.2646 ms\n"
     ]
    },
    {
     "name": "stdout",
     "output_type": "stream",
     "text": [
      "Finished processing emergencythingwaysorted (3/14)\n"
     ]
    },
    {
     "name": "stdout",
     "output_type": "stream",
     "text": [
      "\n",
      "================================================================================\n",
      "DATASET 4/14: yago2\n",
      "================================================================================\n"
     ]
    },
    {
     "name": "stdout",
     "output_type": "stream",
     "text": [
      "Loading query results from ../../large_files/resultsDistance/yago2_results.csv\n"
     ]
    },
    {
     "name": "stdout",
     "output_type": "stream",
     "text": [
      "Using 20.0% sample: 179788 out of 898942 queries\n"
     ]
    },
    {
     "name": "stdout",
     "output_type": "stream",
     "text": [
      "Processing yago2 queries: "
     ]
    },
    {
     "name": "stdout",
     "output_type": "stream",
     "text": [
      "0.0%... "
     ]
    },
    {
     "name": "stdout",
     "output_type": "stream",
     "text": [
      "10.0%... "
     ]
    },
    {
     "name": "stdout",
     "output_type": "stream",
     "text": [
      "20.0%... "
     ]
    },
    {
     "name": "stdout",
     "output_type": "stream",
     "text": [
      "30.0%... "
     ]
    },
    {
     "name": "stdout",
     "output_type": "stream",
     "text": [
      "40.0%... "
     ]
    },
    {
     "name": "stdout",
     "output_type": "stream",
     "text": [
      "50.0%... "
     ]
    },
    {
     "name": "stdout",
     "output_type": "stream",
     "text": [
      "60.0%... "
     ]
    },
    {
     "name": "stdout",
     "output_type": "stream",
     "text": [
      "70.0%... "
     ]
    },
    {
     "name": "stdout",
     "output_type": "stream",
     "text": [
      "80.0%... "
     ]
    },
    {
     "name": "stdout",
     "output_type": "stream",
     "text": [
      "90.0%... "
     ]
    },
    {
     "name": "stdout",
     "output_type": "stream",
     "text": [
      "100.0%... "
     ]
    },
    {
     "name": "stdout",
     "output_type": "stream",
     "text": [
      "100.0%... "
     ]
    },
    {
     "name": "stdout",
     "output_type": "stream",
     "text": [
      "Done!\n"
     ]
    },
    {
     "name": "stdout",
     "output_type": "stream",
     "text": [
      "Evaluation results for yago2 (20.0% sample):\n",
      "  MAE: 83279393.66\n",
      "  MAPE: 418723.33%\n",
      "  Q-Score: 3544.17\n",
      "  Avg. Estimation Time: 0.7627 ms\n"
     ]
    },
    {
     "name": "stdout",
     "output_type": "stream",
     "text": [
      "Finished processing yago2 (4/14)\n"
     ]
    },
    {
     "name": "stdout",
     "output_type": "stream",
     "text": [
      "\n",
      "================================================================================\n",
      "DATASET 5/14: aerowaythingnodesorted\n",
      "================================================================================\n"
     ]
    },
    {
     "name": "stdout",
     "output_type": "stream",
     "text": [
      "Loading query results from ../../large_files/resultsDistance/aerowaythingnodesorted_results.csv\n"
     ]
    },
    {
     "name": "stdout",
     "output_type": "stream",
     "text": [
      "Using 20.0% sample: 3168 out of 15843 queries\n"
     ]
    },
    {
     "name": "stdout",
     "output_type": "stream",
     "text": [
      "Processing aerowaythingnodesorted queries: "
     ]
    },
    {
     "name": "stdout",
     "output_type": "stream",
     "text": [
      "0.0%... "
     ]
    },
    {
     "name": "stdout",
     "output_type": "stream",
     "text": [
      "10.0%... "
     ]
    },
    {
     "name": "stdout",
     "output_type": "stream",
     "text": [
      "20.0%... "
     ]
    },
    {
     "name": "stdout",
     "output_type": "stream",
     "text": [
      "30.0%... "
     ]
    },
    {
     "name": "stdout",
     "output_type": "stream",
     "text": [
      "39.9%... "
     ]
    },
    {
     "name": "stdout",
     "output_type": "stream",
     "text": [
      "49.9%... "
     ]
    },
    {
     "name": "stdout",
     "output_type": "stream",
     "text": [
      "59.9%... "
     ]
    },
    {
     "name": "stdout",
     "output_type": "stream",
     "text": [
      "69.9%... "
     ]
    },
    {
     "name": "stdout",
     "output_type": "stream",
     "text": [
      "79.8%... "
     ]
    },
    {
     "name": "stdout",
     "output_type": "stream",
     "text": [
      "89.8%... "
     ]
    },
    {
     "name": "stdout",
     "output_type": "stream",
     "text": [
      "99.8%... "
     ]
    },
    {
     "name": "stdout",
     "output_type": "stream",
     "text": [
      "100.0%... "
     ]
    },
    {
     "name": "stdout",
     "output_type": "stream",
     "text": [
      "Done!\n"
     ]
    },
    {
     "name": "stdout",
     "output_type": "stream",
     "text": [
      "Evaluation results for aerowaythingnodesorted (20.0% sample):\n",
      "  MAE: 1492.62\n",
      "  MAPE: 58.67%\n",
      "  Q-Score: 29.01\n",
      "  Avg. Estimation Time: 0.0673 ms\n"
     ]
    },
    {
     "name": "stdout",
     "output_type": "stream",
     "text": [
      "Finished processing aerowaythingnodesorted (5/14)\n"
     ]
    },
    {
     "name": "stdout",
     "output_type": "stream",
     "text": [
      "\n",
      "================================================================================\n",
      "DATASET 6/14: barrierthingwaysorted\n",
      "================================================================================\n"
     ]
    },
    {
     "name": "stdout",
     "output_type": "stream",
     "text": [
      "Loading query results from ../../large_files/resultsDistance/barrierthingwaysorted_results.csv\n"
     ]
    },
    {
     "name": "stdout",
     "output_type": "stream",
     "text": [
      "Using 20.0% sample: 916334 out of 4581670 queries\n"
     ]
    },
    {
     "name": "stdout",
     "output_type": "stream",
     "text": [
      "Processing barrierthingwaysorted queries: "
     ]
    },
    {
     "name": "stdout",
     "output_type": "stream",
     "text": [
      "0.0%... "
     ]
    },
    {
     "name": "stdout",
     "output_type": "stream",
     "text": [
      "10.0%... "
     ]
    },
    {
     "name": "stdout",
     "output_type": "stream",
     "text": [
      "20.0%... "
     ]
    },
    {
     "name": "stdout",
     "output_type": "stream",
     "text": [
      "30.0%... "
     ]
    },
    {
     "name": "stdout",
     "output_type": "stream",
     "text": [
      "40.0%... "
     ]
    },
    {
     "name": "stdout",
     "output_type": "stream",
     "text": [
      "50.0%... "
     ]
    },
    {
     "name": "stdout",
     "output_type": "stream",
     "text": [
      "60.0%... "
     ]
    },
    {
     "name": "stdout",
     "output_type": "stream",
     "text": [
      "70.0%... "
     ]
    },
    {
     "name": "stdout",
     "output_type": "stream",
     "text": [
      "80.0%... "
     ]
    },
    {
     "name": "stdout",
     "output_type": "stream",
     "text": [
      "90.0%... "
     ]
    },
    {
     "name": "stdout",
     "output_type": "stream",
     "text": [
      "100.0%... "
     ]
    },
    {
     "name": "stdout",
     "output_type": "stream",
     "text": [
      "100.0%... "
     ]
    },
    {
     "name": "stdout",
     "output_type": "stream",
     "text": [
      "Done!\n"
     ]
    },
    {
     "name": "stdout",
     "output_type": "stream",
     "text": [
      "Evaluation results for barrierthingwaysorted (20.0% sample):\n",
      "  MAE: 466331.32\n",
      "  MAPE: 37.82%\n",
      "  Q-Score: 69.42\n",
      "  Avg. Estimation Time: 0.7672 ms\n"
     ]
    },
    {
     "name": "stdout",
     "output_type": "stream",
     "text": [
      "Finished processing barrierthingwaysorted (6/14)\n"
     ]
    },
    {
     "name": "stdout",
     "output_type": "stream",
     "text": [
      "\n",
      "================================================================================\n",
      "DATASET 7/14: leisurewaysorted\n",
      "================================================================================\n"
     ]
    },
    {
     "name": "stdout",
     "output_type": "stream",
     "text": [
      "Loading query results from ../../large_files/resultsDistance/leisurewaysorted_results.csv\n"
     ]
    },
    {
     "name": "stdout",
     "output_type": "stream",
     "text": [
      "Using 20.0% sample: 1175314 out of 5876570 queries\n"
     ]
    },
    {
     "name": "stdout",
     "output_type": "stream",
     "text": [
      "Processing leisurewaysorted queries: "
     ]
    },
    {
     "name": "stdout",
     "output_type": "stream",
     "text": [
      "0.0%... "
     ]
    },
    {
     "name": "stdout",
     "output_type": "stream",
     "text": [
      "10.0%... "
     ]
    },
    {
     "name": "stdout",
     "output_type": "stream",
     "text": [
      "20.0%... "
     ]
    },
    {
     "name": "stdout",
     "output_type": "stream",
     "text": [
      "30.0%... "
     ]
    },
    {
     "name": "stdout",
     "output_type": "stream",
     "text": [
      "40.0%... "
     ]
    },
    {
     "name": "stdout",
     "output_type": "stream",
     "text": [
      "50.0%... "
     ]
    },
    {
     "name": "stdout",
     "output_type": "stream",
     "text": [
      "60.0%... "
     ]
    },
    {
     "name": "stdout",
     "output_type": "stream",
     "text": [
      "70.0%... "
     ]
    },
    {
     "name": "stdout",
     "output_type": "stream",
     "text": [
      "80.0%... "
     ]
    },
    {
     "name": "stdout",
     "output_type": "stream",
     "text": [
      "90.0%... "
     ]
    },
    {
     "name": "stdout",
     "output_type": "stream",
     "text": [
      "100.0%... "
     ]
    },
    {
     "name": "stdout",
     "output_type": "stream",
     "text": [
      "100.0%... "
     ]
    },
    {
     "name": "stdout",
     "output_type": "stream",
     "text": [
      "Done!\n"
     ]
    },
    {
     "name": "stdout",
     "output_type": "stream",
     "text": [
      "Evaluation results for leisurewaysorted (20.0% sample):\n",
      "  MAE: 584936.10\n",
      "  MAPE: 40.81%\n",
      "  Q-Score: 62.84\n",
      "  Avg. Estimation Time: 0.7793 ms\n"
     ]
    },
    {
     "name": "stdout",
     "output_type": "stream",
     "text": [
      "Finished processing leisurewaysorted (7/14)\n"
     ]
    },
    {
     "name": "stdout",
     "output_type": "stream",
     "text": [
      "\n",
      "================================================================================\n",
      "DATASET 8/14: arealm\n",
      "================================================================================\n"
     ]
    },
    {
     "name": "stdout",
     "output_type": "stream",
     "text": [
      "Loading query results from ../../large_files/resultsDistance/arealm_results.csv\n"
     ]
    },
    {
     "name": "stdout",
     "output_type": "stream",
     "text": [
      "Using 20.0% sample: 5166 out of 25833 queries\n"
     ]
    },
    {
     "name": "stdout",
     "output_type": "stream",
     "text": [
      "Processing arealm queries: "
     ]
    },
    {
     "name": "stdout",
     "output_type": "stream",
     "text": [
      "0.0%... "
     ]
    },
    {
     "name": "stdout",
     "output_type": "stream",
     "text": [
      "10.0%... "
     ]
    },
    {
     "name": "stdout",
     "output_type": "stream",
     "text": [
      "20.0%... "
     ]
    },
    {
     "name": "stdout",
     "output_type": "stream",
     "text": [
      "30.0%... "
     ]
    },
    {
     "name": "stdout",
     "output_type": "stream",
     "text": [
      "40.0%... "
     ]
    },
    {
     "name": "stdout",
     "output_type": "stream",
     "text": [
      "50.0%... "
     ]
    },
    {
     "name": "stdout",
     "output_type": "stream",
     "text": [
      "59.9%... "
     ]
    },
    {
     "name": "stdout",
     "output_type": "stream",
     "text": [
      "69.9%... "
     ]
    },
    {
     "name": "stdout",
     "output_type": "stream",
     "text": [
      "79.9%... "
     ]
    },
    {
     "name": "stdout",
     "output_type": "stream",
     "text": [
      "89.9%... "
     ]
    },
    {
     "name": "stdout",
     "output_type": "stream",
     "text": [
      "99.9%... "
     ]
    },
    {
     "name": "stdout",
     "output_type": "stream",
     "text": [
      "100.0%... "
     ]
    },
    {
     "name": "stdout",
     "output_type": "stream",
     "text": [
      "Done!\n"
     ]
    },
    {
     "name": "stdout",
     "output_type": "stream",
     "text": [
      "Evaluation results for arealm (20.0% sample):\n",
      "  MAE: 7759.20\n",
      "  MAPE: 61.32%\n",
      "  Q-Score: 33.83\n",
      "  Avg. Estimation Time: 0.0806 ms\n"
     ]
    },
    {
     "name": "stdout",
     "output_type": "stream",
     "text": [
      "Finished processing arealm (8/14)\n"
     ]
    },
    {
     "name": "stdout",
     "output_type": "stream",
     "text": [
      "\n",
      "================================================================================\n",
      "DATASET 9/14: aerowaythingwaysorted\n",
      "================================================================================\n"
     ]
    },
    {
     "name": "stdout",
     "output_type": "stream",
     "text": [
      "Loading query results from ../../large_files/resultsDistance/aerowaythingwaysorted_results.csv\n"
     ]
    },
    {
     "name": "stdout",
     "output_type": "stream",
     "text": [
      "Using 20.0% sample: 73673 out of 368365 queries\n"
     ]
    },
    {
     "name": "stdout",
     "output_type": "stream",
     "text": [
      "Processing aerowaythingwaysorted queries: "
     ]
    },
    {
     "name": "stdout",
     "output_type": "stream",
     "text": [
      "0.0%... "
     ]
    },
    {
     "name": "stdout",
     "output_type": "stream",
     "text": [
      "10.0%... "
     ]
    },
    {
     "name": "stdout",
     "output_type": "stream",
     "text": [
      "20.0%... "
     ]
    },
    {
     "name": "stdout",
     "output_type": "stream",
     "text": [
      "30.0%... "
     ]
    },
    {
     "name": "stdout",
     "output_type": "stream",
     "text": [
      "40.0%... "
     ]
    },
    {
     "name": "stdout",
     "output_type": "stream",
     "text": [
      "50.0%... "
     ]
    },
    {
     "name": "stdout",
     "output_type": "stream",
     "text": [
      "60.0%... "
     ]
    },
    {
     "name": "stdout",
     "output_type": "stream",
     "text": [
      "70.0%... "
     ]
    },
    {
     "name": "stdout",
     "output_type": "stream",
     "text": [
      "80.0%... "
     ]
    },
    {
     "name": "stdout",
     "output_type": "stream",
     "text": [
      "90.0%... "
     ]
    },
    {
     "name": "stdout",
     "output_type": "stream",
     "text": [
      "100.0%... "
     ]
    },
    {
     "name": "stdout",
     "output_type": "stream",
     "text": [
      "100.0%... "
     ]
    },
    {
     "name": "stdout",
     "output_type": "stream",
     "text": [
      "Done!\n"
     ]
    },
    {
     "name": "stdout",
     "output_type": "stream",
     "text": [
      "Evaluation results for aerowaythingwaysorted (20.0% sample):\n",
      "  MAE: 21366.42\n",
      "  MAPE: 39.98%\n",
      "  Q-Score: 12.80\n",
      "  Avg. Estimation Time: 0.5636 ms\n"
     ]
    },
    {
     "name": "stdout",
     "output_type": "stream",
     "text": [
      "Finished processing aerowaythingwaysorted (9/14)\n"
     ]
    },
    {
     "name": "stdout",
     "output_type": "stream",
     "text": [
      "\n",
      "================================================================================\n",
      "DATASET 10/14: cyclewaythingwaysorted\n",
      "================================================================================\n"
     ]
    },
    {
     "name": "stdout",
     "output_type": "stream",
     "text": [
      "Loading query results from ../../large_files/resultsDistance/cyclewaythingwaysorted_results.csv\n"
     ]
    },
    {
     "name": "stdout",
     "output_type": "stream",
     "text": [
      "Using 20.0% sample: 213412 out of 1067063 queries\n"
     ]
    },
    {
     "name": "stdout",
     "output_type": "stream",
     "text": [
      "Processing cyclewaythingwaysorted queries: "
     ]
    },
    {
     "name": "stdout",
     "output_type": "stream",
     "text": [
      "0.0%... "
     ]
    },
    {
     "name": "stdout",
     "output_type": "stream",
     "text": [
      "10.0%... "
     ]
    },
    {
     "name": "stdout",
     "output_type": "stream",
     "text": [
      "20.0%... "
     ]
    },
    {
     "name": "stdout",
     "output_type": "stream",
     "text": [
      "30.0%... "
     ]
    },
    {
     "name": "stdout",
     "output_type": "stream",
     "text": [
      "40.0%... "
     ]
    },
    {
     "name": "stdout",
     "output_type": "stream",
     "text": [
      "50.0%... "
     ]
    },
    {
     "name": "stdout",
     "output_type": "stream",
     "text": [
      "60.0%... "
     ]
    },
    {
     "name": "stdout",
     "output_type": "stream",
     "text": [
      "70.0%... "
     ]
    },
    {
     "name": "stdout",
     "output_type": "stream",
     "text": [
      "80.0%... "
     ]
    },
    {
     "name": "stdout",
     "output_type": "stream",
     "text": [
      "90.0%... "
     ]
    },
    {
     "name": "stdout",
     "output_type": "stream",
     "text": [
      "100.0%... "
     ]
    },
    {
     "name": "stdout",
     "output_type": "stream",
     "text": [
      "100.0%... "
     ]
    },
    {
     "name": "stdout",
     "output_type": "stream",
     "text": [
      "Done!\n"
     ]
    },
    {
     "name": "stdout",
     "output_type": "stream",
     "text": [
      "Evaluation results for cyclewaythingwaysorted (20.0% sample):\n",
      "  MAE: 108906.67\n",
      "  MAPE: 41.91%\n",
      "  Q-Score: 31.21\n",
      "  Avg. Estimation Time: 0.7844 ms\n"
     ]
    },
    {
     "name": "stdout",
     "output_type": "stream",
     "text": [
      "Finished processing cyclewaythingwaysorted (10/14)\n"
     ]
    },
    {
     "name": "stdout",
     "output_type": "stream",
     "text": [
      "\n",
      "================================================================================\n",
      "DATASET 11/14: powerthingnodesorted\n",
      "================================================================================\n"
     ]
    },
    {
     "name": "stdout",
     "output_type": "stream",
     "text": [
      "Loading query results from ../../large_files/resultsDistance/powerthingnodesorted_results.csv\n"
     ]
    },
    {
     "name": "stdout",
     "output_type": "stream",
     "text": [
      "Using 20.0% sample: 420502 out of 2102514 queries\n"
     ]
    },
    {
     "name": "stdout",
     "output_type": "stream",
     "text": [
      "Processing powerthingnodesorted queries: "
     ]
    },
    {
     "name": "stdout",
     "output_type": "stream",
     "text": [
      "0.0%... "
     ]
    },
    {
     "name": "stdout",
     "output_type": "stream",
     "text": [
      "10.0%... "
     ]
    },
    {
     "name": "stdout",
     "output_type": "stream",
     "text": [
      "20.0%... "
     ]
    },
    {
     "name": "stdout",
     "output_type": "stream",
     "text": [
      "30.0%... "
     ]
    },
    {
     "name": "stdout",
     "output_type": "stream",
     "text": [
      "40.0%... "
     ]
    },
    {
     "name": "stdout",
     "output_type": "stream",
     "text": [
      "50.0%... "
     ]
    },
    {
     "name": "stdout",
     "output_type": "stream",
     "text": [
      "60.0%... "
     ]
    },
    {
     "name": "stdout",
     "output_type": "stream",
     "text": [
      "70.0%... "
     ]
    },
    {
     "name": "stdout",
     "output_type": "stream",
     "text": [
      "80.0%... "
     ]
    },
    {
     "name": "stdout",
     "output_type": "stream",
     "text": [
      "90.0%... "
     ]
    },
    {
     "name": "stdout",
     "output_type": "stream",
     "text": [
      "100.0%... "
     ]
    },
    {
     "name": "stdout",
     "output_type": "stream",
     "text": [
      "100.0%... "
     ]
    },
    {
     "name": "stdout",
     "output_type": "stream",
     "text": [
      "Done!\n"
     ]
    },
    {
     "name": "stdout",
     "output_type": "stream",
     "text": [
      "Evaluation results for powerthingnodesorted (20.0% sample):\n",
      "  MAE: 124535.30\n",
      "  MAPE: 38.15%\n",
      "  Q-Score: 35.28\n",
      "  Avg. Estimation Time: 0.8000 ms\n"
     ]
    },
    {
     "name": "stdout",
     "output_type": "stream",
     "text": [
      "Finished processing powerthingnodesorted (11/14)\n"
     ]
    },
    {
     "name": "stdout",
     "output_type": "stream",
     "text": [
      "\n",
      "================================================================================\n",
      "DATASET 12/14: historicthingwaysorted\n",
      "================================================================================\n"
     ]
    },
    {
     "name": "stdout",
     "output_type": "stream",
     "text": [
      "Loading query results from ../../large_files/resultsDistance/historicthingwaysorted_results.csv\n"
     ]
    },
    {
     "name": "stdout",
     "output_type": "stream",
     "text": [
      "Using 20.0% sample: 71687 out of 358439 queries\n"
     ]
    },
    {
     "name": "stdout",
     "output_type": "stream",
     "text": [
      "Processing historicthingwaysorted queries: "
     ]
    },
    {
     "name": "stdout",
     "output_type": "stream",
     "text": [
      "0.0%... "
     ]
    },
    {
     "name": "stdout",
     "output_type": "stream",
     "text": [
      "10.0%... "
     ]
    },
    {
     "name": "stdout",
     "output_type": "stream",
     "text": [
      "20.0%... "
     ]
    },
    {
     "name": "stdout",
     "output_type": "stream",
     "text": [
      "30.0%... "
     ]
    },
    {
     "name": "stdout",
     "output_type": "stream",
     "text": [
      "40.0%... "
     ]
    },
    {
     "name": "stdout",
     "output_type": "stream",
     "text": [
      "50.0%... "
     ]
    },
    {
     "name": "stdout",
     "output_type": "stream",
     "text": [
      "60.0%... "
     ]
    },
    {
     "name": "stdout",
     "output_type": "stream",
     "text": [
      "70.0%... "
     ]
    },
    {
     "name": "stdout",
     "output_type": "stream",
     "text": [
      "80.0%... "
     ]
    },
    {
     "name": "stdout",
     "output_type": "stream",
     "text": [
      "90.0%... "
     ]
    },
    {
     "name": "stdout",
     "output_type": "stream",
     "text": [
      "100.0%... "
     ]
    },
    {
     "name": "stdout",
     "output_type": "stream",
     "text": [
      "100.0%... "
     ]
    },
    {
     "name": "stdout",
     "output_type": "stream",
     "text": [
      "Done!\n"
     ]
    },
    {
     "name": "stdout",
     "output_type": "stream",
     "text": [
      "Evaluation results for historicthingwaysorted (20.0% sample):\n",
      "  MAE: 58304.65\n",
      "  MAPE: 41.24%\n",
      "  Q-Score: 21.33\n",
      "  Avg. Estimation Time: 0.5451 ms\n"
     ]
    },
    {
     "name": "stdout",
     "output_type": "stream",
     "text": [
      "Finished processing historicthingwaysorted (12/14)\n"
     ]
    },
    {
     "name": "stdout",
     "output_type": "stream",
     "text": [
      "\n",
      "================================================================================\n",
      "DATASET 13/14: areawater\n",
      "================================================================================\n"
     ]
    },
    {
     "name": "stdout",
     "output_type": "stream",
     "text": [
      "Loading query results from ../../large_files/resultsDistance/areawater_results.csv\n"
     ]
    },
    {
     "name": "stdout",
     "output_type": "stream",
     "text": [
      "Using 20.0% sample: 91710 out of 458552 queries\n"
     ]
    },
    {
     "name": "stdout",
     "output_type": "stream",
     "text": [
      "Processing areawater queries: "
     ]
    },
    {
     "name": "stdout",
     "output_type": "stream",
     "text": [
      "0.0%... "
     ]
    },
    {
     "name": "stdout",
     "output_type": "stream",
     "text": [
      "10.0%... "
     ]
    },
    {
     "name": "stdout",
     "output_type": "stream",
     "text": [
      "20.0%... "
     ]
    },
    {
     "name": "stdout",
     "output_type": "stream",
     "text": [
      "30.0%... "
     ]
    },
    {
     "name": "stdout",
     "output_type": "stream",
     "text": [
      "40.0%... "
     ]
    },
    {
     "name": "stdout",
     "output_type": "stream",
     "text": [
      "50.0%... "
     ]
    },
    {
     "name": "stdout",
     "output_type": "stream",
     "text": [
      "60.0%... "
     ]
    },
    {
     "name": "stdout",
     "output_type": "stream",
     "text": [
      "70.0%... "
     ]
    },
    {
     "name": "stdout",
     "output_type": "stream",
     "text": [
      "80.0%... "
     ]
    },
    {
     "name": "stdout",
     "output_type": "stream",
     "text": [
      "90.0%... "
     ]
    },
    {
     "name": "stdout",
     "output_type": "stream",
     "text": [
      "100.0%... "
     ]
    },
    {
     "name": "stdout",
     "output_type": "stream",
     "text": [
      "Done!\n"
     ]
    },
    {
     "name": "stdout",
     "output_type": "stream",
     "text": [
      "Evaluation results for areawater (20.0% sample):\n",
      "  MAE: 98636.38\n",
      "  MAPE: 40.09%\n",
      "  Q-Score: 42.56\n",
      "  Avg. Estimation Time: 0.6617 ms\n"
     ]
    },
    {
     "name": "stdout",
     "output_type": "stream",
     "text": [
      "Finished processing areawater (13/14)\n"
     ]
    },
    {
     "name": "stdout",
     "output_type": "stream",
     "text": [
      "\n",
      "================================================================================\n",
      "DATASET 14/14: craftwaysorted\n",
      "================================================================================\n"
     ]
    },
    {
     "name": "stdout",
     "output_type": "stream",
     "text": [
      "Loading query results from ../../large_files/resultsDistance/craftwaysorted_results.csv\n"
     ]
    },
    {
     "name": "stdout",
     "output_type": "stream",
     "text": [
      "Using 20.0% sample: 4364 out of 21822 queries\n"
     ]
    },
    {
     "name": "stdout",
     "output_type": "stream",
     "text": [
      "Processing craftwaysorted queries: "
     ]
    },
    {
     "name": "stdout",
     "output_type": "stream",
     "text": [
      "0.0%... "
     ]
    },
    {
     "name": "stdout",
     "output_type": "stream",
     "text": [
      "10.0%... "
     ]
    },
    {
     "name": "stdout",
     "output_type": "stream",
     "text": [
      "20.0%... "
     ]
    },
    {
     "name": "stdout",
     "output_type": "stream",
     "text": [
      "30.0%... "
     ]
    },
    {
     "name": "stdout",
     "output_type": "stream",
     "text": [
      "40.0%... "
     ]
    },
    {
     "name": "stdout",
     "output_type": "stream",
     "text": [
      "50.0%... "
     ]
    },
    {
     "name": "stdout",
     "output_type": "stream",
     "text": [
      "60.0%... "
     ]
    },
    {
     "name": "stdout",
     "output_type": "stream",
     "text": [
      "70.0%... "
     ]
    },
    {
     "name": "stdout",
     "output_type": "stream",
     "text": [
      "79.9%... "
     ]
    },
    {
     "name": "stdout",
     "output_type": "stream",
     "text": [
      "89.9%... "
     ]
    },
    {
     "name": "stdout",
     "output_type": "stream",
     "text": [
      "99.9%... "
     ]
    },
    {
     "name": "stdout",
     "output_type": "stream",
     "text": [
      "100.0%... "
     ]
    },
    {
     "name": "stdout",
     "output_type": "stream",
     "text": [
      "Done!\n"
     ]
    },
    {
     "name": "stdout",
     "output_type": "stream",
     "text": [
      "Evaluation results for craftwaysorted (20.0% sample):\n",
      "  MAE: 4530.32\n",
      "  MAPE: 60.39%\n",
      "  Q-Score: 18.00\n",
      "  Avg. Estimation Time: 0.0783 ms\n"
     ]
    },
    {
     "name": "stdout",
     "output_type": "stream",
     "text": [
      "Finished processing craftwaysorted (14/14)\n"
     ]
    },
    {
     "name": "stdout",
     "output_type": "stream",
     "text": [
      "\n",
      "Combined results:\n",
      "                    Dataset           MAE         MAPE      Q_Score  \\\n",
      "0       powerthingwaysorted  1.627292e+05     0.378906    38.357922   \n",
      "1                     zcta5  2.602862e+03     0.647338    58.624370   \n",
      "2   emergencythingwaysorted  1.838755e+04     0.466580    20.830957   \n",
      "3                     yago2  8.327939e+07  4187.233250  3544.170221   \n",
      "4    aerowaythingnodesorted  1.492617e+03     0.586670    29.007545   \n",
      "5     barrierthingwaysorted  4.663313e+05     0.378185    69.418648   \n",
      "6          leisurewaysorted  5.849361e+05     0.408077    62.838977   \n",
      "7                    arealm  7.759196e+03     0.613225    33.829438   \n",
      "8     aerowaythingwaysorted  2.136642e+04     0.399762    12.795304   \n",
      "9    cyclewaythingwaysorted  1.089067e+05     0.419126    31.206578   \n",
      "10     powerthingnodesorted  1.245353e+05     0.381453    35.279154   \n",
      "11   historicthingwaysorted  5.830465e+04     0.412412    21.326452   \n",
      "12                areawater  9.863638e+04     0.400870    42.560639   \n",
      "13           craftwaysorted  4.530316e+03     0.603933    18.000510   \n",
      "\n",
      "    Avg_Time_ms  Num_Queries  Sample_Ratio  \n",
      "0      0.761265       543457           0.2  \n",
      "1      0.054102         1325           0.2  \n",
      "2      0.264644        32302           0.2  \n",
      "3      0.762737       179788           0.2  \n",
      "4      0.067331         3168           0.2  \n",
      "5      0.767162       916334           0.2  \n",
      "6      0.779350      1175314           0.2  \n",
      "7      0.080627         5166           0.2  \n",
      "8      0.563617        73673           0.2  \n",
      "9      0.784445       213412           0.2  \n",
      "10     0.799970       420502           0.2  \n",
      "11     0.545105        71687           0.2  \n",
      "12     0.661706        91710           0.2  \n",
      "13     0.078265         4364           0.2  \n"
     ]
    },
    {
     "name": "stdout",
     "output_type": "stream",
     "text": [
      "Histogram-based distance estimation evaluation complete!\n"
     ]
    }
   ],
   "source": [
    "import numpy as np\n",
    "import pandas as pd\n",
    "import matplotlib.pyplot as plt\n",
    "import os\n",
    "import re\n",
    "import time\n",
    "import sys\n",
    "from tqdm import tqdm\n",
    "from sklearn.metrics import mean_absolute_error\n",
    "\n",
    "class HistogramDistanceEstimator:\n",
    "    def __init__(self, histograms_dir=\"../../large_files/traditional_methods/histogram\"):\n",
    "        \"\"\"\n",
    "        Initialize the histogram-based distance estimator\n",
    "        \"\"\"\n",
    "        self.histograms_dir = histograms_dir\n",
    "        self.histograms = {}\n",
    "        self.metadata = {}\n",
    "        self.cache = {}\n",
    "        \n",
    "        os.makedirs(f\"{histograms_dir}/results/distance\", exist_ok=True)\n",
    "        os.makedirs(f\"{histograms_dir}/visualizations/distance\", exist_ok=True)\n",
    "        \n",
    "        self.load_histograms()\n",
    "    \n",
    "    def load_histograms(self):\n",
    "        \"\"\"Load all available histograms from the histograms directory.\"\"\"\n",
    "        files = os.listdir(self.histograms_dir)\n",
    "        histogram_files = [f for f in files if f.endswith('_histogram.npy')]\n",
    "        \n",
    "        for hf in histogram_files:\n",
    "            dataset_name = hf.replace('_histogram.npy', '')\n",
    "            metadata_file = f\"{dataset_name}_metadata.npy\"\n",
    "            \n",
    "            if os.path.exists(os.path.join(self.histograms_dir, metadata_file)):\n",
    "                print(f\"Loading histogram for {dataset_name}...\")\n",
    "                sys.stdout.flush()\n",
    "                self.histograms[dataset_name] = np.load(\n",
    "                    os.path.join(self.histograms_dir, hf)\n",
    "                )\n",
    "                self.metadata[dataset_name] = np.load(\n",
    "                    os.path.join(self.histograms_dir, metadata_file),\n",
    "                    allow_pickle=True\n",
    "                ).item()\n",
    "                \n",
    "        print(f\"Loaded {len(self.histograms)} histograms\")\n",
    "        sys.stdout.flush()\n",
    "\n",
    "    def parse_mbr(self, mbr_str):\n",
    "        \"\"\"Parse MBR string from '(x1, y1, x2, y2)'.\"\"\"\n",
    "        if isinstance(mbr_str, str):\n",
    "            coords = mbr_str.strip('\"()').split(', ')\n",
    "            return [float(coord) for coord in coords]\n",
    "        return mbr_str\n",
    "    \n",
    "    def estimate_distance_count(self, dataset_name, object_mbr, min_distance, max_distance):\n",
    "        \"\"\"\n",
    "        Optimized method to estimate objects within a distance range using rectangle pre-filtering\n",
    "        \"\"\"\n",
    "        # Handle caching and input parsing as before\n",
    "        if isinstance(object_mbr, list):\n",
    "            object_mbr = tuple(object_mbr)\n",
    "        \n",
    "        cache_key = f\"{dataset_name}_{object_mbr}_{min_distance}_{max_distance}\"\n",
    "        if cache_key in self.cache:\n",
    "            return self.cache[cache_key]\n",
    "        \n",
    "        if dataset_name not in self.histograms:\n",
    "            raise ValueError(f\"No histogram found for {dataset_name}\")\n",
    "        \n",
    "        if isinstance(object_mbr, str):\n",
    "            object_mbr = self.parse_mbr(object_mbr)\n",
    "            object_mbr = tuple(object_mbr)\n",
    "        \n",
    "        grid = self.histograms[dataset_name]\n",
    "        metadata = self.metadata[dataset_name]\n",
    "        grid_dim_x, grid_dim_y = metadata['dimensions']\n",
    "        univ_xmin, univ_ymin, univ_xmax, univ_ymax = metadata['universe']\n",
    "        \n",
    "        # Extract object MBR coordinates and calculate center\n",
    "        o_xmin, o_ymin, o_xmax, o_ymax = object_mbr\n",
    "        o_center_x = (o_xmin + o_xmax) / 2\n",
    "        o_center_y = (o_ymin + o_ymax) / 2\n",
    "        \n",
    "        # Calculate cell dimensions\n",
    "        cell_width = (univ_xmax - univ_xmin) / grid_dim_x\n",
    "        cell_height = (univ_ymax - univ_ymin) / grid_dim_y\n",
    "        \n",
    "        # Calculate inner and outer rectangle bounds based on min/max distances\n",
    "        inner_rect = (\n",
    "            o_center_x - min_distance, \n",
    "            o_center_y - min_distance, \n",
    "            o_center_x + min_distance, \n",
    "            o_center_y + min_distance\n",
    "        )\n",
    "        \n",
    "        outer_rect = (\n",
    "            o_center_x - max_distance, \n",
    "            o_center_y - max_distance, \n",
    "            o_center_x + max_distance, \n",
    "            o_center_y + max_distance\n",
    "        )\n",
    "        \n",
    "        # Convert rectangle bounds to grid cell indices\n",
    "        inner_min_i = max(0, int((inner_rect[0] - univ_xmin) / cell_width))\n",
    "        inner_min_j = max(0, int((inner_rect[1] - univ_ymin) / cell_height))\n",
    "        inner_max_i = min(grid_dim_x - 1, int((inner_rect[2] - univ_xmin) / cell_width))\n",
    "        inner_max_j = min(grid_dim_y - 1, int((inner_rect[3] - univ_ymin) / cell_height))\n",
    "        \n",
    "        outer_min_i = max(0, int((outer_rect[0] - univ_xmin) / cell_width))\n",
    "        outer_min_j = max(0, int((outer_rect[1] - univ_ymin) / cell_height))\n",
    "        outer_max_i = min(grid_dim_x - 1, int((outer_rect[2] - univ_xmin) / cell_width))\n",
    "        outer_max_j = min(grid_dim_y - 1, int((outer_rect[3] - univ_ymin) / cell_height))\n",
    "        \n",
    "        # Create a mask for all cells in the outer rectangle\n",
    "        outer_mask = np.zeros((grid_dim_x, grid_dim_y), dtype=bool)\n",
    "        outer_mask[outer_min_i:outer_max_i+1, outer_min_j:outer_max_j+1] = True\n",
    "        \n",
    "        # Create a mask for all cells in the inner rectangle\n",
    "        inner_mask = np.zeros((grid_dim_x, grid_dim_y), dtype=bool)\n",
    "        inner_mask[inner_min_i:inner_max_i+1, inner_min_j:inner_max_j+1] = True\n",
    "        \n",
    "        # Get the cells between the inner and outer rectangles\n",
    "        candidate_cells = outer_mask & ~inner_mask\n",
    "        \n",
    "        # Create cell center coordinates only for candidate cells\n",
    "        candidate_indices = np.where(candidate_cells)\n",
    "        cell_centers_x = univ_xmin + (candidate_indices[0] + 0.5) * cell_width\n",
    "        cell_centers_y = univ_ymin + (candidate_indices[1] + 0.5) * cell_height\n",
    "        \n",
    "        # Calculate distances only for candidate cells\n",
    "        distances = np.sqrt((cell_centers_x - o_center_x)**2 + (cell_centers_y - o_center_y)**2)\n",
    "        \n",
    "        # Create distance mask for accurate filtering\n",
    "        in_range_mask = (distances >= min_distance) & (distances <= max_distance)\n",
    "        \n",
    "        # Sum objects only from cells that are truly in range\n",
    "        valid_cells = candidate_indices[0][in_range_mask], candidate_indices[1][in_range_mask]\n",
    "        objects_in_range = np.sum(grid[valid_cells])\n",
    "        \n",
    "        # Add any objects in the inner rectangle when min_distance is 0\n",
    "        if min_distance == 0:\n",
    "            objects_in_range += np.sum(grid[inner_min_i:inner_max_i+1, inner_min_j:inner_max_j+1])\n",
    "        \n",
    "        # Cache and return the result\n",
    "        self.cache[cache_key] = objects_in_range\n",
    "        return objects_in_range\n",
    "    \n",
    "    def evaluate_on_dataset(self, dataset_name, results_file=None, sample_ratio=0.2):\n",
    "        if not results_file:\n",
    "            results_file = f\"../../large_files/resultsDistance/{dataset_name}_results.csv\"\n",
    "        \n",
    "        if not os.path.exists(results_file):\n",
    "            raise ValueError(f\"Results file not found: {results_file}\")\n",
    "        \n",
    "        print(f\"Loading query results from {results_file}\")\n",
    "        sys.stdout.flush()\n",
    "        \n",
    "        # Load results file - assume CSV format with Object MBR, Distance Min, Distance Max, Count MBR\n",
    "        results_df = pd.read_csv(results_file)\n",
    "        \n",
    "        sample_size = max(1, int(len(results_df) * sample_ratio))\n",
    "        print(f\"Using {sample_ratio*100}% sample: {sample_size} out of {len(results_df)} queries\")\n",
    "        sys.stdout.flush()\n",
    "        \n",
    "        sampled_results = results_df.sample(n=sample_size, random_state=42)\n",
    "        \n",
    "        actual_counts = []\n",
    "        estimated_counts = []\n",
    "        estimation_times = []\n",
    "        \n",
    "        # Use simple progress reporting instead of relying solely on tqdm\n",
    "        print(f\"Processing {dataset_name} queries: \", end=\"\", flush=True)\n",
    "        sys.stdout.flush()\n",
    "        \n",
    "        total_queries = len(sampled_results)\n",
    "        progress_step = max(1, total_queries // 10)\n",
    "        \n",
    "        for i, (index, row) in enumerate(sampled_results.iterrows()):\n",
    "            # Show simple progress every 10%\n",
    "            if i % progress_step == 0 or i == total_queries - 1:\n",
    "                progress = (i+1) / total_queries * 100\n",
    "                print(f\"{progress:.1f}%... \", end=\"\", flush=True)\n",
    "                sys.stdout.flush()\n",
    "            \n",
    "            # Parse query parameters - object MBR, min and max distance\n",
    "            object_mbr = self.parse_mbr(row['Object MBR'])\n",
    "            min_distance = row['Distance Min']\n",
    "            max_distance = row['Distance Max']\n",
    "            actual_count = row['Count MBR']\n",
    "            \n",
    "            start_time = time.time()\n",
    "            estimated_count = self.estimate_distance_count(dataset_name, object_mbr, min_distance, max_distance)\n",
    "            end_time = time.time()\n",
    "            \n",
    "            actual_counts.append(actual_count)\n",
    "            estimated_counts.append(estimated_count)\n",
    "            estimation_times.append((end_time - start_time) * 1000)\n",
    "        \n",
    "        print(\"Done!\")\n",
    "        sys.stdout.flush()\n",
    "        \n",
    "        # Convert to arrays for calculations\n",
    "        actual_counts = np.array(actual_counts)\n",
    "        estimated_counts = np.array(estimated_counts)\n",
    "        estimation_times = np.array(estimation_times)\n",
    "        \n",
    "        # Ensure non-negative estimates\n",
    "        estimated_counts = np.maximum(0, estimated_counts)\n",
    "        \n",
    "        # Calculate MAE\n",
    "        mae = mean_absolute_error(actual_counts, estimated_counts)\n",
    "        \n",
    "        # Calculate MAPE with handling for zeros\n",
    "        non_zero_mask = (actual_counts != 0)\n",
    "        zero_mask = ~non_zero_mask\n",
    "        mape_sum = 0\n",
    "        count = len(actual_counts)\n",
    "        \n",
    "        if np.any(non_zero_mask):\n",
    "            mape_sum += np.sum(\n",
    "                np.abs((actual_counts[non_zero_mask] - estimated_counts[non_zero_mask]) / actual_counts[non_zero_mask])\n",
    "            )\n",
    "        \n",
    "        if np.any(zero_mask):\n",
    "            mape_sum += np.sum(np.abs(actual_counts[zero_mask] - estimated_counts[zero_mask]) / 100)\n",
    "        \n",
    "        mape = mape_sum / count if count > 0 else 0\n",
    "        \n",
    "        # Calculate q-score\n",
    "        valid_indices = (actual_counts != 0) & (estimated_counts != 0)\n",
    "        if np.any(valid_indices):\n",
    "            ratios = np.maximum(\n",
    "                estimated_counts[valid_indices] / actual_counts[valid_indices],\n",
    "                actual_counts[valid_indices] / estimated_counts[valid_indices]\n",
    "            )\n",
    "            q_score = np.mean(ratios)\n",
    "        else:\n",
    "            q_score = float('inf')\n",
    "        \n",
    "        avg_time_ms = np.mean(estimation_times) if len(estimation_times) > 0 else 0\n",
    "        \n",
    "        results = {\n",
    "            'Dataset': dataset_name,\n",
    "            'MAE': mae,\n",
    "            'MAPE': mape,\n",
    "            'Q_Score': q_score,\n",
    "            'Avg_Time_ms': avg_time_ms,\n",
    "            'Num_Queries': len(sampled_results),\n",
    "            'Sample_Ratio': sample_ratio\n",
    "        }\n",
    "        \n",
    "        results_df_out = pd.DataFrame([results])\n",
    "        results_df_out.to_csv(\n",
    "            f\"{self.histograms_dir}/results/distance/{dataset_name}_evaluation_sample{int(sample_ratio*100)}.csv\",\n",
    "            index=False\n",
    "        )\n",
    "        \n",
    "        # Generate visualization\n",
    "        self.visualize_results(dataset_name, actual_counts, estimated_counts, sample_ratio)\n",
    "        \n",
    "        print(f\"Evaluation results for {dataset_name} ({sample_ratio*100}% sample):\")\n",
    "        print(f\"  MAE: {mae:.2f}\")\n",
    "        print(f\"  MAPE: {mape:.2%}\")\n",
    "        print(f\"  Q-Score: {q_score:.2f}\")\n",
    "        print(f\"  Avg. Estimation Time: {avg_time_ms:.4f} ms\")\n",
    "        sys.stdout.flush()\n",
    "        \n",
    "        return results\n",
    "    \n",
    "    def visualize_results(self, dataset_name, actual_counts, estimated_counts, sample_ratio=0.2):\n",
    "        plt.figure(figsize=(12, 10))\n",
    "        plt.scatter(actual_counts, estimated_counts, alpha=0.5, s=8)\n",
    "        \n",
    "        max_val = max(np.max(actual_counts), np.max(estimated_counts))\n",
    "        plt.plot([0, max_val], [0, max_val], 'r--', alpha=0.7)\n",
    "        \n",
    "        plt.xlabel('Actual Count')\n",
    "        plt.ylabel('Estimated Count')\n",
    "        plt.title(f'Histogram-based Distance Estimation for {dataset_name} ({int(sample_ratio*100)}% sample)')\n",
    "        plt.grid(True, alpha=0.3)\n",
    "        \n",
    "        out_path = f\"{self.histograms_dir}/visualizations/distance/{dataset_name}_estimation_sample{int(sample_ratio*100)}.png\"\n",
    "        plt.savefig(out_path, dpi=150)\n",
    "        plt.close()\n",
    "        \n",
    "        sample_size = min(100, len(actual_counts))\n",
    "        indices = np.random.choice(len(actual_counts), sample_size, replace=False)\n",
    "        \n",
    "        plt.figure(figsize=(20, 10))\n",
    "        plt.scatter(\n",
    "            range(sample_size),\n",
    "            actual_counts[indices],\n",
    "            label='Actual Count',\n",
    "            s=100, alpha=0.7, marker='o', color='green'\n",
    "        )\n",
    "        plt.scatter(\n",
    "            range(sample_size),\n",
    "            estimated_counts[indices],\n",
    "            label='Histogram Estimate',\n",
    "            s=100, alpha=0.7, marker='x', color='blue'\n",
    "        )\n",
    "        \n",
    "        plt.xlabel('Query Index')\n",
    "        plt.ylabel('Object Count')\n",
    "        plt.title(\n",
    "            f'Histogram Estimation vs. Actual Count for {dataset_name} - '\n",
    "            f'Sample of {sample_size} Queries ({int(sample_ratio*100)}% dataset)'\n",
    "        )\n",
    "        plt.legend()\n",
    "        plt.grid(True, alpha=0.3)\n",
    "        \n",
    "        out_path_comp = f\"{self.histograms_dir}/visualizations/distance/{dataset_name}_comparison_sample{int(sample_ratio*100)}.png\"\n",
    "        plt.savefig(out_path_comp, dpi=150)\n",
    "        plt.close()\n",
    "\n",
    "def evaluate_all_datasets(histograms_dir=\"../../large_files/traditional_methods/histogram\", sample_ratio=0.2):\n",
    "    \"\"\"\n",
    "    Evaluate histogram-based distance estimation on all available datasets sequentially.\n",
    "    Shows progress for each dataset independently.\n",
    "    \"\"\"\n",
    "    print(\"Initializing estimator...\")\n",
    "    sys.stdout.flush()\n",
    "    \n",
    "    estimator = HistogramDistanceEstimator(histograms_dir)\n",
    "    dataset_names = list(estimator.histograms.keys())\n",
    "    \n",
    "    print(f\"Found {len(dataset_names)} datasets to evaluate\")\n",
    "    sys.stdout.flush()\n",
    "    \n",
    "    all_results = []\n",
    "    \n",
    "    # Process each dataset with clear separation\n",
    "    for idx, dataset_name in enumerate(dataset_names, start=1):\n",
    "        print(\"\\n\" + \"=\"*80)\n",
    "        print(f\"DATASET {idx}/{len(dataset_names)}: {dataset_name}\")\n",
    "        print(\"=\"*80)\n",
    "        sys.stdout.flush()\n",
    "        \n",
    "        try:\n",
    "            results = estimator.evaluate_on_dataset(dataset_name, sample_ratio=sample_ratio)\n",
    "            all_results.append(results)\n",
    "            print(f\"Finished processing {dataset_name} ({idx}/{len(dataset_names)})\")\n",
    "            sys.stdout.flush()\n",
    "        except Exception as e:\n",
    "            print(f\"Error evaluating {dataset_name}: {e}\")\n",
    "            sys.stdout.flush()\n",
    "    \n",
    "    # Combine and save results\n",
    "    if all_results:\n",
    "        all_results_df = pd.DataFrame(all_results)\n",
    "        out_file = f\"{histograms_dir}/results/distance/all_datasets_evaluation_sample{int(sample_ratio*100)}.csv\"\n",
    "        all_results_df.to_csv(out_file, index=False)\n",
    "        print(\"\\nCombined results:\")\n",
    "        print(all_results_df)\n",
    "    else:\n",
    "        print(\"No results were generated\")\n",
    "    \n",
    "    sys.stdout.flush()\n",
    "\n",
    "if __name__ == \"__main__\":\n",
    "    evaluate_all_datasets(sample_ratio=0.2)\n",
    "    print(\"Histogram-based distance estimation evaluation complete!\")"
   ]
  }
 ],
 "metadata": {
  "language_info": {
   "codemirror_mode": {
    "name": "ipython",
    "version": 3
   },
   "file_extension": ".py",
   "mimetype": "text/x-python",
   "name": "python",
   "nbconvert_exporter": "python",
   "pygments_lexer": "ipython3",
   "version": "3.12.2"
  },
  "papermill": {
   "default_parameters": {},
   "duration": 3197.088935,
   "end_time": "2025-03-27T18:15:25.986861",
   "environment_variables": {},
   "exception": null,
   "input_path": "/home/adminlias/nadir/Spatial-Selectivity-Ext/traditional_methods/histogram/histogram-distance-estimator.ipynb",
   "output_path": "/home/adminlias/nadir/Spatial-Selectivity-Ext/traditional_methods/histogram/output_histogram-distance-estimator.ipynb",
   "parameters": {},
   "start_time": "2025-03-27T17:22:08.897926",
   "version": "2.6.0"
  }
 },
 "nbformat": 4,
 "nbformat_minor": 5
}