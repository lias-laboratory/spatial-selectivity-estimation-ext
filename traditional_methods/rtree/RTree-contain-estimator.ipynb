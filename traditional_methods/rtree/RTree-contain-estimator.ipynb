{
 "cells": [
  {
   "cell_type": "code",
   "execution_count": 1,
   "id": "0f4d79aa",
   "metadata": {
    "execution": {
     "iopub.execute_input": "2025-03-27T08:11:13.505189Z",
     "iopub.status.busy": "2025-03-27T08:11:13.504634Z",
     "iopub.status.idle": "2025-03-27T08:19:48.214485Z",
     "shell.execute_reply": "2025-03-27T08:19:48.213592Z"
    },
    "papermill": {
     "duration": 514.71962,
     "end_time": "2025-03-27T08:19:48.217507",
     "exception": false,
     "start_time": "2025-03-27T08:11:13.497887",
     "status": "completed"
    },
    "tags": []
   },
   "outputs": [
    {
     "name": "stdout",
     "output_type": "stream",
     "text": [
      "Initializing R-tree estimator...\n"
     ]
    },
    {
     "name": "stdout",
     "output_type": "stream",
     "text": [
      "Loaded metadata for 14 datasets\n"
     ]
    },
    {
     "name": "stdout",
     "output_type": "stream",
     "text": [
      "Loaded 14 pre-built R-tree models\n"
     ]
    },
    {
     "name": "stdout",
     "output_type": "stream",
     "text": [
      "Found 14 pre-built R-tree models to evaluate\n"
     ]
    },
    {
     "name": "stdout",
     "output_type": "stream",
     "text": [
      "\n",
      "================================================================================\n",
      "DATASET 1/14: yago2\n",
      "================================================================================\n"
     ]
    },
    {
     "name": "stdout",
     "output_type": "stream",
     "text": [
      "Loading query results from ../../large_files/resultsContains/yago2_results.csv\n"
     ]
    },
    {
     "name": "stdout",
     "output_type": "stream",
     "text": [
      "Using 20.0% sample: 179788 out of 898942 queries\n"
     ]
    },
    {
     "name": "stdout",
     "output_type": "stream",
     "text": [
      "Processing yago2 queries: "
     ]
    },
    {
     "name": "stdout",
     "output_type": "stream",
     "text": [
      "0.0%... "
     ]
    },
    {
     "name": "stdout",
     "output_type": "stream",
     "text": [
      "10.0%... "
     ]
    },
    {
     "name": "stdout",
     "output_type": "stream",
     "text": [
      "20.0%... "
     ]
    },
    {
     "name": "stdout",
     "output_type": "stream",
     "text": [
      "30.0%... "
     ]
    },
    {
     "name": "stdout",
     "output_type": "stream",
     "text": [
      "40.0%... "
     ]
    },
    {
     "name": "stdout",
     "output_type": "stream",
     "text": [
      "50.0%... "
     ]
    },
    {
     "name": "stdout",
     "output_type": "stream",
     "text": [
      "60.0%... "
     ]
    },
    {
     "name": "stdout",
     "output_type": "stream",
     "text": [
      "70.0%... "
     ]
    },
    {
     "name": "stdout",
     "output_type": "stream",
     "text": [
      "80.0%... "
     ]
    },
    {
     "name": "stdout",
     "output_type": "stream",
     "text": [
      "90.0%... "
     ]
    },
    {
     "name": "stdout",
     "output_type": "stream",
     "text": [
      "100.0%... "
     ]
    },
    {
     "name": "stdout",
     "output_type": "stream",
     "text": [
      "100.0%... "
     ]
    },
    {
     "name": "stdout",
     "output_type": "stream",
     "text": [
      "Done!\n"
     ]
    },
    {
     "name": "stdout",
     "output_type": "stream",
     "text": [
      "Evaluation results for yago2 (20.0% sample):\n",
      "  MAE: 5245.94\n",
      "  MAPE: 1997.72%\n",
      "  Q-Score: 24.24\n",
      "  Avg. Estimation Time: 0.0544 ms\n",
      "  Model Size: 294.98 MB\n",
      "  Num Level Nodes: 305\n"
     ]
    },
    {
     "name": "stdout",
     "output_type": "stream",
     "text": [
      "Finished processing yago2 (1/14)\n"
     ]
    },
    {
     "name": "stdout",
     "output_type": "stream",
     "text": [
      "\n",
      "================================================================================\n",
      "DATASET 2/14: craftwaysorted\n",
      "================================================================================\n"
     ]
    },
    {
     "name": "stdout",
     "output_type": "stream",
     "text": [
      "Loading query results from ../../large_files/resultsContains/craftwaysorted_results.csv\n"
     ]
    },
    {
     "name": "stdout",
     "output_type": "stream",
     "text": [
      "Using 20.0% sample: 4364 out of 21822 queries\n"
     ]
    },
    {
     "name": "stdout",
     "output_type": "stream",
     "text": [
      "Processing craftwaysorted queries: "
     ]
    },
    {
     "name": "stdout",
     "output_type": "stream",
     "text": [
      "0.0%... "
     ]
    },
    {
     "name": "stdout",
     "output_type": "stream",
     "text": [
      "10.0%... "
     ]
    },
    {
     "name": "stdout",
     "output_type": "stream",
     "text": [
      "20.0%... "
     ]
    },
    {
     "name": "stdout",
     "output_type": "stream",
     "text": [
      "30.0%... "
     ]
    },
    {
     "name": "stdout",
     "output_type": "stream",
     "text": [
      "40.0%... "
     ]
    },
    {
     "name": "stdout",
     "output_type": "stream",
     "text": [
      "50.0%... "
     ]
    },
    {
     "name": "stdout",
     "output_type": "stream",
     "text": [
      "60.0%... "
     ]
    },
    {
     "name": "stdout",
     "output_type": "stream",
     "text": [
      "70.0%... "
     ]
    },
    {
     "name": "stdout",
     "output_type": "stream",
     "text": [
      "79.9%... "
     ]
    },
    {
     "name": "stdout",
     "output_type": "stream",
     "text": [
      "89.9%... "
     ]
    },
    {
     "name": "stdout",
     "output_type": "stream",
     "text": [
      "99.9%... "
     ]
    },
    {
     "name": "stdout",
     "output_type": "stream",
     "text": [
      "100.0%... "
     ]
    },
    {
     "name": "stdout",
     "output_type": "stream",
     "text": [
      "Done!\n"
     ]
    },
    {
     "name": "stdout",
     "output_type": "stream",
     "text": [
      "Evaluation results for craftwaysorted (20.0% sample):\n",
      "  MAE: 1244.86\n",
      "  MAPE: 487.85%\n",
      "  Q-Score: 11.71\n",
      "  Avg. Estimation Time: 0.0105 ms\n",
      "  Model Size: 6.90 MB\n",
      "  Num Level Nodes: 9\n"
     ]
    },
    {
     "name": "stdout",
     "output_type": "stream",
     "text": [
      "Finished processing craftwaysorted (2/14)\n"
     ]
    },
    {
     "name": "stdout",
     "output_type": "stream",
     "text": [
      "\n",
      "================================================================================\n",
      "DATASET 3/14: zcta5\n",
      "================================================================================\n"
     ]
    },
    {
     "name": "stdout",
     "output_type": "stream",
     "text": [
      "Loading query results from ../../large_files/resultsContains/zcta5_results.csv\n"
     ]
    },
    {
     "name": "stdout",
     "output_type": "stream",
     "text": [
      "Using 20.0% sample: 1325 out of 6626 queries\n"
     ]
    },
    {
     "name": "stdout",
     "output_type": "stream",
     "text": [
      "Processing zcta5 queries: "
     ]
    },
    {
     "name": "stdout",
     "output_type": "stream",
     "text": [
      "0.1%... "
     ]
    },
    {
     "name": "stdout",
     "output_type": "stream",
     "text": [
      "10.0%... "
     ]
    },
    {
     "name": "stdout",
     "output_type": "stream",
     "text": [
      "20.0%... "
     ]
    },
    {
     "name": "stdout",
     "output_type": "stream",
     "text": [
      "30.0%... "
     ]
    },
    {
     "name": "stdout",
     "output_type": "stream",
     "text": [
      "39.9%... "
     ]
    },
    {
     "name": "stdout",
     "output_type": "stream",
     "text": [
      "49.9%... "
     ]
    },
    {
     "name": "stdout",
     "output_type": "stream",
     "text": [
      "59.8%... "
     ]
    },
    {
     "name": "stdout",
     "output_type": "stream",
     "text": [
      "69.8%... "
     ]
    },
    {
     "name": "stdout",
     "output_type": "stream",
     "text": [
      "79.8%... "
     ]
    },
    {
     "name": "stdout",
     "output_type": "stream",
     "text": [
      "89.7%... "
     ]
    },
    {
     "name": "stdout",
     "output_type": "stream",
     "text": [
      "99.7%... "
     ]
    },
    {
     "name": "stdout",
     "output_type": "stream",
     "text": [
      "100.0%... "
     ]
    },
    {
     "name": "stdout",
     "output_type": "stream",
     "text": [
      "Done!\n"
     ]
    },
    {
     "name": "stdout",
     "output_type": "stream",
     "text": [
      "Evaluation results for zcta5 (20.0% sample):\n",
      "  MAE: 436.55\n",
      "  MAPE: 350.92%\n",
      "  Q-Score: 22.36\n",
      "  Avg. Estimation Time: 0.0096 ms\n",
      "  Model Size: 2.20 MB\n",
      "  Num Level Nodes: 3\n"
     ]
    },
    {
     "name": "stdout",
     "output_type": "stream",
     "text": [
      "Finished processing zcta5 (3/14)\n"
     ]
    },
    {
     "name": "stdout",
     "output_type": "stream",
     "text": [
      "\n",
      "================================================================================\n",
      "DATASET 4/14: areawater\n",
      "================================================================================\n"
     ]
    },
    {
     "name": "stdout",
     "output_type": "stream",
     "text": [
      "Loading query results from ../../large_files/resultsContains/areawater_results.csv\n"
     ]
    },
    {
     "name": "stdout",
     "output_type": "stream",
     "text": [
      "Using 20.0% sample: 91710 out of 458552 queries\n"
     ]
    },
    {
     "name": "stdout",
     "output_type": "stream",
     "text": [
      "Processing areawater queries: "
     ]
    },
    {
     "name": "stdout",
     "output_type": "stream",
     "text": [
      "0.0%... "
     ]
    },
    {
     "name": "stdout",
     "output_type": "stream",
     "text": [
      "10.0%... "
     ]
    },
    {
     "name": "stdout",
     "output_type": "stream",
     "text": [
      "20.0%... "
     ]
    },
    {
     "name": "stdout",
     "output_type": "stream",
     "text": [
      "30.0%... "
     ]
    },
    {
     "name": "stdout",
     "output_type": "stream",
     "text": [
      "40.0%... "
     ]
    },
    {
     "name": "stdout",
     "output_type": "stream",
     "text": [
      "50.0%... "
     ]
    },
    {
     "name": "stdout",
     "output_type": "stream",
     "text": [
      "60.0%... "
     ]
    },
    {
     "name": "stdout",
     "output_type": "stream",
     "text": [
      "70.0%... "
     ]
    },
    {
     "name": "stdout",
     "output_type": "stream",
     "text": [
      "80.0%... "
     ]
    },
    {
     "name": "stdout",
     "output_type": "stream",
     "text": [
      "90.0%... "
     ]
    },
    {
     "name": "stdout",
     "output_type": "stream",
     "text": [
      "100.0%... "
     ]
    },
    {
     "name": "stdout",
     "output_type": "stream",
     "text": [
      "Done!\n"
     ]
    },
    {
     "name": "stdout",
     "output_type": "stream",
     "text": [
      "Evaluation results for areawater (20.0% sample):\n",
      "  MAE: 5165.49\n",
      "  MAPE: 710.55%\n",
      "  Q-Score: 23.43\n",
      "  Avg. Estimation Time: 0.0118 ms\n",
      "  Model Size: 146.79 MB\n",
      "  Num Level Nodes: 26\n"
     ]
    },
    {
     "name": "stdout",
     "output_type": "stream",
     "text": [
      "Finished processing areawater (4/14)\n"
     ]
    },
    {
     "name": "stdout",
     "output_type": "stream",
     "text": [
      "\n",
      "================================================================================\n",
      "DATASET 5/14: aerowaythingnodesorted\n",
      "================================================================================\n"
     ]
    },
    {
     "name": "stdout",
     "output_type": "stream",
     "text": [
      "Loading query results from ../../large_files/resultsContains/aerowaythingnodesorted_results.csv\n"
     ]
    },
    {
     "name": "stdout",
     "output_type": "stream",
     "text": [
      "Using 20.0% sample: 3168 out of 15843 queries\n"
     ]
    },
    {
     "name": "stdout",
     "output_type": "stream",
     "text": [
      "Processing aerowaythingnodesorted queries: "
     ]
    },
    {
     "name": "stdout",
     "output_type": "stream",
     "text": [
      "0.0%... "
     ]
    },
    {
     "name": "stdout",
     "output_type": "stream",
     "text": [
      "10.0%... "
     ]
    },
    {
     "name": "stdout",
     "output_type": "stream",
     "text": [
      "20.0%... "
     ]
    },
    {
     "name": "stdout",
     "output_type": "stream",
     "text": [
      "30.0%... "
     ]
    },
    {
     "name": "stdout",
     "output_type": "stream",
     "text": [
      "39.9%... "
     ]
    },
    {
     "name": "stdout",
     "output_type": "stream",
     "text": [
      "49.9%... "
     ]
    },
    {
     "name": "stdout",
     "output_type": "stream",
     "text": [
      "59.9%... "
     ]
    },
    {
     "name": "stdout",
     "output_type": "stream",
     "text": [
      "69.9%... "
     ]
    },
    {
     "name": "stdout",
     "output_type": "stream",
     "text": [
      "79.8%... "
     ]
    },
    {
     "name": "stdout",
     "output_type": "stream",
     "text": [
      "89.8%... "
     ]
    },
    {
     "name": "stdout",
     "output_type": "stream",
     "text": [
      "99.8%... "
     ]
    },
    {
     "name": "stdout",
     "output_type": "stream",
     "text": [
      "100.0%... "
     ]
    },
    {
     "name": "stdout",
     "output_type": "stream",
     "text": [
      "Done!\n"
     ]
    },
    {
     "name": "stdout",
     "output_type": "stream",
     "text": [
      "Evaluation results for aerowaythingnodesorted (20.0% sample):\n",
      "  MAE: 722.70\n",
      "  MAPE: 1377.19%\n",
      "  Q-Score: 22.84\n",
      "  Avg. Estimation Time: 0.0097 ms\n",
      "  Model Size: 5.09 MB\n",
      "  Num Level Nodes: 4\n"
     ]
    },
    {
     "name": "stdout",
     "output_type": "stream",
     "text": [
      "Finished processing aerowaythingnodesorted (5/14)\n"
     ]
    },
    {
     "name": "stdout",
     "output_type": "stream",
     "text": [
      "\n",
      "================================================================================\n",
      "DATASET 6/14: emergencythingwaysorted\n",
      "================================================================================\n"
     ]
    },
    {
     "name": "stdout",
     "output_type": "stream",
     "text": [
      "Loading query results from ../../large_files/resultsContains/emergencythingwaysorted_results.csv\n"
     ]
    },
    {
     "name": "stdout",
     "output_type": "stream",
     "text": [
      "Using 20.0% sample: 32302 out of 161514 queries\n"
     ]
    },
    {
     "name": "stdout",
     "output_type": "stream",
     "text": [
      "Processing emergencythingwaysorted queries: "
     ]
    },
    {
     "name": "stdout",
     "output_type": "stream",
     "text": [
      "0.0%... "
     ]
    },
    {
     "name": "stdout",
     "output_type": "stream",
     "text": [
      "10.0%... "
     ]
    },
    {
     "name": "stdout",
     "output_type": "stream",
     "text": [
      "20.0%... "
     ]
    },
    {
     "name": "stdout",
     "output_type": "stream",
     "text": [
      "30.0%... "
     ]
    },
    {
     "name": "stdout",
     "output_type": "stream",
     "text": [
      "40.0%... "
     ]
    },
    {
     "name": "stdout",
     "output_type": "stream",
     "text": [
      "50.0%... "
     ]
    },
    {
     "name": "stdout",
     "output_type": "stream",
     "text": [
      "60.0%... "
     ]
    },
    {
     "name": "stdout",
     "output_type": "stream",
     "text": [
      "70.0%... "
     ]
    },
    {
     "name": "stdout",
     "output_type": "stream",
     "text": [
      "80.0%... "
     ]
    },
    {
     "name": "stdout",
     "output_type": "stream",
     "text": [
      "90.0%... "
     ]
    },
    {
     "name": "stdout",
     "output_type": "stream",
     "text": [
      "100.0%... "
     ]
    },
    {
     "name": "stdout",
     "output_type": "stream",
     "text": [
      "100.0%... "
     ]
    },
    {
     "name": "stdout",
     "output_type": "stream",
     "text": [
      "Done!\n"
     ]
    },
    {
     "name": "stdout",
     "output_type": "stream",
     "text": [
      "Evaluation results for emergencythingwaysorted (20.0% sample):\n",
      "  MAE: 4587.40\n",
      "  MAPE: 1077.24%\n",
      "  Q-Score: 19.13\n",
      "  Avg. Estimation Time: 0.0187 ms\n",
      "  Model Size: 51.57 MB\n",
      "  Num Level Nodes: 58\n"
     ]
    },
    {
     "name": "stdout",
     "output_type": "stream",
     "text": [
      "Finished processing emergencythingwaysorted (6/14)\n"
     ]
    },
    {
     "name": "stdout",
     "output_type": "stream",
     "text": [
      "\n",
      "================================================================================\n",
      "DATASET 7/14: historicthingwaysorted\n",
      "================================================================================\n"
     ]
    },
    {
     "name": "stdout",
     "output_type": "stream",
     "text": [
      "Loading query results from ../../large_files/resultsContains/historicthingwaysorted_results.csv\n"
     ]
    },
    {
     "name": "stdout",
     "output_type": "stream",
     "text": [
      "Using 20.0% sample: 71687 out of 358439 queries\n"
     ]
    },
    {
     "name": "stdout",
     "output_type": "stream",
     "text": [
      "Processing historicthingwaysorted queries: "
     ]
    },
    {
     "name": "stdout",
     "output_type": "stream",
     "text": [
      "0.0%... "
     ]
    },
    {
     "name": "stdout",
     "output_type": "stream",
     "text": [
      "10.0%... "
     ]
    },
    {
     "name": "stdout",
     "output_type": "stream",
     "text": [
      "20.0%... "
     ]
    },
    {
     "name": "stdout",
     "output_type": "stream",
     "text": [
      "30.0%... "
     ]
    },
    {
     "name": "stdout",
     "output_type": "stream",
     "text": [
      "40.0%... "
     ]
    },
    {
     "name": "stdout",
     "output_type": "stream",
     "text": [
      "50.0%... "
     ]
    },
    {
     "name": "stdout",
     "output_type": "stream",
     "text": [
      "60.0%... "
     ]
    },
    {
     "name": "stdout",
     "output_type": "stream",
     "text": [
      "70.0%... "
     ]
    },
    {
     "name": "stdout",
     "output_type": "stream",
     "text": [
      "80.0%... "
     ]
    },
    {
     "name": "stdout",
     "output_type": "stream",
     "text": [
      "90.0%... "
     ]
    },
    {
     "name": "stdout",
     "output_type": "stream",
     "text": [
      "100.0%... "
     ]
    },
    {
     "name": "stdout",
     "output_type": "stream",
     "text": [
      "100.0%... "
     ]
    },
    {
     "name": "stdout",
     "output_type": "stream",
     "text": [
      "Done!\n"
     ]
    },
    {
     "name": "stdout",
     "output_type": "stream",
     "text": [
      "Evaluation results for historicthingwaysorted (20.0% sample):\n",
      "  MAE: 5735.39\n",
      "  MAPE: 352.54%\n",
      "  Q-Score: 6.64\n",
      "  Avg. Estimation Time: 0.0231 ms\n",
      "  Model Size: 114.03 MB\n",
      "  Num Level Nodes: 94\n"
     ]
    },
    {
     "name": "stdout",
     "output_type": "stream",
     "text": [
      "Finished processing historicthingwaysorted (7/14)\n"
     ]
    },
    {
     "name": "stdout",
     "output_type": "stream",
     "text": [
      "\n",
      "================================================================================\n",
      "DATASET 8/14: aerowaythingwaysorted\n",
      "================================================================================\n"
     ]
    },
    {
     "name": "stdout",
     "output_type": "stream",
     "text": [
      "Loading query results from ../../large_files/resultsContains/aerowaythingwaysorted_results.csv\n"
     ]
    },
    {
     "name": "stdout",
     "output_type": "stream",
     "text": [
      "Using 20.0% sample: 73673 out of 368365 queries\n"
     ]
    },
    {
     "name": "stdout",
     "output_type": "stream",
     "text": [
      "Processing aerowaythingwaysorted queries: "
     ]
    },
    {
     "name": "stdout",
     "output_type": "stream",
     "text": [
      "0.0%... "
     ]
    },
    {
     "name": "stdout",
     "output_type": "stream",
     "text": [
      "10.0%... "
     ]
    },
    {
     "name": "stdout",
     "output_type": "stream",
     "text": [
      "20.0%... "
     ]
    },
    {
     "name": "stdout",
     "output_type": "stream",
     "text": [
      "30.0%... "
     ]
    },
    {
     "name": "stdout",
     "output_type": "stream",
     "text": [
      "40.0%... "
     ]
    },
    {
     "name": "stdout",
     "output_type": "stream",
     "text": [
      "50.0%... "
     ]
    },
    {
     "name": "stdout",
     "output_type": "stream",
     "text": [
      "60.0%... "
     ]
    },
    {
     "name": "stdout",
     "output_type": "stream",
     "text": [
      "70.0%... "
     ]
    },
    {
     "name": "stdout",
     "output_type": "stream",
     "text": [
      "80.0%... "
     ]
    },
    {
     "name": "stdout",
     "output_type": "stream",
     "text": [
      "90.0%... "
     ]
    },
    {
     "name": "stdout",
     "output_type": "stream",
     "text": [
      "100.0%... "
     ]
    },
    {
     "name": "stdout",
     "output_type": "stream",
     "text": [
      "100.0%... "
     ]
    },
    {
     "name": "stdout",
     "output_type": "stream",
     "text": [
      "Done!\n"
     ]
    },
    {
     "name": "stdout",
     "output_type": "stream",
     "text": [
      "Evaluation results for aerowaythingwaysorted (20.0% sample):\n",
      "  MAE: 3645.49\n",
      "  MAPE: 492.99%\n",
      "  Q-Score: 7.65\n",
      "  Avg. Estimation Time: 0.0258 ms\n",
      "  Model Size: 116.49 MB\n",
      "  Num Level Nodes: 113\n"
     ]
    },
    {
     "name": "stdout",
     "output_type": "stream",
     "text": [
      "Finished processing aerowaythingwaysorted (8/14)\n"
     ]
    },
    {
     "name": "stdout",
     "output_type": "stream",
     "text": [
      "\n",
      "================================================================================\n",
      "DATASET 9/14: cyclewaythingwaysorted\n",
      "================================================================================\n"
     ]
    },
    {
     "name": "stdout",
     "output_type": "stream",
     "text": [
      "Loading query results from ../../large_files/resultsContains/cyclewaythingwaysorted_results.csv\n"
     ]
    },
    {
     "name": "stdout",
     "output_type": "stream",
     "text": [
      "Using 20.0% sample: 213412 out of 1067063 queries\n"
     ]
    },
    {
     "name": "stdout",
     "output_type": "stream",
     "text": [
      "Processing cyclewaythingwaysorted queries: "
     ]
    },
    {
     "name": "stdout",
     "output_type": "stream",
     "text": [
      "0.0%... "
     ]
    },
    {
     "name": "stdout",
     "output_type": "stream",
     "text": [
      "10.0%... "
     ]
    },
    {
     "name": "stdout",
     "output_type": "stream",
     "text": [
      "20.0%... "
     ]
    },
    {
     "name": "stdout",
     "output_type": "stream",
     "text": [
      "30.0%... "
     ]
    },
    {
     "name": "stdout",
     "output_type": "stream",
     "text": [
      "40.0%... "
     ]
    },
    {
     "name": "stdout",
     "output_type": "stream",
     "text": [
      "50.0%... "
     ]
    },
    {
     "name": "stdout",
     "output_type": "stream",
     "text": [
      "60.0%... "
     ]
    },
    {
     "name": "stdout",
     "output_type": "stream",
     "text": [
      "70.0%... "
     ]
    },
    {
     "name": "stdout",
     "output_type": "stream",
     "text": [
      "80.0%... "
     ]
    },
    {
     "name": "stdout",
     "output_type": "stream",
     "text": [
      "90.0%... "
     ]
    },
    {
     "name": "stdout",
     "output_type": "stream",
     "text": [
      "100.0%... "
     ]
    },
    {
     "name": "stdout",
     "output_type": "stream",
     "text": [
      "100.0%... "
     ]
    },
    {
     "name": "stdout",
     "output_type": "stream",
     "text": [
      "Done!\n"
     ]
    },
    {
     "name": "stdout",
     "output_type": "stream",
     "text": [
      "Evaluation results for cyclewaythingwaysorted (20.0% sample):\n",
      "  MAE: 9123.15\n",
      "  MAPE: 1065.43%\n",
      "  Q-Score: 19.01\n",
      "  Avg. Estimation Time: 0.0336 ms\n",
      "  Model Size: 336.85 MB\n",
      "  Num Level Nodes: 170\n"
     ]
    },
    {
     "name": "stdout",
     "output_type": "stream",
     "text": [
      "Finished processing cyclewaythingwaysorted (9/14)\n"
     ]
    },
    {
     "name": "stdout",
     "output_type": "stream",
     "text": [
      "\n",
      "================================================================================\n",
      "DATASET 10/14: powerthingwaysorted\n",
      "================================================================================\n"
     ]
    },
    {
     "name": "stdout",
     "output_type": "stream",
     "text": [
      "Loading query results from ../../large_files/resultsContains/powerthingwaysorted_results.csv\n"
     ]
    },
    {
     "name": "stdout",
     "output_type": "stream",
     "text": [
      "Using 20.0% sample: 543457 out of 2717289 queries\n"
     ]
    },
    {
     "name": "stdout",
     "output_type": "stream",
     "text": [
      "Processing powerthingwaysorted queries: "
     ]
    },
    {
     "name": "stdout",
     "output_type": "stream",
     "text": [
      "0.0%... "
     ]
    },
    {
     "name": "stdout",
     "output_type": "stream",
     "text": [
      "10.0%... "
     ]
    },
    {
     "name": "stdout",
     "output_type": "stream",
     "text": [
      "20.0%... "
     ]
    },
    {
     "name": "stdout",
     "output_type": "stream",
     "text": [
      "30.0%... "
     ]
    },
    {
     "name": "stdout",
     "output_type": "stream",
     "text": [
      "40.0%... "
     ]
    },
    {
     "name": "stdout",
     "output_type": "stream",
     "text": [
      "50.0%... "
     ]
    },
    {
     "name": "stdout",
     "output_type": "stream",
     "text": [
      "60.0%... "
     ]
    },
    {
     "name": "stdout",
     "output_type": "stream",
     "text": [
      "70.0%... "
     ]
    },
    {
     "name": "stdout",
     "output_type": "stream",
     "text": [
      "80.0%... "
     ]
    },
    {
     "name": "stdout",
     "output_type": "stream",
     "text": [
      "90.0%... "
     ]
    },
    {
     "name": "stdout",
     "output_type": "stream",
     "text": [
      "100.0%... "
     ]
    },
    {
     "name": "stdout",
     "output_type": "stream",
     "text": [
      "100.0%... "
     ]
    },
    {
     "name": "stdout",
     "output_type": "stream",
     "text": [
      "Done!\n"
     ]
    },
    {
     "name": "stdout",
     "output_type": "stream",
     "text": [
      "Evaluation results for powerthingwaysorted (20.0% sample):\n",
      "  MAE: 8844.95\n",
      "  MAPE: 598.99%\n",
      "  Q-Score: 9.42\n",
      "  Avg. Estimation Time: 0.0655 ms\n",
      "  Model Size: 874.03 MB\n",
      "  Num Level Nodes: 403\n"
     ]
    },
    {
     "name": "stdout",
     "output_type": "stream",
     "text": [
      "Finished processing powerthingwaysorted (10/14)\n"
     ]
    },
    {
     "name": "stdout",
     "output_type": "stream",
     "text": [
      "\n",
      "================================================================================\n",
      "DATASET 11/14: leisurewaysorted\n",
      "================================================================================\n"
     ]
    },
    {
     "name": "stdout",
     "output_type": "stream",
     "text": [
      "Loading query results from ../../large_files/resultsContains/leisurewaysorted_results.csv\n"
     ]
    },
    {
     "name": "stdout",
     "output_type": "stream",
     "text": [
      "Using 20.0% sample: 1000000 out of 5000000 queries\n"
     ]
    },
    {
     "name": "stdout",
     "output_type": "stream",
     "text": [
      "Processing leisurewaysorted queries: "
     ]
    },
    {
     "name": "stdout",
     "output_type": "stream",
     "text": [
      "0.0%... "
     ]
    },
    {
     "name": "stdout",
     "output_type": "stream",
     "text": [
      "10.0%... "
     ]
    },
    {
     "name": "stdout",
     "output_type": "stream",
     "text": [
      "20.0%... "
     ]
    },
    {
     "name": "stdout",
     "output_type": "stream",
     "text": [
      "30.0%... "
     ]
    },
    {
     "name": "stdout",
     "output_type": "stream",
     "text": [
      "40.0%... "
     ]
    },
    {
     "name": "stdout",
     "output_type": "stream",
     "text": [
      "50.0%... "
     ]
    },
    {
     "name": "stdout",
     "output_type": "stream",
     "text": [
      "60.0%... "
     ]
    },
    {
     "name": "stdout",
     "output_type": "stream",
     "text": [
      "70.0%... "
     ]
    },
    {
     "name": "stdout",
     "output_type": "stream",
     "text": [
      "80.0%... "
     ]
    },
    {
     "name": "stdout",
     "output_type": "stream",
     "text": [
      "90.0%... "
     ]
    },
    {
     "name": "stdout",
     "output_type": "stream",
     "text": [
      "100.0%... "
     ]
    },
    {
     "name": "stdout",
     "output_type": "stream",
     "text": [
      "Done!\n"
     ]
    },
    {
     "name": "stdout",
     "output_type": "stream",
     "text": [
      "Evaluation results for leisurewaysorted (20.0% sample):\n",
      "  MAE: 16165.27\n",
      "  MAPE: 458.89%\n",
      "  Q-Score: 7.54\n",
      "  Avg. Estimation Time: 0.1054 ms\n",
      "  Model Size: 1866.94 MB\n",
      "  Num Level Nodes: 687\n"
     ]
    },
    {
     "name": "stdout",
     "output_type": "stream",
     "text": [
      "Finished processing leisurewaysorted (11/14)\n"
     ]
    },
    {
     "name": "stdout",
     "output_type": "stream",
     "text": [
      "\n",
      "================================================================================\n",
      "DATASET 12/14: barrierthingwaysorted\n",
      "================================================================================\n"
     ]
    },
    {
     "name": "stdout",
     "output_type": "stream",
     "text": [
      "Loading query results from ../../large_files/resultsContains/barrierthingwaysorted_results.csv\n"
     ]
    },
    {
     "name": "stdout",
     "output_type": "stream",
     "text": [
      "Using 20.0% sample: 916334 out of 4581670 queries\n"
     ]
    },
    {
     "name": "stdout",
     "output_type": "stream",
     "text": [
      "Processing barrierthingwaysorted queries: "
     ]
    },
    {
     "name": "stdout",
     "output_type": "stream",
     "text": [
      "0.0%... "
     ]
    },
    {
     "name": "stdout",
     "output_type": "stream",
     "text": [
      "10.0%... "
     ]
    },
    {
     "name": "stdout",
     "output_type": "stream",
     "text": [
      "20.0%... "
     ]
    },
    {
     "name": "stdout",
     "output_type": "stream",
     "text": [
      "30.0%... "
     ]
    },
    {
     "name": "stdout",
     "output_type": "stream",
     "text": [
      "40.0%... "
     ]
    },
    {
     "name": "stdout",
     "output_type": "stream",
     "text": [
      "50.0%... "
     ]
    },
    {
     "name": "stdout",
     "output_type": "stream",
     "text": [
      "60.0%... "
     ]
    },
    {
     "name": "stdout",
     "output_type": "stream",
     "text": [
      "70.0%... "
     ]
    },
    {
     "name": "stdout",
     "output_type": "stream",
     "text": [
      "80.0%... "
     ]
    },
    {
     "name": "stdout",
     "output_type": "stream",
     "text": [
      "90.0%... "
     ]
    },
    {
     "name": "stdout",
     "output_type": "stream",
     "text": [
      "100.0%... "
     ]
    },
    {
     "name": "stdout",
     "output_type": "stream",
     "text": [
      "100.0%... "
     ]
    },
    {
     "name": "stdout",
     "output_type": "stream",
     "text": [
      "Done!\n"
     ]
    },
    {
     "name": "stdout",
     "output_type": "stream",
     "text": [
      "Evaluation results for barrierthingwaysorted (20.0% sample):\n",
      "  MAE: 16560.78\n",
      "  MAPE: 377.49%\n",
      "  Q-Score: 6.52\n",
      "  Avg. Estimation Time: 0.0909 ms\n",
      "  Model Size: 1456.06 MB\n",
      "  Num Level Nodes: 569\n"
     ]
    },
    {
     "name": "stdout",
     "output_type": "stream",
     "text": [
      "Finished processing barrierthingwaysorted (12/14)\n"
     ]
    },
    {
     "name": "stdout",
     "output_type": "stream",
     "text": [
      "\n",
      "================================================================================\n",
      "DATASET 13/14: powerthingnodesorted\n",
      "================================================================================\n"
     ]
    },
    {
     "name": "stdout",
     "output_type": "stream",
     "text": [
      "Loading query results from ../../large_files/resultsContains/powerthingnodesorted_results.csv\n"
     ]
    },
    {
     "name": "stdout",
     "output_type": "stream",
     "text": [
      "Using 20.0% sample: 420502 out of 2102514 queries\n"
     ]
    },
    {
     "name": "stdout",
     "output_type": "stream",
     "text": [
      "Processing powerthingnodesorted queries: "
     ]
    },
    {
     "name": "stdout",
     "output_type": "stream",
     "text": [
      "0.0%... "
     ]
    },
    {
     "name": "stdout",
     "output_type": "stream",
     "text": [
      "10.0%... "
     ]
    },
    {
     "name": "stdout",
     "output_type": "stream",
     "text": [
      "20.0%... "
     ]
    },
    {
     "name": "stdout",
     "output_type": "stream",
     "text": [
      "30.0%... "
     ]
    },
    {
     "name": "stdout",
     "output_type": "stream",
     "text": [
      "40.0%... "
     ]
    },
    {
     "name": "stdout",
     "output_type": "stream",
     "text": [
      "50.0%... "
     ]
    },
    {
     "name": "stdout",
     "output_type": "stream",
     "text": [
      "60.0%... "
     ]
    },
    {
     "name": "stdout",
     "output_type": "stream",
     "text": [
      "70.0%... "
     ]
    },
    {
     "name": "stdout",
     "output_type": "stream",
     "text": [
      "80.0%... "
     ]
    },
    {
     "name": "stdout",
     "output_type": "stream",
     "text": [
      "90.0%... "
     ]
    },
    {
     "name": "stdout",
     "output_type": "stream",
     "text": [
      "100.0%... "
     ]
    },
    {
     "name": "stdout",
     "output_type": "stream",
     "text": [
      "100.0%... "
     ]
    },
    {
     "name": "stdout",
     "output_type": "stream",
     "text": [
      "Done!\n"
     ]
    },
    {
     "name": "stdout",
     "output_type": "stream",
     "text": [
      "Evaluation results for powerthingnodesorted (20.0% sample):\n",
      "  MAE: 7986.18\n",
      "  MAPE: 3149.50%\n",
      "  Q-Score: 58.77\n",
      "  Avg. Estimation Time: 0.0570 ms\n",
      "  Model Size: 686.43 MB\n",
      "  Num Level Nodes: 332\n"
     ]
    },
    {
     "name": "stdout",
     "output_type": "stream",
     "text": [
      "Finished processing powerthingnodesorted (13/14)\n"
     ]
    },
    {
     "name": "stdout",
     "output_type": "stream",
     "text": [
      "\n",
      "================================================================================\n",
      "DATASET 14/14: arealm\n",
      "================================================================================\n"
     ]
    },
    {
     "name": "stdout",
     "output_type": "stream",
     "text": [
      "Loading query results from ../../large_files/resultsContains/arealm_results.csv\n"
     ]
    },
    {
     "name": "stdout",
     "output_type": "stream",
     "text": [
      "Using 20.0% sample: 5166 out of 25833 queries\n"
     ]
    },
    {
     "name": "stdout",
     "output_type": "stream",
     "text": [
      "Processing arealm queries: "
     ]
    },
    {
     "name": "stdout",
     "output_type": "stream",
     "text": [
      "0.0%... "
     ]
    },
    {
     "name": "stdout",
     "output_type": "stream",
     "text": [
      "10.0%... "
     ]
    },
    {
     "name": "stdout",
     "output_type": "stream",
     "text": [
      "20.0%... "
     ]
    },
    {
     "name": "stdout",
     "output_type": "stream",
     "text": [
      "30.0%... "
     ]
    },
    {
     "name": "stdout",
     "output_type": "stream",
     "text": [
      "40.0%... "
     ]
    },
    {
     "name": "stdout",
     "output_type": "stream",
     "text": [
      "50.0%... "
     ]
    },
    {
     "name": "stdout",
     "output_type": "stream",
     "text": [
      "59.9%... "
     ]
    },
    {
     "name": "stdout",
     "output_type": "stream",
     "text": [
      "69.9%... "
     ]
    },
    {
     "name": "stdout",
     "output_type": "stream",
     "text": [
      "79.9%... "
     ]
    },
    {
     "name": "stdout",
     "output_type": "stream",
     "text": [
      "89.9%... "
     ]
    },
    {
     "name": "stdout",
     "output_type": "stream",
     "text": [
      "99.9%... "
     ]
    },
    {
     "name": "stdout",
     "output_type": "stream",
     "text": [
      "100.0%... "
     ]
    },
    {
     "name": "stdout",
     "output_type": "stream",
     "text": [
      "Done!\n"
     ]
    },
    {
     "name": "stdout",
     "output_type": "stream",
     "text": [
      "Evaluation results for arealm (20.0% sample):\n",
      "  MAE: 1641.97\n",
      "  MAPE: 660.58%\n",
      "  Q-Score: 35.02\n",
      "  Avg. Estimation Time: 0.0091 ms\n",
      "  Model Size: 8.34 MB\n",
      "  Num Level Nodes: 6\n"
     ]
    },
    {
     "name": "stdout",
     "output_type": "stream",
     "text": [
      "Finished processing arealm (14/14)\n"
     ]
    },
    {
     "name": "stdout",
     "output_type": "stream",
     "text": [
      "\n",
      "Combined results:\n",
      "                    Dataset           MAE       MAPE    Q_Score  \\\n",
      "0                     yago2   5245.936586  19.977218  24.237624   \n",
      "1            craftwaysorted   1244.859303   4.878538  11.710254   \n",
      "2                     zcta5    436.546415   3.509202  22.355150   \n",
      "3                 areawater   5165.486850   7.105519  23.433108   \n",
      "4    aerowaythingnodesorted    722.697601  13.771877  22.838991   \n",
      "5   emergencythingwaysorted   4587.400471  10.772390  19.125034   \n",
      "6    historicthingwaysorted   5735.394730   3.525420   6.639446   \n",
      "7     aerowaythingwaysorted   3645.493139   4.929860   7.645676   \n",
      "8    cyclewaythingwaysorted   9123.150151  10.654256  19.011795   \n",
      "9       powerthingwaysorted   8844.949201   5.989913   9.420538   \n",
      "10         leisurewaysorted  16165.273613   4.588886   7.539099   \n",
      "11    barrierthingwaysorted  16560.781622   3.774906   6.518067   \n",
      "12     powerthingnodesorted   7986.182665  31.495020  58.768564   \n",
      "13                   arealm   1641.966512   6.605839  35.024769   \n",
      "\n",
      "    Model_Size_MB  Num_Level_Nodes  \n",
      "0      294.982596              305  \n",
      "1        6.902901                9  \n",
      "2        2.199424                3  \n",
      "3      146.790618               26  \n",
      "4        5.086202                4  \n",
      "5       51.569801               58  \n",
      "6      114.028919               94  \n",
      "7      116.494888              113  \n",
      "8      336.845875              170  \n",
      "9      874.027491              403  \n",
      "10    1866.938595              687  \n",
      "11    1456.056671              569  \n",
      "12     686.429578              332  \n",
      "13       8.340222                6  \n",
      "R-tree contain estimation evaluation complete!\n"
     ]
    }
   ],
   "source": [
    "import numpy as np\n",
    "import pandas as pd\n",
    "import matplotlib.pyplot as plt\n",
    "import os\n",
    "import re\n",
    "import configparser\n",
    "import sys\n",
    "import time\n",
    "import pickle\n",
    "from tqdm import tqdm\n",
    "from sklearn.metrics import mean_absolute_error\n",
    "\n",
    "class RTreeEstimator:\n",
    "    \"\"\"\n",
    "    Spatial selectivity estimator using pre-built R-tree models for contain filter operations\n",
    "    \"\"\"\n",
    "    def __init__(self, data_dir=\"../../large_files\"):\n",
    "        \"\"\"\n",
    "        Initialize the R-tree based estimator using pre-built models\n",
    "        \n",
    "        Parameters:\n",
    "        -----------\n",
    "        data_dir : str\n",
    "            Directory containing R-tree models\n",
    "        \"\"\"\n",
    "        self.data_dir = data_dir\n",
    "        self.rtree_dir = f\"{data_dir}/traditional_methods/rtree/models\"\n",
    "        self.results_dir = f\"{data_dir}/traditional_methods/rtree/results/contain\"\n",
    "        self.viz_dir = f\"{data_dir}/traditional_methods/rtree/visualizations/contain\"\n",
    "        \n",
    "        # Create directories\n",
    "        os.makedirs(self.results_dir, exist_ok=True)\n",
    "        os.makedirs(self.viz_dir, exist_ok=True)\n",
    "        \n",
    "        self.universe_boundaries = {}\n",
    "        self.dataset_sizes = {}\n",
    "        self.level_nodes = {}\n",
    "        self.model_metadata = {}\n",
    "        self.cache = {}  # Query result cache\n",
    "        \n",
    "        # Load dataset metadata\n",
    "        self.load_spatial_statistics()\n",
    "        \n",
    "        # Load available models\n",
    "        self.load_available_models()\n",
    "    \n",
    "    def load_spatial_statistics(self):\n",
    "        \"\"\"Load dataset information from spatial_statistics.csv\"\"\"\n",
    "        try:\n",
    "            stats_df = pd.read_csv(\"../../spatial_statistics.csv\")\n",
    "            for _, row in stats_df.iterrows():\n",
    "                table_name = row['Table Name']\n",
    "                total_objects = row['Total Spatial Objects']\n",
    "                bbox_str = row['Universe Limits (Bounding Box)']\n",
    "                \n",
    "                # Parse bounding box\n",
    "                bbox = self.parse_bbox(bbox_str)\n",
    "                self.universe_boundaries[table_name] = bbox\n",
    "                self.dataset_sizes[table_name] = int(total_objects)\n",
    "                \n",
    "            print(f\"Loaded metadata for {len(self.universe_boundaries)} datasets\")\n",
    "            sys.stdout.flush()\n",
    "        except Exception as e:\n",
    "            print(f\"Error loading spatial statistics: {e}\")\n",
    "            sys.stdout.flush()\n",
    "    \n",
    "    def parse_bbox(self, bbox_str):\n",
    "        \"\"\"Parse bounding box string into coordinates\"\"\"\n",
    "        pattern = r\"BOX\\(([-\\d\\.]+) ([-\\d\\.]+),([-\\d\\.]+) ([-\\d\\.]+)\\)\"\n",
    "        match = re.search(pattern, bbox_str)\n",
    "        if match:\n",
    "            xmin = float(match.group(1))\n",
    "            ymin = float(match.group(2))\n",
    "            xmax = float(match.group(3))\n",
    "            ymax = float(match.group(4))\n",
    "            return (xmin, ymin, xmax, ymax)\n",
    "        return (-180, -90, 180, 90)  # Default if parsing fails\n",
    "    \n",
    "    def load_available_models(self):\n",
    "        \"\"\"Load all available pre-built R-tree models\"\"\"\n",
    "        if not os.path.exists(self.rtree_dir):\n",
    "            print(f\"Model directory not found: {self.rtree_dir}\")\n",
    "            return\n",
    "        \n",
    "        # Check for metadata file first\n",
    "        metadata_file = f\"{self.rtree_dir}/all_rtree_metadata.csv\"\n",
    "        if os.path.exists(metadata_file):\n",
    "            metadata_df = pd.read_csv(metadata_file)\n",
    "            for _, row in metadata_df.iterrows():\n",
    "                dataset_name = row['dataset']\n",
    "                self.model_metadata[dataset_name] = row.to_dict()\n",
    "        \n",
    "        # Load level nodes for each dataset\n",
    "        loaded_count = 0\n",
    "        for dataset_name in self.universe_boundaries.keys():\n",
    "            level_nodes_path = f\"{self.rtree_dir}/{dataset_name}_level_nodes.pkl\"\n",
    "            metadata_path = f\"{self.rtree_dir}/{dataset_name}_metadata.json\"\n",
    "            \n",
    "            if os.path.exists(level_nodes_path):\n",
    "                try:\n",
    "                    with open(level_nodes_path, 'rb') as f:\n",
    "                        self.level_nodes[dataset_name] = pickle.load(f)\n",
    "                    \n",
    "                    # Load metadata if not already loaded\n",
    "                    if dataset_name not in self.model_metadata and os.path.exists(metadata_path):\n",
    "                        self.model_metadata[dataset_name] = pd.read_json(metadata_path, typ='series').to_dict()\n",
    "                    \n",
    "                    loaded_count += 1\n",
    "                except Exception as e:\n",
    "                    print(f\"Error loading model for {dataset_name}: {e}\")\n",
    "        \n",
    "        print(f\"Loaded {loaded_count} pre-built R-tree models\")\n",
    "        sys.stdout.flush()\n",
    "    \n",
    "    def parse_mbr(self, mbr_str):\n",
    "        \"\"\"Parse MBR string from format like '(x1, y1, x2, y2)'\"\"\"\n",
    "        if isinstance(mbr_str, str):\n",
    "            coords = mbr_str.strip('\"()').split(', ')\n",
    "            return [float(coord) for coord in coords]\n",
    "        return mbr_str  # Already parsed\n",
    "    \n",
    "    def estimate_contain_count(self, dataset_name, query_mbr):\n",
    "        \"\"\"\n",
    "        Estimate the number of objects that are contained within a query rectangle\n",
    "        using the level-before-leaves approach\n",
    "        \n",
    "        Parameters:\n",
    "        -----------\n",
    "        dataset_name : str\n",
    "            Name of the dataset to query against\n",
    "        query_mbr : list or str\n",
    "            Query rectangle as [xmin, ymin, xmax, ymax] or '(xmin, ymin, xmax, ymax)'\n",
    "            \n",
    "        Returns:\n",
    "        --------\n",
    "        float\n",
    "            Estimated number of objects contained within the query\n",
    "        \"\"\"\n",
    "        # Check if result is in cache\n",
    "        if isinstance(query_mbr, list):\n",
    "            query_mbr = tuple(query_mbr)\n",
    "        cache_key = f\"{dataset_name}_{query_mbr}\"\n",
    "        if cache_key in self.cache:\n",
    "            return self.cache[cache_key]\n",
    "        \n",
    "        # Parse query rectangle if needed\n",
    "        if isinstance(query_mbr, str):\n",
    "            query_mbr = self.parse_mbr(query_mbr)\n",
    "        \n",
    "        # Query coordinates\n",
    "        q_xmin, q_ymin, q_xmax, q_ymax = query_mbr\n",
    "        query_area = (q_xmax - q_xmin) * (q_ymax - q_ymin)\n",
    "        \n",
    "        # If query area is 0, return 0\n",
    "        if query_area <= 0:\n",
    "            return 0\n",
    "        \n",
    "        # Check if model is available\n",
    "        if dataset_name not in self.level_nodes:\n",
    "            print(f\"No R-tree model found for {dataset_name}\")\n",
    "            return 0\n",
    "        \n",
    "        # Get level nodes and total objects\n",
    "        nodes = self.level_nodes[dataset_name]\n",
    "        total_objects = self.dataset_sizes[dataset_name]\n",
    "        \n",
    "        # Count how many nodes are contained within the query and their coverage ratio\n",
    "        total_node_objects = sum(node['objects'] for node in nodes)\n",
    "        if total_node_objects <= 0:\n",
    "            return 0  # Avoid division by zero\n",
    "            \n",
    "        contained_objects = 0\n",
    "        \n",
    "        for node in nodes:\n",
    "            node_mbr = node['mbr']\n",
    "            node_objects = node['objects']\n",
    "            \n",
    "            # Check if node is fully contained within the query MBR\n",
    "            if (node_mbr[0] >= q_xmin and node_mbr[2] <= q_xmax and \n",
    "                node_mbr[1] >= q_ymin and node_mbr[3] <= q_ymax):\n",
    "                # Node is fully contained in query - add all objects\n",
    "                contained_objects += node_objects\n",
    "            elif (node_mbr[0] < q_xmax and node_mbr[2] > q_xmin and \n",
    "                  node_mbr[1] < q_ymax and node_mbr[3] > q_ymin):\n",
    "                # Node partially overlaps query - estimate contained fraction\n",
    "                intersection_xmin = max(q_xmin, node_mbr[0])\n",
    "                intersection_ymin = max(q_ymin, node_mbr[1])\n",
    "                intersection_xmax = min(q_xmax, node_mbr[2])\n",
    "                intersection_ymax = min(q_ymax, node_mbr[3])\n",
    "                \n",
    "                intersection_area = (intersection_xmax - intersection_xmin) * (intersection_ymax - intersection_ymin)\n",
    "                node_area = node['area']\n",
    "                \n",
    "                if node_area > 0:\n",
    "                    # Calculate overlap ratio and add proportional count\n",
    "                    overlap_ratio = intersection_area / node_area\n",
    "                    contained_objects += node_objects * overlap_ratio\n",
    "        \n",
    "        # Scale to match total objects if needed\n",
    "        estimated_count = contained_objects * (total_objects / total_node_objects)\n",
    "        \n",
    "        # Cache and return result\n",
    "        estimated_count = max(0, round(estimated_count))\n",
    "        self.cache[cache_key] = estimated_count\n",
    "        return estimated_count\n",
    "    \n",
    "    def evaluate_on_dataset(self, dataset_name, results_file=None, sample_ratio=0.2):\n",
    "        \"\"\"\n",
    "        Evaluate the R-tree based contain estimation method on a dataset\n",
    "        \n",
    "        Parameters:\n",
    "        -----------\n",
    "        dataset_name : str\n",
    "            Name of the dataset to evaluate\n",
    "        results_file : str\n",
    "            Path to the file containing actual query results\n",
    "        sample_ratio : float\n",
    "            Fraction of dataset to use (0.2 = 20%)\n",
    "            \n",
    "        Returns:\n",
    "        --------\n",
    "        dict\n",
    "            Evaluation results including MAE, MAPE, q-score, and model metadata\n",
    "        \"\"\"\n",
    "        if not results_file:\n",
    "            results_file = f\"../../large_files/resultsContains/{dataset_name}_results.csv\"\n",
    "            \n",
    "        if not os.path.exists(results_file):\n",
    "            raise ValueError(f\"Results file not found: {results_file}\")\n",
    "            \n",
    "        # Check if model is available\n",
    "        if dataset_name not in self.level_nodes:\n",
    "            raise ValueError(f\"No R-tree model found for {dataset_name}\")\n",
    "            \n",
    "        # Load query results\n",
    "        print(f\"Loading query results from {results_file}\")\n",
    "        sys.stdout.flush()\n",
    "        \n",
    "        try:\n",
    "            results_df = pd.read_csv(results_file)\n",
    "            \n",
    "            # Sample only a portion of the dataset\n",
    "            sample_size = max(1, int(len(results_df) * sample_ratio))\n",
    "            print(f\"Using {sample_ratio*100}% sample: {sample_size} out of {len(results_df)} queries\")\n",
    "            sys.stdout.flush()\n",
    "            sampled_results = results_df.sample(n=sample_size, random_state=42)\n",
    "            \n",
    "            # Prepare arrays for evaluation\n",
    "            actual_counts = []\n",
    "            estimated_counts = []\n",
    "            estimation_times = []\n",
    "            \n",
    "            # Process each query with progress reporting\n",
    "            print(f\"Processing {dataset_name} queries: \", end=\"\", flush=True)\n",
    "            sys.stdout.flush()\n",
    "            \n",
    "            total_queries = len(sampled_results)\n",
    "            progress_step = max(1, total_queries // 10)\n",
    "            \n",
    "            for i, (index, row) in enumerate(sampled_results.iterrows()):\n",
    "                # Show progress every 10%\n",
    "                if i % progress_step == 0 or i == total_queries - 1:\n",
    "                    progress = (i+1) / total_queries * 100\n",
    "                    print(f\"{progress:.1f}%... \", end=\"\", flush=True)\n",
    "                    sys.stdout.flush()\n",
    "                    \n",
    "                query_mbr = self.parse_mbr(row['Query MBR'])\n",
    "                actual_count = row['Count MBR']\n",
    "                \n",
    "                # Measure estimation time\n",
    "                start_time = time.time()\n",
    "                estimated_count = self.estimate_contain_count(dataset_name, query_mbr)\n",
    "                end_time = time.time()\n",
    "                estimation_time = (end_time - start_time) * 1000  # ms\n",
    "                \n",
    "                actual_counts.append(actual_count)\n",
    "                estimated_counts.append(estimated_count)\n",
    "                estimation_times.append(estimation_time)\n",
    "            \n",
    "            print(\"Done!\")\n",
    "            sys.stdout.flush()\n",
    "            \n",
    "            # Convert to arrays for calculations\n",
    "            actual_counts = np.array(actual_counts)\n",
    "            estimated_counts = np.array(estimated_counts)\n",
    "            estimation_times = np.array(estimation_times)\n",
    "            \n",
    "            # Calculate MAE\n",
    "            mae = mean_absolute_error(actual_counts, estimated_counts)\n",
    "            \n",
    "            # Calculate MAPE with handling for zeros\n",
    "            non_zero_mask = actual_counts != 0\n",
    "            zero_mask = ~non_zero_mask\n",
    "            mape_sum = 0\n",
    "            count = len(actual_counts)\n",
    "            \n",
    "            if np.any(non_zero_mask):\n",
    "                mape_sum += np.sum(np.abs((actual_counts[non_zero_mask] - estimated_counts[non_zero_mask]) / \n",
    "                                        actual_counts[non_zero_mask]))\n",
    "            \n",
    "            if np.any(zero_mask):\n",
    "                mape_sum += np.sum(np.abs(actual_counts[zero_mask] - estimated_counts[zero_mask]) / 100)\n",
    "            \n",
    "            mape = mape_sum / count\n",
    "            \n",
    "            # Calculate q-score\n",
    "            valid_indices = (actual_counts != 0) & (estimated_counts != 0)\n",
    "            if np.any(valid_indices):\n",
    "                ratios = np.maximum(\n",
    "                    estimated_counts[valid_indices] / actual_counts[valid_indices],\n",
    "                    actual_counts[valid_indices] / estimated_counts[valid_indices]\n",
    "                )\n",
    "                q_score = np.mean(ratios)\n",
    "            else:\n",
    "                q_score = float('inf')\n",
    "                \n",
    "            avg_time_ms = np.mean(estimation_times)\n",
    "            \n",
    "            # Get model metadata\n",
    "            model_size_bytes = 0\n",
    "            level_nodes_size_bytes = 0\n",
    "            total_size_bytes = 0\n",
    "            rtree_params = {}\n",
    "            num_level_nodes = len(self.level_nodes.get(dataset_name, []))\n",
    "            \n",
    "            if dataset_name in self.model_metadata:\n",
    "                meta = self.model_metadata[dataset_name]\n",
    "                model_size_bytes = meta.get('model_size_bytes', 0)\n",
    "                level_nodes_size_bytes = meta.get('level_nodes_size_bytes', 0)\n",
    "                total_size_bytes = meta.get('total_size_bytes', 0)\n",
    "                rtree_params = meta.get('rtree_params', {})\n",
    "                if isinstance(rtree_params, str):\n",
    "                    # Handle JSON parsing if needed\n",
    "                    try:\n",
    "                        rtree_params = eval(rtree_params)\n",
    "                    except:\n",
    "                        rtree_params = {}\n",
    "            \n",
    "            # Combine results with model metadata\n",
    "            results = {\n",
    "                'Dataset': dataset_name,\n",
    "                'Method': 'RTree-Level-Contain',\n",
    "                'MAE': mae,\n",
    "                'MAPE': mape,\n",
    "                'Q_Score': q_score,\n",
    "                'Avg_Time_ms': avg_time_ms,\n",
    "                'Num_Queries': len(sampled_results),\n",
    "                'Sample_Ratio': sample_ratio,\n",
    "                'Model_Size_MB': total_size_bytes / (1024*1024),\n",
    "                'Level_Nodes_Size_MB': level_nodes_size_bytes / (1024*1024),\n",
    "                'Num_Level_Nodes': num_level_nodes\n",
    "            }\n",
    "            \n",
    "            # Add R-tree parameters to results\n",
    "            for key, value in rtree_params.items():\n",
    "                results[f'rtree_{key}'] = value\n",
    "            \n",
    "            # Save results\n",
    "            results_file_out = f\"{self.results_dir}/{dataset_name}_evaluation_sample{int(sample_ratio*100)}.csv\"\n",
    "            pd.DataFrame([results]).to_csv(results_file_out, index=False)\n",
    "            \n",
    "            # Generate visualization\n",
    "            self.visualize_results(dataset_name, actual_counts, estimated_counts, sample_ratio)\n",
    "            \n",
    "            print(f\"Evaluation results for {dataset_name} ({sample_ratio*100}% sample):\")\n",
    "            print(f\"  MAE: {mae:.2f}\")\n",
    "            print(f\"  MAPE: {mape:.2%}\")\n",
    "            print(f\"  Q-Score: {q_score:.2f}\")\n",
    "            print(f\"  Avg. Estimation Time: {avg_time_ms:.4f} ms\")\n",
    "            print(f\"  Model Size: {results['Model_Size_MB']:.2f} MB\")\n",
    "            print(f\"  Num Level Nodes: {num_level_nodes}\")\n",
    "            sys.stdout.flush()\n",
    "            \n",
    "            return results\n",
    "            \n",
    "        except Exception as e:\n",
    "            print(f\"Error evaluating {dataset_name}: {str(e)}\")\n",
    "            sys.stdout.flush()\n",
    "            raise\n",
    "    \n",
    "    def visualize_results(self, dataset_name, actual_counts, estimated_counts, sample_ratio=0.2):\n",
    "        \"\"\"Create visualization of actual vs. predicted counts\"\"\"\n",
    "        os.makedirs(self.viz_dir, exist_ok=True)\n",
    "        \n",
    "        plt.figure(figsize=(12, 10))\n",
    "        plt.scatter(actual_counts, estimated_counts, alpha=0.5, s=8)\n",
    "        \n",
    "        max_val = max(np.max(actual_counts), np.max(estimated_counts))\n",
    "        plt.plot([0, max_val], [0, max_val], 'r--', alpha=0.7)\n",
    "        \n",
    "        plt.xlabel('Actual Count')\n",
    "        plt.ylabel('Estimated Count')\n",
    "        plt.title(f'R-tree Contain Estimation for {dataset_name} ({int(sample_ratio*100)}% sample)')\n",
    "        plt.grid(True, alpha=0.3)\n",
    "        \n",
    "        plt.savefig(\n",
    "            f\"{self.viz_dir}/{dataset_name}_estimation_sample{int(sample_ratio*100)}.png\", \n",
    "            dpi=150\n",
    "        )\n",
    "        plt.close()\n",
    "        \n",
    "        # Create a comparison for a sample of queries\n",
    "        sample_size = min(100, len(actual_counts))\n",
    "        indices = np.random.choice(len(actual_counts), sample_size, replace=False)\n",
    "        \n",
    "        plt.figure(figsize=(20, 10))\n",
    "        plt.scatter(\n",
    "            range(sample_size), \n",
    "            actual_counts[indices],\n",
    "            label='Actual Count', \n",
    "            s=100, alpha=0.7, marker='o', color='green'\n",
    "        )\n",
    "        plt.scatter(\n",
    "            range(sample_size), \n",
    "            estimated_counts[indices],\n",
    "            label='R-tree Estimate', \n",
    "            s=100, alpha=0.7, marker='x', color='blue'\n",
    "        )\n",
    "        \n",
    "        plt.xlabel('Query Index')\n",
    "        plt.ylabel('Object Count')\n",
    "        plt.title(\n",
    "            f'R-tree Contain vs. Actual Count for {dataset_name} - '\n",
    "            f'Sample of {sample_size} Queries ({int(sample_ratio*100)}% dataset)'\n",
    "        )\n",
    "        plt.legend()\n",
    "        plt.grid(True, alpha=0.3)\n",
    "        \n",
    "        plt.savefig(\n",
    "            f\"{self.viz_dir}/{dataset_name}_comparison_sample{int(sample_ratio*100)}.png\", \n",
    "            dpi=150\n",
    "        )\n",
    "        plt.close()\n",
    "\n",
    "def evaluate_all_datasets(sample_ratio=0.2):\n",
    "    \"\"\"Evaluate R-tree contain estimation on all available pre-built models\"\"\"\n",
    "    print(\"Initializing R-tree estimator...\")\n",
    "    sys.stdout.flush()\n",
    "    \n",
    "    estimator = RTreeEstimator()\n",
    "    available_datasets = list(estimator.level_nodes.keys())\n",
    "    \n",
    "    if not available_datasets:\n",
    "        print(\"No pre-built R-tree models found. Please run RTree-builder first.\")\n",
    "        return\n",
    "    \n",
    "    print(f\"Found {len(available_datasets)} pre-built R-tree models to evaluate\")\n",
    "    sys.stdout.flush()\n",
    "    \n",
    "    all_results = []\n",
    "    \n",
    "    # Process each available dataset with clear separation\n",
    "    for idx, dataset_name in enumerate(available_datasets, start=1):\n",
    "        print(\"\\n\" + \"=\"*80)\n",
    "        print(f\"DATASET {idx}/{len(available_datasets)}: {dataset_name}\")\n",
    "        print(\"=\"*80)\n",
    "        sys.stdout.flush()\n",
    "        \n",
    "        try:\n",
    "            results = estimator.evaluate_on_dataset(dataset_name, sample_ratio=sample_ratio)\n",
    "            all_results.append(results)\n",
    "            print(f\"Finished processing {dataset_name} ({idx}/{len(available_datasets)})\")\n",
    "            sys.stdout.flush()\n",
    "        except Exception as e:\n",
    "            print(f\"Error evaluating {dataset_name}: {e}\")\n",
    "            print(\"Moving to next dataset\")\n",
    "            sys.stdout.flush()\n",
    "    \n",
    "    # Save combined results\n",
    "    if all_results:\n",
    "        out_dir = estimator.results_dir\n",
    "        os.makedirs(out_dir, exist_ok=True)\n",
    "        all_results_df = pd.DataFrame(all_results)\n",
    "        all_results_df.to_csv(\n",
    "            f\"{out_dir}/all_datasets_evaluation_sample{int(sample_ratio*100)}.csv\", \n",
    "            index=False\n",
    "        )\n",
    "        print(\"\\nCombined results:\")\n",
    "        print(all_results_df[['Dataset', 'MAE', 'MAPE', 'Q_Score', 'Model_Size_MB', 'Num_Level_Nodes']])\n",
    "    else:\n",
    "        print(\"No results were generated\")\n",
    "\n",
    "if __name__ == \"__main__\":\n",
    "    evaluate_all_datasets(sample_ratio=0.2)\n",
    "    print(\"R-tree contain estimation evaluation complete!\")"
   ]
  }
 ],
 "metadata": {
  "language_info": {
   "codemirror_mode": {
    "name": "ipython",
    "version": 3
   },
   "file_extension": ".py",
   "mimetype": "text/x-python",
   "name": "python",
   "nbconvert_exporter": "python",
   "pygments_lexer": "ipython3",
   "version": "3.12.2"
  },
  "papermill": {
   "default_parameters": {},
   "duration": 516.303966,
   "end_time": "2025-03-27T08:19:48.759151",
   "environment_variables": {},
   "exception": null,
   "input_path": "/home/adminlias/nadir/Spatial-Selectivity-Ext/traditional_methods/rtree/RTree-contain-estimator.ipynb",
   "output_path": "/home/adminlias/nadir/Spatial-Selectivity-Ext/traditional_methods/rtree/output_RTree-contain-estimator.ipynb",
   "parameters": {},
   "start_time": "2025-03-27T08:11:12.455185",
   "version": "2.6.0"
  }
 },
 "nbformat": 4,
 "nbformat_minor": 5
}