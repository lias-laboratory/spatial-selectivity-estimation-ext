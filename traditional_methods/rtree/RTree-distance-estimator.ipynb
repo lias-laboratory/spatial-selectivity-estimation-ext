{
 "cells": [
  {
   "cell_type": "code",
   "execution_count": 1,
   "id": "d2ae572b",
   "metadata": {
    "execution": {
     "iopub.execute_input": "2025-03-27T08:19:49.685082Z",
     "iopub.status.busy": "2025-03-27T08:19:49.684483Z",
     "iopub.status.idle": "2025-03-27T16:28:34.339884Z",
     "shell.execute_reply": "2025-03-27T16:28:34.339007Z"
    },
    "papermill": {
     "duration": 29324.667349,
     "end_time": "2025-03-27T16:28:34.344399",
     "exception": false,
     "start_time": "2025-03-27T08:19:49.677050",
     "status": "completed"
    },
    "tags": []
   },
   "outputs": [
    {
     "name": "stdout",
     "output_type": "stream",
     "text": [
      "Initializing R-tree distance estimator...\n"
     ]
    },
    {
     "name": "stdout",
     "output_type": "stream",
     "text": [
      "Loaded metadata for 14 datasets\n"
     ]
    },
    {
     "name": "stdout",
     "output_type": "stream",
     "text": [
      "Loaded 14 pre-built R-tree models\n"
     ]
    },
    {
     "name": "stdout",
     "output_type": "stream",
     "text": [
      "Found 14 pre-built R-tree models to evaluate\n"
     ]
    },
    {
     "name": "stdout",
     "output_type": "stream",
     "text": [
      "\n",
      "================================================================================\n",
      "DATASET 1/14: yago2\n",
      "================================================================================\n"
     ]
    },
    {
     "name": "stdout",
     "output_type": "stream",
     "text": [
      "Loading query results from ../../large_files/resultsDistance/yago2_results.csv\n"
     ]
    },
    {
     "name": "stdout",
     "output_type": "stream",
     "text": [
      "Using 20.0% sample: 179788 out of 898942 queries\n"
     ]
    },
    {
     "name": "stdout",
     "output_type": "stream",
     "text": [
      "Processing yago2 queries: "
     ]
    },
    {
     "name": "stdout",
     "output_type": "stream",
     "text": [
      "0.0%... "
     ]
    },
    {
     "name": "stdout",
     "output_type": "stream",
     "text": [
      "10.0%... "
     ]
    },
    {
     "name": "stdout",
     "output_type": "stream",
     "text": [
      "20.0%... "
     ]
    },
    {
     "name": "stdout",
     "output_type": "stream",
     "text": [
      "30.0%... "
     ]
    },
    {
     "name": "stdout",
     "output_type": "stream",
     "text": [
      "40.0%... "
     ]
    },
    {
     "name": "stdout",
     "output_type": "stream",
     "text": [
      "50.0%... "
     ]
    },
    {
     "name": "stdout",
     "output_type": "stream",
     "text": [
      "60.0%... "
     ]
    },
    {
     "name": "stdout",
     "output_type": "stream",
     "text": [
      "70.0%... "
     ]
    },
    {
     "name": "stdout",
     "output_type": "stream",
     "text": [
      "80.0%... "
     ]
    },
    {
     "name": "stdout",
     "output_type": "stream",
     "text": [
      "90.0%... "
     ]
    },
    {
     "name": "stdout",
     "output_type": "stream",
     "text": [
      "100.0%... "
     ]
    },
    {
     "name": "stdout",
     "output_type": "stream",
     "text": [
      "100.0%... "
     ]
    },
    {
     "name": "stdout",
     "output_type": "stream",
     "text": [
      "Done!\n"
     ]
    },
    {
     "name": "stdout",
     "output_type": "stream",
     "text": [
      "Evaluation results for yago2 (20.0% sample):\n",
      "  MAE: 93859.61\n",
      "  MAPE: 616.62%\n",
      "  Q-Score: 13.19\n",
      "  Avg. Estimation Time: 4.9109 ms\n",
      "  Model Size: 294.98 MB\n",
      "  Num Level Nodes: 305\n"
     ]
    },
    {
     "name": "stdout",
     "output_type": "stream",
     "text": [
      "Finished processing yago2 (1/14)\n"
     ]
    },
    {
     "name": "stdout",
     "output_type": "stream",
     "text": [
      "\n",
      "================================================================================\n",
      "DATASET 2/14: craftwaysorted\n",
      "================================================================================\n"
     ]
    },
    {
     "name": "stdout",
     "output_type": "stream",
     "text": [
      "Loading query results from ../../large_files/resultsDistance/craftwaysorted_results.csv\n"
     ]
    },
    {
     "name": "stdout",
     "output_type": "stream",
     "text": [
      "Using 20.0% sample: 4364 out of 21822 queries\n"
     ]
    },
    {
     "name": "stdout",
     "output_type": "stream",
     "text": [
      "Processing craftwaysorted queries: "
     ]
    },
    {
     "name": "stdout",
     "output_type": "stream",
     "text": [
      "0.0%... "
     ]
    },
    {
     "name": "stdout",
     "output_type": "stream",
     "text": [
      "10.0%... "
     ]
    },
    {
     "name": "stdout",
     "output_type": "stream",
     "text": [
      "20.0%... "
     ]
    },
    {
     "name": "stdout",
     "output_type": "stream",
     "text": [
      "30.0%... "
     ]
    },
    {
     "name": "stdout",
     "output_type": "stream",
     "text": [
      "40.0%... "
     ]
    },
    {
     "name": "stdout",
     "output_type": "stream",
     "text": [
      "50.0%... "
     ]
    },
    {
     "name": "stdout",
     "output_type": "stream",
     "text": [
      "60.0%... "
     ]
    },
    {
     "name": "stdout",
     "output_type": "stream",
     "text": [
      "70.0%... "
     ]
    },
    {
     "name": "stdout",
     "output_type": "stream",
     "text": [
      "79.9%... "
     ]
    },
    {
     "name": "stdout",
     "output_type": "stream",
     "text": [
      "89.9%... "
     ]
    },
    {
     "name": "stdout",
     "output_type": "stream",
     "text": [
      "99.9%... "
     ]
    },
    {
     "name": "stdout",
     "output_type": "stream",
     "text": [
      "100.0%... "
     ]
    },
    {
     "name": "stdout",
     "output_type": "stream",
     "text": [
      "Done!\n"
     ]
    },
    {
     "name": "stdout",
     "output_type": "stream",
     "text": [
      "Evaluation results for craftwaysorted (20.0% sample):\n",
      "  MAE: 8045.33\n",
      "  MAPE: 133.65%\n",
      "  Q-Score: 4.20\n",
      "  Avg. Estimation Time: 0.1769 ms\n",
      "  Model Size: 6.90 MB\n",
      "  Num Level Nodes: 9\n"
     ]
    },
    {
     "name": "stdout",
     "output_type": "stream",
     "text": [
      "Finished processing craftwaysorted (2/14)\n"
     ]
    },
    {
     "name": "stdout",
     "output_type": "stream",
     "text": [
      "\n",
      "================================================================================\n",
      "DATASET 3/14: zcta5\n",
      "================================================================================\n"
     ]
    },
    {
     "name": "stdout",
     "output_type": "stream",
     "text": [
      "Loading query results from ../../large_files/resultsDistance/zcta5_results.csv\n"
     ]
    },
    {
     "name": "stdout",
     "output_type": "stream",
     "text": [
      "Using 20.0% sample: 1325 out of 6626 queries\n"
     ]
    },
    {
     "name": "stdout",
     "output_type": "stream",
     "text": [
      "Processing zcta5 queries: "
     ]
    },
    {
     "name": "stdout",
     "output_type": "stream",
     "text": [
      "0.1%... "
     ]
    },
    {
     "name": "stdout",
     "output_type": "stream",
     "text": [
      "10.0%... "
     ]
    },
    {
     "name": "stdout",
     "output_type": "stream",
     "text": [
      "20.0%... "
     ]
    },
    {
     "name": "stdout",
     "output_type": "stream",
     "text": [
      "30.0%... "
     ]
    },
    {
     "name": "stdout",
     "output_type": "stream",
     "text": [
      "39.9%... "
     ]
    },
    {
     "name": "stdout",
     "output_type": "stream",
     "text": [
      "49.9%... "
     ]
    },
    {
     "name": "stdout",
     "output_type": "stream",
     "text": [
      "59.8%... "
     ]
    },
    {
     "name": "stdout",
     "output_type": "stream",
     "text": [
      "69.8%... "
     ]
    },
    {
     "name": "stdout",
     "output_type": "stream",
     "text": [
      "79.8%... "
     ]
    },
    {
     "name": "stdout",
     "output_type": "stream",
     "text": [
      "89.7%... "
     ]
    },
    {
     "name": "stdout",
     "output_type": "stream",
     "text": [
      "99.7%... "
     ]
    },
    {
     "name": "stdout",
     "output_type": "stream",
     "text": [
      "100.0%... "
     ]
    },
    {
     "name": "stdout",
     "output_type": "stream",
     "text": [
      "Done!\n"
     ]
    },
    {
     "name": "stdout",
     "output_type": "stream",
     "text": [
      "Evaluation results for zcta5 (20.0% sample):\n",
      "  MAE: 4384.91\n",
      "  MAPE: 413.50%\n",
      "  Q-Score: 10.98\n",
      "  Avg. Estimation Time: 0.0691 ms\n",
      "  Model Size: 2.20 MB\n",
      "  Num Level Nodes: 3\n"
     ]
    },
    {
     "name": "stdout",
     "output_type": "stream",
     "text": [
      "Finished processing zcta5 (3/14)\n"
     ]
    },
    {
     "name": "stdout",
     "output_type": "stream",
     "text": [
      "\n",
      "================================================================================\n",
      "DATASET 4/14: areawater\n",
      "================================================================================\n"
     ]
    },
    {
     "name": "stdout",
     "output_type": "stream",
     "text": [
      "Loading query results from ../../large_files/resultsDistance/areawater_results.csv\n"
     ]
    },
    {
     "name": "stdout",
     "output_type": "stream",
     "text": [
      "Using 20.0% sample: 91710 out of 458552 queries\n"
     ]
    },
    {
     "name": "stdout",
     "output_type": "stream",
     "text": [
      "Processing areawater queries: "
     ]
    },
    {
     "name": "stdout",
     "output_type": "stream",
     "text": [
      "0.0%... "
     ]
    },
    {
     "name": "stdout",
     "output_type": "stream",
     "text": [
      "10.0%... "
     ]
    },
    {
     "name": "stdout",
     "output_type": "stream",
     "text": [
      "20.0%... "
     ]
    },
    {
     "name": "stdout",
     "output_type": "stream",
     "text": [
      "30.0%... "
     ]
    },
    {
     "name": "stdout",
     "output_type": "stream",
     "text": [
      "40.0%... "
     ]
    },
    {
     "name": "stdout",
     "output_type": "stream",
     "text": [
      "50.0%... "
     ]
    },
    {
     "name": "stdout",
     "output_type": "stream",
     "text": [
      "60.0%... "
     ]
    },
    {
     "name": "stdout",
     "output_type": "stream",
     "text": [
      "70.0%... "
     ]
    },
    {
     "name": "stdout",
     "output_type": "stream",
     "text": [
      "80.0%... "
     ]
    },
    {
     "name": "stdout",
     "output_type": "stream",
     "text": [
      "90.0%... "
     ]
    },
    {
     "name": "stdout",
     "output_type": "stream",
     "text": [
      "100.0%... "
     ]
    },
    {
     "name": "stdout",
     "output_type": "stream",
     "text": [
      "Done!\n"
     ]
    },
    {
     "name": "stdout",
     "output_type": "stream",
     "text": [
      "Evaluation results for areawater (20.0% sample):\n",
      "  MAE: 141534.96\n",
      "  MAPE: 645.58%\n",
      "  Q-Score: 7.51\n",
      "  Avg. Estimation Time: 0.4549 ms\n",
      "  Model Size: 146.79 MB\n",
      "  Num Level Nodes: 26\n"
     ]
    },
    {
     "name": "stdout",
     "output_type": "stream",
     "text": [
      "Finished processing areawater (4/14)\n"
     ]
    },
    {
     "name": "stdout",
     "output_type": "stream",
     "text": [
      "\n",
      "================================================================================\n",
      "DATASET 5/14: aerowaythingnodesorted\n",
      "================================================================================\n"
     ]
    },
    {
     "name": "stdout",
     "output_type": "stream",
     "text": [
      "Loading query results from ../../large_files/resultsDistance/aerowaythingnodesorted_results.csv\n"
     ]
    },
    {
     "name": "stdout",
     "output_type": "stream",
     "text": [
      "Using 20.0% sample: 3168 out of 15843 queries\n"
     ]
    },
    {
     "name": "stdout",
     "output_type": "stream",
     "text": [
      "Processing aerowaythingnodesorted queries: "
     ]
    },
    {
     "name": "stdout",
     "output_type": "stream",
     "text": [
      "0.0%... "
     ]
    },
    {
     "name": "stdout",
     "output_type": "stream",
     "text": [
      "10.0%... "
     ]
    },
    {
     "name": "stdout",
     "output_type": "stream",
     "text": [
      "20.0%... "
     ]
    },
    {
     "name": "stdout",
     "output_type": "stream",
     "text": [
      "30.0%... "
     ]
    },
    {
     "name": "stdout",
     "output_type": "stream",
     "text": [
      "39.9%... "
     ]
    },
    {
     "name": "stdout",
     "output_type": "stream",
     "text": [
      "49.9%... "
     ]
    },
    {
     "name": "stdout",
     "output_type": "stream",
     "text": [
      "59.9%... "
     ]
    },
    {
     "name": "stdout",
     "output_type": "stream",
     "text": [
      "69.9%... "
     ]
    },
    {
     "name": "stdout",
     "output_type": "stream",
     "text": [
      "79.8%... "
     ]
    },
    {
     "name": "stdout",
     "output_type": "stream",
     "text": [
      "89.8%... "
     ]
    },
    {
     "name": "stdout",
     "output_type": "stream",
     "text": [
      "99.8%... "
     ]
    },
    {
     "name": "stdout",
     "output_type": "stream",
     "text": [
      "100.0%... "
     ]
    },
    {
     "name": "stdout",
     "output_type": "stream",
     "text": [
      "Done!\n"
     ]
    },
    {
     "name": "stdout",
     "output_type": "stream",
     "text": [
      "Evaluation results for aerowaythingnodesorted (20.0% sample):\n",
      "  MAE: 2627.87\n",
      "  MAPE: 195.56%\n",
      "  Q-Score: 5.29\n",
      "  Avg. Estimation Time: 0.0853 ms\n",
      "  Model Size: 5.09 MB\n",
      "  Num Level Nodes: 4\n"
     ]
    },
    {
     "name": "stdout",
     "output_type": "stream",
     "text": [
      "Finished processing aerowaythingnodesorted (5/14)\n"
     ]
    },
    {
     "name": "stdout",
     "output_type": "stream",
     "text": [
      "\n",
      "================================================================================\n",
      "DATASET 6/14: emergencythingwaysorted\n",
      "================================================================================\n"
     ]
    },
    {
     "name": "stdout",
     "output_type": "stream",
     "text": [
      "Loading query results from ../../large_files/resultsDistance/emergencythingwaysorted_results.csv\n"
     ]
    },
    {
     "name": "stdout",
     "output_type": "stream",
     "text": [
      "Using 20.0% sample: 32302 out of 161514 queries\n"
     ]
    },
    {
     "name": "stdout",
     "output_type": "stream",
     "text": [
      "Processing emergencythingwaysorted queries: "
     ]
    },
    {
     "name": "stdout",
     "output_type": "stream",
     "text": [
      "0.0%... "
     ]
    },
    {
     "name": "stdout",
     "output_type": "stream",
     "text": [
      "10.0%... "
     ]
    },
    {
     "name": "stdout",
     "output_type": "stream",
     "text": [
      "20.0%... "
     ]
    },
    {
     "name": "stdout",
     "output_type": "stream",
     "text": [
      "30.0%... "
     ]
    },
    {
     "name": "stdout",
     "output_type": "stream",
     "text": [
      "40.0%... "
     ]
    },
    {
     "name": "stdout",
     "output_type": "stream",
     "text": [
      "50.0%... "
     ]
    },
    {
     "name": "stdout",
     "output_type": "stream",
     "text": [
      "60.0%... "
     ]
    },
    {
     "name": "stdout",
     "output_type": "stream",
     "text": [
      "70.0%... "
     ]
    },
    {
     "name": "stdout",
     "output_type": "stream",
     "text": [
      "80.0%... "
     ]
    },
    {
     "name": "stdout",
     "output_type": "stream",
     "text": [
      "90.0%... "
     ]
    },
    {
     "name": "stdout",
     "output_type": "stream",
     "text": [
      "100.0%... "
     ]
    },
    {
     "name": "stdout",
     "output_type": "stream",
     "text": [
      "100.0%... "
     ]
    },
    {
     "name": "stdout",
     "output_type": "stream",
     "text": [
      "Done!\n"
     ]
    },
    {
     "name": "stdout",
     "output_type": "stream",
     "text": [
      "Evaluation results for emergencythingwaysorted (20.0% sample):\n",
      "  MAE: 37218.58\n",
      "  MAPE: 594.76%\n",
      "  Q-Score: 6.27\n",
      "  Avg. Estimation Time: 0.9575 ms\n",
      "  Model Size: 51.57 MB\n",
      "  Num Level Nodes: 58\n"
     ]
    },
    {
     "name": "stdout",
     "output_type": "stream",
     "text": [
      "Finished processing emergencythingwaysorted (6/14)\n"
     ]
    },
    {
     "name": "stdout",
     "output_type": "stream",
     "text": [
      "\n",
      "================================================================================\n",
      "DATASET 7/14: historicthingwaysorted\n",
      "================================================================================\n"
     ]
    },
    {
     "name": "stdout",
     "output_type": "stream",
     "text": [
      "Loading query results from ../../large_files/resultsDistance/historicthingwaysorted_results.csv\n"
     ]
    },
    {
     "name": "stdout",
     "output_type": "stream",
     "text": [
      "Using 20.0% sample: 71687 out of 358439 queries\n"
     ]
    },
    {
     "name": "stdout",
     "output_type": "stream",
     "text": [
      "Processing historicthingwaysorted queries: "
     ]
    },
    {
     "name": "stdout",
     "output_type": "stream",
     "text": [
      "0.0%... "
     ]
    },
    {
     "name": "stdout",
     "output_type": "stream",
     "text": [
      "10.0%... "
     ]
    },
    {
     "name": "stdout",
     "output_type": "stream",
     "text": [
      "20.0%... "
     ]
    },
    {
     "name": "stdout",
     "output_type": "stream",
     "text": [
      "30.0%... "
     ]
    },
    {
     "name": "stdout",
     "output_type": "stream",
     "text": [
      "40.0%... "
     ]
    },
    {
     "name": "stdout",
     "output_type": "stream",
     "text": [
      "50.0%... "
     ]
    },
    {
     "name": "stdout",
     "output_type": "stream",
     "text": [
      "60.0%... "
     ]
    },
    {
     "name": "stdout",
     "output_type": "stream",
     "text": [
      "70.0%... "
     ]
    },
    {
     "name": "stdout",
     "output_type": "stream",
     "text": [
      "80.0%... "
     ]
    },
    {
     "name": "stdout",
     "output_type": "stream",
     "text": [
      "90.0%... "
     ]
    },
    {
     "name": "stdout",
     "output_type": "stream",
     "text": [
      "100.0%... "
     ]
    },
    {
     "name": "stdout",
     "output_type": "stream",
     "text": [
      "100.0%... "
     ]
    },
    {
     "name": "stdout",
     "output_type": "stream",
     "text": [
      "Done!\n"
     ]
    },
    {
     "name": "stdout",
     "output_type": "stream",
     "text": [
      "Evaluation results for historicthingwaysorted (20.0% sample):\n",
      "  MAE: 104676.86\n",
      "  MAPE: 67.22%\n",
      "  Q-Score: 2.08\n",
      "  Avg. Estimation Time: 1.5618 ms\n",
      "  Model Size: 114.03 MB\n",
      "  Num Level Nodes: 94\n"
     ]
    },
    {
     "name": "stdout",
     "output_type": "stream",
     "text": [
      "Finished processing historicthingwaysorted (7/14)\n"
     ]
    },
    {
     "name": "stdout",
     "output_type": "stream",
     "text": [
      "\n",
      "================================================================================\n",
      "DATASET 8/14: aerowaythingwaysorted\n",
      "================================================================================\n"
     ]
    },
    {
     "name": "stdout",
     "output_type": "stream",
     "text": [
      "Loading query results from ../../large_files/resultsDistance/aerowaythingwaysorted_results.csv\n"
     ]
    },
    {
     "name": "stdout",
     "output_type": "stream",
     "text": [
      "Using 20.0% sample: 73673 out of 368365 queries\n"
     ]
    },
    {
     "name": "stdout",
     "output_type": "stream",
     "text": [
      "Processing aerowaythingwaysorted queries: "
     ]
    },
    {
     "name": "stdout",
     "output_type": "stream",
     "text": [
      "0.0%... "
     ]
    },
    {
     "name": "stdout",
     "output_type": "stream",
     "text": [
      "10.0%... "
     ]
    },
    {
     "name": "stdout",
     "output_type": "stream",
     "text": [
      "20.0%... "
     ]
    },
    {
     "name": "stdout",
     "output_type": "stream",
     "text": [
      "30.0%... "
     ]
    },
    {
     "name": "stdout",
     "output_type": "stream",
     "text": [
      "40.0%... "
     ]
    },
    {
     "name": "stdout",
     "output_type": "stream",
     "text": [
      "50.0%... "
     ]
    },
    {
     "name": "stdout",
     "output_type": "stream",
     "text": [
      "60.0%... "
     ]
    },
    {
     "name": "stdout",
     "output_type": "stream",
     "text": [
      "70.0%... "
     ]
    },
    {
     "name": "stdout",
     "output_type": "stream",
     "text": [
      "80.0%... "
     ]
    },
    {
     "name": "stdout",
     "output_type": "stream",
     "text": [
      "90.0%... "
     ]
    },
    {
     "name": "stdout",
     "output_type": "stream",
     "text": [
      "100.0%... "
     ]
    },
    {
     "name": "stdout",
     "output_type": "stream",
     "text": [
      "100.0%... "
     ]
    },
    {
     "name": "stdout",
     "output_type": "stream",
     "text": [
      "Done!\n"
     ]
    },
    {
     "name": "stdout",
     "output_type": "stream",
     "text": [
      "Evaluation results for aerowaythingwaysorted (20.0% sample):\n",
      "  MAE: 28790.32\n",
      "  MAPE: 82.72%\n",
      "  Q-Score: 2.13\n",
      "  Avg. Estimation Time: 1.8465 ms\n",
      "  Model Size: 116.49 MB\n",
      "  Num Level Nodes: 113\n"
     ]
    },
    {
     "name": "stdout",
     "output_type": "stream",
     "text": [
      "Finished processing aerowaythingwaysorted (8/14)\n"
     ]
    },
    {
     "name": "stdout",
     "output_type": "stream",
     "text": [
      "\n",
      "================================================================================\n",
      "DATASET 9/14: cyclewaythingwaysorted\n",
      "================================================================================\n"
     ]
    },
    {
     "name": "stdout",
     "output_type": "stream",
     "text": [
      "Loading query results from ../../large_files/resultsDistance/cyclewaythingwaysorted_results.csv\n"
     ]
    },
    {
     "name": "stdout",
     "output_type": "stream",
     "text": [
      "Using 20.0% sample: 213412 out of 1067063 queries\n"
     ]
    },
    {
     "name": "stdout",
     "output_type": "stream",
     "text": [
      "Processing cyclewaythingwaysorted queries: "
     ]
    },
    {
     "name": "stdout",
     "output_type": "stream",
     "text": [
      "0.0%... "
     ]
    },
    {
     "name": "stdout",
     "output_type": "stream",
     "text": [
      "10.0%... "
     ]
    },
    {
     "name": "stdout",
     "output_type": "stream",
     "text": [
      "20.0%... "
     ]
    },
    {
     "name": "stdout",
     "output_type": "stream",
     "text": [
      "30.0%... "
     ]
    },
    {
     "name": "stdout",
     "output_type": "stream",
     "text": [
      "40.0%... "
     ]
    },
    {
     "name": "stdout",
     "output_type": "stream",
     "text": [
      "50.0%... "
     ]
    },
    {
     "name": "stdout",
     "output_type": "stream",
     "text": [
      "60.0%... "
     ]
    },
    {
     "name": "stdout",
     "output_type": "stream",
     "text": [
      "70.0%... "
     ]
    },
    {
     "name": "stdout",
     "output_type": "stream",
     "text": [
      "80.0%... "
     ]
    },
    {
     "name": "stdout",
     "output_type": "stream",
     "text": [
      "90.0%... "
     ]
    },
    {
     "name": "stdout",
     "output_type": "stream",
     "text": [
      "100.0%... "
     ]
    },
    {
     "name": "stdout",
     "output_type": "stream",
     "text": [
      "100.0%... "
     ]
    },
    {
     "name": "stdout",
     "output_type": "stream",
     "text": [
      "Done!\n"
     ]
    },
    {
     "name": "stdout",
     "output_type": "stream",
     "text": [
      "Evaluation results for cyclewaythingwaysorted (20.0% sample):\n",
      "  MAE: 136427.99\n",
      "  MAPE: 244.48%\n",
      "  Q-Score: 3.51\n",
      "  Avg. Estimation Time: 2.8176 ms\n",
      "  Model Size: 336.85 MB\n",
      "  Num Level Nodes: 170\n"
     ]
    },
    {
     "name": "stdout",
     "output_type": "stream",
     "text": [
      "Finished processing cyclewaythingwaysorted (9/14)\n"
     ]
    },
    {
     "name": "stdout",
     "output_type": "stream",
     "text": [
      "\n",
      "================================================================================\n",
      "DATASET 10/14: powerthingwaysorted\n",
      "================================================================================\n"
     ]
    },
    {
     "name": "stdout",
     "output_type": "stream",
     "text": [
      "Loading query results from ../../large_files/resultsDistance/powerthingwaysorted_results.csv\n"
     ]
    },
    {
     "name": "stdout",
     "output_type": "stream",
     "text": [
      "Using 20.0% sample: 543457 out of 2717289 queries\n"
     ]
    },
    {
     "name": "stdout",
     "output_type": "stream",
     "text": [
      "Processing powerthingwaysorted queries: "
     ]
    },
    {
     "name": "stdout",
     "output_type": "stream",
     "text": [
      "0.0%... "
     ]
    },
    {
     "name": "stdout",
     "output_type": "stream",
     "text": [
      "10.0%... "
     ]
    },
    {
     "name": "stdout",
     "output_type": "stream",
     "text": [
      "20.0%... "
     ]
    },
    {
     "name": "stdout",
     "output_type": "stream",
     "text": [
      "30.0%... "
     ]
    },
    {
     "name": "stdout",
     "output_type": "stream",
     "text": [
      "40.0%... "
     ]
    },
    {
     "name": "stdout",
     "output_type": "stream",
     "text": [
      "50.0%... "
     ]
    },
    {
     "name": "stdout",
     "output_type": "stream",
     "text": [
      "60.0%... "
     ]
    },
    {
     "name": "stdout",
     "output_type": "stream",
     "text": [
      "70.0%... "
     ]
    },
    {
     "name": "stdout",
     "output_type": "stream",
     "text": [
      "80.0%... "
     ]
    },
    {
     "name": "stdout",
     "output_type": "stream",
     "text": [
      "90.0%... "
     ]
    },
    {
     "name": "stdout",
     "output_type": "stream",
     "text": [
      "100.0%... "
     ]
    },
    {
     "name": "stdout",
     "output_type": "stream",
     "text": [
      "100.0%... "
     ]
    },
    {
     "name": "stdout",
     "output_type": "stream",
     "text": [
      "Done!\n"
     ]
    },
    {
     "name": "stdout",
     "output_type": "stream",
     "text": [
      "Evaluation results for powerthingwaysorted (20.0% sample):\n",
      "  MAE: 101798.81\n",
      "  MAPE: 96.33%\n",
      "  Q-Score: 2.05\n",
      "  Avg. Estimation Time: 6.5313 ms\n",
      "  Model Size: 874.03 MB\n",
      "  Num Level Nodes: 403\n"
     ]
    },
    {
     "name": "stdout",
     "output_type": "stream",
     "text": [
      "Finished processing powerthingwaysorted (10/14)\n"
     ]
    },
    {
     "name": "stdout",
     "output_type": "stream",
     "text": [
      "\n",
      "================================================================================\n",
      "DATASET 11/14: leisurewaysorted\n",
      "================================================================================\n"
     ]
    },
    {
     "name": "stdout",
     "output_type": "stream",
     "text": [
      "Loading query results from ../../large_files/resultsDistance/leisurewaysorted_results.csv\n"
     ]
    },
    {
     "name": "stdout",
     "output_type": "stream",
     "text": [
      "Using 20.0% sample: 1175314 out of 5876570 queries\n"
     ]
    },
    {
     "name": "stdout",
     "output_type": "stream",
     "text": [
      "Processing leisurewaysorted queries: "
     ]
    },
    {
     "name": "stdout",
     "output_type": "stream",
     "text": [
      "0.0%... "
     ]
    },
    {
     "name": "stdout",
     "output_type": "stream",
     "text": [
      "10.0%... "
     ]
    },
    {
     "name": "stdout",
     "output_type": "stream",
     "text": [
      "20.0%... "
     ]
    },
    {
     "name": "stdout",
     "output_type": "stream",
     "text": [
      "30.0%... "
     ]
    },
    {
     "name": "stdout",
     "output_type": "stream",
     "text": [
      "40.0%... "
     ]
    },
    {
     "name": "stdout",
     "output_type": "stream",
     "text": [
      "50.0%... "
     ]
    },
    {
     "name": "stdout",
     "output_type": "stream",
     "text": [
      "60.0%... "
     ]
    },
    {
     "name": "stdout",
     "output_type": "stream",
     "text": [
      "70.0%... "
     ]
    },
    {
     "name": "stdout",
     "output_type": "stream",
     "text": [
      "80.0%... "
     ]
    },
    {
     "name": "stdout",
     "output_type": "stream",
     "text": [
      "90.0%... "
     ]
    },
    {
     "name": "stdout",
     "output_type": "stream",
     "text": [
      "100.0%... "
     ]
    },
    {
     "name": "stdout",
     "output_type": "stream",
     "text": [
      "100.0%... "
     ]
    },
    {
     "name": "stdout",
     "output_type": "stream",
     "text": [
      "Done!\n"
     ]
    },
    {
     "name": "stdout",
     "output_type": "stream",
     "text": [
      "Evaluation results for leisurewaysorted (20.0% sample):\n",
      "  MAE: 260149.78\n",
      "  MAPE: 35.99%\n",
      "  Q-Score: 1.42\n",
      "  Avg. Estimation Time: 11.0375 ms\n",
      "  Model Size: 1866.94 MB\n",
      "  Num Level Nodes: 687\n"
     ]
    },
    {
     "name": "stdout",
     "output_type": "stream",
     "text": [
      "Finished processing leisurewaysorted (11/14)\n"
     ]
    },
    {
     "name": "stdout",
     "output_type": "stream",
     "text": [
      "\n",
      "================================================================================\n",
      "DATASET 12/14: barrierthingwaysorted\n",
      "================================================================================\n"
     ]
    },
    {
     "name": "stdout",
     "output_type": "stream",
     "text": [
      "Loading query results from ../../large_files/resultsDistance/barrierthingwaysorted_results.csv\n"
     ]
    },
    {
     "name": "stdout",
     "output_type": "stream",
     "text": [
      "Using 20.0% sample: 916334 out of 4581670 queries\n"
     ]
    },
    {
     "name": "stdout",
     "output_type": "stream",
     "text": [
      "Processing barrierthingwaysorted queries: "
     ]
    },
    {
     "name": "stdout",
     "output_type": "stream",
     "text": [
      "0.0%... "
     ]
    },
    {
     "name": "stdout",
     "output_type": "stream",
     "text": [
      "10.0%... "
     ]
    },
    {
     "name": "stdout",
     "output_type": "stream",
     "text": [
      "20.0%... "
     ]
    },
    {
     "name": "stdout",
     "output_type": "stream",
     "text": [
      "30.0%... "
     ]
    },
    {
     "name": "stdout",
     "output_type": "stream",
     "text": [
      "40.0%... "
     ]
    },
    {
     "name": "stdout",
     "output_type": "stream",
     "text": [
      "50.0%... "
     ]
    },
    {
     "name": "stdout",
     "output_type": "stream",
     "text": [
      "60.0%... "
     ]
    },
    {
     "name": "stdout",
     "output_type": "stream",
     "text": [
      "70.0%... "
     ]
    },
    {
     "name": "stdout",
     "output_type": "stream",
     "text": [
      "80.0%... "
     ]
    },
    {
     "name": "stdout",
     "output_type": "stream",
     "text": [
      "90.0%... "
     ]
    },
    {
     "name": "stdout",
     "output_type": "stream",
     "text": [
      "100.0%... "
     ]
    },
    {
     "name": "stdout",
     "output_type": "stream",
     "text": [
      "100.0%... "
     ]
    },
    {
     "name": "stdout",
     "output_type": "stream",
     "text": [
      "Done!\n"
     ]
    },
    {
     "name": "stdout",
     "output_type": "stream",
     "text": [
      "Evaluation results for barrierthingwaysorted (20.0% sample):\n",
      "  MAE: 301391.93\n",
      "  MAPE: 44.80%\n",
      "  Q-Score: 1.55\n",
      "  Avg. Estimation Time: 9.2125 ms\n",
      "  Model Size: 1456.06 MB\n",
      "  Num Level Nodes: 569\n"
     ]
    },
    {
     "name": "stdout",
     "output_type": "stream",
     "text": [
      "Finished processing barrierthingwaysorted (12/14)\n"
     ]
    },
    {
     "name": "stdout",
     "output_type": "stream",
     "text": [
      "\n",
      "================================================================================\n",
      "DATASET 13/14: powerthingnodesorted\n",
      "================================================================================\n"
     ]
    },
    {
     "name": "stdout",
     "output_type": "stream",
     "text": [
      "Loading query results from ../../large_files/resultsDistance/powerthingnodesorted_results.csv\n"
     ]
    },
    {
     "name": "stdout",
     "output_type": "stream",
     "text": [
      "Using 20.0% sample: 420502 out of 2102514 queries\n"
     ]
    },
    {
     "name": "stdout",
     "output_type": "stream",
     "text": [
      "Processing powerthingnodesorted queries: "
     ]
    },
    {
     "name": "stdout",
     "output_type": "stream",
     "text": [
      "0.0%... "
     ]
    },
    {
     "name": "stdout",
     "output_type": "stream",
     "text": [
      "10.0%... "
     ]
    },
    {
     "name": "stdout",
     "output_type": "stream",
     "text": [
      "20.0%... "
     ]
    },
    {
     "name": "stdout",
     "output_type": "stream",
     "text": [
      "30.0%... "
     ]
    },
    {
     "name": "stdout",
     "output_type": "stream",
     "text": [
      "40.0%... "
     ]
    },
    {
     "name": "stdout",
     "output_type": "stream",
     "text": [
      "50.0%... "
     ]
    },
    {
     "name": "stdout",
     "output_type": "stream",
     "text": [
      "60.0%... "
     ]
    },
    {
     "name": "stdout",
     "output_type": "stream",
     "text": [
      "70.0%... "
     ]
    },
    {
     "name": "stdout",
     "output_type": "stream",
     "text": [
      "80.0%... "
     ]
    },
    {
     "name": "stdout",
     "output_type": "stream",
     "text": [
      "90.0%... "
     ]
    },
    {
     "name": "stdout",
     "output_type": "stream",
     "text": [
      "100.0%... "
     ]
    },
    {
     "name": "stdout",
     "output_type": "stream",
     "text": [
      "100.0%... "
     ]
    },
    {
     "name": "stdout",
     "output_type": "stream",
     "text": [
      "Done!\n"
     ]
    },
    {
     "name": "stdout",
     "output_type": "stream",
     "text": [
      "Evaluation results for powerthingnodesorted (20.0% sample):\n",
      "  MAE: 85130.85\n",
      "  MAPE: 175.83%\n",
      "  Q-Score: 2.86\n",
      "  Avg. Estimation Time: 5.3593 ms\n",
      "  Model Size: 686.43 MB\n",
      "  Num Level Nodes: 332\n"
     ]
    },
    {
     "name": "stdout",
     "output_type": "stream",
     "text": [
      "Finished processing powerthingnodesorted (13/14)\n"
     ]
    },
    {
     "name": "stdout",
     "output_type": "stream",
     "text": [
      "\n",
      "================================================================================\n",
      "DATASET 14/14: arealm\n",
      "================================================================================\n"
     ]
    },
    {
     "name": "stdout",
     "output_type": "stream",
     "text": [
      "Loading query results from ../../large_files/resultsDistance/arealm_results.csv\n"
     ]
    },
    {
     "name": "stdout",
     "output_type": "stream",
     "text": [
      "Using 20.0% sample: 5166 out of 25833 queries\n"
     ]
    },
    {
     "name": "stdout",
     "output_type": "stream",
     "text": [
      "Processing arealm queries: "
     ]
    },
    {
     "name": "stdout",
     "output_type": "stream",
     "text": [
      "0.0%... "
     ]
    },
    {
     "name": "stdout",
     "output_type": "stream",
     "text": [
      "10.0%... "
     ]
    },
    {
     "name": "stdout",
     "output_type": "stream",
     "text": [
      "20.0%... "
     ]
    },
    {
     "name": "stdout",
     "output_type": "stream",
     "text": [
      "30.0%... "
     ]
    },
    {
     "name": "stdout",
     "output_type": "stream",
     "text": [
      "40.0%... "
     ]
    },
    {
     "name": "stdout",
     "output_type": "stream",
     "text": [
      "50.0%... "
     ]
    },
    {
     "name": "stdout",
     "output_type": "stream",
     "text": [
      "59.9%... "
     ]
    },
    {
     "name": "stdout",
     "output_type": "stream",
     "text": [
      "69.9%... "
     ]
    },
    {
     "name": "stdout",
     "output_type": "stream",
     "text": [
      "79.9%... "
     ]
    },
    {
     "name": "stdout",
     "output_type": "stream",
     "text": [
      "89.9%... "
     ]
    },
    {
     "name": "stdout",
     "output_type": "stream",
     "text": [
      "99.9%... "
     ]
    },
    {
     "name": "stdout",
     "output_type": "stream",
     "text": [
      "100.0%... "
     ]
    },
    {
     "name": "stdout",
     "output_type": "stream",
     "text": [
      "Done!\n"
     ]
    },
    {
     "name": "stdout",
     "output_type": "stream",
     "text": [
      "Evaluation results for arealm (20.0% sample):\n",
      "  MAE: 21423.16\n",
      "  MAPE: 659.78%\n",
      "  Q-Score: 12.44\n",
      "  Avg. Estimation Time: 0.1198 ms\n",
      "  Model Size: 8.34 MB\n",
      "  Num Level Nodes: 6\n"
     ]
    },
    {
     "name": "stdout",
     "output_type": "stream",
     "text": [
      "Finished processing arealm (14/14)\n"
     ]
    },
    {
     "name": "stdout",
     "output_type": "stream",
     "text": [
      "\n",
      "Combined results:\n",
      "                    Dataset            MAE      MAPE    Q_Score  \\\n",
      "0                     yago2   93859.612093  6.166167  13.192274   \n",
      "1            craftwaysorted    8045.326077  1.336542   4.203567   \n",
      "2                     zcta5    4384.912453  4.134996  10.978845   \n",
      "3                 areawater  141534.959895  6.455758   7.505850   \n",
      "4    aerowaythingnodesorted    2627.872159  1.955622   5.285887   \n",
      "5   emergencythingwaysorted   37218.575444  5.947638   6.268320   \n",
      "6    historicthingwaysorted  104676.863908  0.672205   2.077272   \n",
      "7     aerowaythingwaysorted   28790.316995  0.827240   2.131138   \n",
      "8    cyclewaythingwaysorted  136427.985877  2.444777   3.506763   \n",
      "9       powerthingwaysorted  101798.811214  0.963313   2.046686   \n",
      "10         leisurewaysorted  260149.780025  0.359936   1.424671   \n",
      "11    barrierthingwaysorted  301391.932469  0.447968   1.545256   \n",
      "12     powerthingnodesorted   85130.845832  1.758349   2.858815   \n",
      "13                   arealm   21423.156407  6.597832  12.442286   \n",
      "\n",
      "    Model_Size_MB  Num_Level_Nodes  \n",
      "0      294.982596              305  \n",
      "1        6.902901                9  \n",
      "2        2.199424                3  \n",
      "3      146.790618               26  \n",
      "4        5.086202                4  \n",
      "5       51.569801               58  \n",
      "6      114.028919               94  \n",
      "7      116.494888              113  \n",
      "8      336.845875              170  \n",
      "9      874.027491              403  \n",
      "10    1866.938595              687  \n",
      "11    1456.056671              569  \n",
      "12     686.429578              332  \n",
      "13       8.340222                6  \n"
     ]
    },
    {
     "name": "stdout",
     "output_type": "stream",
     "text": [
      "R-tree distance estimation evaluation complete!\n"
     ]
    }
   ],
   "source": [
    "import numpy as np\n",
    "import pandas as pd\n",
    "import matplotlib.pyplot as plt\n",
    "import os\n",
    "import re\n",
    "import configparser\n",
    "import sys\n",
    "import time\n",
    "import pickle\n",
    "from tqdm import tqdm\n",
    "from sklearn.metrics import mean_absolute_error\n",
    "\n",
    "class RTreeDistanceEstimator:\n",
    "    \"\"\"\n",
    "    Spatial selectivity estimator using pre-built R-tree models for distance filter operations\n",
    "    \"\"\"\n",
    "    def __init__(self, data_dir=\"../../large_files\"):\n",
    "        \"\"\"\n",
    "        Initialize the R-tree based estimator using pre-built models\n",
    "        \n",
    "        Parameters:\n",
    "        -----------\n",
    "        data_dir : str\n",
    "            Directory containing R-tree models\n",
    "        \"\"\"\n",
    "        self.data_dir = data_dir\n",
    "        self.rtree_dir = f\"{data_dir}/traditional_methods/rtree/models\"\n",
    "        self.results_dir = f\"{data_dir}/traditional_methods/rtree/results/distance\"\n",
    "        self.viz_dir = f\"{data_dir}/traditional_methods/rtree/visualizations/distance\"\n",
    "        \n",
    "        # Create directories\n",
    "        os.makedirs(self.results_dir, exist_ok=True)\n",
    "        os.makedirs(self.viz_dir, exist_ok=True)\n",
    "        \n",
    "        self.universe_boundaries = {}\n",
    "        self.dataset_sizes = {}\n",
    "        self.level_nodes = {}\n",
    "        self.model_metadata = {}\n",
    "        self.cache = {}  # Query result cache\n",
    "        \n",
    "        # Load dataset metadata\n",
    "        self.load_spatial_statistics()\n",
    "        \n",
    "        # Load available models\n",
    "        self.load_available_models()\n",
    "    \n",
    "    def load_spatial_statistics(self):\n",
    "        \"\"\"Load dataset information from spatial_statistics.csv\"\"\"\n",
    "        try:\n",
    "            stats_df = pd.read_csv(\"../../spatial_statistics.csv\")\n",
    "            for _, row in stats_df.iterrows():\n",
    "                table_name = row['Table Name']\n",
    "                total_objects = row['Total Spatial Objects']\n",
    "                bbox_str = row['Universe Limits (Bounding Box)']\n",
    "                \n",
    "                # Parse bounding box\n",
    "                bbox = self.parse_bbox(bbox_str)\n",
    "                self.universe_boundaries[table_name] = bbox\n",
    "                self.dataset_sizes[table_name] = int(total_objects)\n",
    "                \n",
    "            print(f\"Loaded metadata for {len(self.universe_boundaries)} datasets\")\n",
    "            sys.stdout.flush()\n",
    "        except Exception as e:\n",
    "            print(f\"Error loading spatial statistics: {e}\")\n",
    "            sys.stdout.flush()\n",
    "    \n",
    "    def parse_bbox(self, bbox_str):\n",
    "        \"\"\"Parse bounding box string into coordinates\"\"\"\n",
    "        pattern = r\"BOX\\(([-\\d\\.]+) ([-\\d\\.]+),([-\\d\\.]+) ([-\\d\\.]+)\\)\"\n",
    "        match = re.search(pattern, bbox_str)\n",
    "        if match:\n",
    "            xmin = float(match.group(1))\n",
    "            ymin = float(match.group(2))\n",
    "            xmax = float(match.group(3))\n",
    "            ymax = float(match.group(4))\n",
    "            return (xmin, ymin, xmax, ymax)\n",
    "        return (-180, -90, 180, 90)  # Default if parsing fails\n",
    "    \n",
    "    def load_available_models(self):\n",
    "        \"\"\"Load all available pre-built R-tree models\"\"\"\n",
    "        if not os.path.exists(self.rtree_dir):\n",
    "            print(f\"Model directory not found: {self.rtree_dir}\")\n",
    "            return\n",
    "        \n",
    "        # Check for metadata file first\n",
    "        metadata_file = f\"{self.rtree_dir}/all_rtree_metadata.csv\"\n",
    "        if os.path.exists(metadata_file):\n",
    "            metadata_df = pd.read_csv(metadata_file)\n",
    "            for _, row in metadata_df.iterrows():\n",
    "                dataset_name = row['dataset']\n",
    "                self.model_metadata[dataset_name] = row.to_dict()\n",
    "        \n",
    "        # Load level nodes for each dataset\n",
    "        loaded_count = 0\n",
    "        for dataset_name in self.universe_boundaries.keys():\n",
    "            level_nodes_path = f\"{self.rtree_dir}/{dataset_name}_level_nodes.pkl\"\n",
    "            metadata_path = f\"{self.rtree_dir}/{dataset_name}_metadata.json\"\n",
    "            \n",
    "            if os.path.exists(level_nodes_path):\n",
    "                try:\n",
    "                    with open(level_nodes_path, 'rb') as f:\n",
    "                        self.level_nodes[dataset_name] = pickle.load(f)\n",
    "                    \n",
    "                    # Load metadata if not already loaded\n",
    "                    if dataset_name not in self.model_metadata and os.path.exists(metadata_path):\n",
    "                        self.model_metadata[dataset_name] = pd.read_json(metadata_path, typ='series').to_dict()\n",
    "                    \n",
    "                    loaded_count += 1\n",
    "                except Exception as e:\n",
    "                    print(f\"Error loading model for {dataset_name}: {e}\")\n",
    "        \n",
    "        print(f\"Loaded {loaded_count} pre-built R-tree models\")\n",
    "        sys.stdout.flush()\n",
    "    \n",
    "    def parse_mbr(self, mbr_str):\n",
    "        \"\"\"Parse MBR string from format like '(x1, y1, x2, y2)'\"\"\"\n",
    "        if isinstance(mbr_str, str):\n",
    "            coords = mbr_str.strip('\"()').split(', ')\n",
    "            return [float(coord) for coord in coords]\n",
    "        return mbr_str  # Already parsed\n",
    "    \n",
    "    def calculate_distance(self, point1, point2):\n",
    "        \"\"\"\n",
    "        Calculate Euclidean distance between two points\n",
    "        \n",
    "        Parameters:\n",
    "        -----------\n",
    "        point1, point2 : tuple\n",
    "            (x, y) coordinates of the two points\n",
    "            \n",
    "        Returns:\n",
    "        --------\n",
    "        float : Distance between the points\n",
    "        \"\"\"\n",
    "        return np.sqrt((point1[0] - point2[0])**2 + (point1[1] - point2[1])**2)\n",
    "    \n",
    "    def calculate_min_distance(self, mbr1, mbr2):\n",
    "        \"\"\"\n",
    "        Calculate minimum distance between two MBRs\n",
    "        \n",
    "        Parameters:\n",
    "        -----------\n",
    "        mbr1, mbr2 : tuple\n",
    "            (xmin, ymin, xmax, ymax) coordinates of the two MBRs\n",
    "            \n",
    "        Returns:\n",
    "        --------\n",
    "        float : Minimum distance between the MBRs\n",
    "        \"\"\"\n",
    "        # Unpack MBR coordinates\n",
    "        mbr1_xmin, mbr1_ymin, mbr1_xmax, mbr1_ymax = mbr1\n",
    "        mbr2_xmin, mbr2_ymin, mbr2_xmax, mbr2_ymax = mbr2\n",
    "        \n",
    "        # Calculate distance in x direction\n",
    "        dx = 0\n",
    "        if mbr1_xmax < mbr2_xmin:\n",
    "            dx = mbr2_xmin - mbr1_xmax\n",
    "        elif mbr2_xmax < mbr1_xmin:\n",
    "            dx = mbr1_xmin - mbr2_xmax\n",
    "        \n",
    "        # Calculate distance in y direction\n",
    "        dy = 0\n",
    "        if mbr1_ymax < mbr2_ymin:\n",
    "            dy = mbr2_ymin - mbr1_ymax\n",
    "        elif mbr2_ymax < mbr1_ymin:\n",
    "            dy = mbr1_ymin - mbr2_ymax\n",
    "        \n",
    "        # Return Euclidean distance\n",
    "        return np.sqrt(dx**2 + dy**2)\n",
    "    \n",
    "    def calculate_max_distance(self, mbr1, mbr2):\n",
    "        \"\"\"\n",
    "        Calculate maximum distance between two MBRs (farthest corners)\n",
    "        \n",
    "        Parameters:\n",
    "        -----------\n",
    "        mbr1, mbr2 : tuple\n",
    "            (xmin, ymin, xmax, ymax) coordinates of the two MBRs\n",
    "            \n",
    "        Returns:\n",
    "        --------\n",
    "        float : Maximum distance between the MBRs\n",
    "        \"\"\"\n",
    "        # Unpack MBR coordinates\n",
    "        mbr1_xmin, mbr1_ymin, mbr1_xmax, mbr1_ymax = mbr1\n",
    "        mbr2_xmin, mbr2_ymin, mbr2_xmax, mbr2_ymax = mbr2\n",
    "        \n",
    "        # Calculate distance for all corner combinations\n",
    "        distances = []\n",
    "        for x1, y1 in [(mbr1_xmin, mbr1_ymin), (mbr1_xmin, mbr1_ymax), \n",
    "                        (mbr1_xmax, mbr1_ymin), (mbr1_xmax, mbr1_ymax)]:\n",
    "            for x2, y2 in [(mbr2_xmin, mbr2_ymin), (mbr2_xmin, mbr2_ymax), \n",
    "                           (mbr2_xmax, mbr2_ymin), (mbr2_xmax, mbr2_ymax)]:\n",
    "                distances.append(np.sqrt((x1 - x2)**2 + (y1 - y2)**2))\n",
    "        \n",
    "        return max(distances)\n",
    "    \n",
    "    def get_mbr_center(self, mbr):\n",
    "        \"\"\"\n",
    "        Calculate center point of an MBR\n",
    "        \n",
    "        Parameters:\n",
    "        -----------\n",
    "        mbr : tuple\n",
    "            (xmin, ymin, xmax, ymax) coordinates\n",
    "            \n",
    "        Returns:\n",
    "        --------\n",
    "        tuple : (x_center, y_center) coordinates\n",
    "        \"\"\"\n",
    "        xmin, ymin, xmax, ymax = mbr\n",
    "        return ((xmin + xmax) / 2, (ymin + ymax) / 2)\n",
    "    \n",
    "    def estimate_distance_count(self, dataset_name, object_mbr, min_distance, max_distance):\n",
    "        \"\"\"\n",
    "        Estimate the number of objects that are within the specified distance range\n",
    "        of the object using the level-before-leaves approach\n",
    "        \n",
    "        Parameters:\n",
    "        -----------\n",
    "        dataset_name : str\n",
    "            Name of the dataset to query against\n",
    "        object_mbr : list or str\n",
    "            Object MBR as [xmin, ymin, xmax, ymax] or '(xmin, ymin, xmax, ymax)'\n",
    "        min_distance : float\n",
    "            Minimum distance from the object\n",
    "        max_distance : float\n",
    "            Maximum distance from the object\n",
    "            \n",
    "        Returns:\n",
    "        --------\n",
    "        float\n",
    "            Estimated number of objects within the distance range\n",
    "        \"\"\"\n",
    "        # Check if result is in cache\n",
    "        if isinstance(object_mbr, list):\n",
    "            object_mbr = tuple(object_mbr)\n",
    "        cache_key = f\"{dataset_name}_{object_mbr}_{min_distance}_{max_distance}\"\n",
    "        if cache_key in self.cache:\n",
    "            return self.cache[cache_key]\n",
    "        \n",
    "        # Parse object MBR if needed\n",
    "        if isinstance(object_mbr, str):\n",
    "            object_mbr = self.parse_mbr(object_mbr)\n",
    "        \n",
    "        # Check if model is available\n",
    "        if dataset_name not in self.level_nodes:\n",
    "            print(f\"No R-tree model found for {dataset_name}\")\n",
    "            return 0\n",
    "        \n",
    "        # Get level nodes and total objects\n",
    "        nodes = self.level_nodes[dataset_name]\n",
    "        total_objects = self.dataset_sizes[dataset_name]\n",
    "        \n",
    "        # Calculate object center\n",
    "        object_center = self.get_mbr_center(object_mbr)\n",
    "        \n",
    "        # Count objects within the distance range\n",
    "        total_node_objects = sum(node['objects'] for node in nodes)\n",
    "        if total_node_objects <= 0:\n",
    "            return 0  # Avoid division by zero\n",
    "            \n",
    "        objects_in_range = 0\n",
    "        \n",
    "        for node in nodes:\n",
    "            node_mbr = node['mbr']\n",
    "            node_objects = node['objects']\n",
    "            node_center = self.get_mbr_center(node_mbr)\n",
    "            \n",
    "            # Calculate min and max distances between object and node\n",
    "            min_dist = self.calculate_min_distance(object_mbr, node_mbr)\n",
    "            max_dist = self.calculate_max_distance(object_mbr, node_mbr)\n",
    "            \n",
    "            # Case 1: Node is completely within the distance range\n",
    "            if min_dist >= min_distance and max_dist <= max_distance:\n",
    "                objects_in_range += node_objects\n",
    "            \n",
    "            # Case 2: Node is partially within the distance range\n",
    "            elif min_dist <= max_distance and max_dist >= min_distance:\n",
    "                # Calculate center-to-center distance for weighting\n",
    "                center_dist = self.calculate_distance(object_center, node_center)\n",
    "                \n",
    "                # Calculate overlap proportion based on distances\n",
    "                if max_dist - min_dist > 0:\n",
    "                    range_overlap = (min(max_distance, max_dist) - max(min_distance, min_dist)) / (max_dist - min_dist)\n",
    "                    # Adjust with center distance as a factor\n",
    "                    if center_dist >= min_distance and center_dist <= max_distance:\n",
    "                        weight = range_overlap * 0.8 + 0.2  # Boost weight if center is in range\n",
    "                    else:\n",
    "                        weight = range_overlap * 0.5\n",
    "                    \n",
    "                    objects_in_range += node_objects * weight\n",
    "                \n",
    "        # Scale to match total objects\n",
    "        estimated_count = objects_in_range * (total_objects / total_node_objects)\n",
    "        \n",
    "        # Cache and return result\n",
    "        estimated_count = max(0, round(estimated_count))\n",
    "        self.cache[cache_key] = estimated_count\n",
    "        return estimated_count\n",
    "    \n",
    "    def evaluate_on_dataset(self, dataset_name, results_file=None, sample_ratio=0.2):\n",
    "        \"\"\"\n",
    "        Evaluate the R-tree based distance estimation method on a dataset\n",
    "        \n",
    "        Parameters:\n",
    "        -----------\n",
    "        dataset_name : str\n",
    "            Name of the dataset to evaluate\n",
    "        results_file : str\n",
    "            Path to the file containing actual query results\n",
    "        sample_ratio : float\n",
    "            Fraction of dataset to use (0.2 = 20%)\n",
    "            \n",
    "        Returns:\n",
    "        --------\n",
    "        dict\n",
    "            Evaluation results including MAE, MAPE, q-score, and model metadata\n",
    "        \"\"\"\n",
    "        if not results_file:\n",
    "            results_file = f\"../../large_files/resultsDistance/{dataset_name}_results.csv\"\n",
    "            \n",
    "        if not os.path.exists(results_file):\n",
    "            raise ValueError(f\"Results file not found: {results_file}\")\n",
    "            \n",
    "        # Check if model is available\n",
    "        if dataset_name not in self.level_nodes:\n",
    "            raise ValueError(f\"No R-tree model found for {dataset_name}\")\n",
    "            \n",
    "        # Load query results\n",
    "        print(f\"Loading query results from {results_file}\")\n",
    "        sys.stdout.flush()\n",
    "        \n",
    "        try:\n",
    "            results_df = pd.read_csv(results_file)\n",
    "            \n",
    "            # Sample only a portion of the dataset\n",
    "            sample_size = max(1, int(len(results_df) * sample_ratio))\n",
    "            print(f\"Using {sample_ratio*100}% sample: {sample_size} out of {len(results_df)} queries\")\n",
    "            sys.stdout.flush()\n",
    "            sampled_results = results_df.sample(n=sample_size, random_state=42)\n",
    "            \n",
    "            # Prepare arrays for evaluation\n",
    "            actual_counts = []\n",
    "            estimated_counts = []\n",
    "            estimation_times = []\n",
    "            \n",
    "            # Process each query with progress reporting\n",
    "            print(f\"Processing {dataset_name} queries: \", end=\"\", flush=True)\n",
    "            sys.stdout.flush()\n",
    "            \n",
    "            total_queries = len(sampled_results)\n",
    "            progress_step = max(1, total_queries // 10)\n",
    "            \n",
    "            for i, (index, row) in enumerate(sampled_results.iterrows()):\n",
    "                # Show progress every 10%\n",
    "                if i % progress_step == 0 or i == total_queries - 1:\n",
    "                    progress = (i+1) / total_queries * 100\n",
    "                    print(f\"{progress:.1f}%... \", end=\"\", flush=True)\n",
    "                    sys.stdout.flush()\n",
    "                    \n",
    "                object_mbr = self.parse_mbr(row['Object MBR'])\n",
    "                min_distance = row['Distance Min']\n",
    "                max_distance = row['Distance Max']\n",
    "                actual_count = row['Count MBR']\n",
    "                \n",
    "                # Measure estimation time\n",
    "                start_time = time.time()\n",
    "                estimated_count = self.estimate_distance_count(dataset_name, object_mbr, min_distance, max_distance)\n",
    "                end_time = time.time()\n",
    "                estimation_time = (end_time - start_time) * 1000  # ms\n",
    "                \n",
    "                actual_counts.append(actual_count)\n",
    "                estimated_counts.append(estimated_count)\n",
    "                estimation_times.append(estimation_time)\n",
    "            \n",
    "            print(\"Done!\")\n",
    "            sys.stdout.flush()\n",
    "            \n",
    "            # Convert to arrays for calculations\n",
    "            actual_counts = np.array(actual_counts)\n",
    "            estimated_counts = np.array(estimated_counts)\n",
    "            estimation_times = np.array(estimation_times)\n",
    "            \n",
    "            # Calculate MAE\n",
    "            mae = mean_absolute_error(actual_counts, estimated_counts)\n",
    "            \n",
    "            # Calculate MAPE with handling for zeros\n",
    "            non_zero_mask = actual_counts != 0\n",
    "            zero_mask = ~non_zero_mask\n",
    "            mape_sum = 0\n",
    "            count = len(actual_counts)\n",
    "            \n",
    "            if np.any(non_zero_mask):\n",
    "                mape_sum += np.sum(np.abs((actual_counts[non_zero_mask] - estimated_counts[non_zero_mask]) / \n",
    "                                        actual_counts[non_zero_mask]))\n",
    "            \n",
    "            if np.any(zero_mask):\n",
    "                mape_sum += np.sum(np.abs(actual_counts[zero_mask] - estimated_counts[zero_mask]) / 100)\n",
    "            \n",
    "            mape = mape_sum / count\n",
    "            \n",
    "            # Calculate q-score\n",
    "            valid_indices = (actual_counts != 0) & (estimated_counts != 0)\n",
    "            if np.any(valid_indices):\n",
    "                ratios = np.maximum(\n",
    "                    estimated_counts[valid_indices] / actual_counts[valid_indices],\n",
    "                    actual_counts[valid_indices] / estimated_counts[valid_indices]\n",
    "                )\n",
    "                q_score = np.mean(ratios)\n",
    "            else:\n",
    "                q_score = float('inf')\n",
    "                \n",
    "            avg_time_ms = np.mean(estimation_times)\n",
    "            \n",
    "            # Get model metadata\n",
    "            model_size_bytes = 0\n",
    "            level_nodes_size_bytes = 0\n",
    "            total_size_bytes = 0\n",
    "            rtree_params = {}\n",
    "            num_level_nodes = len(self.level_nodes.get(dataset_name, []))\n",
    "            \n",
    "            if dataset_name in self.model_metadata:\n",
    "                meta = self.model_metadata[dataset_name]\n",
    "                model_size_bytes = meta.get('model_size_bytes', 0)\n",
    "                level_nodes_size_bytes = meta.get('level_nodes_size_bytes', 0)\n",
    "                total_size_bytes = meta.get('total_size_bytes', 0)\n",
    "                rtree_params = meta.get('rtree_params', {})\n",
    "                if isinstance(rtree_params, str):\n",
    "                    # Handle JSON parsing if needed\n",
    "                    try:\n",
    "                        rtree_params = eval(rtree_params)\n",
    "                    except:\n",
    "                        rtree_params = {}\n",
    "            \n",
    "            # Combine results with model metadata\n",
    "            results = {\n",
    "                'Dataset': dataset_name,\n",
    "                'Method': 'RTree-Distance',\n",
    "                'MAE': mae,\n",
    "                'MAPE': mape,\n",
    "                'Q_Score': q_score,\n",
    "                'Avg_Time_ms': avg_time_ms,\n",
    "                'Num_Queries': len(sampled_results),\n",
    "                'Sample_Ratio': sample_ratio,\n",
    "                'Model_Size_MB': total_size_bytes / (1024*1024),\n",
    "                'Level_Nodes_Size_MB': level_nodes_size_bytes / (1024*1024),\n",
    "                'Num_Level_Nodes': num_level_nodes\n",
    "            }\n",
    "            \n",
    "            # Add R-tree parameters to results\n",
    "            for key, value in rtree_params.items():\n",
    "                results[f'rtree_{key}'] = value\n",
    "            \n",
    "            # Save results\n",
    "            results_file_out = f\"{self.results_dir}/{dataset_name}_evaluation_sample{int(sample_ratio*100)}.csv\"\n",
    "            pd.DataFrame([results]).to_csv(results_file_out, index=False)\n",
    "            \n",
    "            # Generate visualization\n",
    "            self.visualize_results(dataset_name, actual_counts, estimated_counts, sample_ratio)\n",
    "            \n",
    "            print(f\"Evaluation results for {dataset_name} ({sample_ratio*100}% sample):\")\n",
    "            print(f\"  MAE: {mae:.2f}\")\n",
    "            print(f\"  MAPE: {mape:.2%}\")\n",
    "            print(f\"  Q-Score: {q_score:.2f}\")\n",
    "            print(f\"  Avg. Estimation Time: {avg_time_ms:.4f} ms\")\n",
    "            print(f\"  Model Size: {results['Model_Size_MB']:.2f} MB\")\n",
    "            print(f\"  Num Level Nodes: {num_level_nodes}\")\n",
    "            sys.stdout.flush()\n",
    "            \n",
    "            return results\n",
    "            \n",
    "        except Exception as e:\n",
    "            print(f\"Error evaluating {dataset_name}: {str(e)}\")\n",
    "            sys.stdout.flush()\n",
    "            raise\n",
    "    \n",
    "    def visualize_results(self, dataset_name, actual_counts, estimated_counts, sample_ratio=0.2):\n",
    "        \"\"\"Create visualization of actual vs. predicted counts\"\"\"\n",
    "        os.makedirs(self.viz_dir, exist_ok=True)\n",
    "        \n",
    "        plt.figure(figsize=(12, 10))\n",
    "        plt.scatter(actual_counts, estimated_counts, alpha=0.5, s=8)\n",
    "        \n",
    "        max_val = max(np.max(actual_counts), np.max(estimated_counts))\n",
    "        plt.plot([0, max_val], [0, max_val], 'r--', alpha=0.7)\n",
    "        \n",
    "        plt.xlabel('Actual Count')\n",
    "        plt.ylabel('Estimated Count')\n",
    "        plt.title(f'R-tree Distance Estimation for {dataset_name} ({int(sample_ratio*100)}% sample)')\n",
    "        plt.grid(True, alpha=0.3)\n",
    "        \n",
    "        plt.savefig(\n",
    "            f\"{self.viz_dir}/{dataset_name}_estimation_sample{int(sample_ratio*100)}.png\", \n",
    "            dpi=150\n",
    "        )\n",
    "        plt.close()\n",
    "        \n",
    "        # Create a comparison for a sample of queries\n",
    "        sample_size = min(100, len(actual_counts))\n",
    "        indices = np.random.choice(len(actual_counts), sample_size, replace=False)\n",
    "        \n",
    "        plt.figure(figsize=(20, 10))\n",
    "        plt.scatter(\n",
    "            range(sample_size), \n",
    "            actual_counts[indices],\n",
    "            label='Actual Count', \n",
    "            s=100, alpha=0.7, marker='o', color='green'\n",
    "        )\n",
    "        plt.scatter(\n",
    "            range(sample_size), \n",
    "            estimated_counts[indices],\n",
    "            label='R-tree Distance Estimate', \n",
    "            s=100, alpha=0.7, marker='x', color='blue'\n",
    "        )\n",
    "        \n",
    "        plt.xlabel('Query Index')\n",
    "        plt.ylabel('Object Count')\n",
    "        plt.title(\n",
    "            f'R-tree Distance vs. Actual Count for {dataset_name} - '\n",
    "            f'Sample of {sample_size} Queries ({int(sample_ratio*100)}% dataset)'\n",
    "        )\n",
    "        plt.legend()\n",
    "        plt.grid(True, alpha=0.3)\n",
    "        \n",
    "        plt.savefig(\n",
    "            f\"{self.viz_dir}/{dataset_name}_comparison_sample{int(sample_ratio*100)}.png\", \n",
    "            dpi=150\n",
    "        )\n",
    "        plt.close()\n",
    "\n",
    "def evaluate_all_datasets(sample_ratio=0.2):\n",
    "    \"\"\"Evaluate R-tree distance estimation on all available pre-built models\"\"\"\n",
    "    print(\"Initializing R-tree distance estimator...\")\n",
    "    sys.stdout.flush()\n",
    "    \n",
    "    estimator = RTreeDistanceEstimator()\n",
    "    available_datasets = list(estimator.level_nodes.keys())\n",
    "    \n",
    "    if not available_datasets:\n",
    "        print(\"No pre-built R-tree models found. Please run RTree-builder first.\")\n",
    "        return\n",
    "    \n",
    "    print(f\"Found {len(available_datasets)} pre-built R-tree models to evaluate\")\n",
    "    sys.stdout.flush()\n",
    "    \n",
    "    all_results = []\n",
    "    \n",
    "    # Process each available dataset with clear separation\n",
    "    for idx, dataset_name in enumerate(available_datasets, start=1):\n",
    "        print(\"\\n\" + \"=\"*80)\n",
    "        print(f\"DATASET {idx}/{len(available_datasets)}: {dataset_name}\")\n",
    "        print(\"=\"*80)\n",
    "        sys.stdout.flush()\n",
    "        \n",
    "        try:\n",
    "            results = estimator.evaluate_on_dataset(dataset_name, sample_ratio=sample_ratio)\n",
    "            all_results.append(results)\n",
    "            print(f\"Finished processing {dataset_name} ({idx}/{len(available_datasets)})\")\n",
    "            sys.stdout.flush()\n",
    "        except Exception as e:\n",
    "            print(f\"Error evaluating {dataset_name}: {e}\")\n",
    "            print(\"Moving to next dataset\")\n",
    "            sys.stdout.flush()\n",
    "    \n",
    "    # Save combined results\n",
    "    if all_results:\n",
    "        out_dir = estimator.results_dir\n",
    "        os.makedirs(out_dir, exist_ok=True)\n",
    "        all_results_df = pd.DataFrame(all_results)\n",
    "        all_results_df.to_csv(\n",
    "            f\"{out_dir}/all_datasets_evaluation_sample{int(sample_ratio*100)}.csv\", \n",
    "            index=False\n",
    "        )\n",
    "        print(\"\\nCombined results:\")\n",
    "        print(all_results_df[['Dataset', 'MAE', 'MAPE', 'Q_Score', 'Model_Size_MB', 'Num_Level_Nodes']])\n",
    "    else:\n",
    "        print(\"No results were generated\")\n",
    "\n",
    "if __name__ == \"__main__\":\n",
    "    evaluate_all_datasets(sample_ratio=0.2)\n",
    "    print(\"R-tree distance estimation evaluation complete!\")"
   ]
  }
 ],
 "metadata": {
  "language_info": {
   "codemirror_mode": {
    "name": "ipython",
    "version": 3
   },
   "file_extension": ".py",
   "mimetype": "text/x-python",
   "name": "python",
   "nbconvert_exporter": "python",
   "pygments_lexer": "ipython3",
   "version": "3.12.2"
  },
  "papermill": {
   "default_parameters": {},
   "duration": 29326.229143,
   "end_time": "2025-03-27T16:28:35.015547",
   "environment_variables": {},
   "exception": null,
   "input_path": "/home/adminlias/nadir/Spatial-Selectivity-Ext/traditional_methods/rtree/RTree-distance-estimator.ipynb",
   "output_path": "/home/adminlias/nadir/Spatial-Selectivity-Ext/traditional_methods/rtree/output_RTree-distance-estimator.ipynb",
   "parameters": {},
   "start_time": "2025-03-27T08:19:48.786404",
   "version": "2.6.0"
  }
 },
 "nbformat": 4,
 "nbformat_minor": 5
}