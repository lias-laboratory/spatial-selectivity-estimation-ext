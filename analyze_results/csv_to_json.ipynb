{
 "cells": [
  {
   "cell_type": "code",
   "execution_count": 5,
   "metadata": {},
   "outputs": [],
   "source": [
    "import csv\n",
    "import json\n",
    "import os\n",
    "from pathlib import Path\n",
    "\n",
    "def try_convert_float(value):\n",
    "    \"\"\"Try to convert a string value to float if possible.\"\"\"\n",
    "    try:\n",
    "        return float(value)\n",
    "    except (ValueError, TypeError):\n",
    "        return value\n",
    "\n",
    "def convert_csv_to_json(input_path, output_path):\n",
    "    \"\"\"Convert a CSV file to JSON with automatic type conversion.\"\"\"\n",
    "    # Create output directory if it doesn't exist\n",
    "    os.makedirs(output_path, exist_ok=True)\n",
    "    \n",
    "    # Find all CSV files in the input directory\n",
    "    csv_files = list(Path(input_path).glob('*.csv'))\n",
    "    print(f\"Found {len(csv_files)} CSV files in {input_path}\")\n",
    "    \n",
    "    for csv_file in csv_files:\n",
    "        print(f\"Converting {csv_file} to JSON...\")\n",
    "        # Get the filename without extension\n",
    "        base_name = csv_file.stem\n",
    "        output_file = Path(output_path) / f\"{base_name}.json\"\n",
    "        \n",
    "        # Read CSV and convert to list of dictionaries\n",
    "        with open(csv_file, 'r', newline='') as f:\n",
    "            reader = csv.DictReader(f)\n",
    "            data = []\n",
    "            for row in reader:\n",
    "                # Convert values to float where possible\n",
    "                converted_row = {key: try_convert_float(value) for key, value in row.items()}\n",
    "                data.append(converted_row)\n",
    "        \n",
    "        # Write JSON file\n",
    "        with open(output_file, 'w') as f:\n",
    "            json.dump(data, f, indent=4)\n",
    "        \n",
    "        print(f\"Converted {csv_file} to {output_file}\")\n"
   ]
  },
  {
   "cell_type": "code",
   "execution_count": null,
   "metadata": {},
   "outputs": [
    {
     "name": "stdout",
     "output_type": "stream",
     "text": [
      "Found 14 CSV files in ../large_files/resultsIntersects/\n",
      "Converting ../large_files/resultsIntersects/historicthingwaysorted_results.csv to JSON...\n",
      "Converted ../large_files/resultsIntersects/historicthingwaysorted_results.csv to large_files/resultsIntersects/historicthingwaysorted_results.json\n",
      "Converting ../large_files/resultsIntersects/powerthingnodesorted_results.csv to JSON...\n",
      "Converted ../large_files/resultsIntersects/powerthingnodesorted_results.csv to large_files/resultsIntersects/powerthingnodesorted_results.json\n",
      "Converting ../large_files/resultsIntersects/cyclewaythingwaysorted_results.csv to JSON...\n",
      "Converted ../large_files/resultsIntersects/cyclewaythingwaysorted_results.csv to large_files/resultsIntersects/cyclewaythingwaysorted_results.json\n",
      "Converting ../large_files/resultsIntersects/aerowaythingwaysorted_results.csv to JSON...\n",
      "Converted ../large_files/resultsIntersects/aerowaythingwaysorted_results.csv to large_files/resultsIntersects/aerowaythingwaysorted_results.json\n",
      "Converting ../large_files/resultsIntersects/zcta5_results.csv to JSON...\n",
      "Converted ../large_files/resultsIntersects/zcta5_results.csv to large_files/resultsIntersects/zcta5_results.json\n",
      "Converting ../large_files/resultsIntersects/leisurewaysorted_results.csv to JSON...\n"
     ]
    }
   ],
   "source": [
    "input_folder = \"../large_files/resultsIntersects/\"  # Change this to your input folder path\n",
    "output_folder = \"large_files/resultsIntersects/\"  # Change this to your output folder path\n",
    "convert_csv_to_json(input_folder, output_folder)"
   ]
  },
  {
   "cell_type": "code",
   "execution_count": 3,
   "metadata": {},
   "outputs": [],
   "source": [
    "import os\n",
    "os.environ[\"MPLBACKEND\"] = \"agg\"\n",
    "\n",
    "import matplotlib\n",
    "matplotlib.use(\"Agg\")\n",
    "matplotlib.rcParams.update({\n",
    "    'font.family': 'serif',\n",
    "    'font.size': 12\n",
    "})"
   ]
  }
 ],
 "metadata": {
  "kernelspec": {
   "display_name": "analyze_new_env",
   "language": "python",
   "name": "python3"
  },
  "language_info": {
   "codemirror_mode": {
    "name": "ipython",
    "version": 3
   },
   "file_extension": ".py",
   "mimetype": "text/x-python",
   "name": "python",
   "nbconvert_exporter": "python",
   "pygments_lexer": "ipython3",
   "version": "3.12.9"
  }
 },
 "nbformat": 4,
 "nbformat_minor": 2
}
