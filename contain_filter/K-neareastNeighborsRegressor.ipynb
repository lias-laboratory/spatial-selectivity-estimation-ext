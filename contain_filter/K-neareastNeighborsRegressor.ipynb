{
 "cells": [
  {
   "cell_type": "code",
   "execution_count": 1,
   "id": "27f68ece",
   "metadata": {
    "execution": {
     "iopub.execute_input": "2025-03-23T18:15:31.231190Z",
     "iopub.status.busy": "2025-03-23T18:15:31.230548Z",
     "iopub.status.idle": "2025-03-23T21:02:00.395759Z",
     "shell.execute_reply": "2025-03-23T21:02:00.394900Z"
    },
    "papermill": {
     "duration": 9989.176496,
     "end_time": "2025-03-23T21:02:00.399954",
     "exception": false,
     "start_time": "2025-03-23T18:15:31.223458",
     "status": "completed"
    },
    "tags": []
   },
   "outputs": [
    {
     "name": "stdout",
     "output_type": "stream",
     "text": [
      "Using 29 of 30 available CPU cores\n",
      "Loading spatial statistics...\n",
      "Finding dataset files...\n",
      "Found 14 datasets to process\n"
     ]
    },
    {
     "data": {
      "application/vnd.jupyter.widget-view+json": {
       "model_id": "9f0760e5a82c4e11b020737a8346ed52",
       "version_major": 2,
       "version_minor": 0
      },
      "text/plain": [
       "Processing datasets:   0%|          | 0/14 [00:00<?, ?it/s]"
      ]
     },
     "metadata": {},
     "output_type": "display_data"
    },
    {
     "name": "stdout",
     "output_type": "stream",
     "text": [
      "Memory usage: 243.40 MB\n",
      "\n",
      "Processing dataset: craftwaysorted\n",
      "Universe boundaries for craftwaysorted: (-175.2000514, -65.2458821, 175.3397782, 69.6673353)\n",
      "Loading data from ../large_files/resultsContains/craftwaysorted_results.csv\n",
      "Parsing MBR coordinates...\n"
     ]
    },
    {
     "name": "stdout",
     "output_type": "stream",
     "text": [
      "\n",
      "Basic statistics for craftwaysorted dataset:\n",
      "Max count: 108929.0\n",
      "Min count: 0.0\n",
      "Mean count: 1705.23\n",
      "Median count: 0.00\n",
      "Total samples: 21822\n",
      "\n",
      "Calculating rectangle densities...\n",
      "Splitting data into train and test sets...\n",
      "Training set size: 17457\n",
      "\n",
      "Training with sample size: 17457\n",
      "Memory usage: 249.21 MB\n",
      "Performing grid search for optimal parameters...\n"
     ]
    },
    {
     "name": "stdout",
     "output_type": "stream",
     "text": [
      "Grid search complete in 27.41s\n",
      "Best parameters: {'algorithm': 'auto', 'n_neighbors': 3, 'weights': 'distance'}\n",
      "Training KNN model...\n",
      "Making predictions...\n",
      "Calculating performance metrics...\n",
      "Measuring prediction performance...\n"
     ]
    },
    {
     "name": "stdout",
     "output_type": "stream",
     "text": [
      "Saving model...\n",
      "Model size: 1167.64 KB\n",
      "\n",
      "Results for craftwaysorted, Sample Size: 17457\n",
      "Grid Search Time: 27.41s, Training Time: 0.01s\n",
      "KNN Parameters: {'algorithm': 'auto', 'n_neighbors': 3, 'weights': 'distance'}\n",
      "Performance: R² = 0.8607, MAE = 604.33, MAPE = 86.09%\n",
      "q-score: 3.20\n",
      "Prediction time: 181.8105 μs/sample\n",
      "I/O: Reads=0.000000, Writes=0.000000\n",
      "--------------------------------------------------------------------------------\n",
      "Generating prediction scatter plot...\n"
     ]
    },
    {
     "name": "stdout",
     "output_type": "stream",
     "text": [
      "Generating side-by-side comparison plot...\n"
     ]
    },
    {
     "name": "stdout",
     "output_type": "stream",
     "text": [
      "\n",
      "Training with sample size: 10000\n",
      "Memory usage: 269.83 MB\n",
      "Using best parameters from max scale: {'algorithm': 'auto', 'n_neighbors': 3, 'weights': 'distance'}\n",
      "Training KNN model...\n",
      "Making predictions...\n",
      "Calculating performance metrics...\n",
      "Measuring prediction performance...\n"
     ]
    },
    {
     "name": "stdout",
     "output_type": "stream",
     "text": [
      "Saving model...\n",
      "Model size: 665.63 KB\n",
      "\n",
      "Results for craftwaysorted, Sample Size: 10000\n",
      "Grid Search Time: 0.00s, Training Time: 0.00s\n",
      "KNN Parameters: {'algorithm': 'auto', 'n_neighbors': 3, 'weights': 'distance'}\n",
      "Performance: R² = 0.8323, MAE = 692.77, MAPE = 105.10%\n",
      "q-score: 3.88\n",
      "Prediction time: 140.5892 μs/sample\n",
      "I/O: Reads=0.000000, Writes=0.000000\n",
      "--------------------------------------------------------------------------------\n",
      "\n",
      "Training with sample size: 5000\n",
      "Memory usage: 272.74 MB\n",
      "Using best parameters from max scale: {'algorithm': 'auto', 'n_neighbors': 3, 'weights': 'distance'}\n",
      "Training KNN model...\n",
      "Making predictions...\n"
     ]
    },
    {
     "name": "stdout",
     "output_type": "stream",
     "text": [
      "Calculating performance metrics...\n",
      "Measuring prediction performance...\n"
     ]
    },
    {
     "name": "stdout",
     "output_type": "stream",
     "text": [
      "Saving model...\n",
      "Model size: 333.73 KB\n",
      "\n",
      "Results for craftwaysorted, Sample Size: 5000\n",
      "Grid Search Time: 0.00s, Training Time: 0.00s\n",
      "KNN Parameters: {'algorithm': 'auto', 'n_neighbors': 3, 'weights': 'distance'}\n",
      "Performance: R² = 0.7180, MAE = 907.30, MAPE = 126.97%\n",
      "q-score: 4.79\n",
      "Prediction time: 130.4349 μs/sample\n",
      "I/O: Reads=0.000000, Writes=0.000000\n",
      "--------------------------------------------------------------------------------\n",
      "\n",
      "Training with sample size: 1000\n",
      "Memory usage: 272.79 MB\n",
      "Using best parameters from max scale: {'algorithm': 'auto', 'n_neighbors': 3, 'weights': 'distance'}\n",
      "Training KNN model...\n",
      "Making predictions...\n"
     ]
    },
    {
     "name": "stdout",
     "output_type": "stream",
     "text": [
      "Calculating performance metrics...\n",
      "Measuring prediction performance...\n"
     ]
    },
    {
     "name": "stdout",
     "output_type": "stream",
     "text": [
      "Saving model...\n",
      "Model size: 38.45 KB\n",
      "\n",
      "Results for craftwaysorted, Sample Size: 1000\n",
      "Grid Search Time: 0.00s, Training Time: 0.00s\n",
      "KNN Parameters: {'algorithm': 'auto', 'n_neighbors': 3, 'weights': 'distance'}\n",
      "Performance: R² = 0.4916, MAE = 1208.47, MAPE = 214.35%\n",
      "q-score: 8.05\n",
      "Prediction time: 61.5221 μs/sample\n",
      "I/O: Reads=0.000000, Writes=0.000000\n",
      "--------------------------------------------------------------------------------\n",
      "Saving results for craftwaysorted...\n",
      "Memory usage: 272.79 MB\n",
      "\n",
      "Processing dataset: powerthingwaysorted\n",
      "Universe boundaries for powerthingwaysorted: (-179.5002188, -75.1012051, 178.4574038, 82.5247908)\n",
      "Loading data from ../large_files/resultsContains/powerthingwaysorted_results.csv\n"
     ]
    },
    {
     "name": "stdout",
     "output_type": "stream",
     "text": [
      "Parsing MBR coordinates...\n"
     ]
    },
    {
     "name": "stdout",
     "output_type": "stream",
     "text": [
      "\n",
      "Basic statistics for powerthingwaysorted dataset:\n",
      "Max count: 13586342.0\n",
      "Min count: 0.0\n",
      "Mean count: 236375.56\n",
      "Median count: 147.00\n",
      "Total samples: 2717289\n",
      "\n",
      "Calculating rectangle densities...\n",
      "Splitting data into train and test sets...\n"
     ]
    },
    {
     "name": "stdout",
     "output_type": "stream",
     "text": [
      "Training set size: 2173831\n",
      "\n",
      "Training with sample size: 2173831\n",
      "Memory usage: 570.70 MB\n",
      "Performing grid search for optimal parameters...\n"
     ]
    },
    {
     "name": "stdout",
     "output_type": "stream",
     "text": [
      "Grid search complete in 10578.43s\n",
      "Best parameters: {'algorithm': 'auto', 'n_neighbors': 10, 'weights': 'distance'}\n",
      "Training KNN model...\n",
      "Making predictions...\n"
     ]
    },
    {
     "name": "stdout",
     "output_type": "stream",
     "text": [
      "Calculating performance metrics...\n",
      "Measuring prediction performance...\n"
     ]
    },
    {
     "name": "stdout",
     "output_type": "stream",
     "text": [
      "Saving model...\n"
     ]
    },
    {
     "name": "stdout",
     "output_type": "stream",
     "text": [
      "Model size: 152128.60 KB\n",
      "\n",
      "Results for powerthingwaysorted, Sample Size: 2173831\n",
      "Grid Search Time: 10578.43s, Training Time: 3.17s\n",
      "KNN Parameters: {'algorithm': 'auto', 'n_neighbors': 10, 'weights': 'distance'}\n",
      "Performance: R² = 0.9969, MAE = 12448.44, MAPE = 215.63%\n",
      "q-score: 4.47\n",
      "Prediction time: 580.1681 μs/sample\n",
      "I/O: Reads=0.000022, Writes=0.000034\n",
      "--------------------------------------------------------------------------------\n",
      "Generating prediction scatter plot...\n"
     ]
    },
    {
     "name": "stdout",
     "output_type": "stream",
     "text": [
      "Generating side-by-side comparison plot...\n"
     ]
    },
    {
     "name": "stdout",
     "output_type": "stream",
     "text": [
      "\n",
      "Training with sample size: 1000000\n",
      "Memory usage: 1254.18 MB\n",
      "Using best parameters from max scale: {'algorithm': 'auto', 'n_neighbors': 10, 'weights': 'distance'}\n",
      "Training KNN model...\n"
     ]
    },
    {
     "name": "stdout",
     "output_type": "stream",
     "text": [
      "Making predictions...\n"
     ]
    },
    {
     "name": "stdout",
     "output_type": "stream",
     "text": [
      "Calculating performance metrics...\n",
      "Measuring prediction performance...\n"
     ]
    },
    {
     "name": "stdout",
     "output_type": "stream",
     "text": [
      "Saving model...\n"
     ]
    },
    {
     "name": "stdout",
     "output_type": "stream",
     "text": [
      "Model size: 70169.65 KB\n",
      "\n",
      "Results for powerthingwaysorted, Sample Size: 1000000\n",
      "Grid Search Time: 0.00s, Training Time: 1.01s\n",
      "KNN Parameters: {'algorithm': 'auto', 'n_neighbors': 10, 'weights': 'distance'}\n",
      "Performance: R² = 0.9950, MAE = 15845.72, MAPE = 335.75%\n",
      "q-score: 6.36\n",
      "Prediction time: 694.7179 μs/sample\n",
      "I/O: Reads=0.000021, Writes=0.000033\n",
      "--------------------------------------------------------------------------------\n",
      "\n",
      "Training with sample size: 500000\n",
      "Memory usage: 1260.38 MB\n",
      "Using best parameters from max scale: {'algorithm': 'auto', 'n_neighbors': 10, 'weights': 'distance'}\n",
      "Training KNN model...\n"
     ]
    },
    {
     "name": "stdout",
     "output_type": "stream",
     "text": [
      "Making predictions...\n"
     ]
    },
    {
     "name": "stdout",
     "output_type": "stream",
     "text": [
      "Calculating performance metrics...\n",
      "Measuring prediction performance...\n"
     ]
    },
    {
     "name": "stdout",
     "output_type": "stream",
     "text": [
      "Saving model...\n"
     ]
    },
    {
     "name": "stdout",
     "output_type": "stream",
     "text": [
      "Model size: 34968.34 KB\n",
      "\n",
      "Results for powerthingwaysorted, Sample Size: 500000\n",
      "Grid Search Time: 0.00s, Training Time: 0.38s\n",
      "KNN Parameters: {'algorithm': 'auto', 'n_neighbors': 10, 'weights': 'distance'}\n",
      "Performance: R² = 0.9929, MAE = 19578.70, MAPE = 566.07%\n",
      "q-score: 9.95\n",
      "Prediction time: 602.4710 μs/sample\n",
      "I/O: Reads=0.000033, Writes=0.000330\n",
      "--------------------------------------------------------------------------------\n",
      "\n",
      "Training with sample size: 100000\n",
      "Memory usage: 1260.42 MB\n",
      "Using best parameters from max scale: {'algorithm': 'auto', 'n_neighbors': 10, 'weights': 'distance'}\n",
      "Training KNN model...\n",
      "Making predictions...\n"
     ]
    },
    {
     "name": "stdout",
     "output_type": "stream",
     "text": [
      "Calculating performance metrics...\n",
      "Measuring prediction performance...\n"
     ]
    },
    {
     "name": "stdout",
     "output_type": "stream",
     "text": [
      "Saving model...\n"
     ]
    },
    {
     "name": "stdout",
     "output_type": "stream",
     "text": [
      "Model size: 6752.64 KB\n",
      "\n",
      "Results for powerthingwaysorted, Sample Size: 100000\n",
      "Grid Search Time: 0.00s, Training Time: 0.05s\n",
      "KNN Parameters: {'algorithm': 'auto', 'n_neighbors': 10, 'weights': 'distance'}\n",
      "Performance: R² = 0.9785, MAE = 34236.88, MAPE = 1628.26%\n",
      "q-score: 25.66\n",
      "Prediction time: 575.0394 μs/sample\n",
      "I/O: Reads=0.000021, Writes=0.000177\n",
      "--------------------------------------------------------------------------------\n",
      "\n",
      "Training with sample size: 50000\n",
      "Memory usage: 1260.42 MB\n",
      "Using best parameters from max scale: {'algorithm': 'auto', 'n_neighbors': 10, 'weights': 'distance'}\n",
      "Training KNN model...\n",
      "Making predictions...\n"
     ]
    },
    {
     "name": "stdout",
     "output_type": "stream",
     "text": [
      "Calculating performance metrics...\n",
      "Measuring prediction performance...\n"
     ]
    },
    {
     "name": "stdout",
     "output_type": "stream",
     "text": [
      "Saving model...\n",
      "Model size: 3349.71 KB\n",
      "\n",
      "Results for powerthingwaysorted, Sample Size: 50000\n",
      "Grid Search Time: 0.00s, Training Time: 0.02s\n",
      "KNN Parameters: {'algorithm': 'auto', 'n_neighbors': 10, 'weights': 'distance'}\n",
      "Performance: R² = 0.9687, MAE = 42614.45, MAPE = 2714.03%\n",
      "q-score: 41.84\n",
      "Prediction time: 387.3196 μs/sample\n",
      "I/O: Reads=0.000010, Writes=0.000048\n",
      "--------------------------------------------------------------------------------\n"
     ]
    },
    {
     "name": "stdout",
     "output_type": "stream",
     "text": [
      "\n",
      "Training with sample size: 10000\n",
      "Memory usage: 1260.42 MB\n",
      "Using best parameters from max scale: {'algorithm': 'auto', 'n_neighbors': 10, 'weights': 'distance'}\n",
      "Training KNN model...\n",
      "Making predictions...\n"
     ]
    },
    {
     "name": "stdout",
     "output_type": "stream",
     "text": [
      "Calculating performance metrics...\n",
      "Measuring prediction performance...\n"
     ]
    },
    {
     "name": "stdout",
     "output_type": "stream",
     "text": [
      "Saving model...\n",
      "Model size: 673.61 KB\n",
      "\n",
      "Results for powerthingwaysorted, Sample Size: 10000\n",
      "Grid Search Time: 0.00s, Training Time: 0.00s\n",
      "KNN Parameters: {'algorithm': 'auto', 'n_neighbors': 10, 'weights': 'distance'}\n",
      "Performance: R² = 0.9188, MAE = 74087.30, MAPE = 5266.27%\n",
      "q-score: 79.56\n",
      "Prediction time: 343.4957 μs/sample\n",
      "I/O: Reads=0.000010, Writes=0.000043\n",
      "--------------------------------------------------------------------------------\n",
      "\n",
      "Training with sample size: 5000\n",
      "Memory usage: 1260.42 MB\n",
      "Using best parameters from max scale: {'algorithm': 'auto', 'n_neighbors': 10, 'weights': 'distance'}\n",
      "Training KNN model...\n",
      "Making predictions...\n"
     ]
    },
    {
     "name": "stdout",
     "output_type": "stream",
     "text": [
      "Calculating performance metrics...\n",
      "Measuring prediction performance...\n"
     ]
    },
    {
     "name": "stdout",
     "output_type": "stream",
     "text": [
      "Saving model...\n",
      "Model size: 338.04 KB\n",
      "\n",
      "Results for powerthingwaysorted, Sample Size: 5000\n",
      "Grid Search Time: 0.00s, Training Time: 0.00s\n",
      "KNN Parameters: {'algorithm': 'auto', 'n_neighbors': 10, 'weights': 'distance'}\n",
      "Performance: R² = 0.8792, MAE = 94026.69, MAPE = 6447.24%\n",
      "q-score: 97.03\n",
      "Prediction time: 301.6182 μs/sample\n",
      "I/O: Reads=0.000010, Writes=0.000019\n",
      "--------------------------------------------------------------------------------\n",
      "\n",
      "Training with sample size: 1000\n",
      "Memory usage: 1260.42 MB\n",
      "Using best parameters from max scale: {'algorithm': 'auto', 'n_neighbors': 10, 'weights': 'distance'}\n",
      "Training KNN model...\n",
      "Making predictions...\n"
     ]
    },
    {
     "name": "stdout",
     "output_type": "stream",
     "text": [
      "Calculating performance metrics...\n",
      "Measuring prediction performance...\n"
     ]
    },
    {
     "name": "stdout",
     "output_type": "stream",
     "text": [
      "Saving model...\n",
      "Model size: 39.09 KB\n",
      "\n",
      "Results for powerthingwaysorted, Sample Size: 1000\n",
      "Grid Search Time: 0.00s, Training Time: 0.00s\n",
      "KNN Parameters: {'algorithm': 'auto', 'n_neighbors': 10, 'weights': 'distance'}\n",
      "Performance: R² = 0.7129, MAE = 148199.24, MAPE = 11045.44%\n",
      "q-score: 161.51\n",
      "Prediction time: 203.9859 μs/sample\n",
      "I/O: Reads=0.000010, Writes=0.000012\n",
      "--------------------------------------------------------------------------------\n",
      "Saving results for powerthingwaysorted...\n",
      "Memory usage: 1194.08 MB\n",
      "\n",
      "Processing dataset: barrierthingwaysorted\n",
      "Universe boundaries for barrierthingwaysorted: (-179.7595238, -70.776382, 179.19591350000002, 78.2501675)\n",
      "Loading data from ../large_files/resultsContains/barrierthingwaysorted_results.csv\n"
     ]
    },
    {
     "name": "stdout",
     "output_type": "stream",
     "text": [
      "Parsing MBR coordinates...\n"
     ]
    },
    {
     "name": "stdout",
     "output_type": "stream",
     "text": [
      "\n",
      "Basic statistics for barrierthingwaysorted dataset:\n",
      "Max count: 22908267.0\n",
      "Min count: 0.0\n",
      "Mean count: 399928.77\n",
      "Median count: 329.00\n",
      "Total samples: 4581670\n",
      "\n",
      "Calculating rectangle densities...\n",
      "Splitting data into train and test sets...\n"
     ]
    },
    {
     "name": "stdout",
     "output_type": "stream",
     "text": [
      "Training set size: 3665336\n",
      "\n",
      "Training with sample size: 3665336\n",
      "Memory usage: 1428.54 MB\n",
      "Performing grid search for optimal parameters...\n"
     ]
    },
    {
     "name": "stdout",
     "output_type": "stream",
     "text": [
      "Grid search complete in 19714.71s\n",
      "Best parameters: {'algorithm': 'auto', 'n_neighbors': 10, 'weights': 'distance'}\n",
      "Training KNN model...\n"
     ]
    },
    {
     "name": "stdout",
     "output_type": "stream",
     "text": [
      "Making predictions...\n"
     ]
    },
    {
     "name": "stdout",
     "output_type": "stream",
     "text": [
      "Calculating performance metrics...\n",
      "Measuring prediction performance...\n"
     ]
    },
    {
     "name": "stdout",
     "output_type": "stream",
     "text": [
      "Saving model...\n"
     ]
    },
    {
     "name": "stdout",
     "output_type": "stream",
     "text": [
      "Model size: 250793.43 KB\n",
      "\n",
      "Results for barrierthingwaysorted, Sample Size: 3665336\n",
      "Grid Search Time: 19714.71s, Training Time: 5.82s\n",
      "KNN Parameters: {'algorithm': 'auto', 'n_neighbors': 10, 'weights': 'distance'}\n",
      "Performance: R² = 0.9957, MAE = 23391.01, MAPE = 251.19%\n",
      "q-score: 4.80\n",
      "Prediction time: 618.2219 μs/sample\n",
      "I/O: Reads=0.000025, Writes=0.000037\n",
      "--------------------------------------------------------------------------------\n",
      "Generating prediction scatter plot...\n"
     ]
    },
    {
     "name": "stdout",
     "output_type": "stream",
     "text": [
      "Generating side-by-side comparison plot...\n"
     ]
    },
    {
     "name": "stdout",
     "output_type": "stream",
     "text": [
      "\n",
      "Training with sample size: 1000000\n",
      "Memory usage: 1854.43 MB\n",
      "Using best parameters from max scale: {'algorithm': 'auto', 'n_neighbors': 10, 'weights': 'distance'}\n",
      "Training KNN model...\n"
     ]
    },
    {
     "name": "stdout",
     "output_type": "stream",
     "text": [
      "Making predictions...\n"
     ]
    },
    {
     "name": "stdout",
     "output_type": "stream",
     "text": [
      "Calculating performance metrics...\n",
      "Measuring prediction performance...\n"
     ]
    },
    {
     "name": "stdout",
     "output_type": "stream",
     "text": [
      "Saving model...\n"
     ]
    },
    {
     "name": "stdout",
     "output_type": "stream",
     "text": [
      "Model size: 70263.38 KB\n",
      "\n",
      "Results for barrierthingwaysorted, Sample Size: 1000000\n",
      "Grid Search Time: 0.00s, Training Time: 1.03s\n",
      "KNN Parameters: {'algorithm': 'auto', 'n_neighbors': 10, 'weights': 'distance'}\n",
      "Performance: R² = 0.9913, MAE = 34368.49, MAPE = 448.52%\n",
      "q-score: 7.65\n",
      "Prediction time: 529.9781 μs/sample\n",
      "I/O: Reads=0.000019, Writes=0.000022\n",
      "--------------------------------------------------------------------------------\n",
      "\n",
      "Training with sample size: 500000\n",
      "Memory usage: 1854.66 MB\n",
      "Using best parameters from max scale: {'algorithm': 'auto', 'n_neighbors': 10, 'weights': 'distance'}\n",
      "Training KNN model...\n"
     ]
    },
    {
     "name": "stdout",
     "output_type": "stream",
     "text": [
      "Making predictions...\n"
     ]
    },
    {
     "name": "stdout",
     "output_type": "stream",
     "text": [
      "Calculating performance metrics...\n",
      "Measuring prediction performance...\n"
     ]
    },
    {
     "name": "stdout",
     "output_type": "stream",
     "text": [
      "Saving model...\n"
     ]
    },
    {
     "name": "stdout",
     "output_type": "stream",
     "text": [
      "Model size: 35016.31 KB\n",
      "\n",
      "Results for barrierthingwaysorted, Sample Size: 500000\n",
      "Grid Search Time: 0.00s, Training Time: 0.37s\n",
      "KNN Parameters: {'algorithm': 'auto', 'n_neighbors': 10, 'weights': 'distance'}\n",
      "Performance: R² = 0.9873, MAE = 42338.40, MAPE = 581.61%\n",
      "q-score: 9.47\n",
      "Prediction time: 486.1089 μs/sample\n",
      "I/O: Reads=0.000019, Writes=0.000025\n",
      "--------------------------------------------------------------------------------\n",
      "\n",
      "Training with sample size: 100000\n",
      "Memory usage: 1854.66 MB\n",
      "Using best parameters from max scale: {'algorithm': 'auto', 'n_neighbors': 10, 'weights': 'distance'}\n",
      "Training KNN model...\n",
      "Making predictions...\n"
     ]
    },
    {
     "name": "stdout",
     "output_type": "stream",
     "text": [
      "Calculating performance metrics...\n",
      "Measuring prediction performance...\n"
     ]
    },
    {
     "name": "stdout",
     "output_type": "stream",
     "text": [
      "Saving model...\n"
     ]
    },
    {
     "name": "stdout",
     "output_type": "stream",
     "text": [
      "Model size: 6761.01 KB\n",
      "\n",
      "Results for barrierthingwaysorted, Sample Size: 100000\n",
      "Grid Search Time: 0.00s, Training Time: 0.05s\n",
      "KNN Parameters: {'algorithm': 'auto', 'n_neighbors': 10, 'weights': 'distance'}\n",
      "Performance: R² = 0.9667, MAE = 71598.76, MAPE = 1889.51%\n",
      "q-score: 28.28\n",
      "Prediction time: 465.0589 μs/sample\n",
      "I/O: Reads=0.000013, Writes=0.000027\n",
      "--------------------------------------------------------------------------------\n",
      "\n",
      "Training with sample size: 50000\n",
      "Memory usage: 1854.66 MB\n",
      "Using best parameters from max scale: {'algorithm': 'auto', 'n_neighbors': 10, 'weights': 'distance'}\n",
      "Training KNN model...\n",
      "Making predictions...\n"
     ]
    },
    {
     "name": "stdout",
     "output_type": "stream",
     "text": [
      "Calculating performance metrics...\n",
      "Measuring prediction performance...\n"
     ]
    },
    {
     "name": "stdout",
     "output_type": "stream",
     "text": [
      "Saving model...\n",
      "Model size: 3353.77 KB\n",
      "\n",
      "Results for barrierthingwaysorted, Sample Size: 50000\n",
      "Grid Search Time: 0.00s, Training Time: 0.02s\n",
      "KNN Parameters: {'algorithm': 'auto', 'n_neighbors': 10, 'weights': 'distance'}\n",
      "Performance: R² = 0.9512, MAE = 89709.88, MAPE = 2790.76%\n",
      "q-score: 40.58\n",
      "Prediction time: 406.9231 μs/sample\n",
      "I/O: Reads=0.000012, Writes=0.000038\n",
      "--------------------------------------------------------------------------------\n"
     ]
    },
    {
     "name": "stdout",
     "output_type": "stream",
     "text": [
      "\n",
      "Training with sample size: 10000\n",
      "Memory usage: 1854.66 MB\n",
      "Using best parameters from max scale: {'algorithm': 'auto', 'n_neighbors': 10, 'weights': 'distance'}\n",
      "Training KNN model...\n",
      "Making predictions...\n"
     ]
    },
    {
     "name": "stdout",
     "output_type": "stream",
     "text": [
      "Calculating performance metrics...\n",
      "Measuring prediction performance...\n"
     ]
    },
    {
     "name": "stdout",
     "output_type": "stream",
     "text": [
      "Saving model...\n",
      "Model size: 674.53 KB\n",
      "\n",
      "Results for barrierthingwaysorted, Sample Size: 10000\n",
      "Grid Search Time: 0.00s, Training Time: 0.00s\n",
      "KNN Parameters: {'algorithm': 'auto', 'n_neighbors': 10, 'weights': 'distance'}\n",
      "Performance: R² = 0.8618, MAE = 160361.94, MAPE = 5478.87%\n",
      "q-score: 77.55\n",
      "Prediction time: 259.5786 μs/sample\n",
      "I/O: Reads=0.000006, Writes=0.000021\n",
      "--------------------------------------------------------------------------------\n",
      "\n",
      "Training with sample size: 5000\n",
      "Memory usage: 1854.66 MB\n",
      "Using best parameters from max scale: {'algorithm': 'auto', 'n_neighbors': 10, 'weights': 'distance'}\n",
      "Training KNN model...\n",
      "Making predictions...\n"
     ]
    },
    {
     "name": "stdout",
     "output_type": "stream",
     "text": [
      "Calculating performance metrics...\n",
      "Measuring prediction performance...\n"
     ]
    },
    {
     "name": "stdout",
     "output_type": "stream",
     "text": [
      "Saving model...\n",
      "Model size: 338.50 KB\n",
      "\n",
      "Results for barrierthingwaysorted, Sample Size: 5000\n",
      "Grid Search Time: 0.00s, Training Time: 0.00s\n",
      "KNN Parameters: {'algorithm': 'auto', 'n_neighbors': 10, 'weights': 'distance'}\n",
      "Performance: R² = 0.8206, MAE = 187675.03, MAPE = 6835.48%\n",
      "q-score: 91.79\n",
      "Prediction time: 224.4812 μs/sample\n",
      "I/O: Reads=0.000012, Writes=0.000010\n",
      "--------------------------------------------------------------------------------\n",
      "\n",
      "Training with sample size: 1000\n",
      "Memory usage: 1854.66 MB\n",
      "Using best parameters from max scale: {'algorithm': 'auto', 'n_neighbors': 10, 'weights': 'distance'}\n",
      "Training KNN model...\n",
      "Making predictions...\n"
     ]
    },
    {
     "name": "stdout",
     "output_type": "stream",
     "text": [
      "Calculating performance metrics...\n",
      "Measuring prediction performance...\n"
     ]
    },
    {
     "name": "stdout",
     "output_type": "stream",
     "text": [
      "Saving model...\n",
      "Model size: 39.14 KB\n",
      "\n",
      "Results for barrierthingwaysorted, Sample Size: 1000\n",
      "Grid Search Time: 0.00s, Training Time: 0.00s\n",
      "KNN Parameters: {'algorithm': 'auto', 'n_neighbors': 10, 'weights': 'distance'}\n",
      "Performance: R² = 0.6332, MAE = 266062.01, MAPE = 11684.82%\n",
      "q-score: 141.00\n",
      "Prediction time: 139.3543 μs/sample\n",
      "I/O: Reads=0.000006, Writes=0.000008\n",
      "--------------------------------------------------------------------------------\n",
      "Saving results for barrierthingwaysorted...\n",
      "Memory usage: 1679.88 MB\n",
      "\n",
      "Processing dataset: cyclewaythingwaysorted\n",
      "Universe boundaries for cyclewaythingwaysorted: (-175.2093065, -75.1027861, 176.92582230000002, 71.0488105)\n",
      "Loading data from ../large_files/resultsContains/cyclewaythingwaysorted_results.csv\n"
     ]
    },
    {
     "name": "stdout",
     "output_type": "stream",
     "text": [
      "Parsing MBR coordinates...\n"
     ]
    },
    {
     "name": "stdout",
     "output_type": "stream",
     "text": [
      "\n",
      "Basic statistics for cyclewaythingwaysorted dataset:\n",
      "Max count: 5334899.0\n",
      "Min count: 0.0\n",
      "Mean count: 76781.20\n",
      "Median count: 0.00\n",
      "Total samples: 1067063\n",
      "\n",
      "Calculating rectangle densities...\n",
      "Splitting data into train and test sets...\n",
      "Training set size: 853650\n",
      "\n",
      "Training with sample size: 853650\n",
      "Memory usage: 1543.03 MB\n",
      "Performing grid search for optimal parameters...\n"
     ]
    },
    {
     "name": "stdout",
     "output_type": "stream",
     "text": [
      "Grid search complete in 3147.55s\n",
      "Best parameters: {'algorithm': 'auto', 'n_neighbors': 7, 'weights': 'distance'}\n",
      "Training KNN model...\n"
     ]
    },
    {
     "name": "stdout",
     "output_type": "stream",
     "text": [
      "Making predictions...\n"
     ]
    },
    {
     "name": "stdout",
     "output_type": "stream",
     "text": [
      "Calculating performance metrics...\n",
      "Measuring prediction performance...\n"
     ]
    },
    {
     "name": "stdout",
     "output_type": "stream",
     "text": [
      "Saving model...\n"
     ]
    },
    {
     "name": "stdout",
     "output_type": "stream",
     "text": [
      "Model size: 57862.34 KB\n",
      "\n",
      "Results for cyclewaythingwaysorted, Sample Size: 853650\n",
      "Grid Search Time: 3147.55s, Training Time: 0.76s\n",
      "KNN Parameters: {'algorithm': 'auto', 'n_neighbors': 7, 'weights': 'distance'}\n",
      "Performance: R² = 0.9873, MAE = 7902.72, MAPE = 332.09%\n",
      "q-score: 7.36\n",
      "Prediction time: 939.6030 μs/sample\n",
      "I/O: Reads=0.000030, Writes=0.000064\n",
      "--------------------------------------------------------------------------------\n",
      "Generating prediction scatter plot...\n"
     ]
    },
    {
     "name": "stdout",
     "output_type": "stream",
     "text": [
      "Generating side-by-side comparison plot...\n"
     ]
    },
    {
     "name": "stdout",
     "output_type": "stream",
     "text": [
      "\n",
      "Training with sample size: 500000\n",
      "Memory usage: 1514.32 MB\n",
      "Using best parameters from max scale: {'algorithm': 'auto', 'n_neighbors': 7, 'weights': 'distance'}\n",
      "Training KNN model...\n"
     ]
    },
    {
     "name": "stdout",
     "output_type": "stream",
     "text": [
      "Making predictions...\n"
     ]
    },
    {
     "name": "stdout",
     "output_type": "stream",
     "text": [
      "Calculating performance metrics...\n",
      "Measuring prediction performance...\n"
     ]
    },
    {
     "name": "stdout",
     "output_type": "stream",
     "text": [
      "Saving model...\n"
     ]
    },
    {
     "name": "stdout",
     "output_type": "stream",
     "text": [
      "Model size: 34754.45 KB\n",
      "\n",
      "Results for cyclewaythingwaysorted, Sample Size: 500000\n",
      "Grid Search Time: 0.00s, Training Time: 0.38s\n",
      "KNN Parameters: {'algorithm': 'auto', 'n_neighbors': 7, 'weights': 'distance'}\n",
      "Performance: R² = 0.9827, MAE = 9249.21, MAPE = 409.46%\n",
      "q-score: 8.65\n",
      "Prediction time: 718.2128 μs/sample\n",
      "I/O: Reads=0.000000, Writes=0.000037\n",
      "--------------------------------------------------------------------------------\n",
      "\n",
      "Training with sample size: 100000\n",
      "Memory usage: 1514.32 MB\n",
      "Using best parameters from max scale: {'algorithm': 'auto', 'n_neighbors': 7, 'weights': 'distance'}\n",
      "Training KNN model...\n",
      "Making predictions...\n"
     ]
    },
    {
     "name": "stdout",
     "output_type": "stream",
     "text": [
      "Calculating performance metrics...\n",
      "Measuring prediction performance...\n"
     ]
    },
    {
     "name": "stdout",
     "output_type": "stream",
     "text": [
      "Saving model...\n"
     ]
    },
    {
     "name": "stdout",
     "output_type": "stream",
     "text": [
      "Model size: 6710.54 KB\n",
      "\n",
      "Results for cyclewaythingwaysorted, Sample Size: 100000\n",
      "Grid Search Time: 0.00s, Training Time: 0.05s\n",
      "KNN Parameters: {'algorithm': 'auto', 'n_neighbors': 7, 'weights': 'distance'}\n",
      "Performance: R² = 0.9566, MAE = 15497.89, MAPE = 890.02%\n",
      "q-score: 17.46\n",
      "Prediction time: 411.3981 μs/sample\n",
      "I/O: Reads=0.000000, Writes=0.000395\n",
      "--------------------------------------------------------------------------------\n",
      "\n",
      "Training with sample size: 50000\n",
      "Memory usage: 1514.32 MB\n",
      "Using best parameters from max scale: {'algorithm': 'auto', 'n_neighbors': 7, 'weights': 'distance'}\n",
      "Training KNN model...\n",
      "Making predictions...\n"
     ]
    },
    {
     "name": "stdout",
     "output_type": "stream",
     "text": [
      "Calculating performance metrics...\n",
      "Measuring prediction performance...\n"
     ]
    },
    {
     "name": "stdout",
     "output_type": "stream",
     "text": [
      "Saving model...\n",
      "Model size: 3328.84 KB\n",
      "\n",
      "Results for cyclewaythingwaysorted, Sample Size: 50000\n",
      "Grid Search Time: 0.00s, Training Time: 0.02s\n",
      "KNN Parameters: {'algorithm': 'auto', 'n_neighbors': 7, 'weights': 'distance'}\n",
      "Performance: R² = 0.9367, MAE = 19123.30, MAPE = 1165.36%\n",
      "q-score: 22.21\n",
      "Prediction time: 364.1415 μs/sample\n",
      "I/O: Reads=0.000027, Writes=0.000098\n",
      "--------------------------------------------------------------------------------\n"
     ]
    },
    {
     "name": "stdout",
     "output_type": "stream",
     "text": [
      "\n",
      "Training with sample size: 10000\n",
      "Memory usage: 1514.32 MB\n",
      "Using best parameters from max scale: {'algorithm': 'auto', 'n_neighbors': 7, 'weights': 'distance'}\n",
      "Training KNN model...\n",
      "Making predictions...\n"
     ]
    },
    {
     "name": "stdout",
     "output_type": "stream",
     "text": [
      "Calculating performance metrics...\n",
      "Measuring prediction performance...\n"
     ]
    },
    {
     "name": "stdout",
     "output_type": "stream",
     "text": [
      "Saving model...\n",
      "Model size: 669.22 KB\n",
      "\n",
      "Results for cyclewaythingwaysorted, Sample Size: 10000\n",
      "Grid Search Time: 0.00s, Training Time: 0.01s\n",
      "KNN Parameters: {'algorithm': 'auto', 'n_neighbors': 7, 'weights': 'distance'}\n",
      "Performance: R² = 0.8467, MAE = 31682.61, MAPE = 2388.08%\n",
      "q-score: 44.57\n",
      "Prediction time: 229.4561 μs/sample\n",
      "I/O: Reads=0.000000, Writes=0.000007\n",
      "--------------------------------------------------------------------------------\n",
      "\n",
      "Training with sample size: 5000\n",
      "Memory usage: 1514.32 MB\n",
      "Using best parameters from max scale: {'algorithm': 'auto', 'n_neighbors': 7, 'weights': 'distance'}\n",
      "Training KNN model...\n",
      "Making predictions...\n"
     ]
    },
    {
     "name": "stdout",
     "output_type": "stream",
     "text": [
      "Calculating performance metrics...\n",
      "Measuring prediction performance...\n"
     ]
    },
    {
     "name": "stdout",
     "output_type": "stream",
     "text": [
      "Saving model...\n",
      "Model size: 335.84 KB\n",
      "\n",
      "Results for cyclewaythingwaysorted, Sample Size: 5000\n",
      "Grid Search Time: 0.00s, Training Time: 0.00s\n",
      "KNN Parameters: {'algorithm': 'auto', 'n_neighbors': 7, 'weights': 'distance'}\n",
      "Performance: R² = 0.7842, MAE = 38209.41, MAPE = 2956.15%\n",
      "q-score: 54.66\n",
      "Prediction time: 189.6204 μs/sample\n",
      "I/O: Reads=0.000000, Writes=0.000057\n",
      "--------------------------------------------------------------------------------\n",
      "\n",
      "Training with sample size: 1000\n",
      "Memory usage: 1514.32 MB\n",
      "Using best parameters from max scale: {'algorithm': 'auto', 'n_neighbors': 7, 'weights': 'distance'}\n",
      "Training KNN model...\n",
      "Making predictions...\n"
     ]
    },
    {
     "name": "stdout",
     "output_type": "stream",
     "text": [
      "Calculating performance metrics...\n",
      "Measuring prediction performance...\n"
     ]
    },
    {
     "name": "stdout",
     "output_type": "stream",
     "text": [
      "Saving model...\n",
      "Model size: 38.68 KB\n",
      "\n",
      "Results for cyclewaythingwaysorted, Sample Size: 1000\n",
      "Grid Search Time: 0.00s, Training Time: 0.00s\n",
      "KNN Parameters: {'algorithm': 'auto', 'n_neighbors': 7, 'weights': 'distance'}\n",
      "Performance: R² = 0.5959, MAE = 56403.42, MAPE = 5255.59%\n",
      "q-score: 93.12\n",
      "Prediction time: 121.8473 μs/sample\n",
      "I/O: Reads=0.000027, Writes=0.000004\n",
      "--------------------------------------------------------------------------------\n",
      "Saving results for cyclewaythingwaysorted...\n",
      "Memory usage: 1514.32 MB\n",
      "\n",
      "Processing dataset: zcta5\n",
      "Universe boundaries for zcta5: (-176.684744, -14.373776, 145.830505, 71.341324)\n",
      "Loading data from ../large_files/resultsContains/zcta5_results.csv\n"
     ]
    },
    {
     "name": "stdout",
     "output_type": "stream",
     "text": [
      "Parsing MBR coordinates...\n",
      "\n",
      "Basic statistics for zcta5 dataset:\n",
      "Max count: 33131.0\n",
      "Min count: 0.0\n",
      "Mean count: 662.21\n",
      "Median count: 0.00\n",
      "Total samples: 6626\n",
      "\n",
      "Calculating rectangle densities...\n",
      "Splitting data into train and test sets...\n",
      "Training set size: 5300\n",
      "\n",
      "Training with sample size: 5300\n",
      "Memory usage: 1514.32 MB\n",
      "Performing grid search for optimal parameters...\n"
     ]
    },
    {
     "name": "stdout",
     "output_type": "stream",
     "text": [
      "Grid search complete in 4.44s\n",
      "Best parameters: {'algorithm': 'auto', 'n_neighbors': 5, 'weights': 'distance'}\n",
      "Training KNN model...\n",
      "Making predictions...\n",
      "Calculating performance metrics...\n",
      "Measuring prediction performance...\n"
     ]
    },
    {
     "name": "stdout",
     "output_type": "stream",
     "text": [
      "Saving model...\n",
      "Model size: 348.77 KB\n",
      "\n",
      "Results for zcta5, Sample Size: 5300\n",
      "Grid Search Time: 4.44s, Training Time: 0.00s\n",
      "KNN Parameters: {'algorithm': 'auto', 'n_neighbors': 5, 'weights': 'distance'}\n",
      "Performance: R² = 0.8711, MAE = 215.69, MAPE = 154.39%\n",
      "q-score: 13.93\n",
      "Prediction time: 45.9008 μs/sample\n",
      "I/O: Reads=0.000000, Writes=0.000151\n",
      "--------------------------------------------------------------------------------\n",
      "Generating prediction scatter plot...\n",
      "Generating side-by-side comparison plot...\n"
     ]
    },
    {
     "name": "stdout",
     "output_type": "stream",
     "text": [
      "\n",
      "Training with sample size: 5000\n",
      "Memory usage: 1514.32 MB\n",
      "Using best parameters from max scale: {'algorithm': 'auto', 'n_neighbors': 5, 'weights': 'distance'}\n",
      "Training KNN model...\n",
      "Making predictions...\n",
      "Calculating performance metrics...\n",
      "Measuring prediction performance...\n"
     ]
    },
    {
     "name": "stdout",
     "output_type": "stream",
     "text": [
      "Saving model...\n",
      "Model size: 329.63 KB\n",
      "\n",
      "Results for zcta5, Sample Size: 5000\n",
      "Grid Search Time: 0.00s, Training Time: 0.00s\n",
      "KNN Parameters: {'algorithm': 'auto', 'n_neighbors': 5, 'weights': 'distance'}\n",
      "Performance: R² = 0.8588, MAE = 240.07, MAPE = 162.09%\n",
      "q-score: 14.37\n",
      "Prediction time: 43.9122 μs/sample\n",
      "I/O: Reads=0.000000, Writes=0.000000\n",
      "--------------------------------------------------------------------------------\n",
      "\n",
      "Training with sample size: 1000\n",
      "Memory usage: 1514.33 MB\n",
      "Using best parameters from max scale: {'algorithm': 'auto', 'n_neighbors': 5, 'weights': 'distance'}\n",
      "Training KNN model...\n",
      "Making predictions...\n"
     ]
    },
    {
     "name": "stdout",
     "output_type": "stream",
     "text": [
      "Calculating performance metrics...\n",
      "Measuring prediction performance...\n"
     ]
    },
    {
     "name": "stdout",
     "output_type": "stream",
     "text": [
      "Saving model...\n",
      "Model size: 37.78 KB\n",
      "\n",
      "Results for zcta5, Sample Size: 1000\n",
      "Grid Search Time: 0.00s, Training Time: 0.00s\n",
      "KNN Parameters: {'algorithm': 'auto', 'n_neighbors': 5, 'weights': 'distance'}\n",
      "Performance: R² = 0.7192, MAE = 396.45, MAPE = 227.75%\n",
      "q-score: 17.61\n",
      "Prediction time: 39.4769 μs/sample\n",
      "I/O: Reads=0.000000, Writes=0.000000\n",
      "--------------------------------------------------------------------------------\n",
      "Saving results for zcta5...\n"
     ]
    },
    {
     "name": "stdout",
     "output_type": "stream",
     "text": [
      "Memory usage: 1514.32 MB\n",
      "\n",
      "Processing dataset: aerowaythingnodesorted\n",
      "Universe boundaries for aerowaythingnodesorted: (-179.88088960000002, -90.0, 179.951004, 83.08333590000001)\n",
      "Loading data from ../large_files/resultsContains/aerowaythingnodesorted_results.csv\n",
      "Parsing MBR coordinates...\n",
      "\n",
      "Basic statistics for aerowaythingnodesorted dataset:\n",
      "Max count: 79139.0\n",
      "Min count: 0.0\n",
      "Mean count: 1260.61\n",
      "Median count: 7.00\n",
      "Total samples: 15843\n",
      "\n",
      "Calculating rectangle densities...\n",
      "Splitting data into train and test sets...\n",
      "Training set size: 12674\n",
      "\n",
      "Training with sample size: 12674\n",
      "Memory usage: 1513.32 MB\n",
      "Performing grid search for optimal parameters...\n"
     ]
    },
    {
     "name": "stdout",
     "output_type": "stream",
     "text": [
      "Grid search complete in 34.78s\n",
      "Best parameters: {'algorithm': 'auto', 'n_neighbors': 5, 'weights': 'distance'}\n",
      "Training KNN model...\n",
      "Making predictions...\n",
      "Calculating performance metrics...\n",
      "Measuring prediction performance...\n"
     ]
    },
    {
     "name": "stdout",
     "output_type": "stream",
     "text": [
      "Saving model...\n",
      "Model size: 841.17 KB\n",
      "\n",
      "Results for aerowaythingnodesorted, Sample Size: 12674\n",
      "Grid Search Time: 34.78s, Training Time: 0.01s\n",
      "KNN Parameters: {'algorithm': 'auto', 'n_neighbors': 5, 'weights': 'distance'}\n",
      "Performance: R² = 0.9534, MAE = 348.01, MAPE = 191.77%\n",
      "q-score: 4.26\n",
      "Prediction time: 315.4197 μs/sample\n",
      "I/O: Reads=0.000000, Writes=0.000000\n",
      "--------------------------------------------------------------------------------\n",
      "Generating prediction scatter plot...\n"
     ]
    },
    {
     "name": "stdout",
     "output_type": "stream",
     "text": [
      "Generating side-by-side comparison plot...\n"
     ]
    },
    {
     "name": "stdout",
     "output_type": "stream",
     "text": [
      "\n",
      "Training with sample size: 10000\n",
      "Memory usage: 1513.32 MB\n",
      "Using best parameters from max scale: {'algorithm': 'auto', 'n_neighbors': 5, 'weights': 'distance'}\n",
      "Training KNN model...\n",
      "Making predictions...\n",
      "Calculating performance metrics...\n",
      "Measuring prediction performance...\n"
     ]
    },
    {
     "name": "stdout",
     "output_type": "stream",
     "text": [
      "Saving model...\n",
      "Model size: 668.85 KB\n",
      "\n",
      "Results for aerowaythingnodesorted, Sample Size: 10000\n",
      "Grid Search Time: 0.00s, Training Time: 0.00s\n",
      "KNN Parameters: {'algorithm': 'auto', 'n_neighbors': 5, 'weights': 'distance'}\n",
      "Performance: R² = 0.9516, MAE = 367.51, MAPE = 214.91%\n",
      "q-score: 4.64\n",
      "Prediction time: 232.6608 μs/sample\n",
      "I/O: Reads=0.000000, Writes=0.000000\n",
      "--------------------------------------------------------------------------------\n",
      "\n",
      "Training with sample size: 5000\n",
      "Memory usage: 1513.33 MB\n",
      "Using best parameters from max scale: {'algorithm': 'auto', 'n_neighbors': 5, 'weights': 'distance'}\n",
      "Training KNN model...\n",
      "Making predictions...\n"
     ]
    },
    {
     "name": "stdout",
     "output_type": "stream",
     "text": [
      "Calculating performance metrics...\n",
      "Measuring prediction performance...\n"
     ]
    },
    {
     "name": "stdout",
     "output_type": "stream",
     "text": [
      "Saving model...\n",
      "Model size: 335.54 KB\n",
      "\n",
      "Results for aerowaythingnodesorted, Sample Size: 5000\n",
      "Grid Search Time: 0.00s, Training Time: 0.00s\n",
      "KNN Parameters: {'algorithm': 'auto', 'n_neighbors': 5, 'weights': 'distance'}\n",
      "Performance: R² = 0.9309, MAE = 434.03, MAPE = 272.27%\n",
      "q-score: 7.10\n",
      "Prediction time: 255.7081 μs/sample\n",
      "I/O: Reads=0.000000, Writes=0.000000\n",
      "--------------------------------------------------------------------------------\n",
      "\n",
      "Training with sample size: 1000\n",
      "Memory usage: 1513.33 MB\n",
      "Using best parameters from max scale: {'algorithm': 'auto', 'n_neighbors': 5, 'weights': 'distance'}\n",
      "Training KNN model...\n",
      "Making predictions...\n"
     ]
    },
    {
     "name": "stdout",
     "output_type": "stream",
     "text": [
      "Calculating performance metrics...\n",
      "Measuring prediction performance...\n"
     ]
    },
    {
     "name": "stdout",
     "output_type": "stream",
     "text": [
      "Saving model...\n",
      "Model size: 38.83 KB\n",
      "\n",
      "Results for aerowaythingnodesorted, Sample Size: 1000\n",
      "Grid Search Time: 0.00s, Training Time: 0.00s\n",
      "KNN Parameters: {'algorithm': 'auto', 'n_neighbors': 5, 'weights': 'distance'}\n",
      "Performance: R² = 0.7569, MAE = 749.69, MAPE = 467.38%\n",
      "q-score: 9.82\n",
      "Prediction time: 112.7730 μs/sample\n",
      "I/O: Reads=0.000000, Writes=0.000000\n",
      "--------------------------------------------------------------------------------\n",
      "Saving results for aerowaythingnodesorted...\n",
      "Memory usage: 1513.33 MB\n",
      "\n",
      "Processing dataset: leisurewaysorted\n",
      "Universe boundaries for leisurewaysorted: (-179.8728244, -89.6957847, 179.8091866, 81.0280175)\n",
      "Loading data from ../large_files/resultsContains/leisurewaysorted_results.csv\n"
     ]
    },
    {
     "name": "stdout",
     "output_type": "stream",
     "text": [
      "Parsing MBR coordinates...\n"
     ]
    },
    {
     "name": "stdout",
     "output_type": "stream",
     "text": [
      "\n",
      "Basic statistics for leisurewaysorted dataset:\n",
      "Max count: 29382686.0\n",
      "Min count: 0.0\n",
      "Mean count: 489264.44\n",
      "Median count: 253.00\n",
      "Total samples: 5000000\n",
      "\n",
      "Calculating rectangle densities...\n",
      "Splitting data into train and test sets...\n"
     ]
    },
    {
     "name": "stdout",
     "output_type": "stream",
     "text": [
      "Training set size: 4000000\n",
      "\n",
      "Training with sample size: 4000000\n",
      "Memory usage: 1830.09 MB\n",
      "Performing grid search for optimal parameters...\n"
     ]
    },
    {
     "name": "stdout",
     "output_type": "stream",
     "text": [
      "Grid search complete in 30509.98s\n",
      "Best parameters: {'algorithm': 'auto', 'n_neighbors': 10, 'weights': 'distance'}\n",
      "Training KNN model...\n"
     ]
    },
    {
     "name": "stdout",
     "output_type": "stream",
     "text": [
      "Making predictions...\n"
     ]
    },
    {
     "name": "stdout",
     "output_type": "stream",
     "text": [
      "Calculating performance metrics...\n",
      "Measuring prediction performance...\n"
     ]
    },
    {
     "name": "stdout",
     "output_type": "stream",
     "text": [
      "Saving model...\n"
     ]
    },
    {
     "name": "stdout",
     "output_type": "stream",
     "text": [
      "Model size: 281945.02 KB\n",
      "\n",
      "Results for leisurewaysorted, Sample Size: 4000000\n",
      "Grid Search Time: 30509.98s, Training Time: 6.87s\n",
      "KNN Parameters: {'algorithm': 'auto', 'n_neighbors': 10, 'weights': 'distance'}\n",
      "Performance: R² = 0.9969, MAE = 24634.17, MAPE = 288.70%\n",
      "q-score: 5.42\n",
      "Prediction time: 825.0542 μs/sample\n",
      "I/O: Reads=0.000113, Writes=0.000052\n",
      "--------------------------------------------------------------------------------\n",
      "Generating prediction scatter plot...\n"
     ]
    },
    {
     "name": "stdout",
     "output_type": "stream",
     "text": [
      "Generating side-by-side comparison plot...\n"
     ]
    },
    {
     "name": "stdout",
     "output_type": "stream",
     "text": [
      "\n",
      "Training with sample size: 1000000\n",
      "Memory usage: 2098.33 MB\n",
      "Using best parameters from max scale: {'algorithm': 'auto', 'n_neighbors': 10, 'weights': 'distance'}\n",
      "Training KNN model...\n"
     ]
    },
    {
     "name": "stdout",
     "output_type": "stream",
     "text": [
      "Making predictions...\n"
     ]
    },
    {
     "name": "stdout",
     "output_type": "stream",
     "text": [
      "Calculating performance metrics...\n",
      "Measuring prediction performance...\n"
     ]
    },
    {
     "name": "stdout",
     "output_type": "stream",
     "text": [
      "Saving model...\n"
     ]
    },
    {
     "name": "stdout",
     "output_type": "stream",
     "text": [
      "Model size: 70230.46 KB\n",
      "\n",
      "Results for leisurewaysorted, Sample Size: 1000000\n",
      "Grid Search Time: 0.00s, Training Time: 1.01s\n",
      "KNN Parameters: {'algorithm': 'auto', 'n_neighbors': 10, 'weights': 'distance'}\n",
      "Performance: R² = 0.9929, MAE = 37573.05, MAPE = 533.31%\n",
      "q-score: 8.94\n",
      "Prediction time: 854.4114 μs/sample\n",
      "I/O: Reads=0.000871, Writes=0.000130\n",
      "--------------------------------------------------------------------------------\n",
      "\n",
      "Training with sample size: 500000\n",
      "Memory usage: 2098.45 MB\n",
      "Using best parameters from max scale: {'algorithm': 'auto', 'n_neighbors': 10, 'weights': 'distance'}\n",
      "Training KNN model...\n"
     ]
    },
    {
     "name": "stdout",
     "output_type": "stream",
     "text": [
      "Making predictions...\n"
     ]
    },
    {
     "name": "stdout",
     "output_type": "stream",
     "text": [
      "Calculating performance metrics...\n",
      "Measuring prediction performance...\n"
     ]
    },
    {
     "name": "stdout",
     "output_type": "stream",
     "text": [
      "Saving model...\n"
     ]
    },
    {
     "name": "stdout",
     "output_type": "stream",
     "text": [
      "Model size: 35000.79 KB\n",
      "\n",
      "Results for leisurewaysorted, Sample Size: 500000\n",
      "Grid Search Time: 0.00s, Training Time: 0.38s\n",
      "KNN Parameters: {'algorithm': 'auto', 'n_neighbors': 10, 'weights': 'distance'}\n",
      "Performance: R² = 0.9895, MAE = 46886.59, MAPE = 742.33%\n",
      "q-score: 11.88\n",
      "Prediction time: 841.9944 μs/sample\n",
      "I/O: Reads=0.000029, Writes=0.000037\n",
      "--------------------------------------------------------------------------------\n",
      "\n",
      "Training with sample size: 100000\n",
      "Memory usage: 2098.45 MB\n",
      "Using best parameters from max scale: {'algorithm': 'auto', 'n_neighbors': 10, 'weights': 'distance'}\n",
      "Training KNN model...\n",
      "Making predictions...\n"
     ]
    },
    {
     "name": "stdout",
     "output_type": "stream",
     "text": [
      "Calculating performance metrics...\n",
      "Measuring prediction performance...\n"
     ]
    },
    {
     "name": "stdout",
     "output_type": "stream",
     "text": [
      "Saving model...\n"
     ]
    },
    {
     "name": "stdout",
     "output_type": "stream",
     "text": [
      "Model size: 6758.75 KB\n",
      "\n",
      "Results for leisurewaysorted, Sample Size: 100000\n",
      "Grid Search Time: 0.00s, Training Time: 0.05s\n",
      "KNN Parameters: {'algorithm': 'auto', 'n_neighbors': 10, 'weights': 'distance'}\n",
      "Performance: R² = 0.9706, MAE = 79968.08, MAPE = 2042.34%\n",
      "q-score: 30.89\n",
      "Prediction time: 829.5611 μs/sample\n",
      "I/O: Reads=0.000152, Writes=0.000104\n",
      "--------------------------------------------------------------------------------\n",
      "\n",
      "Training with sample size: 50000\n",
      "Memory usage: 2098.45 MB\n",
      "Using best parameters from max scale: {'algorithm': 'auto', 'n_neighbors': 10, 'weights': 'distance'}\n",
      "Training KNN model...\n",
      "Making predictions...\n"
     ]
    },
    {
     "name": "stdout",
     "output_type": "stream",
     "text": [
      "Calculating performance metrics...\n",
      "Measuring prediction performance...\n"
     ]
    },
    {
     "name": "stdout",
     "output_type": "stream",
     "text": [
      "Saving model...\n",
      "Model size: 3352.39 KB\n",
      "\n",
      "Results for leisurewaysorted, Sample Size: 50000\n",
      "Grid Search Time: 0.00s, Training Time: 0.03s\n",
      "KNN Parameters: {'algorithm': 'auto', 'n_neighbors': 10, 'weights': 'distance'}\n",
      "Performance: R² = 0.9547, MAE = 102333.27, MAPE = 3076.81%\n",
      "q-score: 46.31\n",
      "Prediction time: 734.6785 μs/sample\n",
      "I/O: Reads=0.000028, Writes=0.000027\n",
      "--------------------------------------------------------------------------------\n"
     ]
    },
    {
     "name": "stdout",
     "output_type": "stream",
     "text": [
      "\n",
      "Training with sample size: 10000\n",
      "Memory usage: 2098.45 MB\n",
      "Using best parameters from max scale: {'algorithm': 'auto', 'n_neighbors': 10, 'weights': 'distance'}\n",
      "Training KNN model...\n",
      "Making predictions...\n"
     ]
    },
    {
     "name": "stdout",
     "output_type": "stream",
     "text": [
      "Calculating performance metrics...\n",
      "Measuring prediction performance...\n"
     ]
    },
    {
     "name": "stdout",
     "output_type": "stream",
     "text": [
      "Saving model...\n",
      "Model size: 674.29 KB\n",
      "\n",
      "Results for leisurewaysorted, Sample Size: 10000\n",
      "Grid Search Time: 0.00s, Training Time: 0.01s\n",
      "KNN Parameters: {'algorithm': 'auto', 'n_neighbors': 10, 'weights': 'distance'}\n",
      "Performance: R² = 0.8819, MAE = 172479.00, MAPE = 8219.90%\n",
      "q-score: 123.51\n",
      "Prediction time: 487.1672 μs/sample\n",
      "I/O: Reads=0.000017, Writes=0.000025\n",
      "--------------------------------------------------------------------------------\n",
      "\n",
      "Training with sample size: 5000\n",
      "Memory usage: 2098.45 MB\n",
      "Using best parameters from max scale: {'algorithm': 'auto', 'n_neighbors': 10, 'weights': 'distance'}\n",
      "Training KNN model...\n",
      "Making predictions...\n"
     ]
    },
    {
     "name": "stdout",
     "output_type": "stream",
     "text": [
      "Calculating performance metrics...\n",
      "Measuring prediction performance...\n"
     ]
    },
    {
     "name": "stdout",
     "output_type": "stream",
     "text": [
      "Saving model...\n",
      "Model size: 338.60 KB\n",
      "\n",
      "Results for leisurewaysorted, Sample Size: 5000\n",
      "Grid Search Time: 0.00s, Training Time: 0.00s\n",
      "KNN Parameters: {'algorithm': 'auto', 'n_neighbors': 10, 'weights': 'distance'}\n",
      "Performance: R² = 0.8535, MAE = 208481.28, MAPE = 10429.67%\n",
      "q-score: 155.64\n",
      "Prediction time: 421.7404 μs/sample\n",
      "I/O: Reads=0.000013, Writes=0.000024\n",
      "--------------------------------------------------------------------------------\n",
      "\n",
      "Training with sample size: 1000\n",
      "Memory usage: 2098.45 MB\n",
      "Using best parameters from max scale: {'algorithm': 'auto', 'n_neighbors': 10, 'weights': 'distance'}\n",
      "Training KNN model...\n",
      "Making predictions...\n"
     ]
    },
    {
     "name": "stdout",
     "output_type": "stream",
     "text": [
      "Calculating performance metrics...\n",
      "Measuring prediction performance...\n"
     ]
    },
    {
     "name": "stdout",
     "output_type": "stream",
     "text": [
      "Saving model...\n",
      "Model size: 39.17 KB\n",
      "\n",
      "Results for leisurewaysorted, Sample Size: 1000\n",
      "Grid Search Time: 0.00s, Training Time: 0.00s\n",
      "KNN Parameters: {'algorithm': 'auto', 'n_neighbors': 10, 'weights': 'distance'}\n",
      "Performance: R² = 0.6306, MAE = 327598.58, MAPE = 25319.28%\n",
      "q-score: 353.89\n",
      "Prediction time: 272.5177 μs/sample\n",
      "I/O: Reads=0.000011, Writes=0.000014\n",
      "--------------------------------------------------------------------------------\n",
      "Saving results for leisurewaysorted...\n",
      "Memory usage: 1938.23 MB\n",
      "\n",
      "Processing dataset: areawater\n",
      "Universe boundaries for areawater: (-179.231086, -14.601813, 179.859681, 71.441059)\n",
      "Loading data from ../large_files/resultsContains/areawater_results.csv\n"
     ]
    },
    {
     "name": "stdout",
     "output_type": "stream",
     "text": [
      "Parsing MBR coordinates...\n"
     ]
    },
    {
     "name": "stdout",
     "output_type": "stream",
     "text": [
      "\n",
      "Basic statistics for areawater dataset:\n",
      "Max count: 2292728.0\n",
      "Min count: 0.0\n",
      "Mean count: 43929.12\n",
      "Median count: 0.00\n",
      "Total samples: 458552\n",
      "\n",
      "Calculating rectangle densities...\n",
      "Splitting data into train and test sets...\n",
      "Training set size: 366841\n",
      "\n",
      "Training with sample size: 366841\n",
      "Memory usage: 1787.63 MB\n",
      "Performing grid search for optimal parameters...\n"
     ]
    },
    {
     "name": "stdout",
     "output_type": "stream",
     "text": [
      "Grid search complete in 2381.28s\n",
      "Best parameters: {'algorithm': 'auto', 'n_neighbors': 7, 'weights': 'distance'}\n",
      "Training KNN model...\n"
     ]
    },
    {
     "name": "stdout",
     "output_type": "stream",
     "text": [
      "Making predictions...\n"
     ]
    },
    {
     "name": "stdout",
     "output_type": "stream",
     "text": [
      "Calculating performance metrics...\n",
      "Measuring prediction performance...\n"
     ]
    },
    {
     "name": "stdout",
     "output_type": "stream",
     "text": [
      "Saving model...\n"
     ]
    },
    {
     "name": "stdout",
     "output_type": "stream",
     "text": [
      "Model size: 24556.38 KB\n",
      "\n",
      "Results for areawater, Sample Size: 366841\n",
      "Grid Search Time: 2381.28s, Training Time: 0.25s\n",
      "KNN Parameters: {'algorithm': 'auto', 'n_neighbors': 7, 'weights': 'distance'}\n",
      "Performance: R² = 0.9862, MAE = 4802.28, MAPE = 141.85%\n",
      "q-score: 7.99\n",
      "Prediction time: 514.5995 μs/sample\n",
      "I/O: Reads=0.000000, Writes=0.000026\n",
      "--------------------------------------------------------------------------------\n",
      "Generating prediction scatter plot...\n",
      "Generating side-by-side comparison plot...\n"
     ]
    },
    {
     "name": "stdout",
     "output_type": "stream",
     "text": [
      "\n",
      "Training with sample size: 100000\n",
      "Memory usage: 1786.66 MB\n",
      "Using best parameters from max scale: {'algorithm': 'auto', 'n_neighbors': 7, 'weights': 'distance'}\n",
      "Training KNN model...\n",
      "Making predictions...\n"
     ]
    },
    {
     "name": "stdout",
     "output_type": "stream",
     "text": [
      "Calculating performance metrics...\n",
      "Measuring prediction performance...\n"
     ]
    },
    {
     "name": "stdout",
     "output_type": "stream",
     "text": [
      "Saving model...\n"
     ]
    },
    {
     "name": "stdout",
     "output_type": "stream",
     "text": [
      "Model size: 6613.97 KB\n",
      "\n",
      "Results for areawater, Sample Size: 100000\n",
      "Grid Search Time: 0.00s, Training Time: 0.06s\n",
      "KNN Parameters: {'algorithm': 'auto', 'n_neighbors': 7, 'weights': 'distance'}\n",
      "Performance: R² = 0.9701, MAE = 7489.19, MAPE = 354.25%\n",
      "q-score: 17.15\n",
      "Prediction time: 636.2443 μs/sample\n",
      "I/O: Reads=0.000062, Writes=0.000043\n",
      "--------------------------------------------------------------------------------\n",
      "\n",
      "Training with sample size: 50000\n",
      "Memory usage: 1786.66 MB\n",
      "Using best parameters from max scale: {'algorithm': 'auto', 'n_neighbors': 7, 'weights': 'distance'}\n",
      "Training KNN model...\n",
      "Making predictions...\n"
     ]
    },
    {
     "name": "stdout",
     "output_type": "stream",
     "text": [
      "Calculating performance metrics...\n",
      "Measuring prediction performance...\n"
     ]
    },
    {
     "name": "stdout",
     "output_type": "stream",
     "text": [
      "Saving model...\n",
      "Model size: 3280.74 KB\n",
      "\n",
      "Results for areawater, Sample Size: 50000\n",
      "Grid Search Time: 0.00s, Training Time: 0.02s\n",
      "KNN Parameters: {'algorithm': 'auto', 'n_neighbors': 7, 'weights': 'distance'}\n",
      "Performance: R² = 0.9542, MAE = 9462.18, MAPE = 652.32%\n",
      "q-score: 32.40\n",
      "Prediction time: 586.3871 μs/sample\n",
      "I/O: Reads=0.000000, Writes=0.000027\n",
      "--------------------------------------------------------------------------------\n"
     ]
    },
    {
     "name": "stdout",
     "output_type": "stream",
     "text": [
      "\n",
      "Training with sample size: 10000\n",
      "Memory usage: 1786.66 MB\n",
      "Using best parameters from max scale: {'algorithm': 'auto', 'n_neighbors': 7, 'weights': 'distance'}\n",
      "Training KNN model...\n",
      "Making predictions...\n"
     ]
    },
    {
     "name": "stdout",
     "output_type": "stream",
     "text": [
      "Calculating performance metrics...\n",
      "Measuring prediction performance...\n"
     ]
    },
    {
     "name": "stdout",
     "output_type": "stream",
     "text": [
      "Saving model...\n",
      "Model size: 660.35 KB\n",
      "\n",
      "Results for areawater, Sample Size: 10000\n",
      "Grid Search Time: 0.00s, Training Time: 0.00s\n",
      "KNN Parameters: {'algorithm': 'auto', 'n_neighbors': 7, 'weights': 'distance'}\n",
      "Performance: R² = 0.8882, MAE = 15727.10, MAPE = 2640.36%\n",
      "q-score: 122.16\n",
      "Prediction time: 433.5300 μs/sample\n",
      "I/O: Reads=0.000000, Writes=0.000198\n",
      "--------------------------------------------------------------------------------\n",
      "\n",
      "Training with sample size: 5000\n",
      "Memory usage: 1786.66 MB\n",
      "Using best parameters from max scale: {'algorithm': 'auto', 'n_neighbors': 7, 'weights': 'distance'}\n",
      "Training KNN model...\n",
      "Making predictions...\n"
     ]
    },
    {
     "name": "stdout",
     "output_type": "stream",
     "text": [
      "Calculating performance metrics...\n",
      "Measuring prediction performance...\n"
     ]
    },
    {
     "name": "stdout",
     "output_type": "stream",
     "text": [
      "Saving model...\n",
      "Model size: 330.24 KB\n",
      "\n",
      "Results for areawater, Sample Size: 5000\n",
      "Grid Search Time: 0.00s, Training Time: 0.00s\n",
      "KNN Parameters: {'algorithm': 'auto', 'n_neighbors': 7, 'weights': 'distance'}\n",
      "Performance: R² = 0.8388, MAE = 19198.33, MAPE = 3666.74%\n",
      "q-score: 164.35\n",
      "Prediction time: 366.3478 μs/sample\n",
      "I/O: Reads=0.000000, Writes=0.000015\n",
      "--------------------------------------------------------------------------------\n",
      "\n",
      "Training with sample size: 1000\n",
      "Memory usage: 1786.66 MB\n",
      "Using best parameters from max scale: {'algorithm': 'auto', 'n_neighbors': 7, 'weights': 'distance'}\n",
      "Training KNN model...\n",
      "Making predictions...\n"
     ]
    },
    {
     "name": "stdout",
     "output_type": "stream",
     "text": [
      "Calculating performance metrics...\n",
      "Measuring prediction performance...\n"
     ]
    },
    {
     "name": "stdout",
     "output_type": "stream",
     "text": [
      "Saving model...\n",
      "Model size: 37.73 KB\n",
      "\n",
      "Results for areawater, Sample Size: 1000\n",
      "Grid Search Time: 0.00s, Training Time: 0.00s\n",
      "KNN Parameters: {'algorithm': 'auto', 'n_neighbors': 7, 'weights': 'distance'}\n",
      "Performance: R² = 0.6167, MAE = 30946.96, MAPE = 6521.14%\n",
      "q-score: 317.44\n",
      "Prediction time: 238.5888 μs/sample\n",
      "I/O: Reads=0.000062, Writes=0.000088\n",
      "--------------------------------------------------------------------------------\n",
      "Saving results for areawater...\n"
     ]
    },
    {
     "name": "stdout",
     "output_type": "stream",
     "text": [
      "Memory usage: 1786.66 MB\n",
      "\n",
      "Processing dataset: yago2\n",
      "Universe boundaries for yago2: (-179.98473, -90.0, 180.0, 90.0)\n",
      "Loading data from ../large_files/resultsContains/yago2_results.csv\n"
     ]
    },
    {
     "name": "stdout",
     "output_type": "stream",
     "text": [
      "Parsing MBR coordinates...\n"
     ]
    },
    {
     "name": "stdout",
     "output_type": "stream",
     "text": [
      "\n",
      "Basic statistics for yago2 dataset:\n",
      "Max count: 4494666.0\n",
      "Min count: 0.0\n",
      "Mean count: 79087.58\n",
      "Median count: 678.00\n",
      "Total samples: 898942\n",
      "\n",
      "Calculating rectangle densities...\n",
      "Splitting data into train and test sets...\n",
      "Training set size: 719153\n",
      "\n",
      "Training with sample size: 719153\n",
      "Memory usage: 1787.65 MB\n",
      "Performing grid search for optimal parameters...\n"
     ]
    },
    {
     "name": "stdout",
     "output_type": "stream",
     "text": [
      "Grid search complete in 5497.79s\n",
      "Best parameters: {'algorithm': 'auto', 'n_neighbors': 10, 'weights': 'distance'}\n",
      "Training KNN model...\n"
     ]
    },
    {
     "name": "stdout",
     "output_type": "stream",
     "text": [
      "Making predictions...\n"
     ]
    },
    {
     "name": "stdout",
     "output_type": "stream",
     "text": [
      "Calculating performance metrics...\n",
      "Measuring prediction performance...\n"
     ]
    },
    {
     "name": "stdout",
     "output_type": "stream",
     "text": [
      "Saving model...\n"
     ]
    },
    {
     "name": "stdout",
     "output_type": "stream",
     "text": [
      "Model size: 49653.32 KB\n",
      "\n",
      "Results for yago2, Sample Size: 719153\n",
      "Grid Search Time: 5497.79s, Training Time: 0.60s\n",
      "KNN Parameters: {'algorithm': 'auto', 'n_neighbors': 10, 'weights': 'distance'}\n",
      "Performance: R² = 0.9968, MAE = 4848.33, MAPE = 327.19%\n",
      "q-score: 4.63\n",
      "Prediction time: 545.3638 μs/sample\n",
      "I/O: Reads=0.000032, Writes=0.000021\n",
      "--------------------------------------------------------------------------------\n",
      "Generating prediction scatter plot...\n"
     ]
    },
    {
     "name": "stdout",
     "output_type": "stream",
     "text": [
      "Generating side-by-side comparison plot...\n"
     ]
    },
    {
     "name": "stdout",
     "output_type": "stream",
     "text": [
      "\n",
      "Training with sample size: 500000\n",
      "Memory usage: 1786.66 MB\n",
      "Using best parameters from max scale: {'algorithm': 'auto', 'n_neighbors': 10, 'weights': 'distance'}\n",
      "Training KNN model...\n"
     ]
    },
    {
     "name": "stdout",
     "output_type": "stream",
     "text": [
      "Making predictions...\n"
     ]
    },
    {
     "name": "stdout",
     "output_type": "stream",
     "text": [
      "Calculating performance metrics...\n",
      "Measuring prediction performance...\n"
     ]
    },
    {
     "name": "stdout",
     "output_type": "stream",
     "text": [
      "Saving model...\n"
     ]
    },
    {
     "name": "stdout",
     "output_type": "stream",
     "text": [
      "Model size: 35157.62 KB\n",
      "\n",
      "Results for yago2, Sample Size: 500000\n",
      "Grid Search Time: 0.00s, Training Time: 0.37s\n",
      "KNN Parameters: {'algorithm': 'auto', 'n_neighbors': 10, 'weights': 'distance'}\n",
      "Performance: R² = 0.9957, MAE = 5502.60, MAPE = 401.61%\n",
      "q-score: 5.45\n",
      "Prediction time: 786.9995 μs/sample\n",
      "I/O: Reads=0.000032, Writes=0.000674\n",
      "--------------------------------------------------------------------------------\n",
      "\n",
      "Training with sample size: 100000\n",
      "Memory usage: 1786.67 MB\n",
      "Using best parameters from max scale: {'algorithm': 'auto', 'n_neighbors': 10, 'weights': 'distance'}\n",
      "Training KNN model...\n",
      "Making predictions...\n"
     ]
    },
    {
     "name": "stdout",
     "output_type": "stream",
     "text": [
      "Calculating performance metrics...\n",
      "Measuring prediction performance...\n"
     ]
    },
    {
     "name": "stdout",
     "output_type": "stream",
     "text": [
      "Saving model...\n"
     ]
    },
    {
     "name": "stdout",
     "output_type": "stream",
     "text": [
      "Model size: 6791.95 KB\n",
      "\n",
      "Results for yago2, Sample Size: 100000\n",
      "Grid Search Time: 0.00s, Training Time: 0.06s\n",
      "KNN Parameters: {'algorithm': 'auto', 'n_neighbors': 10, 'weights': 'distance'}\n",
      "Performance: R² = 0.9883, MAE = 9362.72, MAPE = 967.00%\n",
      "q-score: 11.68\n",
      "Prediction time: 826.4363 μs/sample\n",
      "I/O: Reads=0.000032, Writes=0.000476\n",
      "--------------------------------------------------------------------------------\n",
      "\n",
      "Training with sample size: 50000\n",
      "Memory usage: 1786.67 MB\n",
      "Using best parameters from max scale: {'algorithm': 'auto', 'n_neighbors': 10, 'weights': 'distance'}\n",
      "Training KNN model...\n",
      "Making predictions...\n"
     ]
    },
    {
     "name": "stdout",
     "output_type": "stream",
     "text": [
      "Calculating performance metrics...\n",
      "Measuring prediction performance...\n"
     ]
    },
    {
     "name": "stdout",
     "output_type": "stream",
     "text": [
      "Saving model...\n",
      "Model size: 3369.42 KB\n",
      "\n",
      "Results for yago2, Sample Size: 50000\n",
      "Grid Search Time: 0.00s, Training Time: 0.02s\n",
      "KNN Parameters: {'algorithm': 'auto', 'n_neighbors': 10, 'weights': 'distance'}\n",
      "Performance: R² = 0.9826, MAE = 11758.65, MAPE = 1426.74%\n",
      "q-score: 16.74\n",
      "Prediction time: 754.4817 μs/sample\n",
      "I/O: Reads=0.000032, Writes=0.000112\n",
      "--------------------------------------------------------------------------------\n"
     ]
    },
    {
     "name": "stdout",
     "output_type": "stream",
     "text": [
      "\n",
      "Training with sample size: 10000\n",
      "Memory usage: 1786.67 MB\n",
      "Using best parameters from max scale: {'algorithm': 'auto', 'n_neighbors': 10, 'weights': 'distance'}\n",
      "Training KNN model...\n",
      "Making predictions...\n"
     ]
    },
    {
     "name": "stdout",
     "output_type": "stream",
     "text": [
      "Calculating performance metrics...\n",
      "Measuring prediction performance...\n"
     ]
    },
    {
     "name": "stdout",
     "output_type": "stream",
     "text": [
      "Saving model...\n",
      "Model size: 677.32 KB\n",
      "\n",
      "Results for yago2, Sample Size: 10000\n",
      "Grid Search Time: 0.00s, Training Time: 0.00s\n",
      "KNN Parameters: {'algorithm': 'auto', 'n_neighbors': 10, 'weights': 'distance'}\n",
      "Performance: R² = 0.9530, MAE = 19346.90, MAPE = 3612.58%\n",
      "q-score: 40.92\n",
      "Prediction time: 489.5610 μs/sample\n",
      "I/O: Reads=0.000032, Writes=0.000101\n",
      "--------------------------------------------------------------------------------\n",
      "\n",
      "Training with sample size: 5000\n",
      "Memory usage: 1786.67 MB\n",
      "Using best parameters from max scale: {'algorithm': 'auto', 'n_neighbors': 10, 'weights': 'distance'}\n",
      "Training KNN model...\n",
      "Making predictions...\n"
     ]
    },
    {
     "name": "stdout",
     "output_type": "stream",
     "text": [
      "Calculating performance metrics...\n",
      "Measuring prediction performance...\n"
     ]
    },
    {
     "name": "stdout",
     "output_type": "stream",
     "text": [
      "Saving model...\n",
      "Model size: 340.25 KB\n",
      "\n",
      "Results for yago2, Sample Size: 5000\n",
      "Grid Search Time: 0.00s, Training Time: 0.00s\n",
      "KNN Parameters: {'algorithm': 'auto', 'n_neighbors': 10, 'weights': 'distance'}\n",
      "Performance: R² = 0.9274, MAE = 24845.03, MAPE = 5351.34%\n",
      "q-score: 59.99\n",
      "Prediction time: 435.1939 μs/sample\n",
      "I/O: Reads=0.000000, Writes=0.000065\n",
      "--------------------------------------------------------------------------------\n",
      "\n",
      "Training with sample size: 1000\n",
      "Memory usage: 1786.67 MB\n",
      "Using best parameters from max scale: {'algorithm': 'auto', 'n_neighbors': 10, 'weights': 'distance'}\n",
      "Training KNN model...\n",
      "Making predictions...\n"
     ]
    },
    {
     "name": "stdout",
     "output_type": "stream",
     "text": [
      "Calculating performance metrics...\n",
      "Measuring prediction performance...\n"
     ]
    },
    {
     "name": "stdout",
     "output_type": "stream",
     "text": [
      "Saving model...\n",
      "Model size: 39.58 KB\n",
      "\n",
      "Results for yago2, Sample Size: 1000\n",
      "Grid Search Time: 0.00s, Training Time: 0.00s\n",
      "KNN Parameters: {'algorithm': 'auto', 'n_neighbors': 10, 'weights': 'distance'}\n",
      "Performance: R² = 0.7613, MAE = 42524.27, MAPE = 12638.47%\n",
      "q-score: 140.10\n",
      "Prediction time: 280.9233 μs/sample\n",
      "I/O: Reads=0.000032, Writes=0.000011\n",
      "--------------------------------------------------------------------------------\n",
      "Saving results for yago2...\n"
     ]
    },
    {
     "name": "stdout",
     "output_type": "stream",
     "text": [
      "Memory usage: 1786.67 MB\n",
      "\n",
      "Processing dataset: powerthingnodesorted\n",
      "Universe boundaries for powerthingnodesorted: (-177.92741900000001, -77.8453164, 178.47197400000002, 78.2256315)\n",
      "Loading data from ../large_files/resultsContains/powerthingnodesorted_results.csv\n"
     ]
    },
    {
     "name": "stdout",
     "output_type": "stream",
     "text": [
      "Parsing MBR coordinates...\n"
     ]
    },
    {
     "name": "stdout",
     "output_type": "stream",
     "text": [
      "\n",
      "Basic statistics for powerthingnodesorted dataset:\n",
      "Max count: 10512575.0\n",
      "Min count: 0.0\n",
      "Mean count: 174964.97\n",
      "Median count: 41.00\n",
      "Total samples: 2102514\n",
      "\n",
      "Calculating rectangle densities...\n",
      "Splitting data into train and test sets...\n"
     ]
    },
    {
     "name": "stdout",
     "output_type": "stream",
     "text": [
      "Training set size: 1682011\n",
      "\n",
      "Training with sample size: 1682011\n",
      "Memory usage: 1788.67 MB\n",
      "Performing grid search for optimal parameters...\n"
     ]
    },
    {
     "name": "stdout",
     "output_type": "stream",
     "text": [
      "Grid search complete in 11803.78s\n",
      "Best parameters: {'algorithm': 'auto', 'n_neighbors': 10, 'weights': 'distance'}\n",
      "Training KNN model...\n"
     ]
    },
    {
     "name": "stdout",
     "output_type": "stream",
     "text": [
      "Making predictions...\n"
     ]
    },
    {
     "name": "stdout",
     "output_type": "stream",
     "text": [
      "Calculating performance metrics...\n",
      "Measuring prediction performance...\n"
     ]
    },
    {
     "name": "stdout",
     "output_type": "stream",
     "text": [
      "Saving model...\n"
     ]
    },
    {
     "name": "stdout",
     "output_type": "stream",
     "text": [
      "Model size: 114970.86 KB\n",
      "\n",
      "Results for powerthingnodesorted, Sample Size: 1682011\n",
      "Grid Search Time: 11803.78s, Training Time: 1.93s\n",
      "KNN Parameters: {'algorithm': 'auto', 'n_neighbors': 10, 'weights': 'distance'}\n",
      "Performance: R² = 0.9963, MAE = 10245.40, MAPE = 777.38%\n",
      "q-score: 14.53\n",
      "Prediction time: 469.0636 μs/sample\n",
      "I/O: Reads=0.000014, Writes=0.000017\n",
      "--------------------------------------------------------------------------------\n",
      "Generating prediction scatter plot...\n"
     ]
    },
    {
     "name": "stdout",
     "output_type": "stream",
     "text": [
      "Generating side-by-side comparison plot...\n"
     ]
    },
    {
     "name": "stdout",
     "output_type": "stream",
     "text": [
      "\n",
      "Training with sample size: 1000000\n",
      "Memory usage: 1786.93 MB\n",
      "Using best parameters from max scale: {'algorithm': 'auto', 'n_neighbors': 10, 'weights': 'distance'}\n",
      "Training KNN model...\n"
     ]
    },
    {
     "name": "stdout",
     "output_type": "stream",
     "text": [
      "Making predictions...\n"
     ]
    },
    {
     "name": "stdout",
     "output_type": "stream",
     "text": [
      "Calculating performance metrics...\n",
      "Measuring prediction performance...\n"
     ]
    },
    {
     "name": "stdout",
     "output_type": "stream",
     "text": [
      "Saving model...\n"
     ]
    },
    {
     "name": "stdout",
     "output_type": "stream",
     "text": [
      "Model size: 70104.23 KB\n",
      "\n",
      "Results for powerthingnodesorted, Sample Size: 1000000\n",
      "Grid Search Time: 0.00s, Training Time: 0.99s\n",
      "KNN Parameters: {'algorithm': 'auto', 'n_neighbors': 10, 'weights': 'distance'}\n",
      "Performance: R² = 0.9949, MAE = 12101.10, MAPE = 967.59%\n",
      "q-score: 17.78\n",
      "Prediction time: 924.0420 μs/sample\n",
      "I/O: Reads=0.000027, Writes=0.000056\n",
      "--------------------------------------------------------------------------------\n",
      "\n",
      "Training with sample size: 500000\n",
      "Memory usage: 1794.89 MB\n",
      "Using best parameters from max scale: {'algorithm': 'auto', 'n_neighbors': 10, 'weights': 'distance'}\n",
      "Training KNN model...\n"
     ]
    },
    {
     "name": "stdout",
     "output_type": "stream",
     "text": [
      "Making predictions...\n"
     ]
    },
    {
     "name": "stdout",
     "output_type": "stream",
     "text": [
      "Calculating performance metrics...\n",
      "Measuring prediction performance...\n"
     ]
    },
    {
     "name": "stdout",
     "output_type": "stream",
     "text": [
      "Saving model...\n"
     ]
    },
    {
     "name": "stdout",
     "output_type": "stream",
     "text": [
      "Model size: 34938.56 KB\n",
      "\n",
      "Results for powerthingnodesorted, Sample Size: 500000\n",
      "Grid Search Time: 0.00s, Training Time: 0.39s\n",
      "KNN Parameters: {'algorithm': 'auto', 'n_neighbors': 10, 'weights': 'distance'}\n",
      "Performance: R² = 0.9923, MAE = 14997.00, MAPE = 1306.54%\n",
      "q-score: 23.55\n",
      "Prediction time: 816.0680 μs/sample\n",
      "I/O: Reads=0.000027, Writes=0.000037\n",
      "--------------------------------------------------------------------------------\n",
      "\n",
      "Training with sample size: 100000\n",
      "Memory usage: 1794.89 MB\n",
      "Using best parameters from max scale: {'algorithm': 'auto', 'n_neighbors': 10, 'weights': 'distance'}\n",
      "Training KNN model...\n",
      "Making predictions...\n"
     ]
    },
    {
     "name": "stdout",
     "output_type": "stream",
     "text": [
      "Calculating performance metrics...\n",
      "Measuring prediction performance...\n"
     ]
    },
    {
     "name": "stdout",
     "output_type": "stream",
     "text": [
      "Saving model...\n"
     ]
    },
    {
     "name": "stdout",
     "output_type": "stream",
     "text": [
      "Model size: 6747.15 KB\n",
      "\n",
      "Results for powerthingnodesorted, Sample Size: 100000\n",
      "Grid Search Time: 0.00s, Training Time: 0.06s\n",
      "KNN Parameters: {'algorithm': 'auto', 'n_neighbors': 10, 'weights': 'distance'}\n",
      "Performance: R² = 0.9804, MAE = 25522.33, MAPE = 4229.49%\n",
      "q-score: 74.16\n",
      "Prediction time: 771.2600 μs/sample\n",
      "I/O: Reads=0.000027, Writes=0.000035\n",
      "--------------------------------------------------------------------------------\n",
      "\n",
      "Training with sample size: 50000\n",
      "Memory usage: 1794.89 MB\n",
      "Using best parameters from max scale: {'algorithm': 'auto', 'n_neighbors': 10, 'weights': 'distance'}\n",
      "Training KNN model...\n",
      "Making predictions...\n"
     ]
    },
    {
     "name": "stdout",
     "output_type": "stream",
     "text": [
      "Calculating performance metrics...\n",
      "Measuring prediction performance...\n"
     ]
    },
    {
     "name": "stdout",
     "output_type": "stream",
     "text": [
      "Saving model...\n",
      "Model size: 3346.68 KB\n",
      "\n",
      "Results for powerthingnodesorted, Sample Size: 50000\n",
      "Grid Search Time: 0.00s, Training Time: 0.02s\n",
      "KNN Parameters: {'algorithm': 'auto', 'n_neighbors': 10, 'weights': 'distance'}\n",
      "Performance: R² = 0.9718, MAE = 31693.10, MAPE = 6436.13%\n",
      "q-score: 111.95\n",
      "Prediction time: 724.0337 μs/sample\n",
      "I/O: Reads=0.000027, Writes=0.000030\n",
      "--------------------------------------------------------------------------------\n"
     ]
    },
    {
     "name": "stdout",
     "output_type": "stream",
     "text": [
      "\n",
      "Training with sample size: 10000\n",
      "Memory usage: 1794.89 MB\n",
      "Using best parameters from max scale: {'algorithm': 'auto', 'n_neighbors': 10, 'weights': 'distance'}\n",
      "Training KNN model...\n",
      "Making predictions...\n"
     ]
    },
    {
     "name": "stdout",
     "output_type": "stream",
     "text": [
      "Calculating performance metrics...\n",
      "Measuring prediction performance...\n"
     ]
    },
    {
     "name": "stdout",
     "output_type": "stream",
     "text": [
      "Saving model...\n",
      "Model size: 673.19 KB\n",
      "\n",
      "Results for powerthingnodesorted, Sample Size: 10000\n",
      "Grid Search Time: 0.00s, Training Time: 0.00s\n",
      "KNN Parameters: {'algorithm': 'auto', 'n_neighbors': 10, 'weights': 'distance'}\n",
      "Performance: R² = 0.9159, MAE = 55757.37, MAPE = 14118.51%\n",
      "q-score: 242.83\n",
      "Prediction time: 517.9273 μs/sample\n",
      "I/O: Reads=0.000028, Writes=0.000044\n",
      "--------------------------------------------------------------------------------\n",
      "\n",
      "Training with sample size: 5000\n",
      "Memory usage: 1794.89 MB\n",
      "Using best parameters from max scale: {'algorithm': 'auto', 'n_neighbors': 10, 'weights': 'distance'}\n",
      "Training KNN model...\n",
      "Making predictions...\n"
     ]
    },
    {
     "name": "stdout",
     "output_type": "stream",
     "text": [
      "Calculating performance metrics...\n",
      "Measuring prediction performance...\n"
     ]
    },
    {
     "name": "stdout",
     "output_type": "stream",
     "text": [
      "Saving model...\n",
      "Model size: 337.86 KB\n",
      "\n",
      "Results for powerthingnodesorted, Sample Size: 5000\n",
      "Grid Search Time: 0.00s, Training Time: 0.00s\n",
      "KNN Parameters: {'algorithm': 'auto', 'n_neighbors': 10, 'weights': 'distance'}\n",
      "Performance: R² = 0.8748, MAE = 70494.08, MAPE = 19852.77%\n",
      "q-score: 341.02\n",
      "Prediction time: 443.0718 μs/sample\n",
      "I/O: Reads=0.000014, Writes=0.000030\n",
      "--------------------------------------------------------------------------------\n",
      "\n",
      "Training with sample size: 1000\n",
      "Memory usage: 1794.89 MB\n",
      "Using best parameters from max scale: {'algorithm': 'auto', 'n_neighbors': 10, 'weights': 'distance'}\n",
      "Training KNN model...\n",
      "Making predictions...\n"
     ]
    },
    {
     "name": "stdout",
     "output_type": "stream",
     "text": [
      "Calculating performance metrics...\n",
      "Measuring prediction performance...\n"
     ]
    },
    {
     "name": "stdout",
     "output_type": "stream",
     "text": [
      "Saving model...\n",
      "Model size: 39.05 KB\n",
      "\n",
      "Results for powerthingnodesorted, Sample Size: 1000\n",
      "Grid Search Time: 0.00s, Training Time: 0.00s\n",
      "KNN Parameters: {'algorithm': 'auto', 'n_neighbors': 10, 'weights': 'distance'}\n",
      "Performance: R² = 0.6561, MAE = 112378.87, MAPE = 33959.16%\n",
      "q-score: 582.17\n",
      "Prediction time: 266.7445 μs/sample\n",
      "I/O: Reads=0.000014, Writes=0.000015\n",
      "--------------------------------------------------------------------------------\n",
      "Saving results for powerthingnodesorted...\n"
     ]
    },
    {
     "name": "stdout",
     "output_type": "stream",
     "text": [
      "Memory usage: 1794.89 MB\n",
      "\n",
      "Processing dataset: emergencythingwaysorted\n",
      "Universe boundaries for emergencythingwaysorted: (-175.221337, -53.7941359, 179.3313189, 78.22019230000001)\n",
      "Loading data from ../large_files/resultsContains/emergencythingwaysorted_results.csv\n"
     ]
    },
    {
     "name": "stdout",
     "output_type": "stream",
     "text": [
      "Parsing MBR coordinates...\n"
     ]
    },
    {
     "name": "stdout",
     "output_type": "stream",
     "text": [
      "\n",
      "Basic statistics for emergencythingwaysorted dataset:\n",
      "Max count: 807533.0\n",
      "Min count: 0.0\n",
      "Mean count: 13253.75\n",
      "Median count: 15.00\n",
      "Total samples: 161514\n",
      "\n",
      "Calculating rectangle densities...\n",
      "Splitting data into train and test sets...\n",
      "Training set size: 129211\n",
      "\n",
      "Training with sample size: 129211\n",
      "Memory usage: 1796.88 MB\n",
      "Performing grid search for optimal parameters...\n"
     ]
    },
    {
     "name": "stdout",
     "output_type": "stream",
     "text": [
      "Grid search complete in 670.88s\n",
      "Best parameters: {'algorithm': 'auto', 'n_neighbors': 7, 'weights': 'distance'}\n",
      "Training KNN model...\n",
      "Making predictions...\n"
     ]
    },
    {
     "name": "stdout",
     "output_type": "stream",
     "text": [
      "Calculating performance metrics...\n",
      "Measuring prediction performance...\n"
     ]
    },
    {
     "name": "stdout",
     "output_type": "stream",
     "text": [
      "Saving model...\n"
     ]
    },
    {
     "name": "stdout",
     "output_type": "stream",
     "text": [
      "Model size: 8894.09 KB\n",
      "\n",
      "Results for emergencythingwaysorted, Sample Size: 129211\n",
      "Grid Search Time: 670.88s, Training Time: 0.08s\n",
      "KNN Parameters: {'algorithm': 'auto', 'n_neighbors': 7, 'weights': 'distance'}\n",
      "Performance: R² = 0.9619, MAE = 2495.41, MAPE = 189.71%\n",
      "q-score: 4.29\n",
      "Prediction time: 669.9303 μs/sample\n",
      "I/O: Reads=0.000000, Writes=0.000170\n",
      "--------------------------------------------------------------------------------\n",
      "Generating prediction scatter plot...\n",
      "Generating side-by-side comparison plot...\n"
     ]
    },
    {
     "name": "stdout",
     "output_type": "stream",
     "text": [
      "\n",
      "Training with sample size: 100000\n",
      "Memory usage: 1795.87 MB\n",
      "Using best parameters from max scale: {'algorithm': 'auto', 'n_neighbors': 7, 'weights': 'distance'}\n",
      "Training KNN model...\n",
      "Making predictions...\n"
     ]
    },
    {
     "name": "stdout",
     "output_type": "stream",
     "text": [
      "Calculating performance metrics...\n",
      "Measuring prediction performance...\n"
     ]
    },
    {
     "name": "stdout",
     "output_type": "stream",
     "text": [
      "Saving model...\n"
     ]
    },
    {
     "name": "stdout",
     "output_type": "stream",
     "text": [
      "Model size: 6709.68 KB\n",
      "\n",
      "Results for emergencythingwaysorted, Sample Size: 100000\n",
      "Grid Search Time: 0.00s, Training Time: 0.06s\n",
      "KNN Parameters: {'algorithm': 'auto', 'n_neighbors': 7, 'weights': 'distance'}\n",
      "Performance: R² = 0.9576, MAE = 2684.03, MAPE = 220.77%\n",
      "q-score: 4.84\n",
      "Prediction time: 711.3742 μs/sample\n",
      "I/O: Reads=0.000176, Writes=0.000731\n",
      "--------------------------------------------------------------------------------\n",
      "\n",
      "Training with sample size: 50000\n",
      "Memory usage: 1795.88 MB\n",
      "Using best parameters from max scale: {'algorithm': 'auto', 'n_neighbors': 7, 'weights': 'distance'}\n",
      "Training KNN model...\n",
      "Making predictions...\n"
     ]
    },
    {
     "name": "stdout",
     "output_type": "stream",
     "text": [
      "Calculating performance metrics...\n",
      "Measuring prediction performance...\n"
     ]
    },
    {
     "name": "stdout",
     "output_type": "stream",
     "text": [
      "Saving model...\n",
      "Model size: 3327.08 KB\n",
      "\n",
      "Results for emergencythingwaysorted, Sample Size: 50000\n",
      "Grid Search Time: 0.00s, Training Time: 0.02s\n",
      "KNN Parameters: {'algorithm': 'auto', 'n_neighbors': 7, 'weights': 'distance'}\n",
      "Performance: R² = 0.9464, MAE = 3168.98, MAPE = 271.17%\n",
      "q-score: 5.81\n",
      "Prediction time: 637.7534 μs/sample\n",
      "I/O: Reads=0.000000, Writes=0.000570\n",
      "--------------------------------------------------------------------------------\n"
     ]
    },
    {
     "name": "stdout",
     "output_type": "stream",
     "text": [
      "\n",
      "Training with sample size: 10000\n",
      "Memory usage: 1795.88 MB\n",
      "Using best parameters from max scale: {'algorithm': 'auto', 'n_neighbors': 7, 'weights': 'distance'}\n",
      "Training KNN model...\n",
      "Making predictions...\n"
     ]
    },
    {
     "name": "stdout",
     "output_type": "stream",
     "text": [
      "Calculating performance metrics...\n",
      "Measuring prediction performance...\n"
     ]
    },
    {
     "name": "stdout",
     "output_type": "stream",
     "text": [
      "Saving model...\n",
      "Model size: 669.42 KB\n",
      "\n",
      "Results for emergencythingwaysorted, Sample Size: 10000\n",
      "Grid Search Time: 0.00s, Training Time: 0.00s\n",
      "KNN Parameters: {'algorithm': 'auto', 'n_neighbors': 7, 'weights': 'distance'}\n",
      "Performance: R² = 0.8885, MAE = 5210.46, MAPE = 561.54%\n",
      "q-score: 10.47\n",
      "Prediction time: 411.7407 μs/sample\n",
      "I/O: Reads=0.000000, Writes=0.000046\n",
      "--------------------------------------------------------------------------------\n",
      "\n",
      "Training with sample size: 5000\n",
      "Memory usage: 1795.88 MB\n",
      "Using best parameters from max scale: {'algorithm': 'auto', 'n_neighbors': 7, 'weights': 'distance'}\n",
      "Training KNN model...\n",
      "Making predictions...\n"
     ]
    },
    {
     "name": "stdout",
     "output_type": "stream",
     "text": [
      "Calculating performance metrics...\n",
      "Measuring prediction performance...\n"
     ]
    },
    {
     "name": "stdout",
     "output_type": "stream",
     "text": [
      "Saving model...\n",
      "Model size: 336.07 KB\n",
      "\n",
      "Results for emergencythingwaysorted, Sample Size: 5000\n",
      "Grid Search Time: 0.00s, Training Time: 0.00s\n",
      "KNN Parameters: {'algorithm': 'auto', 'n_neighbors': 7, 'weights': 'distance'}\n",
      "Performance: R² = 0.8326, MAE = 6525.92, MAPE = 856.58%\n",
      "q-score: 15.74\n",
      "Prediction time: 352.1806 μs/sample\n",
      "I/O: Reads=0.000000, Writes=0.000006\n",
      "--------------------------------------------------------------------------------\n",
      "\n",
      "Training with sample size: 1000\n",
      "Memory usage: 1795.88 MB\n",
      "Using best parameters from max scale: {'algorithm': 'auto', 'n_neighbors': 7, 'weights': 'distance'}\n",
      "Training KNN model...\n",
      "Making predictions...\n"
     ]
    },
    {
     "name": "stdout",
     "output_type": "stream",
     "text": [
      "Calculating performance metrics...\n",
      "Measuring prediction performance...\n"
     ]
    },
    {
     "name": "stdout",
     "output_type": "stream",
     "text": [
      "Saving model...\n",
      "Model size: 38.78 KB\n",
      "\n",
      "Results for emergencythingwaysorted, Sample Size: 1000\n",
      "Grid Search Time: 0.00s, Training Time: 0.00s\n",
      "KNN Parameters: {'algorithm': 'auto', 'n_neighbors': 7, 'weights': 'distance'}\n",
      "Performance: R² = 0.6277, MAE = 9957.38, MAPE = 1833.40%\n",
      "q-score: 32.43\n",
      "Prediction time: 207.4622 μs/sample\n",
      "I/O: Reads=0.000000, Writes=0.000350\n",
      "--------------------------------------------------------------------------------\n",
      "Saving results for emergencythingwaysorted...\n"
     ]
    },
    {
     "name": "stdout",
     "output_type": "stream",
     "text": [
      "Memory usage: 1795.88 MB\n",
      "\n",
      "Processing dataset: historicthingwaysorted\n",
      "Universe boundaries for historicthingwaysorted: (-179.99526020000002, -85.0036942, 179.99597930000002, 78.06750650000001)\n",
      "Loading data from ../large_files/resultsContains/historicthingwaysorted_results.csv\n"
     ]
    },
    {
     "name": "stdout",
     "output_type": "stream",
     "text": [
      "Parsing MBR coordinates...\n"
     ]
    },
    {
     "name": "stdout",
     "output_type": "stream",
     "text": [
      "\n",
      "Basic statistics for historicthingwaysorted dataset:\n",
      "Max count: 1792176.0\n",
      "Min count: 0.0\n",
      "Mean count: 29764.89\n",
      "Median count: 16.00\n",
      "Total samples: 358439\n",
      "\n",
      "Calculating rectangle densities...\n",
      "Splitting data into train and test sets...\n",
      "Training set size: 286751\n",
      "\n",
      "Training with sample size: 286751\n",
      "Memory usage: 1796.89 MB\n",
      "Performing grid search for optimal parameters...\n"
     ]
    },
    {
     "name": "stdout",
     "output_type": "stream",
     "text": [
      "Grid search complete in 1736.79s\n",
      "Best parameters: {'algorithm': 'auto', 'n_neighbors': 7, 'weights': 'distance'}\n",
      "Training KNN model...\n",
      "Making predictions...\n"
     ]
    },
    {
     "name": "stdout",
     "output_type": "stream",
     "text": [
      "Calculating performance metrics...\n",
      "Measuring prediction performance...\n"
     ]
    },
    {
     "name": "stdout",
     "output_type": "stream",
     "text": [
      "Saving model...\n"
     ]
    },
    {
     "name": "stdout",
     "output_type": "stream",
     "text": [
      "Model size: 19703.56 KB\n",
      "\n",
      "Results for historicthingwaysorted, Sample Size: 286751\n",
      "Grid Search Time: 1736.79s, Training Time: 0.20s\n",
      "KNN Parameters: {'algorithm': 'auto', 'n_neighbors': 7, 'weights': 'distance'}\n",
      "Performance: R² = 0.9803, MAE = 3615.24, MAPE = 115.67%\n",
      "q-score: 3.09\n",
      "Prediction time: 295.7983 μs/sample\n",
      "I/O: Reads=0.000000, Writes=0.000013\n",
      "--------------------------------------------------------------------------------\n",
      "Generating prediction scatter plot...\n"
     ]
    },
    {
     "name": "stdout",
     "output_type": "stream",
     "text": [
      "Generating side-by-side comparison plot...\n"
     ]
    },
    {
     "name": "stdout",
     "output_type": "stream",
     "text": [
      "\n",
      "Training with sample size: 100000\n",
      "Memory usage: 1795.89 MB\n",
      "Using best parameters from max scale: {'algorithm': 'auto', 'n_neighbors': 7, 'weights': 'distance'}\n",
      "Training KNN model...\n",
      "Making predictions...\n"
     ]
    },
    {
     "name": "stdout",
     "output_type": "stream",
     "text": [
      "Calculating performance metrics...\n",
      "Measuring prediction performance...\n"
     ]
    },
    {
     "name": "stdout",
     "output_type": "stream",
     "text": [
      "Saving model...\n"
     ]
    },
    {
     "name": "stdout",
     "output_type": "stream",
     "text": [
      "Model size: 6711.67 KB\n",
      "\n",
      "Results for historicthingwaysorted, Sample Size: 100000\n",
      "Grid Search Time: 0.00s, Training Time: 0.05s\n",
      "KNN Parameters: {'algorithm': 'auto', 'n_neighbors': 7, 'weights': 'distance'}\n",
      "Performance: R² = 0.9626, MAE = 5238.34, MAPE = 195.11%\n",
      "q-score: 4.46\n",
      "Prediction time: 275.9145 μs/sample\n",
      "I/O: Reads=0.000080, Writes=0.000010\n",
      "--------------------------------------------------------------------------------\n",
      "\n",
      "Training with sample size: 50000\n",
      "Memory usage: 1795.90 MB\n",
      "Using best parameters from max scale: {'algorithm': 'auto', 'n_neighbors': 7, 'weights': 'distance'}\n",
      "Training KNN model...\n",
      "Making predictions...\n"
     ]
    },
    {
     "name": "stdout",
     "output_type": "stream",
     "text": [
      "Calculating performance metrics...\n",
      "Measuring prediction performance...\n"
     ]
    },
    {
     "name": "stdout",
     "output_type": "stream",
     "text": [
      "Saving model...\n",
      "Model size: 3329.32 KB\n",
      "\n",
      "Results for historicthingwaysorted, Sample Size: 50000\n",
      "Grid Search Time: 0.00s, Training Time: 0.02s\n",
      "KNN Parameters: {'algorithm': 'auto', 'n_neighbors': 7, 'weights': 'distance'}\n",
      "Performance: R² = 0.9499, MAE = 6388.50, MAPE = 241.29%\n",
      "q-score: 5.26\n",
      "Prediction time: 252.4569 μs/sample\n",
      "I/O: Reads=0.000000, Writes=0.000584\n",
      "--------------------------------------------------------------------------------\n"
     ]
    },
    {
     "name": "stdout",
     "output_type": "stream",
     "text": [
      "\n",
      "Training with sample size: 10000\n",
      "Memory usage: 1795.90 MB\n",
      "Using best parameters from max scale: {'algorithm': 'auto', 'n_neighbors': 7, 'weights': 'distance'}\n",
      "Training KNN model...\n",
      "Making predictions...\n"
     ]
    },
    {
     "name": "stdout",
     "output_type": "stream",
     "text": [
      "Calculating performance metrics...\n",
      "Measuring prediction performance...\n"
     ]
    },
    {
     "name": "stdout",
     "output_type": "stream",
     "text": [
      "Saving model...\n",
      "Model size: 669.79 KB\n",
      "\n",
      "Results for historicthingwaysorted, Sample Size: 10000\n",
      "Grid Search Time: 0.00s, Training Time: 0.00s\n",
      "KNN Parameters: {'algorithm': 'auto', 'n_neighbors': 7, 'weights': 'distance'}\n",
      "Performance: R² = 0.8852, MAE = 10507.29, MAPE = 492.21%\n",
      "q-score: 9.40\n",
      "Prediction time: 165.6234 μs/sample\n",
      "I/O: Reads=0.000000, Writes=0.000006\n",
      "--------------------------------------------------------------------------------\n",
      "\n",
      "Training with sample size: 5000\n",
      "Memory usage: 1795.90 MB\n",
      "Using best parameters from max scale: {'algorithm': 'auto', 'n_neighbors': 7, 'weights': 'distance'}\n",
      "Training KNN model...\n",
      "Making predictions...\n"
     ]
    },
    {
     "name": "stdout",
     "output_type": "stream",
     "text": [
      "Calculating performance metrics...\n",
      "Measuring prediction performance...\n"
     ]
    },
    {
     "name": "stdout",
     "output_type": "stream",
     "text": [
      "Saving model...\n",
      "Model size: 336.11 KB\n",
      "\n",
      "Results for historicthingwaysorted, Sample Size: 5000\n",
      "Grid Search Time: 0.00s, Training Time: 0.00s\n",
      "KNN Parameters: {'algorithm': 'auto', 'n_neighbors': 7, 'weights': 'distance'}\n",
      "Performance: R² = 0.8299, MAE = 13301.86, MAPE = 653.64%\n",
      "q-score: 12.10\n",
      "Prediction time: 138.1393 μs/sample\n",
      "I/O: Reads=0.000000, Writes=0.000004\n",
      "--------------------------------------------------------------------------------\n",
      "\n",
      "Training with sample size: 1000\n",
      "Memory usage: 1795.90 MB\n",
      "Using best parameters from max scale: {'algorithm': 'auto', 'n_neighbors': 7, 'weights': 'distance'}\n",
      "Training KNN model...\n",
      "Making predictions...\n"
     ]
    },
    {
     "name": "stdout",
     "output_type": "stream",
     "text": [
      "Calculating performance metrics...\n",
      "Measuring prediction performance...\n"
     ]
    },
    {
     "name": "stdout",
     "output_type": "stream",
     "text": [
      "Saving model...\n",
      "Model size: 38.76 KB\n",
      "\n",
      "Results for historicthingwaysorted, Sample Size: 1000\n",
      "Grid Search Time: 0.00s, Training Time: 0.00s\n",
      "KNN Parameters: {'algorithm': 'auto', 'n_neighbors': 7, 'weights': 'distance'}\n",
      "Performance: R² = 0.6036, MAE = 22211.12, MAPE = 2328.74%\n",
      "q-score: 39.35\n",
      "Prediction time: 98.4103 μs/sample\n",
      "I/O: Reads=0.000000, Writes=0.000152\n",
      "--------------------------------------------------------------------------------\n",
      "Saving results for historicthingwaysorted...\n"
     ]
    },
    {
     "name": "stdout",
     "output_type": "stream",
     "text": [
      "Memory usage: 1795.90 MB\n",
      "\n",
      "Processing dataset: aerowaythingwaysorted\n",
      "Universe boundaries for aerowaythingwaysorted: (-179.88131460000002, -79.7773063, 179.426138, 85.05258450000001)\n",
      "Loading data from ../large_files/resultsContains/aerowaythingwaysorted_results.csv\n"
     ]
    },
    {
     "name": "stdout",
     "output_type": "stream",
     "text": [
      "Parsing MBR coordinates...\n"
     ]
    },
    {
     "name": "stdout",
     "output_type": "stream",
     "text": [
      "\n",
      "Basic statistics for aerowaythingwaysorted dataset:\n",
      "Max count: 1841551.0\n",
      "Min count: 0.0\n",
      "Mean count: 32184.18\n",
      "Median count: 226.00\n",
      "Total samples: 368365\n",
      "\n",
      "Calculating rectangle densities...\n",
      "Splitting data into train and test sets...\n",
      "Training set size: 294692\n",
      "\n",
      "Training with sample size: 294692\n",
      "Memory usage: 1798.88 MB\n",
      "Performing grid search for optimal parameters...\n"
     ]
    },
    {
     "name": "stdout",
     "output_type": "stream",
     "text": [
      "Grid search complete in 1877.78s\n",
      "Best parameters: {'algorithm': 'auto', 'n_neighbors': 7, 'weights': 'distance'}\n",
      "Training KNN model...\n",
      "Making predictions...\n"
     ]
    },
    {
     "name": "stdout",
     "output_type": "stream",
     "text": [
      "Calculating performance metrics...\n",
      "Measuring prediction performance...\n"
     ]
    },
    {
     "name": "stdout",
     "output_type": "stream",
     "text": [
      "Saving model...\n"
     ]
    },
    {
     "name": "stdout",
     "output_type": "stream",
     "text": [
      "Model size: 20326.62 KB\n",
      "\n",
      "Results for aerowaythingwaysorted, Sample Size: 294692\n",
      "Grid Search Time: 1877.78s, Training Time: 0.20s\n",
      "KNN Parameters: {'algorithm': 'auto', 'n_neighbors': 7, 'weights': 'distance'}\n",
      "Performance: R² = 0.9913, MAE = 3075.69, MAPE = 218.30%\n",
      "q-score: 4.26\n",
      "Prediction time: 296.0994 μs/sample\n",
      "I/O: Reads=0.000000, Writes=0.000012\n",
      "--------------------------------------------------------------------------------\n",
      "Generating prediction scatter plot...\n"
     ]
    },
    {
     "name": "stdout",
     "output_type": "stream",
     "text": [
      "Generating side-by-side comparison plot...\n"
     ]
    },
    {
     "name": "stdout",
     "output_type": "stream",
     "text": [
      "\n",
      "Training with sample size: 100000\n",
      "Memory usage: 1797.90 MB\n",
      "Using best parameters from max scale: {'algorithm': 'auto', 'n_neighbors': 7, 'weights': 'distance'}\n",
      "Training KNN model...\n",
      "Making predictions...\n"
     ]
    },
    {
     "name": "stdout",
     "output_type": "stream",
     "text": [
      "Calculating performance metrics...\n",
      "Measuring prediction performance...\n"
     ]
    },
    {
     "name": "stdout",
     "output_type": "stream",
     "text": [
      "Saving model...\n"
     ]
    },
    {
     "name": "stdout",
     "output_type": "stream",
     "text": [
      "Model size: 6749.24 KB\n",
      "\n",
      "Results for aerowaythingwaysorted, Sample Size: 100000\n",
      "Grid Search Time: 0.00s, Training Time: 0.06s\n",
      "KNN Parameters: {'algorithm': 'auto', 'n_neighbors': 7, 'weights': 'distance'}\n",
      "Performance: R² = 0.9843, MAE = 4322.98, MAPE = 330.82%\n",
      "q-score: 6.01\n",
      "Prediction time: 289.6342 μs/sample\n",
      "I/O: Reads=0.000077, Writes=0.000657\n",
      "--------------------------------------------------------------------------------\n",
      "\n",
      "Training with sample size: 50000\n",
      "Memory usage: 1797.91 MB\n",
      "Using best parameters from max scale: {'algorithm': 'auto', 'n_neighbors': 7, 'weights': 'distance'}\n",
      "Training KNN model...\n",
      "Making predictions...\n"
     ]
    },
    {
     "name": "stdout",
     "output_type": "stream",
     "text": [
      "Calculating performance metrics...\n",
      "Measuring prediction performance...\n"
     ]
    },
    {
     "name": "stdout",
     "output_type": "stream",
     "text": [
      "Saving model...\n",
      "Model size: 3348.22 KB\n",
      "\n",
      "Results for aerowaythingwaysorted, Sample Size: 50000\n",
      "Grid Search Time: 0.00s, Training Time: 0.03s\n",
      "KNN Parameters: {'algorithm': 'auto', 'n_neighbors': 7, 'weights': 'distance'}\n",
      "Performance: R² = 0.9757, MAE = 5381.94, MAPE = 416.40%\n",
      "q-score: 7.16\n",
      "Prediction time: 253.6450 μs/sample\n",
      "I/O: Reads=0.000000, Writes=0.000029\n",
      "--------------------------------------------------------------------------------\n"
     ]
    },
    {
     "name": "stdout",
     "output_type": "stream",
     "text": [
      "\n",
      "Training with sample size: 10000\n",
      "Memory usage: 1797.91 MB\n",
      "Using best parameters from max scale: {'algorithm': 'auto', 'n_neighbors': 7, 'weights': 'distance'}\n",
      "Training KNN model...\n",
      "Making predictions...\n"
     ]
    },
    {
     "name": "stdout",
     "output_type": "stream",
     "text": [
      "Calculating performance metrics...\n",
      "Measuring prediction performance...\n"
     ]
    },
    {
     "name": "stdout",
     "output_type": "stream",
     "text": [
      "Saving model...\n",
      "Model size: 673.65 KB\n",
      "\n",
      "Results for aerowaythingwaysorted, Sample Size: 10000\n",
      "Grid Search Time: 0.00s, Training Time: 0.00s\n",
      "KNN Parameters: {'algorithm': 'auto', 'n_neighbors': 7, 'weights': 'distance'}\n",
      "Performance: R² = 0.9474, MAE = 8642.04, MAPE = 956.67%\n",
      "q-score: 15.71\n",
      "Prediction time: 170.3300 μs/sample\n",
      "I/O: Reads=0.000000, Writes=0.000005\n",
      "--------------------------------------------------------------------------------\n",
      "\n",
      "Training with sample size: 5000\n",
      "Memory usage: 1797.91 MB\n",
      "Using best parameters from max scale: {'algorithm': 'auto', 'n_neighbors': 7, 'weights': 'distance'}\n",
      "Training KNN model...\n",
      "Making predictions...\n"
     ]
    },
    {
     "name": "stdout",
     "output_type": "stream",
     "text": [
      "Calculating performance metrics...\n",
      "Measuring prediction performance...\n"
     ]
    },
    {
     "name": "stdout",
     "output_type": "stream",
     "text": [
      "Saving model...\n",
      "Model size: 338.08 KB\n",
      "\n",
      "Results for aerowaythingwaysorted, Sample Size: 5000\n",
      "Grid Search Time: 0.00s, Training Time: 0.00s\n",
      "KNN Parameters: {'algorithm': 'auto', 'n_neighbors': 7, 'weights': 'distance'}\n",
      "Performance: R² = 0.9251, MAE = 10560.44, MAPE = 1148.64%\n",
      "q-score: 18.28\n",
      "Prediction time: 141.9709 μs/sample\n",
      "I/O: Reads=0.000000, Writes=0.000007\n",
      "--------------------------------------------------------------------------------\n",
      "\n",
      "Training with sample size: 1000\n",
      "Memory usage: 1797.91 MB\n",
      "Using best parameters from max scale: {'algorithm': 'auto', 'n_neighbors': 7, 'weights': 'distance'}\n",
      "Training KNN model...\n",
      "Making predictions...\n"
     ]
    },
    {
     "name": "stdout",
     "output_type": "stream",
     "text": [
      "Calculating performance metrics...\n",
      "Measuring prediction performance...\n"
     ]
    },
    {
     "name": "stdout",
     "output_type": "stream",
     "text": [
      "Saving model...\n",
      "Model size: 39.12 KB\n",
      "\n",
      "Results for aerowaythingwaysorted, Sample Size: 1000\n",
      "Grid Search Time: 0.00s, Training Time: 0.00s\n",
      "KNN Parameters: {'algorithm': 'auto', 'n_neighbors': 7, 'weights': 'distance'}\n",
      "Performance: R² = 0.7985, MAE = 16718.79, MAPE = 2107.03%\n",
      "q-score: 32.05\n",
      "Prediction time: 83.7863 μs/sample\n",
      "I/O: Reads=0.000000, Writes=0.000011\n",
      "--------------------------------------------------------------------------------\n",
      "Saving results for aerowaythingwaysorted...\n"
     ]
    },
    {
     "name": "stdout",
     "output_type": "stream",
     "text": [
      "Memory usage: 1797.91 MB\n",
      "\n",
      "Processing dataset: arealm\n",
      "Universe boundaries for arealm: (-179.147236, -14.548699, 179.77847, 71.359879)\n",
      "Loading data from ../large_files/resultsContains/arealm_results.csv\n",
      "Parsing MBR coordinates...\n"
     ]
    },
    {
     "name": "stdout",
     "output_type": "stream",
     "text": [
      "\n",
      "Basic statistics for arealm dataset:\n",
      "Max count: 129097.0\n",
      "Min count: 0.0\n",
      "Mean count: 2282.26\n",
      "Median count: 0.00\n",
      "Total samples: 25833\n",
      "\n",
      "Calculating rectangle densities...\n",
      "Splitting data into train and test sets...\n",
      "Training set size: 20666\n",
      "\n",
      "Training with sample size: 20666\n",
      "Memory usage: 1797.02 MB\n",
      "Performing grid search for optimal parameters...\n"
     ]
    },
    {
     "name": "stdout",
     "output_type": "stream",
     "text": [
      "Grid search complete in 61.91s\n",
      "Best parameters: {'algorithm': 'auto', 'n_neighbors': 5, 'weights': 'distance'}\n",
      "Training KNN model...\n",
      "Making predictions...\n",
      "Calculating performance metrics...\n",
      "Measuring prediction performance...\n"
     ]
    },
    {
     "name": "stdout",
     "output_type": "stream",
     "text": [
      "Saving model...\n",
      "Model size: 1360.55 KB\n",
      "\n",
      "Results for arealm, Sample Size: 20666\n",
      "Grid Search Time: 61.91s, Training Time: 0.01s\n",
      "KNN Parameters: {'algorithm': 'auto', 'n_neighbors': 5, 'weights': 'distance'}\n",
      "Performance: R² = 0.9227, MAE = 604.02, MAPE = 340.23%\n",
      "q-score: 22.15\n",
      "Prediction time: 137.9439 μs/sample\n",
      "I/O: Reads=0.000000, Writes=0.005051\n",
      "--------------------------------------------------------------------------------\n",
      "Generating prediction scatter plot...\n"
     ]
    },
    {
     "name": "stdout",
     "output_type": "stream",
     "text": [
      "Generating side-by-side comparison plot...\n"
     ]
    },
    {
     "name": "stdout",
     "output_type": "stream",
     "text": [
      "\n",
      "Training with sample size: 10000\n",
      "Memory usage: 1797.01 MB\n",
      "Using best parameters from max scale: {'algorithm': 'auto', 'n_neighbors': 5, 'weights': 'distance'}\n",
      "Training KNN model...\n",
      "Making predictions...\n",
      "Calculating performance metrics...\n",
      "Measuring prediction performance...\n"
     ]
    },
    {
     "name": "stdout",
     "output_type": "stream",
     "text": [
      "Saving model...\n",
      "Model size: 659.63 KB\n",
      "\n",
      "Results for arealm, Sample Size: 10000\n",
      "Grid Search Time: 0.00s, Training Time: 0.00s\n",
      "KNN Parameters: {'algorithm': 'auto', 'n_neighbors': 5, 'weights': 'distance'}\n",
      "Performance: R² = 0.8975, MAE = 755.80, MAPE = 213.83%\n",
      "q-score: 11.16\n",
      "Prediction time: 137.4708 μs/sample\n",
      "I/O: Reads=0.000000, Writes=0.000000\n",
      "--------------------------------------------------------------------------------\n",
      "\n",
      "Training with sample size: 5000\n",
      "Memory usage: 1797.02 MB\n",
      "Using best parameters from max scale: {'algorithm': 'auto', 'n_neighbors': 5, 'weights': 'distance'}\n",
      "Training KNN model...\n",
      "Making predictions...\n"
     ]
    },
    {
     "name": "stdout",
     "output_type": "stream",
     "text": [
      "Calculating performance metrics...\n",
      "Measuring prediction performance...\n"
     ]
    },
    {
     "name": "stdout",
     "output_type": "stream",
     "text": [
      "Saving model...\n",
      "Model size: 329.99 KB\n",
      "\n",
      "Results for arealm, Sample Size: 5000\n",
      "Grid Search Time: 0.00s, Training Time: 0.00s\n",
      "KNN Parameters: {'algorithm': 'auto', 'n_neighbors': 5, 'weights': 'distance'}\n",
      "Performance: R² = 0.8804, MAE = 866.50, MAPE = 661.67%\n",
      "q-score: 41.20\n",
      "Prediction time: 121.6070 μs/sample\n",
      "I/O: Reads=0.000000, Writes=0.000000\n",
      "--------------------------------------------------------------------------------\n",
      "\n",
      "Training with sample size: 1000\n",
      "Memory usage: 1797.02 MB\n",
      "Using best parameters from max scale: {'algorithm': 'auto', 'n_neighbors': 5, 'weights': 'distance'}\n",
      "Training KNN model...\n",
      "Making predictions...\n"
     ]
    },
    {
     "name": "stdout",
     "output_type": "stream",
     "text": [
      "Calculating performance metrics...\n",
      "Measuring prediction performance...\n"
     ]
    },
    {
     "name": "stdout",
     "output_type": "stream",
     "text": [
      "Saving model...\n",
      "Model size: 37.75 KB\n",
      "\n",
      "Results for arealm, Sample Size: 1000\n",
      "Grid Search Time: 0.00s, Training Time: 0.00s\n",
      "KNN Parameters: {'algorithm': 'auto', 'n_neighbors': 5, 'weights': 'distance'}\n",
      "Performance: R² = 0.6014, MAE = 1641.08, MAPE = 2294.12%\n",
      "q-score: 150.79\n",
      "Prediction time: 65.7581 μs/sample\n",
      "I/O: Reads=0.000000, Writes=0.000000\n",
      "--------------------------------------------------------------------------------\n",
      "Saving results for arealm...\n"
     ]
    },
    {
     "name": "stdout",
     "output_type": "stream",
     "text": [
      "Saving combined results...\n",
      "All processing completed and results saved.\n",
      "Memory usage: 1797.02 MB\n"
     ]
    }
   ],
   "source": [
    "import numpy as np\n",
    "import pandas as pd\n",
    "import matplotlib.pyplot as plt\n",
    "import matplotlib.patches as patches\n",
    "from time import process_time\n",
    "from sklearn.model_selection import train_test_split\n",
    "from sklearn.metrics import mean_absolute_error as MAE\n",
    "from sklearn.model_selection import GridSearchCV\n",
    "from sklearn.neighbors import KNeighborsRegressor\n",
    "import psutil\n",
    "import os\n",
    "import re\n",
    "import multiprocessing\n",
    "import joblib\n",
    "import gc\n",
    "from tqdm.notebook import tqdm  # Progress bars for Jupyter\n",
    "\n",
    "# Configuration options\n",
    "VISUALIZE_RECTANGLES = False  # Set to True if you want to visualize rectangles\n",
    "SAVE_INTERMEDIATE_MODELS = True  # Set to False to save only final models\n",
    "\n",
    "# Flag to control whether to use multiple scales or only the maximum scale\n",
    "use_multiple_scales = True  # Set to False to use only maximum scale, True for all scales\n",
    "\n",
    "# Get available CPU cores and set appropriate parallelism\n",
    "n_cores = multiprocessing.cpu_count()\n",
    "n_jobs = max(1, n_cores - 1)  # Leave one core free for system processes\n",
    "print(f\"Using {n_jobs} of {n_cores} available CPU cores\")\n",
    "\n",
    "# For reproducibility\n",
    "RANDOM_SEED = 3\n",
    "np.random.seed(RANDOM_SEED)\n",
    "\n",
    "def monitor_memory():\n",
    "    \"\"\"Print current memory usage of the process\"\"\"\n",
    "    process = psutil.Process()\n",
    "    memory_mb = process.memory_info().rss / (1024 * 1024)\n",
    "    print(f\"Memory usage: {memory_mb:.2f} MB\")\n",
    "\n",
    "def MAPE(actual_values, predicted_values):\n",
    "    \"\"\"Calculate Mean Absolute Percentage Error with special handling for zeros\"\"\"\n",
    "    # Vectorized implementation\n",
    "    actual_flat = actual_values.flatten()\n",
    "    pred_flat = predicted_values.flatten()\n",
    "    \n",
    "    # Create mask for non-zero actual values\n",
    "    non_zero_mask = actual_flat != 0\n",
    "    zero_mask = ~non_zero_mask\n",
    "    \n",
    "    # Calculate MAPE for non-zero elements\n",
    "    mape_sum = 0\n",
    "    count = len(actual_flat)\n",
    "    \n",
    "    if np.any(non_zero_mask):\n",
    "        mape_sum += np.sum(np.abs((actual_flat[non_zero_mask] - pred_flat[non_zero_mask]) / actual_flat[non_zero_mask]))\n",
    "    \n",
    "    if np.any(zero_mask):\n",
    "        mape_sum += np.sum(np.abs(actual_flat[zero_mask] - pred_flat[zero_mask]) / 100)\n",
    "    \n",
    "    return mape_sum / count\n",
    "\n",
    "# Load spatial statistics to get universe boundaries for each dataset\n",
    "print(\"Loading spatial statistics...\")\n",
    "spatial_stats = pd.read_csv('../spatial_statistics.csv')\n",
    "\n",
    "# Directory containing the datasets\n",
    "data_dir = '../large_files/resultsContains/'\n",
    "\n",
    "# Parse bounding box information\n",
    "def parse_bbox(bbox_str):\n",
    "    # Extract coordinates from BOX string using regex\n",
    "    pattern = r\"BOX\\(([-\\d\\.]+) ([-\\d\\.]+),([-\\d\\.]+) ([-\\d\\.]+)\\)\"\n",
    "    match = re.search(pattern, bbox_str)\n",
    "    if match:\n",
    "        xmin = float(match.group(1))\n",
    "        ymin = float(match.group(2))\n",
    "        xmax = float(match.group(3))\n",
    "        ymax = float(match.group(4))\n",
    "        return xmin, ymin, xmax, ymax\n",
    "    return -180, -90, 180, 90  # Default if parsing fails\n",
    "\n",
    "# Extract universe boundaries for each dataset\n",
    "universe_boundaries = {}\n",
    "for _, row in spatial_stats.iterrows():\n",
    "    table_name = row['Table Name']\n",
    "    bbox = parse_bbox(row['Universe Limits (Bounding Box)'])\n",
    "    universe_boundaries[table_name] = bbox\n",
    "\n",
    "# Get list of all CSV files in the directory\n",
    "print(\"Finding dataset files...\")\n",
    "csv_files = [f for f in os.listdir(data_dir) if f.endswith('.csv')]\n",
    "print(f\"Found {len(csv_files)} datasets to process\")\n",
    "\n",
    "# Define the scales of learning\n",
    "scales = [1000, 5000, 10000, 50000, 100000, 500000, 1000000]\n",
    "\n",
    "# Create necessary directories\n",
    "os.makedirs('../large_files/LearnedModels/contain/KNN', exist_ok=True)\n",
    "os.makedirs('../large_files/LearnedModels/contain/KNN/visualizations', exist_ok=True)\n",
    "os.makedirs('../large_files/LearnedModels/contain/KNN/results', exist_ok=True)\n",
    "\n",
    "# Lists to store all results\n",
    "all_results_list = []\n",
    "\n",
    "# Process each dataset\n",
    "for csv_file in tqdm(csv_files, desc=\"Processing datasets\"):\n",
    "    # Force garbage collection at the start of each dataset\n",
    "    gc.collect()\n",
    "    monitor_memory()\n",
    "    \n",
    "    # Extract dataset name (remove \"_results.csv\")\n",
    "    dataset_name = csv_file.replace('_results.csv', '')\n",
    "    \n",
    "    print(f\"\\nProcessing dataset: {dataset_name}\")\n",
    "    \n",
    "    # Get universe boundaries for this dataset\n",
    "    if dataset_name in universe_boundaries:\n",
    "        univ_xmin, univ_ymin, univ_xmax, univ_ymax = universe_boundaries[dataset_name]\n",
    "    else:\n",
    "        # Default values if dataset not found in spatial stats\n",
    "        univ_xmin, univ_ymin, univ_xmax, univ_ymax = -180, -90, 180, 90\n",
    "    \n",
    "    Surface_univ = (univ_xmax - univ_xmin) * (univ_ymax - univ_ymin)\n",
    "    print(f\"Universe boundaries for {dataset_name}: ({univ_xmin}, {univ_ymin}, {univ_xmax}, {univ_ymax})\")\n",
    "    \n",
    "    # Load dataset - only load required columns\n",
    "    data_path = os.path.join(data_dir, csv_file)\n",
    "    print(f\"Loading data from {data_path}\")\n",
    "    data = pd.read_csv(data_path, usecols=['Query MBR', 'Count MBR'])\n",
    "    \n",
    "    # Extract query MBR column (needs parsing as it's in string format)\n",
    "    def parse_mbr(mbr_str):\n",
    "        coords = mbr_str.strip('\"()').split(', ')\n",
    "        return [float(coord) for coord in coords]\n",
    "    \n",
    "    # Extract columns - use list comprehension for better performance\n",
    "    print(\"Parsing MBR coordinates...\")\n",
    "    Rectangles = np.array([parse_mbr(mbr) for mbr in data['Query MBR']])\n",
    "    Y = data[['Count MBR']].values  # Using Count MBR as target\n",
    "    \n",
    "    # Free up memory\n",
    "    del data\n",
    "    gc.collect()\n",
    "    \n",
    "    # Calculate basic statistics\n",
    "    max_count = float(np.max(Y))\n",
    "    min_count = float(np.min(Y))\n",
    "    mean_count = float(np.mean(Y))\n",
    "    median_count = float(np.median(Y))\n",
    "    total_samples = len(Y)\n",
    "\n",
    "    # Display basic statistics for the dataset\n",
    "    print(f\"\\nBasic statistics for {dataset_name} dataset:\")\n",
    "    print(f\"Max count: {max_count}\")\n",
    "    print(f\"Min count: {min_count}\")\n",
    "    print(f\"Mean count: {mean_count:.2f}\")\n",
    "    print(f\"Median count: {median_count:.2f}\")\n",
    "    print(f\"Total samples: {total_samples}\\n\")\n",
    "\n",
    "    # Calculate rectangles density - vectorized version\n",
    "    print(\"Calculating rectangle densities...\")\n",
    "    width = Rectangles[:, 2] - Rectangles[:, 0]\n",
    "    height = Rectangles[:, 3] - Rectangles[:, 1]\n",
    "    rectanglesDensity = np.abs(width * height / Surface_univ).reshape(-1, 1)\n",
    "    \n",
    "    # Prepare the dataset\n",
    "    # X = np.append(Rectangles, rectanglesDensity, axis=1)\n",
    "    X = Rectangles\n",
    "    \n",
    "    # Split the data into 80% train and 20% test\n",
    "    print(\"Splitting data into train and test sets...\")\n",
    "    X_train, X_test_all, y_train, y_test_all = train_test_split(X, Y, test_size=0.2, random_state=RANDOM_SEED)\n",
    "    \n",
    "    # Visualize the first 1000 rectangles (only if enabled)\n",
    "    if len(Rectangles) > 0 and VISUALIZE_RECTANGLES:\n",
    "        print(\"Visualizing rectangles sample...\")\n",
    "        plt.figure(figsize=(10, 8))\n",
    "        ax = plt.subplot()\n",
    "        \n",
    "        # Only visualize a sample to save time\n",
    "        sample_size = min(1000, len(Rectangles))\n",
    "        for i in range(sample_size):\n",
    "            x1, y1, x2, y2 = Rectangles[i]\n",
    "            color_val = float(rectanglesDensity[i][0]) if hasattr(rectanglesDensity[i], '__len__') else float(rectanglesDensity[i])\n",
    "            rectangle = patches.Rectangle((x1, y1), x2 - x1, y2 - y1, \n",
    "                                        linewidth=1, edgecolor='b', facecolor='none', alpha=min(1.0, color_val*10))\n",
    "            ax.add_patch(rectangle)\n",
    "            \n",
    "        plt.xlim(univ_xmin-20, univ_xmax+20)\n",
    "        plt.ylim(univ_ymin-10, univ_ymax+10)\n",
    "        plt.title(f\"Sample rectangles from {dataset_name}\")\n",
    "        plt.savefig(f\"../large_files/LearnedModels/contain/KNN/visualizations/{dataset_name}_rectangles.png\", dpi=150)\n",
    "        plt.close()  # Close to free memory instead of plt.show()\n",
    "    \n",
    "    # Adjust scales to the dataset size\n",
    "    max_size = len(X_train)\n",
    "    print(f\"Training set size: {max_size}\")\n",
    "\n",
    "    # KNN scales differently from tree-based models - for very large datasets, limit max size\n",
    "    # if max_size > 100000:\n",
    "    #     print(f\"Large dataset detected - limiting KNN training size to 100,000 samples\")\n",
    "    #     max_size = 100000  # KNN can be slow with larger datasets\n",
    "        \n",
    "    if use_multiple_scales:\n",
    "        # Use multiple scales as before\n",
    "        adjusted_scales = [s for s in scales if s <= max_size]\n",
    "        \n",
    "        # Add the actual max size if it's not already in the list\n",
    "        if max_size not in adjusted_scales:\n",
    "            adjusted_scales.append(max_size)\n",
    "            \n",
    "        # Sort the scales to ensure they're in ascending order\n",
    "        adjusted_scales.sort()\n",
    "    else:\n",
    "        # Use only the maximum scale\n",
    "        adjusted_scales = [max_size]\n",
    "\n",
    "    # List to store dataset-specific results\n",
    "    dataset_results_list = []\n",
    "\n",
    "    # Store best parameters from max scale training to reuse\n",
    "    best_params = None\n",
    "    \n",
    "    # Process scales in reversed order (largest first)\n",
    "    for sample_size in reversed(adjusted_scales):\n",
    "        print(f\"\\nTraining with sample size: {sample_size}\")\n",
    "        monitor_memory()\n",
    "        \n",
    "        # Create training subset\n",
    "        X_train_sample = X_train[:sample_size, :]\n",
    "        y_train_sample = y_train[:sample_size]\n",
    "        \n",
    "        # Set reasonable K values for parameter tuning\n",
    "        k_values = [3, 5, 7, 10, 15, 20, 30]\n",
    "        \n",
    "        # KNN parameters - optimize for performance\n",
    "        params_knn = {\n",
    "            'n_neighbors': k_values,\n",
    "            'weights': ['distance'],      # Only use distance weighting\n",
    "            'algorithm': ['auto'],        # Let KNN decide best algorithm\n",
    "        }\n",
    "        \n",
    "        # Only do GridSearch for the max scale\n",
    "        if sample_size == max_size or best_params is None:\n",
    "            print(\"Performing grid search for optimal parameters...\")\n",
    "            knn = KNeighborsRegressor(n_jobs=n_jobs)\n",
    "            knn_cv = GridSearchCV(knn, params_knn, cv=3, n_jobs=1)  # Use n_jobs=1 here as KNN uses parallelism internally\n",
    "            \n",
    "            # Time the grid search\n",
    "            t1_start = process_time()\n",
    "            knn_cv.fit(X_train_sample, y_train_sample.ravel())\n",
    "            t1_stop = process_time()\n",
    "            grid_search_time = t1_stop - t1_start\n",
    "            \n",
    "            # Store best parameters for reuse\n",
    "            best_params = knn_cv.best_params_\n",
    "            print(f\"Grid search complete in {grid_search_time:.2f}s\")\n",
    "            print(f\"Best parameters: {best_params}\")\n",
    "        else:\n",
    "            # Skip grid search for smaller scales, use params from max scale\n",
    "            knn_cv = None\n",
    "            grid_search_time = 0\n",
    "            print(f\"Using best parameters from max scale: {best_params}\")\n",
    "        \n",
    "        # Train the model with best parameters\n",
    "        print(\"Training KNN model...\")\n",
    "        knn = KNeighborsRegressor(n_jobs=n_jobs, **best_params)\n",
    "        \n",
    "        t2_start = process_time()\n",
    "        knn.fit(X_train_sample, y_train_sample.ravel())\n",
    "        t2_stop = process_time()\n",
    "        training_time = t2_stop - t2_start\n",
    "        \n",
    "        # Make predictions\n",
    "        print(\"Making predictions...\")\n",
    "        y_pred = knn.predict(X_test_all).reshape(-1, 1)  # Reshape to match y_test_all format\n",
    "        # Ensure predictions are non-negative (counts can't be negative)\n",
    "        y_pred = np.maximum(0, y_pred)  # Convert any negative predictions to zero\n",
    "\n",
    "        # Calculate metrics\n",
    "        r2_score = knn.score(X_test_all, y_test_all)\n",
    "        mae_value = MAE(y_test_all, y_pred)\n",
    "        mape_value = MAPE(y_test_all, y_pred)\n",
    "        \n",
    "        # Calculate q-score - vectorized version\n",
    "        print(\"Calculating performance metrics...\")\n",
    "        \n",
    "        # Vectorized q-score calculation\n",
    "        y_true_flat = y_test_all.flatten()\n",
    "        y_pred_flat = y_pred.flatten() if y_pred.ndim > 1 else y_pred\n",
    "        \n",
    "        # Find indices where both values are non-zero\n",
    "        valid_indices = (y_true_flat != 0) & (y_pred_flat != 0)\n",
    "        \n",
    "        if np.any(valid_indices):\n",
    "            ratios = np.maximum(\n",
    "                y_pred_flat[valid_indices] / y_true_flat[valid_indices],\n",
    "                y_true_flat[valid_indices] / y_pred_flat[valid_indices]\n",
    "            )\n",
    "            q_score_mean = np.mean(ratios)\n",
    "        else:\n",
    "            q_score_mean = 0\n",
    "        \n",
    "        # Time prediction performance (10 iterations)\n",
    "        print(\"Measuring prediction performance...\")\n",
    "        total_duration = 0\n",
    "        total_read = 0\n",
    "        total_write = 0\n",
    "        \n",
    "        for _ in range(10):\n",
    "            io_before = psutil.disk_io_counters()\n",
    "            t3_start = process_time()\n",
    "            preds = knn.predict(X_test_all)\n",
    "            preds = np.maximum(0, preds)  # Include this operation in timing\n",
    "            t3_stop = process_time()\n",
    "            io_after = psutil.disk_io_counters()\n",
    "            \n",
    "            total_duration += (t3_stop - t3_start)\n",
    "            total_read += io_after.read_count - io_before.read_count\n",
    "            total_write += io_after.write_count - io_before.write_count\n",
    "        \n",
    "        avg_pred_time_microsec = (total_duration / 10) / len(y_pred) * 1000000\n",
    "        avg_reads = total_read / 10 / len(y_pred)\n",
    "        avg_writes = total_write / 10 / len(y_pred)\n",
    "        \n",
    "        # Save the model using joblib instead of pickle for better efficiency\n",
    "        if SAVE_INTERMEDIATE_MODELS or sample_size == max_size:\n",
    "            print(\"Saving model...\")\n",
    "            filename = f'../large_files/LearnedModels/contain/KNN/{dataset_name}_knn_{sample_size}_{training_time:.2f}s_{mape_value:.2%}_{mae_value:.2f}.joblib'\n",
    "            joblib.dump(knn, filename, compress=3)\n",
    "            # Get model file size in KB\n",
    "            model_size_kb = os.path.getsize(filename) / 1024\n",
    "            print(f\"Model size: {model_size_kb:.2f} KB\")\n",
    "        else:\n",
    "            model_size_kb = 0  # Set to 0 if model wasn't saved\n",
    "        \n",
    "        # Print results\n",
    "        print(f\"\\nResults for {dataset_name}, Sample Size: {sample_size}\")\n",
    "        print(f\"Grid Search Time: {grid_search_time:.2f}s, Training Time: {training_time:.2f}s\")\n",
    "        print(f\"KNN Parameters: {best_params}\")\n",
    "        print(f\"Performance: R² = {r2_score:.4f}, MAE = {mae_value:.2f}, MAPE = {mape_value:.2%}\")\n",
    "        print(f\"q-score: {q_score_mean:.2f}\")\n",
    "        print(f\"Prediction time: {avg_pred_time_microsec:.4f} μs/sample\")\n",
    "        print(f\"I/O: Reads={avg_reads:.6f}, Writes={avg_writes:.6f}\")\n",
    "        print(\"-\" * 80)\n",
    "        \n",
    "        # Plot actual vs predicted only for the maximum scale\n",
    "        if sample_size == adjusted_scales[-1]:  # Check if this is the maximum scale\n",
    "            print(\"Generating prediction scatter plot...\")\n",
    "            plt.figure(figsize=(10, 8))\n",
    "            plt.scatter(y_test_all, y_pred, s=0.5, alpha=0.5)\n",
    "            plt.xlabel('True Values')\n",
    "            plt.ylabel('Predictions')\n",
    "            plt.title(f\"{dataset_name} - Sample Size: {sample_size} (Maximum)\")\n",
    "            plt.grid(True, alpha=0.3)\n",
    "            \n",
    "            # Add diagonal line for perfect predictions\n",
    "            max_val = max(np.max(y_test_all), np.max(y_pred))\n",
    "            plt.plot([0, max_val], [0, max_val], 'r--', alpha=0.5)\n",
    "            \n",
    "            plt.savefig(f\"../large_files/LearnedModels/contain/KNN/visualizations/{dataset_name}_{sample_size}_prediction.png\", dpi=150)\n",
    "            plt.close()  # Close to free memory\n",
    "            \n",
    "            # Create a scatter plot comparing predicted vs real values for first 100 rectangles\n",
    "            print(\"Generating side-by-side comparison plot...\")\n",
    "            \n",
    "            # Get predictions for first 100 test samples\n",
    "            sample_indices = range(min(100, len(X_test_all)))\n",
    "            X_sample = X_test_all[sample_indices]\n",
    "            y_sample_true = y_test_all[sample_indices].flatten()\n",
    "            y_sample_pred = knn.predict(X_sample)\n",
    "            # Ensure non-negative predictions\n",
    "            y_sample_pred = np.maximum(0, y_sample_pred)\n",
    "            \n",
    "            plt.figure(figsize=(20, 10))\n",
    "            plt.scatter(range(len(sample_indices)), y_sample_pred, c='purple', \n",
    "                        label='Predicted number of objects (KNN)', alpha=0.7, s=100)\n",
    "            plt.scatter(range(len(sample_indices)), y_sample_true, c='green', \n",
    "                        label='Real number of objects', alpha=0.7, s=100)\n",
    "            \n",
    "            plt.title(f'{dataset_name} - First {len(sample_indices)} Rectangles: Predicted vs Real Values', fontsize=16)\n",
    "            plt.xlabel('Rectangle Index', fontsize=14)\n",
    "            plt.ylabel('Number of objects in rectangle', fontsize=14)\n",
    "            plt.legend(fontsize=12)\n",
    "            plt.grid(True, alpha=0.3)\n",
    "            plt.tight_layout()\n",
    "            \n",
    "            # Save the plot\n",
    "            plt.savefig(f\"../large_files/LearnedModels/contain/KNN/visualizations/{dataset_name}_comparison_plot.png\", dpi=150)\n",
    "            plt.close()\n",
    "        \n",
    "        # Store results in list (more efficient than DataFrame concat)\n",
    "        result_row = {\n",
    "            'Dataset': dataset_name,\n",
    "            'Sample_Size': sample_size,\n",
    "            'Training_Time': training_time,\n",
    "            'Best_Params': str(best_params),\n",
    "            'R2_Score': r2_score,\n",
    "            'MAE': mae_value,\n",
    "            'MAPE': float(mape_value),\n",
    "            'Q_Score': q_score_mean,\n",
    "            'Pred_Time_Microseconds': avg_pred_time_microsec,\n",
    "            'IO_Reads': avg_reads,\n",
    "            'IO_Writes': avg_writes,\n",
    "            'Model_Size_KB': model_size_kb,\n",
    "            'Max_Count': max_count,\n",
    "            'Min_Count': min_count,\n",
    "            'Mean_Count': mean_count,\n",
    "            'Median_Count': median_count,\n",
    "            'Total_Samples': total_samples\n",
    "        }\n",
    "        \n",
    "        dataset_results_list.append(result_row)\n",
    "        all_results_list.append(result_row)\n",
    "        \n",
    "        # Clean up to free memory\n",
    "        if sample_size != max_size:  # Don't delete for max size as we might need it\n",
    "            del X_train_sample, y_train_sample, knn\n",
    "            gc.collect()\n",
    "    \n",
    "    # Save results for this dataset\n",
    "    print(f\"Saving results for {dataset_name}...\")\n",
    "    dataset_results = pd.DataFrame(dataset_results_list)\n",
    "    dataset_results.to_csv(f'../large_files/LearnedModels/contain/KNN/results/{dataset_name}_results.csv', index=False)\n",
    "    \n",
    "    # Clear memory before next dataset\n",
    "    del X_train, X_test_all, y_train, y_test_all, Rectangles, Y, rectanglesDensity\n",
    "    gc.collect()\n",
    "    \n",
    "# Save all results\n",
    "print(\"Saving combined results...\")\n",
    "all_results = pd.DataFrame(all_results_list)\n",
    "all_results.to_csv('../large_files/LearnedModels/contain/KNN/all_results.csv', index=False)\n",
    "\n",
    "print(\"All processing completed and results saved.\")\n",
    "monitor_memory()"
   ]
  }
 ],
 "metadata": {
  "kernelspec": {
   "display_name": "base",
   "language": "python",
   "name": "python3"
  },
  "language_info": {
   "codemirror_mode": {
    "name": "ipython",
    "version": 3
   },
   "file_extension": ".py",
   "mimetype": "text/x-python",
   "name": "python",
   "nbconvert_exporter": "python",
   "pygments_lexer": "ipython3",
   "version": "3.12.7"
  },
  "papermill": {
   "default_parameters": {},
   "duration": 9990.675048,
   "end_time": "2025-03-23T21:02:01.057429",
   "environment_variables": {},
   "exception": null,
   "input_path": "/home/adminlias/nadir/Spatial-Selectivity-Ext/contain_filter/K-neareastNeighborsRegressor.ipynb",
   "output_path": "/home/adminlias/nadir/Spatial-Selectivity-Ext/contain_filter/output_K-neareastNeighborsRegressor.ipynb",
   "parameters": {},
   "start_time": "2025-03-23T18:15:30.382381",
   "version": "2.6.0"
  },
  "widgets": {
   "application/vnd.jupyter.widget-state+json": {
    "state": {
     "158f00b8d0f04ac8a66ad45c737ea2df": {
      "model_module": "@jupyter-widgets/base",
      "model_module_version": "1.2.0",
      "model_name": "LayoutModel",
      "state": {
       "_model_module": "@jupyter-widgets/base",
       "_model_module_version": "1.2.0",
       "_model_name": "LayoutModel",
       "_view_count": null,
       "_view_module": "@jupyter-widgets/base",
       "_view_module_version": "1.2.0",
       "_view_name": "LayoutView",
       "align_content": null,
       "align_items": null,
       "align_self": null,
       "border": null,
       "bottom": null,
       "display": null,
       "flex": null,
       "flex_flow": null,
       "grid_area": null,
       "grid_auto_columns": null,
       "grid_auto_flow": null,
       "grid_auto_rows": null,
       "grid_column": null,
       "grid_gap": null,
       "grid_row": null,
       "grid_template_areas": null,
       "grid_template_columns": null,
       "grid_template_rows": null,
       "height": null,
       "justify_content": null,
       "justify_items": null,
       "left": null,
       "margin": null,
       "max_height": null,
       "max_width": null,
       "min_height": null,
       "min_width": null,
       "object_fit": null,
       "object_position": null,
       "order": null,
       "overflow": null,
       "overflow_x": null,
       "overflow_y": null,
       "padding": null,
       "right": null,
       "top": null,
       "visibility": null,
       "width": null
      }
     },
     "4bda063dca404096b64cb075d25b1a68": {
      "model_module": "@jupyter-widgets/base",
      "model_module_version": "1.2.0",
      "model_name": "LayoutModel",
      "state": {
       "_model_module": "@jupyter-widgets/base",
       "_model_module_version": "1.2.0",
       "_model_name": "LayoutModel",
       "_view_count": null,
       "_view_module": "@jupyter-widgets/base",
       "_view_module_version": "1.2.0",
       "_view_name": "LayoutView",
       "align_content": null,
       "align_items": null,
       "align_self": null,
       "border": null,
       "bottom": null,
       "display": null,
       "flex": null,
       "flex_flow": null,
       "grid_area": null,
       "grid_auto_columns": null,
       "grid_auto_flow": null,
       "grid_auto_rows": null,
       "grid_column": null,
       "grid_gap": null,
       "grid_row": null,
       "grid_template_areas": null,
       "grid_template_columns": null,
       "grid_template_rows": null,
       "height": null,
       "justify_content": null,
       "justify_items": null,
       "left": null,
       "margin": null,
       "max_height": null,
       "max_width": null,
       "min_height": null,
       "min_width": null,
       "object_fit": null,
       "object_position": null,
       "order": null,
       "overflow": null,
       "overflow_x": null,
       "overflow_y": null,
       "padding": null,
       "right": null,
       "top": null,
       "visibility": null,
       "width": null
      }
     },
     "560627bcf52f4b8ca2a24ce73a11e9ec": {
      "model_module": "@jupyter-widgets/base",
      "model_module_version": "1.2.0",
      "model_name": "LayoutModel",
      "state": {
       "_model_module": "@jupyter-widgets/base",
       "_model_module_version": "1.2.0",
       "_model_name": "LayoutModel",
       "_view_count": null,
       "_view_module": "@jupyter-widgets/base",
       "_view_module_version": "1.2.0",
       "_view_name": "LayoutView",
       "align_content": null,
       "align_items": null,
       "align_self": null,
       "border": null,
       "bottom": null,
       "display": null,
       "flex": null,
       "flex_flow": null,
       "grid_area": null,
       "grid_auto_columns": null,
       "grid_auto_flow": null,
       "grid_auto_rows": null,
       "grid_column": null,
       "grid_gap": null,
       "grid_row": null,
       "grid_template_areas": null,
       "grid_template_columns": null,
       "grid_template_rows": null,
       "height": null,
       "justify_content": null,
       "justify_items": null,
       "left": null,
       "margin": null,
       "max_height": null,
       "max_width": null,
       "min_height": null,
       "min_width": null,
       "object_fit": null,
       "object_position": null,
       "order": null,
       "overflow": null,
       "overflow_x": null,
       "overflow_y": null,
       "padding": null,
       "right": null,
       "top": null,
       "visibility": null,
       "width": null
      }
     },
     "618baff0afb94c03b8165efc8322dcb9": {
      "model_module": "@jupyter-widgets/controls",
      "model_module_version": "1.5.0",
      "model_name": "FloatProgressModel",
      "state": {
       "_dom_classes": [],
       "_model_module": "@jupyter-widgets/controls",
       "_model_module_version": "1.5.0",
       "_model_name": "FloatProgressModel",
       "_view_count": null,
       "_view_module": "@jupyter-widgets/controls",
       "_view_module_version": "1.5.0",
       "_view_name": "ProgressView",
       "bar_style": "success",
       "description": "",
       "description_tooltip": null,
       "layout": "IPY_MODEL_4bda063dca404096b64cb075d25b1a68",
       "max": 14.0,
       "min": 0.0,
       "orientation": "horizontal",
       "style": "IPY_MODEL_d243e4be5d5741dfbeffcac416d9dc28",
       "value": 14.0
      }
     },
     "9f0760e5a82c4e11b020737a8346ed52": {
      "model_module": "@jupyter-widgets/controls",
      "model_module_version": "1.5.0",
      "model_name": "HBoxModel",
      "state": {
       "_dom_classes": [],
       "_model_module": "@jupyter-widgets/controls",
       "_model_module_version": "1.5.0",
       "_model_name": "HBoxModel",
       "_view_count": null,
       "_view_module": "@jupyter-widgets/controls",
       "_view_module_version": "1.5.0",
       "_view_name": "HBoxView",
       "box_style": "",
       "children": [
        "IPY_MODEL_dc1663d72cb74a8d89e47f1e698ef213",
        "IPY_MODEL_618baff0afb94c03b8165efc8322dcb9",
        "IPY_MODEL_b73957eab6ea47abb136bb7b41875d97"
       ],
       "layout": "IPY_MODEL_560627bcf52f4b8ca2a24ce73a11e9ec"
      }
     },
     "ae7573e55cb24d248f8e2eef08612a6f": {
      "model_module": "@jupyter-widgets/base",
      "model_module_version": "1.2.0",
      "model_name": "LayoutModel",
      "state": {
       "_model_module": "@jupyter-widgets/base",
       "_model_module_version": "1.2.0",
       "_model_name": "LayoutModel",
       "_view_count": null,
       "_view_module": "@jupyter-widgets/base",
       "_view_module_version": "1.2.0",
       "_view_name": "LayoutView",
       "align_content": null,
       "align_items": null,
       "align_self": null,
       "border": null,
       "bottom": null,
       "display": null,
       "flex": null,
       "flex_flow": null,
       "grid_area": null,
       "grid_auto_columns": null,
       "grid_auto_flow": null,
       "grid_auto_rows": null,
       "grid_column": null,
       "grid_gap": null,
       "grid_row": null,
       "grid_template_areas": null,
       "grid_template_columns": null,
       "grid_template_rows": null,
       "height": null,
       "justify_content": null,
       "justify_items": null,
       "left": null,
       "margin": null,
       "max_height": null,
       "max_width": null,
       "min_height": null,
       "min_width": null,
       "object_fit": null,
       "object_position": null,
       "order": null,
       "overflow": null,
       "overflow_x": null,
       "overflow_y": null,
       "padding": null,
       "right": null,
       "top": null,
       "visibility": null,
       "width": null
      }
     },
     "b73957eab6ea47abb136bb7b41875d97": {
      "model_module": "@jupyter-widgets/controls",
      "model_module_version": "1.5.0",
      "model_name": "HTMLModel",
      "state": {
       "_dom_classes": [],
       "_model_module": "@jupyter-widgets/controls",
       "_model_module_version": "1.5.0",
       "_model_name": "HTMLModel",
       "_view_count": null,
       "_view_module": "@jupyter-widgets/controls",
       "_view_module_version": "1.5.0",
       "_view_name": "HTMLView",
       "description": "",
       "description_tooltip": null,
       "layout": "IPY_MODEL_ae7573e55cb24d248f8e2eef08612a6f",
       "placeholder": "​",
       "style": "IPY_MODEL_d9691647ccfc45cb8528f41197fcd0f5",
       "value": " 14/14 [2:46:28&lt;00:00, 300.25s/it]"
      }
     },
     "d243e4be5d5741dfbeffcac416d9dc28": {
      "model_module": "@jupyter-widgets/controls",
      "model_module_version": "1.5.0",
      "model_name": "ProgressStyleModel",
      "state": {
       "_model_module": "@jupyter-widgets/controls",
       "_model_module_version": "1.5.0",
       "_model_name": "ProgressStyleModel",
       "_view_count": null,
       "_view_module": "@jupyter-widgets/base",
       "_view_module_version": "1.2.0",
       "_view_name": "StyleView",
       "bar_color": null,
       "description_width": ""
      }
     },
     "d9691647ccfc45cb8528f41197fcd0f5": {
      "model_module": "@jupyter-widgets/controls",
      "model_module_version": "1.5.0",
      "model_name": "DescriptionStyleModel",
      "state": {
       "_model_module": "@jupyter-widgets/controls",
       "_model_module_version": "1.5.0",
       "_model_name": "DescriptionStyleModel",
       "_view_count": null,
       "_view_module": "@jupyter-widgets/base",
       "_view_module_version": "1.2.0",
       "_view_name": "StyleView",
       "description_width": ""
      }
     },
     "dc1663d72cb74a8d89e47f1e698ef213": {
      "model_module": "@jupyter-widgets/controls",
      "model_module_version": "1.5.0",
      "model_name": "HTMLModel",
      "state": {
       "_dom_classes": [],
       "_model_module": "@jupyter-widgets/controls",
       "_model_module_version": "1.5.0",
       "_model_name": "HTMLModel",
       "_view_count": null,
       "_view_module": "@jupyter-widgets/controls",
       "_view_module_version": "1.5.0",
       "_view_name": "HTMLView",
       "description": "",
       "description_tooltip": null,
       "layout": "IPY_MODEL_158f00b8d0f04ac8a66ad45c737ea2df",
       "placeholder": "​",
       "style": "IPY_MODEL_fe604056fe5e40ca9d07b9b03492f15f",
       "value": "Processing datasets: 100%"
      }
     },
     "fe604056fe5e40ca9d07b9b03492f15f": {
      "model_module": "@jupyter-widgets/controls",
      "model_module_version": "1.5.0",
      "model_name": "DescriptionStyleModel",
      "state": {
       "_model_module": "@jupyter-widgets/controls",
       "_model_module_version": "1.5.0",
       "_model_name": "DescriptionStyleModel",
       "_view_count": null,
       "_view_module": "@jupyter-widgets/base",
       "_view_module_version": "1.2.0",
       "_view_name": "StyleView",
       "description_width": ""
      }
     }
    },
    "version_major": 2,
    "version_minor": 0
   }
  }
 },
 "nbformat": 4,
 "nbformat_minor": 5
}