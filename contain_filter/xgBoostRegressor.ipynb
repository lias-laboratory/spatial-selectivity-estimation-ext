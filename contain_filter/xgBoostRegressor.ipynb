{
 "cells": [
  {
   "cell_type": "code",
   "execution_count": 1,
   "id": "ff9bdab1",
   "metadata": {
    "execution": {
     "iopub.execute_input": "2025-03-25T00:07:06.079745Z",
     "iopub.status.busy": "2025-03-25T00:07:06.079179Z",
     "iopub.status.idle": "2025-03-25T00:26:48.592002Z",
     "shell.execute_reply": "2025-03-25T00:26:48.591434Z"
    },
    "papermill": {
     "duration": 1182.527566,
     "end_time": "2025-03-25T00:26:48.598103",
     "exception": false,
     "start_time": "2025-03-25T00:07:06.070537",
     "status": "completed"
    },
    "tags": []
   },
   "outputs": [
    {
     "name": "stdout",
     "output_type": "stream",
     "text": [
      "Using 29 of 30 available CPU cores\n",
      "Loading spatial statistics...\n",
      "Finding dataset files...\n",
      "Found 14 datasets to process\n"
     ]
    },
    {
     "data": {
      "application/vnd.jupyter.widget-view+json": {
       "model_id": "ba500e4f17c74676aeb0e9c6280ff328",
       "version_major": 2,
       "version_minor": 0
      },
      "text/plain": [
       "Processing datasets:   0%|          | 0/14 [00:00<?, ?it/s]"
      ]
     },
     "metadata": {},
     "output_type": "display_data"
    },
    {
     "name": "stdout",
     "output_type": "stream",
     "text": [
      "Memory usage: 242.00 MB\n",
      "\n",
      "Processing dataset: craftwaysorted\n",
      "Universe boundaries for craftwaysorted: (-175.2000514, -65.2458821, 175.3397782, 69.6673353)\n",
      "Loading data from ../large_files/resultsContains/craftwaysorted_results.csv\n",
      "Parsing MBR coordinates...\n"
     ]
    },
    {
     "name": "stdout",
     "output_type": "stream",
     "text": [
      "\n",
      "Basic statistics for craftwaysorted dataset:\n",
      "Max count: 108929.0\n",
      "Min count: 0.0\n",
      "Mean count: 1705.23\n",
      "Median count: 0.00\n",
      "Total samples: 21822\n",
      "\n",
      "Calculating rectangle densities...\n",
      "Splitting data into train and test sets...\n",
      "Training set size: 17457\n",
      "\n",
      "Training with sample size: 17457\n",
      "Memory usage: 246.52 MB\n",
      "Performing grid search for optimal parameters...\n",
      "Fitting 3 folds for each of 27 candidates, totalling 81 fits\n"
     ]
    },
    {
     "name": "stdout",
     "output_type": "stream",
     "text": [
      "Grid search complete in 256.51s\n",
      "Best parameters: {'learning_rate': 0.1, 'max_depth': 7, 'n_estimators': 200}\n",
      "Training XGBoost model...\n"
     ]
    },
    {
     "name": "stdout",
     "output_type": "stream",
     "text": [
      "Making predictions...\n",
      "Calculating performance metrics...\n",
      "Measuring prediction performance...\n",
      "Saving model...\n",
      "Model size: 491.81 KB\n",
      "\n",
      "Results for craftwaysorted, Sample Size: 17457\n",
      "Grid Search Time: 256.51s, Training Time: 9.42s\n",
      "XGBoost Parameters: {'learning_rate': 0.1, 'max_depth': 7, 'n_estimators': 200}\n",
      "Performance: R² = 0.9936, MAE = 172.80, MAPE = 85.52%\n",
      "q-score: 3.01\n",
      "Prediction time: 16.0433 μs/sample\n",
      "I/O: Reads=0.000000, Writes=0.000000\n",
      "--------------------------------------------------------------------------------\n",
      "Generating prediction scatter plot...\n"
     ]
    },
    {
     "name": "stdout",
     "output_type": "stream",
     "text": [
      "Generating feature importance plot...\n",
      "Generating side-by-side comparison plot...\n"
     ]
    },
    {
     "name": "stdout",
     "output_type": "stream",
     "text": [
      "\n",
      "Training with sample size: 10000\n",
      "Memory usage: 285.35 MB\n",
      "Using best parameters from max scale: {'learning_rate': 0.1, 'max_depth': 7, 'n_estimators': 200}\n",
      "Training XGBoost model...\n"
     ]
    },
    {
     "name": "stdout",
     "output_type": "stream",
     "text": [
      "Making predictions...\n",
      "Calculating performance metrics...\n",
      "Measuring prediction performance...\n",
      "Saving model...\n",
      "Model size: 467.76 KB\n",
      "\n",
      "Results for craftwaysorted, Sample Size: 10000\n",
      "Grid Search Time: 0.00s, Training Time: 8.98s\n",
      "XGBoost Parameters: {'learning_rate': 0.1, 'max_depth': 7, 'n_estimators': 200}\n",
      "Performance: R² = 0.9908, MAE = 213.69, MAPE = 132.30%\n",
      "q-score: 4.35\n",
      "Prediction time: 13.5868 μs/sample\n",
      "I/O: Reads=0.000000, Writes=0.000000\n",
      "--------------------------------------------------------------------------------\n",
      "\n",
      "Training with sample size: 5000\n",
      "Memory usage: 288.18 MB\n",
      "Using best parameters from max scale: {'learning_rate': 0.1, 'max_depth': 7, 'n_estimators': 200}\n",
      "Training XGBoost model...\n"
     ]
    },
    {
     "name": "stdout",
     "output_type": "stream",
     "text": [
      "Making predictions...\n",
      "Calculating performance metrics...\n",
      "Measuring prediction performance...\n",
      "Saving model...\n",
      "Model size: 419.09 KB\n",
      "\n",
      "Results for craftwaysorted, Sample Size: 5000\n",
      "Grid Search Time: 0.00s, Training Time: 7.58s\n",
      "XGBoost Parameters: {'learning_rate': 0.1, 'max_depth': 7, 'n_estimators': 200}\n",
      "Performance: R² = 0.9703, MAE = 319.68, MAPE = 149.43%\n",
      "q-score: 6.82\n",
      "Prediction time: 19.8709 μs/sample\n",
      "I/O: Reads=0.000000, Writes=0.000000\n",
      "--------------------------------------------------------------------------------\n",
      "\n",
      "Training with sample size: 1000\n",
      "Memory usage: 288.18 MB\n",
      "Using best parameters from max scale: {'learning_rate': 0.1, 'max_depth': 7, 'n_estimators': 200}\n",
      "Training XGBoost model...\n"
     ]
    },
    {
     "name": "stdout",
     "output_type": "stream",
     "text": [
      "Making predictions...\n",
      "Calculating performance metrics...\n",
      "Measuring prediction performance...\n",
      "Saving model...\n",
      "Model size: 282.61 KB\n",
      "\n",
      "Results for craftwaysorted, Sample Size: 1000\n",
      "Grid Search Time: 0.00s, Training Time: 6.55s\n",
      "XGBoost Parameters: {'learning_rate': 0.1, 'max_depth': 7, 'n_estimators': 200}\n",
      "Performance: R² = 0.6298, MAE = 1091.69, MAPE = 366.91%\n",
      "q-score: 9.03\n",
      "Prediction time: 21.7203 μs/sample\n",
      "I/O: Reads=0.000000, Writes=0.001214\n",
      "--------------------------------------------------------------------------------\n",
      "Saving results for craftwaysorted...\n"
     ]
    },
    {
     "name": "stdout",
     "output_type": "stream",
     "text": [
      "Memory usage: 288.18 MB\n",
      "\n",
      "Processing dataset: powerthingwaysorted\n",
      "Universe boundaries for powerthingwaysorted: (-179.5002188, -75.1012051, 178.4574038, 82.5247908)\n",
      "Loading data from ../large_files/resultsContains/powerthingwaysorted_results.csv\n"
     ]
    },
    {
     "name": "stdout",
     "output_type": "stream",
     "text": [
      "Parsing MBR coordinates...\n"
     ]
    },
    {
     "name": "stdout",
     "output_type": "stream",
     "text": [
      "\n",
      "Basic statistics for powerthingwaysorted dataset:\n",
      "Max count: 13586342.0\n",
      "Min count: 0.0\n",
      "Mean count: 236375.56\n",
      "Median count: 147.00\n",
      "Total samples: 2717289\n",
      "\n",
      "Calculating rectangle densities...\n",
      "Splitting data into train and test sets...\n"
     ]
    },
    {
     "name": "stdout",
     "output_type": "stream",
     "text": [
      "Training set size: 2173831\n",
      "\n",
      "Training with sample size: 2173831\n",
      "Memory usage: 582.72 MB\n",
      "Performing grid search for optimal parameters...\n",
      "Fitting 3 folds for each of 27 candidates, totalling 81 fits\n"
     ]
    },
    {
     "name": "stdout",
     "output_type": "stream",
     "text": [
      "Grid search complete in 3572.74s\n",
      "Best parameters: {'learning_rate': 0.1, 'max_depth': 7, 'n_estimators': 200}\n",
      "Training XGBoost model...\n"
     ]
    },
    {
     "name": "stdout",
     "output_type": "stream",
     "text": [
      "Making predictions...\n"
     ]
    },
    {
     "name": "stdout",
     "output_type": "stream",
     "text": [
      "Calculating performance metrics...\n",
      "Measuring prediction performance...\n"
     ]
    },
    {
     "name": "stdout",
     "output_type": "stream",
     "text": [
      "Saving model...\n",
      "Model size: 602.13 KB\n",
      "\n",
      "Results for powerthingwaysorted, Sample Size: 2173831\n",
      "Grid Search Time: 3572.74s, Training Time: 111.49s\n",
      "XGBoost Parameters: {'learning_rate': 0.1, 'max_depth': 7, 'n_estimators': 200}\n",
      "Performance: R² = 0.9990, MAE = 12570.01, MAPE = 2265.17%\n",
      "q-score: 35.71\n",
      "Prediction time: 8.8809 μs/sample\n",
      "I/O: Reads=0.000000, Writes=0.000000\n",
      "--------------------------------------------------------------------------------\n",
      "Generating prediction scatter plot...\n"
     ]
    },
    {
     "name": "stdout",
     "output_type": "stream",
     "text": [
      "Generating feature importance plot...\n",
      "Generating side-by-side comparison plot...\n"
     ]
    },
    {
     "name": "stdout",
     "output_type": "stream",
     "text": [
      "\n",
      "Training with sample size: 2000000\n",
      "Memory usage: 690.17 MB\n",
      "Using best parameters from max scale: {'learning_rate': 0.1, 'max_depth': 7, 'n_estimators': 200}\n",
      "Training XGBoost model...\n"
     ]
    },
    {
     "name": "stdout",
     "output_type": "stream",
     "text": [
      "Making predictions...\n"
     ]
    },
    {
     "name": "stdout",
     "output_type": "stream",
     "text": [
      "Calculating performance metrics...\n",
      "Measuring prediction performance...\n"
     ]
    },
    {
     "name": "stdout",
     "output_type": "stream",
     "text": [
      "Saving model...\n",
      "Model size: 603.91 KB\n",
      "\n",
      "Results for powerthingwaysorted, Sample Size: 2000000\n",
      "Grid Search Time: 0.00s, Training Time: 101.41s\n",
      "XGBoost Parameters: {'learning_rate': 0.1, 'max_depth': 7, 'n_estimators': 200}\n",
      "Performance: R² = 0.9990, MAE = 12548.12, MAPE = 2147.40%\n",
      "q-score: 33.13\n",
      "Prediction time: 8.5104 μs/sample\n",
      "I/O: Reads=0.000000, Writes=0.000000\n",
      "--------------------------------------------------------------------------------\n",
      "\n",
      "Training with sample size: 1000000\n",
      "Memory usage: 690.17 MB\n",
      "Using best parameters from max scale: {'learning_rate': 0.1, 'max_depth': 7, 'n_estimators': 200}\n",
      "Training XGBoost model...\n"
     ]
    },
    {
     "name": "stdout",
     "output_type": "stream",
     "text": [
      "Making predictions...\n"
     ]
    },
    {
     "name": "stdout",
     "output_type": "stream",
     "text": [
      "Calculating performance metrics...\n",
      "Measuring prediction performance...\n"
     ]
    },
    {
     "name": "stdout",
     "output_type": "stream",
     "text": [
      "Saving model...\n",
      "Model size: 598.91 KB\n",
      "\n",
      "Results for powerthingwaysorted, Sample Size: 1000000\n",
      "Grid Search Time: 0.00s, Training Time: 51.84s\n",
      "XGBoost Parameters: {'learning_rate': 0.1, 'max_depth': 7, 'n_estimators': 200}\n",
      "Performance: R² = 0.9989, MAE = 13138.61, MAPE = 2292.69%\n",
      "q-score: 34.88\n",
      "Prediction time: 8.4988 μs/sample\n",
      "I/O: Reads=0.000000, Writes=0.000000\n",
      "--------------------------------------------------------------------------------\n",
      "\n",
      "Training with sample size: 500000\n",
      "Memory usage: 690.17 MB\n",
      "Using best parameters from max scale: {'learning_rate': 0.1, 'max_depth': 7, 'n_estimators': 200}\n",
      "Training XGBoost model...\n"
     ]
    },
    {
     "name": "stdout",
     "output_type": "stream",
     "text": [
      "Making predictions...\n"
     ]
    },
    {
     "name": "stdout",
     "output_type": "stream",
     "text": [
      "Calculating performance metrics...\n",
      "Measuring prediction performance...\n"
     ]
    },
    {
     "name": "stdout",
     "output_type": "stream",
     "text": [
      "Saving model...\n",
      "Model size: 595.22 KB\n",
      "\n",
      "Results for powerthingwaysorted, Sample Size: 500000\n",
      "Grid Search Time: 0.00s, Training Time: 29.89s\n",
      "XGBoost Parameters: {'learning_rate': 0.1, 'max_depth': 7, 'n_estimators': 200}\n",
      "Performance: R² = 0.9987, MAE = 13885.09, MAPE = 2537.14%\n",
      "q-score: 39.20\n",
      "Prediction time: 8.4941 μs/sample\n",
      "I/O: Reads=0.000000, Writes=0.000000\n",
      "--------------------------------------------------------------------------------\n",
      "\n",
      "Training with sample size: 100000\n",
      "Memory usage: 690.17 MB\n",
      "Using best parameters from max scale: {'learning_rate': 0.1, 'max_depth': 7, 'n_estimators': 200}\n",
      "Training XGBoost model...\n"
     ]
    },
    {
     "name": "stdout",
     "output_type": "stream",
     "text": [
      "Making predictions...\n"
     ]
    },
    {
     "name": "stdout",
     "output_type": "stream",
     "text": [
      "Calculating performance metrics...\n",
      "Measuring prediction performance...\n"
     ]
    },
    {
     "name": "stdout",
     "output_type": "stream",
     "text": [
      "Saving model...\n",
      "Model size: 573.82 KB\n",
      "\n",
      "Results for powerthingwaysorted, Sample Size: 100000\n",
      "Grid Search Time: 0.00s, Training Time: 13.99s\n",
      "XGBoost Parameters: {'learning_rate': 0.1, 'max_depth': 7, 'n_estimators': 200}\n",
      "Performance: R² = 0.9981, MAE = 16225.21, MAPE = 2675.74%\n",
      "q-score: 43.43\n",
      "Prediction time: 8.4166 μs/sample\n",
      "I/O: Reads=0.000000, Writes=0.000000\n",
      "--------------------------------------------------------------------------------\n",
      "\n",
      "Training with sample size: 50000\n",
      "Memory usage: 690.17 MB\n",
      "Using best parameters from max scale: {'learning_rate': 0.1, 'max_depth': 7, 'n_estimators': 200}\n",
      "Training XGBoost model...\n"
     ]
    },
    {
     "name": "stdout",
     "output_type": "stream",
     "text": [
      "Making predictions...\n"
     ]
    },
    {
     "name": "stdout",
     "output_type": "stream",
     "text": [
      "Calculating performance metrics...\n",
      "Measuring prediction performance...\n"
     ]
    },
    {
     "name": "stdout",
     "output_type": "stream",
     "text": [
      "Saving model...\n",
      "Model size: 546.69 KB\n",
      "\n",
      "Results for powerthingwaysorted, Sample Size: 50000\n",
      "Grid Search Time: 0.00s, Training Time: 11.51s\n",
      "XGBoost Parameters: {'learning_rate': 0.1, 'max_depth': 7, 'n_estimators': 200}\n",
      "Performance: R² = 0.9969, MAE = 19297.65, MAPE = 2920.01%\n",
      "q-score: 44.60\n",
      "Prediction time: 8.3798 μs/sample\n",
      "I/O: Reads=0.000000, Writes=0.000000\n",
      "--------------------------------------------------------------------------------\n",
      "\n",
      "Training with sample size: 10000\n",
      "Memory usage: 690.17 MB\n",
      "Using best parameters from max scale: {'learning_rate': 0.1, 'max_depth': 7, 'n_estimators': 200}\n",
      "Training XGBoost model...\n"
     ]
    },
    {
     "name": "stdout",
     "output_type": "stream",
     "text": [
      "Making predictions...\n"
     ]
    },
    {
     "name": "stdout",
     "output_type": "stream",
     "text": [
      "Calculating performance metrics...\n",
      "Measuring prediction performance...\n"
     ]
    },
    {
     "name": "stdout",
     "output_type": "stream",
     "text": [
      "Saving model...\n",
      "Model size: 475.23 KB\n",
      "\n",
      "Results for powerthingwaysorted, Sample Size: 10000\n",
      "Grid Search Time: 0.00s, Training Time: 8.60s\n",
      "XGBoost Parameters: {'learning_rate': 0.1, 'max_depth': 7, 'n_estimators': 200}\n",
      "Performance: R² = 0.9819, MAE = 38215.06, MAPE = 4595.56%\n",
      "q-score: 69.01\n",
      "Prediction time: 8.4213 μs/sample\n",
      "I/O: Reads=0.000000, Writes=0.000000\n",
      "--------------------------------------------------------------------------------\n",
      "\n",
      "Training with sample size: 5000\n",
      "Memory usage: 690.17 MB\n",
      "Using best parameters from max scale: {'learning_rate': 0.1, 'max_depth': 7, 'n_estimators': 200}\n",
      "Training XGBoost model...\n"
     ]
    },
    {
     "name": "stdout",
     "output_type": "stream",
     "text": [
      "Making predictions...\n"
     ]
    },
    {
     "name": "stdout",
     "output_type": "stream",
     "text": [
      "Calculating performance metrics...\n",
      "Measuring prediction performance...\n"
     ]
    },
    {
     "name": "stdout",
     "output_type": "stream",
     "text": [
      "Saving model...\n",
      "Model size: 433.71 KB\n",
      "\n",
      "Results for powerthingwaysorted, Sample Size: 5000\n",
      "Grid Search Time: 0.00s, Training Time: 8.30s\n",
      "XGBoost Parameters: {'learning_rate': 0.1, 'max_depth': 7, 'n_estimators': 200}\n",
      "Performance: R² = 0.9641, MAE = 53819.92, MAPE = 6689.71%\n",
      "q-score: 101.75\n",
      "Prediction time: 8.4237 μs/sample\n",
      "I/O: Reads=0.000000, Writes=0.000000\n",
      "--------------------------------------------------------------------------------\n",
      "\n",
      "Training with sample size: 1000\n",
      "Memory usage: 690.17 MB\n",
      "Using best parameters from max scale: {'learning_rate': 0.1, 'max_depth': 7, 'n_estimators': 200}\n",
      "Training XGBoost model...\n"
     ]
    },
    {
     "name": "stdout",
     "output_type": "stream",
     "text": [
      "Making predictions...\n"
     ]
    },
    {
     "name": "stdout",
     "output_type": "stream",
     "text": [
      "Calculating performance metrics...\n",
      "Measuring prediction performance...\n"
     ]
    },
    {
     "name": "stdout",
     "output_type": "stream",
     "text": [
      "Saving model...\n",
      "Model size: 281.16 KB\n",
      "\n",
      "Results for powerthingwaysorted, Sample Size: 1000\n",
      "Grid Search Time: 0.00s, Training Time: 6.60s\n",
      "XGBoost Parameters: {'learning_rate': 0.1, 'max_depth': 7, 'n_estimators': 200}\n",
      "Performance: R² = 0.8039, MAE = 125239.28, MAPE = 20947.45%\n",
      "q-score: 307.73\n",
      "Prediction time: 8.0968 μs/sample\n",
      "I/O: Reads=0.000000, Writes=0.000001\n",
      "--------------------------------------------------------------------------------\n",
      "Saving results for powerthingwaysorted...\n"
     ]
    },
    {
     "name": "stdout",
     "output_type": "stream",
     "text": [
      "Memory usage: 623.88 MB\n",
      "\n",
      "Processing dataset: barrierthingwaysorted\n",
      "Universe boundaries for barrierthingwaysorted: (-179.7595238, -70.776382, 179.19591350000002, 78.2501675)\n",
      "Loading data from ../large_files/resultsContains/barrierthingwaysorted_results.csv\n"
     ]
    },
    {
     "name": "stdout",
     "output_type": "stream",
     "text": [
      "Parsing MBR coordinates...\n"
     ]
    },
    {
     "name": "stdout",
     "output_type": "stream",
     "text": [
      "\n",
      "Basic statistics for barrierthingwaysorted dataset:\n",
      "Max count: 22908267.0\n",
      "Min count: 0.0\n",
      "Mean count: 399928.77\n",
      "Median count: 329.00\n",
      "Total samples: 4581670\n",
      "\n",
      "Calculating rectangle densities...\n",
      "Splitting data into train and test sets...\n"
     ]
    },
    {
     "name": "stdout",
     "output_type": "stream",
     "text": [
      "Training set size: 3665336\n",
      "\n",
      "Training with sample size: 3665336\n",
      "Memory usage: 858.56 MB\n",
      "Performing grid search for optimal parameters...\n",
      "Fitting 3 folds for each of 27 candidates, totalling 81 fits\n"
     ]
    },
    {
     "name": "stdout",
     "output_type": "stream",
     "text": [
      "Grid search complete in 5920.20s\n",
      "Best parameters: {'learning_rate': 0.3, 'max_depth': 7, 'n_estimators': 200}\n",
      "Training XGBoost model...\n"
     ]
    },
    {
     "name": "stdout",
     "output_type": "stream",
     "text": [
      "Making predictions...\n"
     ]
    },
    {
     "name": "stdout",
     "output_type": "stream",
     "text": [
      "Calculating performance metrics...\n",
      "Measuring prediction performance...\n"
     ]
    },
    {
     "name": "stdout",
     "output_type": "stream",
     "text": [
      "Saving model...\n",
      "Model size: 550.45 KB\n",
      "\n",
      "Results for barrierthingwaysorted, Sample Size: 3665336\n",
      "Grid Search Time: 5920.20s, Training Time: 166.65s\n",
      "XGBoost Parameters: {'learning_rate': 0.3, 'max_depth': 7, 'n_estimators': 200}\n",
      "Performance: R² = 0.9992, MAE = 16910.69, MAPE = 1444.94%\n",
      "q-score: 18.74\n",
      "Prediction time: 6.1835 μs/sample\n",
      "I/O: Reads=0.000000, Writes=0.000000\n",
      "--------------------------------------------------------------------------------\n",
      "Generating prediction scatter plot...\n"
     ]
    },
    {
     "name": "stdout",
     "output_type": "stream",
     "text": [
      "Generating feature importance plot...\n",
      "Generating side-by-side comparison plot...\n"
     ]
    },
    {
     "name": "stdout",
     "output_type": "stream",
     "text": [
      "\n",
      "Training with sample size: 3000000\n",
      "Memory usage: 924.05 MB\n",
      "Using best parameters from max scale: {'learning_rate': 0.3, 'max_depth': 7, 'n_estimators': 200}\n",
      "Training XGBoost model...\n"
     ]
    },
    {
     "name": "stdout",
     "output_type": "stream",
     "text": [
      "Making predictions...\n"
     ]
    },
    {
     "name": "stdout",
     "output_type": "stream",
     "text": [
      "Calculating performance metrics...\n",
      "Measuring prediction performance...\n"
     ]
    },
    {
     "name": "stdout",
     "output_type": "stream",
     "text": [
      "Saving model...\n",
      "Model size: 346.89 KB\n",
      "\n",
      "Results for barrierthingwaysorted, Sample Size: 3000000\n",
      "Grid Search Time: 0.00s, Training Time: 90.98s\n",
      "XGBoost Parameters: {'learning_rate': 0.3, 'max_depth': 7, 'n_estimators': 200}\n",
      "Performance: R² = 0.9990, MAE = 20047.60, MAPE = 1834.11%\n",
      "q-score: 24.19\n",
      "Prediction time: 3.2818 μs/sample\n",
      "I/O: Reads=0.000000, Writes=0.000000\n",
      "--------------------------------------------------------------------------------\n",
      "\n",
      "Training with sample size: 2000000\n",
      "Memory usage: 911.03 MB\n",
      "Using best parameters from max scale: {'learning_rate': 0.3, 'max_depth': 7, 'n_estimators': 200}\n",
      "Training XGBoost model...\n"
     ]
    },
    {
     "name": "stdout",
     "output_type": "stream",
     "text": [
      "Making predictions...\n",
      "Calculating performance metrics...\n"
     ]
    },
    {
     "name": "stdout",
     "output_type": "stream",
     "text": [
      "Measuring prediction performance...\n"
     ]
    },
    {
     "name": "stdout",
     "output_type": "stream",
     "text": [
      "Saving model...\n",
      "Model size: 216.69 KB\n",
      "\n",
      "Results for barrierthingwaysorted, Sample Size: 2000000\n",
      "Grid Search Time: 0.00s, Training Time: 41.40s\n",
      "XGBoost Parameters: {'learning_rate': 0.3, 'max_depth': 7, 'n_estimators': 200}\n",
      "Performance: R² = 0.9987, MAE = 23919.85, MAPE = 2238.64%\n",
      "q-score: 29.25\n",
      "Prediction time: 2.4978 μs/sample\n",
      "I/O: Reads=0.000000, Writes=0.000000\n",
      "--------------------------------------------------------------------------------\n",
      "\n",
      "Training with sample size: 1000000\n",
      "Memory usage: 921.29 MB\n",
      "Using best parameters from max scale: {'learning_rate': 0.3, 'max_depth': 7, 'n_estimators': 200}\n",
      "Training XGBoost model...\n"
     ]
    },
    {
     "name": "stdout",
     "output_type": "stream",
     "text": [
      "Making predictions...\n"
     ]
    },
    {
     "name": "stdout",
     "output_type": "stream",
     "text": [
      "Calculating performance metrics...\n",
      "Measuring prediction performance...\n"
     ]
    },
    {
     "name": "stdout",
     "output_type": "stream",
     "text": [
      "Saving model...\n",
      "Model size: 598.23 KB\n",
      "\n",
      "Results for barrierthingwaysorted, Sample Size: 1000000\n",
      "Grid Search Time: 0.00s, Training Time: 50.04s\n",
      "XGBoost Parameters: {'learning_rate': 0.3, 'max_depth': 7, 'n_estimators': 200}\n",
      "Performance: R² = 0.9992, MAE = 17231.17, MAPE = 1408.53%\n",
      "q-score: 19.02\n",
      "Prediction time: 8.3579 μs/sample\n",
      "I/O: Reads=0.000000, Writes=0.000002\n",
      "--------------------------------------------------------------------------------\n",
      "\n",
      "Training with sample size: 500000\n",
      "Memory usage: 929.27 MB\n",
      "Using best parameters from max scale: {'learning_rate': 0.3, 'max_depth': 7, 'n_estimators': 200}\n",
      "Training XGBoost model...\n"
     ]
    },
    {
     "name": "stdout",
     "output_type": "stream",
     "text": [
      "Making predictions...\n"
     ]
    },
    {
     "name": "stdout",
     "output_type": "stream",
     "text": [
      "Calculating performance metrics...\n",
      "Measuring prediction performance...\n"
     ]
    },
    {
     "name": "stdout",
     "output_type": "stream",
     "text": [
      "Saving model...\n",
      "Model size: 585.34 KB\n",
      "\n",
      "Results for barrierthingwaysorted, Sample Size: 500000\n",
      "Grid Search Time: 0.00s, Training Time: 28.40s\n",
      "XGBoost Parameters: {'learning_rate': 0.3, 'max_depth': 7, 'n_estimators': 200}\n",
      "Performance: R² = 0.9990, MAE = 18689.36, MAPE = 1478.83%\n",
      "q-score: 20.13\n",
      "Prediction time: 8.3702 μs/sample\n",
      "I/O: Reads=0.000000, Writes=0.000002\n",
      "--------------------------------------------------------------------------------\n",
      "\n",
      "Training with sample size: 100000\n",
      "Memory usage: 929.27 MB\n",
      "Using best parameters from max scale: {'learning_rate': 0.3, 'max_depth': 7, 'n_estimators': 200}\n",
      "Training XGBoost model...\n"
     ]
    },
    {
     "name": "stdout",
     "output_type": "stream",
     "text": [
      "Making predictions...\n"
     ]
    },
    {
     "name": "stdout",
     "output_type": "stream",
     "text": [
      "Calculating performance metrics...\n",
      "Measuring prediction performance...\n"
     ]
    },
    {
     "name": "stdout",
     "output_type": "stream",
     "text": [
      "Saving model...\n",
      "Model size: 549.41 KB\n",
      "\n",
      "Results for barrierthingwaysorted, Sample Size: 100000\n",
      "Grid Search Time: 0.00s, Training Time: 13.19s\n",
      "XGBoost Parameters: {'learning_rate': 0.3, 'max_depth': 7, 'n_estimators': 200}\n",
      "Performance: R² = 0.9979, MAE = 24991.31, MAPE = 1793.26%\n",
      "q-score: 24.01\n",
      "Prediction time: 8.2265 μs/sample\n",
      "I/O: Reads=0.000000, Writes=0.000000\n",
      "--------------------------------------------------------------------------------\n",
      "\n",
      "Training with sample size: 50000\n",
      "Memory usage: 929.27 MB\n",
      "Using best parameters from max scale: {'learning_rate': 0.3, 'max_depth': 7, 'n_estimators': 200}\n",
      "Training XGBoost model...\n"
     ]
    },
    {
     "name": "stdout",
     "output_type": "stream",
     "text": [
      "Making predictions...\n"
     ]
    },
    {
     "name": "stdout",
     "output_type": "stream",
     "text": [
      "Calculating performance metrics...\n",
      "Measuring prediction performance...\n"
     ]
    },
    {
     "name": "stdout",
     "output_type": "stream",
     "text": [
      "Saving model...\n",
      "Model size: 529.50 KB\n",
      "\n",
      "Results for barrierthingwaysorted, Sample Size: 50000\n",
      "Grid Search Time: 0.00s, Training Time: 11.77s\n",
      "XGBoost Parameters: {'learning_rate': 0.3, 'max_depth': 7, 'n_estimators': 200}\n",
      "Performance: R² = 0.9970, MAE = 29318.50, MAPE = 1995.26%\n",
      "q-score: 26.73\n",
      "Prediction time: 8.3155 μs/sample\n",
      "I/O: Reads=0.000000, Writes=0.000001\n",
      "--------------------------------------------------------------------------------\n",
      "\n",
      "Training with sample size: 10000\n",
      "Memory usage: 929.27 MB\n",
      "Using best parameters from max scale: {'learning_rate': 0.3, 'max_depth': 7, 'n_estimators': 200}\n",
      "Training XGBoost model...\n"
     ]
    },
    {
     "name": "stdout",
     "output_type": "stream",
     "text": [
      "Making predictions...\n"
     ]
    },
    {
     "name": "stdout",
     "output_type": "stream",
     "text": [
      "Calculating performance metrics...\n",
      "Measuring prediction performance...\n"
     ]
    },
    {
     "name": "stdout",
     "output_type": "stream",
     "text": [
      "Saving model...\n",
      "Model size: 466.41 KB\n",
      "\n",
      "Results for barrierthingwaysorted, Sample Size: 10000\n",
      "Grid Search Time: 0.00s, Training Time: 9.38s\n",
      "XGBoost Parameters: {'learning_rate': 0.3, 'max_depth': 7, 'n_estimators': 200}\n",
      "Performance: R² = 0.9861, MAE = 56654.19, MAPE = 3756.01%\n",
      "q-score: 49.70\n",
      "Prediction time: 8.4301 μs/sample\n",
      "I/O: Reads=0.000000, Writes=0.000001\n",
      "--------------------------------------------------------------------------------\n",
      "\n",
      "Training with sample size: 5000\n",
      "Memory usage: 929.27 MB\n",
      "Using best parameters from max scale: {'learning_rate': 0.3, 'max_depth': 7, 'n_estimators': 200}\n",
      "Training XGBoost model...\n"
     ]
    },
    {
     "name": "stdout",
     "output_type": "stream",
     "text": [
      "Making predictions...\n"
     ]
    },
    {
     "name": "stdout",
     "output_type": "stream",
     "text": [
      "Calculating performance metrics...\n",
      "Measuring prediction performance...\n"
     ]
    },
    {
     "name": "stdout",
     "output_type": "stream",
     "text": [
      "Saving model...\n",
      "Model size: 414.17 KB\n",
      "\n",
      "Results for barrierthingwaysorted, Sample Size: 5000\n",
      "Grid Search Time: 0.00s, Training Time: 8.66s\n",
      "XGBoost Parameters: {'learning_rate': 0.3, 'max_depth': 7, 'n_estimators': 200}\n",
      "Performance: R² = 0.9576, MAE = 83580.81, MAPE = 5894.48%\n",
      "q-score: 80.59\n",
      "Prediction time: 8.3272 μs/sample\n",
      "I/O: Reads=0.000000, Writes=0.000000\n",
      "--------------------------------------------------------------------------------\n",
      "\n",
      "Training with sample size: 1000\n",
      "Memory usage: 929.27 MB\n",
      "Using best parameters from max scale: {'learning_rate': 0.3, 'max_depth': 7, 'n_estimators': 200}\n",
      "Training XGBoost model...\n"
     ]
    },
    {
     "name": "stdout",
     "output_type": "stream",
     "text": [
      "Making predictions...\n"
     ]
    },
    {
     "name": "stdout",
     "output_type": "stream",
     "text": [
      "Calculating performance metrics...\n",
      "Measuring prediction performance...\n"
     ]
    },
    {
     "name": "stdout",
     "output_type": "stream",
     "text": [
      "Saving model...\n",
      "Model size: 274.83 KB\n",
      "\n",
      "Results for barrierthingwaysorted, Sample Size: 1000\n",
      "Grid Search Time: 0.00s, Training Time: 6.00s\n",
      "XGBoost Parameters: {'learning_rate': 0.3, 'max_depth': 7, 'n_estimators': 200}\n",
      "Performance: R² = 0.5367, MAE = 293267.94, MAPE = 42630.15%\n",
      "q-score: 506.70\n",
      "Prediction time: 8.4370 μs/sample\n",
      "I/O: Reads=0.000000, Writes=0.000000\n",
      "--------------------------------------------------------------------------------\n",
      "Saving results for barrierthingwaysorted...\n",
      "Memory usage: 754.65 MB\n",
      "\n",
      "Processing dataset: cyclewaythingwaysorted\n",
      "Universe boundaries for cyclewaythingwaysorted: (-175.2093065, -75.1027861, 176.92582230000002, 71.0488105)\n",
      "Loading data from ../large_files/resultsContains/cyclewaythingwaysorted_results.csv\n"
     ]
    },
    {
     "name": "stdout",
     "output_type": "stream",
     "text": [
      "Parsing MBR coordinates...\n"
     ]
    },
    {
     "name": "stdout",
     "output_type": "stream",
     "text": [
      "\n",
      "Basic statistics for cyclewaythingwaysorted dataset:\n",
      "Max count: 5334899.0\n",
      "Min count: 0.0\n",
      "Mean count: 76781.20\n",
      "Median count: 0.00\n",
      "Total samples: 1067063\n",
      "\n",
      "Calculating rectangle densities...\n",
      "Splitting data into train and test sets...\n",
      "Training set size: 853650\n",
      "\n",
      "Training with sample size: 853650\n",
      "Memory usage: 649.41 MB\n",
      "Performing grid search for optimal parameters...\n",
      "Fitting 3 folds for each of 27 candidates, totalling 81 fits\n"
     ]
    },
    {
     "name": "stdout",
     "output_type": "stream",
     "text": [
      "Grid search complete in 1481.86s\n",
      "Best parameters: {'learning_rate': 0.1, 'max_depth': 7, 'n_estimators': 200}\n",
      "Training XGBoost model...\n"
     ]
    },
    {
     "name": "stdout",
     "output_type": "stream",
     "text": [
      "Making predictions...\n",
      "Calculating performance metrics...\n",
      "Measuring prediction performance...\n"
     ]
    },
    {
     "name": "stdout",
     "output_type": "stream",
     "text": [
      "Saving model...\n",
      "Model size: 545.18 KB\n",
      "\n",
      "Results for cyclewaythingwaysorted, Sample Size: 853650\n",
      "Grid Search Time: 1481.86s, Training Time: 43.58s\n",
      "XGBoost Parameters: {'learning_rate': 0.1, 'max_depth': 7, 'n_estimators': 200}\n",
      "Performance: R² = 0.9988, MAE = 4312.61, MAPE = 956.34%\n",
      "q-score: 19.42\n",
      "Prediction time: 7.4195 μs/sample\n",
      "I/O: Reads=0.000000, Writes=0.000000\n",
      "--------------------------------------------------------------------------------\n",
      "Generating prediction scatter plot...\n"
     ]
    },
    {
     "name": "stdout",
     "output_type": "stream",
     "text": [
      "Generating feature importance plot...\n",
      "Generating side-by-side comparison plot...\n"
     ]
    },
    {
     "name": "stdout",
     "output_type": "stream",
     "text": [
      "\n",
      "Training with sample size: 500000\n",
      "Memory usage: 610.41 MB\n",
      "Using best parameters from max scale: {'learning_rate': 0.1, 'max_depth': 7, 'n_estimators': 200}\n",
      "Training XGBoost model...\n"
     ]
    },
    {
     "name": "stdout",
     "output_type": "stream",
     "text": [
      "Making predictions...\n",
      "Calculating performance metrics...\n",
      "Measuring prediction performance...\n"
     ]
    },
    {
     "name": "stdout",
     "output_type": "stream",
     "text": [
      "Saving model...\n",
      "Model size: 581.78 KB\n",
      "\n",
      "Results for cyclewaythingwaysorted, Sample Size: 500000\n",
      "Grid Search Time: 0.00s, Training Time: 28.79s\n",
      "XGBoost Parameters: {'learning_rate': 0.1, 'max_depth': 7, 'n_estimators': 200}\n",
      "Performance: R² = 0.9988, MAE = 4360.30, MAPE = 985.83%\n",
      "q-score: 18.45\n",
      "Prediction time: 8.4627 μs/sample\n",
      "I/O: Reads=0.000000, Writes=0.000000\n",
      "--------------------------------------------------------------------------------\n",
      "\n",
      "Training with sample size: 100000\n",
      "Memory usage: 610.41 MB\n",
      "Using best parameters from max scale: {'learning_rate': 0.1, 'max_depth': 7, 'n_estimators': 200}\n",
      "Training XGBoost model...\n"
     ]
    },
    {
     "name": "stdout",
     "output_type": "stream",
     "text": [
      "Making predictions...\n",
      "Calculating performance metrics...\n",
      "Measuring prediction performance...\n"
     ]
    },
    {
     "name": "stdout",
     "output_type": "stream",
     "text": [
      "Saving model...\n",
      "Model size: 554.03 KB\n",
      "\n",
      "Results for cyclewaythingwaysorted, Sample Size: 100000\n",
      "Grid Search Time: 0.00s, Training Time: 13.38s\n",
      "XGBoost Parameters: {'learning_rate': 0.1, 'max_depth': 7, 'n_estimators': 200}\n",
      "Performance: R² = 0.9978, MAE = 5538.67, MAPE = 1155.52%\n",
      "q-score: 21.59\n",
      "Prediction time: 8.3983 μs/sample\n",
      "I/O: Reads=0.000000, Writes=0.000000\n",
      "--------------------------------------------------------------------------------\n",
      "\n",
      "Training with sample size: 50000\n",
      "Memory usage: 610.41 MB\n",
      "Using best parameters from max scale: {'learning_rate': 0.1, 'max_depth': 7, 'n_estimators': 200}\n",
      "Training XGBoost model...\n"
     ]
    },
    {
     "name": "stdout",
     "output_type": "stream",
     "text": [
      "Making predictions...\n",
      "Calculating performance metrics...\n",
      "Measuring prediction performance...\n"
     ]
    },
    {
     "name": "stdout",
     "output_type": "stream",
     "text": [
      "Saving model...\n",
      "Model size: 545.11 KB\n",
      "\n",
      "Results for cyclewaythingwaysorted, Sample Size: 50000\n",
      "Grid Search Time: 0.00s, Training Time: 11.83s\n",
      "XGBoost Parameters: {'learning_rate': 0.1, 'max_depth': 7, 'n_estimators': 200}\n",
      "Performance: R² = 0.9966, MAE = 6384.60, MAPE = 1162.94%\n",
      "q-score: 21.07\n",
      "Prediction time: 8.6525 μs/sample\n",
      "I/O: Reads=0.000000, Writes=0.000000\n",
      "--------------------------------------------------------------------------------\n",
      "\n",
      "Training with sample size: 10000\n",
      "Memory usage: 610.41 MB\n",
      "Using best parameters from max scale: {'learning_rate': 0.1, 'max_depth': 7, 'n_estimators': 200}\n",
      "Training XGBoost model...\n"
     ]
    },
    {
     "name": "stdout",
     "output_type": "stream",
     "text": [
      "Making predictions...\n",
      "Calculating performance metrics...\n",
      "Measuring prediction performance...\n"
     ]
    },
    {
     "name": "stdout",
     "output_type": "stream",
     "text": [
      "Saving model...\n",
      "Model size: 454.37 KB\n",
      "\n",
      "Results for cyclewaythingwaysorted, Sample Size: 10000\n",
      "Grid Search Time: 0.00s, Training Time: 8.21s\n",
      "XGBoost Parameters: {'learning_rate': 0.1, 'max_depth': 7, 'n_estimators': 200}\n",
      "Performance: R² = 0.9835, MAE = 12490.70, MAPE = 2000.48%\n",
      "q-score: 34.71\n",
      "Prediction time: 8.5064 μs/sample\n",
      "I/O: Reads=0.000000, Writes=0.000001\n",
      "--------------------------------------------------------------------------------\n",
      "\n",
      "Training with sample size: 5000\n",
      "Memory usage: 610.41 MB\n",
      "Using best parameters from max scale: {'learning_rate': 0.1, 'max_depth': 7, 'n_estimators': 200}\n",
      "Training XGBoost model...\n"
     ]
    },
    {
     "name": "stdout",
     "output_type": "stream",
     "text": [
      "Making predictions...\n",
      "Calculating performance metrics...\n",
      "Measuring prediction performance...\n"
     ]
    },
    {
     "name": "stdout",
     "output_type": "stream",
     "text": [
      "Saving model...\n",
      "Model size: 414.87 KB\n",
      "\n",
      "Results for cyclewaythingwaysorted, Sample Size: 5000\n",
      "Grid Search Time: 0.00s, Training Time: 7.70s\n",
      "XGBoost Parameters: {'learning_rate': 0.1, 'max_depth': 7, 'n_estimators': 200}\n",
      "Performance: R² = 0.9524, MAE = 18954.84, MAPE = 3223.83%\n",
      "q-score: 57.77\n",
      "Prediction time: 8.4681 μs/sample\n",
      "I/O: Reads=0.000000, Writes=0.000000\n",
      "--------------------------------------------------------------------------------\n",
      "\n",
      "Training with sample size: 1000\n",
      "Memory usage: 610.41 MB\n",
      "Using best parameters from max scale: {'learning_rate': 0.1, 'max_depth': 7, 'n_estimators': 200}\n",
      "Training XGBoost model...\n"
     ]
    },
    {
     "name": "stdout",
     "output_type": "stream",
     "text": [
      "Making predictions...\n",
      "Calculating performance metrics...\n",
      "Measuring prediction performance...\n"
     ]
    },
    {
     "name": "stdout",
     "output_type": "stream",
     "text": [
      "Saving model...\n",
      "Model size: 264.73 KB\n",
      "\n",
      "Results for cyclewaythingwaysorted, Sample Size: 1000\n",
      "Grid Search Time: 0.00s, Training Time: 6.15s\n",
      "XGBoost Parameters: {'learning_rate': 0.1, 'max_depth': 7, 'n_estimators': 200}\n",
      "Performance: R² = 0.7643, MAE = 45036.28, MAPE = 8731.13%\n",
      "q-score: 129.53\n",
      "Prediction time: 9.6457 μs/sample\n",
      "I/O: Reads=0.000000, Writes=0.000000\n",
      "--------------------------------------------------------------------------------\n",
      "Saving results for cyclewaythingwaysorted...\n"
     ]
    },
    {
     "name": "stdout",
     "output_type": "stream",
     "text": [
      "Memory usage: 610.41 MB\n",
      "\n",
      "Processing dataset: zcta5\n",
      "Universe boundaries for zcta5: (-176.684744, -14.373776, 145.830505, 71.341324)\n",
      "Loading data from ../large_files/resultsContains/zcta5_results.csv\n",
      "Parsing MBR coordinates...\n",
      "\n",
      "Basic statistics for zcta5 dataset:\n",
      "Max count: 33131.0\n",
      "Min count: 0.0\n",
      "Mean count: 662.21\n",
      "Median count: 0.00\n",
      "Total samples: 6626\n",
      "\n",
      "Calculating rectangle densities...\n",
      "Splitting data into train and test sets...\n",
      "Training set size: 5300\n",
      "\n",
      "Training with sample size: 5300\n",
      "Memory usage: 577.84 MB\n",
      "Performing grid search for optimal parameters...\n",
      "Fitting 3 folds for each of 27 candidates, totalling 81 fits\n"
     ]
    },
    {
     "name": "stdout",
     "output_type": "stream",
     "text": [
      "Grid search complete in 187.95s\n",
      "Best parameters: {'learning_rate': 0.3, 'max_depth': 5, 'n_estimators': 200}\n",
      "Training XGBoost model...\n",
      "Making predictions...\n",
      "Calculating performance metrics...\n",
      "Measuring prediction performance...\n"
     ]
    },
    {
     "name": "stdout",
     "output_type": "stream",
     "text": [
      "Saving model...\n",
      "Model size: 140.99 KB\n",
      "\n",
      "Results for zcta5, Sample Size: 5300\n",
      "Grid Search Time: 187.95s, Training Time: 5.48s\n",
      "XGBoost Parameters: {'learning_rate': 0.3, 'max_depth': 5, 'n_estimators': 200}\n",
      "Performance: R² = 0.9829, MAE = 108.98, MAPE = 54.08%\n",
      "q-score: 4.65\n",
      "Prediction time: 25.6010 μs/sample\n",
      "I/O: Reads=0.000000, Writes=0.000000\n",
      "--------------------------------------------------------------------------------\n",
      "Generating prediction scatter plot...\n"
     ]
    },
    {
     "name": "stdout",
     "output_type": "stream",
     "text": [
      "Generating feature importance plot...\n",
      "Generating side-by-side comparison plot...\n"
     ]
    },
    {
     "name": "stdout",
     "output_type": "stream",
     "text": [
      "\n",
      "Training with sample size: 5000\n",
      "Memory usage: 577.84 MB\n",
      "Using best parameters from max scale: {'learning_rate': 0.3, 'max_depth': 5, 'n_estimators': 200}\n",
      "Training XGBoost model...\n",
      "Making predictions...\n",
      "Calculating performance metrics...\n",
      "Measuring prediction performance...\n"
     ]
    },
    {
     "name": "stdout",
     "output_type": "stream",
     "text": [
      "Saving model...\n",
      "Model size: 141.43 KB\n",
      "\n",
      "Results for zcta5, Sample Size: 5000\n",
      "Grid Search Time: 0.00s, Training Time: 5.47s\n",
      "XGBoost Parameters: {'learning_rate': 0.3, 'max_depth': 5, 'n_estimators': 200}\n",
      "Performance: R² = 0.9796, MAE = 113.92, MAPE = 59.46%\n",
      "q-score: 4.05\n",
      "Prediction time: 23.9280 μs/sample\n",
      "I/O: Reads=0.000000, Writes=0.000000\n",
      "--------------------------------------------------------------------------------\n",
      "\n",
      "Training with sample size: 1000\n",
      "Memory usage: 577.84 MB\n",
      "Using best parameters from max scale: {'learning_rate': 0.3, 'max_depth': 5, 'n_estimators': 200}\n",
      "Training XGBoost model...\n"
     ]
    },
    {
     "name": "stdout",
     "output_type": "stream",
     "text": [
      "Making predictions...\n",
      "Calculating performance metrics...\n",
      "Measuring prediction performance...\n",
      "Saving model...\n",
      "Model size: 127.79 KB\n",
      "\n",
      "Results for zcta5, Sample Size: 1000\n",
      "Grid Search Time: 0.00s, Training Time: 4.63s\n",
      "XGBoost Parameters: {'learning_rate': 0.3, 'max_depth': 5, 'n_estimators': 200}\n",
      "Performance: R² = 0.8950, MAE = 244.00, MAPE = 125.52%\n",
      "q-score: 6.62\n",
      "Prediction time: 23.5397 μs/sample\n",
      "I/O: Reads=0.000000, Writes=0.000000\n",
      "--------------------------------------------------------------------------------\n",
      "Saving results for zcta5...\n"
     ]
    },
    {
     "name": "stdout",
     "output_type": "stream",
     "text": [
      "Memory usage: 577.84 MB\n",
      "\n",
      "Processing dataset: aerowaythingnodesorted\n",
      "Universe boundaries for aerowaythingnodesorted: (-179.88088960000002, -90.0, 179.951004, 83.08333590000001)\n",
      "Loading data from ../large_files/resultsContains/aerowaythingnodesorted_results.csv\n",
      "Parsing MBR coordinates...\n",
      "\n",
      "Basic statistics for aerowaythingnodesorted dataset:\n",
      "Max count: 79139.0\n",
      "Min count: 0.0\n",
      "Mean count: 1260.61\n",
      "Median count: 7.00\n",
      "Total samples: 15843\n",
      "\n",
      "Calculating rectangle densities...\n",
      "Splitting data into train and test sets...\n",
      "Training set size: 12674\n",
      "\n",
      "Training with sample size: 12674\n",
      "Memory usage: 578.83 MB\n",
      "Performing grid search for optimal parameters...\n",
      "Fitting 3 folds for each of 27 candidates, totalling 81 fits\n"
     ]
    },
    {
     "name": "stdout",
     "output_type": "stream",
     "text": [
      "Grid search complete in 231.98s\n",
      "Best parameters: {'learning_rate': 0.1, 'max_depth': 7, 'n_estimators': 200}\n",
      "Training XGBoost model...\n"
     ]
    },
    {
     "name": "stdout",
     "output_type": "stream",
     "text": [
      "Making predictions...\n",
      "Calculating performance metrics...\n",
      "Measuring prediction performance...\n",
      "Saving model...\n",
      "Model size: 482.08 KB\n",
      "\n",
      "Results for aerowaythingnodesorted, Sample Size: 12674\n",
      "Grid Search Time: 231.98s, Training Time: 8.92s\n",
      "XGBoost Parameters: {'learning_rate': 0.1, 'max_depth': 7, 'n_estimators': 200}\n",
      "Performance: R² = 0.9884, MAE = 216.57, MAPE = 312.13%\n",
      "q-score: 7.59\n",
      "Prediction time: 15.8355 μs/sample\n",
      "I/O: Reads=0.000000, Writes=0.000000\n",
      "--------------------------------------------------------------------------------\n",
      "Generating prediction scatter plot...\n"
     ]
    },
    {
     "name": "stdout",
     "output_type": "stream",
     "text": [
      "Generating feature importance plot...\n",
      "Generating side-by-side comparison plot...\n"
     ]
    },
    {
     "name": "stdout",
     "output_type": "stream",
     "text": [
      "\n",
      "Training with sample size: 10000\n",
      "Memory usage: 579.09 MB\n",
      "Using best parameters from max scale: {'learning_rate': 0.1, 'max_depth': 7, 'n_estimators': 200}\n",
      "Training XGBoost model...\n"
     ]
    },
    {
     "name": "stdout",
     "output_type": "stream",
     "text": [
      "Making predictions...\n",
      "Calculating performance metrics...\n",
      "Measuring prediction performance...\n",
      "Saving model...\n",
      "Model size: 471.74 KB\n",
      "\n",
      "Results for aerowaythingnodesorted, Sample Size: 10000\n",
      "Grid Search Time: 0.00s, Training Time: 8.69s\n",
      "XGBoost Parameters: {'learning_rate': 0.1, 'max_depth': 7, 'n_estimators': 200}\n",
      "Performance: R² = 0.9854, MAE = 228.83, MAPE = 410.52%\n",
      "q-score: 8.54\n",
      "Prediction time: 15.7659 μs/sample\n",
      "I/O: Reads=0.000000, Writes=0.000000\n",
      "--------------------------------------------------------------------------------\n",
      "\n",
      "Training with sample size: 5000\n",
      "Memory usage: 579.09 MB\n",
      "Using best parameters from max scale: {'learning_rate': 0.1, 'max_depth': 7, 'n_estimators': 200}\n",
      "Training XGBoost model...\n"
     ]
    },
    {
     "name": "stdout",
     "output_type": "stream",
     "text": [
      "Making predictions...\n",
      "Calculating performance metrics...\n",
      "Measuring prediction performance...\n",
      "Saving model...\n",
      "Model size: 404.55 KB\n",
      "\n",
      "Results for aerowaythingnodesorted, Sample Size: 5000\n",
      "Grid Search Time: 0.00s, Training Time: 7.60s\n",
      "XGBoost Parameters: {'learning_rate': 0.1, 'max_depth': 7, 'n_estimators': 200}\n",
      "Performance: R² = 0.9733, MAE = 324.77, MAPE = 481.23%\n",
      "q-score: 10.00\n",
      "Prediction time: 15.9290 μs/sample\n",
      "I/O: Reads=0.000000, Writes=0.000000\n",
      "--------------------------------------------------------------------------------\n",
      "\n",
      "Training with sample size: 1000\n",
      "Memory usage: 579.09 MB\n",
      "Using best parameters from max scale: {'learning_rate': 0.1, 'max_depth': 7, 'n_estimators': 200}\n",
      "Training XGBoost model...\n"
     ]
    },
    {
     "name": "stdout",
     "output_type": "stream",
     "text": [
      "Making predictions...\n",
      "Calculating performance metrics...\n",
      "Measuring prediction performance...\n",
      "Saving model...\n",
      "Model size: 246.80 KB\n",
      "\n",
      "Results for aerowaythingnodesorted, Sample Size: 1000\n",
      "Grid Search Time: 0.00s, Training Time: 6.05s\n",
      "XGBoost Parameters: {'learning_rate': 0.1, 'max_depth': 7, 'n_estimators': 200}\n",
      "Performance: R² = 0.8169, MAE = 727.46, MAPE = 1222.05%\n",
      "q-score: 23.39\n",
      "Prediction time: 15.5822 μs/sample\n",
      "I/O: Reads=0.000000, Writes=0.000000\n",
      "--------------------------------------------------------------------------------\n",
      "Saving results for aerowaythingnodesorted...\n"
     ]
    },
    {
     "name": "stdout",
     "output_type": "stream",
     "text": [
      "Memory usage: 579.09 MB\n",
      "\n",
      "Processing dataset: leisurewaysorted\n",
      "Universe boundaries for leisurewaysorted: (-179.8728244, -89.6957847, 179.8091866, 81.0280175)\n",
      "Loading data from ../large_files/resultsContains/leisurewaysorted_results.csv\n"
     ]
    },
    {
     "name": "stdout",
     "output_type": "stream",
     "text": [
      "Parsing MBR coordinates...\n"
     ]
    },
    {
     "name": "stdout",
     "output_type": "stream",
     "text": [
      "\n",
      "Basic statistics for leisurewaysorted dataset:\n",
      "Max count: 29382686.0\n",
      "Min count: 0.0\n",
      "Mean count: 489264.44\n",
      "Median count: 253.00\n",
      "Total samples: 5000000\n",
      "\n",
      "Calculating rectangle densities...\n",
      "Splitting data into train and test sets...\n"
     ]
    },
    {
     "name": "stdout",
     "output_type": "stream",
     "text": [
      "Training set size: 4000000\n",
      "\n",
      "Training with sample size: 4000000\n",
      "Memory usage: 1002.41 MB\n",
      "Performing grid search for optimal parameters...\n",
      "Fitting 3 folds for each of 27 candidates, totalling 81 fits\n"
     ]
    },
    {
     "name": "stdout",
     "output_type": "stream",
     "text": [
      "Grid search complete in 6592.12s\n",
      "Best parameters: {'learning_rate': 0.1, 'max_depth': 7, 'n_estimators': 200}\n",
      "Training XGBoost model...\n"
     ]
    },
    {
     "name": "stdout",
     "output_type": "stream",
     "text": [
      "Making predictions...\n"
     ]
    },
    {
     "name": "stdout",
     "output_type": "stream",
     "text": [
      "Calculating performance metrics...\n",
      "Measuring prediction performance...\n"
     ]
    },
    {
     "name": "stdout",
     "output_type": "stream",
     "text": [
      "Saving model...\n",
      "Model size: 603.48 KB\n",
      "\n",
      "Results for leisurewaysorted, Sample Size: 4000000\n",
      "Grid Search Time: 6592.12s, Training Time: 199.26s\n",
      "XGBoost Parameters: {'learning_rate': 0.1, 'max_depth': 7, 'n_estimators': 200}\n",
      "Performance: R² = 0.9993, MAE = 22892.29, MAPE = 3340.35%\n",
      "q-score: 53.99\n",
      "Prediction time: 8.1396 μs/sample\n",
      "I/O: Reads=0.000000, Writes=0.000001\n",
      "--------------------------------------------------------------------------------\n",
      "Generating prediction scatter plot...\n"
     ]
    },
    {
     "name": "stdout",
     "output_type": "stream",
     "text": [
      "Generating feature importance plot...\n",
      "Generating side-by-side comparison plot...\n"
     ]
    },
    {
     "name": "stdout",
     "output_type": "stream",
     "text": [
      "\n",
      "Training with sample size: 3000000\n",
      "Memory usage: 1057.23 MB\n",
      "Using best parameters from max scale: {'learning_rate': 0.1, 'max_depth': 7, 'n_estimators': 200}\n",
      "Training XGBoost model...\n"
     ]
    },
    {
     "name": "stdout",
     "output_type": "stream",
     "text": [
      "Making predictions...\n"
     ]
    },
    {
     "name": "stdout",
     "output_type": "stream",
     "text": [
      "Calculating performance metrics...\n",
      "Measuring prediction performance...\n"
     ]
    },
    {
     "name": "stdout",
     "output_type": "stream",
     "text": [
      "Saving model...\n",
      "Model size: 436.26 KB\n",
      "\n",
      "Results for leisurewaysorted, Sample Size: 3000000\n",
      "Grid Search Time: 0.00s, Training Time: 117.21s\n",
      "XGBoost Parameters: {'learning_rate': 0.1, 'max_depth': 7, 'n_estimators': 200}\n",
      "Performance: R² = 0.9990, MAE = 26841.90, MAPE = 4512.14%\n",
      "q-score: 67.23\n",
      "Prediction time: 4.7458 μs/sample\n",
      "I/O: Reads=0.000000, Writes=0.000000\n",
      "--------------------------------------------------------------------------------\n",
      "\n",
      "Training with sample size: 2000000\n",
      "Memory usage: 1058.72 MB\n",
      "Using best parameters from max scale: {'learning_rate': 0.1, 'max_depth': 7, 'n_estimators': 200}\n",
      "Training XGBoost model...\n"
     ]
    },
    {
     "name": "stdout",
     "output_type": "stream",
     "text": [
      "Making predictions...\n"
     ]
    },
    {
     "name": "stdout",
     "output_type": "stream",
     "text": [
      "Calculating performance metrics...\n",
      "Measuring prediction performance...\n"
     ]
    },
    {
     "name": "stdout",
     "output_type": "stream",
     "text": [
      "Saving model...\n",
      "Model size: 604.50 KB\n",
      "\n",
      "Results for leisurewaysorted, Sample Size: 2000000\n",
      "Grid Search Time: 0.00s, Training Time: 98.82s\n",
      "XGBoost Parameters: {'learning_rate': 0.1, 'max_depth': 7, 'n_estimators': 200}\n",
      "Performance: R² = 0.9992, MAE = 23061.58, MAPE = 3387.76%\n",
      "q-score: 51.46\n",
      "Prediction time: 6.4518 μs/sample\n",
      "I/O: Reads=0.000000, Writes=0.000002\n",
      "--------------------------------------------------------------------------------\n",
      "\n",
      "Training with sample size: 1000000\n",
      "Memory usage: 1054.91 MB\n",
      "Using best parameters from max scale: {'learning_rate': 0.1, 'max_depth': 7, 'n_estimators': 200}\n",
      "Training XGBoost model...\n"
     ]
    },
    {
     "name": "stdout",
     "output_type": "stream",
     "text": [
      "Making predictions...\n"
     ]
    },
    {
     "name": "stdout",
     "output_type": "stream",
     "text": [
      "Calculating performance metrics...\n",
      "Measuring prediction performance...\n"
     ]
    },
    {
     "name": "stdout",
     "output_type": "stream",
     "text": [
      "Saving model...\n",
      "Model size: 603.28 KB\n",
      "\n",
      "Results for leisurewaysorted, Sample Size: 1000000\n",
      "Grid Search Time: 0.00s, Training Time: 49.39s\n",
      "XGBoost Parameters: {'learning_rate': 0.1, 'max_depth': 7, 'n_estimators': 200}\n",
      "Performance: R² = 0.9992, MAE = 23770.28, MAPE = 3284.70%\n",
      "q-score: 48.00\n",
      "Prediction time: 8.4340 μs/sample\n",
      "I/O: Reads=0.000000, Writes=0.000002\n",
      "--------------------------------------------------------------------------------\n",
      "\n",
      "Training with sample size: 500000\n",
      "Memory usage: 1062.38 MB\n",
      "Using best parameters from max scale: {'learning_rate': 0.1, 'max_depth': 7, 'n_estimators': 200}\n",
      "Training XGBoost model...\n"
     ]
    },
    {
     "name": "stdout",
     "output_type": "stream",
     "text": [
      "Making predictions...\n"
     ]
    },
    {
     "name": "stdout",
     "output_type": "stream",
     "text": [
      "Calculating performance metrics...\n",
      "Measuring prediction performance...\n"
     ]
    },
    {
     "name": "stdout",
     "output_type": "stream",
     "text": [
      "Saving model...\n",
      "Model size: 593.00 KB\n",
      "\n",
      "Results for leisurewaysorted, Sample Size: 500000\n",
      "Grid Search Time: 0.00s, Training Time: 28.91s\n",
      "XGBoost Parameters: {'learning_rate': 0.1, 'max_depth': 7, 'n_estimators': 200}\n",
      "Performance: R² = 0.9990, MAE = 25115.68, MAPE = 3399.75%\n",
      "q-score: 49.73\n",
      "Prediction time: 8.4883 μs/sample\n",
      "I/O: Reads=0.000000, Writes=0.000001\n",
      "--------------------------------------------------------------------------------\n",
      "\n",
      "Training with sample size: 100000\n",
      "Memory usage: 1062.38 MB\n",
      "Using best parameters from max scale: {'learning_rate': 0.1, 'max_depth': 7, 'n_estimators': 200}\n",
      "Training XGBoost model...\n"
     ]
    },
    {
     "name": "stdout",
     "output_type": "stream",
     "text": [
      "Making predictions...\n"
     ]
    },
    {
     "name": "stdout",
     "output_type": "stream",
     "text": [
      "Calculating performance metrics...\n",
      "Measuring prediction performance...\n"
     ]
    },
    {
     "name": "stdout",
     "output_type": "stream",
     "text": [
      "Saving model...\n",
      "Model size: 571.70 KB\n",
      "\n",
      "Results for leisurewaysorted, Sample Size: 100000\n",
      "Grid Search Time: 0.00s, Training Time: 13.73s\n",
      "XGBoost Parameters: {'learning_rate': 0.1, 'max_depth': 7, 'n_estimators': 200}\n",
      "Performance: R² = 0.9983, MAE = 30903.39, MAPE = 3950.80%\n",
      "q-score: 58.92\n",
      "Prediction time: 8.4349 μs/sample\n",
      "I/O: Reads=0.000000, Writes=0.000000\n",
      "--------------------------------------------------------------------------------\n",
      "\n",
      "Training with sample size: 50000\n",
      "Memory usage: 1062.38 MB\n",
      "Using best parameters from max scale: {'learning_rate': 0.1, 'max_depth': 7, 'n_estimators': 200}\n",
      "Training XGBoost model...\n"
     ]
    },
    {
     "name": "stdout",
     "output_type": "stream",
     "text": [
      "Making predictions...\n"
     ]
    },
    {
     "name": "stdout",
     "output_type": "stream",
     "text": [
      "Calculating performance metrics...\n",
      "Measuring prediction performance...\n"
     ]
    },
    {
     "name": "stdout",
     "output_type": "stream",
     "text": [
      "Saving model...\n",
      "Model size: 546.71 KB\n",
      "\n",
      "Results for leisurewaysorted, Sample Size: 50000\n",
      "Grid Search Time: 0.00s, Training Time: 11.20s\n",
      "XGBoost Parameters: {'learning_rate': 0.1, 'max_depth': 7, 'n_estimators': 200}\n",
      "Performance: R² = 0.9974, MAE = 36392.24, MAPE = 4306.17%\n",
      "q-score: 65.01\n",
      "Prediction time: 8.4770 μs/sample\n",
      "I/O: Reads=0.000000, Writes=0.000005\n",
      "--------------------------------------------------------------------------------\n",
      "\n",
      "Training with sample size: 10000\n",
      "Memory usage: 1062.38 MB\n",
      "Using best parameters from max scale: {'learning_rate': 0.1, 'max_depth': 7, 'n_estimators': 200}\n",
      "Training XGBoost model...\n"
     ]
    },
    {
     "name": "stdout",
     "output_type": "stream",
     "text": [
      "Making predictions...\n"
     ]
    },
    {
     "name": "stdout",
     "output_type": "stream",
     "text": [
      "Calculating performance metrics...\n",
      "Measuring prediction performance...\n"
     ]
    },
    {
     "name": "stdout",
     "output_type": "stream",
     "text": [
      "Saving model...\n",
      "Model size: 479.66 KB\n",
      "\n",
      "Results for leisurewaysorted, Sample Size: 10000\n",
      "Grid Search Time: 0.00s, Training Time: 10.07s\n",
      "XGBoost Parameters: {'learning_rate': 0.1, 'max_depth': 7, 'n_estimators': 200}\n",
      "Performance: R² = 0.9868, MAE = 67855.51, MAPE = 7033.49%\n",
      "q-score: 100.67\n",
      "Prediction time: 8.4565 μs/sample\n",
      "I/O: Reads=0.000000, Writes=0.000001\n",
      "--------------------------------------------------------------------------------\n",
      "\n",
      "Training with sample size: 5000\n",
      "Memory usage: 1062.38 MB\n",
      "Using best parameters from max scale: {'learning_rate': 0.1, 'max_depth': 7, 'n_estimators': 200}\n",
      "Training XGBoost model...\n"
     ]
    },
    {
     "name": "stdout",
     "output_type": "stream",
     "text": [
      "Making predictions...\n"
     ]
    },
    {
     "name": "stdout",
     "output_type": "stream",
     "text": [
      "Calculating performance metrics...\n",
      "Measuring prediction performance...\n"
     ]
    },
    {
     "name": "stdout",
     "output_type": "stream",
     "text": [
      "Saving model...\n",
      "Model size: 436.27 KB\n",
      "\n",
      "Results for leisurewaysorted, Sample Size: 5000\n",
      "Grid Search Time: 0.00s, Training Time: 7.78s\n",
      "XGBoost Parameters: {'learning_rate': 0.1, 'max_depth': 7, 'n_estimators': 200}\n",
      "Performance: R² = 0.9726, MAE = 95299.74, MAPE = 10410.78%\n",
      "q-score: 142.97\n",
      "Prediction time: 8.3481 μs/sample\n",
      "I/O: Reads=0.000000, Writes=0.000003\n",
      "--------------------------------------------------------------------------------\n",
      "\n",
      "Training with sample size: 1000\n",
      "Memory usage: 1062.38 MB\n",
      "Using best parameters from max scale: {'learning_rate': 0.1, 'max_depth': 7, 'n_estimators': 200}\n",
      "Training XGBoost model...\n"
     ]
    },
    {
     "name": "stdout",
     "output_type": "stream",
     "text": [
      "Making predictions...\n"
     ]
    },
    {
     "name": "stdout",
     "output_type": "stream",
     "text": [
      "Calculating performance metrics...\n",
      "Measuring prediction performance...\n"
     ]
    },
    {
     "name": "stdout",
     "output_type": "stream",
     "text": [
      "Saving model...\n",
      "Model size: 239.71 KB\n",
      "\n",
      "Results for leisurewaysorted, Sample Size: 1000\n",
      "Grid Search Time: 0.00s, Training Time: 6.59s\n",
      "XGBoost Parameters: {'learning_rate': 0.1, 'max_depth': 7, 'n_estimators': 200}\n",
      "Performance: R² = 0.8519, MAE = 226498.08, MAPE = 28717.78%\n",
      "q-score: 388.96\n",
      "Prediction time: 8.4201 μs/sample\n",
      "I/O: Reads=0.000000, Writes=0.000000\n",
      "--------------------------------------------------------------------------------\n",
      "Saving results for leisurewaysorted...\n"
     ]
    },
    {
     "name": "stdout",
     "output_type": "stream",
     "text": [
      "Memory usage: 833.52 MB\n",
      "\n",
      "Processing dataset: areawater\n",
      "Universe boundaries for areawater: (-179.231086, -14.601813, 179.859681, 71.441059)\n",
      "Loading data from ../large_files/resultsContains/areawater_results.csv\n"
     ]
    },
    {
     "name": "stdout",
     "output_type": "stream",
     "text": [
      "Parsing MBR coordinates...\n"
     ]
    },
    {
     "name": "stdout",
     "output_type": "stream",
     "text": [
      "\n",
      "Basic statistics for areawater dataset:\n",
      "Max count: 2292728.0\n",
      "Min count: 0.0\n",
      "Mean count: 43929.12\n",
      "Median count: 0.00\n",
      "Total samples: 458552\n",
      "\n",
      "Calculating rectangle densities...\n",
      "Splitting data into train and test sets...\n",
      "Training set size: 366841\n",
      "\n",
      "Training with sample size: 366841\n",
      "Memory usage: 644.80 MB\n",
      "Performing grid search for optimal parameters...\n",
      "Fitting 3 folds for each of 27 candidates, totalling 81 fits\n"
     ]
    },
    {
     "name": "stdout",
     "output_type": "stream",
     "text": [
      "Grid search complete in 762.75s\n",
      "Best parameters: {'learning_rate': 0.1, 'max_depth': 7, 'n_estimators': 200}\n",
      "Training XGBoost model...\n"
     ]
    },
    {
     "name": "stdout",
     "output_type": "stream",
     "text": [
      "Making predictions...\n",
      "Calculating performance metrics...\n",
      "Measuring prediction performance...\n"
     ]
    },
    {
     "name": "stdout",
     "output_type": "stream",
     "text": [
      "Saving model...\n",
      "Model size: 558.52 KB\n",
      "\n",
      "Results for areawater, Sample Size: 366841\n",
      "Grid Search Time: 762.75s, Training Time: 22.99s\n",
      "XGBoost Parameters: {'learning_rate': 0.1, 'max_depth': 7, 'n_estimators': 200}\n",
      "Performance: R² = 0.9994, MAE = 1174.44, MAPE = 120.13%\n",
      "q-score: 6.01\n",
      "Prediction time: 8.7201 μs/sample\n",
      "I/O: Reads=0.000000, Writes=0.000000\n",
      "--------------------------------------------------------------------------------\n",
      "Generating prediction scatter plot...\n"
     ]
    },
    {
     "name": "stdout",
     "output_type": "stream",
     "text": [
      "Generating feature importance plot...\n",
      "Generating side-by-side comparison plot...\n"
     ]
    },
    {
     "name": "stdout",
     "output_type": "stream",
     "text": [
      "\n",
      "Training with sample size: 100000\n",
      "Memory usage: 656.04 MB\n",
      "Using best parameters from max scale: {'learning_rate': 0.1, 'max_depth': 7, 'n_estimators': 200}\n",
      "Training XGBoost model...\n"
     ]
    },
    {
     "name": "stdout",
     "output_type": "stream",
     "text": [
      "Making predictions...\n",
      "Calculating performance metrics...\n",
      "Measuring prediction performance...\n"
     ]
    },
    {
     "name": "stdout",
     "output_type": "stream",
     "text": [
      "Saving model...\n",
      "Model size: 527.02 KB\n",
      "\n",
      "Results for areawater, Sample Size: 100000\n",
      "Grid Search Time: 0.00s, Training Time: 13.03s\n",
      "XGBoost Parameters: {'learning_rate': 0.1, 'max_depth': 7, 'n_estimators': 200}\n",
      "Performance: R² = 0.9989, MAE = 1588.74, MAPE = 177.87%\n",
      "q-score: 8.97\n",
      "Prediction time: 8.5096 μs/sample\n",
      "I/O: Reads=0.000000, Writes=0.000000\n",
      "--------------------------------------------------------------------------------\n",
      "\n",
      "Training with sample size: 50000\n",
      "Memory usage: 656.04 MB\n",
      "Using best parameters from max scale: {'learning_rate': 0.1, 'max_depth': 7, 'n_estimators': 200}\n",
      "Training XGBoost model...\n"
     ]
    },
    {
     "name": "stdout",
     "output_type": "stream",
     "text": [
      "Making predictions...\n",
      "Calculating performance metrics...\n",
      "Measuring prediction performance...\n"
     ]
    },
    {
     "name": "stdout",
     "output_type": "stream",
     "text": [
      "Saving model...\n",
      "Model size: 499.98 KB\n",
      "\n",
      "Results for areawater, Sample Size: 50000\n",
      "Grid Search Time: 0.00s, Training Time: 10.61s\n",
      "XGBoost Parameters: {'learning_rate': 0.1, 'max_depth': 7, 'n_estimators': 200}\n",
      "Performance: R² = 0.9982, MAE = 1947.39, MAPE = 177.95%\n",
      "q-score: 10.12\n",
      "Prediction time: 9.1137 μs/sample\n",
      "I/O: Reads=0.000000, Writes=0.000000\n",
      "--------------------------------------------------------------------------------\n",
      "\n",
      "Training with sample size: 10000\n",
      "Memory usage: 656.04 MB\n",
      "Using best parameters from max scale: {'learning_rate': 0.1, 'max_depth': 7, 'n_estimators': 200}\n",
      "Training XGBoost model...\n"
     ]
    },
    {
     "name": "stdout",
     "output_type": "stream",
     "text": [
      "Making predictions...\n",
      "Calculating performance metrics...\n",
      "Measuring prediction performance...\n"
     ]
    },
    {
     "name": "stdout",
     "output_type": "stream",
     "text": [
      "Saving model...\n",
      "Model size: 410.30 KB\n",
      "\n",
      "Results for areawater, Sample Size: 10000\n",
      "Grid Search Time: 0.00s, Training Time: 8.15s\n",
      "XGBoost Parameters: {'learning_rate': 0.1, 'max_depth': 7, 'n_estimators': 200}\n",
      "Performance: R² = 0.9925, MAE = 3742.37, MAPE = 323.57%\n",
      "q-score: 11.56\n",
      "Prediction time: 8.5255 μs/sample\n",
      "I/O: Reads=0.000000, Writes=0.000000\n",
      "--------------------------------------------------------------------------------\n",
      "\n",
      "Training with sample size: 5000\n",
      "Memory usage: 656.04 MB\n",
      "Using best parameters from max scale: {'learning_rate': 0.1, 'max_depth': 7, 'n_estimators': 200}\n",
      "Training XGBoost model...\n"
     ]
    },
    {
     "name": "stdout",
     "output_type": "stream",
     "text": [
      "Making predictions...\n",
      "Calculating performance metrics...\n",
      "Measuring prediction performance...\n"
     ]
    },
    {
     "name": "stdout",
     "output_type": "stream",
     "text": [
      "Saving model...\n",
      "Model size: 382.68 KB\n",
      "\n",
      "Results for areawater, Sample Size: 5000\n",
      "Grid Search Time: 0.00s, Training Time: 7.80s\n",
      "XGBoost Parameters: {'learning_rate': 0.1, 'max_depth': 7, 'n_estimators': 200}\n",
      "Performance: R² = 0.9815, MAE = 5981.11, MAPE = 696.28%\n",
      "q-score: 29.78\n",
      "Prediction time: 8.3752 μs/sample\n",
      "I/O: Reads=0.000000, Writes=0.000000\n",
      "--------------------------------------------------------------------------------\n",
      "\n",
      "Training with sample size: 1000\n",
      "Memory usage: 656.04 MB\n",
      "Using best parameters from max scale: {'learning_rate': 0.1, 'max_depth': 7, 'n_estimators': 200}\n",
      "Training XGBoost model...\n"
     ]
    },
    {
     "name": "stdout",
     "output_type": "stream",
     "text": [
      "Making predictions...\n",
      "Calculating performance metrics...\n",
      "Measuring prediction performance...\n"
     ]
    },
    {
     "name": "stdout",
     "output_type": "stream",
     "text": [
      "Saving model...\n",
      "Model size: 260.48 KB\n",
      "\n",
      "Results for areawater, Sample Size: 1000\n",
      "Grid Search Time: 0.00s, Training Time: 6.17s\n",
      "XGBoost Parameters: {'learning_rate': 0.1, 'max_depth': 7, 'n_estimators': 200}\n",
      "Performance: R² = 0.9293, MAE = 13254.07, MAPE = 1946.57%\n",
      "q-score: 76.35\n",
      "Prediction time: 9.0108 μs/sample\n",
      "I/O: Reads=0.000000, Writes=0.000002\n",
      "--------------------------------------------------------------------------------\n",
      "Saving results for areawater...\n"
     ]
    },
    {
     "name": "stdout",
     "output_type": "stream",
     "text": [
      "Memory usage: 656.04 MB\n",
      "\n",
      "Processing dataset: yago2\n",
      "Universe boundaries for yago2: (-179.98473, -90.0, 180.0, 90.0)\n",
      "Loading data from ../large_files/resultsContains/yago2_results.csv\n"
     ]
    },
    {
     "name": "stdout",
     "output_type": "stream",
     "text": [
      "Parsing MBR coordinates...\n"
     ]
    },
    {
     "name": "stdout",
     "output_type": "stream",
     "text": [
      "\n",
      "Basic statistics for yago2 dataset:\n",
      "Max count: 4494666.0\n",
      "Min count: 0.0\n",
      "Mean count: 79087.58\n",
      "Median count: 678.00\n",
      "Total samples: 898942\n",
      "\n",
      "Calculating rectangle densities...\n",
      "Splitting data into train and test sets...\n",
      "Training set size: 719153\n",
      "\n",
      "Training with sample size: 719153\n",
      "Memory usage: 658.23 MB\n",
      "Performing grid search for optimal parameters...\n",
      "Fitting 3 folds for each of 27 candidates, totalling 81 fits\n"
     ]
    },
    {
     "name": "stdout",
     "output_type": "stream",
     "text": [
      "Grid search complete in 1316.73s\n",
      "Best parameters: {'learning_rate': 0.1, 'max_depth': 7, 'n_estimators': 200}\n",
      "Training XGBoost model...\n"
     ]
    },
    {
     "name": "stdout",
     "output_type": "stream",
     "text": [
      "Making predictions...\n",
      "Calculating performance metrics...\n",
      "Measuring prediction performance...\n"
     ]
    },
    {
     "name": "stdout",
     "output_type": "stream",
     "text": [
      "Saving model...\n",
      "Model size: 602.01 KB\n",
      "\n",
      "Results for yago2, Sample Size: 719153\n",
      "Grid Search Time: 1316.73s, Training Time: 39.57s\n",
      "XGBoost Parameters: {'learning_rate': 0.1, 'max_depth': 7, 'n_estimators': 200}\n",
      "Performance: R² = 0.9984, MAE = 5244.70, MAPE = 3718.81%\n",
      "q-score: 55.13\n",
      "Prediction time: 8.7506 μs/sample\n",
      "I/O: Reads=0.000000, Writes=0.000000\n",
      "--------------------------------------------------------------------------------\n",
      "Generating prediction scatter plot...\n"
     ]
    },
    {
     "name": "stdout",
     "output_type": "stream",
     "text": [
      "Generating feature importance plot...\n",
      "Generating side-by-side comparison plot...\n"
     ]
    },
    {
     "name": "stdout",
     "output_type": "stream",
     "text": [
      "\n",
      "Training with sample size: 500000\n",
      "Memory usage: 785.89 MB\n",
      "Using best parameters from max scale: {'learning_rate': 0.1, 'max_depth': 7, 'n_estimators': 200}\n",
      "Training XGBoost model...\n"
     ]
    },
    {
     "name": "stdout",
     "output_type": "stream",
     "text": [
      "Making predictions...\n",
      "Calculating performance metrics...\n",
      "Measuring prediction performance...\n"
     ]
    },
    {
     "name": "stdout",
     "output_type": "stream",
     "text": [
      "Saving model...\n",
      "Model size: 597.64 KB\n",
      "\n",
      "Results for yago2, Sample Size: 500000\n",
      "Grid Search Time: 0.00s, Training Time: 30.33s\n",
      "XGBoost Parameters: {'learning_rate': 0.1, 'max_depth': 7, 'n_estimators': 200}\n",
      "Performance: R² = 0.9983, MAE = 5331.65, MAPE = 3604.22%\n",
      "q-score: 52.59\n",
      "Prediction time: 8.7401 μs/sample\n",
      "I/O: Reads=0.000000, Writes=0.000000\n",
      "--------------------------------------------------------------------------------\n",
      "\n",
      "Training with sample size: 100000\n",
      "Memory usage: 785.89 MB\n",
      "Using best parameters from max scale: {'learning_rate': 0.1, 'max_depth': 7, 'n_estimators': 200}\n",
      "Training XGBoost model...\n"
     ]
    },
    {
     "name": "stdout",
     "output_type": "stream",
     "text": [
      "Making predictions...\n",
      "Calculating performance metrics...\n",
      "Measuring prediction performance...\n"
     ]
    },
    {
     "name": "stdout",
     "output_type": "stream",
     "text": [
      "Saving model...\n",
      "Model size: 575.25 KB\n",
      "\n",
      "Results for yago2, Sample Size: 100000\n",
      "Grid Search Time: 0.00s, Training Time: 14.11s\n",
      "XGBoost Parameters: {'learning_rate': 0.1, 'max_depth': 7, 'n_estimators': 200}\n",
      "Performance: R² = 0.9972, MAE = 6590.77, MAPE = 4101.18%\n",
      "q-score: 61.21\n",
      "Prediction time: 8.6478 μs/sample\n",
      "I/O: Reads=0.000000, Writes=0.000021\n",
      "--------------------------------------------------------------------------------\n",
      "\n",
      "Training with sample size: 50000\n",
      "Memory usage: 785.89 MB\n",
      "Using best parameters from max scale: {'learning_rate': 0.1, 'max_depth': 7, 'n_estimators': 200}\n",
      "Training XGBoost model...\n"
     ]
    },
    {
     "name": "stdout",
     "output_type": "stream",
     "text": [
      "Making predictions...\n",
      "Calculating performance metrics...\n",
      "Measuring prediction performance...\n"
     ]
    },
    {
     "name": "stdout",
     "output_type": "stream",
     "text": [
      "Saving model...\n",
      "Model size: 550.03 KB\n",
      "\n",
      "Results for yago2, Sample Size: 50000\n",
      "Grid Search Time: 0.00s, Training Time: 11.66s\n",
      "XGBoost Parameters: {'learning_rate': 0.1, 'max_depth': 7, 'n_estimators': 200}\n",
      "Performance: R² = 0.9958, MAE = 7543.51, MAPE = 4363.41%\n",
      "q-score: 64.25\n",
      "Prediction time: 8.5114 μs/sample\n",
      "I/O: Reads=0.000000, Writes=0.000000\n",
      "--------------------------------------------------------------------------------\n",
      "\n",
      "Training with sample size: 10000\n",
      "Memory usage: 785.89 MB\n",
      "Using best parameters from max scale: {'learning_rate': 0.1, 'max_depth': 7, 'n_estimators': 200}\n",
      "Training XGBoost model...\n"
     ]
    },
    {
     "name": "stdout",
     "output_type": "stream",
     "text": [
      "Making predictions...\n",
      "Calculating performance metrics...\n",
      "Measuring prediction performance...\n"
     ]
    },
    {
     "name": "stdout",
     "output_type": "stream",
     "text": [
      "Saving model...\n",
      "Model size: 479.22 KB\n",
      "\n",
      "Results for yago2, Sample Size: 10000\n",
      "Grid Search Time: 0.00s, Training Time: 8.60s\n",
      "XGBoost Parameters: {'learning_rate': 0.1, 'max_depth': 7, 'n_estimators': 200}\n",
      "Performance: R² = 0.9828, MAE = 13429.54, MAPE = 6343.11%\n",
      "q-score: 93.83\n",
      "Prediction time: 8.5221 μs/sample\n",
      "I/O: Reads=0.000000, Writes=0.000000\n",
      "--------------------------------------------------------------------------------\n",
      "\n",
      "Training with sample size: 5000\n",
      "Memory usage: 785.89 MB\n",
      "Using best parameters from max scale: {'learning_rate': 0.1, 'max_depth': 7, 'n_estimators': 200}\n",
      "Training XGBoost model...\n"
     ]
    },
    {
     "name": "stdout",
     "output_type": "stream",
     "text": [
      "Making predictions...\n",
      "Calculating performance metrics...\n",
      "Measuring prediction performance...\n"
     ]
    },
    {
     "name": "stdout",
     "output_type": "stream",
     "text": [
      "Saving model...\n",
      "Model size: 445.81 KB\n",
      "\n",
      "Results for yago2, Sample Size: 5000\n",
      "Grid Search Time: 0.00s, Training Time: 7.88s\n",
      "XGBoost Parameters: {'learning_rate': 0.1, 'max_depth': 7, 'n_estimators': 200}\n",
      "Performance: R² = 0.9736, MAE = 16995.71, MAPE = 9128.26%\n",
      "q-score: 131.57\n",
      "Prediction time: 8.8145 μs/sample\n",
      "I/O: Reads=0.000000, Writes=0.000000\n",
      "--------------------------------------------------------------------------------\n",
      "\n",
      "Training with sample size: 1000\n",
      "Memory usage: 785.89 MB\n",
      "Using best parameters from max scale: {'learning_rate': 0.1, 'max_depth': 7, 'n_estimators': 200}\n",
      "Training XGBoost model...\n"
     ]
    },
    {
     "name": "stdout",
     "output_type": "stream",
     "text": [
      "Making predictions...\n",
      "Calculating performance metrics...\n",
      "Measuring prediction performance...\n"
     ]
    },
    {
     "name": "stdout",
     "output_type": "stream",
     "text": [
      "Saving model...\n",
      "Model size: 308.40 KB\n",
      "\n",
      "Results for yago2, Sample Size: 1000\n",
      "Grid Search Time: 0.00s, Training Time: 6.47s\n",
      "XGBoost Parameters: {'learning_rate': 0.1, 'max_depth': 7, 'n_estimators': 200}\n",
      "Performance: R² = 0.8222, MAE = 38904.35, MAPE = 22273.39%\n",
      "q-score: 309.40\n",
      "Prediction time: 8.5721 μs/sample\n",
      "I/O: Reads=0.000000, Writes=0.000001\n",
      "--------------------------------------------------------------------------------\n",
      "Saving results for yago2...\n"
     ]
    },
    {
     "name": "stdout",
     "output_type": "stream",
     "text": [
      "Memory usage: 785.89 MB\n",
      "\n",
      "Processing dataset: powerthingnodesorted\n",
      "Universe boundaries for powerthingnodesorted: (-177.92741900000001, -77.8453164, 178.47197400000002, 78.2256315)\n",
      "Loading data from ../large_files/resultsContains/powerthingnodesorted_results.csv\n"
     ]
    },
    {
     "name": "stdout",
     "output_type": "stream",
     "text": [
      "Parsing MBR coordinates...\n"
     ]
    },
    {
     "name": "stdout",
     "output_type": "stream",
     "text": [
      "\n",
      "Basic statistics for powerthingnodesorted dataset:\n",
      "Max count: 10512575.0\n",
      "Min count: 0.0\n",
      "Mean count: 174964.97\n",
      "Median count: 41.00\n",
      "Total samples: 2102514\n",
      "\n",
      "Calculating rectangle densities...\n",
      "Splitting data into train and test sets...\n"
     ]
    },
    {
     "name": "stdout",
     "output_type": "stream",
     "text": [
      "Training set size: 1682011\n",
      "\n",
      "Training with sample size: 1682011\n",
      "Memory usage: 839.21 MB\n",
      "Performing grid search for optimal parameters...\n",
      "Fitting 3 folds for each of 27 candidates, totalling 81 fits\n"
     ]
    },
    {
     "name": "stdout",
     "output_type": "stream",
     "text": [
      "Grid search complete in 2854.85s\n",
      "Best parameters: {'learning_rate': 0.1, 'max_depth': 7, 'n_estimators': 200}\n",
      "Training XGBoost model...\n"
     ]
    },
    {
     "name": "stdout",
     "output_type": "stream",
     "text": [
      "Making predictions...\n"
     ]
    },
    {
     "name": "stdout",
     "output_type": "stream",
     "text": [
      "Calculating performance metrics...\n",
      "Measuring prediction performance...\n"
     ]
    },
    {
     "name": "stdout",
     "output_type": "stream",
     "text": [
      "Saving model...\n",
      "Model size: 602.18 KB\n",
      "\n",
      "Results for powerthingnodesorted, Sample Size: 1682011\n",
      "Grid Search Time: 2854.85s, Training Time: 82.28s\n",
      "XGBoost Parameters: {'learning_rate': 0.1, 'max_depth': 7, 'n_estimators': 200}\n",
      "Performance: R² = 0.9989, MAE = 10019.43, MAPE = 6142.80%\n",
      "q-score: 114.64\n",
      "Prediction time: 6.6609 μs/sample\n",
      "I/O: Reads=0.000000, Writes=0.000000\n",
      "--------------------------------------------------------------------------------\n",
      "Generating prediction scatter plot...\n"
     ]
    },
    {
     "name": "stdout",
     "output_type": "stream",
     "text": [
      "Generating feature importance plot...\n",
      "Generating side-by-side comparison plot...\n"
     ]
    },
    {
     "name": "stdout",
     "output_type": "stream",
     "text": [
      "\n",
      "Training with sample size: 1000000\n",
      "Memory usage: 819.33 MB\n",
      "Using best parameters from max scale: {'learning_rate': 0.1, 'max_depth': 7, 'n_estimators': 200}\n",
      "Training XGBoost model...\n"
     ]
    },
    {
     "name": "stdout",
     "output_type": "stream",
     "text": [
      "Making predictions...\n"
     ]
    },
    {
     "name": "stdout",
     "output_type": "stream",
     "text": [
      "Calculating performance metrics...\n",
      "Measuring prediction performance...\n"
     ]
    },
    {
     "name": "stdout",
     "output_type": "stream",
     "text": [
      "Saving model...\n",
      "Model size: 597.72 KB\n",
      "\n",
      "Results for powerthingnodesorted, Sample Size: 1000000\n",
      "Grid Search Time: 0.00s, Training Time: 49.34s\n",
      "XGBoost Parameters: {'learning_rate': 0.1, 'max_depth': 7, 'n_estimators': 200}\n",
      "Performance: R² = 0.9989, MAE = 10173.05, MAPE = 6687.93%\n",
      "q-score: 125.55\n",
      "Prediction time: 6.1469 μs/sample\n",
      "I/O: Reads=0.000000, Writes=0.000000\n",
      "--------------------------------------------------------------------------------\n",
      "\n",
      "Training with sample size: 500000\n",
      "Memory usage: 819.33 MB\n",
      "Using best parameters from max scale: {'learning_rate': 0.1, 'max_depth': 7, 'n_estimators': 200}\n",
      "Training XGBoost model...\n"
     ]
    },
    {
     "name": "stdout",
     "output_type": "stream",
     "text": [
      "Making predictions...\n"
     ]
    },
    {
     "name": "stdout",
     "output_type": "stream",
     "text": [
      "Calculating performance metrics...\n",
      "Measuring prediction performance...\n"
     ]
    },
    {
     "name": "stdout",
     "output_type": "stream",
     "text": [
      "Saving model...\n",
      "Model size: 596.42 KB\n",
      "\n",
      "Results for powerthingnodesorted, Sample Size: 500000\n",
      "Grid Search Time: 0.00s, Training Time: 28.64s\n",
      "XGBoost Parameters: {'learning_rate': 0.1, 'max_depth': 7, 'n_estimators': 200}\n",
      "Performance: R² = 0.9988, MAE = 10477.23, MAPE = 6494.05%\n",
      "q-score: 122.15\n",
      "Prediction time: 6.9711 μs/sample\n",
      "I/O: Reads=0.000000, Writes=0.000000\n",
      "--------------------------------------------------------------------------------\n",
      "\n",
      "Training with sample size: 100000\n",
      "Memory usage: 819.33 MB\n",
      "Using best parameters from max scale: {'learning_rate': 0.1, 'max_depth': 7, 'n_estimators': 200}\n",
      "Training XGBoost model...\n"
     ]
    },
    {
     "name": "stdout",
     "output_type": "stream",
     "text": [
      "Making predictions...\n"
     ]
    },
    {
     "name": "stdout",
     "output_type": "stream",
     "text": [
      "Calculating performance metrics...\n",
      "Measuring prediction performance...\n"
     ]
    },
    {
     "name": "stdout",
     "output_type": "stream",
     "text": [
      "Saving model...\n",
      "Model size: 574.21 KB\n",
      "\n",
      "Results for powerthingnodesorted, Sample Size: 100000\n",
      "Grid Search Time: 0.00s, Training Time: 13.70s\n",
      "XGBoost Parameters: {'learning_rate': 0.1, 'max_depth': 7, 'n_estimators': 200}\n",
      "Performance: R² = 0.9976, MAE = 13136.91, MAPE = 7190.40%\n",
      "q-score: 134.98\n",
      "Prediction time: 7.5920 μs/sample\n",
      "I/O: Reads=0.000000, Writes=0.000000\n",
      "--------------------------------------------------------------------------------\n",
      "\n",
      "Training with sample size: 50000\n",
      "Memory usage: 819.33 MB\n",
      "Using best parameters from max scale: {'learning_rate': 0.1, 'max_depth': 7, 'n_estimators': 200}\n",
      "Training XGBoost model...\n"
     ]
    },
    {
     "name": "stdout",
     "output_type": "stream",
     "text": [
      "Making predictions...\n"
     ]
    },
    {
     "name": "stdout",
     "output_type": "stream",
     "text": [
      "Calculating performance metrics...\n",
      "Measuring prediction performance...\n"
     ]
    },
    {
     "name": "stdout",
     "output_type": "stream",
     "text": [
      "Saving model...\n",
      "Model size: 550.67 KB\n",
      "\n",
      "Results for powerthingnodesorted, Sample Size: 50000\n",
      "Grid Search Time: 0.00s, Training Time: 12.62s\n",
      "XGBoost Parameters: {'learning_rate': 0.1, 'max_depth': 7, 'n_estimators': 200}\n",
      "Performance: R² = 0.9965, MAE = 15501.56, MAPE = 7885.12%\n",
      "q-score: 147.07\n",
      "Prediction time: 7.9921 μs/sample\n",
      "I/O: Reads=0.000000, Writes=0.000000\n",
      "--------------------------------------------------------------------------------\n",
      "\n",
      "Training with sample size: 10000\n",
      "Memory usage: 819.33 MB\n",
      "Using best parameters from max scale: {'learning_rate': 0.1, 'max_depth': 7, 'n_estimators': 200}\n",
      "Training XGBoost model...\n"
     ]
    },
    {
     "name": "stdout",
     "output_type": "stream",
     "text": [
      "Making predictions...\n"
     ]
    },
    {
     "name": "stdout",
     "output_type": "stream",
     "text": [
      "Calculating performance metrics...\n",
      "Measuring prediction performance...\n"
     ]
    },
    {
     "name": "stdout",
     "output_type": "stream",
     "text": [
      "Saving model...\n",
      "Model size: 483.62 KB\n",
      "\n",
      "Results for powerthingnodesorted, Sample Size: 10000\n",
      "Grid Search Time: 0.00s, Training Time: 8.60s\n",
      "XGBoost Parameters: {'learning_rate': 0.1, 'max_depth': 7, 'n_estimators': 200}\n",
      "Performance: R² = 0.9855, MAE = 27938.78, MAPE = 14953.49%\n",
      "q-score: 275.86\n",
      "Prediction time: 9.3764 μs/sample\n",
      "I/O: Reads=0.000000, Writes=0.000027\n",
      "--------------------------------------------------------------------------------\n",
      "\n",
      "Training with sample size: 5000\n",
      "Memory usage: 819.33 MB\n",
      "Using best parameters from max scale: {'learning_rate': 0.1, 'max_depth': 7, 'n_estimators': 200}\n",
      "Training XGBoost model...\n"
     ]
    },
    {
     "name": "stdout",
     "output_type": "stream",
     "text": [
      "Making predictions...\n"
     ]
    },
    {
     "name": "stdout",
     "output_type": "stream",
     "text": [
      "Calculating performance metrics...\n",
      "Measuring prediction performance...\n"
     ]
    },
    {
     "name": "stdout",
     "output_type": "stream",
     "text": [
      "Saving model...\n",
      "Model size: 446.28 KB\n",
      "\n",
      "Results for powerthingnodesorted, Sample Size: 5000\n",
      "Grid Search Time: 0.00s, Training Time: 8.12s\n",
      "XGBoost Parameters: {'learning_rate': 0.1, 'max_depth': 7, 'n_estimators': 200}\n",
      "Performance: R² = 0.9713, MAE = 38384.05, MAPE = 19077.45%\n",
      "q-score: 345.83\n",
      "Prediction time: 6.5921 μs/sample\n",
      "I/O: Reads=0.000000, Writes=0.000005\n",
      "--------------------------------------------------------------------------------\n",
      "\n",
      "Training with sample size: 1000\n",
      "Memory usage: 819.33 MB\n",
      "Using best parameters from max scale: {'learning_rate': 0.1, 'max_depth': 7, 'n_estimators': 200}\n",
      "Training XGBoost model...\n"
     ]
    },
    {
     "name": "stdout",
     "output_type": "stream",
     "text": [
      "Making predictions...\n"
     ]
    },
    {
     "name": "stdout",
     "output_type": "stream",
     "text": [
      "Calculating performance metrics...\n",
      "Measuring prediction performance...\n"
     ]
    },
    {
     "name": "stdout",
     "output_type": "stream",
     "text": [
      "Saving model...\n",
      "Model size: 278.48 KB\n",
      "\n",
      "Results for powerthingnodesorted, Sample Size: 1000\n",
      "Grid Search Time: 0.00s, Training Time: 6.13s\n",
      "XGBoost Parameters: {'learning_rate': 0.1, 'max_depth': 7, 'n_estimators': 200}\n",
      "Performance: R² = 0.7750, MAE = 96788.19, MAPE = 57406.75%\n",
      "q-score: 1017.06\n",
      "Prediction time: 7.8502 μs/sample\n",
      "I/O: Reads=0.000000, Writes=0.000000\n",
      "--------------------------------------------------------------------------------\n",
      "Saving results for powerthingnodesorted...\n"
     ]
    },
    {
     "name": "stdout",
     "output_type": "stream",
     "text": [
      "Memory usage: 768.15 MB\n",
      "\n",
      "Processing dataset: emergencythingwaysorted\n",
      "Universe boundaries for emergencythingwaysorted: (-175.221337, -53.7941359, 179.3313189, 78.22019230000001)\n",
      "Loading data from ../large_files/resultsContains/emergencythingwaysorted_results.csv\n"
     ]
    },
    {
     "name": "stdout",
     "output_type": "stream",
     "text": [
      "Parsing MBR coordinates...\n"
     ]
    },
    {
     "name": "stdout",
     "output_type": "stream",
     "text": [
      "\n",
      "Basic statistics for emergencythingwaysorted dataset:\n",
      "Max count: 807533.0\n",
      "Min count: 0.0\n",
      "Mean count: 13253.75\n",
      "Median count: 15.00\n",
      "Total samples: 161514\n",
      "\n",
      "Calculating rectangle densities...\n",
      "Splitting data into train and test sets...\n",
      "Training set size: 129211\n",
      "\n",
      "Training with sample size: 129211\n",
      "Memory usage: 771.14 MB\n",
      "Performing grid search for optimal parameters...\n",
      "Fitting 3 folds for each of 27 candidates, totalling 81 fits\n"
     ]
    },
    {
     "name": "stdout",
     "output_type": "stream",
     "text": [
      "Grid search complete in 487.49s\n",
      "Best parameters: {'learning_rate': 0.1, 'max_depth': 7, 'n_estimators': 200}\n",
      "Training XGBoost model...\n"
     ]
    },
    {
     "name": "stdout",
     "output_type": "stream",
     "text": [
      "Making predictions...\n",
      "Calculating performance metrics...\n",
      "Measuring prediction performance...\n",
      "Saving model...\n",
      "Model size: 569.04 KB\n",
      "\n",
      "Results for emergencythingwaysorted, Sample Size: 129211\n",
      "Grid Search Time: 487.49s, Training Time: 16.42s\n",
      "XGBoost Parameters: {'learning_rate': 0.1, 'max_depth': 7, 'n_estimators': 200}\n",
      "Performance: R² = 0.9982, MAE = 750.95, MAPE = 280.20%\n",
      "q-score: 6.60\n",
      "Prediction time: 9.6184 μs/sample\n",
      "I/O: Reads=0.000000, Writes=0.000000\n",
      "--------------------------------------------------------------------------------\n",
      "Generating prediction scatter plot...\n"
     ]
    },
    {
     "name": "stdout",
     "output_type": "stream",
     "text": [
      "Generating feature importance plot...\n",
      "Generating side-by-side comparison plot...\n"
     ]
    },
    {
     "name": "stdout",
     "output_type": "stream",
     "text": [
      "\n",
      "Training with sample size: 100000\n",
      "Memory usage: 770.15 MB\n",
      "Using best parameters from max scale: {'learning_rate': 0.1, 'max_depth': 7, 'n_estimators': 200}\n",
      "Training XGBoost model...\n"
     ]
    },
    {
     "name": "stdout",
     "output_type": "stream",
     "text": [
      "Making predictions...\n",
      "Calculating performance metrics...\n",
      "Measuring prediction performance...\n",
      "Saving model...\n",
      "Model size: 551.98 KB\n",
      "\n",
      "Results for emergencythingwaysorted, Sample Size: 100000\n",
      "Grid Search Time: 0.00s, Training Time: 14.54s\n",
      "XGBoost Parameters: {'learning_rate': 0.1, 'max_depth': 7, 'n_estimators': 200}\n",
      "Performance: R² = 0.9979, MAE = 807.89, MAPE = 273.11%\n",
      "q-score: 9.30\n",
      "Prediction time: 9.5046 μs/sample\n",
      "I/O: Reads=0.000000, Writes=0.000000\n",
      "--------------------------------------------------------------------------------\n"
     ]
    },
    {
     "name": "stdout",
     "output_type": "stream",
     "text": [
      "\n",
      "Training with sample size: 50000\n",
      "Memory usage: 770.15 MB\n",
      "Using best parameters from max scale: {'learning_rate': 0.1, 'max_depth': 7, 'n_estimators': 200}\n",
      "Training XGBoost model...\n"
     ]
    },
    {
     "name": "stdout",
     "output_type": "stream",
     "text": [
      "Making predictions...\n",
      "Calculating performance metrics...\n",
      "Measuring prediction performance...\n",
      "Saving model...\n",
      "Model size: 529.44 KB\n",
      "\n",
      "Results for emergencythingwaysorted, Sample Size: 50000\n",
      "Grid Search Time: 0.00s, Training Time: 12.46s\n",
      "XGBoost Parameters: {'learning_rate': 0.1, 'max_depth': 7, 'n_estimators': 200}\n",
      "Performance: R² = 0.9961, MAE = 1037.51, MAPE = 342.59%\n",
      "q-score: 7.93\n",
      "Prediction time: 9.0839 μs/sample\n",
      "I/O: Reads=0.000000, Writes=0.000000\n",
      "--------------------------------------------------------------------------------\n"
     ]
    },
    {
     "name": "stdout",
     "output_type": "stream",
     "text": [
      "\n",
      "Training with sample size: 10000\n",
      "Memory usage: 770.15 MB\n",
      "Using best parameters from max scale: {'learning_rate': 0.1, 'max_depth': 7, 'n_estimators': 200}\n",
      "Training XGBoost model...\n"
     ]
    },
    {
     "name": "stdout",
     "output_type": "stream",
     "text": [
      "Making predictions...\n",
      "Calculating performance metrics...\n",
      "Measuring prediction performance...\n",
      "Saving model...\n",
      "Model size: 452.69 KB\n",
      "\n",
      "Results for emergencythingwaysorted, Sample Size: 10000\n",
      "Grid Search Time: 0.00s, Training Time: 9.53s\n",
      "XGBoost Parameters: {'learning_rate': 0.1, 'max_depth': 7, 'n_estimators': 200}\n",
      "Performance: R² = 0.9894, MAE = 1742.26, MAPE = 476.16%\n",
      "q-score: 9.73\n",
      "Prediction time: 7.5768 μs/sample\n",
      "I/O: Reads=0.000000, Writes=0.000000\n",
      "--------------------------------------------------------------------------------\n"
     ]
    },
    {
     "name": "stdout",
     "output_type": "stream",
     "text": [
      "\n",
      "Training with sample size: 5000\n",
      "Memory usage: 770.15 MB\n",
      "Using best parameters from max scale: {'learning_rate': 0.1, 'max_depth': 7, 'n_estimators': 200}\n",
      "Training XGBoost model...\n"
     ]
    },
    {
     "name": "stdout",
     "output_type": "stream",
     "text": [
      "Making predictions...\n",
      "Calculating performance metrics...\n",
      "Measuring prediction performance...\n",
      "Saving model...\n",
      "Model size: 411.88 KB\n",
      "\n",
      "Results for emergencythingwaysorted, Sample Size: 5000\n",
      "Grid Search Time: 0.00s, Training Time: 7.57s\n",
      "XGBoost Parameters: {'learning_rate': 0.1, 'max_depth': 7, 'n_estimators': 200}\n",
      "Performance: R² = 0.9800, MAE = 2407.64, MAPE = 640.25%\n",
      "q-score: 12.54\n",
      "Prediction time: 7.2951 μs/sample\n",
      "I/O: Reads=0.000000, Writes=0.000000\n",
      "--------------------------------------------------------------------------------\n"
     ]
    },
    {
     "name": "stdout",
     "output_type": "stream",
     "text": [
      "\n",
      "Training with sample size: 1000\n",
      "Memory usage: 770.15 MB\n",
      "Using best parameters from max scale: {'learning_rate': 0.1, 'max_depth': 7, 'n_estimators': 200}\n",
      "Training XGBoost model...\n"
     ]
    },
    {
     "name": "stdout",
     "output_type": "stream",
     "text": [
      "Making predictions...\n",
      "Calculating performance metrics...\n",
      "Measuring prediction performance...\n",
      "Saving model...\n",
      "Model size: 278.81 KB\n",
      "\n",
      "Results for emergencythingwaysorted, Sample Size: 1000\n",
      "Grid Search Time: 0.00s, Training Time: 6.13s\n",
      "XGBoost Parameters: {'learning_rate': 0.1, 'max_depth': 7, 'n_estimators': 200}\n",
      "Performance: R² = 0.7248, MAE = 7758.86, MAPE = 2612.27%\n",
      "q-score: 47.00\n",
      "Prediction time: 9.2294 μs/sample\n",
      "I/O: Reads=0.000000, Writes=0.000000\n",
      "--------------------------------------------------------------------------------\n"
     ]
    },
    {
     "name": "stdout",
     "output_type": "stream",
     "text": [
      "Saving results for emergencythingwaysorted...\n",
      "Memory usage: 770.15 MB\n",
      "\n",
      "Processing dataset: historicthingwaysorted\n",
      "Universe boundaries for historicthingwaysorted: (-179.99526020000002, -85.0036942, 179.99597930000002, 78.06750650000001)\n",
      "Loading data from ../large_files/resultsContains/historicthingwaysorted_results.csv\n"
     ]
    },
    {
     "name": "stdout",
     "output_type": "stream",
     "text": [
      "Parsing MBR coordinates...\n"
     ]
    },
    {
     "name": "stdout",
     "output_type": "stream",
     "text": [
      "\n",
      "Basic statistics for historicthingwaysorted dataset:\n",
      "Max count: 1792176.0\n",
      "Min count: 0.0\n",
      "Mean count: 29764.89\n",
      "Median count: 16.00\n",
      "Total samples: 358439\n",
      "\n",
      "Calculating rectangle densities...\n",
      "Splitting data into train and test sets...\n",
      "Training set size: 286751\n",
      "\n",
      "Training with sample size: 286751\n",
      "Memory usage: 772.15 MB\n",
      "Performing grid search for optimal parameters...\n",
      "Fitting 3 folds for each of 27 candidates, totalling 81 fits\n"
     ]
    },
    {
     "name": "stdout",
     "output_type": "stream",
     "text": [
      "Grid search complete in 679.30s\n",
      "Best parameters: {'learning_rate': 0.1, 'max_depth': 7, 'n_estimators': 200}\n",
      "Training XGBoost model...\n"
     ]
    },
    {
     "name": "stdout",
     "output_type": "stream",
     "text": [
      "Making predictions...\n",
      "Calculating performance metrics...\n",
      "Measuring prediction performance...\n"
     ]
    },
    {
     "name": "stdout",
     "output_type": "stream",
     "text": [
      "Saving model...\n",
      "Model size: 580.40 KB\n",
      "\n",
      "Results for historicthingwaysorted, Sample Size: 286751\n",
      "Grid Search Time: 679.30s, Training Time: 21.16s\n",
      "XGBoost Parameters: {'learning_rate': 0.1, 'max_depth': 7, 'n_estimators': 200}\n",
      "Performance: R² = 0.9992, MAE = 1240.60, MAPE = 254.18%\n",
      "q-score: 6.06\n",
      "Prediction time: 8.1320 μs/sample\n",
      "I/O: Reads=0.000000, Writes=0.000004\n",
      "--------------------------------------------------------------------------------\n",
      "Generating prediction scatter plot...\n"
     ]
    },
    {
     "name": "stdout",
     "output_type": "stream",
     "text": [
      "Generating feature importance plot...\n",
      "Generating side-by-side comparison plot...\n"
     ]
    },
    {
     "name": "stdout",
     "output_type": "stream",
     "text": [
      "\n",
      "Training with sample size: 100000\n",
      "Memory usage: 771.16 MB\n",
      "Using best parameters from max scale: {'learning_rate': 0.1, 'max_depth': 7, 'n_estimators': 200}\n",
      "Training XGBoost model...\n"
     ]
    },
    {
     "name": "stdout",
     "output_type": "stream",
     "text": [
      "Making predictions...\n",
      "Calculating performance metrics...\n",
      "Measuring prediction performance...\n"
     ]
    },
    {
     "name": "stdout",
     "output_type": "stream",
     "text": [
      "Saving model...\n",
      "Model size: 561.17 KB\n",
      "\n",
      "Results for historicthingwaysorted, Sample Size: 100000\n",
      "Grid Search Time: 0.00s, Training Time: 13.83s\n",
      "XGBoost Parameters: {'learning_rate': 0.1, 'max_depth': 7, 'n_estimators': 200}\n",
      "Performance: R² = 0.9987, MAE = 1483.12, MAPE = 276.82%\n",
      "q-score: 6.67\n",
      "Prediction time: 7.8104 μs/sample\n",
      "I/O: Reads=0.000000, Writes=0.000000\n",
      "--------------------------------------------------------------------------------\n",
      "\n",
      "Training with sample size: 50000\n",
      "Memory usage: 771.16 MB\n",
      "Using best parameters from max scale: {'learning_rate': 0.1, 'max_depth': 7, 'n_estimators': 200}\n",
      "Training XGBoost model...\n"
     ]
    },
    {
     "name": "stdout",
     "output_type": "stream",
     "text": [
      "Making predictions...\n",
      "Calculating performance metrics...\n",
      "Measuring prediction performance...\n"
     ]
    },
    {
     "name": "stdout",
     "output_type": "stream",
     "text": [
      "Saving model...\n",
      "Model size: 532.47 KB\n",
      "\n",
      "Results for historicthingwaysorted, Sample Size: 50000\n",
      "Grid Search Time: 0.00s, Training Time: 11.16s\n",
      "XGBoost Parameters: {'learning_rate': 0.1, 'max_depth': 7, 'n_estimators': 200}\n",
      "Performance: R² = 0.9979, MAE = 1804.01, MAPE = 305.67%\n",
      "q-score: 21.05\n",
      "Prediction time: 7.7001 μs/sample\n",
      "I/O: Reads=0.000000, Writes=0.000000\n",
      "--------------------------------------------------------------------------------\n",
      "\n",
      "Training with sample size: 10000\n",
      "Memory usage: 771.16 MB\n",
      "Using best parameters from max scale: {'learning_rate': 0.1, 'max_depth': 7, 'n_estimators': 200}\n",
      "Training XGBoost model...\n"
     ]
    },
    {
     "name": "stdout",
     "output_type": "stream",
     "text": [
      "Making predictions...\n",
      "Calculating performance metrics...\n",
      "Measuring prediction performance...\n"
     ]
    },
    {
     "name": "stdout",
     "output_type": "stream",
     "text": [
      "Saving model...\n",
      "Model size: 464.04 KB\n",
      "\n",
      "Results for historicthingwaysorted, Sample Size: 10000\n",
      "Grid Search Time: 0.00s, Training Time: 9.05s\n",
      "XGBoost Parameters: {'learning_rate': 0.1, 'max_depth': 7, 'n_estimators': 200}\n",
      "Performance: R² = 0.9930, MAE = 3079.65, MAPE = 451.30%\n",
      "q-score: 9.06\n",
      "Prediction time: 8.4527 μs/sample\n",
      "I/O: Reads=0.000000, Writes=0.000000\n",
      "--------------------------------------------------------------------------------\n",
      "\n",
      "Training with sample size: 5000\n",
      "Memory usage: 771.16 MB\n",
      "Using best parameters from max scale: {'learning_rate': 0.1, 'max_depth': 7, 'n_estimators': 200}\n",
      "Training XGBoost model...\n"
     ]
    },
    {
     "name": "stdout",
     "output_type": "stream",
     "text": [
      "Making predictions...\n",
      "Calculating performance metrics...\n",
      "Measuring prediction performance...\n"
     ]
    },
    {
     "name": "stdout",
     "output_type": "stream",
     "text": [
      "Saving model...\n",
      "Model size: 426.02 KB\n",
      "\n",
      "Results for historicthingwaysorted, Sample Size: 5000\n",
      "Grid Search Time: 0.00s, Training Time: 7.66s\n",
      "XGBoost Parameters: {'learning_rate': 0.1, 'max_depth': 7, 'n_estimators': 200}\n",
      "Performance: R² = 0.9796, MAE = 4957.88, MAPE = 601.77%\n",
      "q-score: 12.57\n",
      "Prediction time: 8.2440 μs/sample\n",
      "I/O: Reads=0.000000, Writes=0.000000\n",
      "--------------------------------------------------------------------------------\n",
      "\n",
      "Training with sample size: 1000\n",
      "Memory usage: 771.16 MB\n",
      "Using best parameters from max scale: {'learning_rate': 0.1, 'max_depth': 7, 'n_estimators': 200}\n",
      "Training XGBoost model...\n"
     ]
    },
    {
     "name": "stdout",
     "output_type": "stream",
     "text": [
      "Making predictions...\n",
      "Calculating performance metrics...\n",
      "Measuring prediction performance...\n"
     ]
    },
    {
     "name": "stdout",
     "output_type": "stream",
     "text": [
      "Saving model...\n",
      "Model size: 253.79 KB\n",
      "\n",
      "Results for historicthingwaysorted, Sample Size: 1000\n",
      "Grid Search Time: 0.00s, Training Time: 6.08s\n",
      "XGBoost Parameters: {'learning_rate': 0.1, 'max_depth': 7, 'n_estimators': 200}\n",
      "Performance: R² = 0.9180, MAE = 10285.15, MAPE = 1658.37%\n",
      "q-score: 29.28\n",
      "Prediction time: 11.9484 μs/sample\n",
      "I/O: Reads=0.000000, Writes=0.000000\n",
      "--------------------------------------------------------------------------------\n",
      "Saving results for historicthingwaysorted...\n"
     ]
    },
    {
     "name": "stdout",
     "output_type": "stream",
     "text": [
      "Memory usage: 771.16 MB\n",
      "\n",
      "Processing dataset: aerowaythingwaysorted\n",
      "Universe boundaries for aerowaythingwaysorted: (-179.88131460000002, -79.7773063, 179.426138, 85.05258450000001)\n",
      "Loading data from ../large_files/resultsContains/aerowaythingwaysorted_results.csv\n"
     ]
    },
    {
     "name": "stdout",
     "output_type": "stream",
     "text": [
      "Parsing MBR coordinates...\n"
     ]
    },
    {
     "name": "stdout",
     "output_type": "stream",
     "text": [
      "\n",
      "Basic statistics for aerowaythingwaysorted dataset:\n",
      "Max count: 1841551.0\n",
      "Min count: 0.0\n",
      "Mean count: 32184.18\n",
      "Median count: 226.00\n",
      "Total samples: 368365\n",
      "\n",
      "Calculating rectangle densities...\n",
      "Splitting data into train and test sets...\n",
      "Training set size: 294692\n",
      "\n",
      "Training with sample size: 294692\n",
      "Memory usage: 773.15 MB\n",
      "Performing grid search for optimal parameters...\n",
      "Fitting 3 folds for each of 27 candidates, totalling 81 fits\n"
     ]
    },
    {
     "name": "stdout",
     "output_type": "stream",
     "text": [
      "Grid search complete in 719.80s\n",
      "Best parameters: {'learning_rate': 0.1, 'max_depth': 7, 'n_estimators': 200}\n",
      "Training XGBoost model...\n"
     ]
    },
    {
     "name": "stdout",
     "output_type": "stream",
     "text": [
      "Making predictions...\n",
      "Calculating performance metrics...\n",
      "Measuring prediction performance...\n"
     ]
    },
    {
     "name": "stdout",
     "output_type": "stream",
     "text": [
      "Saving model...\n",
      "Model size: 591.11 KB\n",
      "\n",
      "Results for aerowaythingwaysorted, Sample Size: 294692\n",
      "Grid Search Time: 719.80s, Training Time: 22.03s\n",
      "XGBoost Parameters: {'learning_rate': 0.1, 'max_depth': 7, 'n_estimators': 200}\n",
      "Performance: R² = 0.9985, MAE = 2125.41, MAPE = 495.84%\n",
      "q-score: 8.71\n",
      "Prediction time: 9.7031 μs/sample\n",
      "I/O: Reads=0.000077, Writes=0.000000\n",
      "--------------------------------------------------------------------------------\n",
      "Generating prediction scatter plot...\n"
     ]
    },
    {
     "name": "stdout",
     "output_type": "stream",
     "text": [
      "Generating feature importance plot...\n",
      "Generating side-by-side comparison plot...\n"
     ]
    },
    {
     "name": "stdout",
     "output_type": "stream",
     "text": [
      "\n",
      "Training with sample size: 100000\n",
      "Memory usage: 772.17 MB\n",
      "Using best parameters from max scale: {'learning_rate': 0.1, 'max_depth': 7, 'n_estimators': 200}\n",
      "Training XGBoost model...\n"
     ]
    },
    {
     "name": "stdout",
     "output_type": "stream",
     "text": [
      "Making predictions...\n",
      "Calculating performance metrics...\n",
      "Measuring prediction performance...\n"
     ]
    },
    {
     "name": "stdout",
     "output_type": "stream",
     "text": [
      "Saving model...\n",
      "Model size: 567.63 KB\n",
      "\n",
      "Results for aerowaythingwaysorted, Sample Size: 100000\n",
      "Grid Search Time: 0.00s, Training Time: 13.81s\n",
      "XGBoost Parameters: {'learning_rate': 0.1, 'max_depth': 7, 'n_estimators': 200}\n",
      "Performance: R² = 0.9979, MAE = 2433.56, MAPE = 522.08%\n",
      "q-score: 8.97\n",
      "Prediction time: 8.8402 μs/sample\n",
      "I/O: Reads=0.000000, Writes=0.000000\n",
      "--------------------------------------------------------------------------------\n",
      "\n",
      "Training with sample size: 50000\n",
      "Memory usage: 772.17 MB\n",
      "Using best parameters from max scale: {'learning_rate': 0.1, 'max_depth': 7, 'n_estimators': 200}\n",
      "Training XGBoost model...\n"
     ]
    },
    {
     "name": "stdout",
     "output_type": "stream",
     "text": [
      "Making predictions...\n",
      "Calculating performance metrics...\n",
      "Measuring prediction performance...\n"
     ]
    },
    {
     "name": "stdout",
     "output_type": "stream",
     "text": [
      "Saving model...\n",
      "Model size: 557.97 KB\n",
      "\n",
      "Results for aerowaythingwaysorted, Sample Size: 50000\n",
      "Grid Search Time: 0.00s, Training Time: 11.36s\n",
      "XGBoost Parameters: {'learning_rate': 0.1, 'max_depth': 7, 'n_estimators': 200}\n",
      "Performance: R² = 0.9970, MAE = 2830.81, MAPE = 575.03%\n",
      "q-score: 9.59\n",
      "Prediction time: 10.8941 μs/sample\n",
      "I/O: Reads=0.000000, Writes=0.000000\n",
      "--------------------------------------------------------------------------------\n",
      "\n",
      "Training with sample size: 10000\n",
      "Memory usage: 772.17 MB\n",
      "Using best parameters from max scale: {'learning_rate': 0.1, 'max_depth': 7, 'n_estimators': 200}\n",
      "Training XGBoost model...\n"
     ]
    },
    {
     "name": "stdout",
     "output_type": "stream",
     "text": [
      "Making predictions...\n",
      "Calculating performance metrics...\n",
      "Measuring prediction performance...\n"
     ]
    },
    {
     "name": "stdout",
     "output_type": "stream",
     "text": [
      "Saving model...\n",
      "Model size: 476.99 KB\n",
      "\n",
      "Results for aerowaythingwaysorted, Sample Size: 10000\n",
      "Grid Search Time: 0.00s, Training Time: 8.38s\n",
      "XGBoost Parameters: {'learning_rate': 0.1, 'max_depth': 7, 'n_estimators': 200}\n",
      "Performance: R² = 0.9872, MAE = 5128.01, MAPE = 838.44%\n",
      "q-score: 13.21\n",
      "Prediction time: 8.8362 μs/sample\n",
      "I/O: Reads=0.000000, Writes=0.000000\n",
      "--------------------------------------------------------------------------------\n",
      "\n",
      "Training with sample size: 5000\n",
      "Memory usage: 772.17 MB\n",
      "Using best parameters from max scale: {'learning_rate': 0.1, 'max_depth': 7, 'n_estimators': 200}\n",
      "Training XGBoost model...\n"
     ]
    },
    {
     "name": "stdout",
     "output_type": "stream",
     "text": [
      "Making predictions...\n",
      "Calculating performance metrics...\n",
      "Measuring prediction performance...\n"
     ]
    },
    {
     "name": "stdout",
     "output_type": "stream",
     "text": [
      "Saving model...\n",
      "Model size: 433.91 KB\n",
      "\n",
      "Results for aerowaythingwaysorted, Sample Size: 5000\n",
      "Grid Search Time: 0.00s, Training Time: 7.66s\n",
      "XGBoost Parameters: {'learning_rate': 0.1, 'max_depth': 7, 'n_estimators': 200}\n",
      "Performance: R² = 0.9720, MAE = 7160.35, MAPE = 1212.79%\n",
      "q-score: 18.28\n",
      "Prediction time: 8.8282 μs/sample\n",
      "I/O: Reads=0.000000, Writes=0.000000\n",
      "--------------------------------------------------------------------------------\n",
      "\n",
      "Training with sample size: 1000\n",
      "Memory usage: 772.17 MB\n",
      "Using best parameters from max scale: {'learning_rate': 0.1, 'max_depth': 7, 'n_estimators': 200}\n",
      "Training XGBoost model...\n"
     ]
    },
    {
     "name": "stdout",
     "output_type": "stream",
     "text": [
      "Making predictions...\n",
      "Calculating performance metrics...\n",
      "Measuring prediction performance...\n"
     ]
    },
    {
     "name": "stdout",
     "output_type": "stream",
     "text": [
      "Saving model...\n",
      "Model size: 266.60 KB\n",
      "\n",
      "Results for aerowaythingwaysorted, Sample Size: 1000\n",
      "Grid Search Time: 0.00s, Training Time: 6.01s\n",
      "XGBoost Parameters: {'learning_rate': 0.1, 'max_depth': 7, 'n_estimators': 200}\n",
      "Performance: R² = 0.8554, MAE = 16003.09, MAPE = 3922.60%\n",
      "q-score: 54.87\n",
      "Prediction time: 8.8901 μs/sample\n",
      "I/O: Reads=0.000000, Writes=0.000000\n",
      "--------------------------------------------------------------------------------\n",
      "Saving results for aerowaythingwaysorted...\n"
     ]
    },
    {
     "name": "stdout",
     "output_type": "stream",
     "text": [
      "Memory usage: 772.17 MB\n",
      "\n",
      "Processing dataset: arealm\n",
      "Universe boundaries for arealm: (-179.147236, -14.548699, 179.77847, 71.359879)\n",
      "Loading data from ../large_files/resultsContains/arealm_results.csv\n",
      "Parsing MBR coordinates...\n"
     ]
    },
    {
     "name": "stdout",
     "output_type": "stream",
     "text": [
      "\n",
      "Basic statistics for arealm dataset:\n",
      "Max count: 129097.0\n",
      "Min count: 0.0\n",
      "Mean count: 2282.26\n",
      "Median count: 0.00\n",
      "Total samples: 25833\n",
      "\n",
      "Calculating rectangle densities...\n",
      "Splitting data into train and test sets...\n",
      "Training set size: 20666\n",
      "\n",
      "Training with sample size: 20666\n",
      "Memory usage: 773.15 MB\n",
      "Performing grid search for optimal parameters...\n",
      "Fitting 3 folds for each of 27 candidates, totalling 81 fits\n"
     ]
    },
    {
     "name": "stdout",
     "output_type": "stream",
     "text": [
      "Grid search complete in 258.93s\n",
      "Best parameters: {'learning_rate': 0.1, 'max_depth': 7, 'n_estimators': 200}\n",
      "Training XGBoost model...\n"
     ]
    },
    {
     "name": "stdout",
     "output_type": "stream",
     "text": [
      "Making predictions...\n",
      "Calculating performance metrics...\n",
      "Measuring prediction performance...\n",
      "Saving model...\n",
      "Model size: 476.78 KB\n",
      "\n",
      "Results for arealm, Sample Size: 20666\n",
      "Grid Search Time: 258.93s, Training Time: 9.13s\n",
      "XGBoost Parameters: {'learning_rate': 0.1, 'max_depth': 7, 'n_estimators': 200}\n",
      "Performance: R² = 0.9952, MAE = 160.35, MAPE = 45.50%\n",
      "q-score: 3.99\n",
      "Prediction time: 9.9629 μs/sample\n",
      "I/O: Reads=0.000000, Writes=0.000000\n",
      "--------------------------------------------------------------------------------\n",
      "Generating prediction scatter plot...\n"
     ]
    },
    {
     "name": "stdout",
     "output_type": "stream",
     "text": [
      "Generating feature importance plot...\n",
      "Generating side-by-side comparison plot...\n"
     ]
    },
    {
     "name": "stdout",
     "output_type": "stream",
     "text": [
      "\n",
      "Training with sample size: 10000\n",
      "Memory usage: 773.15 MB\n",
      "Using best parameters from max scale: {'learning_rate': 0.1, 'max_depth': 7, 'n_estimators': 200}\n",
      "Training XGBoost model...\n"
     ]
    },
    {
     "name": "stdout",
     "output_type": "stream",
     "text": [
      "Making predictions...\n",
      "Calculating performance metrics...\n",
      "Measuring prediction performance...\n",
      "Saving model...\n",
      "Model size: 432.76 KB\n",
      "\n",
      "Results for arealm, Sample Size: 10000\n",
      "Grid Search Time: 0.00s, Training Time: 8.26s\n",
      "XGBoost Parameters: {'learning_rate': 0.1, 'max_depth': 7, 'n_estimators': 200}\n",
      "Performance: R² = 0.9892, MAE = 228.75, MAPE = 63.24%\n",
      "q-score: 4.56\n",
      "Prediction time: 13.8646 μs/sample\n",
      "I/O: Reads=0.000000, Writes=0.000000\n",
      "--------------------------------------------------------------------------------\n"
     ]
    },
    {
     "name": "stdout",
     "output_type": "stream",
     "text": [
      "\n",
      "Training with sample size: 5000\n",
      "Memory usage: 773.15 MB\n",
      "Using best parameters from max scale: {'learning_rate': 0.1, 'max_depth': 7, 'n_estimators': 200}\n",
      "Training XGBoost model...\n"
     ]
    },
    {
     "name": "stdout",
     "output_type": "stream",
     "text": [
      "Making predictions...\n",
      "Calculating performance metrics...\n",
      "Measuring prediction performance...\n",
      "Saving model...\n",
      "Model size: 392.24 KB\n",
      "\n",
      "Results for arealm, Sample Size: 5000\n",
      "Grid Search Time: 0.00s, Training Time: 7.60s\n",
      "XGBoost Parameters: {'learning_rate': 0.1, 'max_depth': 7, 'n_estimators': 200}\n",
      "Performance: R² = 0.9865, MAE = 262.22, MAPE = 68.75%\n",
      "q-score: 4.59\n",
      "Prediction time: 9.9513 μs/sample\n",
      "I/O: Reads=0.000000, Writes=0.000000\n",
      "--------------------------------------------------------------------------------\n"
     ]
    },
    {
     "name": "stdout",
     "output_type": "stream",
     "text": [
      "\n",
      "Training with sample size: 1000\n",
      "Memory usage: 773.15 MB\n",
      "Using best parameters from max scale: {'learning_rate': 0.1, 'max_depth': 7, 'n_estimators': 200}\n",
      "Training XGBoost model...\n"
     ]
    },
    {
     "name": "stdout",
     "output_type": "stream",
     "text": [
      "Making predictions...\n",
      "Calculating performance metrics...\n",
      "Measuring prediction performance...\n",
      "Saving model...\n",
      "Model size: 232.36 KB\n",
      "\n",
      "Results for arealm, Sample Size: 1000\n",
      "Grid Search Time: 0.00s, Training Time: 6.46s\n",
      "XGBoost Parameters: {'learning_rate': 0.1, 'max_depth': 7, 'n_estimators': 200}\n",
      "Performance: R² = 0.8750, MAE = 742.40, MAPE = 298.70%\n",
      "q-score: 26.67\n",
      "Prediction time: 17.1717 μs/sample\n",
      "I/O: Reads=0.000000, Writes=0.000000\n",
      "--------------------------------------------------------------------------------\n"
     ]
    },
    {
     "name": "stdout",
     "output_type": "stream",
     "text": [
      "Saving results for arealm...\n",
      "Saving combined results...\n",
      "All processing completed and results saved.\n",
      "Memory usage: 773.15 MB\n"
     ]
    },
    {
     "data": {
      "text/plain": [
       "<Figure size 1000x600 with 0 Axes>"
      ]
     },
     "metadata": {},
     "output_type": "display_data"
    },
    {
     "data": {
      "text/plain": [
       "<Figure size 1000x600 with 0 Axes>"
      ]
     },
     "metadata": {},
     "output_type": "display_data"
    },
    {
     "data": {
      "text/plain": [
       "<Figure size 1000x600 with 0 Axes>"
      ]
     },
     "metadata": {},
     "output_type": "display_data"
    },
    {
     "data": {
      "text/plain": [
       "<Figure size 1000x600 with 0 Axes>"
      ]
     },
     "metadata": {},
     "output_type": "display_data"
    },
    {
     "data": {
      "text/plain": [
       "<Figure size 1000x600 with 0 Axes>"
      ]
     },
     "metadata": {},
     "output_type": "display_data"
    },
    {
     "data": {
      "text/plain": [
       "<Figure size 1000x600 with 0 Axes>"
      ]
     },
     "metadata": {},
     "output_type": "display_data"
    },
    {
     "data": {
      "text/plain": [
       "<Figure size 1000x600 with 0 Axes>"
      ]
     },
     "metadata": {},
     "output_type": "display_data"
    },
    {
     "data": {
      "text/plain": [
       "<Figure size 1000x600 with 0 Axes>"
      ]
     },
     "metadata": {},
     "output_type": "display_data"
    },
    {
     "data": {
      "text/plain": [
       "<Figure size 1000x600 with 0 Axes>"
      ]
     },
     "metadata": {},
     "output_type": "display_data"
    },
    {
     "data": {
      "text/plain": [
       "<Figure size 1000x600 with 0 Axes>"
      ]
     },
     "metadata": {},
     "output_type": "display_data"
    },
    {
     "data": {
      "text/plain": [
       "<Figure size 1000x600 with 0 Axes>"
      ]
     },
     "metadata": {},
     "output_type": "display_data"
    },
    {
     "data": {
      "text/plain": [
       "<Figure size 1000x600 with 0 Axes>"
      ]
     },
     "metadata": {},
     "output_type": "display_data"
    },
    {
     "data": {
      "text/plain": [
       "<Figure size 1000x600 with 0 Axes>"
      ]
     },
     "metadata": {},
     "output_type": "display_data"
    },
    {
     "data": {
      "text/plain": [
       "<Figure size 1000x600 with 0 Axes>"
      ]
     },
     "metadata": {},
     "output_type": "display_data"
    }
   ],
   "source": [
    "import numpy as np\n",
    "import pandas as pd\n",
    "import matplotlib.pyplot as plt\n",
    "import matplotlib.patches as patches\n",
    "from time import process_time\n",
    "from sklearn.model_selection import train_test_split\n",
    "from sklearn.metrics import mean_absolute_error as MAE\n",
    "from sklearn.model_selection import GridSearchCV\n",
    "import xgboost as xgb\n",
    "import psutil\n",
    "import os\n",
    "import re\n",
    "import multiprocessing\n",
    "import joblib\n",
    "import gc\n",
    "from tqdm.notebook import tqdm  # Progress bars for Jupyter\n",
    "\n",
    "# Configuration options\n",
    "VISUALIZE_RECTANGLES = False  # Set to True if you want to visualize rectangles\n",
    "SAVE_INTERMEDIATE_MODELS = True  # Set to False to save only final models\n",
    "\n",
    "# Flag to control whether to use multiple scales or only the maximum scale\n",
    "use_multiple_scales = True  # Set to False to use only maximum scale, True for all scales\n",
    "\n",
    "# Get available CPU cores and set appropriate parallelism\n",
    "n_cores = multiprocessing.cpu_count()\n",
    "n_jobs = max(1, n_cores - 1)  # Leave one core free for system processes\n",
    "print(f\"Using {n_jobs} of {n_cores} available CPU cores\")\n",
    "\n",
    "def monitor_memory():\n",
    "    \"\"\"Print current memory usage of the process\"\"\"\n",
    "    process = psutil.Process()\n",
    "    memory_mb = process.memory_info().rss / (1024 * 1024)\n",
    "    print(f\"Memory usage: {memory_mb:.2f} MB\")\n",
    "\n",
    "def MAPE(actual_values, predicted_values):\n",
    "    \"\"\"Calculate Mean Absolute Percentage Error with special handling for zeros\"\"\"\n",
    "    # Vectorized implementation\n",
    "    actual_flat = actual_values.flatten()\n",
    "    pred_flat = predicted_values.flatten()\n",
    "    \n",
    "    # Create mask for non-zero actual values\n",
    "    non_zero_mask = actual_flat != 0\n",
    "    zero_mask = ~non_zero_mask\n",
    "    \n",
    "    # Calculate MAPE for non-zero elements\n",
    "    mape_sum = 0\n",
    "    count = len(actual_flat)\n",
    "    \n",
    "    if np.any(non_zero_mask):\n",
    "        mape_sum += np.sum(np.abs((actual_flat[non_zero_mask] - pred_flat[non_zero_mask]) / actual_flat[non_zero_mask]))\n",
    "    \n",
    "    if np.any(zero_mask):\n",
    "        mape_sum += np.sum(np.abs(actual_flat[zero_mask] - pred_flat[zero_mask]) / 100)\n",
    "    \n",
    "    return mape_sum / count\n",
    "\n",
    "# Load spatial statistics to get universe boundaries for each dataset\n",
    "print(\"Loading spatial statistics...\")\n",
    "spatial_stats = pd.read_csv('../spatial_statistics.csv')\n",
    "\n",
    "# Directory containing the datasets\n",
    "data_dir = '../large_files/resultsContains/'\n",
    "\n",
    "# Parse bounding box information\n",
    "def parse_bbox(bbox_str):\n",
    "    # Extract coordinates from BOX string using regex\n",
    "    pattern = r\"BOX\\(([-\\d\\.]+) ([-\\d\\.]+),([-\\d\\.]+) ([-\\d\\.]+)\\)\"\n",
    "    match = re.search(pattern, bbox_str)\n",
    "    if match:\n",
    "        xmin = float(match.group(1))\n",
    "        ymin = float(match.group(2))\n",
    "        xmax = float(match.group(3))\n",
    "        ymax = float(match.group(4))\n",
    "        return xmin, ymin, xmax, ymax\n",
    "    return -180, -90, 180, 90  # Default if parsing fails\n",
    "\n",
    "# Extract universe boundaries for each dataset\n",
    "universe_boundaries = {}\n",
    "for _, row in spatial_stats.iterrows():\n",
    "    table_name = row['Table Name']\n",
    "    bbox = parse_bbox(row['Universe Limits (Bounding Box)'])\n",
    "    universe_boundaries[table_name] = bbox\n",
    "\n",
    "# Get list of all CSV files in the directory\n",
    "print(\"Finding dataset files...\")\n",
    "csv_files = [f for f in os.listdir(data_dir) if f.endswith('.csv')]\n",
    "print(f\"Found {len(csv_files)} datasets to process\")\n",
    "\n",
    "# Define the scales of learning\n",
    "scales = [1000, 5000, 10000, 50000, 100000, 500000, 1000000]\n",
    "\n",
    "# Create necessary directories\n",
    "os.makedirs('../large_files/LearnedModels/contain/XGB', exist_ok=True)\n",
    "os.makedirs('../large_files/LearnedModels/contain/XGB/visualizations', exist_ok=True)\n",
    "os.makedirs('../large_files/LearnedModels/contain/XGB/results', exist_ok=True)\n",
    "\n",
    "# Lists to store all results\n",
    "all_results_list = []\n",
    "\n",
    "# Process each dataset\n",
    "for csv_file in tqdm(csv_files, desc=\"Processing datasets\"):\n",
    "    # Force garbage collection at the start of each dataset\n",
    "    gc.collect()\n",
    "    monitor_memory()\n",
    "    \n",
    "    # Extract dataset name (remove \"_results.csv\")\n",
    "    dataset_name = csv_file.replace('_results.csv', '')\n",
    "    \n",
    "    print(f\"\\nProcessing dataset: {dataset_name}\")\n",
    "    \n",
    "    # Get universe boundaries for this dataset\n",
    "    if dataset_name in universe_boundaries:\n",
    "        univ_xmin, univ_ymin, univ_xmax, univ_ymax = universe_boundaries[dataset_name]\n",
    "    else:\n",
    "        # Default values if dataset not found in spatial stats\n",
    "        univ_xmin, univ_ymin, univ_xmax, univ_ymax = -180, -90, 180, 90\n",
    "    \n",
    "    Surface_univ = (univ_xmax - univ_xmin) * (univ_ymax - univ_ymin)\n",
    "    print(f\"Universe boundaries for {dataset_name}: ({univ_xmin}, {univ_ymin}, {univ_xmax}, {univ_ymax})\")\n",
    "    \n",
    "    # Load dataset - only load required columns\n",
    "    data_path = os.path.join(data_dir, csv_file)\n",
    "    print(f\"Loading data from {data_path}\")\n",
    "    data = pd.read_csv(data_path, usecols=['Query MBR', 'Count MBR'])\n",
    "    \n",
    "    # Extract query MBR column (needs parsing as it's in string format)\n",
    "    def parse_mbr(mbr_str):\n",
    "        coords = mbr_str.strip('\"()').split(', ')\n",
    "        return [float(coord) for coord in coords]\n",
    "    \n",
    "    # Extract columns - use list comprehension for better performance\n",
    "    print(\"Parsing MBR coordinates...\")\n",
    "    Rectangles = np.array([parse_mbr(mbr) for mbr in data['Query MBR']])\n",
    "    Y = data[['Count MBR']].values  # Using Count MBR as target\n",
    "    \n",
    "    # Free up memory\n",
    "    del data\n",
    "    gc.collect()\n",
    "    \n",
    "    # Calculate basic statistics\n",
    "    max_count = float(np.max(Y))\n",
    "    min_count = float(np.min(Y))\n",
    "    mean_count = float(np.mean(Y))\n",
    "    median_count = float(np.median(Y))\n",
    "    total_samples = len(Y)\n",
    "\n",
    "    # Display basic statistics for the dataset\n",
    "    print(f\"\\nBasic statistics for {dataset_name} dataset:\")\n",
    "    print(f\"Max count: {max_count}\")\n",
    "    print(f\"Min count: {min_count}\")\n",
    "    print(f\"Mean count: {mean_count:.2f}\")\n",
    "    print(f\"Median count: {median_count:.2f}\")\n",
    "    print(f\"Total samples: {total_samples}\\n\")\n",
    "\n",
    "    # Calculate rectangles density - vectorized version\n",
    "    print(\"Calculating rectangle densities...\")\n",
    "    width = Rectangles[:, 2] - Rectangles[:, 0]\n",
    "    height = Rectangles[:, 3] - Rectangles[:, 1]\n",
    "    rectanglesDensity = np.abs(width * height / Surface_univ).reshape(-1, 1)\n",
    "    \n",
    "    # Prepare the dataset\n",
    "    # X = np.append(Rectangles, rectanglesDensity, axis=1)\n",
    "    X = Rectangles\n",
    "    \n",
    "    # Split the data into 80% train and 20% test\n",
    "    print(\"Splitting data into train and test sets...\")\n",
    "    X_train, X_test_all, y_train, y_test_all = train_test_split(X, Y, test_size=0.2, random_state=3)\n",
    "    \n",
    "    # Visualize the first 1000 rectangles (only if enabled)\n",
    "    if len(Rectangles) > 0 and VISUALIZE_RECTANGLES:\n",
    "        print(\"Visualizing rectangles sample...\")\n",
    "        plt.figure(figsize=(10, 8))\n",
    "        ax = plt.subplot()\n",
    "        \n",
    "        # Only visualize a sample to save time\n",
    "        sample_size = min(1000, len(Rectangles))\n",
    "        for i in range(sample_size):\n",
    "            x1, y1, x2, y2 = Rectangles[i]\n",
    "            color_val = float(rectanglesDensity[i][0]) if hasattr(rectanglesDensity[i], '__len__') else float(rectanglesDensity[i])\n",
    "            rectangle = patches.Rectangle((x1, y1), x2 - x1, y2 - y1, \n",
    "                                        linewidth=1, edgecolor='b', facecolor='none', alpha=min(1.0, color_val*10))\n",
    "            ax.add_patch(rectangle)\n",
    "            \n",
    "        plt.xlim(univ_xmin-20, univ_xmax+20)\n",
    "        plt.ylim(univ_ymin-10, univ_ymax+10)\n",
    "        plt.title(f\"Sample rectangles from {dataset_name}\")\n",
    "        plt.savefig(f\"../large_files/LearnedModels/contain/XGB/visualizations/{dataset_name}_rectangles.png\", dpi=150)\n",
    "        plt.close()  # Close to free memory instead of plt.show()\n",
    "    \n",
    "    # Adjust scales to the dataset size\n",
    "    max_size = len(X_train)\n",
    "    print(f\"Training set size: {max_size}\")\n",
    "\n",
    "    if use_multiple_scales:\n",
    "        # Use multiple scales as before\n",
    "        adjusted_scales = [s for s in scales if s <= max_size]\n",
    "        \n",
    "        # Add intermediate 1 million increments for large datasets\n",
    "        if max_size > 1000000:\n",
    "            million_increments = list(range(2000000, max_size, 1000000))\n",
    "            adjusted_scales.extend(million_increments)\n",
    "            \n",
    "        # Add the actual max size if it's not already in the list\n",
    "        if max_size not in adjusted_scales:\n",
    "            adjusted_scales.append(max_size)\n",
    "            \n",
    "        # Sort the scales to ensure they're in ascending order\n",
    "        adjusted_scales.sort()\n",
    "    else:\n",
    "        # Use only the maximum scale\n",
    "        adjusted_scales = [max_size]\n",
    "\n",
    "    # List to store dataset-specific results\n",
    "    dataset_results_list = []\n",
    "\n",
    "    # Store best parameters from max scale training to reuse\n",
    "    best_params = None\n",
    "    \n",
    "    # Process scales in reversed order (largest first)\n",
    "    for sample_size in reversed(adjusted_scales):\n",
    "        print(f\"\\nTraining with sample size: {sample_size}\")\n",
    "        monitor_memory()\n",
    "        \n",
    "        # Create training subset\n",
    "        X_train_sample = X_train[:sample_size, :]\n",
    "        y_train_sample = y_train[:sample_size]\n",
    "        \n",
    "        # XGBoost parameters - optimized for performance\n",
    "        params_xgb = {\n",
    "            \"max_depth\": [3, 5, 7],\n",
    "            \"learning_rate\": [0.01, 0.1, 0.3],\n",
    "            \"n_estimators\": [50, 100, 200]\n",
    "        }\n",
    "        \n",
    "        # For very large datasets, use smaller parameter grid\n",
    "        # if sample_size > 100000:\n",
    "        #     params_xgb = {\n",
    "        #         \"max_depth\": [5],\n",
    "        #         \"learning_rate\": [0.1],\n",
    "        #         \"n_estimators\": [100]\n",
    "        #     }\n",
    "            \n",
    "        # Only do GridSearch for the max scale\n",
    "        if sample_size == max_size or best_params is None:\n",
    "            print(\"Performing grid search for optimal parameters...\")\n",
    "            # Using tree_method='hist' for faster training\n",
    "            xgb_regressor = xgb.XGBRegressor(objective='reg:squarederror', \n",
    "                                           tree_method='hist', \n",
    "                                           random_state=3,\n",
    "                                           n_jobs=n_jobs)\n",
    "            xgb_cv = GridSearchCV(xgb_regressor, params_xgb, cv=3, n_jobs=1, verbose=1)  # Use n_jobs=1 as XGBoost uses parallel processing\n",
    "            \n",
    "            # Time the grid search\n",
    "            t1_start = process_time()\n",
    "            xgb_cv.fit(X_train_sample, y_train_sample.ravel())  # Use ravel for 1D array\n",
    "            t1_stop = process_time()\n",
    "            grid_search_time = t1_stop - t1_start\n",
    "            \n",
    "            # Store best parameters for reuse\n",
    "            best_params = xgb_cv.best_params_\n",
    "            print(f\"Grid search complete in {grid_search_time:.2f}s\")\n",
    "            print(f\"Best parameters: {best_params}\")\n",
    "        else:\n",
    "            # Skip grid search for smaller scales, use params from max scale\n",
    "            xgb_cv = None\n",
    "            grid_search_time = 0\n",
    "            print(f\"Using best parameters from max scale: {best_params}\")\n",
    "        \n",
    "        # Train the model with best parameters\n",
    "        print(\"Training XGBoost model...\")\n",
    "        # Using tree_method='hist' for faster training and better memory efficiency\n",
    "        xgb_regressor = xgb.XGBRegressor(objective='reg:squarederror',\n",
    "                                       tree_method='hist',\n",
    "                                       random_state=3,\n",
    "                                       n_jobs=n_jobs,\n",
    "                                       early_stopping_rounds=10,\n",
    "                                       **best_params)\n",
    "        \n",
    "        t2_start = process_time()\n",
    "        xgb_regressor.fit(X_train_sample, y_train_sample.ravel(), \n",
    "                        eval_set=[(X_train_sample[-min(1000, len(X_train_sample)):], \n",
    "                                 y_train_sample[-min(1000, len(X_train_sample)):].ravel())],\n",
    "                        verbose=False)\n",
    "        t2_stop = process_time()\n",
    "        training_time = t2_stop - t2_start\n",
    "        \n",
    "        # Make predictions\n",
    "        print(\"Making predictions...\")\n",
    "        y_pred = xgb_regressor.predict(X_test_all).reshape(-1, 1)  # Reshape to match y_test_all format\n",
    "        # Ensure no negative predictions\n",
    "        y_pred = np.maximum(y_pred, 0)\n",
    "        \n",
    "        # Calculate metrics\n",
    "        r2_score = xgb_regressor.score(X_test_all, y_test_all.ravel())\n",
    "        mae_value = MAE(y_test_all, y_pred)\n",
    "        mape_value = MAPE(y_test_all, y_pred)\n",
    "        \n",
    "        # Calculate q-score - vectorized version\n",
    "        print(\"Calculating performance metrics...\")\n",
    "        \n",
    "        # Vectorized q-score calculation\n",
    "        y_true_flat = y_test_all.flatten()\n",
    "        y_pred_flat = y_pred.flatten() if y_pred.ndim > 1 else y_pred\n",
    "        \n",
    "        # Find indices where both values are non-zero\n",
    "        valid_indices = (y_true_flat != 0) & (y_pred_flat != 0)\n",
    "        \n",
    "        if np.any(valid_indices):\n",
    "            ratios = np.maximum(\n",
    "                y_pred_flat[valid_indices] / y_true_flat[valid_indices],\n",
    "                y_true_flat[valid_indices] / y_pred_flat[valid_indices]\n",
    "            )\n",
    "            q_score_mean = np.mean(ratios)\n",
    "        else:\n",
    "            q_score_mean = 0\n",
    "        \n",
    "        # Time prediction performance (10 iterations)\n",
    "        print(\"Measuring prediction performance...\")\n",
    "        total_duration = 0\n",
    "        total_read = 0\n",
    "        total_write = 0\n",
    "        \n",
    "        for _ in range(10):\n",
    "            io_before = psutil.disk_io_counters()\n",
    "            t3_start = process_time()\n",
    "            preds = xgb_regressor.predict(X_test_all)\n",
    "            preds = np.maximum(preds, 0)  # Ensure no negative predictions\n",
    "            t3_stop = process_time()\n",
    "            io_after = psutil.disk_io_counters()\n",
    "            \n",
    "            total_duration += (t3_stop - t3_start)\n",
    "            total_read += io_after.read_count - io_before.read_count\n",
    "            total_write += io_after.write_count - io_before.write_count\n",
    "        \n",
    "        avg_pred_time_microsec = (total_duration / 10) / len(y_pred) * 1000000\n",
    "        avg_reads = total_read / 10 / len(y_pred)\n",
    "        avg_writes = total_write / 10 / len(y_pred)\n",
    "        \n",
    "        # Save the model using joblib instead of pickle for better efficiency\n",
    "        if SAVE_INTERMEDIATE_MODELS or sample_size == max_size:\n",
    "            print(\"Saving model...\")\n",
    "            filename = f'../large_files/LearnedModels/contain/XGB/{dataset_name}_xgb_{sample_size}_{training_time:.2f}s_{mape_value:.2%}_{mae_value:.2f}.joblib'\n",
    "            joblib.dump(xgb_regressor, filename, compress=3)\n",
    "            # Get model file size in KB\n",
    "            model_size_kb = os.path.getsize(filename) / 1024\n",
    "            print(f\"Model size: {model_size_kb:.2f} KB\")\n",
    "        else:\n",
    "            model_size_kb = 0  # Set to 0 if model wasn't saved\n",
    "        \n",
    "        # Print results\n",
    "        print(f\"\\nResults for {dataset_name}, Sample Size: {sample_size}\")\n",
    "        print(f\"Grid Search Time: {grid_search_time:.2f}s, Training Time: {training_time:.2f}s\")\n",
    "        print(f\"XGBoost Parameters: {best_params}\")\n",
    "        print(f\"Performance: R² = {r2_score:.4f}, MAE = {mae_value:.2f}, MAPE = {mape_value:.2%}\")\n",
    "        print(f\"q-score: {q_score_mean:.2f}\")\n",
    "        print(f\"Prediction time: {avg_pred_time_microsec:.4f} μs/sample\")\n",
    "        print(f\"I/O: Reads={avg_reads:.6f}, Writes={avg_writes:.6f}\")\n",
    "        print(\"-\" * 80)\n",
    "        \n",
    "        # Plot actual vs predicted only for the maximum scale\n",
    "        if sample_size == adjusted_scales[-1]:  # Check if this is the maximum scale\n",
    "            print(\"Generating prediction scatter plot...\")\n",
    "            plt.figure(figsize=(10, 8))\n",
    "            plt.scatter(y_test_all, y_pred, s=0.5, alpha=0.5)\n",
    "            plt.xlabel('True Values')\n",
    "            plt.ylabel('Predictions')\n",
    "            plt.title(f\"{dataset_name} - Sample Size: {sample_size} (Maximum)\")\n",
    "            plt.grid(True, alpha=0.3)\n",
    "            \n",
    "            # Add diagonal line for perfect predictions\n",
    "            max_val = max(np.max(y_test_all), np.max(y_pred))\n",
    "            plt.plot([0, max_val], [0, max_val], 'r--', alpha=0.5)\n",
    "            \n",
    "            plt.savefig(f\"../large_files/LearnedModels/contain/XGB/visualizations/{dataset_name}_{sample_size}_prediction.png\", dpi=150)\n",
    "            plt.close()  # Close to free memory\n",
    "            \n",
    "            # Plot feature importance\n",
    "            print(\"Generating feature importance plot...\")\n",
    "            plt.figure(figsize=(10, 6))\n",
    "            feature_names = ['X1', 'Y1', 'X2', 'Y2', 'Rectangle Density']\n",
    "            xgb.plot_importance(xgb_regressor, max_num_features=5)\n",
    "            plt.title(f\"Feature Importance - {dataset_name}\")\n",
    "            plt.tight_layout()\n",
    "            plt.savefig(f\"../large_files/LearnedModels/contain/XGB/visualizations/{dataset_name}_feature_importance.png\", dpi=150)\n",
    "            plt.close()\n",
    "            \n",
    "            # Create a scatter plot comparing predicted vs real values for first 100 rectangles\n",
    "            print(\"Generating side-by-side comparison plot...\")\n",
    "            \n",
    "            # Get predictions for first 100 test samples\n",
    "            sample_indices = range(min(100, len(X_test_all)))\n",
    "            X_sample = X_test_all[sample_indices]\n",
    "            y_sample_true = y_test_all[sample_indices].flatten()\n",
    "            y_sample_pred = xgb_regressor.predict(X_sample)\n",
    "            # Ensure no negative predictions\n",
    "            y_sample_pred = np.maximum(y_sample_pred, 0)\n",
    "            \n",
    "            plt.figure(figsize=(20, 10))\n",
    "            plt.scatter(range(len(sample_indices)), y_sample_pred, c='green', \n",
    "                        label='Predicted number of objects (XGBoost)', alpha=0.7, s=100)\n",
    "            plt.scatter(range(len(sample_indices)), y_sample_true, c='blue', \n",
    "                        label='Real number of objects', alpha=0.7, s=100)\n",
    "            \n",
    "            plt.title(f'{dataset_name} - First {len(sample_indices)} Rectangles: Predicted vs Real Values', fontsize=16)\n",
    "            plt.xlabel('Rectangle Index', fontsize=14)\n",
    "            plt.ylabel('Number of objects in rectangle', fontsize=14)\n",
    "            plt.legend(fontsize=12)\n",
    "            plt.grid(True, alpha=0.3)\n",
    "            plt.tight_layout()\n",
    "            \n",
    "            # Save the plot\n",
    "            plt.savefig(f\"../large_files/LearnedModels/contain/XGB/visualizations/{dataset_name}_comparison_plot.png\", dpi=150)\n",
    "            plt.close()\n",
    "        \n",
    "        # Store results in list (more efficient than DataFrame concat)\n",
    "        result_row = {\n",
    "            'Dataset': dataset_name,\n",
    "            'Sample_Size': sample_size,\n",
    "            'Training_Time': training_time,\n",
    "            'Best_Params': str(best_params),\n",
    "            'R2_Score': r2_score,\n",
    "            'MAE': mae_value,\n",
    "            'MAPE': float(mape_value),\n",
    "            'Q_Score': q_score_mean,\n",
    "            'Pred_Time_Microseconds': avg_pred_time_microsec,\n",
    "            'IO_Reads': avg_reads,\n",
    "            'IO_Writes': avg_writes,\n",
    "            'Model_Size_KB': model_size_kb,\n",
    "            'Max_Count': max_count,\n",
    "            'Min_Count': min_count,\n",
    "            'Mean_Count': mean_count,\n",
    "            'Median_Count': median_count,\n",
    "            'Total_Samples': total_samples\n",
    "        }\n",
    "        \n",
    "        dataset_results_list.append(result_row)\n",
    "        all_results_list.append(result_row)\n",
    "        \n",
    "        # Clean up to free memory\n",
    "        if sample_size != max_size:  # Don't delete for max size as we might need it\n",
    "            del X_train_sample, y_train_sample, xgb_regressor\n",
    "            gc.collect()\n",
    "    \n",
    "    # Save results for this dataset\n",
    "    print(f\"Saving results for {dataset_name}...\")\n",
    "    dataset_results = pd.DataFrame(dataset_results_list)\n",
    "    dataset_results.to_csv(f'../large_files/LearnedModels/contain/XGB/results/{dataset_name}_results.csv', index=False)\n",
    "    \n",
    "    # Clear memory before next dataset\n",
    "    del X_train, X_test_all, y_train, y_test_all, Rectangles, Y, rectanglesDensity\n",
    "    gc.collect()\n",
    "    \n",
    "# Save all results\n",
    "print(\"Saving combined results...\")\n",
    "all_results = pd.DataFrame(all_results_list)\n",
    "all_results.to_csv('../large_files/LearnedModels/contain/XGB/all_results.csv', index=False)\n",
    "\n",
    "print(\"All processing completed and results saved.\")\n",
    "monitor_memory()"
   ]
  }
 ],
 "metadata": {
  "kernelspec": {
   "display_name": "base",
   "language": "python",
   "name": "python3"
  },
  "language_info": {
   "codemirror_mode": {
    "name": "ipython",
    "version": 3
   },
   "file_extension": ".py",
   "mimetype": "text/x-python",
   "name": "python",
   "nbconvert_exporter": "python",
   "pygments_lexer": "ipython3",
   "version": "3.12.2"
  },
  "papermill": {
   "default_parameters": {},
   "duration": 1184.375274,
   "end_time": "2025-03-25T00:26:49.237482",
   "environment_variables": {},
   "exception": null,
   "input_path": "/home/adminlias/nadir/Spatial-Selectivity-Ext/contain_filter/xgBoostRegressor.ipynb",
   "output_path": "/home/adminlias/nadir/Spatial-Selectivity-Ext/contain_filter/output_xgBoostRegressor.ipynb",
   "parameters": {},
   "start_time": "2025-03-25T00:07:04.862208",
   "version": "2.6.0"
  },
  "widgets": {
   "application/vnd.jupyter.widget-state+json": {
    "state": {
     "0029685296e341338dc5a57314f8de4f": {
      "model_module": "@jupyter-widgets/controls",
      "model_module_version": "1.5.0",
      "model_name": "DescriptionStyleModel",
      "state": {
       "_model_module": "@jupyter-widgets/controls",
       "_model_module_version": "1.5.0",
       "_model_name": "DescriptionStyleModel",
       "_view_count": null,
       "_view_module": "@jupyter-widgets/base",
       "_view_module_version": "1.2.0",
       "_view_name": "StyleView",
       "description_width": ""
      }
     },
     "1659420d9df449baa8b742a480a7bdb4": {
      "model_module": "@jupyter-widgets/controls",
      "model_module_version": "1.5.0",
      "model_name": "HTMLModel",
      "state": {
       "_dom_classes": [],
       "_model_module": "@jupyter-widgets/controls",
       "_model_module_version": "1.5.0",
       "_model_name": "HTMLModel",
       "_view_count": null,
       "_view_module": "@jupyter-widgets/controls",
       "_view_module_version": "1.5.0",
       "_view_name": "HTMLView",
       "description": "",
       "description_tooltip": null,
       "layout": "IPY_MODEL_7a3c8438488847f4b7a1c4e126b0fd8a",
       "placeholder": "​",
       "style": "IPY_MODEL_0029685296e341338dc5a57314f8de4f",
       "value": " 14/14 [19:41&lt;00:00, 41.98s/it]"
      }
     },
     "2949a4d0e3584ec7bd027d62f0c891d3": {
      "model_module": "@jupyter-widgets/base",
      "model_module_version": "1.2.0",
      "model_name": "LayoutModel",
      "state": {
       "_model_module": "@jupyter-widgets/base",
       "_model_module_version": "1.2.0",
       "_model_name": "LayoutModel",
       "_view_count": null,
       "_view_module": "@jupyter-widgets/base",
       "_view_module_version": "1.2.0",
       "_view_name": "LayoutView",
       "align_content": null,
       "align_items": null,
       "align_self": null,
       "border": null,
       "bottom": null,
       "display": null,
       "flex": null,
       "flex_flow": null,
       "grid_area": null,
       "grid_auto_columns": null,
       "grid_auto_flow": null,
       "grid_auto_rows": null,
       "grid_column": null,
       "grid_gap": null,
       "grid_row": null,
       "grid_template_areas": null,
       "grid_template_columns": null,
       "grid_template_rows": null,
       "height": null,
       "justify_content": null,
       "justify_items": null,
       "left": null,
       "margin": null,
       "max_height": null,
       "max_width": null,
       "min_height": null,
       "min_width": null,
       "object_fit": null,
       "object_position": null,
       "order": null,
       "overflow": null,
       "overflow_x": null,
       "overflow_y": null,
       "padding": null,
       "right": null,
       "top": null,
       "visibility": null,
       "width": null
      }
     },
     "7a3c8438488847f4b7a1c4e126b0fd8a": {
      "model_module": "@jupyter-widgets/base",
      "model_module_version": "1.2.0",
      "model_name": "LayoutModel",
      "state": {
       "_model_module": "@jupyter-widgets/base",
       "_model_module_version": "1.2.0",
       "_model_name": "LayoutModel",
       "_view_count": null,
       "_view_module": "@jupyter-widgets/base",
       "_view_module_version": "1.2.0",
       "_view_name": "LayoutView",
       "align_content": null,
       "align_items": null,
       "align_self": null,
       "border": null,
       "bottom": null,
       "display": null,
       "flex": null,
       "flex_flow": null,
       "grid_area": null,
       "grid_auto_columns": null,
       "grid_auto_flow": null,
       "grid_auto_rows": null,
       "grid_column": null,
       "grid_gap": null,
       "grid_row": null,
       "grid_template_areas": null,
       "grid_template_columns": null,
       "grid_template_rows": null,
       "height": null,
       "justify_content": null,
       "justify_items": null,
       "left": null,
       "margin": null,
       "max_height": null,
       "max_width": null,
       "min_height": null,
       "min_width": null,
       "object_fit": null,
       "object_position": null,
       "order": null,
       "overflow": null,
       "overflow_x": null,
       "overflow_y": null,
       "padding": null,
       "right": null,
       "top": null,
       "visibility": null,
       "width": null
      }
     },
     "92f7cc7fc18947c484d74f9d86962ef4": {
      "model_module": "@jupyter-widgets/controls",
      "model_module_version": "1.5.0",
      "model_name": "DescriptionStyleModel",
      "state": {
       "_model_module": "@jupyter-widgets/controls",
       "_model_module_version": "1.5.0",
       "_model_name": "DescriptionStyleModel",
       "_view_count": null,
       "_view_module": "@jupyter-widgets/base",
       "_view_module_version": "1.2.0",
       "_view_name": "StyleView",
       "description_width": ""
      }
     },
     "9784cc3cf4e447e39b1de7ac13f89fef": {
      "model_module": "@jupyter-widgets/base",
      "model_module_version": "1.2.0",
      "model_name": "LayoutModel",
      "state": {
       "_model_module": "@jupyter-widgets/base",
       "_model_module_version": "1.2.0",
       "_model_name": "LayoutModel",
       "_view_count": null,
       "_view_module": "@jupyter-widgets/base",
       "_view_module_version": "1.2.0",
       "_view_name": "LayoutView",
       "align_content": null,
       "align_items": null,
       "align_self": null,
       "border": null,
       "bottom": null,
       "display": null,
       "flex": null,
       "flex_flow": null,
       "grid_area": null,
       "grid_auto_columns": null,
       "grid_auto_flow": null,
       "grid_auto_rows": null,
       "grid_column": null,
       "grid_gap": null,
       "grid_row": null,
       "grid_template_areas": null,
       "grid_template_columns": null,
       "grid_template_rows": null,
       "height": null,
       "justify_content": null,
       "justify_items": null,
       "left": null,
       "margin": null,
       "max_height": null,
       "max_width": null,
       "min_height": null,
       "min_width": null,
       "object_fit": null,
       "object_position": null,
       "order": null,
       "overflow": null,
       "overflow_x": null,
       "overflow_y": null,
       "padding": null,
       "right": null,
       "top": null,
       "visibility": null,
       "width": null
      }
     },
     "a138b1a95917482292990349bf4722a8": {
      "model_module": "@jupyter-widgets/controls",
      "model_module_version": "1.5.0",
      "model_name": "HTMLModel",
      "state": {
       "_dom_classes": [],
       "_model_module": "@jupyter-widgets/controls",
       "_model_module_version": "1.5.0",
       "_model_name": "HTMLModel",
       "_view_count": null,
       "_view_module": "@jupyter-widgets/controls",
       "_view_module_version": "1.5.0",
       "_view_name": "HTMLView",
       "description": "",
       "description_tooltip": null,
       "layout": "IPY_MODEL_b077c5e381e74715aa8a752d129e768a",
       "placeholder": "​",
       "style": "IPY_MODEL_92f7cc7fc18947c484d74f9d86962ef4",
       "value": "Processing datasets: 100%"
      }
     },
     "b077c5e381e74715aa8a752d129e768a": {
      "model_module": "@jupyter-widgets/base",
      "model_module_version": "1.2.0",
      "model_name": "LayoutModel",
      "state": {
       "_model_module": "@jupyter-widgets/base",
       "_model_module_version": "1.2.0",
       "_model_name": "LayoutModel",
       "_view_count": null,
       "_view_module": "@jupyter-widgets/base",
       "_view_module_version": "1.2.0",
       "_view_name": "LayoutView",
       "align_content": null,
       "align_items": null,
       "align_self": null,
       "border": null,
       "bottom": null,
       "display": null,
       "flex": null,
       "flex_flow": null,
       "grid_area": null,
       "grid_auto_columns": null,
       "grid_auto_flow": null,
       "grid_auto_rows": null,
       "grid_column": null,
       "grid_gap": null,
       "grid_row": null,
       "grid_template_areas": null,
       "grid_template_columns": null,
       "grid_template_rows": null,
       "height": null,
       "justify_content": null,
       "justify_items": null,
       "left": null,
       "margin": null,
       "max_height": null,
       "max_width": null,
       "min_height": null,
       "min_width": null,
       "object_fit": null,
       "object_position": null,
       "order": null,
       "overflow": null,
       "overflow_x": null,
       "overflow_y": null,
       "padding": null,
       "right": null,
       "top": null,
       "visibility": null,
       "width": null
      }
     },
     "ba500e4f17c74676aeb0e9c6280ff328": {
      "model_module": "@jupyter-widgets/controls",
      "model_module_version": "1.5.0",
      "model_name": "HBoxModel",
      "state": {
       "_dom_classes": [],
       "_model_module": "@jupyter-widgets/controls",
       "_model_module_version": "1.5.0",
       "_model_name": "HBoxModel",
       "_view_count": null,
       "_view_module": "@jupyter-widgets/controls",
       "_view_module_version": "1.5.0",
       "_view_name": "HBoxView",
       "box_style": "",
       "children": [
        "IPY_MODEL_a138b1a95917482292990349bf4722a8",
        "IPY_MODEL_dd90f8404eb149e597e3c8e2cc2746d4",
        "IPY_MODEL_1659420d9df449baa8b742a480a7bdb4"
       ],
       "layout": "IPY_MODEL_9784cc3cf4e447e39b1de7ac13f89fef"
      }
     },
     "dd90f8404eb149e597e3c8e2cc2746d4": {
      "model_module": "@jupyter-widgets/controls",
      "model_module_version": "1.5.0",
      "model_name": "FloatProgressModel",
      "state": {
       "_dom_classes": [],
       "_model_module": "@jupyter-widgets/controls",
       "_model_module_version": "1.5.0",
       "_model_name": "FloatProgressModel",
       "_view_count": null,
       "_view_module": "@jupyter-widgets/controls",
       "_view_module_version": "1.5.0",
       "_view_name": "ProgressView",
       "bar_style": "success",
       "description": "",
       "description_tooltip": null,
       "layout": "IPY_MODEL_2949a4d0e3584ec7bd027d62f0c891d3",
       "max": 14.0,
       "min": 0.0,
       "orientation": "horizontal",
       "style": "IPY_MODEL_f2cd852e05904ff689b8c5748836c95f",
       "value": 14.0
      }
     },
     "f2cd852e05904ff689b8c5748836c95f": {
      "model_module": "@jupyter-widgets/controls",
      "model_module_version": "1.5.0",
      "model_name": "ProgressStyleModel",
      "state": {
       "_model_module": "@jupyter-widgets/controls",
       "_model_module_version": "1.5.0",
       "_model_name": "ProgressStyleModel",
       "_view_count": null,
       "_view_module": "@jupyter-widgets/base",
       "_view_module_version": "1.2.0",
       "_view_name": "StyleView",
       "bar_color": null,
       "description_width": ""
      }
     }
    },
    "version_major": 2,
    "version_minor": 0
   }
  }
 },
 "nbformat": 4,
 "nbformat_minor": 5
}